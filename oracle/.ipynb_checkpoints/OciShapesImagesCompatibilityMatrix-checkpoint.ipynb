{
 "cells": [
  {
   "cell_type": "markdown",
   "id": "2c107e89-d3c3-489c-8402-c306f8224829",
   "metadata": {},
   "source": [
    "# Oracle OCI Shapes/Images Compatibility\n",
    "\n",
    "_This Jupyer notebook purpose is to list all OCI compute instances Shapes and their compatible images_"
   ]
  },
  {
   "cell_type": "markdown",
   "id": "68e817e4-2b26-4af6-bd6d-8330ff425eaf",
   "metadata": {},
   "source": [
    "_I use :_\n",
    "* _https://docs.oracle.com/en-us/iaas/Content/API/SDKDocs/typescriptsdk.htm_\n",
    "* _https://www.npmjs.com/package/oci-sdk_\n",
    "* _https://docs.public.oneportal.content.oci.oraclecloud.com/en-us/iaas/api/#/en/iaas/20160918/ImageShapeCompatibilityEntry/ListImageShapeCompatibilityEntries_\n",
    "* _https://docs.oracle.com/en-us/iaas/api/#/en/iaas/20160918/ImageShapeCompatibilityEntry/ListImageShapeCompatibilityEntries_\n",
    "* _https://docs.oracle.com/en/cloud/paas/integration-cloud/rest-api/Authentication.html_\n",
    "* _https://docs.oracle.com/en/cloud/paas/integration-cloud/rest-api/OAuth_useincalls.html_\n",
    "* _https://docs.oracle.com/en-us/iaas/Content/Compute/References/images.htm_\n",
    "* _Browse Oracle images: https://docs.oracle.com/en-us/iaas/images/_\n",
    "\n",
    "\n",
    "> The SDK services need two types of configuration: credentials and client-side HTTP settings.\n",
    "> First, you need to set up your credentials and config file. For instructions, see [SDK and CLI Configuration File](https://docs.oracle.com/en-us/iaas/Content/API/Concepts/sdkconfig.htm#SDK_and_CLI_Configuration_File).\n",
    "> The default configuration location is \"~/.oci/config\" and \"DEFAULT\" profile is used. You can use ConfigFileAuthenticationDetailsProvider with or without specifying the configuration location and profile name:"
   ]
  },
  {
   "cell_type": "markdown",
   "id": "d8aa84a3-d858-45bf-bd7b-e352222ae981",
   "metadata": {},
   "source": [
    "## _Content of the `~/.oci/config` file:_\n",
    "\n",
    "```\n",
    "[DEFAULT]\n",
    "user=ocid1.user.oc1..xxxxxxxxxxxxxxxxxxxxxxxxxxxxxxxxxxxxxxxxxxxxxxxxx\n",
    "fingerprint=7c:5c:65:4b:fc:c2:77:be:4e:0c:5c:9c:f0:34:89:9c\n",
    "key_file=~/.oci/clef_oracle_cloud.pem\n",
    "tenancy=ocid1.tenancy.oc1..xxxxxxxxxxxxxxxxxxxxxxxxxxxxxxxxxxxxxxxxxxx\n",
    "region=eu-paris-1\n",
    "```"
   ]
  },
  {
   "cell_type": "code",
   "execution_count": 2,
   "id": "30da9e7c-ff21-4630-8a00-95206577bc03",
   "metadata": {},
   "outputs": [],
   "source": [
    "import pl from \"npm:nodejs-polars\";\n",
    "import { display } from \"https://deno.land/x/display@v0.1.1/mod.ts\";\n",
    "// import * as identity from \"oci-sdk/node_modules/oci-identity\"; // Because the oci-sdk package is globally installed, you must update the import statements for oci-sdk's sub-packages when running the oci-typescript-sdk examples on GitHub. \n",
    "import * as oci from 'npm:oci-sdk'\n",
    "import * as core from \"npm:oci-core\";"
   ]
  },
  {
   "cell_type": "markdown",
   "id": "071386f9-9a47-40a3-a8ce-824f89af798f",
   "metadata": {},
   "source": [
    "### Let's start the code"
   ]
  },
  {
   "cell_type": "code",
   "execution_count": 3,
   "id": "4ddb35f1-3c98-486e-a320-91292ff08e2d",
   "metadata": {},
   "outputs": [],
   "source": [
    "// TypeScript\n",
    "// import common = require(\"oci-common\");\n",
    "const common = await import(\"npm:oci-common\");\n",
    "// Using default configuration\n",
    "// const provider: common.ConfigFileAuthenticationDetailsProvider = new common.ConfigFileAuthenticationDetailsProvider();\n",
    "// Using personal configuration\n",
    "const configurationFilePath = \"~/.oci/config\";\n",
    "const configProfile = \"DEFAULT\";\n",
    "const provider: common.ConfigFileAuthenticationDetailsProvider = new common.ConfigFileAuthenticationDetailsProvider(\n",
    "  configurationFilePath,\n",
    "  configProfile\n",
    ");"
   ]
  },
  {
   "cell_type": "markdown",
   "id": "9eda60a9-4980-4035-84f2-a7c518af01b8",
   "metadata": {},
   "source": [
    "_Now let's try the example code I found closes to what I want_\n",
    "\n",
    "> _source: https://docs.oracle.com/en-us/iaas/tools/typescript-sdk-examples/2.82.0/core/ListImageShapeCompatibilityEntries.ts.html_\n",
    "> _source: https://docs.oracle.com/en-us/iaas/tools/typescript/2.82.0/modules/_core_lib_request_list_image_shape_compatibility_entries_request_.html_\n",
    "> _source: https://docs.oracle.com/en-us/iaas/api/#/en/iaas/20160918/ImageShapeCompatibilityEntry/ListImageShapeCompatibilityEntries_"
   ]
  },
  {
   "cell_type": "code",
   "execution_count": 4,
   "id": "09074235-e68e-44e6-bbd4-69e53c2331fa",
   "metadata": {},
   "outputs": [
    {
     "name": "stdout",
     "output_type": "stream",
     "text": [
      "start\n",
      "The OciEnabledServiceSet is empty, all OCI services are enabled\n",
      "step 1 OK\n",
      "listImageShapeCompatibilityEntriesResponse: {\n",
      "  items: [\n",
      "    {\n",
      "      imageId: \u001b[32m\"ocid1.image.oc1.eu-paris-1.aaaaaaaalvbkaoybngg572c4ybw47avoyv2vk4raeus2bg4hyrbfuq4hmcuq\"\u001b[39m,\n",
      "      shape: \u001b[32m\"VM.DenseIO.E4.Flex\"\u001b[39m,\n",
      "      memoryConstraints: \u001b[90mundefined\u001b[39m,\n",
      "      ocpuConstraints: \u001b[90mundefined\u001b[39m\n",
      "    },\n",
      "    {\n",
      "      imageId: \u001b[32m\"ocid1.image.oc1.eu-paris-1.aaaaaaaalvbkaoybngg572c4ybw47avoyv2vk4raeus2bg4hyrbfuq4hmcuq\"\u001b[39m,\n",
      "      shape: \u001b[32m\"VM.DenseIO.E5.Flex\"\u001b[39m,\n",
      "      memoryConstraints: \u001b[90mundefined\u001b[39m,\n",
      "      ocpuConstraints: \u001b[90mundefined\u001b[39m\n",
      "    },\n",
      "    {\n",
      "      imageId: \u001b[32m\"ocid1.image.oc1.eu-paris-1.aaaaaaaalvbkaoybngg572c4ybw47avoyv2vk4raeus2bg4hyrbfuq4hmcuq\"\u001b[39m,\n",
      "      shape: \u001b[32m\"VM.DenseIO1.16\"\u001b[39m,\n",
      "      memoryConstraints: \u001b[90mundefined\u001b[39m,\n",
      "      ocpuConstraints: \u001b[90mundefined\u001b[39m\n",
      "    },\n",
      "    {\n",
      "      imageId: \u001b[32m\"ocid1.image.oc1.eu-paris-1.aaaaaaaalvbkaoybngg572c4ybw47avoyv2vk4raeus2bg4hyrbfuq4hmcuq\"\u001b[39m,\n",
      "      shape: \u001b[32m\"VM.DenseIO1.4\"\u001b[39m,\n",
      "      memoryConstraints: \u001b[90mundefined\u001b[39m,\n",
      "      ocpuConstraints: \u001b[90mundefined\u001b[39m\n",
      "    },\n",
      "    {\n",
      "      imageId: \u001b[32m\"ocid1.image.oc1.eu-paris-1.aaaaaaaalvbkaoybngg572c4ybw47avoyv2vk4raeus2bg4hyrbfuq4hmcuq\"\u001b[39m,\n",
      "      shape: \u001b[32m\"VM.DenseIO1.8\"\u001b[39m,\n",
      "      memoryConstraints: \u001b[90mundefined\u001b[39m,\n",
      "      ocpuConstraints: \u001b[90mundefined\u001b[39m\n",
      "    },\n",
      "    {\n",
      "      imageId: \u001b[32m\"ocid1.image.oc1.eu-paris-1.aaaaaaaalvbkaoybngg572c4ybw47avoyv2vk4raeus2bg4hyrbfuq4hmcuq\"\u001b[39m,\n",
      "      shape: \u001b[32m\"VM.DenseIO2.16\"\u001b[39m,\n",
      "      memoryConstraints: \u001b[90mundefined\u001b[39m,\n",
      "      ocpuConstraints: \u001b[90mundefined\u001b[39m\n",
      "    },\n",
      "    {\n",
      "      imageId: \u001b[32m\"ocid1.image.oc1.eu-paris-1.aaaaaaaalvbkaoybngg572c4ybw47avoyv2vk4raeus2bg4hyrbfuq4hmcuq\"\u001b[39m,\n",
      "      shape: \u001b[32m\"VM.DenseIO2.24\"\u001b[39m,\n",
      "      memoryConstraints: \u001b[90mundefined\u001b[39m,\n",
      "      ocpuConstraints: \u001b[90mundefined\u001b[39m\n",
      "    },\n",
      "    {\n",
      "      imageId: \u001b[32m\"ocid1.image.oc1.eu-paris-1.aaaaaaaalvbkaoybngg572c4ybw47avoyv2vk4raeus2bg4hyrbfuq4hmcuq\"\u001b[39m,\n",
      "      shape: \u001b[32m\"VM.DenseIO2.8\"\u001b[39m,\n",
      "      memoryConstraints: \u001b[90mundefined\u001b[39m,\n",
      "      ocpuConstraints: \u001b[90mundefined\u001b[39m\n",
      "    },\n",
      "    {\n",
      "      imageId: \u001b[32m\"ocid1.image.oc1.eu-paris-1.aaaaaaaalvbkaoybngg572c4ybw47avoyv2vk4raeus2bg4hyrbfuq4hmcuq\"\u001b[39m,\n",
      "      shape: \u001b[32m\"VM.GPU.A10.1\"\u001b[39m,\n",
      "      memoryConstraints: \u001b[90mundefined\u001b[39m,\n",
      "      ocpuConstraints: \u001b[90mundefined\u001b[39m\n",
      "    },\n",
      "    {\n",
      "      imageId: \u001b[32m\"ocid1.image.oc1.eu-paris-1.aaaaaaaalvbkaoybngg572c4ybw47avoyv2vk4raeus2bg4hyrbfuq4hmcuq\"\u001b[39m,\n",
      "      shape: \u001b[32m\"VM.GPU.A10.2\"\u001b[39m,\n",
      "      memoryConstraints: \u001b[90mundefined\u001b[39m,\n",
      "      ocpuConstraints: \u001b[90mundefined\u001b[39m\n",
      "    },\n",
      "    {\n",
      "      imageId: \u001b[32m\"ocid1.image.oc1.eu-paris-1.aaaaaaaalvbkaoybngg572c4ybw47avoyv2vk4raeus2bg4hyrbfuq4hmcuq\"\u001b[39m,\n",
      "      shape: \u001b[32m\"VM.GPU.GU1.1\"\u001b[39m,\n",
      "      memoryConstraints: \u001b[90mundefined\u001b[39m,\n",
      "      ocpuConstraints: \u001b[90mundefined\u001b[39m\n",
      "    },\n",
      "    {\n",
      "      imageId: \u001b[32m\"ocid1.image.oc1.eu-paris-1.aaaaaaaalvbkaoybngg572c4ybw47avoyv2vk4raeus2bg4hyrbfuq4hmcuq\"\u001b[39m,\n",
      "      shape: \u001b[32m\"VM.GPU.GU1.2\"\u001b[39m,\n",
      "      memoryConstraints: \u001b[90mundefined\u001b[39m,\n",
      "      ocpuConstraints: \u001b[90mundefined\u001b[39m\n",
      "    },\n",
      "    {\n",
      "      imageId: \u001b[32m\"ocid1.image.oc1.eu-paris-1.aaaaaaaalvbkaoybngg572c4ybw47avoyv2vk4raeus2bg4hyrbfuq4hmcuq\"\u001b[39m,\n",
      "      shape: \u001b[32m\"VM.GPU2.1\"\u001b[39m,\n",
      "      memoryConstraints: \u001b[90mundefined\u001b[39m,\n",
      "      ocpuConstraints: \u001b[90mundefined\u001b[39m\n",
      "    },\n",
      "    {\n",
      "      imageId: \u001b[32m\"ocid1.image.oc1.eu-paris-1.aaaaaaaalvbkaoybngg572c4ybw47avoyv2vk4raeus2bg4hyrbfuq4hmcuq\"\u001b[39m,\n",
      "      shape: \u001b[32m\"VM.GPU3.1\"\u001b[39m,\n",
      "      memoryConstraints: \u001b[90mundefined\u001b[39m,\n",
      "      ocpuConstraints: \u001b[90mundefined\u001b[39m\n",
      "    },\n",
      "    {\n",
      "      imageId: \u001b[32m\"ocid1.image.oc1.eu-paris-1.aaaaaaaalvbkaoybngg572c4ybw47avoyv2vk4raeus2bg4hyrbfuq4hmcuq\"\u001b[39m,\n",
      "      shape: \u001b[32m\"VM.GPU3.2\"\u001b[39m,\n",
      "      memoryConstraints: \u001b[90mundefined\u001b[39m,\n",
      "      ocpuConstraints: \u001b[90mundefined\u001b[39m\n",
      "    },\n",
      "    {\n",
      "      imageId: \u001b[32m\"ocid1.image.oc1.eu-paris-1.aaaaaaaalvbkaoybngg572c4ybw47avoyv2vk4raeus2bg4hyrbfuq4hmcuq\"\u001b[39m,\n",
      "      shape: \u001b[32m\"VM.GPU3.4\"\u001b[39m,\n",
      "      memoryConstraints: \u001b[90mundefined\u001b[39m,\n",
      "      ocpuConstraints: \u001b[90mundefined\u001b[39m\n",
      "    },\n",
      "    {\n",
      "      imageId: \u001b[32m\"ocid1.image.oc1.eu-paris-1.aaaaaaaalvbkaoybngg572c4ybw47avoyv2vk4raeus2bg4hyrbfuq4hmcuq\"\u001b[39m,\n",
      "      shape: \u001b[32m\"VM.Optimized3.Flex\"\u001b[39m,\n",
      "      memoryConstraints: \u001b[90mundefined\u001b[39m,\n",
      "      ocpuConstraints: \u001b[90mundefined\u001b[39m\n",
      "    },\n",
      "    {\n",
      "      imageId: \u001b[32m\"ocid1.image.oc1.eu-paris-1.aaaaaaaalvbkaoybngg572c4ybw47avoyv2vk4raeus2bg4hyrbfuq4hmcuq\"\u001b[39m,\n",
      "      shape: \u001b[32m\"VM.Standard.AMD.Generic\"\u001b[39m,\n",
      "      memoryConstraints: \u001b[90mundefined\u001b[39m,\n",
      "      ocpuConstraints: \u001b[90mundefined\u001b[39m\n",
      "    },\n",
      "    {\n",
      "      imageId: \u001b[32m\"ocid1.image.oc1.eu-paris-1.aaaaaaaalvbkaoybngg572c4ybw47avoyv2vk4raeus2bg4hyrbfuq4hmcuq\"\u001b[39m,\n",
      "      shape: \u001b[32m\"VM.Standard.E2.1\"\u001b[39m,\n",
      "      memoryConstraints: \u001b[90mundefined\u001b[39m,\n",
      "      ocpuConstraints: \u001b[90mundefined\u001b[39m\n",
      "    },\n",
      "    {\n",
      "      imageId: \u001b[32m\"ocid1.image.oc1.eu-paris-1.aaaaaaaalvbkaoybngg572c4ybw47avoyv2vk4raeus2bg4hyrbfuq4hmcuq\"\u001b[39m,\n",
      "      shape: \u001b[32m\"VM.Standard.E2.1.Micro\"\u001b[39m,\n",
      "      memoryConstraints: \u001b[90mundefined\u001b[39m,\n",
      "      ocpuConstraints: \u001b[90mundefined\u001b[39m\n",
      "    },\n",
      "    {\n",
      "      imageId: \u001b[32m\"ocid1.image.oc1.eu-paris-1.aaaaaaaalvbkaoybngg572c4ybw47avoyv2vk4raeus2bg4hyrbfuq4hmcuq\"\u001b[39m,\n",
      "      shape: \u001b[32m\"VM.Standard.E2.2\"\u001b[39m,\n",
      "      memoryConstraints: \u001b[90mundefined\u001b[39m,\n",
      "      ocpuConstraints: \u001b[90mundefined\u001b[39m\n",
      "    },\n",
      "    {\n",
      "      imageId: \u001b[32m\"ocid1.image.oc1.eu-paris-1.aaaaaaaalvbkaoybngg572c4ybw47avoyv2vk4raeus2bg4hyrbfuq4hmcuq\"\u001b[39m,\n",
      "      shape: \u001b[32m\"VM.Standard.E2.4\"\u001b[39m,\n",
      "      memoryConstraints: \u001b[90mundefined\u001b[39m,\n",
      "      ocpuConstraints: \u001b[90mundefined\u001b[39m\n",
      "    },\n",
      "    {\n",
      "      imageId: \u001b[32m\"ocid1.image.oc1.eu-paris-1.aaaaaaaalvbkaoybngg572c4ybw47avoyv2vk4raeus2bg4hyrbfuq4hmcuq\"\u001b[39m,\n",
      "      shape: \u001b[32m\"VM.Standard.E2.8\"\u001b[39m,\n",
      "      memoryConstraints: \u001b[90mundefined\u001b[39m,\n",
      "      ocpuConstraints: \u001b[90mundefined\u001b[39m\n",
      "    },\n",
      "    {\n",
      "      imageId: \u001b[32m\"ocid1.image.oc1.eu-paris-1.aaaaaaaalvbkaoybngg572c4ybw47avoyv2vk4raeus2bg4hyrbfuq4hmcuq\"\u001b[39m,\n",
      "      shape: \u001b[32m\"VM.Standard.E3.Flex\"\u001b[39m,\n",
      "      memoryConstraints: \u001b[90mundefined\u001b[39m,\n",
      "      ocpuConstraints: \u001b[90mundefined\u001b[39m\n",
      "    },\n",
      "    {\n",
      "      imageId: \u001b[32m\"ocid1.image.oc1.eu-paris-1.aaaaaaaalvbkaoybngg572c4ybw47avoyv2vk4raeus2bg4hyrbfuq4hmcuq\"\u001b[39m,\n",
      "      shape: \u001b[32m\"VM.Standard.E4.Flex\"\u001b[39m,\n",
      "      memoryConstraints: \u001b[90mundefined\u001b[39m,\n",
      "      ocpuConstraints: \u001b[90mundefined\u001b[39m\n",
      "    },\n",
      "    {\n",
      "      imageId: \u001b[32m\"ocid1.image.oc1.eu-paris-1.aaaaaaaalvbkaoybngg572c4ybw47avoyv2vk4raeus2bg4hyrbfuq4hmcuq\"\u001b[39m,\n",
      "      shape: \u001b[32m\"VM.Standard.E5.Flex\"\u001b[39m,\n",
      "      memoryConstraints: \u001b[90mundefined\u001b[39m,\n",
      "      ocpuConstraints: \u001b[90mundefined\u001b[39m\n",
      "    },\n",
      "    {\n",
      "      imageId: \u001b[32m\"ocid1.image.oc1.eu-paris-1.aaaaaaaalvbkaoybngg572c4ybw47avoyv2vk4raeus2bg4hyrbfuq4hmcuq\"\u001b[39m,\n",
      "      shape: \u001b[32m\"VM.Standard.Intel.Generic\"\u001b[39m,\n",
      "      memoryConstraints: \u001b[90mundefined\u001b[39m,\n",
      "      ocpuConstraints: \u001b[90mundefined\u001b[39m\n",
      "    },\n",
      "    {\n",
      "      imageId: \u001b[32m\"ocid1.image.oc1.eu-paris-1.aaaaaaaalvbkaoybngg572c4ybw47avoyv2vk4raeus2bg4hyrbfuq4hmcuq\"\u001b[39m,\n",
      "      shape: \u001b[32m\"VM.Standard.x86.Generic\"\u001b[39m,\n",
      "      memoryConstraints: \u001b[90mundefined\u001b[39m,\n",
      "      ocpuConstraints: \u001b[90mundefined\u001b[39m\n",
      "    },\n",
      "    {\n",
      "      imageId: \u001b[32m\"ocid1.image.oc1.eu-paris-1.aaaaaaaalvbkaoybngg572c4ybw47avoyv2vk4raeus2bg4hyrbfuq4hmcuq\"\u001b[39m,\n",
      "      shape: \u001b[32m\"VM.Standard1.1\"\u001b[39m,\n",
      "      memoryConstraints: \u001b[90mundefined\u001b[39m,\n",
      "      ocpuConstraints: \u001b[90mundefined\u001b[39m\n",
      "    },\n",
      "    {\n",
      "      imageId: \u001b[32m\"ocid1.image.oc1.eu-paris-1.aaaaaaaalvbkaoybngg572c4ybw47avoyv2vk4raeus2bg4hyrbfuq4hmcuq\"\u001b[39m,\n",
      "      shape: \u001b[32m\"VM.Standard1.16\"\u001b[39m,\n",
      "      memoryConstraints: \u001b[90mundefined\u001b[39m,\n",
      "      ocpuConstraints: \u001b[90mundefined\u001b[39m\n",
      "    },\n",
      "    {\n",
      "      imageId: \u001b[32m\"ocid1.image.oc1.eu-paris-1.aaaaaaaalvbkaoybngg572c4ybw47avoyv2vk4raeus2bg4hyrbfuq4hmcuq\"\u001b[39m,\n",
      "      shape: \u001b[32m\"VM.Standard1.2\"\u001b[39m,\n",
      "      memoryConstraints: \u001b[90mundefined\u001b[39m,\n",
      "      ocpuConstraints: \u001b[90mundefined\u001b[39m\n",
      "    },\n",
      "    {\n",
      "      imageId: \u001b[32m\"ocid1.image.oc1.eu-paris-1.aaaaaaaalvbkaoybngg572c4ybw47avoyv2vk4raeus2bg4hyrbfuq4hmcuq\"\u001b[39m,\n",
      "      shape: \u001b[32m\"VM.Standard1.4\"\u001b[39m,\n",
      "      memoryConstraints: \u001b[90mundefined\u001b[39m,\n",
      "      ocpuConstraints: \u001b[90mundefined\u001b[39m\n",
      "    },\n",
      "    {\n",
      "      imageId: \u001b[32m\"ocid1.image.oc1.eu-paris-1.aaaaaaaalvbkaoybngg572c4ybw47avoyv2vk4raeus2bg4hyrbfuq4hmcuq\"\u001b[39m,\n",
      "      shape: \u001b[32m\"VM.Standard1.8\"\u001b[39m,\n",
      "      memoryConstraints: \u001b[90mundefined\u001b[39m,\n",
      "      ocpuConstraints: \u001b[90mundefined\u001b[39m\n",
      "    },\n",
      "    {\n",
      "      imageId: \u001b[32m\"ocid1.image.oc1.eu-paris-1.aaaaaaaalvbkaoybngg572c4ybw47avoyv2vk4raeus2bg4hyrbfuq4hmcuq\"\u001b[39m,\n",
      "      shape: \u001b[32m\"VM.Standard2.1\"\u001b[39m,\n",
      "      memoryConstraints: \u001b[90mundefined\u001b[39m,\n",
      "      ocpuConstraints: \u001b[90mundefined\u001b[39m\n",
      "    },\n",
      "    {\n",
      "      imageId: \u001b[32m\"ocid1.image.oc1.eu-paris-1.aaaaaaaalvbkaoybngg572c4ybw47avoyv2vk4raeus2bg4hyrbfuq4hmcuq\"\u001b[39m,\n",
      "      shape: \u001b[32m\"VM.Standard2.16\"\u001b[39m,\n",
      "      memoryConstraints: \u001b[90mundefined\u001b[39m,\n",
      "      ocpuConstraints: \u001b[90mundefined\u001b[39m\n",
      "    },\n",
      "    {\n",
      "      imageId: \u001b[32m\"ocid1.image.oc1.eu-paris-1.aaaaaaaalvbkaoybngg572c4ybw47avoyv2vk4raeus2bg4hyrbfuq4hmcuq\"\u001b[39m,\n",
      "      shape: \u001b[32m\"VM.Standard2.2\"\u001b[39m,\n",
      "      memoryConstraints: \u001b[90mundefined\u001b[39m,\n",
      "      ocpuConstraints: \u001b[90mundefined\u001b[39m\n",
      "    },\n",
      "    {\n",
      "      imageId: \u001b[32m\"ocid1.image.oc1.eu-paris-1.aaaaaaaalvbkaoybngg572c4ybw47avoyv2vk4raeus2bg4hyrbfuq4hmcuq\"\u001b[39m,\n",
      "      shape: \u001b[32m\"VM.Standard2.24\"\u001b[39m,\n",
      "      memoryConstraints: \u001b[90mundefined\u001b[39m,\n",
      "      ocpuConstraints: \u001b[90mundefined\u001b[39m\n",
      "    },\n",
      "    {\n",
      "      imageId: \u001b[32m\"ocid1.image.oc1.eu-paris-1.aaaaaaaalvbkaoybngg572c4ybw47avoyv2vk4raeus2bg4hyrbfuq4hmcuq\"\u001b[39m,\n",
      "      shape: \u001b[32m\"VM.Standard2.4\"\u001b[39m,\n",
      "      memoryConstraints: \u001b[90mundefined\u001b[39m,\n",
      "      ocpuConstraints: \u001b[90mundefined\u001b[39m\n",
      "    },\n",
      "    {\n",
      "      imageId: \u001b[32m\"ocid1.image.oc1.eu-paris-1.aaaaaaaalvbkaoybngg572c4ybw47avoyv2vk4raeus2bg4hyrbfuq4hmcuq\"\u001b[39m,\n",
      "      shape: \u001b[32m\"VM.Standard2.8\"\u001b[39m,\n",
      "      memoryConstraints: \u001b[90mundefined\u001b[39m,\n",
      "      ocpuConstraints: \u001b[90mundefined\u001b[39m\n",
      "    },\n",
      "    {\n",
      "      imageId: \u001b[32m\"ocid1.image.oc1.eu-paris-1.aaaaaaaalvbkaoybngg572c4ybw47avoyv2vk4raeus2bg4hyrbfuq4hmcuq\"\u001b[39m,\n",
      "      shape: \u001b[32m\"VM.Standard2.Flex\"\u001b[39m,\n",
      "      memoryConstraints: \u001b[90mundefined\u001b[39m,\n",
      "      ocpuConstraints: \u001b[90mundefined\u001b[39m\n",
      "    },\n",
      "    {\n",
      "      imageId: \u001b[32m\"ocid1.image.oc1.eu-paris-1.aaaaaaaalvbkaoybngg572c4ybw47avoyv2vk4raeus2bg4hyrbfuq4hmcuq\"\u001b[39m,\n",
      "      shape: \u001b[32m\"VM.Standard3.Flex\"\u001b[39m,\n",
      "      memoryConstraints: \u001b[90mundefined\u001b[39m,\n",
      "      ocpuConstraints: \u001b[90mundefined\u001b[39m\n",
      "    },\n",
      "    {\n",
      "      imageId: \u001b[32m\"ocid1.image.oc1.eu-paris-1.aaaaaaaalvbkaoybngg572c4ybw47avoyv2vk4raeus2bg4hyrbfuq4hmcuq\"\u001b[39m,\n",
      "      shape: \u001b[32m\"BM.Standard.E2.64\"\u001b[39m,\n",
      "      memoryConstraints: \u001b[90mundefined\u001b[39m,\n",
      "      ocpuConstraints: \u001b[90mundefined\u001b[39m\n",
      "    },\n",
      "    {\n",
      "      imageId: \u001b[32m\"ocid1.image.oc1.eu-paris-1.aaaaaaaalvbkaoybngg572c4ybw47avoyv2vk4raeus2bg4hyrbfuq4hmcuq\"\u001b[39m,\n",
      "      shape: \u001b[32m\"BM.Standard.E3.128\"\u001b[39m,\n",
      "      memoryConstraints: \u001b[90mundefined\u001b[39m,\n",
      "      ocpuConstraints: \u001b[90mundefined\u001b[39m\n",
      "    },\n",
      "    {\n",
      "      imageId: \u001b[32m\"ocid1.image.oc1.eu-paris-1.aaaaaaaalvbkaoybngg572c4ybw47avoyv2vk4raeus2bg4hyrbfuq4hmcuq\"\u001b[39m,\n",
      "      shape: \u001b[32m\"BM.GPU4.8\"\u001b[39m,\n",
      "      memoryConstraints: \u001b[90mundefined\u001b[39m,\n",
      "      ocpuConstraints: \u001b[90mundefined\u001b[39m\n",
      "    },\n",
      "    {\n",
      "      imageId: \u001b[32m\"ocid1.image.oc1.eu-paris-1.aaaaaaaalvbkaoybngg572c4ybw47avoyv2vk4raeus2bg4hyrbfuq4hmcuq\"\u001b[39m,\n",
      "      shape: \u001b[32m\"BM.Standard.E4.128\"\u001b[39m,\n",
      "      memoryConstraints: \u001b[90mundefined\u001b[39m,\n",
      "      ocpuConstraints: \u001b[90mundefined\u001b[39m\n",
      "    },\n",
      "    {\n",
      "      imageId: \u001b[32m\"ocid1.image.oc1.eu-paris-1.aaaaaaaalvbkaoybngg572c4ybw47avoyv2vk4raeus2bg4hyrbfuq4hmcuq\"\u001b[39m,\n",
      "      shape: \u001b[32m\"BM.GPU.A100-v2.8\"\u001b[39m,\n",
      "      memoryConstraints: \u001b[90mundefined\u001b[39m,\n",
      "      ocpuConstraints: \u001b[90mundefined\u001b[39m\n",
      "    },\n",
      "    {\n",
      "      imageId: \u001b[32m\"ocid1.image.oc1.eu-paris-1.aaaaaaaalvbkaoybngg572c4ybw47avoyv2vk4raeus2bg4hyrbfuq4hmcuq\"\u001b[39m,\n",
      "      shape: \u001b[32m\"BM.DenseIO.E4.128\"\u001b[39m,\n",
      "      memoryConstraints: \u001b[90mundefined\u001b[39m,\n",
      "      ocpuConstraints: \u001b[90mundefined\u001b[39m\n",
      "    },\n",
      "    {\n",
      "      imageId: \u001b[32m\"ocid1.image.oc1.eu-paris-1.aaaaaaaalvbkaoybngg572c4ybw47avoyv2vk4raeus2bg4hyrbfuq4hmcuq\"\u001b[39m,\n",
      "      shape: \u001b[32m\"BM.DenseIO.E5.128\"\u001b[39m,\n",
      "      memoryConstraints: \u001b[90mundefined\u001b[39m,\n",
      "      ocpuConstraints: \u001b[90mundefined\u001b[39m\n",
      "    },\n",
      "    {\n",
      "      imageId: \u001b[32m\"ocid1.image.oc1.eu-paris-1.aaaaaaaalvbkaoybngg572c4ybw47avoyv2vk4raeus2bg4hyrbfuq4hmcuq\"\u001b[39m,\n",
      "      shape: \u001b[32m\"BM.Standard.E5.192\"\u001b[39m,\n",
      "      memoryConstraints: \u001b[90mundefined\u001b[39m,\n",
      "      ocpuConstraints: \u001b[90mundefined\u001b[39m\n",
      "    },\n",
      "    {\n",
      "      imageId: \u001b[32m\"ocid1.image.oc1.eu-paris-1.aaaaaaaalvbkaoybngg572c4ybw47avoyv2vk4raeus2bg4hyrbfuq4hmcuq\"\u001b[39m,\n",
      "      shape: \u001b[32m\"BM.Standard1.36\"\u001b[39m,\n",
      "      memoryConstraints: \u001b[90mundefined\u001b[39m,\n",
      "      ocpuConstraints: \u001b[90mundefined\u001b[39m\n",
      "    },\n",
      "    {\n",
      "      imageId: \u001b[32m\"ocid1.image.oc1.eu-paris-1.aaaaaaaalvbkaoybngg572c4ybw47avoyv2vk4raeus2bg4hyrbfuq4hmcuq\"\u001b[39m,\n",
      "      shape: \u001b[32m\"BM.HighIO1.36\"\u001b[39m,\n",
      "      memoryConstraints: \u001b[90mundefined\u001b[39m,\n",
      "      ocpuConstraints: \u001b[90mundefined\u001b[39m\n",
      "    },\n",
      "    {\n",
      "      imageId: \u001b[32m\"ocid1.image.oc1.eu-paris-1.aaaaaaaalvbkaoybngg572c4ybw47avoyv2vk4raeus2bg4hyrbfuq4hmcuq\"\u001b[39m,\n",
      "      shape: \u001b[32m\"BM.DenseIO1.36\"\u001b[39m,\n",
      "      memoryConstraints: \u001b[90mundefined\u001b[39m,\n",
      "      ocpuConstraints: \u001b[90mundefined\u001b[39m\n",
      "    },\n",
      "    {\n",
      "      imageId: \u001b[32m\"ocid1.image.oc1.eu-paris-1.aaaaaaaalvbkaoybngg572c4ybw47avoyv2vk4raeus2bg4hyrbfuq4hmcuq\"\u001b[39m,\n",
      "      shape: \u001b[32m\"BM.GPU2.2\"\u001b[39m,\n",
      "      memoryConstraints: \u001b[90mundefined\u001b[39m,\n",
      "      ocpuConstraints: \u001b[90mundefined\u001b[39m\n",
      "    },\n",
      "    {\n",
      "      imageId: \u001b[32m\"ocid1.image.oc1.eu-paris-1.aaaaaaaalvbkaoybngg572c4ybw47avoyv2vk4raeus2bg4hyrbfuq4hmcuq\"\u001b[39m,\n",
      "      shape: \u001b[32m\"BM.HPC2.36\"\u001b[39m,\n",
      "      memoryConstraints: \u001b[90mundefined\u001b[39m,\n",
      "      ocpuConstraints: \u001b[90mundefined\u001b[39m\n",
      "    },\n",
      "    {\n",
      "      imageId: \u001b[32m\"ocid1.image.oc1.eu-paris-1.aaaaaaaalvbkaoybngg572c4ybw47avoyv2vk4raeus2bg4hyrbfuq4hmcuq\"\u001b[39m,\n",
      "      shape: \u001b[32m\"BM.Standard2.52\"\u001b[39m,\n",
      "      memoryConstraints: \u001b[90mundefined\u001b[39m,\n",
      "      ocpuConstraints: \u001b[90mundefined\u001b[39m\n",
      "    },\n",
      "    {\n",
      "      imageId: \u001b[32m\"ocid1.image.oc1.eu-paris-1.aaaaaaaalvbkaoybngg572c4ybw47avoyv2vk4raeus2bg4hyrbfuq4hmcuq\"\u001b[39m,\n",
      "      shape: \u001b[32m\"BM.GPU3.8\"\u001b[39m,\n",
      "      memoryConstraints: \u001b[90mundefined\u001b[39m,\n",
      "      ocpuConstraints: \u001b[90mundefined\u001b[39m\n",
      "    },\n",
      "    {\n",
      "      imageId: \u001b[32m\"ocid1.image.oc1.eu-paris-1.aaaaaaaalvbkaoybngg572c4ybw47avoyv2vk4raeus2bg4hyrbfuq4hmcuq\"\u001b[39m,\n",
      "      shape: \u001b[32m\"BM.DenseIO2.52\"\u001b[39m,\n",
      "      memoryConstraints: \u001b[90mundefined\u001b[39m,\n",
      "      ocpuConstraints: \u001b[90mundefined\u001b[39m\n",
      "    },\n",
      "    {\n",
      "      imageId: \u001b[32m\"ocid1.image.oc1.eu-paris-1.aaaaaaaalvbkaoybngg572c4ybw47avoyv2vk4raeus2bg4hyrbfuq4hmcuq\"\u001b[39m,\n",
      "      shape: \u001b[32m\"BM.Optimized3.36\"\u001b[39m,\n",
      "      memoryConstraints: \u001b[90mundefined\u001b[39m,\n",
      "      ocpuConstraints: \u001b[90mundefined\u001b[39m\n",
      "    },\n",
      "    {\n",
      "      imageId: \u001b[32m\"ocid1.image.oc1.eu-paris-1.aaaaaaaalvbkaoybngg572c4ybw47avoyv2vk4raeus2bg4hyrbfuq4hmcuq\"\u001b[39m,\n",
      "      shape: \u001b[32m\"BM.Standard3.64\"\u001b[39m,\n",
      "      memoryConstraints: \u001b[90mundefined\u001b[39m,\n",
      "      ocpuConstraints: \u001b[90mundefined\u001b[39m\n",
      "    },\n",
      "    {\n",
      "      imageId: \u001b[32m\"ocid1.image.oc1.eu-paris-1.aaaaaaaalvbkaoybngg572c4ybw47avoyv2vk4raeus2bg4hyrbfuq4hmcuq\"\u001b[39m,\n",
      "      shape: \u001b[32m\"BM.GPU.A10.4\"\u001b[39m,\n",
      "      memoryConstraints: \u001b[90mundefined\u001b[39m,\n",
      "      ocpuConstraints: \u001b[90mundefined\u001b[39m\n",
      "    }\n",
      "  ],\n",
      "  opcRequestId: \u001b[32m\"8EB40410E18B-11EE-B6B0-63B883BEA/9A1B1E182C942A1DAC2D13AA104818FB/C565A08185F5F216C3D532818EF3964A\"\u001b[39m\n",
      "}\n"
     ]
    }
   ],
   "source": [
    "// This is an automatically generated code sample.\n",
    "// To make this code sample work in your Oracle Cloud tenancy,\n",
    "// please replace the values for any parameters whose current values do not fit\n",
    "// your use case (such as resource IDs, strings containing ‘EXAMPLE’ or ‘unique_id’, and\n",
    "// boolean, number, and enum parameters with values not fitting your use case).\n",
    "\n",
    "// import * as core from \"npm:oci-core\"; // replaced by import * as oci from 'npm:oci-sdk'\n",
    "\n",
    "\n",
    "// Create a default authentication provider that uses the DEFAULT\n",
    "// profile in the configuration file.\n",
    "// Refer to <see href=\"https://docs.cloud.oracle.com/en-us/iaas/Content/API/Concepts/sdkconfig.htm#SDK_and_CLI_Configuration_File>the public documentation</see> on how to prepare a configuration file.\n",
    "\n",
    "\n",
    "const asnwer = await (async () => {\n",
    "  try {\n",
    "    console.log(`start`)\n",
    "    // Create a service client\n",
    "    const client = new core.ComputeClient({ authenticationDetailsProvider: provider });\n",
    "    console.log(`step 1 OK`)\n",
    "    // Create a request and dependent object(s).\n",
    "    const listImageShapeCompatibilityEntriesRequest: core.requests.ListImageShapeCompatibilityEntriesRequest = {\n",
    "      imageId: \"ocid1.image.oc1.eu-paris-1.aaaaaaaalvbkaoybngg572c4ybw47avoyv2vk4raeus2bg4hyrbfuq4hmcuq\",\n",
    "      limit: 940,\n",
    "      // page: \"EXAMPLE-page-Value\", // not required\n",
    "      // opcRequestId: \"BE75GWIJDJ93EQGMRQKK<unique_ID>\" // not required, see https://docs.oracle.com/en-us/iaas/api/#/en/iaas/20160918/ImageShapeCompatibilityEntry/ListImageShapeCompatibilityEntries\n",
    "    };\n",
    "\n",
    "    // Send request to the Client.\n",
    "    const listImageShapeCompatibilityEntriesResponse = await client.listImageShapeCompatibilityEntries(\n",
    "      listImageShapeCompatibilityEntriesRequest\n",
    "    );\n",
    "    console.log(`listImageShapeCompatibilityEntriesResponse:`, listImageShapeCompatibilityEntriesResponse)\n",
    "    // return listImageShapeCompatibilityEntriesResponse;\n",
    "  } catch (error) {\n",
    "    console.log(\"listImageShapeCompatibilityEntries Failed with error  \" + error);\n",
    "  }\n",
    "})();"
   ]
  },
  {
   "cell_type": "code",
   "execution_count": 5,
   "id": "9108cd81-a043-4e93-bb4c-cb67eaf480e3",
   "metadata": {},
   "outputs": [
    {
     "name": "stdout",
     "output_type": "stream",
     "text": [
      "start\n",
      "The OciEnabledServiceSet is empty, all OCI services are enabled\n",
      "step 1 OK\n"
     ]
    },
    {
     "data": {
      "application/vnd.dataresource+json": {
       "data": [
        {
         "imageId": "ocid1.image.oc1.eu-paris-1.aaaaaaaalvbkaoybngg572c4ybw47avoyv2vk4raeus2bg4hyrbfuq4hmcuq",
         "shape": "VM.DenseIO.E4.Flex"
        },
        {
         "imageId": "ocid1.image.oc1.eu-paris-1.aaaaaaaalvbkaoybngg572c4ybw47avoyv2vk4raeus2bg4hyrbfuq4hmcuq",
         "shape": "VM.DenseIO.E5.Flex"
        },
        {
         "imageId": "ocid1.image.oc1.eu-paris-1.aaaaaaaalvbkaoybngg572c4ybw47avoyv2vk4raeus2bg4hyrbfuq4hmcuq",
         "shape": "VM.DenseIO1.16"
        },
        {
         "imageId": "ocid1.image.oc1.eu-paris-1.aaaaaaaalvbkaoybngg572c4ybw47avoyv2vk4raeus2bg4hyrbfuq4hmcuq",
         "shape": "VM.DenseIO1.4"
        },
        {
         "imageId": "ocid1.image.oc1.eu-paris-1.aaaaaaaalvbkaoybngg572c4ybw47avoyv2vk4raeus2bg4hyrbfuq4hmcuq",
         "shape": "VM.DenseIO1.8"
        },
        {
         "imageId": "ocid1.image.oc1.eu-paris-1.aaaaaaaalvbkaoybngg572c4ybw47avoyv2vk4raeus2bg4hyrbfuq4hmcuq",
         "shape": "VM.DenseIO2.16"
        },
        {
         "imageId": "ocid1.image.oc1.eu-paris-1.aaaaaaaalvbkaoybngg572c4ybw47avoyv2vk4raeus2bg4hyrbfuq4hmcuq",
         "shape": "VM.DenseIO2.24"
        },
        {
         "imageId": "ocid1.image.oc1.eu-paris-1.aaaaaaaalvbkaoybngg572c4ybw47avoyv2vk4raeus2bg4hyrbfuq4hmcuq",
         "shape": "VM.DenseIO2.8"
        },
        {
         "imageId": "ocid1.image.oc1.eu-paris-1.aaaaaaaalvbkaoybngg572c4ybw47avoyv2vk4raeus2bg4hyrbfuq4hmcuq",
         "shape": "VM.GPU.A10.1"
        },
        {
         "imageId": "ocid1.image.oc1.eu-paris-1.aaaaaaaalvbkaoybngg572c4ybw47avoyv2vk4raeus2bg4hyrbfuq4hmcuq",
         "shape": "VM.GPU.A10.2"
        },
        {
         "imageId": "ocid1.image.oc1.eu-paris-1.aaaaaaaalvbkaoybngg572c4ybw47avoyv2vk4raeus2bg4hyrbfuq4hmcuq",
         "shape": "VM.GPU.GU1.1"
        },
        {
         "imageId": "ocid1.image.oc1.eu-paris-1.aaaaaaaalvbkaoybngg572c4ybw47avoyv2vk4raeus2bg4hyrbfuq4hmcuq",
         "shape": "VM.GPU.GU1.2"
        },
        {
         "imageId": "ocid1.image.oc1.eu-paris-1.aaaaaaaalvbkaoybngg572c4ybw47avoyv2vk4raeus2bg4hyrbfuq4hmcuq",
         "shape": "VM.GPU2.1"
        },
        {
         "imageId": "ocid1.image.oc1.eu-paris-1.aaaaaaaalvbkaoybngg572c4ybw47avoyv2vk4raeus2bg4hyrbfuq4hmcuq",
         "shape": "VM.GPU3.1"
        },
        {
         "imageId": "ocid1.image.oc1.eu-paris-1.aaaaaaaalvbkaoybngg572c4ybw47avoyv2vk4raeus2bg4hyrbfuq4hmcuq",
         "shape": "VM.GPU3.2"
        },
        {
         "imageId": "ocid1.image.oc1.eu-paris-1.aaaaaaaalvbkaoybngg572c4ybw47avoyv2vk4raeus2bg4hyrbfuq4hmcuq",
         "shape": "VM.GPU3.4"
        },
        {
         "imageId": "ocid1.image.oc1.eu-paris-1.aaaaaaaalvbkaoybngg572c4ybw47avoyv2vk4raeus2bg4hyrbfuq4hmcuq",
         "shape": "VM.Optimized3.Flex"
        },
        {
         "imageId": "ocid1.image.oc1.eu-paris-1.aaaaaaaalvbkaoybngg572c4ybw47avoyv2vk4raeus2bg4hyrbfuq4hmcuq",
         "shape": "VM.Standard.AMD.Generic"
        },
        {
         "imageId": "ocid1.image.oc1.eu-paris-1.aaaaaaaalvbkaoybngg572c4ybw47avoyv2vk4raeus2bg4hyrbfuq4hmcuq",
         "shape": "VM.Standard.E2.1"
        },
        {
         "imageId": "ocid1.image.oc1.eu-paris-1.aaaaaaaalvbkaoybngg572c4ybw47avoyv2vk4raeus2bg4hyrbfuq4hmcuq",
         "shape": "VM.Standard.E2.1.Micro"
        },
        {
         "imageId": "ocid1.image.oc1.eu-paris-1.aaaaaaaalvbkaoybngg572c4ybw47avoyv2vk4raeus2bg4hyrbfuq4hmcuq",
         "shape": "VM.Standard.E2.2"
        },
        {
         "imageId": "ocid1.image.oc1.eu-paris-1.aaaaaaaalvbkaoybngg572c4ybw47avoyv2vk4raeus2bg4hyrbfuq4hmcuq",
         "shape": "VM.Standard.E2.4"
        },
        {
         "imageId": "ocid1.image.oc1.eu-paris-1.aaaaaaaalvbkaoybngg572c4ybw47avoyv2vk4raeus2bg4hyrbfuq4hmcuq",
         "shape": "VM.Standard.E2.8"
        },
        {
         "imageId": "ocid1.image.oc1.eu-paris-1.aaaaaaaalvbkaoybngg572c4ybw47avoyv2vk4raeus2bg4hyrbfuq4hmcuq",
         "shape": "VM.Standard.E3.Flex"
        },
        {
         "imageId": "ocid1.image.oc1.eu-paris-1.aaaaaaaalvbkaoybngg572c4ybw47avoyv2vk4raeus2bg4hyrbfuq4hmcuq",
         "shape": "VM.Standard.E4.Flex"
        },
        {
         "imageId": "ocid1.image.oc1.eu-paris-1.aaaaaaaalvbkaoybngg572c4ybw47avoyv2vk4raeus2bg4hyrbfuq4hmcuq",
         "shape": "VM.Standard.E5.Flex"
        },
        {
         "imageId": "ocid1.image.oc1.eu-paris-1.aaaaaaaalvbkaoybngg572c4ybw47avoyv2vk4raeus2bg4hyrbfuq4hmcuq",
         "shape": "VM.Standard.Intel.Generic"
        },
        {
         "imageId": "ocid1.image.oc1.eu-paris-1.aaaaaaaalvbkaoybngg572c4ybw47avoyv2vk4raeus2bg4hyrbfuq4hmcuq",
         "shape": "VM.Standard.x86.Generic"
        },
        {
         "imageId": "ocid1.image.oc1.eu-paris-1.aaaaaaaalvbkaoybngg572c4ybw47avoyv2vk4raeus2bg4hyrbfuq4hmcuq",
         "shape": "VM.Standard1.1"
        },
        {
         "imageId": "ocid1.image.oc1.eu-paris-1.aaaaaaaalvbkaoybngg572c4ybw47avoyv2vk4raeus2bg4hyrbfuq4hmcuq",
         "shape": "VM.Standard1.16"
        },
        {
         "imageId": "ocid1.image.oc1.eu-paris-1.aaaaaaaalvbkaoybngg572c4ybw47avoyv2vk4raeus2bg4hyrbfuq4hmcuq",
         "shape": "VM.Standard1.2"
        },
        {
         "imageId": "ocid1.image.oc1.eu-paris-1.aaaaaaaalvbkaoybngg572c4ybw47avoyv2vk4raeus2bg4hyrbfuq4hmcuq",
         "shape": "VM.Standard1.4"
        },
        {
         "imageId": "ocid1.image.oc1.eu-paris-1.aaaaaaaalvbkaoybngg572c4ybw47avoyv2vk4raeus2bg4hyrbfuq4hmcuq",
         "shape": "VM.Standard1.8"
        },
        {
         "imageId": "ocid1.image.oc1.eu-paris-1.aaaaaaaalvbkaoybngg572c4ybw47avoyv2vk4raeus2bg4hyrbfuq4hmcuq",
         "shape": "VM.Standard2.1"
        },
        {
         "imageId": "ocid1.image.oc1.eu-paris-1.aaaaaaaalvbkaoybngg572c4ybw47avoyv2vk4raeus2bg4hyrbfuq4hmcuq",
         "shape": "VM.Standard2.16"
        },
        {
         "imageId": "ocid1.image.oc1.eu-paris-1.aaaaaaaalvbkaoybngg572c4ybw47avoyv2vk4raeus2bg4hyrbfuq4hmcuq",
         "shape": "VM.Standard2.2"
        },
        {
         "imageId": "ocid1.image.oc1.eu-paris-1.aaaaaaaalvbkaoybngg572c4ybw47avoyv2vk4raeus2bg4hyrbfuq4hmcuq",
         "shape": "VM.Standard2.24"
        },
        {
         "imageId": "ocid1.image.oc1.eu-paris-1.aaaaaaaalvbkaoybngg572c4ybw47avoyv2vk4raeus2bg4hyrbfuq4hmcuq",
         "shape": "VM.Standard2.4"
        },
        {
         "imageId": "ocid1.image.oc1.eu-paris-1.aaaaaaaalvbkaoybngg572c4ybw47avoyv2vk4raeus2bg4hyrbfuq4hmcuq",
         "shape": "VM.Standard2.8"
        },
        {
         "imageId": "ocid1.image.oc1.eu-paris-1.aaaaaaaalvbkaoybngg572c4ybw47avoyv2vk4raeus2bg4hyrbfuq4hmcuq",
         "shape": "VM.Standard2.Flex"
        },
        {
         "imageId": "ocid1.image.oc1.eu-paris-1.aaaaaaaalvbkaoybngg572c4ybw47avoyv2vk4raeus2bg4hyrbfuq4hmcuq",
         "shape": "VM.Standard3.Flex"
        },
        {
         "imageId": "ocid1.image.oc1.eu-paris-1.aaaaaaaalvbkaoybngg572c4ybw47avoyv2vk4raeus2bg4hyrbfuq4hmcuq",
         "shape": "BM.Standard.E2.64"
        },
        {
         "imageId": "ocid1.image.oc1.eu-paris-1.aaaaaaaalvbkaoybngg572c4ybw47avoyv2vk4raeus2bg4hyrbfuq4hmcuq",
         "shape": "BM.Standard.E3.128"
        },
        {
         "imageId": "ocid1.image.oc1.eu-paris-1.aaaaaaaalvbkaoybngg572c4ybw47avoyv2vk4raeus2bg4hyrbfuq4hmcuq",
         "shape": "BM.GPU4.8"
        },
        {
         "imageId": "ocid1.image.oc1.eu-paris-1.aaaaaaaalvbkaoybngg572c4ybw47avoyv2vk4raeus2bg4hyrbfuq4hmcuq",
         "shape": "BM.Standard.E4.128"
        },
        {
         "imageId": "ocid1.image.oc1.eu-paris-1.aaaaaaaalvbkaoybngg572c4ybw47avoyv2vk4raeus2bg4hyrbfuq4hmcuq",
         "shape": "BM.GPU.A100-v2.8"
        },
        {
         "imageId": "ocid1.image.oc1.eu-paris-1.aaaaaaaalvbkaoybngg572c4ybw47avoyv2vk4raeus2bg4hyrbfuq4hmcuq",
         "shape": "BM.DenseIO.E4.128"
        },
        {
         "imageId": "ocid1.image.oc1.eu-paris-1.aaaaaaaalvbkaoybngg572c4ybw47avoyv2vk4raeus2bg4hyrbfuq4hmcuq",
         "shape": "BM.DenseIO.E5.128"
        },
        {
         "imageId": "ocid1.image.oc1.eu-paris-1.aaaaaaaalvbkaoybngg572c4ybw47avoyv2vk4raeus2bg4hyrbfuq4hmcuq",
         "shape": "BM.Standard.E5.192"
        },
        {
         "imageId": "ocid1.image.oc1.eu-paris-1.aaaaaaaalvbkaoybngg572c4ybw47avoyv2vk4raeus2bg4hyrbfuq4hmcuq",
         "shape": "BM.Standard1.36"
        }
       ],
       "schema": {
        "fields": [
         {
          "name": "imageId",
          "type": "string"
         },
         {
          "name": "shape",
          "type": "string"
         }
        ]
       }
      },
      "text/html": [
       "<table><thead><tr><th>imageId</th><th>shape</th></tr></thead><tbody><tr><td>ocid1.image.oc1.eu-paris-1.aaaaaaaalvbkaoybngg572c4ybw47avoyv2vk4raeus2bg4hyrbfuq4hmcuq</td><td>VM.DenseIO.E4.Flex</td></tr><tr><td>ocid1.image.oc1.eu-paris-1.aaaaaaaalvbkaoybngg572c4ybw47avoyv2vk4raeus2bg4hyrbfuq4hmcuq</td><td>VM.DenseIO.E5.Flex</td></tr><tr><td>ocid1.image.oc1.eu-paris-1.aaaaaaaalvbkaoybngg572c4ybw47avoyv2vk4raeus2bg4hyrbfuq4hmcuq</td><td>VM.DenseIO1.16</td></tr><tr><td>ocid1.image.oc1.eu-paris-1.aaaaaaaalvbkaoybngg572c4ybw47avoyv2vk4raeus2bg4hyrbfuq4hmcuq</td><td>VM.DenseIO1.4</td></tr><tr><td>ocid1.image.oc1.eu-paris-1.aaaaaaaalvbkaoybngg572c4ybw47avoyv2vk4raeus2bg4hyrbfuq4hmcuq</td><td>VM.DenseIO1.8</td></tr><tr><td>ocid1.image.oc1.eu-paris-1.aaaaaaaalvbkaoybngg572c4ybw47avoyv2vk4raeus2bg4hyrbfuq4hmcuq</td><td>VM.DenseIO2.16</td></tr><tr><td>ocid1.image.oc1.eu-paris-1.aaaaaaaalvbkaoybngg572c4ybw47avoyv2vk4raeus2bg4hyrbfuq4hmcuq</td><td>VM.DenseIO2.24</td></tr><tr><td>ocid1.image.oc1.eu-paris-1.aaaaaaaalvbkaoybngg572c4ybw47avoyv2vk4raeus2bg4hyrbfuq4hmcuq</td><td>VM.DenseIO2.8</td></tr><tr><td>ocid1.image.oc1.eu-paris-1.aaaaaaaalvbkaoybngg572c4ybw47avoyv2vk4raeus2bg4hyrbfuq4hmcuq</td><td>VM.GPU.A10.1</td></tr><tr><td>ocid1.image.oc1.eu-paris-1.aaaaaaaalvbkaoybngg572c4ybw47avoyv2vk4raeus2bg4hyrbfuq4hmcuq</td><td>VM.GPU.A10.2</td></tr><tr><td>ocid1.image.oc1.eu-paris-1.aaaaaaaalvbkaoybngg572c4ybw47avoyv2vk4raeus2bg4hyrbfuq4hmcuq</td><td>VM.GPU.GU1.1</td></tr><tr><td>ocid1.image.oc1.eu-paris-1.aaaaaaaalvbkaoybngg572c4ybw47avoyv2vk4raeus2bg4hyrbfuq4hmcuq</td><td>VM.GPU.GU1.2</td></tr><tr><td>ocid1.image.oc1.eu-paris-1.aaaaaaaalvbkaoybngg572c4ybw47avoyv2vk4raeus2bg4hyrbfuq4hmcuq</td><td>VM.GPU2.1</td></tr><tr><td>ocid1.image.oc1.eu-paris-1.aaaaaaaalvbkaoybngg572c4ybw47avoyv2vk4raeus2bg4hyrbfuq4hmcuq</td><td>VM.GPU3.1</td></tr><tr><td>ocid1.image.oc1.eu-paris-1.aaaaaaaalvbkaoybngg572c4ybw47avoyv2vk4raeus2bg4hyrbfuq4hmcuq</td><td>VM.GPU3.2</td></tr><tr><td>ocid1.image.oc1.eu-paris-1.aaaaaaaalvbkaoybngg572c4ybw47avoyv2vk4raeus2bg4hyrbfuq4hmcuq</td><td>VM.GPU3.4</td></tr><tr><td>ocid1.image.oc1.eu-paris-1.aaaaaaaalvbkaoybngg572c4ybw47avoyv2vk4raeus2bg4hyrbfuq4hmcuq</td><td>VM.Optimized3.Flex</td></tr><tr><td>ocid1.image.oc1.eu-paris-1.aaaaaaaalvbkaoybngg572c4ybw47avoyv2vk4raeus2bg4hyrbfuq4hmcuq</td><td>VM.Standard.AMD.Generic</td></tr><tr><td>ocid1.image.oc1.eu-paris-1.aaaaaaaalvbkaoybngg572c4ybw47avoyv2vk4raeus2bg4hyrbfuq4hmcuq</td><td>VM.Standard.E2.1</td></tr><tr><td>ocid1.image.oc1.eu-paris-1.aaaaaaaalvbkaoybngg572c4ybw47avoyv2vk4raeus2bg4hyrbfuq4hmcuq</td><td>VM.Standard.E2.1.Micro</td></tr><tr><td>ocid1.image.oc1.eu-paris-1.aaaaaaaalvbkaoybngg572c4ybw47avoyv2vk4raeus2bg4hyrbfuq4hmcuq</td><td>VM.Standard.E2.2</td></tr><tr><td>ocid1.image.oc1.eu-paris-1.aaaaaaaalvbkaoybngg572c4ybw47avoyv2vk4raeus2bg4hyrbfuq4hmcuq</td><td>VM.Standard.E2.4</td></tr><tr><td>ocid1.image.oc1.eu-paris-1.aaaaaaaalvbkaoybngg572c4ybw47avoyv2vk4raeus2bg4hyrbfuq4hmcuq</td><td>VM.Standard.E2.8</td></tr><tr><td>ocid1.image.oc1.eu-paris-1.aaaaaaaalvbkaoybngg572c4ybw47avoyv2vk4raeus2bg4hyrbfuq4hmcuq</td><td>VM.Standard.E3.Flex</td></tr><tr><td>ocid1.image.oc1.eu-paris-1.aaaaaaaalvbkaoybngg572c4ybw47avoyv2vk4raeus2bg4hyrbfuq4hmcuq</td><td>VM.Standard.E4.Flex</td></tr><tr><td>ocid1.image.oc1.eu-paris-1.aaaaaaaalvbkaoybngg572c4ybw47avoyv2vk4raeus2bg4hyrbfuq4hmcuq</td><td>VM.Standard.E5.Flex</td></tr><tr><td>ocid1.image.oc1.eu-paris-1.aaaaaaaalvbkaoybngg572c4ybw47avoyv2vk4raeus2bg4hyrbfuq4hmcuq</td><td>VM.Standard.Intel.Generic</td></tr><tr><td>ocid1.image.oc1.eu-paris-1.aaaaaaaalvbkaoybngg572c4ybw47avoyv2vk4raeus2bg4hyrbfuq4hmcuq</td><td>VM.Standard.x86.Generic</td></tr><tr><td>ocid1.image.oc1.eu-paris-1.aaaaaaaalvbkaoybngg572c4ybw47avoyv2vk4raeus2bg4hyrbfuq4hmcuq</td><td>VM.Standard1.1</td></tr><tr><td>ocid1.image.oc1.eu-paris-1.aaaaaaaalvbkaoybngg572c4ybw47avoyv2vk4raeus2bg4hyrbfuq4hmcuq</td><td>VM.Standard1.16</td></tr><tr><td>ocid1.image.oc1.eu-paris-1.aaaaaaaalvbkaoybngg572c4ybw47avoyv2vk4raeus2bg4hyrbfuq4hmcuq</td><td>VM.Standard1.2</td></tr><tr><td>ocid1.image.oc1.eu-paris-1.aaaaaaaalvbkaoybngg572c4ybw47avoyv2vk4raeus2bg4hyrbfuq4hmcuq</td><td>VM.Standard1.4</td></tr><tr><td>ocid1.image.oc1.eu-paris-1.aaaaaaaalvbkaoybngg572c4ybw47avoyv2vk4raeus2bg4hyrbfuq4hmcuq</td><td>VM.Standard1.8</td></tr><tr><td>ocid1.image.oc1.eu-paris-1.aaaaaaaalvbkaoybngg572c4ybw47avoyv2vk4raeus2bg4hyrbfuq4hmcuq</td><td>VM.Standard2.1</td></tr><tr><td>ocid1.image.oc1.eu-paris-1.aaaaaaaalvbkaoybngg572c4ybw47avoyv2vk4raeus2bg4hyrbfuq4hmcuq</td><td>VM.Standard2.16</td></tr><tr><td>ocid1.image.oc1.eu-paris-1.aaaaaaaalvbkaoybngg572c4ybw47avoyv2vk4raeus2bg4hyrbfuq4hmcuq</td><td>VM.Standard2.2</td></tr><tr><td>ocid1.image.oc1.eu-paris-1.aaaaaaaalvbkaoybngg572c4ybw47avoyv2vk4raeus2bg4hyrbfuq4hmcuq</td><td>VM.Standard2.24</td></tr><tr><td>ocid1.image.oc1.eu-paris-1.aaaaaaaalvbkaoybngg572c4ybw47avoyv2vk4raeus2bg4hyrbfuq4hmcuq</td><td>VM.Standard2.4</td></tr><tr><td>ocid1.image.oc1.eu-paris-1.aaaaaaaalvbkaoybngg572c4ybw47avoyv2vk4raeus2bg4hyrbfuq4hmcuq</td><td>VM.Standard2.8</td></tr><tr><td>ocid1.image.oc1.eu-paris-1.aaaaaaaalvbkaoybngg572c4ybw47avoyv2vk4raeus2bg4hyrbfuq4hmcuq</td><td>VM.Standard2.Flex</td></tr><tr><td>ocid1.image.oc1.eu-paris-1.aaaaaaaalvbkaoybngg572c4ybw47avoyv2vk4raeus2bg4hyrbfuq4hmcuq</td><td>VM.Standard3.Flex</td></tr><tr><td>ocid1.image.oc1.eu-paris-1.aaaaaaaalvbkaoybngg572c4ybw47avoyv2vk4raeus2bg4hyrbfuq4hmcuq</td><td>BM.Standard.E2.64</td></tr><tr><td>ocid1.image.oc1.eu-paris-1.aaaaaaaalvbkaoybngg572c4ybw47avoyv2vk4raeus2bg4hyrbfuq4hmcuq</td><td>BM.Standard.E3.128</td></tr><tr><td>ocid1.image.oc1.eu-paris-1.aaaaaaaalvbkaoybngg572c4ybw47avoyv2vk4raeus2bg4hyrbfuq4hmcuq</td><td>BM.GPU4.8</td></tr><tr><td>ocid1.image.oc1.eu-paris-1.aaaaaaaalvbkaoybngg572c4ybw47avoyv2vk4raeus2bg4hyrbfuq4hmcuq</td><td>BM.Standard.E4.128</td></tr><tr><td>ocid1.image.oc1.eu-paris-1.aaaaaaaalvbkaoybngg572c4ybw47avoyv2vk4raeus2bg4hyrbfuq4hmcuq</td><td>BM.GPU.A100-v2.8</td></tr><tr><td>ocid1.image.oc1.eu-paris-1.aaaaaaaalvbkaoybngg572c4ybw47avoyv2vk4raeus2bg4hyrbfuq4hmcuq</td><td>BM.DenseIO.E4.128</td></tr><tr><td>ocid1.image.oc1.eu-paris-1.aaaaaaaalvbkaoybngg572c4ybw47avoyv2vk4raeus2bg4hyrbfuq4hmcuq</td><td>BM.DenseIO.E5.128</td></tr><tr><td>ocid1.image.oc1.eu-paris-1.aaaaaaaalvbkaoybngg572c4ybw47avoyv2vk4raeus2bg4hyrbfuq4hmcuq</td><td>BM.Standard.E5.192</td></tr><tr><td>ocid1.image.oc1.eu-paris-1.aaaaaaaalvbkaoybngg572c4ybw47avoyv2vk4raeus2bg4hyrbfuq4hmcuq</td><td>BM.Standard1.36</td></tr></tbody></table>"
      ]
     },
     "execution_count": 5,
     "metadata": {},
     "output_type": "execute_result"
    }
   ],
   "source": [
    "// This is an automatically generated code sample.\n",
    "// To make this code sample work in your Oracle Cloud tenancy,\n",
    "// please replace the values for any parameters whose current values do not fit\n",
    "// your use case (such as resource IDs, strings containing ‘EXAMPLE’ or ‘unique_id’, and\n",
    "// boolean, number, and enum parameters with values not fitting your use case).\n",
    "\n",
    "// import * as core from \"npm:oci-core\"; // replaced by import * as oci from 'npm:oci-sdk'\n",
    "\n",
    "\n",
    "// Create a default authentication provider that uses the DEFAULT\n",
    "// profile in the configuration file.\n",
    "// Refer to <see href=\"https://docs.cloud.oracle.com/en-us/iaas/Content/API/Concepts/sdkconfig.htm#SDK_and_CLI_Configuration_File>the public documentation</see> on how to prepare a configuration file.\n",
    "\n",
    "\n",
    "const getCompatibilityList = async (OCIPlatformImageID: string): Promise<any> => {\n",
    "  try {\n",
    "    console.log(`start`)\n",
    "    // Create a service client\n",
    "    const client = new core.ComputeClient({ authenticationDetailsProvider: provider });\n",
    "    console.log(`step 1 OK`)\n",
    "    // Create a request and dependent object(s).\n",
    "    const listImageShapeCompatibilityEntriesRequest: core.requests.ListImageShapeCompatibilityEntriesRequest = {\n",
    "      imageId: `${OCIPlatformImageID}`,\n",
    "      limit: 940,\n",
    "      // page: \"EXAMPLE-page-Value\", // not required\n",
    "      // opcRequestId: \"BE75GWIJDJ93EQGMRQKK<unique_ID>\" // not required, see https://docs.oracle.com/en-us/iaas/api/#/en/iaas/20160918/ImageShapeCompatibilityEntry/ListImageShapeCompatibilityEntries\n",
    "    };\n",
    "\n",
    "    // Send request to the Client.\n",
    "    const listImageShapeCompatibilityEntriesResponse = await client.listImageShapeCompatibilityEntries(\n",
    "      listImageShapeCompatibilityEntriesRequest\n",
    "    );\n",
    "    // console.log(`listImageShapeCompatibilityEntriesResponse:`, listImageShapeCompatibilityEntriesResponse)\n",
    "    return listImageShapeCompatibilityEntriesResponse;\n",
    "  } catch (error) {\n",
    "    console.log(\"listImageShapeCompatibilityEntries Failed with error  \" + error);\n",
    "  }\n",
    "};\n",
    "\n"
   ]
  },
  {
   "cell_type": "code",
   "execution_count": 6,
   "id": "822e30e1-314a-46c9-b61f-9d74fcc614e5",
   "metadata": {},
   "outputs": [
    {
     "name": "stdout",
     "output_type": "stream",
     "text": [
      "start\n",
      "The OciEnabledServiceSet is empty, all OCI services are enabled\n",
      "step 1 OK\n"
     ]
    },
    {
     "data": {
      "application/vnd.dataresource+json": {
       "data": [
        {
         "imageId": "ocid1.image.oc1.eu-paris-1.aaaaaaaalvbkaoybngg572c4ybw47avoyv2vk4raeus2bg4hyrbfuq4hmcuq",
         "shape": "VM.DenseIO.E4.Flex"
        },
        {
         "imageId": "ocid1.image.oc1.eu-paris-1.aaaaaaaalvbkaoybngg572c4ybw47avoyv2vk4raeus2bg4hyrbfuq4hmcuq",
         "shape": "VM.DenseIO.E5.Flex"
        },
        {
         "imageId": "ocid1.image.oc1.eu-paris-1.aaaaaaaalvbkaoybngg572c4ybw47avoyv2vk4raeus2bg4hyrbfuq4hmcuq",
         "shape": "VM.DenseIO1.16"
        },
        {
         "imageId": "ocid1.image.oc1.eu-paris-1.aaaaaaaalvbkaoybngg572c4ybw47avoyv2vk4raeus2bg4hyrbfuq4hmcuq",
         "shape": "VM.DenseIO1.4"
        },
        {
         "imageId": "ocid1.image.oc1.eu-paris-1.aaaaaaaalvbkaoybngg572c4ybw47avoyv2vk4raeus2bg4hyrbfuq4hmcuq",
         "shape": "VM.DenseIO1.8"
        },
        {
         "imageId": "ocid1.image.oc1.eu-paris-1.aaaaaaaalvbkaoybngg572c4ybw47avoyv2vk4raeus2bg4hyrbfuq4hmcuq",
         "shape": "VM.DenseIO2.16"
        },
        {
         "imageId": "ocid1.image.oc1.eu-paris-1.aaaaaaaalvbkaoybngg572c4ybw47avoyv2vk4raeus2bg4hyrbfuq4hmcuq",
         "shape": "VM.DenseIO2.24"
        },
        {
         "imageId": "ocid1.image.oc1.eu-paris-1.aaaaaaaalvbkaoybngg572c4ybw47avoyv2vk4raeus2bg4hyrbfuq4hmcuq",
         "shape": "VM.DenseIO2.8"
        },
        {
         "imageId": "ocid1.image.oc1.eu-paris-1.aaaaaaaalvbkaoybngg572c4ybw47avoyv2vk4raeus2bg4hyrbfuq4hmcuq",
         "shape": "VM.GPU.A10.1"
        },
        {
         "imageId": "ocid1.image.oc1.eu-paris-1.aaaaaaaalvbkaoybngg572c4ybw47avoyv2vk4raeus2bg4hyrbfuq4hmcuq",
         "shape": "VM.GPU.A10.2"
        },
        {
         "imageId": "ocid1.image.oc1.eu-paris-1.aaaaaaaalvbkaoybngg572c4ybw47avoyv2vk4raeus2bg4hyrbfuq4hmcuq",
         "shape": "VM.GPU.GU1.1"
        },
        {
         "imageId": "ocid1.image.oc1.eu-paris-1.aaaaaaaalvbkaoybngg572c4ybw47avoyv2vk4raeus2bg4hyrbfuq4hmcuq",
         "shape": "VM.GPU.GU1.2"
        },
        {
         "imageId": "ocid1.image.oc1.eu-paris-1.aaaaaaaalvbkaoybngg572c4ybw47avoyv2vk4raeus2bg4hyrbfuq4hmcuq",
         "shape": "VM.GPU2.1"
        },
        {
         "imageId": "ocid1.image.oc1.eu-paris-1.aaaaaaaalvbkaoybngg572c4ybw47avoyv2vk4raeus2bg4hyrbfuq4hmcuq",
         "shape": "VM.GPU3.1"
        },
        {
         "imageId": "ocid1.image.oc1.eu-paris-1.aaaaaaaalvbkaoybngg572c4ybw47avoyv2vk4raeus2bg4hyrbfuq4hmcuq",
         "shape": "VM.GPU3.2"
        },
        {
         "imageId": "ocid1.image.oc1.eu-paris-1.aaaaaaaalvbkaoybngg572c4ybw47avoyv2vk4raeus2bg4hyrbfuq4hmcuq",
         "shape": "VM.GPU3.4"
        },
        {
         "imageId": "ocid1.image.oc1.eu-paris-1.aaaaaaaalvbkaoybngg572c4ybw47avoyv2vk4raeus2bg4hyrbfuq4hmcuq",
         "shape": "VM.Optimized3.Flex"
        },
        {
         "imageId": "ocid1.image.oc1.eu-paris-1.aaaaaaaalvbkaoybngg572c4ybw47avoyv2vk4raeus2bg4hyrbfuq4hmcuq",
         "shape": "VM.Standard.AMD.Generic"
        },
        {
         "imageId": "ocid1.image.oc1.eu-paris-1.aaaaaaaalvbkaoybngg572c4ybw47avoyv2vk4raeus2bg4hyrbfuq4hmcuq",
         "shape": "VM.Standard.E2.1"
        },
        {
         "imageId": "ocid1.image.oc1.eu-paris-1.aaaaaaaalvbkaoybngg572c4ybw47avoyv2vk4raeus2bg4hyrbfuq4hmcuq",
         "shape": "VM.Standard.E2.1.Micro"
        },
        {
         "imageId": "ocid1.image.oc1.eu-paris-1.aaaaaaaalvbkaoybngg572c4ybw47avoyv2vk4raeus2bg4hyrbfuq4hmcuq",
         "shape": "VM.Standard.E2.2"
        },
        {
         "imageId": "ocid1.image.oc1.eu-paris-1.aaaaaaaalvbkaoybngg572c4ybw47avoyv2vk4raeus2bg4hyrbfuq4hmcuq",
         "shape": "VM.Standard.E2.4"
        },
        {
         "imageId": "ocid1.image.oc1.eu-paris-1.aaaaaaaalvbkaoybngg572c4ybw47avoyv2vk4raeus2bg4hyrbfuq4hmcuq",
         "shape": "VM.Standard.E2.8"
        },
        {
         "imageId": "ocid1.image.oc1.eu-paris-1.aaaaaaaalvbkaoybngg572c4ybw47avoyv2vk4raeus2bg4hyrbfuq4hmcuq",
         "shape": "VM.Standard.E3.Flex"
        },
        {
         "imageId": "ocid1.image.oc1.eu-paris-1.aaaaaaaalvbkaoybngg572c4ybw47avoyv2vk4raeus2bg4hyrbfuq4hmcuq",
         "shape": "VM.Standard.E4.Flex"
        },
        {
         "imageId": "ocid1.image.oc1.eu-paris-1.aaaaaaaalvbkaoybngg572c4ybw47avoyv2vk4raeus2bg4hyrbfuq4hmcuq",
         "shape": "VM.Standard.E5.Flex"
        },
        {
         "imageId": "ocid1.image.oc1.eu-paris-1.aaaaaaaalvbkaoybngg572c4ybw47avoyv2vk4raeus2bg4hyrbfuq4hmcuq",
         "shape": "VM.Standard.Intel.Generic"
        },
        {
         "imageId": "ocid1.image.oc1.eu-paris-1.aaaaaaaalvbkaoybngg572c4ybw47avoyv2vk4raeus2bg4hyrbfuq4hmcuq",
         "shape": "VM.Standard.x86.Generic"
        },
        {
         "imageId": "ocid1.image.oc1.eu-paris-1.aaaaaaaalvbkaoybngg572c4ybw47avoyv2vk4raeus2bg4hyrbfuq4hmcuq",
         "shape": "VM.Standard1.1"
        },
        {
         "imageId": "ocid1.image.oc1.eu-paris-1.aaaaaaaalvbkaoybngg572c4ybw47avoyv2vk4raeus2bg4hyrbfuq4hmcuq",
         "shape": "VM.Standard1.16"
        },
        {
         "imageId": "ocid1.image.oc1.eu-paris-1.aaaaaaaalvbkaoybngg572c4ybw47avoyv2vk4raeus2bg4hyrbfuq4hmcuq",
         "shape": "VM.Standard1.2"
        },
        {
         "imageId": "ocid1.image.oc1.eu-paris-1.aaaaaaaalvbkaoybngg572c4ybw47avoyv2vk4raeus2bg4hyrbfuq4hmcuq",
         "shape": "VM.Standard1.4"
        },
        {
         "imageId": "ocid1.image.oc1.eu-paris-1.aaaaaaaalvbkaoybngg572c4ybw47avoyv2vk4raeus2bg4hyrbfuq4hmcuq",
         "shape": "VM.Standard1.8"
        },
        {
         "imageId": "ocid1.image.oc1.eu-paris-1.aaaaaaaalvbkaoybngg572c4ybw47avoyv2vk4raeus2bg4hyrbfuq4hmcuq",
         "shape": "VM.Standard2.1"
        },
        {
         "imageId": "ocid1.image.oc1.eu-paris-1.aaaaaaaalvbkaoybngg572c4ybw47avoyv2vk4raeus2bg4hyrbfuq4hmcuq",
         "shape": "VM.Standard2.16"
        },
        {
         "imageId": "ocid1.image.oc1.eu-paris-1.aaaaaaaalvbkaoybngg572c4ybw47avoyv2vk4raeus2bg4hyrbfuq4hmcuq",
         "shape": "VM.Standard2.2"
        },
        {
         "imageId": "ocid1.image.oc1.eu-paris-1.aaaaaaaalvbkaoybngg572c4ybw47avoyv2vk4raeus2bg4hyrbfuq4hmcuq",
         "shape": "VM.Standard2.24"
        },
        {
         "imageId": "ocid1.image.oc1.eu-paris-1.aaaaaaaalvbkaoybngg572c4ybw47avoyv2vk4raeus2bg4hyrbfuq4hmcuq",
         "shape": "VM.Standard2.4"
        },
        {
         "imageId": "ocid1.image.oc1.eu-paris-1.aaaaaaaalvbkaoybngg572c4ybw47avoyv2vk4raeus2bg4hyrbfuq4hmcuq",
         "shape": "VM.Standard2.8"
        },
        {
         "imageId": "ocid1.image.oc1.eu-paris-1.aaaaaaaalvbkaoybngg572c4ybw47avoyv2vk4raeus2bg4hyrbfuq4hmcuq",
         "shape": "VM.Standard2.Flex"
        },
        {
         "imageId": "ocid1.image.oc1.eu-paris-1.aaaaaaaalvbkaoybngg572c4ybw47avoyv2vk4raeus2bg4hyrbfuq4hmcuq",
         "shape": "VM.Standard3.Flex"
        },
        {
         "imageId": "ocid1.image.oc1.eu-paris-1.aaaaaaaalvbkaoybngg572c4ybw47avoyv2vk4raeus2bg4hyrbfuq4hmcuq",
         "shape": "BM.Standard.E2.64"
        },
        {
         "imageId": "ocid1.image.oc1.eu-paris-1.aaaaaaaalvbkaoybngg572c4ybw47avoyv2vk4raeus2bg4hyrbfuq4hmcuq",
         "shape": "BM.Standard.E3.128"
        },
        {
         "imageId": "ocid1.image.oc1.eu-paris-1.aaaaaaaalvbkaoybngg572c4ybw47avoyv2vk4raeus2bg4hyrbfuq4hmcuq",
         "shape": "BM.GPU4.8"
        },
        {
         "imageId": "ocid1.image.oc1.eu-paris-1.aaaaaaaalvbkaoybngg572c4ybw47avoyv2vk4raeus2bg4hyrbfuq4hmcuq",
         "shape": "BM.Standard.E4.128"
        },
        {
         "imageId": "ocid1.image.oc1.eu-paris-1.aaaaaaaalvbkaoybngg572c4ybw47avoyv2vk4raeus2bg4hyrbfuq4hmcuq",
         "shape": "BM.GPU.A100-v2.8"
        },
        {
         "imageId": "ocid1.image.oc1.eu-paris-1.aaaaaaaalvbkaoybngg572c4ybw47avoyv2vk4raeus2bg4hyrbfuq4hmcuq",
         "shape": "BM.DenseIO.E4.128"
        },
        {
         "imageId": "ocid1.image.oc1.eu-paris-1.aaaaaaaalvbkaoybngg572c4ybw47avoyv2vk4raeus2bg4hyrbfuq4hmcuq",
         "shape": "BM.DenseIO.E5.128"
        },
        {
         "imageId": "ocid1.image.oc1.eu-paris-1.aaaaaaaalvbkaoybngg572c4ybw47avoyv2vk4raeus2bg4hyrbfuq4hmcuq",
         "shape": "BM.Standard.E5.192"
        },
        {
         "imageId": "ocid1.image.oc1.eu-paris-1.aaaaaaaalvbkaoybngg572c4ybw47avoyv2vk4raeus2bg4hyrbfuq4hmcuq",
         "shape": "BM.Standard1.36"
        }
       ],
       "schema": {
        "fields": [
         {
          "name": "imageId",
          "type": "string"
         },
         {
          "name": "shape",
          "type": "string"
         }
        ]
       }
      },
      "text/html": [
       "<table><thead><tr><th>imageId</th><th>shape</th></tr></thead><tbody><tr><td>ocid1.image.oc1.eu-paris-1.aaaaaaaalvbkaoybngg572c4ybw47avoyv2vk4raeus2bg4hyrbfuq4hmcuq</td><td>VM.DenseIO.E4.Flex</td></tr><tr><td>ocid1.image.oc1.eu-paris-1.aaaaaaaalvbkaoybngg572c4ybw47avoyv2vk4raeus2bg4hyrbfuq4hmcuq</td><td>VM.DenseIO.E5.Flex</td></tr><tr><td>ocid1.image.oc1.eu-paris-1.aaaaaaaalvbkaoybngg572c4ybw47avoyv2vk4raeus2bg4hyrbfuq4hmcuq</td><td>VM.DenseIO1.16</td></tr><tr><td>ocid1.image.oc1.eu-paris-1.aaaaaaaalvbkaoybngg572c4ybw47avoyv2vk4raeus2bg4hyrbfuq4hmcuq</td><td>VM.DenseIO1.4</td></tr><tr><td>ocid1.image.oc1.eu-paris-1.aaaaaaaalvbkaoybngg572c4ybw47avoyv2vk4raeus2bg4hyrbfuq4hmcuq</td><td>VM.DenseIO1.8</td></tr><tr><td>ocid1.image.oc1.eu-paris-1.aaaaaaaalvbkaoybngg572c4ybw47avoyv2vk4raeus2bg4hyrbfuq4hmcuq</td><td>VM.DenseIO2.16</td></tr><tr><td>ocid1.image.oc1.eu-paris-1.aaaaaaaalvbkaoybngg572c4ybw47avoyv2vk4raeus2bg4hyrbfuq4hmcuq</td><td>VM.DenseIO2.24</td></tr><tr><td>ocid1.image.oc1.eu-paris-1.aaaaaaaalvbkaoybngg572c4ybw47avoyv2vk4raeus2bg4hyrbfuq4hmcuq</td><td>VM.DenseIO2.8</td></tr><tr><td>ocid1.image.oc1.eu-paris-1.aaaaaaaalvbkaoybngg572c4ybw47avoyv2vk4raeus2bg4hyrbfuq4hmcuq</td><td>VM.GPU.A10.1</td></tr><tr><td>ocid1.image.oc1.eu-paris-1.aaaaaaaalvbkaoybngg572c4ybw47avoyv2vk4raeus2bg4hyrbfuq4hmcuq</td><td>VM.GPU.A10.2</td></tr><tr><td>ocid1.image.oc1.eu-paris-1.aaaaaaaalvbkaoybngg572c4ybw47avoyv2vk4raeus2bg4hyrbfuq4hmcuq</td><td>VM.GPU.GU1.1</td></tr><tr><td>ocid1.image.oc1.eu-paris-1.aaaaaaaalvbkaoybngg572c4ybw47avoyv2vk4raeus2bg4hyrbfuq4hmcuq</td><td>VM.GPU.GU1.2</td></tr><tr><td>ocid1.image.oc1.eu-paris-1.aaaaaaaalvbkaoybngg572c4ybw47avoyv2vk4raeus2bg4hyrbfuq4hmcuq</td><td>VM.GPU2.1</td></tr><tr><td>ocid1.image.oc1.eu-paris-1.aaaaaaaalvbkaoybngg572c4ybw47avoyv2vk4raeus2bg4hyrbfuq4hmcuq</td><td>VM.GPU3.1</td></tr><tr><td>ocid1.image.oc1.eu-paris-1.aaaaaaaalvbkaoybngg572c4ybw47avoyv2vk4raeus2bg4hyrbfuq4hmcuq</td><td>VM.GPU3.2</td></tr><tr><td>ocid1.image.oc1.eu-paris-1.aaaaaaaalvbkaoybngg572c4ybw47avoyv2vk4raeus2bg4hyrbfuq4hmcuq</td><td>VM.GPU3.4</td></tr><tr><td>ocid1.image.oc1.eu-paris-1.aaaaaaaalvbkaoybngg572c4ybw47avoyv2vk4raeus2bg4hyrbfuq4hmcuq</td><td>VM.Optimized3.Flex</td></tr><tr><td>ocid1.image.oc1.eu-paris-1.aaaaaaaalvbkaoybngg572c4ybw47avoyv2vk4raeus2bg4hyrbfuq4hmcuq</td><td>VM.Standard.AMD.Generic</td></tr><tr><td>ocid1.image.oc1.eu-paris-1.aaaaaaaalvbkaoybngg572c4ybw47avoyv2vk4raeus2bg4hyrbfuq4hmcuq</td><td>VM.Standard.E2.1</td></tr><tr><td>ocid1.image.oc1.eu-paris-1.aaaaaaaalvbkaoybngg572c4ybw47avoyv2vk4raeus2bg4hyrbfuq4hmcuq</td><td>VM.Standard.E2.1.Micro</td></tr><tr><td>ocid1.image.oc1.eu-paris-1.aaaaaaaalvbkaoybngg572c4ybw47avoyv2vk4raeus2bg4hyrbfuq4hmcuq</td><td>VM.Standard.E2.2</td></tr><tr><td>ocid1.image.oc1.eu-paris-1.aaaaaaaalvbkaoybngg572c4ybw47avoyv2vk4raeus2bg4hyrbfuq4hmcuq</td><td>VM.Standard.E2.4</td></tr><tr><td>ocid1.image.oc1.eu-paris-1.aaaaaaaalvbkaoybngg572c4ybw47avoyv2vk4raeus2bg4hyrbfuq4hmcuq</td><td>VM.Standard.E2.8</td></tr><tr><td>ocid1.image.oc1.eu-paris-1.aaaaaaaalvbkaoybngg572c4ybw47avoyv2vk4raeus2bg4hyrbfuq4hmcuq</td><td>VM.Standard.E3.Flex</td></tr><tr><td>ocid1.image.oc1.eu-paris-1.aaaaaaaalvbkaoybngg572c4ybw47avoyv2vk4raeus2bg4hyrbfuq4hmcuq</td><td>VM.Standard.E4.Flex</td></tr><tr><td>ocid1.image.oc1.eu-paris-1.aaaaaaaalvbkaoybngg572c4ybw47avoyv2vk4raeus2bg4hyrbfuq4hmcuq</td><td>VM.Standard.E5.Flex</td></tr><tr><td>ocid1.image.oc1.eu-paris-1.aaaaaaaalvbkaoybngg572c4ybw47avoyv2vk4raeus2bg4hyrbfuq4hmcuq</td><td>VM.Standard.Intel.Generic</td></tr><tr><td>ocid1.image.oc1.eu-paris-1.aaaaaaaalvbkaoybngg572c4ybw47avoyv2vk4raeus2bg4hyrbfuq4hmcuq</td><td>VM.Standard.x86.Generic</td></tr><tr><td>ocid1.image.oc1.eu-paris-1.aaaaaaaalvbkaoybngg572c4ybw47avoyv2vk4raeus2bg4hyrbfuq4hmcuq</td><td>VM.Standard1.1</td></tr><tr><td>ocid1.image.oc1.eu-paris-1.aaaaaaaalvbkaoybngg572c4ybw47avoyv2vk4raeus2bg4hyrbfuq4hmcuq</td><td>VM.Standard1.16</td></tr><tr><td>ocid1.image.oc1.eu-paris-1.aaaaaaaalvbkaoybngg572c4ybw47avoyv2vk4raeus2bg4hyrbfuq4hmcuq</td><td>VM.Standard1.2</td></tr><tr><td>ocid1.image.oc1.eu-paris-1.aaaaaaaalvbkaoybngg572c4ybw47avoyv2vk4raeus2bg4hyrbfuq4hmcuq</td><td>VM.Standard1.4</td></tr><tr><td>ocid1.image.oc1.eu-paris-1.aaaaaaaalvbkaoybngg572c4ybw47avoyv2vk4raeus2bg4hyrbfuq4hmcuq</td><td>VM.Standard1.8</td></tr><tr><td>ocid1.image.oc1.eu-paris-1.aaaaaaaalvbkaoybngg572c4ybw47avoyv2vk4raeus2bg4hyrbfuq4hmcuq</td><td>VM.Standard2.1</td></tr><tr><td>ocid1.image.oc1.eu-paris-1.aaaaaaaalvbkaoybngg572c4ybw47avoyv2vk4raeus2bg4hyrbfuq4hmcuq</td><td>VM.Standard2.16</td></tr><tr><td>ocid1.image.oc1.eu-paris-1.aaaaaaaalvbkaoybngg572c4ybw47avoyv2vk4raeus2bg4hyrbfuq4hmcuq</td><td>VM.Standard2.2</td></tr><tr><td>ocid1.image.oc1.eu-paris-1.aaaaaaaalvbkaoybngg572c4ybw47avoyv2vk4raeus2bg4hyrbfuq4hmcuq</td><td>VM.Standard2.24</td></tr><tr><td>ocid1.image.oc1.eu-paris-1.aaaaaaaalvbkaoybngg572c4ybw47avoyv2vk4raeus2bg4hyrbfuq4hmcuq</td><td>VM.Standard2.4</td></tr><tr><td>ocid1.image.oc1.eu-paris-1.aaaaaaaalvbkaoybngg572c4ybw47avoyv2vk4raeus2bg4hyrbfuq4hmcuq</td><td>VM.Standard2.8</td></tr><tr><td>ocid1.image.oc1.eu-paris-1.aaaaaaaalvbkaoybngg572c4ybw47avoyv2vk4raeus2bg4hyrbfuq4hmcuq</td><td>VM.Standard2.Flex</td></tr><tr><td>ocid1.image.oc1.eu-paris-1.aaaaaaaalvbkaoybngg572c4ybw47avoyv2vk4raeus2bg4hyrbfuq4hmcuq</td><td>VM.Standard3.Flex</td></tr><tr><td>ocid1.image.oc1.eu-paris-1.aaaaaaaalvbkaoybngg572c4ybw47avoyv2vk4raeus2bg4hyrbfuq4hmcuq</td><td>BM.Standard.E2.64</td></tr><tr><td>ocid1.image.oc1.eu-paris-1.aaaaaaaalvbkaoybngg572c4ybw47avoyv2vk4raeus2bg4hyrbfuq4hmcuq</td><td>BM.Standard.E3.128</td></tr><tr><td>ocid1.image.oc1.eu-paris-1.aaaaaaaalvbkaoybngg572c4ybw47avoyv2vk4raeus2bg4hyrbfuq4hmcuq</td><td>BM.GPU4.8</td></tr><tr><td>ocid1.image.oc1.eu-paris-1.aaaaaaaalvbkaoybngg572c4ybw47avoyv2vk4raeus2bg4hyrbfuq4hmcuq</td><td>BM.Standard.E4.128</td></tr><tr><td>ocid1.image.oc1.eu-paris-1.aaaaaaaalvbkaoybngg572c4ybw47avoyv2vk4raeus2bg4hyrbfuq4hmcuq</td><td>BM.GPU.A100-v2.8</td></tr><tr><td>ocid1.image.oc1.eu-paris-1.aaaaaaaalvbkaoybngg572c4ybw47avoyv2vk4raeus2bg4hyrbfuq4hmcuq</td><td>BM.DenseIO.E4.128</td></tr><tr><td>ocid1.image.oc1.eu-paris-1.aaaaaaaalvbkaoybngg572c4ybw47avoyv2vk4raeus2bg4hyrbfuq4hmcuq</td><td>BM.DenseIO.E5.128</td></tr><tr><td>ocid1.image.oc1.eu-paris-1.aaaaaaaalvbkaoybngg572c4ybw47avoyv2vk4raeus2bg4hyrbfuq4hmcuq</td><td>BM.Standard.E5.192</td></tr><tr><td>ocid1.image.oc1.eu-paris-1.aaaaaaaalvbkaoybngg572c4ybw47avoyv2vk4raeus2bg4hyrbfuq4hmcuq</td><td>BM.Standard1.36</td></tr></tbody></table>"
      ]
     },
     "execution_count": 6,
     "metadata": {},
     "output_type": "execute_result"
    }
   ],
   "source": [
    "const compatibilityListExample1 = await getCompatibilityList(\"ocid1.image.oc1.eu-paris-1.aaaaaaaalvbkaoybngg572c4ybw47avoyv2vk4raeus2bg4hyrbfuq4hmcuq\")\n",
    "//console.log(example1)\n",
    "// https://pola-rs.github.io/nodejs-polars/functions/pl.readJSON.html\n",
    "const df_compatibilityListExample1 = pl.readJSON(JSON.stringify(compatibilityListExample1.items), {format: \"json\"})\n",
    "// df_compatibilityListExample1.toRecords()\n",
    "df_compatibilityListExample1\n",
    "//pl.Series('imageShapes', df_compatibilityListExample1)"
   ]
  },
  {
   "cell_type": "code",
   "execution_count": 9,
   "id": "4704a93d-97b8-4589-a24c-7bc1d572bd0a",
   "metadata": {},
   "outputs": [
    {
     "name": "stdout",
     "output_type": "stream",
     "text": [
      "start\n",
      "The OciEnabledServiceSet is empty, all OCI services are enabled\n",
      "step 1 OK\n"
     ]
    },
    {
     "data": {
      "application/vnd.dataresource+json": {
       "data": [
        {
         "imageId": "ocid1.image.oc1.eu-paris-1.aaaaaaaaf7irdvozuzmwyvbfacdivomj52x65vr6tlg62i6er323sevazdqq",
         "shape": "VM.DenseIO.E4.Flex"
        },
        {
         "imageId": "ocid1.image.oc1.eu-paris-1.aaaaaaaaf7irdvozuzmwyvbfacdivomj52x65vr6tlg62i6er323sevazdqq",
         "shape": "VM.DenseIO.E5.Flex"
        },
        {
         "imageId": "ocid1.image.oc1.eu-paris-1.aaaaaaaaf7irdvozuzmwyvbfacdivomj52x65vr6tlg62i6er323sevazdqq",
         "shape": "VM.DenseIO1.16"
        },
        {
         "imageId": "ocid1.image.oc1.eu-paris-1.aaaaaaaaf7irdvozuzmwyvbfacdivomj52x65vr6tlg62i6er323sevazdqq",
         "shape": "VM.DenseIO1.4"
        },
        {
         "imageId": "ocid1.image.oc1.eu-paris-1.aaaaaaaaf7irdvozuzmwyvbfacdivomj52x65vr6tlg62i6er323sevazdqq",
         "shape": "VM.DenseIO1.8"
        },
        {
         "imageId": "ocid1.image.oc1.eu-paris-1.aaaaaaaaf7irdvozuzmwyvbfacdivomj52x65vr6tlg62i6er323sevazdqq",
         "shape": "VM.DenseIO2.16"
        },
        {
         "imageId": "ocid1.image.oc1.eu-paris-1.aaaaaaaaf7irdvozuzmwyvbfacdivomj52x65vr6tlg62i6er323sevazdqq",
         "shape": "VM.DenseIO2.24"
        },
        {
         "imageId": "ocid1.image.oc1.eu-paris-1.aaaaaaaaf7irdvozuzmwyvbfacdivomj52x65vr6tlg62i6er323sevazdqq",
         "shape": "VM.DenseIO2.8"
        },
        {
         "imageId": "ocid1.image.oc1.eu-paris-1.aaaaaaaaf7irdvozuzmwyvbfacdivomj52x65vr6tlg62i6er323sevazdqq",
         "shape": "VM.GPU.A10.1"
        },
        {
         "imageId": "ocid1.image.oc1.eu-paris-1.aaaaaaaaf7irdvozuzmwyvbfacdivomj52x65vr6tlg62i6er323sevazdqq",
         "shape": "VM.GPU.A10.2"
        },
        {
         "imageId": "ocid1.image.oc1.eu-paris-1.aaaaaaaaf7irdvozuzmwyvbfacdivomj52x65vr6tlg62i6er323sevazdqq",
         "shape": "VM.GPU.GU1.1"
        },
        {
         "imageId": "ocid1.image.oc1.eu-paris-1.aaaaaaaaf7irdvozuzmwyvbfacdivomj52x65vr6tlg62i6er323sevazdqq",
         "shape": "VM.GPU.GU1.2"
        },
        {
         "imageId": "ocid1.image.oc1.eu-paris-1.aaaaaaaaf7irdvozuzmwyvbfacdivomj52x65vr6tlg62i6er323sevazdqq",
         "shape": "VM.GPU2.1"
        },
        {
         "imageId": "ocid1.image.oc1.eu-paris-1.aaaaaaaaf7irdvozuzmwyvbfacdivomj52x65vr6tlg62i6er323sevazdqq",
         "shape": "VM.GPU3.1"
        },
        {
         "imageId": "ocid1.image.oc1.eu-paris-1.aaaaaaaaf7irdvozuzmwyvbfacdivomj52x65vr6tlg62i6er323sevazdqq",
         "shape": "VM.GPU3.2"
        },
        {
         "imageId": "ocid1.image.oc1.eu-paris-1.aaaaaaaaf7irdvozuzmwyvbfacdivomj52x65vr6tlg62i6er323sevazdqq",
         "shape": "VM.GPU3.4"
        },
        {
         "imageId": "ocid1.image.oc1.eu-paris-1.aaaaaaaaf7irdvozuzmwyvbfacdivomj52x65vr6tlg62i6er323sevazdqq",
         "shape": "VM.Optimized3.Flex"
        },
        {
         "imageId": "ocid1.image.oc1.eu-paris-1.aaaaaaaaf7irdvozuzmwyvbfacdivomj52x65vr6tlg62i6er323sevazdqq",
         "shape": "VM.Standard.AMD.Generic"
        },
        {
         "imageId": "ocid1.image.oc1.eu-paris-1.aaaaaaaaf7irdvozuzmwyvbfacdivomj52x65vr6tlg62i6er323sevazdqq",
         "shape": "VM.Standard.B1.1"
        },
        {
         "imageId": "ocid1.image.oc1.eu-paris-1.aaaaaaaaf7irdvozuzmwyvbfacdivomj52x65vr6tlg62i6er323sevazdqq",
         "shape": "VM.Standard.B1.16"
        },
        {
         "imageId": "ocid1.image.oc1.eu-paris-1.aaaaaaaaf7irdvozuzmwyvbfacdivomj52x65vr6tlg62i6er323sevazdqq",
         "shape": "VM.Standard.B1.2"
        },
        {
         "imageId": "ocid1.image.oc1.eu-paris-1.aaaaaaaaf7irdvozuzmwyvbfacdivomj52x65vr6tlg62i6er323sevazdqq",
         "shape": "VM.Standard.B1.4"
        },
        {
         "imageId": "ocid1.image.oc1.eu-paris-1.aaaaaaaaf7irdvozuzmwyvbfacdivomj52x65vr6tlg62i6er323sevazdqq",
         "shape": "VM.Standard.B1.8"
        },
        {
         "imageId": "ocid1.image.oc1.eu-paris-1.aaaaaaaaf7irdvozuzmwyvbfacdivomj52x65vr6tlg62i6er323sevazdqq",
         "shape": "VM.Standard.E2.1"
        },
        {
         "imageId": "ocid1.image.oc1.eu-paris-1.aaaaaaaaf7irdvozuzmwyvbfacdivomj52x65vr6tlg62i6er323sevazdqq",
         "shape": "VM.Standard.E2.1.Micro"
        },
        {
         "imageId": "ocid1.image.oc1.eu-paris-1.aaaaaaaaf7irdvozuzmwyvbfacdivomj52x65vr6tlg62i6er323sevazdqq",
         "shape": "VM.Standard.E2.2"
        },
        {
         "imageId": "ocid1.image.oc1.eu-paris-1.aaaaaaaaf7irdvozuzmwyvbfacdivomj52x65vr6tlg62i6er323sevazdqq",
         "shape": "VM.Standard.E2.4"
        },
        {
         "imageId": "ocid1.image.oc1.eu-paris-1.aaaaaaaaf7irdvozuzmwyvbfacdivomj52x65vr6tlg62i6er323sevazdqq",
         "shape": "VM.Standard.E2.8"
        },
        {
         "imageId": "ocid1.image.oc1.eu-paris-1.aaaaaaaaf7irdvozuzmwyvbfacdivomj52x65vr6tlg62i6er323sevazdqq",
         "shape": "VM.Standard.E3.Flex"
        },
        {
         "imageId": "ocid1.image.oc1.eu-paris-1.aaaaaaaaf7irdvozuzmwyvbfacdivomj52x65vr6tlg62i6er323sevazdqq",
         "shape": "VM.Standard.E4.Flex"
        },
        {
         "imageId": "ocid1.image.oc1.eu-paris-1.aaaaaaaaf7irdvozuzmwyvbfacdivomj52x65vr6tlg62i6er323sevazdqq",
         "shape": "VM.Standard.E5.Flex"
        },
        {
         "imageId": "ocid1.image.oc1.eu-paris-1.aaaaaaaaf7irdvozuzmwyvbfacdivomj52x65vr6tlg62i6er323sevazdqq",
         "shape": "VM.Standard.Intel.Generic"
        },
        {
         "imageId": "ocid1.image.oc1.eu-paris-1.aaaaaaaaf7irdvozuzmwyvbfacdivomj52x65vr6tlg62i6er323sevazdqq",
         "shape": "VM.Standard.x86.Generic"
        },
        {
         "imageId": "ocid1.image.oc1.eu-paris-1.aaaaaaaaf7irdvozuzmwyvbfacdivomj52x65vr6tlg62i6er323sevazdqq",
         "shape": "VM.Standard1.1"
        },
        {
         "imageId": "ocid1.image.oc1.eu-paris-1.aaaaaaaaf7irdvozuzmwyvbfacdivomj52x65vr6tlg62i6er323sevazdqq",
         "shape": "VM.Standard1.16"
        },
        {
         "imageId": "ocid1.image.oc1.eu-paris-1.aaaaaaaaf7irdvozuzmwyvbfacdivomj52x65vr6tlg62i6er323sevazdqq",
         "shape": "VM.Standard1.2"
        },
        {
         "imageId": "ocid1.image.oc1.eu-paris-1.aaaaaaaaf7irdvozuzmwyvbfacdivomj52x65vr6tlg62i6er323sevazdqq",
         "shape": "VM.Standard1.4"
        },
        {
         "imageId": "ocid1.image.oc1.eu-paris-1.aaaaaaaaf7irdvozuzmwyvbfacdivomj52x65vr6tlg62i6er323sevazdqq",
         "shape": "VM.Standard1.8"
        },
        {
         "imageId": "ocid1.image.oc1.eu-paris-1.aaaaaaaaf7irdvozuzmwyvbfacdivomj52x65vr6tlg62i6er323sevazdqq",
         "shape": "VM.Standard2.1"
        },
        {
         "imageId": "ocid1.image.oc1.eu-paris-1.aaaaaaaaf7irdvozuzmwyvbfacdivomj52x65vr6tlg62i6er323sevazdqq",
         "shape": "VM.Standard2.16"
        },
        {
         "imageId": "ocid1.image.oc1.eu-paris-1.aaaaaaaaf7irdvozuzmwyvbfacdivomj52x65vr6tlg62i6er323sevazdqq",
         "shape": "VM.Standard2.2"
        },
        {
         "imageId": "ocid1.image.oc1.eu-paris-1.aaaaaaaaf7irdvozuzmwyvbfacdivomj52x65vr6tlg62i6er323sevazdqq",
         "shape": "VM.Standard2.24"
        },
        {
         "imageId": "ocid1.image.oc1.eu-paris-1.aaaaaaaaf7irdvozuzmwyvbfacdivomj52x65vr6tlg62i6er323sevazdqq",
         "shape": "VM.Standard2.4"
        },
        {
         "imageId": "ocid1.image.oc1.eu-paris-1.aaaaaaaaf7irdvozuzmwyvbfacdivomj52x65vr6tlg62i6er323sevazdqq",
         "shape": "VM.Standard2.8"
        },
        {
         "imageId": "ocid1.image.oc1.eu-paris-1.aaaaaaaaf7irdvozuzmwyvbfacdivomj52x65vr6tlg62i6er323sevazdqq",
         "shape": "VM.Standard2.Flex"
        },
        {
         "imageId": "ocid1.image.oc1.eu-paris-1.aaaaaaaaf7irdvozuzmwyvbfacdivomj52x65vr6tlg62i6er323sevazdqq",
         "shape": "VM.Standard3.Flex"
        },
        {
         "imageId": "ocid1.image.oc1.eu-paris-1.aaaaaaaaf7irdvozuzmwyvbfacdivomj52x65vr6tlg62i6er323sevazdqq",
         "shape": "BM.Standard.E2.64"
        },
        {
         "imageId": "ocid1.image.oc1.eu-paris-1.aaaaaaaaf7irdvozuzmwyvbfacdivomj52x65vr6tlg62i6er323sevazdqq",
         "shape": "BM.Standard.E3.128"
        },
        {
         "imageId": "ocid1.image.oc1.eu-paris-1.aaaaaaaaf7irdvozuzmwyvbfacdivomj52x65vr6tlg62i6er323sevazdqq",
         "shape": "BM.GPU4.8"
        },
        {
         "imageId": "ocid1.image.oc1.eu-paris-1.aaaaaaaaf7irdvozuzmwyvbfacdivomj52x65vr6tlg62i6er323sevazdqq",
         "shape": "BM.Standard.E4.128"
        }
       ],
       "schema": {
        "fields": [
         {
          "name": "imageId",
          "type": "string"
         },
         {
          "name": "shape",
          "type": "string"
         }
        ]
       }
      },
      "text/html": [
       "<table><thead><tr><th>imageId</th><th>shape</th></tr></thead><tbody><tr><td>ocid1.image.oc1.eu-paris-1.aaaaaaaaf7irdvozuzmwyvbfacdivomj52x65vr6tlg62i6er323sevazdqq</td><td>VM.DenseIO.E4.Flex</td></tr><tr><td>ocid1.image.oc1.eu-paris-1.aaaaaaaaf7irdvozuzmwyvbfacdivomj52x65vr6tlg62i6er323sevazdqq</td><td>VM.DenseIO.E5.Flex</td></tr><tr><td>ocid1.image.oc1.eu-paris-1.aaaaaaaaf7irdvozuzmwyvbfacdivomj52x65vr6tlg62i6er323sevazdqq</td><td>VM.DenseIO1.16</td></tr><tr><td>ocid1.image.oc1.eu-paris-1.aaaaaaaaf7irdvozuzmwyvbfacdivomj52x65vr6tlg62i6er323sevazdqq</td><td>VM.DenseIO1.4</td></tr><tr><td>ocid1.image.oc1.eu-paris-1.aaaaaaaaf7irdvozuzmwyvbfacdivomj52x65vr6tlg62i6er323sevazdqq</td><td>VM.DenseIO1.8</td></tr><tr><td>ocid1.image.oc1.eu-paris-1.aaaaaaaaf7irdvozuzmwyvbfacdivomj52x65vr6tlg62i6er323sevazdqq</td><td>VM.DenseIO2.16</td></tr><tr><td>ocid1.image.oc1.eu-paris-1.aaaaaaaaf7irdvozuzmwyvbfacdivomj52x65vr6tlg62i6er323sevazdqq</td><td>VM.DenseIO2.24</td></tr><tr><td>ocid1.image.oc1.eu-paris-1.aaaaaaaaf7irdvozuzmwyvbfacdivomj52x65vr6tlg62i6er323sevazdqq</td><td>VM.DenseIO2.8</td></tr><tr><td>ocid1.image.oc1.eu-paris-1.aaaaaaaaf7irdvozuzmwyvbfacdivomj52x65vr6tlg62i6er323sevazdqq</td><td>VM.GPU.A10.1</td></tr><tr><td>ocid1.image.oc1.eu-paris-1.aaaaaaaaf7irdvozuzmwyvbfacdivomj52x65vr6tlg62i6er323sevazdqq</td><td>VM.GPU.A10.2</td></tr><tr><td>ocid1.image.oc1.eu-paris-1.aaaaaaaaf7irdvozuzmwyvbfacdivomj52x65vr6tlg62i6er323sevazdqq</td><td>VM.GPU.GU1.1</td></tr><tr><td>ocid1.image.oc1.eu-paris-1.aaaaaaaaf7irdvozuzmwyvbfacdivomj52x65vr6tlg62i6er323sevazdqq</td><td>VM.GPU.GU1.2</td></tr><tr><td>ocid1.image.oc1.eu-paris-1.aaaaaaaaf7irdvozuzmwyvbfacdivomj52x65vr6tlg62i6er323sevazdqq</td><td>VM.GPU2.1</td></tr><tr><td>ocid1.image.oc1.eu-paris-1.aaaaaaaaf7irdvozuzmwyvbfacdivomj52x65vr6tlg62i6er323sevazdqq</td><td>VM.GPU3.1</td></tr><tr><td>ocid1.image.oc1.eu-paris-1.aaaaaaaaf7irdvozuzmwyvbfacdivomj52x65vr6tlg62i6er323sevazdqq</td><td>VM.GPU3.2</td></tr><tr><td>ocid1.image.oc1.eu-paris-1.aaaaaaaaf7irdvozuzmwyvbfacdivomj52x65vr6tlg62i6er323sevazdqq</td><td>VM.GPU3.4</td></tr><tr><td>ocid1.image.oc1.eu-paris-1.aaaaaaaaf7irdvozuzmwyvbfacdivomj52x65vr6tlg62i6er323sevazdqq</td><td>VM.Optimized3.Flex</td></tr><tr><td>ocid1.image.oc1.eu-paris-1.aaaaaaaaf7irdvozuzmwyvbfacdivomj52x65vr6tlg62i6er323sevazdqq</td><td>VM.Standard.AMD.Generic</td></tr><tr><td>ocid1.image.oc1.eu-paris-1.aaaaaaaaf7irdvozuzmwyvbfacdivomj52x65vr6tlg62i6er323sevazdqq</td><td>VM.Standard.B1.1</td></tr><tr><td>ocid1.image.oc1.eu-paris-1.aaaaaaaaf7irdvozuzmwyvbfacdivomj52x65vr6tlg62i6er323sevazdqq</td><td>VM.Standard.B1.16</td></tr><tr><td>ocid1.image.oc1.eu-paris-1.aaaaaaaaf7irdvozuzmwyvbfacdivomj52x65vr6tlg62i6er323sevazdqq</td><td>VM.Standard.B1.2</td></tr><tr><td>ocid1.image.oc1.eu-paris-1.aaaaaaaaf7irdvozuzmwyvbfacdivomj52x65vr6tlg62i6er323sevazdqq</td><td>VM.Standard.B1.4</td></tr><tr><td>ocid1.image.oc1.eu-paris-1.aaaaaaaaf7irdvozuzmwyvbfacdivomj52x65vr6tlg62i6er323sevazdqq</td><td>VM.Standard.B1.8</td></tr><tr><td>ocid1.image.oc1.eu-paris-1.aaaaaaaaf7irdvozuzmwyvbfacdivomj52x65vr6tlg62i6er323sevazdqq</td><td>VM.Standard.E2.1</td></tr><tr><td>ocid1.image.oc1.eu-paris-1.aaaaaaaaf7irdvozuzmwyvbfacdivomj52x65vr6tlg62i6er323sevazdqq</td><td>VM.Standard.E2.1.Micro</td></tr><tr><td>ocid1.image.oc1.eu-paris-1.aaaaaaaaf7irdvozuzmwyvbfacdivomj52x65vr6tlg62i6er323sevazdqq</td><td>VM.Standard.E2.2</td></tr><tr><td>ocid1.image.oc1.eu-paris-1.aaaaaaaaf7irdvozuzmwyvbfacdivomj52x65vr6tlg62i6er323sevazdqq</td><td>VM.Standard.E2.4</td></tr><tr><td>ocid1.image.oc1.eu-paris-1.aaaaaaaaf7irdvozuzmwyvbfacdivomj52x65vr6tlg62i6er323sevazdqq</td><td>VM.Standard.E2.8</td></tr><tr><td>ocid1.image.oc1.eu-paris-1.aaaaaaaaf7irdvozuzmwyvbfacdivomj52x65vr6tlg62i6er323sevazdqq</td><td>VM.Standard.E3.Flex</td></tr><tr><td>ocid1.image.oc1.eu-paris-1.aaaaaaaaf7irdvozuzmwyvbfacdivomj52x65vr6tlg62i6er323sevazdqq</td><td>VM.Standard.E4.Flex</td></tr><tr><td>ocid1.image.oc1.eu-paris-1.aaaaaaaaf7irdvozuzmwyvbfacdivomj52x65vr6tlg62i6er323sevazdqq</td><td>VM.Standard.E5.Flex</td></tr><tr><td>ocid1.image.oc1.eu-paris-1.aaaaaaaaf7irdvozuzmwyvbfacdivomj52x65vr6tlg62i6er323sevazdqq</td><td>VM.Standard.Intel.Generic</td></tr><tr><td>ocid1.image.oc1.eu-paris-1.aaaaaaaaf7irdvozuzmwyvbfacdivomj52x65vr6tlg62i6er323sevazdqq</td><td>VM.Standard.x86.Generic</td></tr><tr><td>ocid1.image.oc1.eu-paris-1.aaaaaaaaf7irdvozuzmwyvbfacdivomj52x65vr6tlg62i6er323sevazdqq</td><td>VM.Standard1.1</td></tr><tr><td>ocid1.image.oc1.eu-paris-1.aaaaaaaaf7irdvozuzmwyvbfacdivomj52x65vr6tlg62i6er323sevazdqq</td><td>VM.Standard1.16</td></tr><tr><td>ocid1.image.oc1.eu-paris-1.aaaaaaaaf7irdvozuzmwyvbfacdivomj52x65vr6tlg62i6er323sevazdqq</td><td>VM.Standard1.2</td></tr><tr><td>ocid1.image.oc1.eu-paris-1.aaaaaaaaf7irdvozuzmwyvbfacdivomj52x65vr6tlg62i6er323sevazdqq</td><td>VM.Standard1.4</td></tr><tr><td>ocid1.image.oc1.eu-paris-1.aaaaaaaaf7irdvozuzmwyvbfacdivomj52x65vr6tlg62i6er323sevazdqq</td><td>VM.Standard1.8</td></tr><tr><td>ocid1.image.oc1.eu-paris-1.aaaaaaaaf7irdvozuzmwyvbfacdivomj52x65vr6tlg62i6er323sevazdqq</td><td>VM.Standard2.1</td></tr><tr><td>ocid1.image.oc1.eu-paris-1.aaaaaaaaf7irdvozuzmwyvbfacdivomj52x65vr6tlg62i6er323sevazdqq</td><td>VM.Standard2.16</td></tr><tr><td>ocid1.image.oc1.eu-paris-1.aaaaaaaaf7irdvozuzmwyvbfacdivomj52x65vr6tlg62i6er323sevazdqq</td><td>VM.Standard2.2</td></tr><tr><td>ocid1.image.oc1.eu-paris-1.aaaaaaaaf7irdvozuzmwyvbfacdivomj52x65vr6tlg62i6er323sevazdqq</td><td>VM.Standard2.24</td></tr><tr><td>ocid1.image.oc1.eu-paris-1.aaaaaaaaf7irdvozuzmwyvbfacdivomj52x65vr6tlg62i6er323sevazdqq</td><td>VM.Standard2.4</td></tr><tr><td>ocid1.image.oc1.eu-paris-1.aaaaaaaaf7irdvozuzmwyvbfacdivomj52x65vr6tlg62i6er323sevazdqq</td><td>VM.Standard2.8</td></tr><tr><td>ocid1.image.oc1.eu-paris-1.aaaaaaaaf7irdvozuzmwyvbfacdivomj52x65vr6tlg62i6er323sevazdqq</td><td>VM.Standard2.Flex</td></tr><tr><td>ocid1.image.oc1.eu-paris-1.aaaaaaaaf7irdvozuzmwyvbfacdivomj52x65vr6tlg62i6er323sevazdqq</td><td>VM.Standard3.Flex</td></tr><tr><td>ocid1.image.oc1.eu-paris-1.aaaaaaaaf7irdvozuzmwyvbfacdivomj52x65vr6tlg62i6er323sevazdqq</td><td>BM.Standard.E2.64</td></tr><tr><td>ocid1.image.oc1.eu-paris-1.aaaaaaaaf7irdvozuzmwyvbfacdivomj52x65vr6tlg62i6er323sevazdqq</td><td>BM.Standard.E3.128</td></tr><tr><td>ocid1.image.oc1.eu-paris-1.aaaaaaaaf7irdvozuzmwyvbfacdivomj52x65vr6tlg62i6er323sevazdqq</td><td>BM.GPU4.8</td></tr><tr><td>ocid1.image.oc1.eu-paris-1.aaaaaaaaf7irdvozuzmwyvbfacdivomj52x65vr6tlg62i6er323sevazdqq</td><td>BM.Standard.E4.128</td></tr></tbody></table>"
      ]
     },
     "execution_count": 9,
     "metadata": {},
     "output_type": "execute_result"
    }
   ],
   "source": [
    "const compatibilityListExample2 = await getCompatibilityList(\"ocid1.image.oc1.eu-paris-1.aaaaaaaaf7irdvozuzmwyvbfacdivomj52x65vr6tlg62i6er323sevazdqq\")\n",
    "//console.log(example1)\n",
    "// https://pola-rs.github.io/nodejs-polars/functions/pl.readJSON.html\n",
    "const df_compatibilityListExample2 = pl.readJSON(JSON.stringify(compatibilityListExample2.items), {format: \"json\"})\n",
    "\n",
    "//pl.Series('imageShapes', df_compatibilityListExample1)\n",
    "// pl.concat([df_compatibilityListExample2, df_compatibilityListExample1], { how: \"vertical\", rechunk: false })\n",
    "const resultat= pl.concat([df_compatibilityListExample2, df_compatibilityListExample1])\n",
    "\n",
    "// df_compatibilityListExample1.vstack(df_compatibilityListExample2)\n",
    "resultat.select(pl.col('*'))"
   ]
  },
  {
   "cell_type": "code",
   "execution_count": 8,
   "id": "eeefbaa9-bf1e-4185-8289-573ac2e9d2fb",
   "metadata": {},
   "outputs": [
    {
     "name": "stdout",
     "output_type": "stream",
     "text": [
      "{\n",
      "    \"columns\": [\n",
      "        {\n",
      "            \"name\": \"imageId\",\n",
      "            \"datatype\": \"String\",\n",
      "            \"bit_settings\": \"\",\n",
      "            \"values\": [\n",
      "                \"ocid1.image.oc1.eu-paris-1.aaaaaaaaf7irdvozuzmwyvbfacdivomj52x65vr6tlg62i6er323sevazdqq\",\n",
      "                \"ocid1.image.oc1.eu-paris-1.aaaaaaaaf7irdvozuzmwyvbfacdivomj52x65vr6tlg62i6er323sevazdqq\",\n",
      "                \"ocid1.image.oc1.eu-paris-1.aaaaaaaaf7irdvozuzmwyvbfacdivomj52x65vr6tlg62i6er323sevazdqq\",\n",
      "                \"ocid1.image.oc1.eu-paris-1.aaaaaaaaf7irdvozuzmwyvbfacdivomj52x65vr6tlg62i6er323sevazdqq\",\n",
      "                \"ocid1.image.oc1.eu-paris-1.aaaaaaaaf7irdvozuzmwyvbfacdivomj52x65vr6tlg62i6er323sevazdqq\",\n",
      "                \"ocid1.image.oc1.eu-paris-1.aaaaaaaaf7irdvozuzmwyvbfacdivomj52x65vr6tlg62i6er323sevazdqq\",\n",
      "                \"ocid1.image.oc1.eu-paris-1.aaaaaaaaf7irdvozuzmwyvbfacdivomj52x65vr6tlg62i6er323sevazdqq\",\n",
      "                \"ocid1.image.oc1.eu-paris-1.aaaaaaaaf7irdvozuzmwyvbfacdivomj52x65vr6tlg62i6er323sevazdqq\",\n",
      "                \"ocid1.image.oc1.eu-paris-1.aaaaaaaaf7irdvozuzmwyvbfacdivomj52x65vr6tlg62i6er323sevazdqq\",\n",
      "                \"ocid1.image.oc1.eu-paris-1.aaaaaaaaf7irdvozuzmwyvbfacdivomj52x65vr6tlg62i6er323sevazdqq\",\n",
      "                \"ocid1.image.oc1.eu-paris-1.aaaaaaaaf7irdvozuzmwyvbfacdivomj52x65vr6tlg62i6er323sevazdqq\",\n",
      "                \"ocid1.image.oc1.eu-paris-1.aaaaaaaaf7irdvozuzmwyvbfacdivomj52x65vr6tlg62i6er323sevazdqq\",\n",
      "                \"ocid1.image.oc1.eu-paris-1.aaaaaaaaf7irdvozuzmwyvbfacdivomj52x65vr6tlg62i6er323sevazdqq\",\n",
      "                \"ocid1.image.oc1.eu-paris-1.aaaaaaaaf7irdvozuzmwyvbfacdivomj52x65vr6tlg62i6er323sevazdqq\",\n",
      "                \"ocid1.image.oc1.eu-paris-1.aaaaaaaaf7irdvozuzmwyvbfacdivomj52x65vr6tlg62i6er323sevazdqq\",\n",
      "                \"ocid1.image.oc1.eu-paris-1.aaaaaaaaf7irdvozuzmwyvbfacdivomj52x65vr6tlg62i6er323sevazdqq\",\n",
      "                \"ocid1.image.oc1.eu-paris-1.aaaaaaaaf7irdvozuzmwyvbfacdivomj52x65vr6tlg62i6er323sevazdqq\",\n",
      "                \"ocid1.image.oc1.eu-paris-1.aaaaaaaaf7irdvozuzmwyvbfacdivomj52x65vr6tlg62i6er323sevazdqq\",\n",
      "                \"ocid1.image.oc1.eu-paris-1.aaaaaaaaf7irdvozuzmwyvbfacdivomj52x65vr6tlg62i6er323sevazdqq\",\n",
      "                \"ocid1.image.oc1.eu-paris-1.aaaaaaaaf7irdvozuzmwyvbfacdivomj52x65vr6tlg62i6er323sevazdqq\",\n",
      "                \"ocid1.image.oc1.eu-paris-1.aaaaaaaaf7irdvozuzmwyvbfacdivomj52x65vr6tlg62i6er323sevazdqq\",\n",
      "                \"ocid1.image.oc1.eu-paris-1.aaaaaaaaf7irdvozuzmwyvbfacdivomj52x65vr6tlg62i6er323sevazdqq\",\n",
      "                \"ocid1.image.oc1.eu-paris-1.aaaaaaaaf7irdvozuzmwyvbfacdivomj52x65vr6tlg62i6er323sevazdqq\",\n",
      "                \"ocid1.image.oc1.eu-paris-1.aaaaaaaaf7irdvozuzmwyvbfacdivomj52x65vr6tlg62i6er323sevazdqq\",\n",
      "                \"ocid1.image.oc1.eu-paris-1.aaaaaaaaf7irdvozuzmwyvbfacdivomj52x65vr6tlg62i6er323sevazdqq\",\n",
      "                \"ocid1.image.oc1.eu-paris-1.aaaaaaaaf7irdvozuzmwyvbfacdivomj52x65vr6tlg62i6er323sevazdqq\",\n",
      "                \"ocid1.image.oc1.eu-paris-1.aaaaaaaaf7irdvozuzmwyvbfacdivomj52x65vr6tlg62i6er323sevazdqq\",\n",
      "                \"ocid1.image.oc1.eu-paris-1.aaaaaaaaf7irdvozuzmwyvbfacdivomj52x65vr6tlg62i6er323sevazdqq\",\n",
      "                \"ocid1.image.oc1.eu-paris-1.aaaaaaaaf7irdvozuzmwyvbfacdivomj52x65vr6tlg62i6er323sevazdqq\",\n",
      "                \"ocid1.image.oc1.eu-paris-1.aaaaaaaaf7irdvozuzmwyvbfacdivomj52x65vr6tlg62i6er323sevazdqq\",\n",
      "                \"ocid1.image.oc1.eu-paris-1.aaaaaaaaf7irdvozuzmwyvbfacdivomj52x65vr6tlg62i6er323sevazdqq\",\n",
      "                \"ocid1.image.oc1.eu-paris-1.aaaaaaaaf7irdvozuzmwyvbfacdivomj52x65vr6tlg62i6er323sevazdqq\",\n",
      "                \"ocid1.image.oc1.eu-paris-1.aaaaaaaaf7irdvozuzmwyvbfacdivomj52x65vr6tlg62i6er323sevazdqq\",\n",
      "                \"ocid1.image.oc1.eu-paris-1.aaaaaaaaf7irdvozuzmwyvbfacdivomj52x65vr6tlg62i6er323sevazdqq\",\n",
      "                \"ocid1.image.oc1.eu-paris-1.aaaaaaaaf7irdvozuzmwyvbfacdivomj52x65vr6tlg62i6er323sevazdqq\",\n",
      "                \"ocid1.image.oc1.eu-paris-1.aaaaaaaaf7irdvozuzmwyvbfacdivomj52x65vr6tlg62i6er323sevazdqq\",\n",
      "                \"ocid1.image.oc1.eu-paris-1.aaaaaaaaf7irdvozuzmwyvbfacdivomj52x65vr6tlg62i6er323sevazdqq\",\n",
      "                \"ocid1.image.oc1.eu-paris-1.aaaaaaaaf7irdvozuzmwyvbfacdivomj52x65vr6tlg62i6er323sevazdqq\",\n",
      "                \"ocid1.image.oc1.eu-paris-1.aaaaaaaaf7irdvozuzmwyvbfacdivomj52x65vr6tlg62i6er323sevazdqq\",\n",
      "                \"ocid1.image.oc1.eu-paris-1.aaaaaaaaf7irdvozuzmwyvbfacdivomj52x65vr6tlg62i6er323sevazdqq\",\n",
      "                \"ocid1.image.oc1.eu-paris-1.aaaaaaaaf7irdvozuzmwyvbfacdivomj52x65vr6tlg62i6er323sevazdqq\",\n",
      "                \"ocid1.image.oc1.eu-paris-1.aaaaaaaaf7irdvozuzmwyvbfacdivomj52x65vr6tlg62i6er323sevazdqq\",\n",
      "                \"ocid1.image.oc1.eu-paris-1.aaaaaaaaf7irdvozuzmwyvbfacdivomj52x65vr6tlg62i6er323sevazdqq\",\n",
      "                \"ocid1.image.oc1.eu-paris-1.aaaaaaaaf7irdvozuzmwyvbfacdivomj52x65vr6tlg62i6er323sevazdqq\",\n",
      "                \"ocid1.image.oc1.eu-paris-1.aaaaaaaaf7irdvozuzmwyvbfacdivomj52x65vr6tlg62i6er323sevazdqq\",\n",
      "                \"ocid1.image.oc1.eu-paris-1.aaaaaaaaf7irdvozuzmwyvbfacdivomj52x65vr6tlg62i6er323sevazdqq\",\n",
      "                \"ocid1.image.oc1.eu-paris-1.aaaaaaaaf7irdvozuzmwyvbfacdivomj52x65vr6tlg62i6er323sevazdqq\",\n",
      "                \"ocid1.image.oc1.eu-paris-1.aaaaaaaaf7irdvozuzmwyvbfacdivomj52x65vr6tlg62i6er323sevazdqq\",\n",
      "                \"ocid1.image.oc1.eu-paris-1.aaaaaaaaf7irdvozuzmwyvbfacdivomj52x65vr6tlg62i6er323sevazdqq\",\n",
      "                \"ocid1.image.oc1.eu-paris-1.aaaaaaaaf7irdvozuzmwyvbfacdivomj52x65vr6tlg62i6er323sevazdqq\",\n",
      "                \"ocid1.image.oc1.eu-paris-1.aaaaaaaaf7irdvozuzmwyvbfacdivomj52x65vr6tlg62i6er323sevazdqq\",\n",
      "                \"ocid1.image.oc1.eu-paris-1.aaaaaaaaf7irdvozuzmwyvbfacdivomj52x65vr6tlg62i6er323sevazdqq\",\n",
      "                \"ocid1.image.oc1.eu-paris-1.aaaaaaaaf7irdvozuzmwyvbfacdivomj52x65vr6tlg62i6er323sevazdqq\",\n",
      "                \"ocid1.image.oc1.eu-paris-1.aaaaaaaaf7irdvozuzmwyvbfacdivomj52x65vr6tlg62i6er323sevazdqq\",\n",
      "                \"ocid1.image.oc1.eu-paris-1.aaaaaaaaf7irdvozuzmwyvbfacdivomj52x65vr6tlg62i6er323sevazdqq\",\n",
      "                \"ocid1.image.oc1.eu-paris-1.aaaaaaaaf7irdvozuzmwyvbfacdivomj52x65vr6tlg62i6er323sevazdqq\",\n",
      "                \"ocid1.image.oc1.eu-paris-1.aaaaaaaaf7irdvozuzmwyvbfacdivomj52x65vr6tlg62i6er323sevazdqq\",\n",
      "                \"ocid1.image.oc1.eu-paris-1.aaaaaaaaf7irdvozuzmwyvbfacdivomj52x65vr6tlg62i6er323sevazdqq\",\n",
      "                \"ocid1.image.oc1.eu-paris-1.aaaaaaaaf7irdvozuzmwyvbfacdivomj52x65vr6tlg62i6er323sevazdqq\",\n",
      "                \"ocid1.image.oc1.eu-paris-1.aaaaaaaaf7irdvozuzmwyvbfacdivomj52x65vr6tlg62i6er323sevazdqq\",\n",
      "                \"ocid1.image.oc1.eu-paris-1.aaaaaaaaf7irdvozuzmwyvbfacdivomj52x65vr6tlg62i6er323sevazdqq\",\n",
      "                \"ocid1.image.oc1.eu-paris-1.aaaaaaaaf7irdvozuzmwyvbfacdivomj52x65vr6tlg62i6er323sevazdqq\",\n",
      "                \"ocid1.image.oc1.eu-paris-1.aaaaaaaaf7irdvozuzmwyvbfacdivomj52x65vr6tlg62i6er323sevazdqq\",\n",
      "                \"ocid1.image.oc1.eu-paris-1.aaaaaaaaf7irdvozuzmwyvbfacdivomj52x65vr6tlg62i6er323sevazdqq\",\n",
      "                \"ocid1.image.oc1.eu-paris-1.aaaaaaaaf7irdvozuzmwyvbfacdivomj52x65vr6tlg62i6er323sevazdqq\",\n",
      "                \"ocid1.image.oc1.eu-paris-1.aaaaaaaaf7irdvozuzmwyvbfacdivomj52x65vr6tlg62i6er323sevazdqq\",\n",
      "                \"ocid1.image.oc1.eu-paris-1.aaaaaaaaf7irdvozuzmwyvbfacdivomj52x65vr6tlg62i6er323sevazdqq\",\n",
      "                \"ocid1.image.oc1.eu-paris-1.aaaaaaaaf7irdvozuzmwyvbfacdivomj52x65vr6tlg62i6er323sevazdqq\",\n",
      "                \"ocid1.image.oc1.eu-paris-1.aaaaaaaalvbkaoybngg572c4ybw47avoyv2vk4raeus2bg4hyrbfuq4hmcuq\",\n",
      "                \"ocid1.image.oc1.eu-paris-1.aaaaaaaalvbkaoybngg572c4ybw47avoyv2vk4raeus2bg4hyrbfuq4hmcuq\",\n",
      "                \"ocid1.image.oc1.eu-paris-1.aaaaaaaalvbkaoybngg572c4ybw47avoyv2vk4raeus2bg4hyrbfuq4hmcuq\",\n",
      "                \"ocid1.image.oc1.eu-paris-1.aaaaaaaalvbkaoybngg572c4ybw47avoyv2vk4raeus2bg4hyrbfuq4hmcuq\",\n",
      "                \"ocid1.image.oc1.eu-paris-1.aaaaaaaalvbkaoybngg572c4ybw47avoyv2vk4raeus2bg4hyrbfuq4hmcuq\",\n",
      "                \"ocid1.image.oc1.eu-paris-1.aaaaaaaalvbkaoybngg572c4ybw47avoyv2vk4raeus2bg4hyrbfuq4hmcuq\",\n",
      "                \"ocid1.image.oc1.eu-paris-1.aaaaaaaalvbkaoybngg572c4ybw47avoyv2vk4raeus2bg4hyrbfuq4hmcuq\",\n",
      "                \"ocid1.image.oc1.eu-paris-1.aaaaaaaalvbkaoybngg572c4ybw47avoyv2vk4raeus2bg4hyrbfuq4hmcuq\",\n",
      "                \"ocid1.image.oc1.eu-paris-1.aaaaaaaalvbkaoybngg572c4ybw47avoyv2vk4raeus2bg4hyrbfuq4hmcuq\",\n",
      "                \"ocid1.image.oc1.eu-paris-1.aaaaaaaalvbkaoybngg572c4ybw47avoyv2vk4raeus2bg4hyrbfuq4hmcuq\",\n",
      "                \"ocid1.image.oc1.eu-paris-1.aaaaaaaalvbkaoybngg572c4ybw47avoyv2vk4raeus2bg4hyrbfuq4hmcuq\",\n",
      "                \"ocid1.image.oc1.eu-paris-1.aaaaaaaalvbkaoybngg572c4ybw47avoyv2vk4raeus2bg4hyrbfuq4hmcuq\",\n",
      "                \"ocid1.image.oc1.eu-paris-1.aaaaaaaalvbkaoybngg572c4ybw47avoyv2vk4raeus2bg4hyrbfuq4hmcuq\",\n",
      "                \"ocid1.image.oc1.eu-paris-1.aaaaaaaalvbkaoybngg572c4ybw47avoyv2vk4raeus2bg4hyrbfuq4hmcuq\",\n",
      "                \"ocid1.image.oc1.eu-paris-1.aaaaaaaalvbkaoybngg572c4ybw47avoyv2vk4raeus2bg4hyrbfuq4hmcuq\",\n",
      "                \"ocid1.image.oc1.eu-paris-1.aaaaaaaalvbkaoybngg572c4ybw47avoyv2vk4raeus2bg4hyrbfuq4hmcuq\",\n",
      "                \"ocid1.image.oc1.eu-paris-1.aaaaaaaalvbkaoybngg572c4ybw47avoyv2vk4raeus2bg4hyrbfuq4hmcuq\",\n",
      "                \"ocid1.image.oc1.eu-paris-1.aaaaaaaalvbkaoybngg572c4ybw47avoyv2vk4raeus2bg4hyrbfuq4hmcuq\",\n",
      "                \"ocid1.image.oc1.eu-paris-1.aaaaaaaalvbkaoybngg572c4ybw47avoyv2vk4raeus2bg4hyrbfuq4hmcuq\",\n",
      "                \"ocid1.image.oc1.eu-paris-1.aaaaaaaalvbkaoybngg572c4ybw47avoyv2vk4raeus2bg4hyrbfuq4hmcuq\",\n",
      "                \"ocid1.image.oc1.eu-paris-1.aaaaaaaalvbkaoybngg572c4ybw47avoyv2vk4raeus2bg4hyrbfuq4hmcuq\",\n",
      "                \"ocid1.image.oc1.eu-paris-1.aaaaaaaalvbkaoybngg572c4ybw47avoyv2vk4raeus2bg4hyrbfuq4hmcuq\",\n",
      "                \"ocid1.image.oc1.eu-paris-1.aaaaaaaalvbkaoybngg572c4ybw47avoyv2vk4raeus2bg4hyrbfuq4hmcuq\",\n",
      "                \"ocid1.image.oc1.eu-paris-1.aaaaaaaalvbkaoybngg572c4ybw47avoyv2vk4raeus2bg4hyrbfuq4hmcuq\",\n",
      "                \"ocid1.image.oc1.eu-paris-1.aaaaaaaalvbkaoybngg572c4ybw47avoyv2vk4raeus2bg4hyrbfuq4hmcuq\",\n",
      "                \"ocid1.image.oc1.eu-paris-1.aaaaaaaalvbkaoybngg572c4ybw47avoyv2vk4raeus2bg4hyrbfuq4hmcuq\",\n",
      "                \"ocid1.image.oc1.eu-paris-1.aaaaaaaalvbkaoybngg572c4ybw47avoyv2vk4raeus2bg4hyrbfuq4hmcuq\",\n",
      "                \"ocid1.image.oc1.eu-paris-1.aaaaaaaalvbkaoybngg572c4ybw47avoyv2vk4raeus2bg4hyrbfuq4hmcuq\",\n",
      "                \"ocid1.image.oc1.eu-paris-1.aaaaaaaalvbkaoybngg572c4ybw47avoyv2vk4raeus2bg4hyrbfuq4hmcuq\",\n",
      "                \"ocid1.image.oc1.eu-paris-1.aaaaaaaalvbkaoybngg572c4ybw47avoyv2vk4raeus2bg4hyrbfuq4hmcuq\",\n",
      "                \"ocid1.image.oc1.eu-paris-1.aaaaaaaalvbkaoybngg572c4ybw47avoyv2vk4raeus2bg4hyrbfuq4hmcuq\",\n",
      "                \"ocid1.image.oc1.eu-paris-1.aaaaaaaalvbkaoybngg572c4ybw47avoyv2vk4raeus2bg4hyrbfuq4hmcuq\",\n",
      "                \"ocid1.image.oc1.eu-paris-1.aaaaaaaalvbkaoybngg572c4ybw47avoyv2vk4raeus2bg4hyrbfuq4hmcuq\",\n",
      "                \"ocid1.image.oc1.eu-paris-1.aaaaaaaalvbkaoybngg572c4ybw47avoyv2vk4raeus2bg4hyrbfuq4hmcuq\",\n",
      "                \"ocid1.image.oc1.eu-paris-1.aaaaaaaalvbkaoybngg572c4ybw47avoyv2vk4raeus2bg4hyrbfuq4hmcuq\",\n",
      "                \"ocid1.image.oc1.eu-paris-1.aaaaaaaalvbkaoybngg572c4ybw47avoyv2vk4raeus2bg4hyrbfuq4hmcuq\",\n",
      "                \"ocid1.image.oc1.eu-paris-1.aaaaaaaalvbkaoybngg572c4ybw47avoyv2vk4raeus2bg4hyrbfuq4hmcuq\",\n",
      "                \"ocid1.image.oc1.eu-paris-1.aaaaaaaalvbkaoybngg572c4ybw47avoyv2vk4raeus2bg4hyrbfuq4hmcuq\",\n",
      "                \"ocid1.image.oc1.eu-paris-1.aaaaaaaalvbkaoybngg572c4ybw47avoyv2vk4raeus2bg4hyrbfuq4hmcuq\",\n",
      "                \"ocid1.image.oc1.eu-paris-1.aaaaaaaalvbkaoybngg572c4ybw47avoyv2vk4raeus2bg4hyrbfuq4hmcuq\",\n",
      "                \"ocid1.image.oc1.eu-paris-1.aaaaaaaalvbkaoybngg572c4ybw47avoyv2vk4raeus2bg4hyrbfuq4hmcuq\",\n",
      "                \"ocid1.image.oc1.eu-paris-1.aaaaaaaalvbkaoybngg572c4ybw47avoyv2vk4raeus2bg4hyrbfuq4hmcuq\",\n",
      "                \"ocid1.image.oc1.eu-paris-1.aaaaaaaalvbkaoybngg572c4ybw47avoyv2vk4raeus2bg4hyrbfuq4hmcuq\",\n",
      "                \"ocid1.image.oc1.eu-paris-1.aaaaaaaalvbkaoybngg572c4ybw47avoyv2vk4raeus2bg4hyrbfuq4hmcuq\",\n",
      "                \"ocid1.image.oc1.eu-paris-1.aaaaaaaalvbkaoybngg572c4ybw47avoyv2vk4raeus2bg4hyrbfuq4hmcuq\",\n",
      "                \"ocid1.image.oc1.eu-paris-1.aaaaaaaalvbkaoybngg572c4ybw47avoyv2vk4raeus2bg4hyrbfuq4hmcuq\",\n",
      "                \"ocid1.image.oc1.eu-paris-1.aaaaaaaalvbkaoybngg572c4ybw47avoyv2vk4raeus2bg4hyrbfuq4hmcuq\",\n",
      "                \"ocid1.image.oc1.eu-paris-1.aaaaaaaalvbkaoybngg572c4ybw47avoyv2vk4raeus2bg4hyrbfuq4hmcuq\",\n",
      "                \"ocid1.image.oc1.eu-paris-1.aaaaaaaalvbkaoybngg572c4ybw47avoyv2vk4raeus2bg4hyrbfuq4hmcuq\",\n",
      "                \"ocid1.image.oc1.eu-paris-1.aaaaaaaalvbkaoybngg572c4ybw47avoyv2vk4raeus2bg4hyrbfuq4hmcuq\",\n",
      "                \"ocid1.image.oc1.eu-paris-1.aaaaaaaalvbkaoybngg572c4ybw47avoyv2vk4raeus2bg4hyrbfuq4hmcuq\",\n",
      "                \"ocid1.image.oc1.eu-paris-1.aaaaaaaalvbkaoybngg572c4ybw47avoyv2vk4raeus2bg4hyrbfuq4hmcuq\",\n",
      "                \"ocid1.image.oc1.eu-paris-1.aaaaaaaalvbkaoybngg572c4ybw47avoyv2vk4raeus2bg4hyrbfuq4hmcuq\",\n",
      "                \"ocid1.image.oc1.eu-paris-1.aaaaaaaalvbkaoybngg572c4ybw47avoyv2vk4raeus2bg4hyrbfuq4hmcuq\",\n",
      "                \"ocid1.image.oc1.eu-paris-1.aaaaaaaalvbkaoybngg572c4ybw47avoyv2vk4raeus2bg4hyrbfuq4hmcuq\",\n",
      "                \"ocid1.image.oc1.eu-paris-1.aaaaaaaalvbkaoybngg572c4ybw47avoyv2vk4raeus2bg4hyrbfuq4hmcuq\",\n",
      "                \"ocid1.image.oc1.eu-paris-1.aaaaaaaalvbkaoybngg572c4ybw47avoyv2vk4raeus2bg4hyrbfuq4hmcuq\",\n",
      "                \"ocid1.image.oc1.eu-paris-1.aaaaaaaalvbkaoybngg572c4ybw47avoyv2vk4raeus2bg4hyrbfuq4hmcuq\",\n",
      "                \"ocid1.image.oc1.eu-paris-1.aaaaaaaalvbkaoybngg572c4ybw47avoyv2vk4raeus2bg4hyrbfuq4hmcuq\",\n",
      "                \"ocid1.image.oc1.eu-paris-1.aaaaaaaalvbkaoybngg572c4ybw47avoyv2vk4raeus2bg4hyrbfuq4hmcuq\"\n",
      "            ]\n",
      "        },\n",
      "        {\n",
      "            \"name\": \"shape\",\n",
      "            \"datatype\": \"String\",\n",
      "            \"bit_settings\": \"\",\n",
      "            \"values\": [\n",
      "                \"VM.DenseIO.E4.Flex\",\n",
      "                \"VM.DenseIO.E5.Flex\",\n",
      "                \"VM.DenseIO1.16\",\n",
      "                \"VM.DenseIO1.4\",\n",
      "                \"VM.DenseIO1.8\",\n",
      "                \"VM.DenseIO2.16\",\n",
      "                \"VM.DenseIO2.24\",\n",
      "                \"VM.DenseIO2.8\",\n",
      "                \"VM.GPU.A10.1\",\n",
      "                \"VM.GPU.A10.2\",\n",
      "                \"VM.GPU.GU1.1\",\n",
      "                \"VM.GPU.GU1.2\",\n",
      "                \"VM.GPU2.1\",\n",
      "                \"VM.GPU3.1\",\n",
      "                \"VM.GPU3.2\",\n",
      "                \"VM.GPU3.4\",\n",
      "                \"VM.Optimized3.Flex\",\n",
      "                \"VM.Standard.AMD.Generic\",\n",
      "                \"VM.Standard.B1.1\",\n",
      "                \"VM.Standard.B1.16\",\n",
      "                \"VM.Standard.B1.2\",\n",
      "                \"VM.Standard.B1.4\",\n",
      "                \"VM.Standard.B1.8\",\n",
      "                \"VM.Standard.E2.1\",\n",
      "                \"VM.Standard.E2.1.Micro\",\n",
      "                \"VM.Standard.E2.2\",\n",
      "                \"VM.Standard.E2.4\",\n",
      "                \"VM.Standard.E2.8\",\n",
      "                \"VM.Standard.E3.Flex\",\n",
      "                \"VM.Standard.E4.Flex\",\n",
      "                \"VM.Standard.E5.Flex\",\n",
      "                \"VM.Standard.Intel.Generic\",\n",
      "                \"VM.Standard.x86.Generic\",\n",
      "                \"VM.Standard1.1\",\n",
      "                \"VM.Standard1.16\",\n",
      "                \"VM.Standard1.2\",\n",
      "                \"VM.Standard1.4\",\n",
      "                \"VM.Standard1.8\",\n",
      "                \"VM.Standard2.1\",\n",
      "                \"VM.Standard2.16\",\n",
      "                \"VM.Standard2.2\",\n",
      "                \"VM.Standard2.24\",\n",
      "                \"VM.Standard2.4\",\n",
      "                \"VM.Standard2.8\",\n",
      "                \"VM.Standard2.Flex\",\n",
      "                \"VM.Standard3.Flex\",\n",
      "                \"BM.Standard.E2.64\",\n",
      "                \"BM.Standard.E3.128\",\n",
      "                \"BM.GPU4.8\",\n",
      "                \"BM.Standard.E4.128\",\n",
      "                \"BM.GPU.A100-v2.8\",\n",
      "                \"BM.DenseIO.E4.128\",\n",
      "                \"BM.DenseIO.E5.128\",\n",
      "                \"BM.Standard.E5.192\",\n",
      "                \"BM.GPU.H100.8\",\n",
      "                \"BM.Standard1.36\",\n",
      "                \"BM.HighIO1.36\",\n",
      "                \"BM.DenseIO1.36\",\n",
      "                \"BM.Standard.B1.44\",\n",
      "                \"BM.GPU2.2\",\n",
      "                \"BM.HPC2.36\",\n",
      "                \"BM.Standard2.52\",\n",
      "                \"BM.GPU3.8\",\n",
      "                \"BM.DenseIO2.52\",\n",
      "                \"BM.GPU.T1.2\",\n",
      "                \"BM.Optimized3.36\",\n",
      "                \"BM.Standard3.64\",\n",
      "                \"BM.GPU.A10.4\",\n",
      "                \"VM.DenseIO.E4.Flex\",\n",
      "                \"VM.DenseIO.E5.Flex\",\n",
      "                \"VM.DenseIO1.16\",\n",
      "                \"VM.DenseIO1.4\",\n",
      "                \"VM.DenseIO1.8\",\n",
      "                \"VM.DenseIO2.16\",\n",
      "                \"VM.DenseIO2.24\",\n",
      "                \"VM.DenseIO2.8\",\n",
      "                \"VM.GPU.A10.1\",\n",
      "                \"VM.GPU.A10.2\",\n",
      "                \"VM.GPU.GU1.1\",\n",
      "                \"VM.GPU.GU1.2\",\n",
      "                \"VM.GPU2.1\",\n",
      "                \"VM.GPU3.1\",\n",
      "                \"VM.GPU3.2\",\n",
      "                \"VM.GPU3.4\",\n",
      "                \"VM.Optimized3.Flex\",\n",
      "                \"VM.Standard.AMD.Generic\",\n",
      "                \"VM.Standard.E2.1\",\n",
      "                \"VM.Standard.E2.1.Micro\",\n",
      "                \"VM.Standard.E2.2\",\n",
      "                \"VM.Standard.E2.4\",\n",
      "                \"VM.Standard.E2.8\",\n",
      "                \"VM.Standard.E3.Flex\",\n",
      "                \"VM.Standard.E4.Flex\",\n",
      "                \"VM.Standard.E5.Flex\",\n",
      "                \"VM.Standard.Intel.Generic\",\n",
      "                \"VM.Standard.x86.Generic\",\n",
      "                \"VM.Standard1.1\",\n",
      "                \"VM.Standard1.16\",\n",
      "                \"VM.Standard1.2\",\n",
      "                \"VM.Standard1.4\",\n",
      "                \"VM.Standard1.8\",\n",
      "                \"VM.Standard2.1\",\n",
      "                \"VM.Standard2.16\",\n",
      "                \"VM.Standard2.2\",\n",
      "                \"VM.Standard2.24\",\n",
      "                \"VM.Standard2.4\",\n",
      "                \"VM.Standard2.8\",\n",
      "                \"VM.Standard2.Flex\",\n",
      "                \"VM.Standard3.Flex\",\n",
      "                \"BM.Standard.E2.64\",\n",
      "                \"BM.Standard.E3.128\",\n",
      "                \"BM.GPU4.8\",\n",
      "                \"BM.Standard.E4.128\",\n",
      "                \"BM.GPU.A100-v2.8\",\n",
      "                \"BM.DenseIO.E4.128\",\n",
      "                \"BM.DenseIO.E5.128\",\n",
      "                \"BM.Standard.E5.192\",\n",
      "                \"BM.Standard1.36\",\n",
      "                \"BM.HighIO1.36\",\n",
      "                \"BM.DenseIO1.36\",\n",
      "                \"BM.GPU2.2\",\n",
      "                \"BM.HPC2.36\",\n",
      "                \"BM.Standard2.52\",\n",
      "                \"BM.GPU3.8\",\n",
      "                \"BM.DenseIO2.52\",\n",
      "                \"BM.Optimized3.36\",\n",
      "                \"BM.Standard3.64\",\n",
      "                \"BM.GPU.A10.4\"\n",
      "            ]\n",
      "        }\n",
      "    ]\n",
      "}\n"
     ]
    }
   ],
   "source": [
    "console.log(JSON.stringify(resultat, null, 4))\n"
   ]
  },
  {
   "cell_type": "code",
   "execution_count": 11,
   "id": "5c54dc52-6ea5-45a6-b47f-fa7e1482753d",
   "metadata": {},
   "outputs": [
    {
     "name": "stdout",
     "output_type": "stream",
     "text": [
      "{\n",
      "    \"columns\": [\n",
      "        {\n",
      "            \"name\": \"imageId\",\n",
      "            \"datatype\": \"String\",\n",
      "            \"bit_settings\": \"\",\n",
      "            \"values\": [\n",
      "                \"ocid1.image.oc1.eu-paris-1.aaaaaaaalvbkaoybngg572c4ybw47avoyv2vk4raeus2bg4hyrbfuq4hmcuq\",\n",
      "                \"ocid1.image.oc1.eu-paris-1.aaaaaaaalvbkaoybngg572c4ybw47avoyv2vk4raeus2bg4hyrbfuq4hmcuq\",\n",
      "                \"ocid1.image.oc1.eu-paris-1.aaaaaaaalvbkaoybngg572c4ybw47avoyv2vk4raeus2bg4hyrbfuq4hmcuq\",\n",
      "                \"ocid1.image.oc1.eu-paris-1.aaaaaaaalvbkaoybngg572c4ybw47avoyv2vk4raeus2bg4hyrbfuq4hmcuq\",\n",
      "                \"ocid1.image.oc1.eu-paris-1.aaaaaaaalvbkaoybngg572c4ybw47avoyv2vk4raeus2bg4hyrbfuq4hmcuq\",\n",
      "                \"ocid1.image.oc1.eu-paris-1.aaaaaaaalvbkaoybngg572c4ybw47avoyv2vk4raeus2bg4hyrbfuq4hmcuq\",\n",
      "                \"ocid1.image.oc1.eu-paris-1.aaaaaaaalvbkaoybngg572c4ybw47avoyv2vk4raeus2bg4hyrbfuq4hmcuq\",\n",
      "                \"ocid1.image.oc1.eu-paris-1.aaaaaaaalvbkaoybngg572c4ybw47avoyv2vk4raeus2bg4hyrbfuq4hmcuq\",\n",
      "                \"ocid1.image.oc1.eu-paris-1.aaaaaaaalvbkaoybngg572c4ybw47avoyv2vk4raeus2bg4hyrbfuq4hmcuq\",\n",
      "                \"ocid1.image.oc1.eu-paris-1.aaaaaaaalvbkaoybngg572c4ybw47avoyv2vk4raeus2bg4hyrbfuq4hmcuq\",\n",
      "                \"ocid1.image.oc1.eu-paris-1.aaaaaaaalvbkaoybngg572c4ybw47avoyv2vk4raeus2bg4hyrbfuq4hmcuq\",\n",
      "                \"ocid1.image.oc1.eu-paris-1.aaaaaaaalvbkaoybngg572c4ybw47avoyv2vk4raeus2bg4hyrbfuq4hmcuq\",\n",
      "                \"ocid1.image.oc1.eu-paris-1.aaaaaaaalvbkaoybngg572c4ybw47avoyv2vk4raeus2bg4hyrbfuq4hmcuq\",\n",
      "                \"ocid1.image.oc1.eu-paris-1.aaaaaaaalvbkaoybngg572c4ybw47avoyv2vk4raeus2bg4hyrbfuq4hmcuq\",\n",
      "                \"ocid1.image.oc1.eu-paris-1.aaaaaaaalvbkaoybngg572c4ybw47avoyv2vk4raeus2bg4hyrbfuq4hmcuq\",\n",
      "                \"ocid1.image.oc1.eu-paris-1.aaaaaaaalvbkaoybngg572c4ybw47avoyv2vk4raeus2bg4hyrbfuq4hmcuq\",\n",
      "                \"ocid1.image.oc1.eu-paris-1.aaaaaaaalvbkaoybngg572c4ybw47avoyv2vk4raeus2bg4hyrbfuq4hmcuq\",\n",
      "                \"ocid1.image.oc1.eu-paris-1.aaaaaaaalvbkaoybngg572c4ybw47avoyv2vk4raeus2bg4hyrbfuq4hmcuq\",\n",
      "                \"ocid1.image.oc1.eu-paris-1.aaaaaaaalvbkaoybngg572c4ybw47avoyv2vk4raeus2bg4hyrbfuq4hmcuq\",\n",
      "                \"ocid1.image.oc1.eu-paris-1.aaaaaaaalvbkaoybngg572c4ybw47avoyv2vk4raeus2bg4hyrbfuq4hmcuq\",\n",
      "                \"ocid1.image.oc1.eu-paris-1.aaaaaaaalvbkaoybngg572c4ybw47avoyv2vk4raeus2bg4hyrbfuq4hmcuq\",\n",
      "                \"ocid1.image.oc1.eu-paris-1.aaaaaaaalvbkaoybngg572c4ybw47avoyv2vk4raeus2bg4hyrbfuq4hmcuq\",\n",
      "                \"ocid1.image.oc1.eu-paris-1.aaaaaaaalvbkaoybngg572c4ybw47avoyv2vk4raeus2bg4hyrbfuq4hmcuq\",\n",
      "                \"ocid1.image.oc1.eu-paris-1.aaaaaaaalvbkaoybngg572c4ybw47avoyv2vk4raeus2bg4hyrbfuq4hmcuq\",\n",
      "                \"ocid1.image.oc1.eu-paris-1.aaaaaaaalvbkaoybngg572c4ybw47avoyv2vk4raeus2bg4hyrbfuq4hmcuq\",\n",
      "                \"ocid1.image.oc1.eu-paris-1.aaaaaaaalvbkaoybngg572c4ybw47avoyv2vk4raeus2bg4hyrbfuq4hmcuq\",\n",
      "                \"ocid1.image.oc1.eu-paris-1.aaaaaaaalvbkaoybngg572c4ybw47avoyv2vk4raeus2bg4hyrbfuq4hmcuq\",\n",
      "                \"ocid1.image.oc1.eu-paris-1.aaaaaaaalvbkaoybngg572c4ybw47avoyv2vk4raeus2bg4hyrbfuq4hmcuq\",\n",
      "                \"ocid1.image.oc1.eu-paris-1.aaaaaaaalvbkaoybngg572c4ybw47avoyv2vk4raeus2bg4hyrbfuq4hmcuq\",\n",
      "                \"ocid1.image.oc1.eu-paris-1.aaaaaaaalvbkaoybngg572c4ybw47avoyv2vk4raeus2bg4hyrbfuq4hmcuq\",\n",
      "                \"ocid1.image.oc1.eu-paris-1.aaaaaaaalvbkaoybngg572c4ybw47avoyv2vk4raeus2bg4hyrbfuq4hmcuq\",\n",
      "                \"ocid1.image.oc1.eu-paris-1.aaaaaaaalvbkaoybngg572c4ybw47avoyv2vk4raeus2bg4hyrbfuq4hmcuq\",\n",
      "                \"ocid1.image.oc1.eu-paris-1.aaaaaaaalvbkaoybngg572c4ybw47avoyv2vk4raeus2bg4hyrbfuq4hmcuq\",\n",
      "                \"ocid1.image.oc1.eu-paris-1.aaaaaaaalvbkaoybngg572c4ybw47avoyv2vk4raeus2bg4hyrbfuq4hmcuq\",\n",
      "                \"ocid1.image.oc1.eu-paris-1.aaaaaaaalvbkaoybngg572c4ybw47avoyv2vk4raeus2bg4hyrbfuq4hmcuq\",\n",
      "                \"ocid1.image.oc1.eu-paris-1.aaaaaaaalvbkaoybngg572c4ybw47avoyv2vk4raeus2bg4hyrbfuq4hmcuq\",\n",
      "                \"ocid1.image.oc1.eu-paris-1.aaaaaaaalvbkaoybngg572c4ybw47avoyv2vk4raeus2bg4hyrbfuq4hmcuq\",\n",
      "                \"ocid1.image.oc1.eu-paris-1.aaaaaaaalvbkaoybngg572c4ybw47avoyv2vk4raeus2bg4hyrbfuq4hmcuq\",\n",
      "                \"ocid1.image.oc1.eu-paris-1.aaaaaaaalvbkaoybngg572c4ybw47avoyv2vk4raeus2bg4hyrbfuq4hmcuq\",\n",
      "                \"ocid1.image.oc1.eu-paris-1.aaaaaaaalvbkaoybngg572c4ybw47avoyv2vk4raeus2bg4hyrbfuq4hmcuq\",\n",
      "                \"ocid1.image.oc1.eu-paris-1.aaaaaaaalvbkaoybngg572c4ybw47avoyv2vk4raeus2bg4hyrbfuq4hmcuq\",\n",
      "                \"ocid1.image.oc1.eu-paris-1.aaaaaaaalvbkaoybngg572c4ybw47avoyv2vk4raeus2bg4hyrbfuq4hmcuq\",\n",
      "                \"ocid1.image.oc1.eu-paris-1.aaaaaaaalvbkaoybngg572c4ybw47avoyv2vk4raeus2bg4hyrbfuq4hmcuq\",\n",
      "                \"ocid1.image.oc1.eu-paris-1.aaaaaaaalvbkaoybngg572c4ybw47avoyv2vk4raeus2bg4hyrbfuq4hmcuq\",\n",
      "                \"ocid1.image.oc1.eu-paris-1.aaaaaaaalvbkaoybngg572c4ybw47avoyv2vk4raeus2bg4hyrbfuq4hmcuq\",\n",
      "                \"ocid1.image.oc1.eu-paris-1.aaaaaaaalvbkaoybngg572c4ybw47avoyv2vk4raeus2bg4hyrbfuq4hmcuq\",\n",
      "                \"ocid1.image.oc1.eu-paris-1.aaaaaaaalvbkaoybngg572c4ybw47avoyv2vk4raeus2bg4hyrbfuq4hmcuq\",\n",
      "                \"ocid1.image.oc1.eu-paris-1.aaaaaaaalvbkaoybngg572c4ybw47avoyv2vk4raeus2bg4hyrbfuq4hmcuq\",\n",
      "                \"ocid1.image.oc1.eu-paris-1.aaaaaaaalvbkaoybngg572c4ybw47avoyv2vk4raeus2bg4hyrbfuq4hmcuq\",\n",
      "                \"ocid1.image.oc1.eu-paris-1.aaaaaaaalvbkaoybngg572c4ybw47avoyv2vk4raeus2bg4hyrbfuq4hmcuq\",\n",
      "                \"ocid1.image.oc1.eu-paris-1.aaaaaaaalvbkaoybngg572c4ybw47avoyv2vk4raeus2bg4hyrbfuq4hmcuq\",\n",
      "                \"ocid1.image.oc1.eu-paris-1.aaaaaaaalvbkaoybngg572c4ybw47avoyv2vk4raeus2bg4hyrbfuq4hmcuq\",\n",
      "                \"ocid1.image.oc1.eu-paris-1.aaaaaaaalvbkaoybngg572c4ybw47avoyv2vk4raeus2bg4hyrbfuq4hmcuq\",\n",
      "                \"ocid1.image.oc1.eu-paris-1.aaaaaaaalvbkaoybngg572c4ybw47avoyv2vk4raeus2bg4hyrbfuq4hmcuq\",\n",
      "                \"ocid1.image.oc1.eu-paris-1.aaaaaaaalvbkaoybngg572c4ybw47avoyv2vk4raeus2bg4hyrbfuq4hmcuq\",\n",
      "                \"ocid1.image.oc1.eu-paris-1.aaaaaaaalvbkaoybngg572c4ybw47avoyv2vk4raeus2bg4hyrbfuq4hmcuq\",\n",
      "                \"ocid1.image.oc1.eu-paris-1.aaaaaaaalvbkaoybngg572c4ybw47avoyv2vk4raeus2bg4hyrbfuq4hmcuq\",\n",
      "                \"ocid1.image.oc1.eu-paris-1.aaaaaaaalvbkaoybngg572c4ybw47avoyv2vk4raeus2bg4hyrbfuq4hmcuq\",\n",
      "                \"ocid1.image.oc1.eu-paris-1.aaaaaaaalvbkaoybngg572c4ybw47avoyv2vk4raeus2bg4hyrbfuq4hmcuq\",\n",
      "                \"ocid1.image.oc1.eu-paris-1.aaaaaaaalvbkaoybngg572c4ybw47avoyv2vk4raeus2bg4hyrbfuq4hmcuq\"\n",
      "            ]\n",
      "        },\n",
      "        {\n",
      "            \"name\": \"shape\",\n",
      "            \"datatype\": \"String\",\n",
      "            \"bit_settings\": \"\",\n",
      "            \"values\": [\n",
      "                \"VM.DenseIO.E4.Flex\",\n",
      "                \"VM.DenseIO.E5.Flex\",\n",
      "                \"VM.DenseIO1.16\",\n",
      "                \"VM.DenseIO1.4\",\n",
      "                \"VM.DenseIO1.8\",\n",
      "                \"VM.DenseIO2.16\",\n",
      "                \"VM.DenseIO2.24\",\n",
      "                \"VM.DenseIO2.8\",\n",
      "                \"VM.GPU.A10.1\",\n",
      "                \"VM.GPU.A10.2\",\n",
      "                \"VM.GPU.GU1.1\",\n",
      "                \"VM.GPU.GU1.2\",\n",
      "                \"VM.GPU2.1\",\n",
      "                \"VM.GPU3.1\",\n",
      "                \"VM.GPU3.2\",\n",
      "                \"VM.GPU3.4\",\n",
      "                \"VM.Optimized3.Flex\",\n",
      "                \"VM.Standard.AMD.Generic\",\n",
      "                \"VM.Standard.E2.1\",\n",
      "                \"VM.Standard.E2.1.Micro\",\n",
      "                \"VM.Standard.E2.2\",\n",
      "                \"VM.Standard.E2.4\",\n",
      "                \"VM.Standard.E2.8\",\n",
      "                \"VM.Standard.E3.Flex\",\n",
      "                \"VM.Standard.E4.Flex\",\n",
      "                \"VM.Standard.E5.Flex\",\n",
      "                \"VM.Standard.Intel.Generic\",\n",
      "                \"VM.Standard.x86.Generic\",\n",
      "                \"VM.Standard1.1\",\n",
      "                \"VM.Standard1.16\",\n",
      "                \"VM.Standard1.2\",\n",
      "                \"VM.Standard1.4\",\n",
      "                \"VM.Standard1.8\",\n",
      "                \"VM.Standard2.1\",\n",
      "                \"VM.Standard2.16\",\n",
      "                \"VM.Standard2.2\",\n",
      "                \"VM.Standard2.24\",\n",
      "                \"VM.Standard2.4\",\n",
      "                \"VM.Standard2.8\",\n",
      "                \"VM.Standard2.Flex\",\n",
      "                \"VM.Standard3.Flex\",\n",
      "                \"BM.Standard.E2.64\",\n",
      "                \"BM.Standard.E3.128\",\n",
      "                \"BM.GPU4.8\",\n",
      "                \"BM.Standard.E4.128\",\n",
      "                \"BM.GPU.A100-v2.8\",\n",
      "                \"BM.DenseIO.E4.128\",\n",
      "                \"BM.DenseIO.E5.128\",\n",
      "                \"BM.Standard.E5.192\",\n",
      "                \"BM.Standard1.36\",\n",
      "                \"BM.HighIO1.36\",\n",
      "                \"BM.DenseIO1.36\",\n",
      "                \"BM.GPU2.2\",\n",
      "                \"BM.HPC2.36\",\n",
      "                \"BM.Standard2.52\",\n",
      "                \"BM.GPU3.8\",\n",
      "                \"BM.DenseIO2.52\",\n",
      "                \"BM.Optimized3.36\",\n",
      "                \"BM.Standard3.64\",\n",
      "                \"BM.GPU.A10.4\"\n",
      "            ]\n",
      "        }\n",
      "    ]\n",
      "}\n"
     ]
    }
   ],
   "source": [
    "// pl.Series(df_compatibilityListExample2)\n",
    "// pl.Series('un', {'voilà': df_compatibilityListExample1})\n",
    "console.log(JSON.stringify(df_compatibilityListExample1, null, 4))\n"
   ]
  },
  {
   "cell_type": "code",
   "execution_count": 12,
   "id": "d121daa8-fc9f-4238-95f5-9335e9383c11",
   "metadata": {},
   "outputs": [
    {
     "name": "stdout",
     "output_type": "stream",
     "text": [
      "{\n",
      "    \"columns\": [\n",
      "        {\n",
      "            \"name\": \"imageId\",\n",
      "            \"datatype\": \"String\",\n",
      "            \"bit_settings\": \"\",\n",
      "            \"values\": [\n",
      "                \"ocid1.image.oc1.eu-paris-1.aaaaaaaaf7irdvozuzmwyvbfacdivomj52x65vr6tlg62i6er323sevazdqq\",\n",
      "                \"ocid1.image.oc1.eu-paris-1.aaaaaaaaf7irdvozuzmwyvbfacdivomj52x65vr6tlg62i6er323sevazdqq\",\n",
      "                \"ocid1.image.oc1.eu-paris-1.aaaaaaaaf7irdvozuzmwyvbfacdivomj52x65vr6tlg62i6er323sevazdqq\",\n",
      "                \"ocid1.image.oc1.eu-paris-1.aaaaaaaaf7irdvozuzmwyvbfacdivomj52x65vr6tlg62i6er323sevazdqq\",\n",
      "                \"ocid1.image.oc1.eu-paris-1.aaaaaaaaf7irdvozuzmwyvbfacdivomj52x65vr6tlg62i6er323sevazdqq\",\n",
      "                \"ocid1.image.oc1.eu-paris-1.aaaaaaaaf7irdvozuzmwyvbfacdivomj52x65vr6tlg62i6er323sevazdqq\",\n",
      "                \"ocid1.image.oc1.eu-paris-1.aaaaaaaaf7irdvozuzmwyvbfacdivomj52x65vr6tlg62i6er323sevazdqq\",\n",
      "                \"ocid1.image.oc1.eu-paris-1.aaaaaaaaf7irdvozuzmwyvbfacdivomj52x65vr6tlg62i6er323sevazdqq\",\n",
      "                \"ocid1.image.oc1.eu-paris-1.aaaaaaaaf7irdvozuzmwyvbfacdivomj52x65vr6tlg62i6er323sevazdqq\",\n",
      "                \"ocid1.image.oc1.eu-paris-1.aaaaaaaaf7irdvozuzmwyvbfacdivomj52x65vr6tlg62i6er323sevazdqq\",\n",
      "                \"ocid1.image.oc1.eu-paris-1.aaaaaaaaf7irdvozuzmwyvbfacdivomj52x65vr6tlg62i6er323sevazdqq\",\n",
      "                \"ocid1.image.oc1.eu-paris-1.aaaaaaaaf7irdvozuzmwyvbfacdivomj52x65vr6tlg62i6er323sevazdqq\",\n",
      "                \"ocid1.image.oc1.eu-paris-1.aaaaaaaaf7irdvozuzmwyvbfacdivomj52x65vr6tlg62i6er323sevazdqq\",\n",
      "                \"ocid1.image.oc1.eu-paris-1.aaaaaaaaf7irdvozuzmwyvbfacdivomj52x65vr6tlg62i6er323sevazdqq\",\n",
      "                \"ocid1.image.oc1.eu-paris-1.aaaaaaaaf7irdvozuzmwyvbfacdivomj52x65vr6tlg62i6er323sevazdqq\",\n",
      "                \"ocid1.image.oc1.eu-paris-1.aaaaaaaaf7irdvozuzmwyvbfacdivomj52x65vr6tlg62i6er323sevazdqq\",\n",
      "                \"ocid1.image.oc1.eu-paris-1.aaaaaaaaf7irdvozuzmwyvbfacdivomj52x65vr6tlg62i6er323sevazdqq\",\n",
      "                \"ocid1.image.oc1.eu-paris-1.aaaaaaaaf7irdvozuzmwyvbfacdivomj52x65vr6tlg62i6er323sevazdqq\",\n",
      "                \"ocid1.image.oc1.eu-paris-1.aaaaaaaaf7irdvozuzmwyvbfacdivomj52x65vr6tlg62i6er323sevazdqq\",\n",
      "                \"ocid1.image.oc1.eu-paris-1.aaaaaaaaf7irdvozuzmwyvbfacdivomj52x65vr6tlg62i6er323sevazdqq\",\n",
      "                \"ocid1.image.oc1.eu-paris-1.aaaaaaaaf7irdvozuzmwyvbfacdivomj52x65vr6tlg62i6er323sevazdqq\",\n",
      "                \"ocid1.image.oc1.eu-paris-1.aaaaaaaaf7irdvozuzmwyvbfacdivomj52x65vr6tlg62i6er323sevazdqq\",\n",
      "                \"ocid1.image.oc1.eu-paris-1.aaaaaaaaf7irdvozuzmwyvbfacdivomj52x65vr6tlg62i6er323sevazdqq\",\n",
      "                \"ocid1.image.oc1.eu-paris-1.aaaaaaaaf7irdvozuzmwyvbfacdivomj52x65vr6tlg62i6er323sevazdqq\",\n",
      "                \"ocid1.image.oc1.eu-paris-1.aaaaaaaaf7irdvozuzmwyvbfacdivomj52x65vr6tlg62i6er323sevazdqq\",\n",
      "                \"ocid1.image.oc1.eu-paris-1.aaaaaaaaf7irdvozuzmwyvbfacdivomj52x65vr6tlg62i6er323sevazdqq\",\n",
      "                \"ocid1.image.oc1.eu-paris-1.aaaaaaaaf7irdvozuzmwyvbfacdivomj52x65vr6tlg62i6er323sevazdqq\",\n",
      "                \"ocid1.image.oc1.eu-paris-1.aaaaaaaaf7irdvozuzmwyvbfacdivomj52x65vr6tlg62i6er323sevazdqq\",\n",
      "                \"ocid1.image.oc1.eu-paris-1.aaaaaaaaf7irdvozuzmwyvbfacdivomj52x65vr6tlg62i6er323sevazdqq\",\n",
      "                \"ocid1.image.oc1.eu-paris-1.aaaaaaaaf7irdvozuzmwyvbfacdivomj52x65vr6tlg62i6er323sevazdqq\",\n",
      "                \"ocid1.image.oc1.eu-paris-1.aaaaaaaaf7irdvozuzmwyvbfacdivomj52x65vr6tlg62i6er323sevazdqq\",\n",
      "                \"ocid1.image.oc1.eu-paris-1.aaaaaaaaf7irdvozuzmwyvbfacdivomj52x65vr6tlg62i6er323sevazdqq\",\n",
      "                \"ocid1.image.oc1.eu-paris-1.aaaaaaaaf7irdvozuzmwyvbfacdivomj52x65vr6tlg62i6er323sevazdqq\",\n",
      "                \"ocid1.image.oc1.eu-paris-1.aaaaaaaaf7irdvozuzmwyvbfacdivomj52x65vr6tlg62i6er323sevazdqq\",\n",
      "                \"ocid1.image.oc1.eu-paris-1.aaaaaaaaf7irdvozuzmwyvbfacdivomj52x65vr6tlg62i6er323sevazdqq\",\n",
      "                \"ocid1.image.oc1.eu-paris-1.aaaaaaaaf7irdvozuzmwyvbfacdivomj52x65vr6tlg62i6er323sevazdqq\",\n",
      "                \"ocid1.image.oc1.eu-paris-1.aaaaaaaaf7irdvozuzmwyvbfacdivomj52x65vr6tlg62i6er323sevazdqq\",\n",
      "                \"ocid1.image.oc1.eu-paris-1.aaaaaaaaf7irdvozuzmwyvbfacdivomj52x65vr6tlg62i6er323sevazdqq\",\n",
      "                \"ocid1.image.oc1.eu-paris-1.aaaaaaaaf7irdvozuzmwyvbfacdivomj52x65vr6tlg62i6er323sevazdqq\",\n",
      "                \"ocid1.image.oc1.eu-paris-1.aaaaaaaaf7irdvozuzmwyvbfacdivomj52x65vr6tlg62i6er323sevazdqq\",\n",
      "                \"ocid1.image.oc1.eu-paris-1.aaaaaaaaf7irdvozuzmwyvbfacdivomj52x65vr6tlg62i6er323sevazdqq\",\n",
      "                \"ocid1.image.oc1.eu-paris-1.aaaaaaaaf7irdvozuzmwyvbfacdivomj52x65vr6tlg62i6er323sevazdqq\",\n",
      "                \"ocid1.image.oc1.eu-paris-1.aaaaaaaaf7irdvozuzmwyvbfacdivomj52x65vr6tlg62i6er323sevazdqq\",\n",
      "                \"ocid1.image.oc1.eu-paris-1.aaaaaaaaf7irdvozuzmwyvbfacdivomj52x65vr6tlg62i6er323sevazdqq\",\n",
      "                \"ocid1.image.oc1.eu-paris-1.aaaaaaaaf7irdvozuzmwyvbfacdivomj52x65vr6tlg62i6er323sevazdqq\",\n",
      "                \"ocid1.image.oc1.eu-paris-1.aaaaaaaaf7irdvozuzmwyvbfacdivomj52x65vr6tlg62i6er323sevazdqq\",\n",
      "                \"ocid1.image.oc1.eu-paris-1.aaaaaaaaf7irdvozuzmwyvbfacdivomj52x65vr6tlg62i6er323sevazdqq\",\n",
      "                \"ocid1.image.oc1.eu-paris-1.aaaaaaaaf7irdvozuzmwyvbfacdivomj52x65vr6tlg62i6er323sevazdqq\",\n",
      "                \"ocid1.image.oc1.eu-paris-1.aaaaaaaaf7irdvozuzmwyvbfacdivomj52x65vr6tlg62i6er323sevazdqq\",\n",
      "                \"ocid1.image.oc1.eu-paris-1.aaaaaaaaf7irdvozuzmwyvbfacdivomj52x65vr6tlg62i6er323sevazdqq\",\n",
      "                \"ocid1.image.oc1.eu-paris-1.aaaaaaaaf7irdvozuzmwyvbfacdivomj52x65vr6tlg62i6er323sevazdqq\",\n",
      "                \"ocid1.image.oc1.eu-paris-1.aaaaaaaaf7irdvozuzmwyvbfacdivomj52x65vr6tlg62i6er323sevazdqq\",\n",
      "                \"ocid1.image.oc1.eu-paris-1.aaaaaaaaf7irdvozuzmwyvbfacdivomj52x65vr6tlg62i6er323sevazdqq\",\n",
      "                \"ocid1.image.oc1.eu-paris-1.aaaaaaaaf7irdvozuzmwyvbfacdivomj52x65vr6tlg62i6er323sevazdqq\",\n",
      "                \"ocid1.image.oc1.eu-paris-1.aaaaaaaaf7irdvozuzmwyvbfacdivomj52x65vr6tlg62i6er323sevazdqq\",\n",
      "                \"ocid1.image.oc1.eu-paris-1.aaaaaaaaf7irdvozuzmwyvbfacdivomj52x65vr6tlg62i6er323sevazdqq\",\n",
      "                \"ocid1.image.oc1.eu-paris-1.aaaaaaaaf7irdvozuzmwyvbfacdivomj52x65vr6tlg62i6er323sevazdqq\",\n",
      "                \"ocid1.image.oc1.eu-paris-1.aaaaaaaaf7irdvozuzmwyvbfacdivomj52x65vr6tlg62i6er323sevazdqq\",\n",
      "                \"ocid1.image.oc1.eu-paris-1.aaaaaaaaf7irdvozuzmwyvbfacdivomj52x65vr6tlg62i6er323sevazdqq\",\n",
      "                \"ocid1.image.oc1.eu-paris-1.aaaaaaaaf7irdvozuzmwyvbfacdivomj52x65vr6tlg62i6er323sevazdqq\",\n",
      "                \"ocid1.image.oc1.eu-paris-1.aaaaaaaaf7irdvozuzmwyvbfacdivomj52x65vr6tlg62i6er323sevazdqq\",\n",
      "                \"ocid1.image.oc1.eu-paris-1.aaaaaaaaf7irdvozuzmwyvbfacdivomj52x65vr6tlg62i6er323sevazdqq\",\n",
      "                \"ocid1.image.oc1.eu-paris-1.aaaaaaaaf7irdvozuzmwyvbfacdivomj52x65vr6tlg62i6er323sevazdqq\",\n",
      "                \"ocid1.image.oc1.eu-paris-1.aaaaaaaaf7irdvozuzmwyvbfacdivomj52x65vr6tlg62i6er323sevazdqq\",\n",
      "                \"ocid1.image.oc1.eu-paris-1.aaaaaaaaf7irdvozuzmwyvbfacdivomj52x65vr6tlg62i6er323sevazdqq\",\n",
      "                \"ocid1.image.oc1.eu-paris-1.aaaaaaaaf7irdvozuzmwyvbfacdivomj52x65vr6tlg62i6er323sevazdqq\",\n",
      "                \"ocid1.image.oc1.eu-paris-1.aaaaaaaaf7irdvozuzmwyvbfacdivomj52x65vr6tlg62i6er323sevazdqq\",\n",
      "                \"ocid1.image.oc1.eu-paris-1.aaaaaaaaf7irdvozuzmwyvbfacdivomj52x65vr6tlg62i6er323sevazdqq\"\n",
      "            ]\n",
      "        },\n",
      "        {\n",
      "            \"name\": \"shape\",\n",
      "            \"datatype\": \"String\",\n",
      "            \"bit_settings\": \"\",\n",
      "            \"values\": [\n",
      "                \"VM.DenseIO.E4.Flex\",\n",
      "                \"VM.DenseIO.E5.Flex\",\n",
      "                \"VM.DenseIO1.16\",\n",
      "                \"VM.DenseIO1.4\",\n",
      "                \"VM.DenseIO1.8\",\n",
      "                \"VM.DenseIO2.16\",\n",
      "                \"VM.DenseIO2.24\",\n",
      "                \"VM.DenseIO2.8\",\n",
      "                \"VM.GPU.A10.1\",\n",
      "                \"VM.GPU.A10.2\",\n",
      "                \"VM.GPU.GU1.1\",\n",
      "                \"VM.GPU.GU1.2\",\n",
      "                \"VM.GPU2.1\",\n",
      "                \"VM.GPU3.1\",\n",
      "                \"VM.GPU3.2\",\n",
      "                \"VM.GPU3.4\",\n",
      "                \"VM.Optimized3.Flex\",\n",
      "                \"VM.Standard.AMD.Generic\",\n",
      "                \"VM.Standard.B1.1\",\n",
      "                \"VM.Standard.B1.16\",\n",
      "                \"VM.Standard.B1.2\",\n",
      "                \"VM.Standard.B1.4\",\n",
      "                \"VM.Standard.B1.8\",\n",
      "                \"VM.Standard.E2.1\",\n",
      "                \"VM.Standard.E2.1.Micro\",\n",
      "                \"VM.Standard.E2.2\",\n",
      "                \"VM.Standard.E2.4\",\n",
      "                \"VM.Standard.E2.8\",\n",
      "                \"VM.Standard.E3.Flex\",\n",
      "                \"VM.Standard.E4.Flex\",\n",
      "                \"VM.Standard.E5.Flex\",\n",
      "                \"VM.Standard.Intel.Generic\",\n",
      "                \"VM.Standard.x86.Generic\",\n",
      "                \"VM.Standard1.1\",\n",
      "                \"VM.Standard1.16\",\n",
      "                \"VM.Standard1.2\",\n",
      "                \"VM.Standard1.4\",\n",
      "                \"VM.Standard1.8\",\n",
      "                \"VM.Standard2.1\",\n",
      "                \"VM.Standard2.16\",\n",
      "                \"VM.Standard2.2\",\n",
      "                \"VM.Standard2.24\",\n",
      "                \"VM.Standard2.4\",\n",
      "                \"VM.Standard2.8\",\n",
      "                \"VM.Standard2.Flex\",\n",
      "                \"VM.Standard3.Flex\",\n",
      "                \"BM.Standard.E2.64\",\n",
      "                \"BM.Standard.E3.128\",\n",
      "                \"BM.GPU4.8\",\n",
      "                \"BM.Standard.E4.128\",\n",
      "                \"BM.GPU.A100-v2.8\",\n",
      "                \"BM.DenseIO.E4.128\",\n",
      "                \"BM.DenseIO.E5.128\",\n",
      "                \"BM.Standard.E5.192\",\n",
      "                \"BM.GPU.H100.8\",\n",
      "                \"BM.Standard1.36\",\n",
      "                \"BM.HighIO1.36\",\n",
      "                \"BM.DenseIO1.36\",\n",
      "                \"BM.Standard.B1.44\",\n",
      "                \"BM.GPU2.2\",\n",
      "                \"BM.HPC2.36\",\n",
      "                \"BM.Standard2.52\",\n",
      "                \"BM.GPU3.8\",\n",
      "                \"BM.DenseIO2.52\",\n",
      "                \"BM.GPU.T1.2\",\n",
      "                \"BM.Optimized3.36\",\n",
      "                \"BM.Standard3.64\",\n",
      "                \"BM.GPU.A10.4\"\n",
      "            ]\n",
      "        }\n",
      "    ]\n",
      "}\n"
     ]
    }
   ],
   "source": [
    "console.log(JSON.stringify(df_compatibilityListExample2, null, 4))"
   ]
  },
  {
   "cell_type": "code",
   "execution_count": 13,
   "id": "89846b2d-763a-41d7-a5e2-8ba16d15949b",
   "metadata": {},
   "outputs": [
    {
     "name": "stdout",
     "output_type": "stream",
     "text": [
      "{\n",
      "    \"columns\": [\n",
      "        {\n",
      "            \"name\": \"imageId\",\n",
      "            \"datatype\": \"String\",\n",
      "            \"bit_settings\": \"\",\n",
      "            \"values\": [\n",
      "                \"ocid1.image.oc1.eu-paris-1.aaaaaaaaf7irdvozuzmwyvbfacdivomj52x65vr6tlg62i6er323sevazdqq\",\n",
      "                \"ocid1.image.oc1.eu-paris-1.aaaaaaaaf7irdvozuzmwyvbfacdivomj52x65vr6tlg62i6er323sevazdqq\",\n",
      "                \"ocid1.image.oc1.eu-paris-1.aaaaaaaaf7irdvozuzmwyvbfacdivomj52x65vr6tlg62i6er323sevazdqq\",\n",
      "                \"ocid1.image.oc1.eu-paris-1.aaaaaaaaf7irdvozuzmwyvbfacdivomj52x65vr6tlg62i6er323sevazdqq\",\n",
      "                \"ocid1.image.oc1.eu-paris-1.aaaaaaaaf7irdvozuzmwyvbfacdivomj52x65vr6tlg62i6er323sevazdqq\",\n",
      "                \"ocid1.image.oc1.eu-paris-1.aaaaaaaaf7irdvozuzmwyvbfacdivomj52x65vr6tlg62i6er323sevazdqq\",\n",
      "                \"ocid1.image.oc1.eu-paris-1.aaaaaaaaf7irdvozuzmwyvbfacdivomj52x65vr6tlg62i6er323sevazdqq\",\n",
      "                \"ocid1.image.oc1.eu-paris-1.aaaaaaaaf7irdvozuzmwyvbfacdivomj52x65vr6tlg62i6er323sevazdqq\",\n",
      "                \"ocid1.image.oc1.eu-paris-1.aaaaaaaaf7irdvozuzmwyvbfacdivomj52x65vr6tlg62i6er323sevazdqq\",\n",
      "                \"ocid1.image.oc1.eu-paris-1.aaaaaaaaf7irdvozuzmwyvbfacdivomj52x65vr6tlg62i6er323sevazdqq\",\n",
      "                \"ocid1.image.oc1.eu-paris-1.aaaaaaaaf7irdvozuzmwyvbfacdivomj52x65vr6tlg62i6er323sevazdqq\",\n",
      "                \"ocid1.image.oc1.eu-paris-1.aaaaaaaaf7irdvozuzmwyvbfacdivomj52x65vr6tlg62i6er323sevazdqq\",\n",
      "                \"ocid1.image.oc1.eu-paris-1.aaaaaaaaf7irdvozuzmwyvbfacdivomj52x65vr6tlg62i6er323sevazdqq\",\n",
      "                \"ocid1.image.oc1.eu-paris-1.aaaaaaaaf7irdvozuzmwyvbfacdivomj52x65vr6tlg62i6er323sevazdqq\",\n",
      "                \"ocid1.image.oc1.eu-paris-1.aaaaaaaaf7irdvozuzmwyvbfacdivomj52x65vr6tlg62i6er323sevazdqq\",\n",
      "                \"ocid1.image.oc1.eu-paris-1.aaaaaaaaf7irdvozuzmwyvbfacdivomj52x65vr6tlg62i6er323sevazdqq\",\n",
      "                \"ocid1.image.oc1.eu-paris-1.aaaaaaaaf7irdvozuzmwyvbfacdivomj52x65vr6tlg62i6er323sevazdqq\",\n",
      "                \"ocid1.image.oc1.eu-paris-1.aaaaaaaaf7irdvozuzmwyvbfacdivomj52x65vr6tlg62i6er323sevazdqq\",\n",
      "                \"ocid1.image.oc1.eu-paris-1.aaaaaaaaf7irdvozuzmwyvbfacdivomj52x65vr6tlg62i6er323sevazdqq\",\n",
      "                \"ocid1.image.oc1.eu-paris-1.aaaaaaaaf7irdvozuzmwyvbfacdivomj52x65vr6tlg62i6er323sevazdqq\",\n",
      "                \"ocid1.image.oc1.eu-paris-1.aaaaaaaaf7irdvozuzmwyvbfacdivomj52x65vr6tlg62i6er323sevazdqq\",\n",
      "                \"ocid1.image.oc1.eu-paris-1.aaaaaaaaf7irdvozuzmwyvbfacdivomj52x65vr6tlg62i6er323sevazdqq\",\n",
      "                \"ocid1.image.oc1.eu-paris-1.aaaaaaaaf7irdvozuzmwyvbfacdivomj52x65vr6tlg62i6er323sevazdqq\",\n",
      "                \"ocid1.image.oc1.eu-paris-1.aaaaaaaaf7irdvozuzmwyvbfacdivomj52x65vr6tlg62i6er323sevazdqq\",\n",
      "                \"ocid1.image.oc1.eu-paris-1.aaaaaaaaf7irdvozuzmwyvbfacdivomj52x65vr6tlg62i6er323sevazdqq\",\n",
      "                \"ocid1.image.oc1.eu-paris-1.aaaaaaaaf7irdvozuzmwyvbfacdivomj52x65vr6tlg62i6er323sevazdqq\",\n",
      "                \"ocid1.image.oc1.eu-paris-1.aaaaaaaaf7irdvozuzmwyvbfacdivomj52x65vr6tlg62i6er323sevazdqq\",\n",
      "                \"ocid1.image.oc1.eu-paris-1.aaaaaaaaf7irdvozuzmwyvbfacdivomj52x65vr6tlg62i6er323sevazdqq\",\n",
      "                \"ocid1.image.oc1.eu-paris-1.aaaaaaaaf7irdvozuzmwyvbfacdivomj52x65vr6tlg62i6er323sevazdqq\",\n",
      "                \"ocid1.image.oc1.eu-paris-1.aaaaaaaaf7irdvozuzmwyvbfacdivomj52x65vr6tlg62i6er323sevazdqq\",\n",
      "                \"ocid1.image.oc1.eu-paris-1.aaaaaaaaf7irdvozuzmwyvbfacdivomj52x65vr6tlg62i6er323sevazdqq\",\n",
      "                \"ocid1.image.oc1.eu-paris-1.aaaaaaaaf7irdvozuzmwyvbfacdivomj52x65vr6tlg62i6er323sevazdqq\",\n",
      "                \"ocid1.image.oc1.eu-paris-1.aaaaaaaaf7irdvozuzmwyvbfacdivomj52x65vr6tlg62i6er323sevazdqq\",\n",
      "                \"ocid1.image.oc1.eu-paris-1.aaaaaaaaf7irdvozuzmwyvbfacdivomj52x65vr6tlg62i6er323sevazdqq\",\n",
      "                \"ocid1.image.oc1.eu-paris-1.aaaaaaaaf7irdvozuzmwyvbfacdivomj52x65vr6tlg62i6er323sevazdqq\",\n",
      "                \"ocid1.image.oc1.eu-paris-1.aaaaaaaaf7irdvozuzmwyvbfacdivomj52x65vr6tlg62i6er323sevazdqq\",\n",
      "                \"ocid1.image.oc1.eu-paris-1.aaaaaaaaf7irdvozuzmwyvbfacdivomj52x65vr6tlg62i6er323sevazdqq\",\n",
      "                \"ocid1.image.oc1.eu-paris-1.aaaaaaaaf7irdvozuzmwyvbfacdivomj52x65vr6tlg62i6er323sevazdqq\",\n",
      "                \"ocid1.image.oc1.eu-paris-1.aaaaaaaaf7irdvozuzmwyvbfacdivomj52x65vr6tlg62i6er323sevazdqq\",\n",
      "                \"ocid1.image.oc1.eu-paris-1.aaaaaaaaf7irdvozuzmwyvbfacdivomj52x65vr6tlg62i6er323sevazdqq\",\n",
      "                \"ocid1.image.oc1.eu-paris-1.aaaaaaaaf7irdvozuzmwyvbfacdivomj52x65vr6tlg62i6er323sevazdqq\",\n",
      "                \"ocid1.image.oc1.eu-paris-1.aaaaaaaaf7irdvozuzmwyvbfacdivomj52x65vr6tlg62i6er323sevazdqq\",\n",
      "                \"ocid1.image.oc1.eu-paris-1.aaaaaaaaf7irdvozuzmwyvbfacdivomj52x65vr6tlg62i6er323sevazdqq\",\n",
      "                \"ocid1.image.oc1.eu-paris-1.aaaaaaaaf7irdvozuzmwyvbfacdivomj52x65vr6tlg62i6er323sevazdqq\",\n",
      "                \"ocid1.image.oc1.eu-paris-1.aaaaaaaaf7irdvozuzmwyvbfacdivomj52x65vr6tlg62i6er323sevazdqq\",\n",
      "                \"ocid1.image.oc1.eu-paris-1.aaaaaaaaf7irdvozuzmwyvbfacdivomj52x65vr6tlg62i6er323sevazdqq\",\n",
      "                \"ocid1.image.oc1.eu-paris-1.aaaaaaaaf7irdvozuzmwyvbfacdivomj52x65vr6tlg62i6er323sevazdqq\",\n",
      "                \"ocid1.image.oc1.eu-paris-1.aaaaaaaaf7irdvozuzmwyvbfacdivomj52x65vr6tlg62i6er323sevazdqq\",\n",
      "                \"ocid1.image.oc1.eu-paris-1.aaaaaaaaf7irdvozuzmwyvbfacdivomj52x65vr6tlg62i6er323sevazdqq\",\n",
      "                \"ocid1.image.oc1.eu-paris-1.aaaaaaaaf7irdvozuzmwyvbfacdivomj52x65vr6tlg62i6er323sevazdqq\",\n",
      "                \"ocid1.image.oc1.eu-paris-1.aaaaaaaaf7irdvozuzmwyvbfacdivomj52x65vr6tlg62i6er323sevazdqq\",\n",
      "                \"ocid1.image.oc1.eu-paris-1.aaaaaaaaf7irdvozuzmwyvbfacdivomj52x65vr6tlg62i6er323sevazdqq\",\n",
      "                \"ocid1.image.oc1.eu-paris-1.aaaaaaaaf7irdvozuzmwyvbfacdivomj52x65vr6tlg62i6er323sevazdqq\",\n",
      "                \"ocid1.image.oc1.eu-paris-1.aaaaaaaaf7irdvozuzmwyvbfacdivomj52x65vr6tlg62i6er323sevazdqq\",\n",
      "                \"ocid1.image.oc1.eu-paris-1.aaaaaaaaf7irdvozuzmwyvbfacdivomj52x65vr6tlg62i6er323sevazdqq\",\n",
      "                \"ocid1.image.oc1.eu-paris-1.aaaaaaaaf7irdvozuzmwyvbfacdivomj52x65vr6tlg62i6er323sevazdqq\",\n",
      "                \"ocid1.image.oc1.eu-paris-1.aaaaaaaaf7irdvozuzmwyvbfacdivomj52x65vr6tlg62i6er323sevazdqq\",\n",
      "                \"ocid1.image.oc1.eu-paris-1.aaaaaaaaf7irdvozuzmwyvbfacdivomj52x65vr6tlg62i6er323sevazdqq\",\n",
      "                \"ocid1.image.oc1.eu-paris-1.aaaaaaaaf7irdvozuzmwyvbfacdivomj52x65vr6tlg62i6er323sevazdqq\",\n",
      "                \"ocid1.image.oc1.eu-paris-1.aaaaaaaaf7irdvozuzmwyvbfacdivomj52x65vr6tlg62i6er323sevazdqq\",\n",
      "                \"ocid1.image.oc1.eu-paris-1.aaaaaaaaf7irdvozuzmwyvbfacdivomj52x65vr6tlg62i6er323sevazdqq\",\n",
      "                \"ocid1.image.oc1.eu-paris-1.aaaaaaaaf7irdvozuzmwyvbfacdivomj52x65vr6tlg62i6er323sevazdqq\",\n",
      "                \"ocid1.image.oc1.eu-paris-1.aaaaaaaaf7irdvozuzmwyvbfacdivomj52x65vr6tlg62i6er323sevazdqq\",\n",
      "                \"ocid1.image.oc1.eu-paris-1.aaaaaaaaf7irdvozuzmwyvbfacdivomj52x65vr6tlg62i6er323sevazdqq\",\n",
      "                \"ocid1.image.oc1.eu-paris-1.aaaaaaaaf7irdvozuzmwyvbfacdivomj52x65vr6tlg62i6er323sevazdqq\",\n",
      "                \"ocid1.image.oc1.eu-paris-1.aaaaaaaaf7irdvozuzmwyvbfacdivomj52x65vr6tlg62i6er323sevazdqq\",\n",
      "                \"ocid1.image.oc1.eu-paris-1.aaaaaaaaf7irdvozuzmwyvbfacdivomj52x65vr6tlg62i6er323sevazdqq\",\n",
      "                \"ocid1.image.oc1.eu-paris-1.aaaaaaaaf7irdvozuzmwyvbfacdivomj52x65vr6tlg62i6er323sevazdqq\",\n",
      "                \"ocid1.image.oc1.eu-paris-1.aaaaaaaalvbkaoybngg572c4ybw47avoyv2vk4raeus2bg4hyrbfuq4hmcuq\",\n",
      "                \"ocid1.image.oc1.eu-paris-1.aaaaaaaalvbkaoybngg572c4ybw47avoyv2vk4raeus2bg4hyrbfuq4hmcuq\",\n",
      "                \"ocid1.image.oc1.eu-paris-1.aaaaaaaalvbkaoybngg572c4ybw47avoyv2vk4raeus2bg4hyrbfuq4hmcuq\",\n",
      "                \"ocid1.image.oc1.eu-paris-1.aaaaaaaalvbkaoybngg572c4ybw47avoyv2vk4raeus2bg4hyrbfuq4hmcuq\",\n",
      "                \"ocid1.image.oc1.eu-paris-1.aaaaaaaalvbkaoybngg572c4ybw47avoyv2vk4raeus2bg4hyrbfuq4hmcuq\",\n",
      "                \"ocid1.image.oc1.eu-paris-1.aaaaaaaalvbkaoybngg572c4ybw47avoyv2vk4raeus2bg4hyrbfuq4hmcuq\",\n",
      "                \"ocid1.image.oc1.eu-paris-1.aaaaaaaalvbkaoybngg572c4ybw47avoyv2vk4raeus2bg4hyrbfuq4hmcuq\",\n",
      "                \"ocid1.image.oc1.eu-paris-1.aaaaaaaalvbkaoybngg572c4ybw47avoyv2vk4raeus2bg4hyrbfuq4hmcuq\",\n",
      "                \"ocid1.image.oc1.eu-paris-1.aaaaaaaalvbkaoybngg572c4ybw47avoyv2vk4raeus2bg4hyrbfuq4hmcuq\",\n",
      "                \"ocid1.image.oc1.eu-paris-1.aaaaaaaalvbkaoybngg572c4ybw47avoyv2vk4raeus2bg4hyrbfuq4hmcuq\",\n",
      "                \"ocid1.image.oc1.eu-paris-1.aaaaaaaalvbkaoybngg572c4ybw47avoyv2vk4raeus2bg4hyrbfuq4hmcuq\",\n",
      "                \"ocid1.image.oc1.eu-paris-1.aaaaaaaalvbkaoybngg572c4ybw47avoyv2vk4raeus2bg4hyrbfuq4hmcuq\",\n",
      "                \"ocid1.image.oc1.eu-paris-1.aaaaaaaalvbkaoybngg572c4ybw47avoyv2vk4raeus2bg4hyrbfuq4hmcuq\",\n",
      "                \"ocid1.image.oc1.eu-paris-1.aaaaaaaalvbkaoybngg572c4ybw47avoyv2vk4raeus2bg4hyrbfuq4hmcuq\",\n",
      "                \"ocid1.image.oc1.eu-paris-1.aaaaaaaalvbkaoybngg572c4ybw47avoyv2vk4raeus2bg4hyrbfuq4hmcuq\",\n",
      "                \"ocid1.image.oc1.eu-paris-1.aaaaaaaalvbkaoybngg572c4ybw47avoyv2vk4raeus2bg4hyrbfuq4hmcuq\",\n",
      "                \"ocid1.image.oc1.eu-paris-1.aaaaaaaalvbkaoybngg572c4ybw47avoyv2vk4raeus2bg4hyrbfuq4hmcuq\",\n",
      "                \"ocid1.image.oc1.eu-paris-1.aaaaaaaalvbkaoybngg572c4ybw47avoyv2vk4raeus2bg4hyrbfuq4hmcuq\",\n",
      "                \"ocid1.image.oc1.eu-paris-1.aaaaaaaalvbkaoybngg572c4ybw47avoyv2vk4raeus2bg4hyrbfuq4hmcuq\",\n",
      "                \"ocid1.image.oc1.eu-paris-1.aaaaaaaalvbkaoybngg572c4ybw47avoyv2vk4raeus2bg4hyrbfuq4hmcuq\",\n",
      "                \"ocid1.image.oc1.eu-paris-1.aaaaaaaalvbkaoybngg572c4ybw47avoyv2vk4raeus2bg4hyrbfuq4hmcuq\",\n",
      "                \"ocid1.image.oc1.eu-paris-1.aaaaaaaalvbkaoybngg572c4ybw47avoyv2vk4raeus2bg4hyrbfuq4hmcuq\",\n",
      "                \"ocid1.image.oc1.eu-paris-1.aaaaaaaalvbkaoybngg572c4ybw47avoyv2vk4raeus2bg4hyrbfuq4hmcuq\",\n",
      "                \"ocid1.image.oc1.eu-paris-1.aaaaaaaalvbkaoybngg572c4ybw47avoyv2vk4raeus2bg4hyrbfuq4hmcuq\",\n",
      "                \"ocid1.image.oc1.eu-paris-1.aaaaaaaalvbkaoybngg572c4ybw47avoyv2vk4raeus2bg4hyrbfuq4hmcuq\",\n",
      "                \"ocid1.image.oc1.eu-paris-1.aaaaaaaalvbkaoybngg572c4ybw47avoyv2vk4raeus2bg4hyrbfuq4hmcuq\",\n",
      "                \"ocid1.image.oc1.eu-paris-1.aaaaaaaalvbkaoybngg572c4ybw47avoyv2vk4raeus2bg4hyrbfuq4hmcuq\",\n",
      "                \"ocid1.image.oc1.eu-paris-1.aaaaaaaalvbkaoybngg572c4ybw47avoyv2vk4raeus2bg4hyrbfuq4hmcuq\",\n",
      "                \"ocid1.image.oc1.eu-paris-1.aaaaaaaalvbkaoybngg572c4ybw47avoyv2vk4raeus2bg4hyrbfuq4hmcuq\",\n",
      "                \"ocid1.image.oc1.eu-paris-1.aaaaaaaalvbkaoybngg572c4ybw47avoyv2vk4raeus2bg4hyrbfuq4hmcuq\",\n",
      "                \"ocid1.image.oc1.eu-paris-1.aaaaaaaalvbkaoybngg572c4ybw47avoyv2vk4raeus2bg4hyrbfuq4hmcuq\",\n",
      "                \"ocid1.image.oc1.eu-paris-1.aaaaaaaalvbkaoybngg572c4ybw47avoyv2vk4raeus2bg4hyrbfuq4hmcuq\",\n",
      "                \"ocid1.image.oc1.eu-paris-1.aaaaaaaalvbkaoybngg572c4ybw47avoyv2vk4raeus2bg4hyrbfuq4hmcuq\",\n",
      "                \"ocid1.image.oc1.eu-paris-1.aaaaaaaalvbkaoybngg572c4ybw47avoyv2vk4raeus2bg4hyrbfuq4hmcuq\",\n",
      "                \"ocid1.image.oc1.eu-paris-1.aaaaaaaalvbkaoybngg572c4ybw47avoyv2vk4raeus2bg4hyrbfuq4hmcuq\",\n",
      "                \"ocid1.image.oc1.eu-paris-1.aaaaaaaalvbkaoybngg572c4ybw47avoyv2vk4raeus2bg4hyrbfuq4hmcuq\",\n",
      "                \"ocid1.image.oc1.eu-paris-1.aaaaaaaalvbkaoybngg572c4ybw47avoyv2vk4raeus2bg4hyrbfuq4hmcuq\",\n",
      "                \"ocid1.image.oc1.eu-paris-1.aaaaaaaalvbkaoybngg572c4ybw47avoyv2vk4raeus2bg4hyrbfuq4hmcuq\",\n",
      "                \"ocid1.image.oc1.eu-paris-1.aaaaaaaalvbkaoybngg572c4ybw47avoyv2vk4raeus2bg4hyrbfuq4hmcuq\",\n",
      "                \"ocid1.image.oc1.eu-paris-1.aaaaaaaalvbkaoybngg572c4ybw47avoyv2vk4raeus2bg4hyrbfuq4hmcuq\",\n",
      "                \"ocid1.image.oc1.eu-paris-1.aaaaaaaalvbkaoybngg572c4ybw47avoyv2vk4raeus2bg4hyrbfuq4hmcuq\",\n",
      "                \"ocid1.image.oc1.eu-paris-1.aaaaaaaalvbkaoybngg572c4ybw47avoyv2vk4raeus2bg4hyrbfuq4hmcuq\",\n",
      "                \"ocid1.image.oc1.eu-paris-1.aaaaaaaalvbkaoybngg572c4ybw47avoyv2vk4raeus2bg4hyrbfuq4hmcuq\",\n",
      "                \"ocid1.image.oc1.eu-paris-1.aaaaaaaalvbkaoybngg572c4ybw47avoyv2vk4raeus2bg4hyrbfuq4hmcuq\",\n",
      "                \"ocid1.image.oc1.eu-paris-1.aaaaaaaalvbkaoybngg572c4ybw47avoyv2vk4raeus2bg4hyrbfuq4hmcuq\",\n",
      "                \"ocid1.image.oc1.eu-paris-1.aaaaaaaalvbkaoybngg572c4ybw47avoyv2vk4raeus2bg4hyrbfuq4hmcuq\",\n",
      "                \"ocid1.image.oc1.eu-paris-1.aaaaaaaalvbkaoybngg572c4ybw47avoyv2vk4raeus2bg4hyrbfuq4hmcuq\",\n",
      "                \"ocid1.image.oc1.eu-paris-1.aaaaaaaalvbkaoybngg572c4ybw47avoyv2vk4raeus2bg4hyrbfuq4hmcuq\",\n",
      "                \"ocid1.image.oc1.eu-paris-1.aaaaaaaalvbkaoybngg572c4ybw47avoyv2vk4raeus2bg4hyrbfuq4hmcuq\",\n",
      "                \"ocid1.image.oc1.eu-paris-1.aaaaaaaalvbkaoybngg572c4ybw47avoyv2vk4raeus2bg4hyrbfuq4hmcuq\",\n",
      "                \"ocid1.image.oc1.eu-paris-1.aaaaaaaalvbkaoybngg572c4ybw47avoyv2vk4raeus2bg4hyrbfuq4hmcuq\",\n",
      "                \"ocid1.image.oc1.eu-paris-1.aaaaaaaalvbkaoybngg572c4ybw47avoyv2vk4raeus2bg4hyrbfuq4hmcuq\",\n",
      "                \"ocid1.image.oc1.eu-paris-1.aaaaaaaalvbkaoybngg572c4ybw47avoyv2vk4raeus2bg4hyrbfuq4hmcuq\",\n",
      "                \"ocid1.image.oc1.eu-paris-1.aaaaaaaalvbkaoybngg572c4ybw47avoyv2vk4raeus2bg4hyrbfuq4hmcuq\",\n",
      "                \"ocid1.image.oc1.eu-paris-1.aaaaaaaalvbkaoybngg572c4ybw47avoyv2vk4raeus2bg4hyrbfuq4hmcuq\",\n",
      "                \"ocid1.image.oc1.eu-paris-1.aaaaaaaalvbkaoybngg572c4ybw47avoyv2vk4raeus2bg4hyrbfuq4hmcuq\",\n",
      "                \"ocid1.image.oc1.eu-paris-1.aaaaaaaalvbkaoybngg572c4ybw47avoyv2vk4raeus2bg4hyrbfuq4hmcuq\",\n",
      "                \"ocid1.image.oc1.eu-paris-1.aaaaaaaalvbkaoybngg572c4ybw47avoyv2vk4raeus2bg4hyrbfuq4hmcuq\",\n",
      "                \"ocid1.image.oc1.eu-paris-1.aaaaaaaalvbkaoybngg572c4ybw47avoyv2vk4raeus2bg4hyrbfuq4hmcuq\",\n",
      "                \"ocid1.image.oc1.eu-paris-1.aaaaaaaalvbkaoybngg572c4ybw47avoyv2vk4raeus2bg4hyrbfuq4hmcuq\"\n",
      "            ]\n",
      "        },\n",
      "        {\n",
      "            \"name\": \"shape\",\n",
      "            \"datatype\": \"String\",\n",
      "            \"bit_settings\": \"\",\n",
      "            \"values\": [\n",
      "                \"VM.DenseIO.E4.Flex\",\n",
      "                \"VM.DenseIO.E5.Flex\",\n",
      "                \"VM.DenseIO1.16\",\n",
      "                \"VM.DenseIO1.4\",\n",
      "                \"VM.DenseIO1.8\",\n",
      "                \"VM.DenseIO2.16\",\n",
      "                \"VM.DenseIO2.24\",\n",
      "                \"VM.DenseIO2.8\",\n",
      "                \"VM.GPU.A10.1\",\n",
      "                \"VM.GPU.A10.2\",\n",
      "                \"VM.GPU.GU1.1\",\n",
      "                \"VM.GPU.GU1.2\",\n",
      "                \"VM.GPU2.1\",\n",
      "                \"VM.GPU3.1\",\n",
      "                \"VM.GPU3.2\",\n",
      "                \"VM.GPU3.4\",\n",
      "                \"VM.Optimized3.Flex\",\n",
      "                \"VM.Standard.AMD.Generic\",\n",
      "                \"VM.Standard.B1.1\",\n",
      "                \"VM.Standard.B1.16\",\n",
      "                \"VM.Standard.B1.2\",\n",
      "                \"VM.Standard.B1.4\",\n",
      "                \"VM.Standard.B1.8\",\n",
      "                \"VM.Standard.E2.1\",\n",
      "                \"VM.Standard.E2.1.Micro\",\n",
      "                \"VM.Standard.E2.2\",\n",
      "                \"VM.Standard.E2.4\",\n",
      "                \"VM.Standard.E2.8\",\n",
      "                \"VM.Standard.E3.Flex\",\n",
      "                \"VM.Standard.E4.Flex\",\n",
      "                \"VM.Standard.E5.Flex\",\n",
      "                \"VM.Standard.Intel.Generic\",\n",
      "                \"VM.Standard.x86.Generic\",\n",
      "                \"VM.Standard1.1\",\n",
      "                \"VM.Standard1.16\",\n",
      "                \"VM.Standard1.2\",\n",
      "                \"VM.Standard1.4\",\n",
      "                \"VM.Standard1.8\",\n",
      "                \"VM.Standard2.1\",\n",
      "                \"VM.Standard2.16\",\n",
      "                \"VM.Standard2.2\",\n",
      "                \"VM.Standard2.24\",\n",
      "                \"VM.Standard2.4\",\n",
      "                \"VM.Standard2.8\",\n",
      "                \"VM.Standard2.Flex\",\n",
      "                \"VM.Standard3.Flex\",\n",
      "                \"BM.Standard.E2.64\",\n",
      "                \"BM.Standard.E3.128\",\n",
      "                \"BM.GPU4.8\",\n",
      "                \"BM.Standard.E4.128\",\n",
      "                \"BM.GPU.A100-v2.8\",\n",
      "                \"BM.DenseIO.E4.128\",\n",
      "                \"BM.DenseIO.E5.128\",\n",
      "                \"BM.Standard.E5.192\",\n",
      "                \"BM.GPU.H100.8\",\n",
      "                \"BM.Standard1.36\",\n",
      "                \"BM.HighIO1.36\",\n",
      "                \"BM.DenseIO1.36\",\n",
      "                \"BM.Standard.B1.44\",\n",
      "                \"BM.GPU2.2\",\n",
      "                \"BM.HPC2.36\",\n",
      "                \"BM.Standard2.52\",\n",
      "                \"BM.GPU3.8\",\n",
      "                \"BM.DenseIO2.52\",\n",
      "                \"BM.GPU.T1.2\",\n",
      "                \"BM.Optimized3.36\",\n",
      "                \"BM.Standard3.64\",\n",
      "                \"BM.GPU.A10.4\",\n",
      "                \"VM.DenseIO.E4.Flex\",\n",
      "                \"VM.DenseIO.E5.Flex\",\n",
      "                \"VM.DenseIO1.16\",\n",
      "                \"VM.DenseIO1.4\",\n",
      "                \"VM.DenseIO1.8\",\n",
      "                \"VM.DenseIO2.16\",\n",
      "                \"VM.DenseIO2.24\",\n",
      "                \"VM.DenseIO2.8\",\n",
      "                \"VM.GPU.A10.1\",\n",
      "                \"VM.GPU.A10.2\",\n",
      "                \"VM.GPU.GU1.1\",\n",
      "                \"VM.GPU.GU1.2\",\n",
      "                \"VM.GPU2.1\",\n",
      "                \"VM.GPU3.1\",\n",
      "                \"VM.GPU3.2\",\n",
      "                \"VM.GPU3.4\",\n",
      "                \"VM.Optimized3.Flex\",\n",
      "                \"VM.Standard.AMD.Generic\",\n",
      "                \"VM.Standard.E2.1\",\n",
      "                \"VM.Standard.E2.1.Micro\",\n",
      "                \"VM.Standard.E2.2\",\n",
      "                \"VM.Standard.E2.4\",\n",
      "                \"VM.Standard.E2.8\",\n",
      "                \"VM.Standard.E3.Flex\",\n",
      "                \"VM.Standard.E4.Flex\",\n",
      "                \"VM.Standard.E5.Flex\",\n",
      "                \"VM.Standard.Intel.Generic\",\n",
      "                \"VM.Standard.x86.Generic\",\n",
      "                \"VM.Standard1.1\",\n",
      "                \"VM.Standard1.16\",\n",
      "                \"VM.Standard1.2\",\n",
      "                \"VM.Standard1.4\",\n",
      "                \"VM.Standard1.8\",\n",
      "                \"VM.Standard2.1\",\n",
      "                \"VM.Standard2.16\",\n",
      "                \"VM.Standard2.2\",\n",
      "                \"VM.Standard2.24\",\n",
      "                \"VM.Standard2.4\",\n",
      "                \"VM.Standard2.8\",\n",
      "                \"VM.Standard2.Flex\",\n",
      "                \"VM.Standard3.Flex\",\n",
      "                \"BM.Standard.E2.64\",\n",
      "                \"BM.Standard.E3.128\",\n",
      "                \"BM.GPU4.8\",\n",
      "                \"BM.Standard.E4.128\",\n",
      "                \"BM.GPU.A100-v2.8\",\n",
      "                \"BM.DenseIO.E4.128\",\n",
      "                \"BM.DenseIO.E5.128\",\n",
      "                \"BM.Standard.E5.192\",\n",
      "                \"BM.Standard1.36\",\n",
      "                \"BM.HighIO1.36\",\n",
      "                \"BM.DenseIO1.36\",\n",
      "                \"BM.GPU2.2\",\n",
      "                \"BM.HPC2.36\",\n",
      "                \"BM.Standard2.52\",\n",
      "                \"BM.GPU3.8\",\n",
      "                \"BM.DenseIO2.52\",\n",
      "                \"BM.Optimized3.36\",\n",
      "                \"BM.Standard3.64\",\n",
      "                \"BM.GPU.A10.4\"\n",
      "            ]\n",
      "        }\n",
      "    ]\n",
      "}\n"
     ]
    },
    {
     "data": {
      "application/vnd.dataresource+json": {
       "data": [
        {
         "imageId": "ocid1.image.oc1.eu-paris-1.aaaaaaaaf7irdvozuzmwyvbfacdivomj52x65vr6tlg62i6er323sevazdqq",
         "shape": "VM.DenseIO.E4.Flex"
        },
        {
         "imageId": "ocid1.image.oc1.eu-paris-1.aaaaaaaaf7irdvozuzmwyvbfacdivomj52x65vr6tlg62i6er323sevazdqq",
         "shape": "VM.DenseIO.E5.Flex"
        },
        {
         "imageId": "ocid1.image.oc1.eu-paris-1.aaaaaaaaf7irdvozuzmwyvbfacdivomj52x65vr6tlg62i6er323sevazdqq",
         "shape": "VM.DenseIO1.16"
        },
        {
         "imageId": "ocid1.image.oc1.eu-paris-1.aaaaaaaaf7irdvozuzmwyvbfacdivomj52x65vr6tlg62i6er323sevazdqq",
         "shape": "VM.DenseIO1.4"
        },
        {
         "imageId": "ocid1.image.oc1.eu-paris-1.aaaaaaaaf7irdvozuzmwyvbfacdivomj52x65vr6tlg62i6er323sevazdqq",
         "shape": "VM.DenseIO1.8"
        },
        {
         "imageId": "ocid1.image.oc1.eu-paris-1.aaaaaaaaf7irdvozuzmwyvbfacdivomj52x65vr6tlg62i6er323sevazdqq",
         "shape": "VM.DenseIO2.16"
        },
        {
         "imageId": "ocid1.image.oc1.eu-paris-1.aaaaaaaaf7irdvozuzmwyvbfacdivomj52x65vr6tlg62i6er323sevazdqq",
         "shape": "VM.DenseIO2.24"
        },
        {
         "imageId": "ocid1.image.oc1.eu-paris-1.aaaaaaaaf7irdvozuzmwyvbfacdivomj52x65vr6tlg62i6er323sevazdqq",
         "shape": "VM.DenseIO2.8"
        },
        {
         "imageId": "ocid1.image.oc1.eu-paris-1.aaaaaaaaf7irdvozuzmwyvbfacdivomj52x65vr6tlg62i6er323sevazdqq",
         "shape": "VM.GPU.A10.1"
        },
        {
         "imageId": "ocid1.image.oc1.eu-paris-1.aaaaaaaaf7irdvozuzmwyvbfacdivomj52x65vr6tlg62i6er323sevazdqq",
         "shape": "VM.GPU.A10.2"
        },
        {
         "imageId": "ocid1.image.oc1.eu-paris-1.aaaaaaaaf7irdvozuzmwyvbfacdivomj52x65vr6tlg62i6er323sevazdqq",
         "shape": "VM.GPU.GU1.1"
        },
        {
         "imageId": "ocid1.image.oc1.eu-paris-1.aaaaaaaaf7irdvozuzmwyvbfacdivomj52x65vr6tlg62i6er323sevazdqq",
         "shape": "VM.GPU.GU1.2"
        },
        {
         "imageId": "ocid1.image.oc1.eu-paris-1.aaaaaaaaf7irdvozuzmwyvbfacdivomj52x65vr6tlg62i6er323sevazdqq",
         "shape": "VM.GPU2.1"
        },
        {
         "imageId": "ocid1.image.oc1.eu-paris-1.aaaaaaaaf7irdvozuzmwyvbfacdivomj52x65vr6tlg62i6er323sevazdqq",
         "shape": "VM.GPU3.1"
        },
        {
         "imageId": "ocid1.image.oc1.eu-paris-1.aaaaaaaaf7irdvozuzmwyvbfacdivomj52x65vr6tlg62i6er323sevazdqq",
         "shape": "VM.GPU3.2"
        },
        {
         "imageId": "ocid1.image.oc1.eu-paris-1.aaaaaaaaf7irdvozuzmwyvbfacdivomj52x65vr6tlg62i6er323sevazdqq",
         "shape": "VM.GPU3.4"
        },
        {
         "imageId": "ocid1.image.oc1.eu-paris-1.aaaaaaaaf7irdvozuzmwyvbfacdivomj52x65vr6tlg62i6er323sevazdqq",
         "shape": "VM.Optimized3.Flex"
        },
        {
         "imageId": "ocid1.image.oc1.eu-paris-1.aaaaaaaaf7irdvozuzmwyvbfacdivomj52x65vr6tlg62i6er323sevazdqq",
         "shape": "VM.Standard.AMD.Generic"
        },
        {
         "imageId": "ocid1.image.oc1.eu-paris-1.aaaaaaaaf7irdvozuzmwyvbfacdivomj52x65vr6tlg62i6er323sevazdqq",
         "shape": "VM.Standard.B1.1"
        },
        {
         "imageId": "ocid1.image.oc1.eu-paris-1.aaaaaaaaf7irdvozuzmwyvbfacdivomj52x65vr6tlg62i6er323sevazdqq",
         "shape": "VM.Standard.B1.16"
        },
        {
         "imageId": "ocid1.image.oc1.eu-paris-1.aaaaaaaaf7irdvozuzmwyvbfacdivomj52x65vr6tlg62i6er323sevazdqq",
         "shape": "VM.Standard.B1.2"
        },
        {
         "imageId": "ocid1.image.oc1.eu-paris-1.aaaaaaaaf7irdvozuzmwyvbfacdivomj52x65vr6tlg62i6er323sevazdqq",
         "shape": "VM.Standard.B1.4"
        },
        {
         "imageId": "ocid1.image.oc1.eu-paris-1.aaaaaaaaf7irdvozuzmwyvbfacdivomj52x65vr6tlg62i6er323sevazdqq",
         "shape": "VM.Standard.B1.8"
        },
        {
         "imageId": "ocid1.image.oc1.eu-paris-1.aaaaaaaaf7irdvozuzmwyvbfacdivomj52x65vr6tlg62i6er323sevazdqq",
         "shape": "VM.Standard.E2.1"
        },
        {
         "imageId": "ocid1.image.oc1.eu-paris-1.aaaaaaaaf7irdvozuzmwyvbfacdivomj52x65vr6tlg62i6er323sevazdqq",
         "shape": "VM.Standard.E2.1.Micro"
        },
        {
         "imageId": "ocid1.image.oc1.eu-paris-1.aaaaaaaaf7irdvozuzmwyvbfacdivomj52x65vr6tlg62i6er323sevazdqq",
         "shape": "VM.Standard.E2.2"
        },
        {
         "imageId": "ocid1.image.oc1.eu-paris-1.aaaaaaaaf7irdvozuzmwyvbfacdivomj52x65vr6tlg62i6er323sevazdqq",
         "shape": "VM.Standard.E2.4"
        },
        {
         "imageId": "ocid1.image.oc1.eu-paris-1.aaaaaaaaf7irdvozuzmwyvbfacdivomj52x65vr6tlg62i6er323sevazdqq",
         "shape": "VM.Standard.E2.8"
        },
        {
         "imageId": "ocid1.image.oc1.eu-paris-1.aaaaaaaaf7irdvozuzmwyvbfacdivomj52x65vr6tlg62i6er323sevazdqq",
         "shape": "VM.Standard.E3.Flex"
        },
        {
         "imageId": "ocid1.image.oc1.eu-paris-1.aaaaaaaaf7irdvozuzmwyvbfacdivomj52x65vr6tlg62i6er323sevazdqq",
         "shape": "VM.Standard.E4.Flex"
        },
        {
         "imageId": "ocid1.image.oc1.eu-paris-1.aaaaaaaaf7irdvozuzmwyvbfacdivomj52x65vr6tlg62i6er323sevazdqq",
         "shape": "VM.Standard.E5.Flex"
        },
        {
         "imageId": "ocid1.image.oc1.eu-paris-1.aaaaaaaaf7irdvozuzmwyvbfacdivomj52x65vr6tlg62i6er323sevazdqq",
         "shape": "VM.Standard.Intel.Generic"
        },
        {
         "imageId": "ocid1.image.oc1.eu-paris-1.aaaaaaaaf7irdvozuzmwyvbfacdivomj52x65vr6tlg62i6er323sevazdqq",
         "shape": "VM.Standard.x86.Generic"
        },
        {
         "imageId": "ocid1.image.oc1.eu-paris-1.aaaaaaaaf7irdvozuzmwyvbfacdivomj52x65vr6tlg62i6er323sevazdqq",
         "shape": "VM.Standard1.1"
        },
        {
         "imageId": "ocid1.image.oc1.eu-paris-1.aaaaaaaaf7irdvozuzmwyvbfacdivomj52x65vr6tlg62i6er323sevazdqq",
         "shape": "VM.Standard1.16"
        },
        {
         "imageId": "ocid1.image.oc1.eu-paris-1.aaaaaaaaf7irdvozuzmwyvbfacdivomj52x65vr6tlg62i6er323sevazdqq",
         "shape": "VM.Standard1.2"
        },
        {
         "imageId": "ocid1.image.oc1.eu-paris-1.aaaaaaaaf7irdvozuzmwyvbfacdivomj52x65vr6tlg62i6er323sevazdqq",
         "shape": "VM.Standard1.4"
        },
        {
         "imageId": "ocid1.image.oc1.eu-paris-1.aaaaaaaaf7irdvozuzmwyvbfacdivomj52x65vr6tlg62i6er323sevazdqq",
         "shape": "VM.Standard1.8"
        },
        {
         "imageId": "ocid1.image.oc1.eu-paris-1.aaaaaaaaf7irdvozuzmwyvbfacdivomj52x65vr6tlg62i6er323sevazdqq",
         "shape": "VM.Standard2.1"
        },
        {
         "imageId": "ocid1.image.oc1.eu-paris-1.aaaaaaaaf7irdvozuzmwyvbfacdivomj52x65vr6tlg62i6er323sevazdqq",
         "shape": "VM.Standard2.16"
        },
        {
         "imageId": "ocid1.image.oc1.eu-paris-1.aaaaaaaaf7irdvozuzmwyvbfacdivomj52x65vr6tlg62i6er323sevazdqq",
         "shape": "VM.Standard2.2"
        },
        {
         "imageId": "ocid1.image.oc1.eu-paris-1.aaaaaaaaf7irdvozuzmwyvbfacdivomj52x65vr6tlg62i6er323sevazdqq",
         "shape": "VM.Standard2.24"
        },
        {
         "imageId": "ocid1.image.oc1.eu-paris-1.aaaaaaaaf7irdvozuzmwyvbfacdivomj52x65vr6tlg62i6er323sevazdqq",
         "shape": "VM.Standard2.4"
        },
        {
         "imageId": "ocid1.image.oc1.eu-paris-1.aaaaaaaaf7irdvozuzmwyvbfacdivomj52x65vr6tlg62i6er323sevazdqq",
         "shape": "VM.Standard2.8"
        },
        {
         "imageId": "ocid1.image.oc1.eu-paris-1.aaaaaaaaf7irdvozuzmwyvbfacdivomj52x65vr6tlg62i6er323sevazdqq",
         "shape": "VM.Standard2.Flex"
        },
        {
         "imageId": "ocid1.image.oc1.eu-paris-1.aaaaaaaaf7irdvozuzmwyvbfacdivomj52x65vr6tlg62i6er323sevazdqq",
         "shape": "VM.Standard3.Flex"
        },
        {
         "imageId": "ocid1.image.oc1.eu-paris-1.aaaaaaaaf7irdvozuzmwyvbfacdivomj52x65vr6tlg62i6er323sevazdqq",
         "shape": "BM.Standard.E2.64"
        },
        {
         "imageId": "ocid1.image.oc1.eu-paris-1.aaaaaaaaf7irdvozuzmwyvbfacdivomj52x65vr6tlg62i6er323sevazdqq",
         "shape": "BM.Standard.E3.128"
        },
        {
         "imageId": "ocid1.image.oc1.eu-paris-1.aaaaaaaaf7irdvozuzmwyvbfacdivomj52x65vr6tlg62i6er323sevazdqq",
         "shape": "BM.GPU4.8"
        },
        {
         "imageId": "ocid1.image.oc1.eu-paris-1.aaaaaaaaf7irdvozuzmwyvbfacdivomj52x65vr6tlg62i6er323sevazdqq",
         "shape": "BM.Standard.E4.128"
        }
       ],
       "schema": {
        "fields": [
         {
          "name": "imageId",
          "type": "string"
         },
         {
          "name": "shape",
          "type": "string"
         }
        ]
       }
      },
      "text/html": [
       "<table><thead><tr><th>imageId</th><th>shape</th></tr></thead><tbody><tr><td>ocid1.image.oc1.eu-paris-1.aaaaaaaaf7irdvozuzmwyvbfacdivomj52x65vr6tlg62i6er323sevazdqq</td><td>VM.DenseIO.E4.Flex</td></tr><tr><td>ocid1.image.oc1.eu-paris-1.aaaaaaaaf7irdvozuzmwyvbfacdivomj52x65vr6tlg62i6er323sevazdqq</td><td>VM.DenseIO.E5.Flex</td></tr><tr><td>ocid1.image.oc1.eu-paris-1.aaaaaaaaf7irdvozuzmwyvbfacdivomj52x65vr6tlg62i6er323sevazdqq</td><td>VM.DenseIO1.16</td></tr><tr><td>ocid1.image.oc1.eu-paris-1.aaaaaaaaf7irdvozuzmwyvbfacdivomj52x65vr6tlg62i6er323sevazdqq</td><td>VM.DenseIO1.4</td></tr><tr><td>ocid1.image.oc1.eu-paris-1.aaaaaaaaf7irdvozuzmwyvbfacdivomj52x65vr6tlg62i6er323sevazdqq</td><td>VM.DenseIO1.8</td></tr><tr><td>ocid1.image.oc1.eu-paris-1.aaaaaaaaf7irdvozuzmwyvbfacdivomj52x65vr6tlg62i6er323sevazdqq</td><td>VM.DenseIO2.16</td></tr><tr><td>ocid1.image.oc1.eu-paris-1.aaaaaaaaf7irdvozuzmwyvbfacdivomj52x65vr6tlg62i6er323sevazdqq</td><td>VM.DenseIO2.24</td></tr><tr><td>ocid1.image.oc1.eu-paris-1.aaaaaaaaf7irdvozuzmwyvbfacdivomj52x65vr6tlg62i6er323sevazdqq</td><td>VM.DenseIO2.8</td></tr><tr><td>ocid1.image.oc1.eu-paris-1.aaaaaaaaf7irdvozuzmwyvbfacdivomj52x65vr6tlg62i6er323sevazdqq</td><td>VM.GPU.A10.1</td></tr><tr><td>ocid1.image.oc1.eu-paris-1.aaaaaaaaf7irdvozuzmwyvbfacdivomj52x65vr6tlg62i6er323sevazdqq</td><td>VM.GPU.A10.2</td></tr><tr><td>ocid1.image.oc1.eu-paris-1.aaaaaaaaf7irdvozuzmwyvbfacdivomj52x65vr6tlg62i6er323sevazdqq</td><td>VM.GPU.GU1.1</td></tr><tr><td>ocid1.image.oc1.eu-paris-1.aaaaaaaaf7irdvozuzmwyvbfacdivomj52x65vr6tlg62i6er323sevazdqq</td><td>VM.GPU.GU1.2</td></tr><tr><td>ocid1.image.oc1.eu-paris-1.aaaaaaaaf7irdvozuzmwyvbfacdivomj52x65vr6tlg62i6er323sevazdqq</td><td>VM.GPU2.1</td></tr><tr><td>ocid1.image.oc1.eu-paris-1.aaaaaaaaf7irdvozuzmwyvbfacdivomj52x65vr6tlg62i6er323sevazdqq</td><td>VM.GPU3.1</td></tr><tr><td>ocid1.image.oc1.eu-paris-1.aaaaaaaaf7irdvozuzmwyvbfacdivomj52x65vr6tlg62i6er323sevazdqq</td><td>VM.GPU3.2</td></tr><tr><td>ocid1.image.oc1.eu-paris-1.aaaaaaaaf7irdvozuzmwyvbfacdivomj52x65vr6tlg62i6er323sevazdqq</td><td>VM.GPU3.4</td></tr><tr><td>ocid1.image.oc1.eu-paris-1.aaaaaaaaf7irdvozuzmwyvbfacdivomj52x65vr6tlg62i6er323sevazdqq</td><td>VM.Optimized3.Flex</td></tr><tr><td>ocid1.image.oc1.eu-paris-1.aaaaaaaaf7irdvozuzmwyvbfacdivomj52x65vr6tlg62i6er323sevazdqq</td><td>VM.Standard.AMD.Generic</td></tr><tr><td>ocid1.image.oc1.eu-paris-1.aaaaaaaaf7irdvozuzmwyvbfacdivomj52x65vr6tlg62i6er323sevazdqq</td><td>VM.Standard.B1.1</td></tr><tr><td>ocid1.image.oc1.eu-paris-1.aaaaaaaaf7irdvozuzmwyvbfacdivomj52x65vr6tlg62i6er323sevazdqq</td><td>VM.Standard.B1.16</td></tr><tr><td>ocid1.image.oc1.eu-paris-1.aaaaaaaaf7irdvozuzmwyvbfacdivomj52x65vr6tlg62i6er323sevazdqq</td><td>VM.Standard.B1.2</td></tr><tr><td>ocid1.image.oc1.eu-paris-1.aaaaaaaaf7irdvozuzmwyvbfacdivomj52x65vr6tlg62i6er323sevazdqq</td><td>VM.Standard.B1.4</td></tr><tr><td>ocid1.image.oc1.eu-paris-1.aaaaaaaaf7irdvozuzmwyvbfacdivomj52x65vr6tlg62i6er323sevazdqq</td><td>VM.Standard.B1.8</td></tr><tr><td>ocid1.image.oc1.eu-paris-1.aaaaaaaaf7irdvozuzmwyvbfacdivomj52x65vr6tlg62i6er323sevazdqq</td><td>VM.Standard.E2.1</td></tr><tr><td>ocid1.image.oc1.eu-paris-1.aaaaaaaaf7irdvozuzmwyvbfacdivomj52x65vr6tlg62i6er323sevazdqq</td><td>VM.Standard.E2.1.Micro</td></tr><tr><td>ocid1.image.oc1.eu-paris-1.aaaaaaaaf7irdvozuzmwyvbfacdivomj52x65vr6tlg62i6er323sevazdqq</td><td>VM.Standard.E2.2</td></tr><tr><td>ocid1.image.oc1.eu-paris-1.aaaaaaaaf7irdvozuzmwyvbfacdivomj52x65vr6tlg62i6er323sevazdqq</td><td>VM.Standard.E2.4</td></tr><tr><td>ocid1.image.oc1.eu-paris-1.aaaaaaaaf7irdvozuzmwyvbfacdivomj52x65vr6tlg62i6er323sevazdqq</td><td>VM.Standard.E2.8</td></tr><tr><td>ocid1.image.oc1.eu-paris-1.aaaaaaaaf7irdvozuzmwyvbfacdivomj52x65vr6tlg62i6er323sevazdqq</td><td>VM.Standard.E3.Flex</td></tr><tr><td>ocid1.image.oc1.eu-paris-1.aaaaaaaaf7irdvozuzmwyvbfacdivomj52x65vr6tlg62i6er323sevazdqq</td><td>VM.Standard.E4.Flex</td></tr><tr><td>ocid1.image.oc1.eu-paris-1.aaaaaaaaf7irdvozuzmwyvbfacdivomj52x65vr6tlg62i6er323sevazdqq</td><td>VM.Standard.E5.Flex</td></tr><tr><td>ocid1.image.oc1.eu-paris-1.aaaaaaaaf7irdvozuzmwyvbfacdivomj52x65vr6tlg62i6er323sevazdqq</td><td>VM.Standard.Intel.Generic</td></tr><tr><td>ocid1.image.oc1.eu-paris-1.aaaaaaaaf7irdvozuzmwyvbfacdivomj52x65vr6tlg62i6er323sevazdqq</td><td>VM.Standard.x86.Generic</td></tr><tr><td>ocid1.image.oc1.eu-paris-1.aaaaaaaaf7irdvozuzmwyvbfacdivomj52x65vr6tlg62i6er323sevazdqq</td><td>VM.Standard1.1</td></tr><tr><td>ocid1.image.oc1.eu-paris-1.aaaaaaaaf7irdvozuzmwyvbfacdivomj52x65vr6tlg62i6er323sevazdqq</td><td>VM.Standard1.16</td></tr><tr><td>ocid1.image.oc1.eu-paris-1.aaaaaaaaf7irdvozuzmwyvbfacdivomj52x65vr6tlg62i6er323sevazdqq</td><td>VM.Standard1.2</td></tr><tr><td>ocid1.image.oc1.eu-paris-1.aaaaaaaaf7irdvozuzmwyvbfacdivomj52x65vr6tlg62i6er323sevazdqq</td><td>VM.Standard1.4</td></tr><tr><td>ocid1.image.oc1.eu-paris-1.aaaaaaaaf7irdvozuzmwyvbfacdivomj52x65vr6tlg62i6er323sevazdqq</td><td>VM.Standard1.8</td></tr><tr><td>ocid1.image.oc1.eu-paris-1.aaaaaaaaf7irdvozuzmwyvbfacdivomj52x65vr6tlg62i6er323sevazdqq</td><td>VM.Standard2.1</td></tr><tr><td>ocid1.image.oc1.eu-paris-1.aaaaaaaaf7irdvozuzmwyvbfacdivomj52x65vr6tlg62i6er323sevazdqq</td><td>VM.Standard2.16</td></tr><tr><td>ocid1.image.oc1.eu-paris-1.aaaaaaaaf7irdvozuzmwyvbfacdivomj52x65vr6tlg62i6er323sevazdqq</td><td>VM.Standard2.2</td></tr><tr><td>ocid1.image.oc1.eu-paris-1.aaaaaaaaf7irdvozuzmwyvbfacdivomj52x65vr6tlg62i6er323sevazdqq</td><td>VM.Standard2.24</td></tr><tr><td>ocid1.image.oc1.eu-paris-1.aaaaaaaaf7irdvozuzmwyvbfacdivomj52x65vr6tlg62i6er323sevazdqq</td><td>VM.Standard2.4</td></tr><tr><td>ocid1.image.oc1.eu-paris-1.aaaaaaaaf7irdvozuzmwyvbfacdivomj52x65vr6tlg62i6er323sevazdqq</td><td>VM.Standard2.8</td></tr><tr><td>ocid1.image.oc1.eu-paris-1.aaaaaaaaf7irdvozuzmwyvbfacdivomj52x65vr6tlg62i6er323sevazdqq</td><td>VM.Standard2.Flex</td></tr><tr><td>ocid1.image.oc1.eu-paris-1.aaaaaaaaf7irdvozuzmwyvbfacdivomj52x65vr6tlg62i6er323sevazdqq</td><td>VM.Standard3.Flex</td></tr><tr><td>ocid1.image.oc1.eu-paris-1.aaaaaaaaf7irdvozuzmwyvbfacdivomj52x65vr6tlg62i6er323sevazdqq</td><td>BM.Standard.E2.64</td></tr><tr><td>ocid1.image.oc1.eu-paris-1.aaaaaaaaf7irdvozuzmwyvbfacdivomj52x65vr6tlg62i6er323sevazdqq</td><td>BM.Standard.E3.128</td></tr><tr><td>ocid1.image.oc1.eu-paris-1.aaaaaaaaf7irdvozuzmwyvbfacdivomj52x65vr6tlg62i6er323sevazdqq</td><td>BM.GPU4.8</td></tr><tr><td>ocid1.image.oc1.eu-paris-1.aaaaaaaaf7irdvozuzmwyvbfacdivomj52x65vr6tlg62i6er323sevazdqq</td><td>BM.Standard.E4.128</td></tr></tbody></table>"
      ]
     },
     "execution_count": 13,
     "metadata": {},
     "output_type": "execute_result"
    }
   ],
   "source": [
    "//pl.Series('imageShapes', df_compatibilityListExample1)\n",
    "// pl.concat([df_compatibilityListExample2, df_compatibilityListExample1], { how: \"vertical\", rechunk: false })\n",
    "const resultatVstack= df_compatibilityListExample2.vstack(df_compatibilityListExample1)\n",
    "\n",
    "// df_compatibilityListExample1.vstack(df_compatibilityListExample2)\n",
    "console.log(JSON.stringify(resultatVstack, null, 4))\n",
    "resultatVstack.select(pl.col('*'))"
   ]
  },
  {
   "cell_type": "code",
   "execution_count": 29,
   "id": "0547374e-a71e-4fd5-8853-2ec7e5a5fe02",
   "metadata": {},
   "outputs": [
    {
     "data": {
      "application/vnd.dataresource+json": {
       "data": [
        {
         "imageId": "ocid1.image.oc1.eu-paris-1.aaaaaaaalvbkaoybngg572c4ybw47avoyv2vk4raeus2bg4hyrbfuq4hmcuq",
         "shape": [
          "VM.DenseIO.E4.Flex",
          "VM.DenseIO.E5.Flex",
          "VM.DenseIO1.16",
          "VM.DenseIO1.4",
          "VM.DenseIO1.8",
          "VM.DenseIO2.16",
          "VM.DenseIO2.24",
          "VM.DenseIO2.8",
          "VM.GPU.A10.1",
          "VM.GPU.A10.2",
          "VM.GPU.GU1.1",
          "VM.GPU.GU1.2",
          "VM.GPU2.1",
          "VM.GPU3.1",
          "VM.GPU3.2",
          "VM.GPU3.4",
          "VM.Optimized3.Flex",
          "VM.Standard.AMD.Generic",
          "VM.Standard.E2.1",
          "VM.Standard.E2.1.Micro",
          "VM.Standard.E2.2",
          "VM.Standard.E2.4",
          "VM.Standard.E2.8",
          "VM.Standard.E3.Flex",
          "VM.Standard.E4.Flex",
          "VM.Standard.E5.Flex",
          "VM.Standard.Intel.Generic",
          "VM.Standard.x86.Generic",
          "VM.Standard1.1",
          "VM.Standard1.16",
          "VM.Standard1.2",
          "VM.Standard1.4",
          "VM.Standard1.8",
          "VM.Standard2.1",
          "VM.Standard2.16",
          "VM.Standard2.2",
          "VM.Standard2.24",
          "VM.Standard2.4",
          "VM.Standard2.8",
          "VM.Standard2.Flex",
          "VM.Standard3.Flex",
          "BM.Standard.E2.64",
          "BM.Standard.E3.128",
          "BM.GPU4.8",
          "BM.Standard.E4.128",
          "BM.GPU.A100-v2.8",
          "BM.DenseIO.E4.128",
          "BM.DenseIO.E5.128",
          "BM.Standard.E5.192",
          "BM.Standard1.36",
          "BM.HighIO1.36",
          "BM.DenseIO1.36",
          "BM.GPU2.2",
          "BM.HPC2.36",
          "BM.Standard2.52",
          "BM.GPU3.8",
          "BM.DenseIO2.52",
          "BM.Optimized3.36",
          "BM.Standard3.64",
          "BM.GPU.A10.4"
         ]
        },
        {
         "imageId": "ocid1.image.oc1.eu-paris-1.aaaaaaaaf7irdvozuzmwyvbfacdivomj52x65vr6tlg62i6er323sevazdqq",
         "shape": [
          "VM.DenseIO.E4.Flex",
          "VM.DenseIO.E5.Flex",
          "VM.DenseIO1.16",
          "VM.DenseIO1.4",
          "VM.DenseIO1.8",
          "VM.DenseIO2.16",
          "VM.DenseIO2.24",
          "VM.DenseIO2.8",
          "VM.GPU.A10.1",
          "VM.GPU.A10.2",
          "VM.GPU.GU1.1",
          "VM.GPU.GU1.2",
          "VM.GPU2.1",
          "VM.GPU3.1",
          "VM.GPU3.2",
          "VM.GPU3.4",
          "VM.Optimized3.Flex",
          "VM.Standard.AMD.Generic",
          "VM.Standard.B1.1",
          "VM.Standard.B1.16",
          "VM.Standard.B1.2",
          "VM.Standard.B1.4",
          "VM.Standard.B1.8",
          "VM.Standard.E2.1",
          "VM.Standard.E2.1.Micro",
          "VM.Standard.E2.2",
          "VM.Standard.E2.4",
          "VM.Standard.E2.8",
          "VM.Standard.E3.Flex",
          "VM.Standard.E4.Flex",
          "VM.Standard.E5.Flex",
          "VM.Standard.Intel.Generic",
          "VM.Standard.x86.Generic",
          "VM.Standard1.1",
          "VM.Standard1.16",
          "VM.Standard1.2",
          "VM.Standard1.4",
          "VM.Standard1.8",
          "VM.Standard2.1",
          "VM.Standard2.16",
          "VM.Standard2.2",
          "VM.Standard2.24",
          "VM.Standard2.4",
          "VM.Standard2.8",
          "VM.Standard2.Flex",
          "VM.Standard3.Flex",
          "BM.Standard.E2.64",
          "BM.Standard.E3.128",
          "BM.GPU4.8",
          "BM.Standard.E4.128",
          "BM.GPU.A100-v2.8",
          "BM.DenseIO.E4.128",
          "BM.DenseIO.E5.128",
          "BM.Standard.E5.192",
          "BM.GPU.H100.8",
          "BM.Standard1.36",
          "BM.HighIO1.36",
          "BM.DenseIO1.36",
          "BM.Standard.B1.44",
          "BM.GPU2.2",
          "BM.HPC2.36",
          "BM.Standard2.52",
          "BM.GPU3.8",
          "BM.DenseIO2.52",
          "BM.GPU.T1.2",
          "BM.Optimized3.36",
          "BM.Standard3.64",
          "BM.GPU.A10.4"
         ]
        }
       ],
       "schema": {
        "fields": [
         {
          "name": "imageId",
          "type": "string"
         },
         {
          "name": "shape",
          "type": "array"
         }
        ]
       }
      },
      "text/html": [
       "<table><thead><tr><th>imageId</th><th>shape</th></tr></thead><tbody><tr><td>ocid1.image.oc1.eu-paris-1.aaaaaaaalvbkaoybngg572c4ybw47avoyv2vk4raeus2bg4hyrbfuq4hmcuq</td><td>VM.DenseIO.E4.Flex,VM.DenseIO.E5.Flex,VM.DenseIO1.16,VM.DenseIO1.4,VM.DenseIO1.8,VM.DenseIO2.16,VM.DenseIO2.24,VM.DenseIO2.8,VM.GPU.A10.1,VM.GPU.A10.2,VM.GPU.GU1.1,VM.GPU.GU1.2,VM.GPU2.1,VM.GPU3.1,VM.GPU3.2,VM.GPU3.4,VM.Optimized3.Flex,VM.Standard.AMD.Generic,VM.Standard.E2.1,VM.Standard.E2.1.Micro,VM.Standard.E2.2,VM.Standard.E2.4,VM.Standard.E2.8,VM.Standard.E3.Flex,VM.Standard.E4.Flex,VM.Standard.E5.Flex,VM.Standard.Intel.Generic,VM.Standard.x86.Generic,VM.Standard1.1,VM.Standard1.16,VM.Standard1.2,VM.Standard1.4,VM.Standard1.8,VM.Standard2.1,VM.Standard2.16,VM.Standard2.2,VM.Standard2.24,VM.Standard2.4,VM.Standard2.8,VM.Standard2.Flex,VM.Standard3.Flex,BM.Standard.E2.64,BM.Standard.E3.128,BM.GPU4.8,BM.Standard.E4.128,BM.GPU.A100-v2.8,BM.DenseIO.E4.128,BM.DenseIO.E5.128,BM.Standard.E5.192,BM.Standard1.36,BM.HighIO1.36,BM.DenseIO1.36,BM.GPU2.2,BM.HPC2.36,BM.Standard2.52,BM.GPU3.8,BM.DenseIO2.52,BM.Optimized3.36,BM.Standard3.64,BM.GPU.A10.4</td></tr><tr><td>ocid1.image.oc1.eu-paris-1.aaaaaaaaf7irdvozuzmwyvbfacdivomj52x65vr6tlg62i6er323sevazdqq</td><td>VM.DenseIO.E4.Flex,VM.DenseIO.E5.Flex,VM.DenseIO1.16,VM.DenseIO1.4,VM.DenseIO1.8,VM.DenseIO2.16,VM.DenseIO2.24,VM.DenseIO2.8,VM.GPU.A10.1,VM.GPU.A10.2,VM.GPU.GU1.1,VM.GPU.GU1.2,VM.GPU2.1,VM.GPU3.1,VM.GPU3.2,VM.GPU3.4,VM.Optimized3.Flex,VM.Standard.AMD.Generic,VM.Standard.B1.1,VM.Standard.B1.16,VM.Standard.B1.2,VM.Standard.B1.4,VM.Standard.B1.8,VM.Standard.E2.1,VM.Standard.E2.1.Micro,VM.Standard.E2.2,VM.Standard.E2.4,VM.Standard.E2.8,VM.Standard.E3.Flex,VM.Standard.E4.Flex,VM.Standard.E5.Flex,VM.Standard.Intel.Generic,VM.Standard.x86.Generic,VM.Standard1.1,VM.Standard1.16,VM.Standard1.2,VM.Standard1.4,VM.Standard1.8,VM.Standard2.1,VM.Standard2.16,VM.Standard2.2,VM.Standard2.24,VM.Standard2.4,VM.Standard2.8,VM.Standard2.Flex,VM.Standard3.Flex,BM.Standard.E2.64,BM.Standard.E3.128,BM.GPU4.8,BM.Standard.E4.128,BM.GPU.A100-v2.8,BM.DenseIO.E4.128,BM.DenseIO.E5.128,BM.Standard.E5.192,BM.GPU.H100.8,BM.Standard1.36,BM.HighIO1.36,BM.DenseIO1.36,BM.Standard.B1.44,BM.GPU2.2,BM.HPC2.36,BM.Standard2.52,BM.GPU3.8,BM.DenseIO2.52,BM.GPU.T1.2,BM.Optimized3.36,BM.Standard3.64,BM.GPU.A10.4</td></tr></tbody></table>"
      ]
     },
     "execution_count": 29,
     "metadata": {},
     "output_type": "execute_result"
    }
   ],
   "source": [
    "const resultatVstack2= df_compatibilityListExample1.select(pl.col(\"imageId\"), pl.col(\"shape\")).vstack(df_compatibilityListExample2.select(pl.col(\"imageId\"), pl.col(\"shape\")))\n",
    "/*\n",
    "console.log(JSON.stringify(resultatVstack2, null, 4))\n",
    "resultatVstack2\n",
    "\n",
    "*/\n",
    "\n",
    "resultatVstack2.groupBy(\"imageId\").agg(\n",
    "    pl.col(\"shape\").alias(\"shape\")\n",
    ").select(\n",
    "    pl.col(\"imageId\").alias(\"imageId\"),\n",
    "    pl.col(\"shape\").alias(\"shape\")\n",
    ")"
   ]
  },
  {
   "cell_type": "code",
   "execution_count": 38,
   "id": "8e8885d0-c58f-48b2-ba00-0b2fb0f9f0dd",
   "metadata": {},
   "outputs": [
    {
     "data": {
      "text/plain": [
       "[\n",
       "  \u001b[32m\"ocid1.image.oc1.eu-paris-1.aaaaaaaalvbkaoybngg572c4ybw47avoyv2vk4raeus2bg4hyrbfuq4hmcuq\"\u001b[39m,\n",
       "  [\n",
       "    \u001b[32m\"VM.DenseIO.E4.Flex\"\u001b[39m,\n",
       "    \u001b[32m\"VM.DenseIO.E5.Flex\"\u001b[39m,\n",
       "    \u001b[32m\"VM.DenseIO1.16\"\u001b[39m,\n",
       "    \u001b[32m\"VM.DenseIO1.4\"\u001b[39m,\n",
       "    \u001b[32m\"VM.DenseIO1.8\"\u001b[39m,\n",
       "    \u001b[32m\"VM.DenseIO2.16\"\u001b[39m,\n",
       "    \u001b[32m\"VM.DenseIO2.24\"\u001b[39m,\n",
       "    \u001b[32m\"VM.DenseIO2.8\"\u001b[39m,\n",
       "    \u001b[32m\"VM.GPU.A10.1\"\u001b[39m,\n",
       "    \u001b[32m\"VM.GPU.A10.2\"\u001b[39m,\n",
       "    \u001b[32m\"VM.GPU.GU1.1\"\u001b[39m,\n",
       "    \u001b[32m\"VM.GPU.GU1.2\"\u001b[39m,\n",
       "    \u001b[32m\"VM.GPU2.1\"\u001b[39m,\n",
       "    \u001b[32m\"VM.GPU3.1\"\u001b[39m,\n",
       "    \u001b[32m\"VM.GPU3.2\"\u001b[39m,\n",
       "    \u001b[32m\"VM.GPU3.4\"\u001b[39m,\n",
       "    \u001b[32m\"VM.Optimized3.Flex\"\u001b[39m,\n",
       "    \u001b[32m\"VM.Standard.AMD.Generic\"\u001b[39m,\n",
       "    \u001b[32m\"VM.Standard.E2.1\"\u001b[39m,\n",
       "    \u001b[32m\"VM.Standard.E2.1.Micro\"\u001b[39m,\n",
       "    \u001b[32m\"VM.Standard.E2.2\"\u001b[39m,\n",
       "    \u001b[32m\"VM.Standard.E2.4\"\u001b[39m,\n",
       "    \u001b[32m\"VM.Standard.E2.8\"\u001b[39m,\n",
       "    \u001b[32m\"VM.Standard.E3.Flex\"\u001b[39m,\n",
       "    \u001b[32m\"VM.Standard.E4.Flex\"\u001b[39m,\n",
       "    \u001b[32m\"VM.Standard.E5.Flex\"\u001b[39m,\n",
       "    \u001b[32m\"VM.Standard.Intel.Generic\"\u001b[39m,\n",
       "    \u001b[32m\"VM.Standard.x86.Generic\"\u001b[39m,\n",
       "    \u001b[32m\"VM.Standard1.1\"\u001b[39m,\n",
       "    \u001b[32m\"VM.Standard1.16\"\u001b[39m,\n",
       "    \u001b[32m\"VM.Standard1.2\"\u001b[39m,\n",
       "    \u001b[32m\"VM.Standard1.4\"\u001b[39m,\n",
       "    \u001b[32m\"VM.Standard1.8\"\u001b[39m,\n",
       "    \u001b[32m\"VM.Standard2.1\"\u001b[39m,\n",
       "    \u001b[32m\"VM.Standard2.16\"\u001b[39m,\n",
       "    \u001b[32m\"VM.Standard2.2\"\u001b[39m,\n",
       "    \u001b[32m\"VM.Standard2.24\"\u001b[39m,\n",
       "    \u001b[32m\"VM.Standard2.4\"\u001b[39m,\n",
       "    \u001b[32m\"VM.Standard2.8\"\u001b[39m,\n",
       "    \u001b[32m\"VM.Standard2.Flex\"\u001b[39m,\n",
       "    \u001b[32m\"VM.Standard3.Flex\"\u001b[39m,\n",
       "    \u001b[32m\"BM.Standard.E2.64\"\u001b[39m,\n",
       "    \u001b[32m\"BM.Standard.E3.128\"\u001b[39m,\n",
       "    \u001b[32m\"BM.GPU4.8\"\u001b[39m,\n",
       "    \u001b[32m\"BM.Standard.E4.128\"\u001b[39m,\n",
       "    \u001b[32m\"BM.GPU.A100-v2.8\"\u001b[39m,\n",
       "    \u001b[32m\"BM.DenseIO.E4.128\"\u001b[39m,\n",
       "    \u001b[32m\"BM.DenseIO.E5.128\"\u001b[39m,\n",
       "    \u001b[32m\"BM.Standard.E5.192\"\u001b[39m,\n",
       "    \u001b[32m\"BM.Standard1.36\"\u001b[39m,\n",
       "    \u001b[32m\"BM.HighIO1.36\"\u001b[39m,\n",
       "    \u001b[32m\"BM.DenseIO1.36\"\u001b[39m,\n",
       "    \u001b[32m\"BM.GPU2.2\"\u001b[39m,\n",
       "    \u001b[32m\"BM.HPC2.36\"\u001b[39m,\n",
       "    \u001b[32m\"BM.Standard2.52\"\u001b[39m,\n",
       "    \u001b[32m\"BM.GPU3.8\"\u001b[39m,\n",
       "    \u001b[32m\"BM.DenseIO2.52\"\u001b[39m,\n",
       "    \u001b[32m\"BM.Optimized3.36\"\u001b[39m,\n",
       "    \u001b[32m\"BM.Standard3.64\"\u001b[39m,\n",
       "    \u001b[32m\"BM.GPU.A10.4\"\u001b[39m\n",
       "  ]\n",
       "]"
      ]
     },
     "execution_count": 38,
     "metadata": {},
     "output_type": "execute_result"
    }
   ],
   "source": [
    "const resultingRow = resultatVstack2.groupBy(\"imageId\").agg(\n",
    "    pl.col(\"shape\").alias(\"shape\")\n",
    ").select(\n",
    "    pl.col(\"imageId\").alias(\"imageId\"),\n",
    "    pl.col(\"shape\").alias(\"shape\")\n",
    ").row(1)\n",
    "resultingRow\n"
   ]
  },
  {
   "cell_type": "code",
   "execution_count": 39,
   "id": "b34b26fe-1e6d-4b55-bd16-f2215291680e",
   "metadata": {},
   "outputs": [
    {
     "data": {
      "text/plain": [
       "[\n",
       "  \u001b[32m\"ocid1.image.oc1.eu-paris-1.aaaaaaaalvbkaoybngg572c4ybw47avoyv2vk4raeus2bg4hyrbfuq4hmcuq\"\u001b[39m,\n",
       "  [\n",
       "    \u001b[32m\"VM.DenseIO.E4.Flex\"\u001b[39m,\n",
       "    \u001b[32m\"VM.DenseIO.E5.Flex\"\u001b[39m,\n",
       "    \u001b[32m\"VM.DenseIO1.16\"\u001b[39m,\n",
       "    \u001b[32m\"VM.DenseIO1.4\"\u001b[39m,\n",
       "    \u001b[32m\"VM.DenseIO1.8\"\u001b[39m,\n",
       "    \u001b[32m\"VM.DenseIO2.16\"\u001b[39m,\n",
       "    \u001b[32m\"VM.DenseIO2.24\"\u001b[39m,\n",
       "    \u001b[32m\"VM.DenseIO2.8\"\u001b[39m,\n",
       "    \u001b[32m\"VM.GPU.A10.1\"\u001b[39m,\n",
       "    \u001b[32m\"VM.GPU.A10.2\"\u001b[39m,\n",
       "    \u001b[32m\"VM.GPU.GU1.1\"\u001b[39m,\n",
       "    \u001b[32m\"VM.GPU.GU1.2\"\u001b[39m,\n",
       "    \u001b[32m\"VM.GPU2.1\"\u001b[39m,\n",
       "    \u001b[32m\"VM.GPU3.1\"\u001b[39m,\n",
       "    \u001b[32m\"VM.GPU3.2\"\u001b[39m,\n",
       "    \u001b[32m\"VM.GPU3.4\"\u001b[39m,\n",
       "    \u001b[32m\"VM.Optimized3.Flex\"\u001b[39m,\n",
       "    \u001b[32m\"VM.Standard.AMD.Generic\"\u001b[39m,\n",
       "    \u001b[32m\"VM.Standard.E2.1\"\u001b[39m,\n",
       "    \u001b[32m\"VM.Standard.E2.1.Micro\"\u001b[39m,\n",
       "    \u001b[32m\"VM.Standard.E2.2\"\u001b[39m,\n",
       "    \u001b[32m\"VM.Standard.E2.4\"\u001b[39m,\n",
       "    \u001b[32m\"VM.Standard.E2.8\"\u001b[39m,\n",
       "    \u001b[32m\"VM.Standard.E3.Flex\"\u001b[39m,\n",
       "    \u001b[32m\"VM.Standard.E4.Flex\"\u001b[39m,\n",
       "    \u001b[32m\"VM.Standard.E5.Flex\"\u001b[39m,\n",
       "    \u001b[32m\"VM.Standard.Intel.Generic\"\u001b[39m,\n",
       "    \u001b[32m\"VM.Standard.x86.Generic\"\u001b[39m,\n",
       "    \u001b[32m\"VM.Standard1.1\"\u001b[39m,\n",
       "    \u001b[32m\"VM.Standard1.16\"\u001b[39m,\n",
       "    \u001b[32m\"VM.Standard1.2\"\u001b[39m,\n",
       "    \u001b[32m\"VM.Standard1.4\"\u001b[39m,\n",
       "    \u001b[32m\"VM.Standard1.8\"\u001b[39m,\n",
       "    \u001b[32m\"VM.Standard2.1\"\u001b[39m,\n",
       "    \u001b[32m\"VM.Standard2.16\"\u001b[39m,\n",
       "    \u001b[32m\"VM.Standard2.2\"\u001b[39m,\n",
       "    \u001b[32m\"VM.Standard2.24\"\u001b[39m,\n",
       "    \u001b[32m\"VM.Standard2.4\"\u001b[39m,\n",
       "    \u001b[32m\"VM.Standard2.8\"\u001b[39m,\n",
       "    \u001b[32m\"VM.Standard2.Flex\"\u001b[39m,\n",
       "    \u001b[32m\"VM.Standard3.Flex\"\u001b[39m,\n",
       "    \u001b[32m\"BM.Standard.E2.64\"\u001b[39m,\n",
       "    \u001b[32m\"BM.Standard.E3.128\"\u001b[39m,\n",
       "    \u001b[32m\"BM.GPU4.8\"\u001b[39m,\n",
       "    \u001b[32m\"BM.Standard.E4.128\"\u001b[39m,\n",
       "    \u001b[32m\"BM.GPU.A100-v2.8\"\u001b[39m,\n",
       "    \u001b[32m\"BM.DenseIO.E4.128\"\u001b[39m,\n",
       "    \u001b[32m\"BM.DenseIO.E5.128\"\u001b[39m,\n",
       "    \u001b[32m\"BM.Standard.E5.192\"\u001b[39m,\n",
       "    \u001b[32m\"BM.Standard1.36\"\u001b[39m,\n",
       "    \u001b[32m\"BM.HighIO1.36\"\u001b[39m,\n",
       "    \u001b[32m\"BM.DenseIO1.36\"\u001b[39m,\n",
       "    \u001b[32m\"BM.GPU2.2\"\u001b[39m,\n",
       "    \u001b[32m\"BM.HPC2.36\"\u001b[39m,\n",
       "    \u001b[32m\"BM.Standard2.52\"\u001b[39m,\n",
       "    \u001b[32m\"BM.GPU3.8\"\u001b[39m,\n",
       "    \u001b[32m\"BM.DenseIO2.52\"\u001b[39m,\n",
       "    \u001b[32m\"BM.Optimized3.36\"\u001b[39m,\n",
       "    \u001b[32m\"BM.Standard3.64\"\u001b[39m,\n",
       "    \u001b[32m\"BM.GPU.A10.4\"\u001b[39m\n",
       "  ]\n",
       "]"
      ]
     },
     "execution_count": 39,
     "metadata": {},
     "output_type": "execute_result"
    }
   ],
   "source": [
    "const resultingRow0 = resultatVstack2.groupBy(\"imageId\").agg(\n",
    "    pl.col(\"shape\").alias(\"shape\")\n",
    ").select(\n",
    "    pl.col(\"imageId\").alias(\"imageId\"),\n",
    "    pl.col(\"shape\").alias(\"shape\")\n",
    ").row(0)\n",
    "resultingRow0\n"
   ]
  },
  {
   "cell_type": "code",
   "execution_count": 41,
   "id": "013a2a81-ec83-44a7-858d-cec433947b32",
   "metadata": {},
   "outputs": [
    {
     "data": {
      "application/vnd.dataresource+json": {
       "data": [
        {
         "resultingRow0": [
          [
           "ocid1.image.oc1.eu-paris-1.aaaaaaaalvbkaoybngg572c4ybw47avoyv2vk4raeus2bg4hyrbfuq4hmcuq"
          ],
          [
           "VM.DenseIO.E4.Flex",
           "VM.DenseIO.E5.Flex",
           "VM.DenseIO1.16",
           "VM.DenseIO1.4",
           "VM.DenseIO1.8",
           "VM.DenseIO2.16",
           "VM.DenseIO2.24",
           "VM.DenseIO2.8",
           "VM.GPU.A10.1",
           "VM.GPU.A10.2",
           "VM.GPU.GU1.1",
           "VM.GPU.GU1.2",
           "VM.GPU2.1",
           "VM.GPU3.1",
           "VM.GPU3.2",
           "VM.GPU3.4",
           "VM.Optimized3.Flex",
           "VM.Standard.AMD.Generic",
           "VM.Standard.E2.1",
           "VM.Standard.E2.1.Micro",
           "VM.Standard.E2.2",
           "VM.Standard.E2.4",
           "VM.Standard.E2.8",
           "VM.Standard.E3.Flex",
           "VM.Standard.E4.Flex",
           "VM.Standard.E5.Flex",
           "VM.Standard.Intel.Generic",
           "VM.Standard.x86.Generic",
           "VM.Standard1.1",
           "VM.Standard1.16",
           "VM.Standard1.2",
           "VM.Standard1.4",
           "VM.Standard1.8",
           "VM.Standard2.1",
           "VM.Standard2.16",
           "VM.Standard2.2",
           "VM.Standard2.24",
           "VM.Standard2.4",
           "VM.Standard2.8",
           "VM.Standard2.Flex",
           "VM.Standard3.Flex",
           "BM.Standard.E2.64",
           "BM.Standard.E3.128",
           "BM.GPU4.8",
           "BM.Standard.E4.128",
           "BM.GPU.A100-v2.8",
           "BM.DenseIO.E4.128",
           "BM.DenseIO.E5.128",
           "BM.Standard.E5.192",
           "BM.Standard1.36",
           "BM.HighIO1.36",
           "BM.DenseIO1.36",
           "BM.GPU2.2",
           "BM.HPC2.36",
           "BM.Standard2.52",
           "BM.GPU3.8",
           "BM.DenseIO2.52",
           "BM.Optimized3.36",
           "BM.Standard3.64",
           "BM.GPU.A10.4"
          ]
         ]
        }
       ],
       "schema": {
        "fields": [
         {
          "name": "resultingRow0",
          "type": "array"
         }
        ]
       }
      },
      "text/html": [
       "<table><thead><tr><th>resultingRow0</th></tr></thead><tbody><tr><td>ocid1.image.oc1.eu-paris-1.aaaaaaaalvbkaoybngg572c4ybw47avoyv2vk4raeus2bg4hyrbfuq4hmcuq,VM.DenseIO.E4.Flex,VM.DenseIO.E5.Flex,VM.DenseIO1.16,VM.DenseIO1.4,VM.DenseIO1.8,VM.DenseIO2.16,VM.DenseIO2.24,VM.DenseIO2.8,VM.GPU.A10.1,VM.GPU.A10.2,VM.GPU.GU1.1,VM.GPU.GU1.2,VM.GPU2.1,VM.GPU3.1,VM.GPU3.2,VM.GPU3.4,VM.Optimized3.Flex,VM.Standard.AMD.Generic,VM.Standard.E2.1,VM.Standard.E2.1.Micro,VM.Standard.E2.2,VM.Standard.E2.4,VM.Standard.E2.8,VM.Standard.E3.Flex,VM.Standard.E4.Flex,VM.Standard.E5.Flex,VM.Standard.Intel.Generic,VM.Standard.x86.Generic,VM.Standard1.1,VM.Standard1.16,VM.Standard1.2,VM.Standard1.4,VM.Standard1.8,VM.Standard2.1,VM.Standard2.16,VM.Standard2.2,VM.Standard2.24,VM.Standard2.4,VM.Standard2.8,VM.Standard2.Flex,VM.Standard3.Flex,BM.Standard.E2.64,BM.Standard.E3.128,BM.GPU4.8,BM.Standard.E4.128,BM.GPU.A100-v2.8,BM.DenseIO.E4.128,BM.DenseIO.E5.128,BM.Standard.E5.192,BM.Standard1.36,BM.HighIO1.36,BM.DenseIO1.36,BM.GPU2.2,BM.HPC2.36,BM.Standard2.52,BM.GPU3.8,BM.DenseIO2.52,BM.Optimized3.36,BM.Standard3.64,BM.GPU.A10.4</td></tr></tbody></table>"
      ]
     },
     "execution_count": 41,
     "metadata": {},
     "output_type": "execute_result"
    }
   ],
   "source": [
    "pl.readJSON(JSON.stringify({\"resultingRow0\": resultingRow0}))"
   ]
  },
  {
   "cell_type": "code",
   "execution_count": null,
   "id": "170d902e-1e9d-4cf2-97cf-6565fd6dcb57",
   "metadata": {},
   "outputs": [],
   "source": []
  }
 ],
 "metadata": {
  "kernelspec": {
   "display_name": "Deno",
   "language": "typescript",
   "name": "deno"
  },
  "language_info": {
   "file_extension": ".ts",
   "mimetype": "text/x.typescript",
   "name": "typescript",
   "nb_converter": "script",
   "pygments_lexer": "typescript",
   "version": "5.3.3"
  }
 },
 "nbformat": 4,
 "nbformat_minor": 5
}
