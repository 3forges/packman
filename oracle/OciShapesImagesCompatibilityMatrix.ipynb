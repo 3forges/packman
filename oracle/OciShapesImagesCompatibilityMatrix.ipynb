{
 "cells": [
  {
   "cell_type": "markdown",
   "id": "2c107e89-d3c3-489c-8402-c306f8224829",
   "metadata": {},
   "source": [
    "# Oracle OCI Shapes/Images Compatibility\n",
    "\n",
    "_This Jupyer notebook purpose is to list all OCI compute instances Shapes and their compatible images_"
   ]
  },
  {
   "cell_type": "markdown",
   "id": "68e817e4-2b26-4af6-bd6d-8330ff425eaf",
   "metadata": {},
   "source": [
    "_I use :_\n",
    "* _https://docs.oracle.com/en-us/iaas/Content/API/SDKDocs/typescriptsdk.htm_\n",
    "* _https://www.npmjs.com/package/oci-sdk_\n",
    "* _https://docs.public.oneportal.content.oci.oraclecloud.com/en-us/iaas/api/#/en/iaas/20160918/ImageShapeCompatibilityEntry/ListImageShapeCompatibilityEntries_\n",
    "* _https://docs.oracle.com/en-us/iaas/api/#/en/iaas/20160918/ImageShapeCompatibilityEntry/ListImageShapeCompatibilityEntries_\n",
    "* _https://docs.oracle.com/en/cloud/paas/integration-cloud/rest-api/Authentication.html_\n",
    "* _https://docs.oracle.com/en/cloud/paas/integration-cloud/rest-api/OAuth_useincalls.html_\n",
    "* _https://docs.oracle.com/en-us/iaas/Content/Compute/References/images.htm_\n",
    "* _Browse Oracle images: https://docs.oracle.com/en-us/iaas/images/_\n",
    "\n",
    "\n",
    "> The SDK services need two types of configuration: credentials and client-side HTTP settings.\n",
    "> First, you need to set up your credentials and config file. For instructions, see [SDK and CLI Configuration File](https://docs.oracle.com/en-us/iaas/Content/API/Concepts/sdkconfig.htm#SDK_and_CLI_Configuration_File).\n",
    "> The default configuration location is \"~/.oci/config\" and \"DEFAULT\" profile is used. You can use ConfigFileAuthenticationDetailsProvider with or without specifying the configuration location and profile name:"
   ]
  },
  {
   "cell_type": "markdown",
   "id": "d8aa84a3-d858-45bf-bd7b-e352222ae981",
   "metadata": {},
   "source": [
    "## _Content of the `~/.oci/config` file:_\n",
    "\n",
    "```\n",
    "[DEFAULT]\n",
    "user=ocid1.user.oc1..xxxxxxxxxxxxxxxxxxxxxxxxxxxxxxxxxxxxxxxxxxxxxxxxx\n",
    "fingerprint=7c:5c:65:4b:fc:c2:77:be:4e:0c:5c:9c:f0:34:89:9c\n",
    "key_file=~/.oci/clef_oracle_cloud.pem\n",
    "tenancy=ocid1.tenancy.oc1..xxxxxxxxxxxxxxxxxxxxxxxxxxxxxxxxxxxxxxxxxxx\n",
    "region=eu-paris-1\n",
    "```"
   ]
  },
  {
   "cell_type": "markdown",
   "id": "19f1d553-dd43-49e7-b1c9-2aedf2d16818",
   "metadata": {},
   "source": [
    "## _Quickly retrieve `~/.oci/config` file and keys_\n",
    "\n",
    "```\n",
    "docker-compose exec -T jupyter_deno bash -c \"source ~/.bashrc && mkdir -p ~/.oci\"\n",
    "docker cp ~/.oci/clef_oracle_cloud.pem poc-data-visualization_jupyter_deno_1:/root/.oci/\n",
    "docker cp ~/.oci/clef_oracle_cloud.public.pem poc-data-visualization_jupyter_deno_1:/root/.oci/\n",
    "docker cp ~/.oci/config poc-data-visualization_jupyter_deno_1:/root/.oci/\n",
    "```"
   ]
  },
  {
   "cell_type": "code",
   "execution_count": 34,
   "id": "30da9e7c-ff21-4630-8a00-95206577bc03",
   "metadata": {},
   "outputs": [
    {
     "ename": "SyntaxError",
     "evalue": "Identifier 'display' has already been declared",
     "output_type": "error",
     "traceback": [
      "Stack trace:",
      "SyntaxError: Identifier 'display' has already been declared"
     ]
    }
   ],
   "source": [
    "import pl from \"npm:nodejs-polars\";\n",
    "import { display } from \"https://deno.land/x/display@v0.1.1/mod.ts\";\n",
    "// import * as identity from \"oci-sdk/node_modules/oci-identity\"; // Because the oci-sdk package is globally installed, you must update the import statements for oci-sdk's sub-packages when running the oci-typescript-sdk examples on GitHub. \n",
    "import * as oci from 'npm:oci-sdk'\n",
    "import * as core from \"npm:oci-core\";\n",
    "import { json2csv } from 'npm:json-2-csv';"
   ]
  },
  {
   "cell_type": "markdown",
   "id": "071386f9-9a47-40a3-a8ce-824f89af798f",
   "metadata": {},
   "source": [
    "### Let's start the code"
   ]
  },
  {
   "cell_type": "code",
   "execution_count": 5,
   "id": "4ddb35f1-3c98-486e-a320-91292ff08e2d",
   "metadata": {},
   "outputs": [],
   "source": [
    "// TypeScript\n",
    "// import common = require(\"oci-common\");\n",
    "const common = await import(\"npm:oci-common\");\n",
    "// Using default configuration\n",
    "// const provider: common.ConfigFileAuthenticationDetailsProvider = new common.ConfigFileAuthenticationDetailsProvider();\n",
    "// Using personal configuration\n",
    "const configurationFilePath = \"~/.oci/config\";\n",
    "const configProfile = \"DEFAULT\";\n",
    "const provider: common.ConfigFileAuthenticationDetailsProvider = new common.ConfigFileAuthenticationDetailsProvider(\n",
    "  configurationFilePath,\n",
    "  configProfile\n",
    ");"
   ]
  },
  {
   "cell_type": "markdown",
   "id": "9eda60a9-4980-4035-84f2-a7c518af01b8",
   "metadata": {},
   "source": [
    "_Now let's try the example code I found closes to what I want_\n",
    "\n",
    "> _source: https://docs.oracle.com/en-us/iaas/tools/typescript-sdk-examples/2.82.0/core/ListImageShapeCompatibilityEntries.ts.html_\n",
    "> _source: https://docs.oracle.com/en-us/iaas/tools/typescript/2.82.0/modules/_core_lib_request_list_image_shape_compatibility_entries_request_.html_\n",
    "> _source: https://docs.oracle.com/en-us/iaas/api/#/en/iaas/20160918/ImageShapeCompatibilityEntry/ListImageShapeCompatibilityEntries_"
   ]
  },
  {
   "cell_type": "code",
   "execution_count": 6,
   "id": "9108cd81-a043-4e93-bb4c-cb67eaf480e3",
   "metadata": {},
   "outputs": [],
   "source": [
    "// This is an automatically generated code sample.\n",
    "// To make this code sample work in your Oracle Cloud tenancy,\n",
    "// please replace the values for any parameters whose current values do not fit\n",
    "// your use case (such as resource IDs, strings containing ‘EXAMPLE’ or ‘unique_id’, and\n",
    "// boolean, number, and enum parameters with values not fitting your use case).\n",
    "\n",
    "// import * as core from \"npm:oci-core\"; // replaced by import * as oci from 'npm:oci-sdk'\n",
    "\n",
    "\n",
    "// Create a default authentication provider that uses the DEFAULT\n",
    "// profile in the configuration file.\n",
    "// Refer to <see href=\"https://docs.cloud.oracle.com/en-us/iaas/Content/API/Concepts/sdkconfig.htm#SDK_and_CLI_Configuration_File>the public documentation</see> on how to prepare a configuration file.\n",
    "\n",
    "\n",
    "const getCompatibilityList = async (OCIPlatformImageID: string): Promise<any> => {\n",
    "  try {\n",
    "    console.log(`start`)\n",
    "    // Create a service client\n",
    "    const client = new core.ComputeClient({ authenticationDetailsProvider: provider });\n",
    "    console.log(`step 1 OK`)\n",
    "    // Create a request and dependent object(s).\n",
    "    const listImageShapeCompatibilityEntriesRequest: core.requests.ListImageShapeCompatibilityEntriesRequest = {\n",
    "      imageId: `${OCIPlatformImageID}`,\n",
    "      limit: 940,\n",
    "      // page: \"EXAMPLE-page-Value\", // not required\n",
    "      // opcRequestId: \"BE75GWIJDJ93EQGMRQKK<unique_ID>\" // not required, see https://docs.oracle.com/en-us/iaas/api/#/en/iaas/20160918/ImageShapeCompatibilityEntry/ListImageShapeCompatibilityEntries\n",
    "    };\n",
    "\n",
    "    // Send request to the Client.\n",
    "    const listImageShapeCompatibilityEntriesResponse = await client.listImageShapeCompatibilityEntries(\n",
    "      listImageShapeCompatibilityEntriesRequest\n",
    "    );\n",
    "    // console.log(`listImageShapeCompatibilityEntriesResponse:`, listImageShapeCompatibilityEntriesResponse)\n",
    "    return listImageShapeCompatibilityEntriesResponse;\n",
    "  } catch (error) {\n",
    "    console.log(\"listImageShapeCompatibilityEntries Failed with error  \" + error);\n",
    "  }\n",
    "};\n"
   ]
  },
  {
   "cell_type": "markdown",
   "id": "8164f0cd-9e0b-4e36-9e2c-5988670adc05",
   "metadata": {},
   "source": [
    "# Image IDs"
   ]
  },
  {
   "cell_type": "code",
   "execution_count": 7,
   "id": "e90ce192-e4ad-41bb-921f-97a22954a5ae",
   "metadata": {},
   "outputs": [],
   "source": [
    "const allImageIDs = [\n",
    "  \"ocid1.image.oc1.eu-paris-1.aaaaaaaalvbkaoybngg572c4ybw47avoyv2vk4raeus2bg4hyrbfuq4hmcuq\",\n",
    "  \"ocid1.image.oc1.eu-paris-1.aaaaaaaaf7irdvozuzmwyvbfacdivomj52x65vr6tlg62i6er323sevazdqq\",\n",
    "]"
   ]
  },
  {
   "cell_type": "markdown",
   "id": "7eb319bf-8ed4-422b-843b-f800c0e2269a",
   "metadata": {},
   "source": [
    "# Example 1 Image"
   ]
  },
  {
   "cell_type": "code",
   "execution_count": 8,
   "id": "b9ebed63-3ab3-4df5-8b23-7a5148ed5e59",
   "metadata": {},
   "outputs": [
    {
     "name": "stdout",
     "output_type": "stream",
     "text": [
      "start\n",
      "The OciEnabledServiceSet is empty, all OCI services are enabled\n",
      "step 1 OK\n"
     ]
    }
   ],
   "source": [
    "const compatibilityListExample1 = await getCompatibilityList(allImageIDs[0])\n",
    "\n",
    "\n",
    "const compatibilityListExample1_ImgAndShapeOnly_json = {\n",
    "    items: []\n",
    "}\n",
    "compatibilityListExample1.items.forEach(item => {\n",
    "   let desiredItem = {\n",
    "       imageId: item.imageId,\n",
    "       shape: item.shape\n",
    "   }\n",
    "   compatibilityListExample1_ImgAndShapeOnly_json.items.push(desiredItem)\n",
    "})\n",
    "\n",
    "\n",
    "// console.log(compatibilityListExample1_ImgAndShapeOnly_json)"
   ]
  },
  {
   "cell_type": "code",
   "execution_count": 9,
   "id": "7bc14292-e0b3-4c8d-8ca9-9b4cb817ec28",
   "metadata": {},
   "outputs": [],
   "source": [
    "const compatibilityListExample1_ImgAndShapeOnly_csv = await json2csv(compatibilityListExample1_ImgAndShapeOnly_json.items, {});"
   ]
  },
  {
   "cell_type": "code",
   "execution_count": 10,
   "id": "0bff2317-b8eb-4c13-bcf5-9bfc04ad7fb5",
   "metadata": {},
   "outputs": [],
   "source": [
    "const df_compatibilityListExample1_ImgAndShapeOnly = pl.readCSV(compatibilityListExample1_ImgAndShapeOnly_csv, { sep: \",\" });"
   ]
  },
  {
   "cell_type": "code",
   "execution_count": 11,
   "id": "4d3b1c55-e490-4698-b61a-7dde9c673e20",
   "metadata": {},
   "outputs": [
    {
     "data": {
      "application/vnd.dataresource+json": {
       "data": [
        {
         "imageId": "ocid1.image.oc1.eu-paris-1.aaaaaaaalvbkaoybngg572c4ybw47avoyv2vk4raeus2bg4hyrbfuq4hmcuq",
         "shape": "VM.DenseIO.E4.Flex"
        },
        {
         "imageId": "ocid1.image.oc1.eu-paris-1.aaaaaaaalvbkaoybngg572c4ybw47avoyv2vk4raeus2bg4hyrbfuq4hmcuq",
         "shape": "VM.DenseIO.E5.Flex"
        },
        {
         "imageId": "ocid1.image.oc1.eu-paris-1.aaaaaaaalvbkaoybngg572c4ybw47avoyv2vk4raeus2bg4hyrbfuq4hmcuq",
         "shape": "VM.DenseIO1.16"
        },
        {
         "imageId": "ocid1.image.oc1.eu-paris-1.aaaaaaaalvbkaoybngg572c4ybw47avoyv2vk4raeus2bg4hyrbfuq4hmcuq",
         "shape": "VM.DenseIO1.4"
        },
        {
         "imageId": "ocid1.image.oc1.eu-paris-1.aaaaaaaalvbkaoybngg572c4ybw47avoyv2vk4raeus2bg4hyrbfuq4hmcuq",
         "shape": "VM.DenseIO1.8"
        },
        {
         "imageId": "ocid1.image.oc1.eu-paris-1.aaaaaaaalvbkaoybngg572c4ybw47avoyv2vk4raeus2bg4hyrbfuq4hmcuq",
         "shape": "VM.DenseIO2.16"
        },
        {
         "imageId": "ocid1.image.oc1.eu-paris-1.aaaaaaaalvbkaoybngg572c4ybw47avoyv2vk4raeus2bg4hyrbfuq4hmcuq",
         "shape": "VM.DenseIO2.24"
        },
        {
         "imageId": "ocid1.image.oc1.eu-paris-1.aaaaaaaalvbkaoybngg572c4ybw47avoyv2vk4raeus2bg4hyrbfuq4hmcuq",
         "shape": "VM.DenseIO2.8"
        },
        {
         "imageId": "ocid1.image.oc1.eu-paris-1.aaaaaaaalvbkaoybngg572c4ybw47avoyv2vk4raeus2bg4hyrbfuq4hmcuq",
         "shape": "VM.GPU.A10.1"
        },
        {
         "imageId": "ocid1.image.oc1.eu-paris-1.aaaaaaaalvbkaoybngg572c4ybw47avoyv2vk4raeus2bg4hyrbfuq4hmcuq",
         "shape": "VM.GPU.A10.2"
        },
        {
         "imageId": "ocid1.image.oc1.eu-paris-1.aaaaaaaalvbkaoybngg572c4ybw47avoyv2vk4raeus2bg4hyrbfuq4hmcuq",
         "shape": "VM.GPU.GU1.1"
        },
        {
         "imageId": "ocid1.image.oc1.eu-paris-1.aaaaaaaalvbkaoybngg572c4ybw47avoyv2vk4raeus2bg4hyrbfuq4hmcuq",
         "shape": "VM.GPU.GU1.2"
        },
        {
         "imageId": "ocid1.image.oc1.eu-paris-1.aaaaaaaalvbkaoybngg572c4ybw47avoyv2vk4raeus2bg4hyrbfuq4hmcuq",
         "shape": "VM.GPU2.1"
        },
        {
         "imageId": "ocid1.image.oc1.eu-paris-1.aaaaaaaalvbkaoybngg572c4ybw47avoyv2vk4raeus2bg4hyrbfuq4hmcuq",
         "shape": "VM.GPU3.1"
        },
        {
         "imageId": "ocid1.image.oc1.eu-paris-1.aaaaaaaalvbkaoybngg572c4ybw47avoyv2vk4raeus2bg4hyrbfuq4hmcuq",
         "shape": "VM.GPU3.2"
        },
        {
         "imageId": "ocid1.image.oc1.eu-paris-1.aaaaaaaalvbkaoybngg572c4ybw47avoyv2vk4raeus2bg4hyrbfuq4hmcuq",
         "shape": "VM.GPU3.4"
        },
        {
         "imageId": "ocid1.image.oc1.eu-paris-1.aaaaaaaalvbkaoybngg572c4ybw47avoyv2vk4raeus2bg4hyrbfuq4hmcuq",
         "shape": "VM.Optimized3.Flex"
        },
        {
         "imageId": "ocid1.image.oc1.eu-paris-1.aaaaaaaalvbkaoybngg572c4ybw47avoyv2vk4raeus2bg4hyrbfuq4hmcuq",
         "shape": "VM.Standard.AMD.Generic"
        },
        {
         "imageId": "ocid1.image.oc1.eu-paris-1.aaaaaaaalvbkaoybngg572c4ybw47avoyv2vk4raeus2bg4hyrbfuq4hmcuq",
         "shape": "VM.Standard.E2.1"
        },
        {
         "imageId": "ocid1.image.oc1.eu-paris-1.aaaaaaaalvbkaoybngg572c4ybw47avoyv2vk4raeus2bg4hyrbfuq4hmcuq",
         "shape": "VM.Standard.E2.1.Micro"
        },
        {
         "imageId": "ocid1.image.oc1.eu-paris-1.aaaaaaaalvbkaoybngg572c4ybw47avoyv2vk4raeus2bg4hyrbfuq4hmcuq",
         "shape": "VM.Standard.E2.2"
        },
        {
         "imageId": "ocid1.image.oc1.eu-paris-1.aaaaaaaalvbkaoybngg572c4ybw47avoyv2vk4raeus2bg4hyrbfuq4hmcuq",
         "shape": "VM.Standard.E2.4"
        },
        {
         "imageId": "ocid1.image.oc1.eu-paris-1.aaaaaaaalvbkaoybngg572c4ybw47avoyv2vk4raeus2bg4hyrbfuq4hmcuq",
         "shape": "VM.Standard.E2.8"
        },
        {
         "imageId": "ocid1.image.oc1.eu-paris-1.aaaaaaaalvbkaoybngg572c4ybw47avoyv2vk4raeus2bg4hyrbfuq4hmcuq",
         "shape": "VM.Standard.E3.Flex"
        },
        {
         "imageId": "ocid1.image.oc1.eu-paris-1.aaaaaaaalvbkaoybngg572c4ybw47avoyv2vk4raeus2bg4hyrbfuq4hmcuq",
         "shape": "VM.Standard.E4.Flex"
        },
        {
         "imageId": "ocid1.image.oc1.eu-paris-1.aaaaaaaalvbkaoybngg572c4ybw47avoyv2vk4raeus2bg4hyrbfuq4hmcuq",
         "shape": "VM.Standard.E5.Flex"
        },
        {
         "imageId": "ocid1.image.oc1.eu-paris-1.aaaaaaaalvbkaoybngg572c4ybw47avoyv2vk4raeus2bg4hyrbfuq4hmcuq",
         "shape": "VM.Standard.Intel.Generic"
        },
        {
         "imageId": "ocid1.image.oc1.eu-paris-1.aaaaaaaalvbkaoybngg572c4ybw47avoyv2vk4raeus2bg4hyrbfuq4hmcuq",
         "shape": "VM.Standard.x86.Generic"
        },
        {
         "imageId": "ocid1.image.oc1.eu-paris-1.aaaaaaaalvbkaoybngg572c4ybw47avoyv2vk4raeus2bg4hyrbfuq4hmcuq",
         "shape": "VM.Standard1.1"
        },
        {
         "imageId": "ocid1.image.oc1.eu-paris-1.aaaaaaaalvbkaoybngg572c4ybw47avoyv2vk4raeus2bg4hyrbfuq4hmcuq",
         "shape": "VM.Standard1.16"
        },
        {
         "imageId": "ocid1.image.oc1.eu-paris-1.aaaaaaaalvbkaoybngg572c4ybw47avoyv2vk4raeus2bg4hyrbfuq4hmcuq",
         "shape": "VM.Standard1.2"
        },
        {
         "imageId": "ocid1.image.oc1.eu-paris-1.aaaaaaaalvbkaoybngg572c4ybw47avoyv2vk4raeus2bg4hyrbfuq4hmcuq",
         "shape": "VM.Standard1.4"
        },
        {
         "imageId": "ocid1.image.oc1.eu-paris-1.aaaaaaaalvbkaoybngg572c4ybw47avoyv2vk4raeus2bg4hyrbfuq4hmcuq",
         "shape": "VM.Standard1.8"
        },
        {
         "imageId": "ocid1.image.oc1.eu-paris-1.aaaaaaaalvbkaoybngg572c4ybw47avoyv2vk4raeus2bg4hyrbfuq4hmcuq",
         "shape": "VM.Standard2.1"
        },
        {
         "imageId": "ocid1.image.oc1.eu-paris-1.aaaaaaaalvbkaoybngg572c4ybw47avoyv2vk4raeus2bg4hyrbfuq4hmcuq",
         "shape": "VM.Standard2.16"
        },
        {
         "imageId": "ocid1.image.oc1.eu-paris-1.aaaaaaaalvbkaoybngg572c4ybw47avoyv2vk4raeus2bg4hyrbfuq4hmcuq",
         "shape": "VM.Standard2.2"
        },
        {
         "imageId": "ocid1.image.oc1.eu-paris-1.aaaaaaaalvbkaoybngg572c4ybw47avoyv2vk4raeus2bg4hyrbfuq4hmcuq",
         "shape": "VM.Standard2.24"
        },
        {
         "imageId": "ocid1.image.oc1.eu-paris-1.aaaaaaaalvbkaoybngg572c4ybw47avoyv2vk4raeus2bg4hyrbfuq4hmcuq",
         "shape": "VM.Standard2.4"
        },
        {
         "imageId": "ocid1.image.oc1.eu-paris-1.aaaaaaaalvbkaoybngg572c4ybw47avoyv2vk4raeus2bg4hyrbfuq4hmcuq",
         "shape": "VM.Standard2.8"
        },
        {
         "imageId": "ocid1.image.oc1.eu-paris-1.aaaaaaaalvbkaoybngg572c4ybw47avoyv2vk4raeus2bg4hyrbfuq4hmcuq",
         "shape": "VM.Standard2.Flex"
        },
        {
         "imageId": "ocid1.image.oc1.eu-paris-1.aaaaaaaalvbkaoybngg572c4ybw47avoyv2vk4raeus2bg4hyrbfuq4hmcuq",
         "shape": "VM.Standard3.Flex"
        },
        {
         "imageId": "ocid1.image.oc1.eu-paris-1.aaaaaaaalvbkaoybngg572c4ybw47avoyv2vk4raeus2bg4hyrbfuq4hmcuq",
         "shape": "BM.Standard.E2.64"
        },
        {
         "imageId": "ocid1.image.oc1.eu-paris-1.aaaaaaaalvbkaoybngg572c4ybw47avoyv2vk4raeus2bg4hyrbfuq4hmcuq",
         "shape": "BM.Standard.E3.128"
        },
        {
         "imageId": "ocid1.image.oc1.eu-paris-1.aaaaaaaalvbkaoybngg572c4ybw47avoyv2vk4raeus2bg4hyrbfuq4hmcuq",
         "shape": "BM.GPU4.8"
        },
        {
         "imageId": "ocid1.image.oc1.eu-paris-1.aaaaaaaalvbkaoybngg572c4ybw47avoyv2vk4raeus2bg4hyrbfuq4hmcuq",
         "shape": "BM.Standard.E4.128"
        },
        {
         "imageId": "ocid1.image.oc1.eu-paris-1.aaaaaaaalvbkaoybngg572c4ybw47avoyv2vk4raeus2bg4hyrbfuq4hmcuq",
         "shape": "BM.GPU.A100-v2.8"
        },
        {
         "imageId": "ocid1.image.oc1.eu-paris-1.aaaaaaaalvbkaoybngg572c4ybw47avoyv2vk4raeus2bg4hyrbfuq4hmcuq",
         "shape": "BM.DenseIO.E4.128"
        },
        {
         "imageId": "ocid1.image.oc1.eu-paris-1.aaaaaaaalvbkaoybngg572c4ybw47avoyv2vk4raeus2bg4hyrbfuq4hmcuq",
         "shape": "BM.DenseIO.E5.128"
        },
        {
         "imageId": "ocid1.image.oc1.eu-paris-1.aaaaaaaalvbkaoybngg572c4ybw47avoyv2vk4raeus2bg4hyrbfuq4hmcuq",
         "shape": "BM.Standard.E5.192"
        },
        {
         "imageId": "ocid1.image.oc1.eu-paris-1.aaaaaaaalvbkaoybngg572c4ybw47avoyv2vk4raeus2bg4hyrbfuq4hmcuq",
         "shape": "BM.Standard1.36"
        }
       ],
       "schema": {
        "fields": [
         {
          "name": "imageId",
          "type": "string"
         },
         {
          "name": "shape",
          "type": "string"
         }
        ]
       }
      },
      "text/html": [
       "<table><thead><tr><th>imageId</th><th>shape</th></tr></thead><tbody><tr><td>ocid1.image.oc1.eu-paris-1.aaaaaaaalvbkaoybngg572c4ybw47avoyv2vk4raeus2bg4hyrbfuq4hmcuq</td><td>VM.DenseIO.E4.Flex</td></tr><tr><td>ocid1.image.oc1.eu-paris-1.aaaaaaaalvbkaoybngg572c4ybw47avoyv2vk4raeus2bg4hyrbfuq4hmcuq</td><td>VM.DenseIO.E5.Flex</td></tr><tr><td>ocid1.image.oc1.eu-paris-1.aaaaaaaalvbkaoybngg572c4ybw47avoyv2vk4raeus2bg4hyrbfuq4hmcuq</td><td>VM.DenseIO1.16</td></tr><tr><td>ocid1.image.oc1.eu-paris-1.aaaaaaaalvbkaoybngg572c4ybw47avoyv2vk4raeus2bg4hyrbfuq4hmcuq</td><td>VM.DenseIO1.4</td></tr><tr><td>ocid1.image.oc1.eu-paris-1.aaaaaaaalvbkaoybngg572c4ybw47avoyv2vk4raeus2bg4hyrbfuq4hmcuq</td><td>VM.DenseIO1.8</td></tr><tr><td>ocid1.image.oc1.eu-paris-1.aaaaaaaalvbkaoybngg572c4ybw47avoyv2vk4raeus2bg4hyrbfuq4hmcuq</td><td>VM.DenseIO2.16</td></tr><tr><td>ocid1.image.oc1.eu-paris-1.aaaaaaaalvbkaoybngg572c4ybw47avoyv2vk4raeus2bg4hyrbfuq4hmcuq</td><td>VM.DenseIO2.24</td></tr><tr><td>ocid1.image.oc1.eu-paris-1.aaaaaaaalvbkaoybngg572c4ybw47avoyv2vk4raeus2bg4hyrbfuq4hmcuq</td><td>VM.DenseIO2.8</td></tr><tr><td>ocid1.image.oc1.eu-paris-1.aaaaaaaalvbkaoybngg572c4ybw47avoyv2vk4raeus2bg4hyrbfuq4hmcuq</td><td>VM.GPU.A10.1</td></tr><tr><td>ocid1.image.oc1.eu-paris-1.aaaaaaaalvbkaoybngg572c4ybw47avoyv2vk4raeus2bg4hyrbfuq4hmcuq</td><td>VM.GPU.A10.2</td></tr><tr><td>ocid1.image.oc1.eu-paris-1.aaaaaaaalvbkaoybngg572c4ybw47avoyv2vk4raeus2bg4hyrbfuq4hmcuq</td><td>VM.GPU.GU1.1</td></tr><tr><td>ocid1.image.oc1.eu-paris-1.aaaaaaaalvbkaoybngg572c4ybw47avoyv2vk4raeus2bg4hyrbfuq4hmcuq</td><td>VM.GPU.GU1.2</td></tr><tr><td>ocid1.image.oc1.eu-paris-1.aaaaaaaalvbkaoybngg572c4ybw47avoyv2vk4raeus2bg4hyrbfuq4hmcuq</td><td>VM.GPU2.1</td></tr><tr><td>ocid1.image.oc1.eu-paris-1.aaaaaaaalvbkaoybngg572c4ybw47avoyv2vk4raeus2bg4hyrbfuq4hmcuq</td><td>VM.GPU3.1</td></tr><tr><td>ocid1.image.oc1.eu-paris-1.aaaaaaaalvbkaoybngg572c4ybw47avoyv2vk4raeus2bg4hyrbfuq4hmcuq</td><td>VM.GPU3.2</td></tr><tr><td>ocid1.image.oc1.eu-paris-1.aaaaaaaalvbkaoybngg572c4ybw47avoyv2vk4raeus2bg4hyrbfuq4hmcuq</td><td>VM.GPU3.4</td></tr><tr><td>ocid1.image.oc1.eu-paris-1.aaaaaaaalvbkaoybngg572c4ybw47avoyv2vk4raeus2bg4hyrbfuq4hmcuq</td><td>VM.Optimized3.Flex</td></tr><tr><td>ocid1.image.oc1.eu-paris-1.aaaaaaaalvbkaoybngg572c4ybw47avoyv2vk4raeus2bg4hyrbfuq4hmcuq</td><td>VM.Standard.AMD.Generic</td></tr><tr><td>ocid1.image.oc1.eu-paris-1.aaaaaaaalvbkaoybngg572c4ybw47avoyv2vk4raeus2bg4hyrbfuq4hmcuq</td><td>VM.Standard.E2.1</td></tr><tr><td>ocid1.image.oc1.eu-paris-1.aaaaaaaalvbkaoybngg572c4ybw47avoyv2vk4raeus2bg4hyrbfuq4hmcuq</td><td>VM.Standard.E2.1.Micro</td></tr><tr><td>ocid1.image.oc1.eu-paris-1.aaaaaaaalvbkaoybngg572c4ybw47avoyv2vk4raeus2bg4hyrbfuq4hmcuq</td><td>VM.Standard.E2.2</td></tr><tr><td>ocid1.image.oc1.eu-paris-1.aaaaaaaalvbkaoybngg572c4ybw47avoyv2vk4raeus2bg4hyrbfuq4hmcuq</td><td>VM.Standard.E2.4</td></tr><tr><td>ocid1.image.oc1.eu-paris-1.aaaaaaaalvbkaoybngg572c4ybw47avoyv2vk4raeus2bg4hyrbfuq4hmcuq</td><td>VM.Standard.E2.8</td></tr><tr><td>ocid1.image.oc1.eu-paris-1.aaaaaaaalvbkaoybngg572c4ybw47avoyv2vk4raeus2bg4hyrbfuq4hmcuq</td><td>VM.Standard.E3.Flex</td></tr><tr><td>ocid1.image.oc1.eu-paris-1.aaaaaaaalvbkaoybngg572c4ybw47avoyv2vk4raeus2bg4hyrbfuq4hmcuq</td><td>VM.Standard.E4.Flex</td></tr><tr><td>ocid1.image.oc1.eu-paris-1.aaaaaaaalvbkaoybngg572c4ybw47avoyv2vk4raeus2bg4hyrbfuq4hmcuq</td><td>VM.Standard.E5.Flex</td></tr><tr><td>ocid1.image.oc1.eu-paris-1.aaaaaaaalvbkaoybngg572c4ybw47avoyv2vk4raeus2bg4hyrbfuq4hmcuq</td><td>VM.Standard.Intel.Generic</td></tr><tr><td>ocid1.image.oc1.eu-paris-1.aaaaaaaalvbkaoybngg572c4ybw47avoyv2vk4raeus2bg4hyrbfuq4hmcuq</td><td>VM.Standard.x86.Generic</td></tr><tr><td>ocid1.image.oc1.eu-paris-1.aaaaaaaalvbkaoybngg572c4ybw47avoyv2vk4raeus2bg4hyrbfuq4hmcuq</td><td>VM.Standard1.1</td></tr><tr><td>ocid1.image.oc1.eu-paris-1.aaaaaaaalvbkaoybngg572c4ybw47avoyv2vk4raeus2bg4hyrbfuq4hmcuq</td><td>VM.Standard1.16</td></tr><tr><td>ocid1.image.oc1.eu-paris-1.aaaaaaaalvbkaoybngg572c4ybw47avoyv2vk4raeus2bg4hyrbfuq4hmcuq</td><td>VM.Standard1.2</td></tr><tr><td>ocid1.image.oc1.eu-paris-1.aaaaaaaalvbkaoybngg572c4ybw47avoyv2vk4raeus2bg4hyrbfuq4hmcuq</td><td>VM.Standard1.4</td></tr><tr><td>ocid1.image.oc1.eu-paris-1.aaaaaaaalvbkaoybngg572c4ybw47avoyv2vk4raeus2bg4hyrbfuq4hmcuq</td><td>VM.Standard1.8</td></tr><tr><td>ocid1.image.oc1.eu-paris-1.aaaaaaaalvbkaoybngg572c4ybw47avoyv2vk4raeus2bg4hyrbfuq4hmcuq</td><td>VM.Standard2.1</td></tr><tr><td>ocid1.image.oc1.eu-paris-1.aaaaaaaalvbkaoybngg572c4ybw47avoyv2vk4raeus2bg4hyrbfuq4hmcuq</td><td>VM.Standard2.16</td></tr><tr><td>ocid1.image.oc1.eu-paris-1.aaaaaaaalvbkaoybngg572c4ybw47avoyv2vk4raeus2bg4hyrbfuq4hmcuq</td><td>VM.Standard2.2</td></tr><tr><td>ocid1.image.oc1.eu-paris-1.aaaaaaaalvbkaoybngg572c4ybw47avoyv2vk4raeus2bg4hyrbfuq4hmcuq</td><td>VM.Standard2.24</td></tr><tr><td>ocid1.image.oc1.eu-paris-1.aaaaaaaalvbkaoybngg572c4ybw47avoyv2vk4raeus2bg4hyrbfuq4hmcuq</td><td>VM.Standard2.4</td></tr><tr><td>ocid1.image.oc1.eu-paris-1.aaaaaaaalvbkaoybngg572c4ybw47avoyv2vk4raeus2bg4hyrbfuq4hmcuq</td><td>VM.Standard2.8</td></tr><tr><td>ocid1.image.oc1.eu-paris-1.aaaaaaaalvbkaoybngg572c4ybw47avoyv2vk4raeus2bg4hyrbfuq4hmcuq</td><td>VM.Standard2.Flex</td></tr><tr><td>ocid1.image.oc1.eu-paris-1.aaaaaaaalvbkaoybngg572c4ybw47avoyv2vk4raeus2bg4hyrbfuq4hmcuq</td><td>VM.Standard3.Flex</td></tr><tr><td>ocid1.image.oc1.eu-paris-1.aaaaaaaalvbkaoybngg572c4ybw47avoyv2vk4raeus2bg4hyrbfuq4hmcuq</td><td>BM.Standard.E2.64</td></tr><tr><td>ocid1.image.oc1.eu-paris-1.aaaaaaaalvbkaoybngg572c4ybw47avoyv2vk4raeus2bg4hyrbfuq4hmcuq</td><td>BM.Standard.E3.128</td></tr><tr><td>ocid1.image.oc1.eu-paris-1.aaaaaaaalvbkaoybngg572c4ybw47avoyv2vk4raeus2bg4hyrbfuq4hmcuq</td><td>BM.GPU4.8</td></tr><tr><td>ocid1.image.oc1.eu-paris-1.aaaaaaaalvbkaoybngg572c4ybw47avoyv2vk4raeus2bg4hyrbfuq4hmcuq</td><td>BM.Standard.E4.128</td></tr><tr><td>ocid1.image.oc1.eu-paris-1.aaaaaaaalvbkaoybngg572c4ybw47avoyv2vk4raeus2bg4hyrbfuq4hmcuq</td><td>BM.GPU.A100-v2.8</td></tr><tr><td>ocid1.image.oc1.eu-paris-1.aaaaaaaalvbkaoybngg572c4ybw47avoyv2vk4raeus2bg4hyrbfuq4hmcuq</td><td>BM.DenseIO.E4.128</td></tr><tr><td>ocid1.image.oc1.eu-paris-1.aaaaaaaalvbkaoybngg572c4ybw47avoyv2vk4raeus2bg4hyrbfuq4hmcuq</td><td>BM.DenseIO.E5.128</td></tr><tr><td>ocid1.image.oc1.eu-paris-1.aaaaaaaalvbkaoybngg572c4ybw47avoyv2vk4raeus2bg4hyrbfuq4hmcuq</td><td>BM.Standard.E5.192</td></tr><tr><td>ocid1.image.oc1.eu-paris-1.aaaaaaaalvbkaoybngg572c4ybw47avoyv2vk4raeus2bg4hyrbfuq4hmcuq</td><td>BM.Standard1.36</td></tr></tbody></table>"
      ]
     },
     "execution_count": 11,
     "metadata": {},
     "output_type": "execute_result"
    }
   ],
   "source": [
    "df_compatibilityListExample1_ImgAndShapeOnly"
   ]
  },
  {
   "cell_type": "markdown",
   "id": "3a5d6f79-ed47-4c66-a092-abb6b1617471",
   "metadata": {},
   "source": [
    "# Example 2 Image"
   ]
  },
  {
   "cell_type": "code",
   "execution_count": 12,
   "id": "673ff489-713f-4292-ae32-0b62e13456c2",
   "metadata": {},
   "outputs": [
    {
     "name": "stdout",
     "output_type": "stream",
     "text": [
      "start\n",
      "The OciEnabledServiceSet is empty, all OCI services are enabled\n",
      "step 1 OK\n"
     ]
    }
   ],
   "source": [
    "const compatibilityListExample2 = await getCompatibilityList(allImageIDs[1])\n",
    "\n",
    "\n",
    "const compatibilityListExample2_ImgAndShapeOnly_json = {\n",
    "    items: []\n",
    "}\n",
    "compatibilityListExample2.items.forEach(item => {\n",
    "   let desiredItem = {\n",
    "       imageId: item.imageId,\n",
    "       shape: item.shape\n",
    "   }\n",
    "   compatibilityListExample2_ImgAndShapeOnly_json.items.push(desiredItem)\n",
    "})\n",
    "\n",
    "\n",
    "// console.log(compatibilityListExample1_ImgAndShapeOnly_json)"
   ]
  },
  {
   "cell_type": "code",
   "execution_count": 13,
   "id": "d41ddc9c-48ce-4dba-a802-20f7a6058018",
   "metadata": {},
   "outputs": [],
   "source": [
    "const compatibilityListExample2_ImgAndShapeOnly_csv = await json2csv(compatibilityListExample2_ImgAndShapeOnly_json.items, {});"
   ]
  },
  {
   "cell_type": "code",
   "execution_count": 14,
   "id": "e216a581-992d-4a9f-b96a-4a9618f789d6",
   "metadata": {},
   "outputs": [],
   "source": [
    "const df_compatibilityListExample2_ImgAndShapeOnly = pl.readCSV(compatibilityListExample2_ImgAndShapeOnly_csv, { sep: \",\" });"
   ]
  },
  {
   "cell_type": "code",
   "execution_count": 16,
   "id": "53e49944-40f7-42a8-8768-96414bc2809e",
   "metadata": {},
   "outputs": [
    {
     "data": {
      "application/vnd.dataresource+json": {
       "data": [
        {
         "imageId": "ocid1.image.oc1.eu-paris-1.aaaaaaaaf7irdvozuzmwyvbfacdivomj52x65vr6tlg62i6er323sevazdqq",
         "shape": "VM.DenseIO.E4.Flex"
        },
        {
         "imageId": "ocid1.image.oc1.eu-paris-1.aaaaaaaaf7irdvozuzmwyvbfacdivomj52x65vr6tlg62i6er323sevazdqq",
         "shape": "VM.DenseIO.E5.Flex"
        },
        {
         "imageId": "ocid1.image.oc1.eu-paris-1.aaaaaaaaf7irdvozuzmwyvbfacdivomj52x65vr6tlg62i6er323sevazdqq",
         "shape": "VM.DenseIO1.16"
        },
        {
         "imageId": "ocid1.image.oc1.eu-paris-1.aaaaaaaaf7irdvozuzmwyvbfacdivomj52x65vr6tlg62i6er323sevazdqq",
         "shape": "VM.DenseIO1.4"
        },
        {
         "imageId": "ocid1.image.oc1.eu-paris-1.aaaaaaaaf7irdvozuzmwyvbfacdivomj52x65vr6tlg62i6er323sevazdqq",
         "shape": "VM.DenseIO1.8"
        },
        {
         "imageId": "ocid1.image.oc1.eu-paris-1.aaaaaaaaf7irdvozuzmwyvbfacdivomj52x65vr6tlg62i6er323sevazdqq",
         "shape": "VM.DenseIO2.16"
        },
        {
         "imageId": "ocid1.image.oc1.eu-paris-1.aaaaaaaaf7irdvozuzmwyvbfacdivomj52x65vr6tlg62i6er323sevazdqq",
         "shape": "VM.DenseIO2.24"
        },
        {
         "imageId": "ocid1.image.oc1.eu-paris-1.aaaaaaaaf7irdvozuzmwyvbfacdivomj52x65vr6tlg62i6er323sevazdqq",
         "shape": "VM.DenseIO2.8"
        },
        {
         "imageId": "ocid1.image.oc1.eu-paris-1.aaaaaaaaf7irdvozuzmwyvbfacdivomj52x65vr6tlg62i6er323sevazdqq",
         "shape": "VM.GPU.A10.1"
        },
        {
         "imageId": "ocid1.image.oc1.eu-paris-1.aaaaaaaaf7irdvozuzmwyvbfacdivomj52x65vr6tlg62i6er323sevazdqq",
         "shape": "VM.GPU.A10.2"
        },
        {
         "imageId": "ocid1.image.oc1.eu-paris-1.aaaaaaaaf7irdvozuzmwyvbfacdivomj52x65vr6tlg62i6er323sevazdqq",
         "shape": "VM.GPU.GU1.1"
        },
        {
         "imageId": "ocid1.image.oc1.eu-paris-1.aaaaaaaaf7irdvozuzmwyvbfacdivomj52x65vr6tlg62i6er323sevazdqq",
         "shape": "VM.GPU.GU1.2"
        },
        {
         "imageId": "ocid1.image.oc1.eu-paris-1.aaaaaaaaf7irdvozuzmwyvbfacdivomj52x65vr6tlg62i6er323sevazdqq",
         "shape": "VM.GPU2.1"
        },
        {
         "imageId": "ocid1.image.oc1.eu-paris-1.aaaaaaaaf7irdvozuzmwyvbfacdivomj52x65vr6tlg62i6er323sevazdqq",
         "shape": "VM.GPU3.1"
        },
        {
         "imageId": "ocid1.image.oc1.eu-paris-1.aaaaaaaaf7irdvozuzmwyvbfacdivomj52x65vr6tlg62i6er323sevazdqq",
         "shape": "VM.GPU3.2"
        },
        {
         "imageId": "ocid1.image.oc1.eu-paris-1.aaaaaaaaf7irdvozuzmwyvbfacdivomj52x65vr6tlg62i6er323sevazdqq",
         "shape": "VM.GPU3.4"
        },
        {
         "imageId": "ocid1.image.oc1.eu-paris-1.aaaaaaaaf7irdvozuzmwyvbfacdivomj52x65vr6tlg62i6er323sevazdqq",
         "shape": "VM.Optimized3.Flex"
        },
        {
         "imageId": "ocid1.image.oc1.eu-paris-1.aaaaaaaaf7irdvozuzmwyvbfacdivomj52x65vr6tlg62i6er323sevazdqq",
         "shape": "VM.Standard.AMD.Generic"
        },
        {
         "imageId": "ocid1.image.oc1.eu-paris-1.aaaaaaaaf7irdvozuzmwyvbfacdivomj52x65vr6tlg62i6er323sevazdqq",
         "shape": "VM.Standard.B1.1"
        },
        {
         "imageId": "ocid1.image.oc1.eu-paris-1.aaaaaaaaf7irdvozuzmwyvbfacdivomj52x65vr6tlg62i6er323sevazdqq",
         "shape": "VM.Standard.B1.16"
        },
        {
         "imageId": "ocid1.image.oc1.eu-paris-1.aaaaaaaaf7irdvozuzmwyvbfacdivomj52x65vr6tlg62i6er323sevazdqq",
         "shape": "VM.Standard.B1.2"
        },
        {
         "imageId": "ocid1.image.oc1.eu-paris-1.aaaaaaaaf7irdvozuzmwyvbfacdivomj52x65vr6tlg62i6er323sevazdqq",
         "shape": "VM.Standard.B1.4"
        },
        {
         "imageId": "ocid1.image.oc1.eu-paris-1.aaaaaaaaf7irdvozuzmwyvbfacdivomj52x65vr6tlg62i6er323sevazdqq",
         "shape": "VM.Standard.B1.8"
        },
        {
         "imageId": "ocid1.image.oc1.eu-paris-1.aaaaaaaaf7irdvozuzmwyvbfacdivomj52x65vr6tlg62i6er323sevazdqq",
         "shape": "VM.Standard.E2.1"
        },
        {
         "imageId": "ocid1.image.oc1.eu-paris-1.aaaaaaaaf7irdvozuzmwyvbfacdivomj52x65vr6tlg62i6er323sevazdqq",
         "shape": "VM.Standard.E2.1.Micro"
        },
        {
         "imageId": "ocid1.image.oc1.eu-paris-1.aaaaaaaaf7irdvozuzmwyvbfacdivomj52x65vr6tlg62i6er323sevazdqq",
         "shape": "VM.Standard.E2.2"
        },
        {
         "imageId": "ocid1.image.oc1.eu-paris-1.aaaaaaaaf7irdvozuzmwyvbfacdivomj52x65vr6tlg62i6er323sevazdqq",
         "shape": "VM.Standard.E2.4"
        },
        {
         "imageId": "ocid1.image.oc1.eu-paris-1.aaaaaaaaf7irdvozuzmwyvbfacdivomj52x65vr6tlg62i6er323sevazdqq",
         "shape": "VM.Standard.E2.8"
        },
        {
         "imageId": "ocid1.image.oc1.eu-paris-1.aaaaaaaaf7irdvozuzmwyvbfacdivomj52x65vr6tlg62i6er323sevazdqq",
         "shape": "VM.Standard.E3.Flex"
        },
        {
         "imageId": "ocid1.image.oc1.eu-paris-1.aaaaaaaaf7irdvozuzmwyvbfacdivomj52x65vr6tlg62i6er323sevazdqq",
         "shape": "VM.Standard.E4.Flex"
        },
        {
         "imageId": "ocid1.image.oc1.eu-paris-1.aaaaaaaaf7irdvozuzmwyvbfacdivomj52x65vr6tlg62i6er323sevazdqq",
         "shape": "VM.Standard.E5.Flex"
        },
        {
         "imageId": "ocid1.image.oc1.eu-paris-1.aaaaaaaaf7irdvozuzmwyvbfacdivomj52x65vr6tlg62i6er323sevazdqq",
         "shape": "VM.Standard.Intel.Generic"
        },
        {
         "imageId": "ocid1.image.oc1.eu-paris-1.aaaaaaaaf7irdvozuzmwyvbfacdivomj52x65vr6tlg62i6er323sevazdqq",
         "shape": "VM.Standard.x86.Generic"
        },
        {
         "imageId": "ocid1.image.oc1.eu-paris-1.aaaaaaaaf7irdvozuzmwyvbfacdivomj52x65vr6tlg62i6er323sevazdqq",
         "shape": "VM.Standard1.1"
        },
        {
         "imageId": "ocid1.image.oc1.eu-paris-1.aaaaaaaaf7irdvozuzmwyvbfacdivomj52x65vr6tlg62i6er323sevazdqq",
         "shape": "VM.Standard1.16"
        },
        {
         "imageId": "ocid1.image.oc1.eu-paris-1.aaaaaaaaf7irdvozuzmwyvbfacdivomj52x65vr6tlg62i6er323sevazdqq",
         "shape": "VM.Standard1.2"
        },
        {
         "imageId": "ocid1.image.oc1.eu-paris-1.aaaaaaaaf7irdvozuzmwyvbfacdivomj52x65vr6tlg62i6er323sevazdqq",
         "shape": "VM.Standard1.4"
        },
        {
         "imageId": "ocid1.image.oc1.eu-paris-1.aaaaaaaaf7irdvozuzmwyvbfacdivomj52x65vr6tlg62i6er323sevazdqq",
         "shape": "VM.Standard1.8"
        },
        {
         "imageId": "ocid1.image.oc1.eu-paris-1.aaaaaaaaf7irdvozuzmwyvbfacdivomj52x65vr6tlg62i6er323sevazdqq",
         "shape": "VM.Standard2.1"
        },
        {
         "imageId": "ocid1.image.oc1.eu-paris-1.aaaaaaaaf7irdvozuzmwyvbfacdivomj52x65vr6tlg62i6er323sevazdqq",
         "shape": "VM.Standard2.16"
        },
        {
         "imageId": "ocid1.image.oc1.eu-paris-1.aaaaaaaaf7irdvozuzmwyvbfacdivomj52x65vr6tlg62i6er323sevazdqq",
         "shape": "VM.Standard2.2"
        },
        {
         "imageId": "ocid1.image.oc1.eu-paris-1.aaaaaaaaf7irdvozuzmwyvbfacdivomj52x65vr6tlg62i6er323sevazdqq",
         "shape": "VM.Standard2.24"
        },
        {
         "imageId": "ocid1.image.oc1.eu-paris-1.aaaaaaaaf7irdvozuzmwyvbfacdivomj52x65vr6tlg62i6er323sevazdqq",
         "shape": "VM.Standard2.4"
        },
        {
         "imageId": "ocid1.image.oc1.eu-paris-1.aaaaaaaaf7irdvozuzmwyvbfacdivomj52x65vr6tlg62i6er323sevazdqq",
         "shape": "VM.Standard2.8"
        },
        {
         "imageId": "ocid1.image.oc1.eu-paris-1.aaaaaaaaf7irdvozuzmwyvbfacdivomj52x65vr6tlg62i6er323sevazdqq",
         "shape": "VM.Standard2.Flex"
        },
        {
         "imageId": "ocid1.image.oc1.eu-paris-1.aaaaaaaaf7irdvozuzmwyvbfacdivomj52x65vr6tlg62i6er323sevazdqq",
         "shape": "VM.Standard3.Flex"
        },
        {
         "imageId": "ocid1.image.oc1.eu-paris-1.aaaaaaaaf7irdvozuzmwyvbfacdivomj52x65vr6tlg62i6er323sevazdqq",
         "shape": "BM.Standard.E2.64"
        },
        {
         "imageId": "ocid1.image.oc1.eu-paris-1.aaaaaaaaf7irdvozuzmwyvbfacdivomj52x65vr6tlg62i6er323sevazdqq",
         "shape": "BM.Standard.E3.128"
        },
        {
         "imageId": "ocid1.image.oc1.eu-paris-1.aaaaaaaaf7irdvozuzmwyvbfacdivomj52x65vr6tlg62i6er323sevazdqq",
         "shape": "BM.GPU4.8"
        },
        {
         "imageId": "ocid1.image.oc1.eu-paris-1.aaaaaaaaf7irdvozuzmwyvbfacdivomj52x65vr6tlg62i6er323sevazdqq",
         "shape": "BM.Standard.E4.128"
        }
       ],
       "schema": {
        "fields": [
         {
          "name": "imageId",
          "type": "string"
         },
         {
          "name": "shape",
          "type": "string"
         }
        ]
       }
      },
      "text/html": [
       "<table><thead><tr><th>imageId</th><th>shape</th></tr></thead><tbody><tr><td>ocid1.image.oc1.eu-paris-1.aaaaaaaaf7irdvozuzmwyvbfacdivomj52x65vr6tlg62i6er323sevazdqq</td><td>VM.DenseIO.E4.Flex</td></tr><tr><td>ocid1.image.oc1.eu-paris-1.aaaaaaaaf7irdvozuzmwyvbfacdivomj52x65vr6tlg62i6er323sevazdqq</td><td>VM.DenseIO.E5.Flex</td></tr><tr><td>ocid1.image.oc1.eu-paris-1.aaaaaaaaf7irdvozuzmwyvbfacdivomj52x65vr6tlg62i6er323sevazdqq</td><td>VM.DenseIO1.16</td></tr><tr><td>ocid1.image.oc1.eu-paris-1.aaaaaaaaf7irdvozuzmwyvbfacdivomj52x65vr6tlg62i6er323sevazdqq</td><td>VM.DenseIO1.4</td></tr><tr><td>ocid1.image.oc1.eu-paris-1.aaaaaaaaf7irdvozuzmwyvbfacdivomj52x65vr6tlg62i6er323sevazdqq</td><td>VM.DenseIO1.8</td></tr><tr><td>ocid1.image.oc1.eu-paris-1.aaaaaaaaf7irdvozuzmwyvbfacdivomj52x65vr6tlg62i6er323sevazdqq</td><td>VM.DenseIO2.16</td></tr><tr><td>ocid1.image.oc1.eu-paris-1.aaaaaaaaf7irdvozuzmwyvbfacdivomj52x65vr6tlg62i6er323sevazdqq</td><td>VM.DenseIO2.24</td></tr><tr><td>ocid1.image.oc1.eu-paris-1.aaaaaaaaf7irdvozuzmwyvbfacdivomj52x65vr6tlg62i6er323sevazdqq</td><td>VM.DenseIO2.8</td></tr><tr><td>ocid1.image.oc1.eu-paris-1.aaaaaaaaf7irdvozuzmwyvbfacdivomj52x65vr6tlg62i6er323sevazdqq</td><td>VM.GPU.A10.1</td></tr><tr><td>ocid1.image.oc1.eu-paris-1.aaaaaaaaf7irdvozuzmwyvbfacdivomj52x65vr6tlg62i6er323sevazdqq</td><td>VM.GPU.A10.2</td></tr><tr><td>ocid1.image.oc1.eu-paris-1.aaaaaaaaf7irdvozuzmwyvbfacdivomj52x65vr6tlg62i6er323sevazdqq</td><td>VM.GPU.GU1.1</td></tr><tr><td>ocid1.image.oc1.eu-paris-1.aaaaaaaaf7irdvozuzmwyvbfacdivomj52x65vr6tlg62i6er323sevazdqq</td><td>VM.GPU.GU1.2</td></tr><tr><td>ocid1.image.oc1.eu-paris-1.aaaaaaaaf7irdvozuzmwyvbfacdivomj52x65vr6tlg62i6er323sevazdqq</td><td>VM.GPU2.1</td></tr><tr><td>ocid1.image.oc1.eu-paris-1.aaaaaaaaf7irdvozuzmwyvbfacdivomj52x65vr6tlg62i6er323sevazdqq</td><td>VM.GPU3.1</td></tr><tr><td>ocid1.image.oc1.eu-paris-1.aaaaaaaaf7irdvozuzmwyvbfacdivomj52x65vr6tlg62i6er323sevazdqq</td><td>VM.GPU3.2</td></tr><tr><td>ocid1.image.oc1.eu-paris-1.aaaaaaaaf7irdvozuzmwyvbfacdivomj52x65vr6tlg62i6er323sevazdqq</td><td>VM.GPU3.4</td></tr><tr><td>ocid1.image.oc1.eu-paris-1.aaaaaaaaf7irdvozuzmwyvbfacdivomj52x65vr6tlg62i6er323sevazdqq</td><td>VM.Optimized3.Flex</td></tr><tr><td>ocid1.image.oc1.eu-paris-1.aaaaaaaaf7irdvozuzmwyvbfacdivomj52x65vr6tlg62i6er323sevazdqq</td><td>VM.Standard.AMD.Generic</td></tr><tr><td>ocid1.image.oc1.eu-paris-1.aaaaaaaaf7irdvozuzmwyvbfacdivomj52x65vr6tlg62i6er323sevazdqq</td><td>VM.Standard.B1.1</td></tr><tr><td>ocid1.image.oc1.eu-paris-1.aaaaaaaaf7irdvozuzmwyvbfacdivomj52x65vr6tlg62i6er323sevazdqq</td><td>VM.Standard.B1.16</td></tr><tr><td>ocid1.image.oc1.eu-paris-1.aaaaaaaaf7irdvozuzmwyvbfacdivomj52x65vr6tlg62i6er323sevazdqq</td><td>VM.Standard.B1.2</td></tr><tr><td>ocid1.image.oc1.eu-paris-1.aaaaaaaaf7irdvozuzmwyvbfacdivomj52x65vr6tlg62i6er323sevazdqq</td><td>VM.Standard.B1.4</td></tr><tr><td>ocid1.image.oc1.eu-paris-1.aaaaaaaaf7irdvozuzmwyvbfacdivomj52x65vr6tlg62i6er323sevazdqq</td><td>VM.Standard.B1.8</td></tr><tr><td>ocid1.image.oc1.eu-paris-1.aaaaaaaaf7irdvozuzmwyvbfacdivomj52x65vr6tlg62i6er323sevazdqq</td><td>VM.Standard.E2.1</td></tr><tr><td>ocid1.image.oc1.eu-paris-1.aaaaaaaaf7irdvozuzmwyvbfacdivomj52x65vr6tlg62i6er323sevazdqq</td><td>VM.Standard.E2.1.Micro</td></tr><tr><td>ocid1.image.oc1.eu-paris-1.aaaaaaaaf7irdvozuzmwyvbfacdivomj52x65vr6tlg62i6er323sevazdqq</td><td>VM.Standard.E2.2</td></tr><tr><td>ocid1.image.oc1.eu-paris-1.aaaaaaaaf7irdvozuzmwyvbfacdivomj52x65vr6tlg62i6er323sevazdqq</td><td>VM.Standard.E2.4</td></tr><tr><td>ocid1.image.oc1.eu-paris-1.aaaaaaaaf7irdvozuzmwyvbfacdivomj52x65vr6tlg62i6er323sevazdqq</td><td>VM.Standard.E2.8</td></tr><tr><td>ocid1.image.oc1.eu-paris-1.aaaaaaaaf7irdvozuzmwyvbfacdivomj52x65vr6tlg62i6er323sevazdqq</td><td>VM.Standard.E3.Flex</td></tr><tr><td>ocid1.image.oc1.eu-paris-1.aaaaaaaaf7irdvozuzmwyvbfacdivomj52x65vr6tlg62i6er323sevazdqq</td><td>VM.Standard.E4.Flex</td></tr><tr><td>ocid1.image.oc1.eu-paris-1.aaaaaaaaf7irdvozuzmwyvbfacdivomj52x65vr6tlg62i6er323sevazdqq</td><td>VM.Standard.E5.Flex</td></tr><tr><td>ocid1.image.oc1.eu-paris-1.aaaaaaaaf7irdvozuzmwyvbfacdivomj52x65vr6tlg62i6er323sevazdqq</td><td>VM.Standard.Intel.Generic</td></tr><tr><td>ocid1.image.oc1.eu-paris-1.aaaaaaaaf7irdvozuzmwyvbfacdivomj52x65vr6tlg62i6er323sevazdqq</td><td>VM.Standard.x86.Generic</td></tr><tr><td>ocid1.image.oc1.eu-paris-1.aaaaaaaaf7irdvozuzmwyvbfacdivomj52x65vr6tlg62i6er323sevazdqq</td><td>VM.Standard1.1</td></tr><tr><td>ocid1.image.oc1.eu-paris-1.aaaaaaaaf7irdvozuzmwyvbfacdivomj52x65vr6tlg62i6er323sevazdqq</td><td>VM.Standard1.16</td></tr><tr><td>ocid1.image.oc1.eu-paris-1.aaaaaaaaf7irdvozuzmwyvbfacdivomj52x65vr6tlg62i6er323sevazdqq</td><td>VM.Standard1.2</td></tr><tr><td>ocid1.image.oc1.eu-paris-1.aaaaaaaaf7irdvozuzmwyvbfacdivomj52x65vr6tlg62i6er323sevazdqq</td><td>VM.Standard1.4</td></tr><tr><td>ocid1.image.oc1.eu-paris-1.aaaaaaaaf7irdvozuzmwyvbfacdivomj52x65vr6tlg62i6er323sevazdqq</td><td>VM.Standard1.8</td></tr><tr><td>ocid1.image.oc1.eu-paris-1.aaaaaaaaf7irdvozuzmwyvbfacdivomj52x65vr6tlg62i6er323sevazdqq</td><td>VM.Standard2.1</td></tr><tr><td>ocid1.image.oc1.eu-paris-1.aaaaaaaaf7irdvozuzmwyvbfacdivomj52x65vr6tlg62i6er323sevazdqq</td><td>VM.Standard2.16</td></tr><tr><td>ocid1.image.oc1.eu-paris-1.aaaaaaaaf7irdvozuzmwyvbfacdivomj52x65vr6tlg62i6er323sevazdqq</td><td>VM.Standard2.2</td></tr><tr><td>ocid1.image.oc1.eu-paris-1.aaaaaaaaf7irdvozuzmwyvbfacdivomj52x65vr6tlg62i6er323sevazdqq</td><td>VM.Standard2.24</td></tr><tr><td>ocid1.image.oc1.eu-paris-1.aaaaaaaaf7irdvozuzmwyvbfacdivomj52x65vr6tlg62i6er323sevazdqq</td><td>VM.Standard2.4</td></tr><tr><td>ocid1.image.oc1.eu-paris-1.aaaaaaaaf7irdvozuzmwyvbfacdivomj52x65vr6tlg62i6er323sevazdqq</td><td>VM.Standard2.8</td></tr><tr><td>ocid1.image.oc1.eu-paris-1.aaaaaaaaf7irdvozuzmwyvbfacdivomj52x65vr6tlg62i6er323sevazdqq</td><td>VM.Standard2.Flex</td></tr><tr><td>ocid1.image.oc1.eu-paris-1.aaaaaaaaf7irdvozuzmwyvbfacdivomj52x65vr6tlg62i6er323sevazdqq</td><td>VM.Standard3.Flex</td></tr><tr><td>ocid1.image.oc1.eu-paris-1.aaaaaaaaf7irdvozuzmwyvbfacdivomj52x65vr6tlg62i6er323sevazdqq</td><td>BM.Standard.E2.64</td></tr><tr><td>ocid1.image.oc1.eu-paris-1.aaaaaaaaf7irdvozuzmwyvbfacdivomj52x65vr6tlg62i6er323sevazdqq</td><td>BM.Standard.E3.128</td></tr><tr><td>ocid1.image.oc1.eu-paris-1.aaaaaaaaf7irdvozuzmwyvbfacdivomj52x65vr6tlg62i6er323sevazdqq</td><td>BM.GPU4.8</td></tr><tr><td>ocid1.image.oc1.eu-paris-1.aaaaaaaaf7irdvozuzmwyvbfacdivomj52x65vr6tlg62i6er323sevazdqq</td><td>BM.Standard.E4.128</td></tr></tbody></table>"
      ]
     },
     "execution_count": 16,
     "metadata": {},
     "output_type": "execute_result"
    }
   ],
   "source": [
    "df_compatibilityListExample2_ImgAndShapeOnly"
   ]
  },
  {
   "cell_type": "code",
   "execution_count": 25,
   "id": "27dd6c3f-3bc9-4683-ad38-df426733dc7b",
   "metadata": {},
   "outputs": [],
   "source": [
    "const resultatVstack= df_compatibilityListExample1_ImgAndShapeOnly.select(pl.col(\"imageId\"), pl.col(\"shape\")).vstack(df_compatibilityListExample2_ImgAndShapeOnly.select(pl.col(\"imageId\"), pl.col(\"shape\")))\n",
    "/*\n",
    "console.log(JSON.stringify(resultatVstack, null, 4))\n",
    "resultatVstack\n",
    "\n",
    "*/"
   ]
  },
  {
   "cell_type": "code",
   "execution_count": 26,
   "id": "81b74c80-5a22-43b1-94c9-fbc78be2f4bb",
   "metadata": {},
   "outputs": [
    {
     "data": {
      "application/vnd.dataresource+json": {
       "data": [
        {
         "imageId": "ocid1.image.oc1.eu-paris-1.aaaaaaaalvbkaoybngg572c4ybw47avoyv2vk4raeus2bg4hyrbfuq4hmcuq",
         "shape": "VM.DenseIO.E4.Flex"
        },
        {
         "imageId": "ocid1.image.oc1.eu-paris-1.aaaaaaaalvbkaoybngg572c4ybw47avoyv2vk4raeus2bg4hyrbfuq4hmcuq",
         "shape": "VM.DenseIO.E5.Flex"
        },
        {
         "imageId": "ocid1.image.oc1.eu-paris-1.aaaaaaaalvbkaoybngg572c4ybw47avoyv2vk4raeus2bg4hyrbfuq4hmcuq",
         "shape": "VM.DenseIO1.16"
        },
        {
         "imageId": "ocid1.image.oc1.eu-paris-1.aaaaaaaalvbkaoybngg572c4ybw47avoyv2vk4raeus2bg4hyrbfuq4hmcuq",
         "shape": "VM.DenseIO1.4"
        },
        {
         "imageId": "ocid1.image.oc1.eu-paris-1.aaaaaaaalvbkaoybngg572c4ybw47avoyv2vk4raeus2bg4hyrbfuq4hmcuq",
         "shape": "VM.DenseIO1.8"
        },
        {
         "imageId": "ocid1.image.oc1.eu-paris-1.aaaaaaaalvbkaoybngg572c4ybw47avoyv2vk4raeus2bg4hyrbfuq4hmcuq",
         "shape": "VM.DenseIO2.16"
        },
        {
         "imageId": "ocid1.image.oc1.eu-paris-1.aaaaaaaalvbkaoybngg572c4ybw47avoyv2vk4raeus2bg4hyrbfuq4hmcuq",
         "shape": "VM.DenseIO2.24"
        },
        {
         "imageId": "ocid1.image.oc1.eu-paris-1.aaaaaaaalvbkaoybngg572c4ybw47avoyv2vk4raeus2bg4hyrbfuq4hmcuq",
         "shape": "VM.DenseIO2.8"
        },
        {
         "imageId": "ocid1.image.oc1.eu-paris-1.aaaaaaaalvbkaoybngg572c4ybw47avoyv2vk4raeus2bg4hyrbfuq4hmcuq",
         "shape": "VM.GPU.A10.1"
        },
        {
         "imageId": "ocid1.image.oc1.eu-paris-1.aaaaaaaalvbkaoybngg572c4ybw47avoyv2vk4raeus2bg4hyrbfuq4hmcuq",
         "shape": "VM.GPU.A10.2"
        },
        {
         "imageId": "ocid1.image.oc1.eu-paris-1.aaaaaaaalvbkaoybngg572c4ybw47avoyv2vk4raeus2bg4hyrbfuq4hmcuq",
         "shape": "VM.GPU.GU1.1"
        },
        {
         "imageId": "ocid1.image.oc1.eu-paris-1.aaaaaaaalvbkaoybngg572c4ybw47avoyv2vk4raeus2bg4hyrbfuq4hmcuq",
         "shape": "VM.GPU.GU1.2"
        },
        {
         "imageId": "ocid1.image.oc1.eu-paris-1.aaaaaaaalvbkaoybngg572c4ybw47avoyv2vk4raeus2bg4hyrbfuq4hmcuq",
         "shape": "VM.GPU2.1"
        },
        {
         "imageId": "ocid1.image.oc1.eu-paris-1.aaaaaaaalvbkaoybngg572c4ybw47avoyv2vk4raeus2bg4hyrbfuq4hmcuq",
         "shape": "VM.GPU3.1"
        },
        {
         "imageId": "ocid1.image.oc1.eu-paris-1.aaaaaaaalvbkaoybngg572c4ybw47avoyv2vk4raeus2bg4hyrbfuq4hmcuq",
         "shape": "VM.GPU3.2"
        },
        {
         "imageId": "ocid1.image.oc1.eu-paris-1.aaaaaaaalvbkaoybngg572c4ybw47avoyv2vk4raeus2bg4hyrbfuq4hmcuq",
         "shape": "VM.GPU3.4"
        },
        {
         "imageId": "ocid1.image.oc1.eu-paris-1.aaaaaaaalvbkaoybngg572c4ybw47avoyv2vk4raeus2bg4hyrbfuq4hmcuq",
         "shape": "VM.Optimized3.Flex"
        },
        {
         "imageId": "ocid1.image.oc1.eu-paris-1.aaaaaaaalvbkaoybngg572c4ybw47avoyv2vk4raeus2bg4hyrbfuq4hmcuq",
         "shape": "VM.Standard.AMD.Generic"
        },
        {
         "imageId": "ocid1.image.oc1.eu-paris-1.aaaaaaaalvbkaoybngg572c4ybw47avoyv2vk4raeus2bg4hyrbfuq4hmcuq",
         "shape": "VM.Standard.E2.1"
        },
        {
         "imageId": "ocid1.image.oc1.eu-paris-1.aaaaaaaalvbkaoybngg572c4ybw47avoyv2vk4raeus2bg4hyrbfuq4hmcuq",
         "shape": "VM.Standard.E2.1.Micro"
        },
        {
         "imageId": "ocid1.image.oc1.eu-paris-1.aaaaaaaalvbkaoybngg572c4ybw47avoyv2vk4raeus2bg4hyrbfuq4hmcuq",
         "shape": "VM.Standard.E2.2"
        },
        {
         "imageId": "ocid1.image.oc1.eu-paris-1.aaaaaaaalvbkaoybngg572c4ybw47avoyv2vk4raeus2bg4hyrbfuq4hmcuq",
         "shape": "VM.Standard.E2.4"
        },
        {
         "imageId": "ocid1.image.oc1.eu-paris-1.aaaaaaaalvbkaoybngg572c4ybw47avoyv2vk4raeus2bg4hyrbfuq4hmcuq",
         "shape": "VM.Standard.E2.8"
        },
        {
         "imageId": "ocid1.image.oc1.eu-paris-1.aaaaaaaalvbkaoybngg572c4ybw47avoyv2vk4raeus2bg4hyrbfuq4hmcuq",
         "shape": "VM.Standard.E3.Flex"
        },
        {
         "imageId": "ocid1.image.oc1.eu-paris-1.aaaaaaaalvbkaoybngg572c4ybw47avoyv2vk4raeus2bg4hyrbfuq4hmcuq",
         "shape": "VM.Standard.E4.Flex"
        },
        {
         "imageId": "ocid1.image.oc1.eu-paris-1.aaaaaaaalvbkaoybngg572c4ybw47avoyv2vk4raeus2bg4hyrbfuq4hmcuq",
         "shape": "VM.Standard.E5.Flex"
        },
        {
         "imageId": "ocid1.image.oc1.eu-paris-1.aaaaaaaalvbkaoybngg572c4ybw47avoyv2vk4raeus2bg4hyrbfuq4hmcuq",
         "shape": "VM.Standard.Intel.Generic"
        },
        {
         "imageId": "ocid1.image.oc1.eu-paris-1.aaaaaaaalvbkaoybngg572c4ybw47avoyv2vk4raeus2bg4hyrbfuq4hmcuq",
         "shape": "VM.Standard.x86.Generic"
        },
        {
         "imageId": "ocid1.image.oc1.eu-paris-1.aaaaaaaalvbkaoybngg572c4ybw47avoyv2vk4raeus2bg4hyrbfuq4hmcuq",
         "shape": "VM.Standard1.1"
        },
        {
         "imageId": "ocid1.image.oc1.eu-paris-1.aaaaaaaalvbkaoybngg572c4ybw47avoyv2vk4raeus2bg4hyrbfuq4hmcuq",
         "shape": "VM.Standard1.16"
        },
        {
         "imageId": "ocid1.image.oc1.eu-paris-1.aaaaaaaalvbkaoybngg572c4ybw47avoyv2vk4raeus2bg4hyrbfuq4hmcuq",
         "shape": "VM.Standard1.2"
        },
        {
         "imageId": "ocid1.image.oc1.eu-paris-1.aaaaaaaalvbkaoybngg572c4ybw47avoyv2vk4raeus2bg4hyrbfuq4hmcuq",
         "shape": "VM.Standard1.4"
        },
        {
         "imageId": "ocid1.image.oc1.eu-paris-1.aaaaaaaalvbkaoybngg572c4ybw47avoyv2vk4raeus2bg4hyrbfuq4hmcuq",
         "shape": "VM.Standard1.8"
        },
        {
         "imageId": "ocid1.image.oc1.eu-paris-1.aaaaaaaalvbkaoybngg572c4ybw47avoyv2vk4raeus2bg4hyrbfuq4hmcuq",
         "shape": "VM.Standard2.1"
        },
        {
         "imageId": "ocid1.image.oc1.eu-paris-1.aaaaaaaalvbkaoybngg572c4ybw47avoyv2vk4raeus2bg4hyrbfuq4hmcuq",
         "shape": "VM.Standard2.16"
        },
        {
         "imageId": "ocid1.image.oc1.eu-paris-1.aaaaaaaalvbkaoybngg572c4ybw47avoyv2vk4raeus2bg4hyrbfuq4hmcuq",
         "shape": "VM.Standard2.2"
        },
        {
         "imageId": "ocid1.image.oc1.eu-paris-1.aaaaaaaalvbkaoybngg572c4ybw47avoyv2vk4raeus2bg4hyrbfuq4hmcuq",
         "shape": "VM.Standard2.24"
        },
        {
         "imageId": "ocid1.image.oc1.eu-paris-1.aaaaaaaalvbkaoybngg572c4ybw47avoyv2vk4raeus2bg4hyrbfuq4hmcuq",
         "shape": "VM.Standard2.4"
        },
        {
         "imageId": "ocid1.image.oc1.eu-paris-1.aaaaaaaalvbkaoybngg572c4ybw47avoyv2vk4raeus2bg4hyrbfuq4hmcuq",
         "shape": "VM.Standard2.8"
        },
        {
         "imageId": "ocid1.image.oc1.eu-paris-1.aaaaaaaalvbkaoybngg572c4ybw47avoyv2vk4raeus2bg4hyrbfuq4hmcuq",
         "shape": "VM.Standard2.Flex"
        },
        {
         "imageId": "ocid1.image.oc1.eu-paris-1.aaaaaaaalvbkaoybngg572c4ybw47avoyv2vk4raeus2bg4hyrbfuq4hmcuq",
         "shape": "VM.Standard3.Flex"
        },
        {
         "imageId": "ocid1.image.oc1.eu-paris-1.aaaaaaaalvbkaoybngg572c4ybw47avoyv2vk4raeus2bg4hyrbfuq4hmcuq",
         "shape": "BM.Standard.E2.64"
        },
        {
         "imageId": "ocid1.image.oc1.eu-paris-1.aaaaaaaalvbkaoybngg572c4ybw47avoyv2vk4raeus2bg4hyrbfuq4hmcuq",
         "shape": "BM.Standard.E3.128"
        },
        {
         "imageId": "ocid1.image.oc1.eu-paris-1.aaaaaaaalvbkaoybngg572c4ybw47avoyv2vk4raeus2bg4hyrbfuq4hmcuq",
         "shape": "BM.GPU4.8"
        },
        {
         "imageId": "ocid1.image.oc1.eu-paris-1.aaaaaaaalvbkaoybngg572c4ybw47avoyv2vk4raeus2bg4hyrbfuq4hmcuq",
         "shape": "BM.Standard.E4.128"
        },
        {
         "imageId": "ocid1.image.oc1.eu-paris-1.aaaaaaaalvbkaoybngg572c4ybw47avoyv2vk4raeus2bg4hyrbfuq4hmcuq",
         "shape": "BM.GPU.A100-v2.8"
        },
        {
         "imageId": "ocid1.image.oc1.eu-paris-1.aaaaaaaalvbkaoybngg572c4ybw47avoyv2vk4raeus2bg4hyrbfuq4hmcuq",
         "shape": "BM.DenseIO.E4.128"
        },
        {
         "imageId": "ocid1.image.oc1.eu-paris-1.aaaaaaaalvbkaoybngg572c4ybw47avoyv2vk4raeus2bg4hyrbfuq4hmcuq",
         "shape": "BM.DenseIO.E5.128"
        },
        {
         "imageId": "ocid1.image.oc1.eu-paris-1.aaaaaaaalvbkaoybngg572c4ybw47avoyv2vk4raeus2bg4hyrbfuq4hmcuq",
         "shape": "BM.Standard.E5.192"
        },
        {
         "imageId": "ocid1.image.oc1.eu-paris-1.aaaaaaaalvbkaoybngg572c4ybw47avoyv2vk4raeus2bg4hyrbfuq4hmcuq",
         "shape": "BM.Standard1.36"
        }
       ],
       "schema": {
        "fields": [
         {
          "name": "imageId",
          "type": "string"
         },
         {
          "name": "shape",
          "type": "string"
         }
        ]
       }
      },
      "text/html": [
       "<table><thead><tr><th>imageId</th><th>shape</th></tr></thead><tbody><tr><td>ocid1.image.oc1.eu-paris-1.aaaaaaaalvbkaoybngg572c4ybw47avoyv2vk4raeus2bg4hyrbfuq4hmcuq</td><td>VM.DenseIO.E4.Flex</td></tr><tr><td>ocid1.image.oc1.eu-paris-1.aaaaaaaalvbkaoybngg572c4ybw47avoyv2vk4raeus2bg4hyrbfuq4hmcuq</td><td>VM.DenseIO.E5.Flex</td></tr><tr><td>ocid1.image.oc1.eu-paris-1.aaaaaaaalvbkaoybngg572c4ybw47avoyv2vk4raeus2bg4hyrbfuq4hmcuq</td><td>VM.DenseIO1.16</td></tr><tr><td>ocid1.image.oc1.eu-paris-1.aaaaaaaalvbkaoybngg572c4ybw47avoyv2vk4raeus2bg4hyrbfuq4hmcuq</td><td>VM.DenseIO1.4</td></tr><tr><td>ocid1.image.oc1.eu-paris-1.aaaaaaaalvbkaoybngg572c4ybw47avoyv2vk4raeus2bg4hyrbfuq4hmcuq</td><td>VM.DenseIO1.8</td></tr><tr><td>ocid1.image.oc1.eu-paris-1.aaaaaaaalvbkaoybngg572c4ybw47avoyv2vk4raeus2bg4hyrbfuq4hmcuq</td><td>VM.DenseIO2.16</td></tr><tr><td>ocid1.image.oc1.eu-paris-1.aaaaaaaalvbkaoybngg572c4ybw47avoyv2vk4raeus2bg4hyrbfuq4hmcuq</td><td>VM.DenseIO2.24</td></tr><tr><td>ocid1.image.oc1.eu-paris-1.aaaaaaaalvbkaoybngg572c4ybw47avoyv2vk4raeus2bg4hyrbfuq4hmcuq</td><td>VM.DenseIO2.8</td></tr><tr><td>ocid1.image.oc1.eu-paris-1.aaaaaaaalvbkaoybngg572c4ybw47avoyv2vk4raeus2bg4hyrbfuq4hmcuq</td><td>VM.GPU.A10.1</td></tr><tr><td>ocid1.image.oc1.eu-paris-1.aaaaaaaalvbkaoybngg572c4ybw47avoyv2vk4raeus2bg4hyrbfuq4hmcuq</td><td>VM.GPU.A10.2</td></tr><tr><td>ocid1.image.oc1.eu-paris-1.aaaaaaaalvbkaoybngg572c4ybw47avoyv2vk4raeus2bg4hyrbfuq4hmcuq</td><td>VM.GPU.GU1.1</td></tr><tr><td>ocid1.image.oc1.eu-paris-1.aaaaaaaalvbkaoybngg572c4ybw47avoyv2vk4raeus2bg4hyrbfuq4hmcuq</td><td>VM.GPU.GU1.2</td></tr><tr><td>ocid1.image.oc1.eu-paris-1.aaaaaaaalvbkaoybngg572c4ybw47avoyv2vk4raeus2bg4hyrbfuq4hmcuq</td><td>VM.GPU2.1</td></tr><tr><td>ocid1.image.oc1.eu-paris-1.aaaaaaaalvbkaoybngg572c4ybw47avoyv2vk4raeus2bg4hyrbfuq4hmcuq</td><td>VM.GPU3.1</td></tr><tr><td>ocid1.image.oc1.eu-paris-1.aaaaaaaalvbkaoybngg572c4ybw47avoyv2vk4raeus2bg4hyrbfuq4hmcuq</td><td>VM.GPU3.2</td></tr><tr><td>ocid1.image.oc1.eu-paris-1.aaaaaaaalvbkaoybngg572c4ybw47avoyv2vk4raeus2bg4hyrbfuq4hmcuq</td><td>VM.GPU3.4</td></tr><tr><td>ocid1.image.oc1.eu-paris-1.aaaaaaaalvbkaoybngg572c4ybw47avoyv2vk4raeus2bg4hyrbfuq4hmcuq</td><td>VM.Optimized3.Flex</td></tr><tr><td>ocid1.image.oc1.eu-paris-1.aaaaaaaalvbkaoybngg572c4ybw47avoyv2vk4raeus2bg4hyrbfuq4hmcuq</td><td>VM.Standard.AMD.Generic</td></tr><tr><td>ocid1.image.oc1.eu-paris-1.aaaaaaaalvbkaoybngg572c4ybw47avoyv2vk4raeus2bg4hyrbfuq4hmcuq</td><td>VM.Standard.E2.1</td></tr><tr><td>ocid1.image.oc1.eu-paris-1.aaaaaaaalvbkaoybngg572c4ybw47avoyv2vk4raeus2bg4hyrbfuq4hmcuq</td><td>VM.Standard.E2.1.Micro</td></tr><tr><td>ocid1.image.oc1.eu-paris-1.aaaaaaaalvbkaoybngg572c4ybw47avoyv2vk4raeus2bg4hyrbfuq4hmcuq</td><td>VM.Standard.E2.2</td></tr><tr><td>ocid1.image.oc1.eu-paris-1.aaaaaaaalvbkaoybngg572c4ybw47avoyv2vk4raeus2bg4hyrbfuq4hmcuq</td><td>VM.Standard.E2.4</td></tr><tr><td>ocid1.image.oc1.eu-paris-1.aaaaaaaalvbkaoybngg572c4ybw47avoyv2vk4raeus2bg4hyrbfuq4hmcuq</td><td>VM.Standard.E2.8</td></tr><tr><td>ocid1.image.oc1.eu-paris-1.aaaaaaaalvbkaoybngg572c4ybw47avoyv2vk4raeus2bg4hyrbfuq4hmcuq</td><td>VM.Standard.E3.Flex</td></tr><tr><td>ocid1.image.oc1.eu-paris-1.aaaaaaaalvbkaoybngg572c4ybw47avoyv2vk4raeus2bg4hyrbfuq4hmcuq</td><td>VM.Standard.E4.Flex</td></tr><tr><td>ocid1.image.oc1.eu-paris-1.aaaaaaaalvbkaoybngg572c4ybw47avoyv2vk4raeus2bg4hyrbfuq4hmcuq</td><td>VM.Standard.E5.Flex</td></tr><tr><td>ocid1.image.oc1.eu-paris-1.aaaaaaaalvbkaoybngg572c4ybw47avoyv2vk4raeus2bg4hyrbfuq4hmcuq</td><td>VM.Standard.Intel.Generic</td></tr><tr><td>ocid1.image.oc1.eu-paris-1.aaaaaaaalvbkaoybngg572c4ybw47avoyv2vk4raeus2bg4hyrbfuq4hmcuq</td><td>VM.Standard.x86.Generic</td></tr><tr><td>ocid1.image.oc1.eu-paris-1.aaaaaaaalvbkaoybngg572c4ybw47avoyv2vk4raeus2bg4hyrbfuq4hmcuq</td><td>VM.Standard1.1</td></tr><tr><td>ocid1.image.oc1.eu-paris-1.aaaaaaaalvbkaoybngg572c4ybw47avoyv2vk4raeus2bg4hyrbfuq4hmcuq</td><td>VM.Standard1.16</td></tr><tr><td>ocid1.image.oc1.eu-paris-1.aaaaaaaalvbkaoybngg572c4ybw47avoyv2vk4raeus2bg4hyrbfuq4hmcuq</td><td>VM.Standard1.2</td></tr><tr><td>ocid1.image.oc1.eu-paris-1.aaaaaaaalvbkaoybngg572c4ybw47avoyv2vk4raeus2bg4hyrbfuq4hmcuq</td><td>VM.Standard1.4</td></tr><tr><td>ocid1.image.oc1.eu-paris-1.aaaaaaaalvbkaoybngg572c4ybw47avoyv2vk4raeus2bg4hyrbfuq4hmcuq</td><td>VM.Standard1.8</td></tr><tr><td>ocid1.image.oc1.eu-paris-1.aaaaaaaalvbkaoybngg572c4ybw47avoyv2vk4raeus2bg4hyrbfuq4hmcuq</td><td>VM.Standard2.1</td></tr><tr><td>ocid1.image.oc1.eu-paris-1.aaaaaaaalvbkaoybngg572c4ybw47avoyv2vk4raeus2bg4hyrbfuq4hmcuq</td><td>VM.Standard2.16</td></tr><tr><td>ocid1.image.oc1.eu-paris-1.aaaaaaaalvbkaoybngg572c4ybw47avoyv2vk4raeus2bg4hyrbfuq4hmcuq</td><td>VM.Standard2.2</td></tr><tr><td>ocid1.image.oc1.eu-paris-1.aaaaaaaalvbkaoybngg572c4ybw47avoyv2vk4raeus2bg4hyrbfuq4hmcuq</td><td>VM.Standard2.24</td></tr><tr><td>ocid1.image.oc1.eu-paris-1.aaaaaaaalvbkaoybngg572c4ybw47avoyv2vk4raeus2bg4hyrbfuq4hmcuq</td><td>VM.Standard2.4</td></tr><tr><td>ocid1.image.oc1.eu-paris-1.aaaaaaaalvbkaoybngg572c4ybw47avoyv2vk4raeus2bg4hyrbfuq4hmcuq</td><td>VM.Standard2.8</td></tr><tr><td>ocid1.image.oc1.eu-paris-1.aaaaaaaalvbkaoybngg572c4ybw47avoyv2vk4raeus2bg4hyrbfuq4hmcuq</td><td>VM.Standard2.Flex</td></tr><tr><td>ocid1.image.oc1.eu-paris-1.aaaaaaaalvbkaoybngg572c4ybw47avoyv2vk4raeus2bg4hyrbfuq4hmcuq</td><td>VM.Standard3.Flex</td></tr><tr><td>ocid1.image.oc1.eu-paris-1.aaaaaaaalvbkaoybngg572c4ybw47avoyv2vk4raeus2bg4hyrbfuq4hmcuq</td><td>BM.Standard.E2.64</td></tr><tr><td>ocid1.image.oc1.eu-paris-1.aaaaaaaalvbkaoybngg572c4ybw47avoyv2vk4raeus2bg4hyrbfuq4hmcuq</td><td>BM.Standard.E3.128</td></tr><tr><td>ocid1.image.oc1.eu-paris-1.aaaaaaaalvbkaoybngg572c4ybw47avoyv2vk4raeus2bg4hyrbfuq4hmcuq</td><td>BM.GPU4.8</td></tr><tr><td>ocid1.image.oc1.eu-paris-1.aaaaaaaalvbkaoybngg572c4ybw47avoyv2vk4raeus2bg4hyrbfuq4hmcuq</td><td>BM.Standard.E4.128</td></tr><tr><td>ocid1.image.oc1.eu-paris-1.aaaaaaaalvbkaoybngg572c4ybw47avoyv2vk4raeus2bg4hyrbfuq4hmcuq</td><td>BM.GPU.A100-v2.8</td></tr><tr><td>ocid1.image.oc1.eu-paris-1.aaaaaaaalvbkaoybngg572c4ybw47avoyv2vk4raeus2bg4hyrbfuq4hmcuq</td><td>BM.DenseIO.E4.128</td></tr><tr><td>ocid1.image.oc1.eu-paris-1.aaaaaaaalvbkaoybngg572c4ybw47avoyv2vk4raeus2bg4hyrbfuq4hmcuq</td><td>BM.DenseIO.E5.128</td></tr><tr><td>ocid1.image.oc1.eu-paris-1.aaaaaaaalvbkaoybngg572c4ybw47avoyv2vk4raeus2bg4hyrbfuq4hmcuq</td><td>BM.Standard.E5.192</td></tr><tr><td>ocid1.image.oc1.eu-paris-1.aaaaaaaalvbkaoybngg572c4ybw47avoyv2vk4raeus2bg4hyrbfuq4hmcuq</td><td>BM.Standard1.36</td></tr></tbody></table>"
      ]
     },
     "execution_count": 26,
     "metadata": {},
     "output_type": "execute_result"
    }
   ],
   "source": [
    "resultatVstack.filter(pl.col('imageId').eq(pl.lit(allImageIDs[0]))).head(5000)"
   ]
  },
  {
   "cell_type": "code",
   "execution_count": 27,
   "id": "8948566f-deab-42ba-8572-e8f44ca7053a",
   "metadata": {},
   "outputs": [
    {
     "data": {
      "application/vnd.dataresource+json": {
       "data": [
        {
         "imageId": "ocid1.image.oc1.eu-paris-1.aaaaaaaaf7irdvozuzmwyvbfacdivomj52x65vr6tlg62i6er323sevazdqq",
         "shape": "VM.DenseIO.E4.Flex"
        },
        {
         "imageId": "ocid1.image.oc1.eu-paris-1.aaaaaaaaf7irdvozuzmwyvbfacdivomj52x65vr6tlg62i6er323sevazdqq",
         "shape": "VM.DenseIO.E5.Flex"
        },
        {
         "imageId": "ocid1.image.oc1.eu-paris-1.aaaaaaaaf7irdvozuzmwyvbfacdivomj52x65vr6tlg62i6er323sevazdqq",
         "shape": "VM.DenseIO1.16"
        },
        {
         "imageId": "ocid1.image.oc1.eu-paris-1.aaaaaaaaf7irdvozuzmwyvbfacdivomj52x65vr6tlg62i6er323sevazdqq",
         "shape": "VM.DenseIO1.4"
        },
        {
         "imageId": "ocid1.image.oc1.eu-paris-1.aaaaaaaaf7irdvozuzmwyvbfacdivomj52x65vr6tlg62i6er323sevazdqq",
         "shape": "VM.DenseIO1.8"
        },
        {
         "imageId": "ocid1.image.oc1.eu-paris-1.aaaaaaaaf7irdvozuzmwyvbfacdivomj52x65vr6tlg62i6er323sevazdqq",
         "shape": "VM.DenseIO2.16"
        },
        {
         "imageId": "ocid1.image.oc1.eu-paris-1.aaaaaaaaf7irdvozuzmwyvbfacdivomj52x65vr6tlg62i6er323sevazdqq",
         "shape": "VM.DenseIO2.24"
        },
        {
         "imageId": "ocid1.image.oc1.eu-paris-1.aaaaaaaaf7irdvozuzmwyvbfacdivomj52x65vr6tlg62i6er323sevazdqq",
         "shape": "VM.DenseIO2.8"
        },
        {
         "imageId": "ocid1.image.oc1.eu-paris-1.aaaaaaaaf7irdvozuzmwyvbfacdivomj52x65vr6tlg62i6er323sevazdqq",
         "shape": "VM.GPU.A10.1"
        },
        {
         "imageId": "ocid1.image.oc1.eu-paris-1.aaaaaaaaf7irdvozuzmwyvbfacdivomj52x65vr6tlg62i6er323sevazdqq",
         "shape": "VM.GPU.A10.2"
        },
        {
         "imageId": "ocid1.image.oc1.eu-paris-1.aaaaaaaaf7irdvozuzmwyvbfacdivomj52x65vr6tlg62i6er323sevazdqq",
         "shape": "VM.GPU.GU1.1"
        },
        {
         "imageId": "ocid1.image.oc1.eu-paris-1.aaaaaaaaf7irdvozuzmwyvbfacdivomj52x65vr6tlg62i6er323sevazdqq",
         "shape": "VM.GPU.GU1.2"
        },
        {
         "imageId": "ocid1.image.oc1.eu-paris-1.aaaaaaaaf7irdvozuzmwyvbfacdivomj52x65vr6tlg62i6er323sevazdqq",
         "shape": "VM.GPU2.1"
        },
        {
         "imageId": "ocid1.image.oc1.eu-paris-1.aaaaaaaaf7irdvozuzmwyvbfacdivomj52x65vr6tlg62i6er323sevazdqq",
         "shape": "VM.GPU3.1"
        },
        {
         "imageId": "ocid1.image.oc1.eu-paris-1.aaaaaaaaf7irdvozuzmwyvbfacdivomj52x65vr6tlg62i6er323sevazdqq",
         "shape": "VM.GPU3.2"
        },
        {
         "imageId": "ocid1.image.oc1.eu-paris-1.aaaaaaaaf7irdvozuzmwyvbfacdivomj52x65vr6tlg62i6er323sevazdqq",
         "shape": "VM.GPU3.4"
        },
        {
         "imageId": "ocid1.image.oc1.eu-paris-1.aaaaaaaaf7irdvozuzmwyvbfacdivomj52x65vr6tlg62i6er323sevazdqq",
         "shape": "VM.Optimized3.Flex"
        },
        {
         "imageId": "ocid1.image.oc1.eu-paris-1.aaaaaaaaf7irdvozuzmwyvbfacdivomj52x65vr6tlg62i6er323sevazdqq",
         "shape": "VM.Standard.AMD.Generic"
        },
        {
         "imageId": "ocid1.image.oc1.eu-paris-1.aaaaaaaaf7irdvozuzmwyvbfacdivomj52x65vr6tlg62i6er323sevazdqq",
         "shape": "VM.Standard.B1.1"
        },
        {
         "imageId": "ocid1.image.oc1.eu-paris-1.aaaaaaaaf7irdvozuzmwyvbfacdivomj52x65vr6tlg62i6er323sevazdqq",
         "shape": "VM.Standard.B1.16"
        },
        {
         "imageId": "ocid1.image.oc1.eu-paris-1.aaaaaaaaf7irdvozuzmwyvbfacdivomj52x65vr6tlg62i6er323sevazdqq",
         "shape": "VM.Standard.B1.2"
        },
        {
         "imageId": "ocid1.image.oc1.eu-paris-1.aaaaaaaaf7irdvozuzmwyvbfacdivomj52x65vr6tlg62i6er323sevazdqq",
         "shape": "VM.Standard.B1.4"
        },
        {
         "imageId": "ocid1.image.oc1.eu-paris-1.aaaaaaaaf7irdvozuzmwyvbfacdivomj52x65vr6tlg62i6er323sevazdqq",
         "shape": "VM.Standard.B1.8"
        },
        {
         "imageId": "ocid1.image.oc1.eu-paris-1.aaaaaaaaf7irdvozuzmwyvbfacdivomj52x65vr6tlg62i6er323sevazdqq",
         "shape": "VM.Standard.E2.1"
        },
        {
         "imageId": "ocid1.image.oc1.eu-paris-1.aaaaaaaaf7irdvozuzmwyvbfacdivomj52x65vr6tlg62i6er323sevazdqq",
         "shape": "VM.Standard.E2.1.Micro"
        },
        {
         "imageId": "ocid1.image.oc1.eu-paris-1.aaaaaaaaf7irdvozuzmwyvbfacdivomj52x65vr6tlg62i6er323sevazdqq",
         "shape": "VM.Standard.E2.2"
        },
        {
         "imageId": "ocid1.image.oc1.eu-paris-1.aaaaaaaaf7irdvozuzmwyvbfacdivomj52x65vr6tlg62i6er323sevazdqq",
         "shape": "VM.Standard.E2.4"
        },
        {
         "imageId": "ocid1.image.oc1.eu-paris-1.aaaaaaaaf7irdvozuzmwyvbfacdivomj52x65vr6tlg62i6er323sevazdqq",
         "shape": "VM.Standard.E2.8"
        },
        {
         "imageId": "ocid1.image.oc1.eu-paris-1.aaaaaaaaf7irdvozuzmwyvbfacdivomj52x65vr6tlg62i6er323sevazdqq",
         "shape": "VM.Standard.E3.Flex"
        },
        {
         "imageId": "ocid1.image.oc1.eu-paris-1.aaaaaaaaf7irdvozuzmwyvbfacdivomj52x65vr6tlg62i6er323sevazdqq",
         "shape": "VM.Standard.E4.Flex"
        },
        {
         "imageId": "ocid1.image.oc1.eu-paris-1.aaaaaaaaf7irdvozuzmwyvbfacdivomj52x65vr6tlg62i6er323sevazdqq",
         "shape": "VM.Standard.E5.Flex"
        },
        {
         "imageId": "ocid1.image.oc1.eu-paris-1.aaaaaaaaf7irdvozuzmwyvbfacdivomj52x65vr6tlg62i6er323sevazdqq",
         "shape": "VM.Standard.Intel.Generic"
        },
        {
         "imageId": "ocid1.image.oc1.eu-paris-1.aaaaaaaaf7irdvozuzmwyvbfacdivomj52x65vr6tlg62i6er323sevazdqq",
         "shape": "VM.Standard.x86.Generic"
        },
        {
         "imageId": "ocid1.image.oc1.eu-paris-1.aaaaaaaaf7irdvozuzmwyvbfacdivomj52x65vr6tlg62i6er323sevazdqq",
         "shape": "VM.Standard1.1"
        },
        {
         "imageId": "ocid1.image.oc1.eu-paris-1.aaaaaaaaf7irdvozuzmwyvbfacdivomj52x65vr6tlg62i6er323sevazdqq",
         "shape": "VM.Standard1.16"
        },
        {
         "imageId": "ocid1.image.oc1.eu-paris-1.aaaaaaaaf7irdvozuzmwyvbfacdivomj52x65vr6tlg62i6er323sevazdqq",
         "shape": "VM.Standard1.2"
        },
        {
         "imageId": "ocid1.image.oc1.eu-paris-1.aaaaaaaaf7irdvozuzmwyvbfacdivomj52x65vr6tlg62i6er323sevazdqq",
         "shape": "VM.Standard1.4"
        },
        {
         "imageId": "ocid1.image.oc1.eu-paris-1.aaaaaaaaf7irdvozuzmwyvbfacdivomj52x65vr6tlg62i6er323sevazdqq",
         "shape": "VM.Standard1.8"
        },
        {
         "imageId": "ocid1.image.oc1.eu-paris-1.aaaaaaaaf7irdvozuzmwyvbfacdivomj52x65vr6tlg62i6er323sevazdqq",
         "shape": "VM.Standard2.1"
        },
        {
         "imageId": "ocid1.image.oc1.eu-paris-1.aaaaaaaaf7irdvozuzmwyvbfacdivomj52x65vr6tlg62i6er323sevazdqq",
         "shape": "VM.Standard2.16"
        },
        {
         "imageId": "ocid1.image.oc1.eu-paris-1.aaaaaaaaf7irdvozuzmwyvbfacdivomj52x65vr6tlg62i6er323sevazdqq",
         "shape": "VM.Standard2.2"
        },
        {
         "imageId": "ocid1.image.oc1.eu-paris-1.aaaaaaaaf7irdvozuzmwyvbfacdivomj52x65vr6tlg62i6er323sevazdqq",
         "shape": "VM.Standard2.24"
        },
        {
         "imageId": "ocid1.image.oc1.eu-paris-1.aaaaaaaaf7irdvozuzmwyvbfacdivomj52x65vr6tlg62i6er323sevazdqq",
         "shape": "VM.Standard2.4"
        },
        {
         "imageId": "ocid1.image.oc1.eu-paris-1.aaaaaaaaf7irdvozuzmwyvbfacdivomj52x65vr6tlg62i6er323sevazdqq",
         "shape": "VM.Standard2.8"
        },
        {
         "imageId": "ocid1.image.oc1.eu-paris-1.aaaaaaaaf7irdvozuzmwyvbfacdivomj52x65vr6tlg62i6er323sevazdqq",
         "shape": "VM.Standard2.Flex"
        },
        {
         "imageId": "ocid1.image.oc1.eu-paris-1.aaaaaaaaf7irdvozuzmwyvbfacdivomj52x65vr6tlg62i6er323sevazdqq",
         "shape": "VM.Standard3.Flex"
        },
        {
         "imageId": "ocid1.image.oc1.eu-paris-1.aaaaaaaaf7irdvozuzmwyvbfacdivomj52x65vr6tlg62i6er323sevazdqq",
         "shape": "BM.Standard.E2.64"
        },
        {
         "imageId": "ocid1.image.oc1.eu-paris-1.aaaaaaaaf7irdvozuzmwyvbfacdivomj52x65vr6tlg62i6er323sevazdqq",
         "shape": "BM.Standard.E3.128"
        },
        {
         "imageId": "ocid1.image.oc1.eu-paris-1.aaaaaaaaf7irdvozuzmwyvbfacdivomj52x65vr6tlg62i6er323sevazdqq",
         "shape": "BM.GPU4.8"
        },
        {
         "imageId": "ocid1.image.oc1.eu-paris-1.aaaaaaaaf7irdvozuzmwyvbfacdivomj52x65vr6tlg62i6er323sevazdqq",
         "shape": "BM.Standard.E4.128"
        }
       ],
       "schema": {
        "fields": [
         {
          "name": "imageId",
          "type": "string"
         },
         {
          "name": "shape",
          "type": "string"
         }
        ]
       }
      },
      "text/html": [
       "<table><thead><tr><th>imageId</th><th>shape</th></tr></thead><tbody><tr><td>ocid1.image.oc1.eu-paris-1.aaaaaaaaf7irdvozuzmwyvbfacdivomj52x65vr6tlg62i6er323sevazdqq</td><td>VM.DenseIO.E4.Flex</td></tr><tr><td>ocid1.image.oc1.eu-paris-1.aaaaaaaaf7irdvozuzmwyvbfacdivomj52x65vr6tlg62i6er323sevazdqq</td><td>VM.DenseIO.E5.Flex</td></tr><tr><td>ocid1.image.oc1.eu-paris-1.aaaaaaaaf7irdvozuzmwyvbfacdivomj52x65vr6tlg62i6er323sevazdqq</td><td>VM.DenseIO1.16</td></tr><tr><td>ocid1.image.oc1.eu-paris-1.aaaaaaaaf7irdvozuzmwyvbfacdivomj52x65vr6tlg62i6er323sevazdqq</td><td>VM.DenseIO1.4</td></tr><tr><td>ocid1.image.oc1.eu-paris-1.aaaaaaaaf7irdvozuzmwyvbfacdivomj52x65vr6tlg62i6er323sevazdqq</td><td>VM.DenseIO1.8</td></tr><tr><td>ocid1.image.oc1.eu-paris-1.aaaaaaaaf7irdvozuzmwyvbfacdivomj52x65vr6tlg62i6er323sevazdqq</td><td>VM.DenseIO2.16</td></tr><tr><td>ocid1.image.oc1.eu-paris-1.aaaaaaaaf7irdvozuzmwyvbfacdivomj52x65vr6tlg62i6er323sevazdqq</td><td>VM.DenseIO2.24</td></tr><tr><td>ocid1.image.oc1.eu-paris-1.aaaaaaaaf7irdvozuzmwyvbfacdivomj52x65vr6tlg62i6er323sevazdqq</td><td>VM.DenseIO2.8</td></tr><tr><td>ocid1.image.oc1.eu-paris-1.aaaaaaaaf7irdvozuzmwyvbfacdivomj52x65vr6tlg62i6er323sevazdqq</td><td>VM.GPU.A10.1</td></tr><tr><td>ocid1.image.oc1.eu-paris-1.aaaaaaaaf7irdvozuzmwyvbfacdivomj52x65vr6tlg62i6er323sevazdqq</td><td>VM.GPU.A10.2</td></tr><tr><td>ocid1.image.oc1.eu-paris-1.aaaaaaaaf7irdvozuzmwyvbfacdivomj52x65vr6tlg62i6er323sevazdqq</td><td>VM.GPU.GU1.1</td></tr><tr><td>ocid1.image.oc1.eu-paris-1.aaaaaaaaf7irdvozuzmwyvbfacdivomj52x65vr6tlg62i6er323sevazdqq</td><td>VM.GPU.GU1.2</td></tr><tr><td>ocid1.image.oc1.eu-paris-1.aaaaaaaaf7irdvozuzmwyvbfacdivomj52x65vr6tlg62i6er323sevazdqq</td><td>VM.GPU2.1</td></tr><tr><td>ocid1.image.oc1.eu-paris-1.aaaaaaaaf7irdvozuzmwyvbfacdivomj52x65vr6tlg62i6er323sevazdqq</td><td>VM.GPU3.1</td></tr><tr><td>ocid1.image.oc1.eu-paris-1.aaaaaaaaf7irdvozuzmwyvbfacdivomj52x65vr6tlg62i6er323sevazdqq</td><td>VM.GPU3.2</td></tr><tr><td>ocid1.image.oc1.eu-paris-1.aaaaaaaaf7irdvozuzmwyvbfacdivomj52x65vr6tlg62i6er323sevazdqq</td><td>VM.GPU3.4</td></tr><tr><td>ocid1.image.oc1.eu-paris-1.aaaaaaaaf7irdvozuzmwyvbfacdivomj52x65vr6tlg62i6er323sevazdqq</td><td>VM.Optimized3.Flex</td></tr><tr><td>ocid1.image.oc1.eu-paris-1.aaaaaaaaf7irdvozuzmwyvbfacdivomj52x65vr6tlg62i6er323sevazdqq</td><td>VM.Standard.AMD.Generic</td></tr><tr><td>ocid1.image.oc1.eu-paris-1.aaaaaaaaf7irdvozuzmwyvbfacdivomj52x65vr6tlg62i6er323sevazdqq</td><td>VM.Standard.B1.1</td></tr><tr><td>ocid1.image.oc1.eu-paris-1.aaaaaaaaf7irdvozuzmwyvbfacdivomj52x65vr6tlg62i6er323sevazdqq</td><td>VM.Standard.B1.16</td></tr><tr><td>ocid1.image.oc1.eu-paris-1.aaaaaaaaf7irdvozuzmwyvbfacdivomj52x65vr6tlg62i6er323sevazdqq</td><td>VM.Standard.B1.2</td></tr><tr><td>ocid1.image.oc1.eu-paris-1.aaaaaaaaf7irdvozuzmwyvbfacdivomj52x65vr6tlg62i6er323sevazdqq</td><td>VM.Standard.B1.4</td></tr><tr><td>ocid1.image.oc1.eu-paris-1.aaaaaaaaf7irdvozuzmwyvbfacdivomj52x65vr6tlg62i6er323sevazdqq</td><td>VM.Standard.B1.8</td></tr><tr><td>ocid1.image.oc1.eu-paris-1.aaaaaaaaf7irdvozuzmwyvbfacdivomj52x65vr6tlg62i6er323sevazdqq</td><td>VM.Standard.E2.1</td></tr><tr><td>ocid1.image.oc1.eu-paris-1.aaaaaaaaf7irdvozuzmwyvbfacdivomj52x65vr6tlg62i6er323sevazdqq</td><td>VM.Standard.E2.1.Micro</td></tr><tr><td>ocid1.image.oc1.eu-paris-1.aaaaaaaaf7irdvozuzmwyvbfacdivomj52x65vr6tlg62i6er323sevazdqq</td><td>VM.Standard.E2.2</td></tr><tr><td>ocid1.image.oc1.eu-paris-1.aaaaaaaaf7irdvozuzmwyvbfacdivomj52x65vr6tlg62i6er323sevazdqq</td><td>VM.Standard.E2.4</td></tr><tr><td>ocid1.image.oc1.eu-paris-1.aaaaaaaaf7irdvozuzmwyvbfacdivomj52x65vr6tlg62i6er323sevazdqq</td><td>VM.Standard.E2.8</td></tr><tr><td>ocid1.image.oc1.eu-paris-1.aaaaaaaaf7irdvozuzmwyvbfacdivomj52x65vr6tlg62i6er323sevazdqq</td><td>VM.Standard.E3.Flex</td></tr><tr><td>ocid1.image.oc1.eu-paris-1.aaaaaaaaf7irdvozuzmwyvbfacdivomj52x65vr6tlg62i6er323sevazdqq</td><td>VM.Standard.E4.Flex</td></tr><tr><td>ocid1.image.oc1.eu-paris-1.aaaaaaaaf7irdvozuzmwyvbfacdivomj52x65vr6tlg62i6er323sevazdqq</td><td>VM.Standard.E5.Flex</td></tr><tr><td>ocid1.image.oc1.eu-paris-1.aaaaaaaaf7irdvozuzmwyvbfacdivomj52x65vr6tlg62i6er323sevazdqq</td><td>VM.Standard.Intel.Generic</td></tr><tr><td>ocid1.image.oc1.eu-paris-1.aaaaaaaaf7irdvozuzmwyvbfacdivomj52x65vr6tlg62i6er323sevazdqq</td><td>VM.Standard.x86.Generic</td></tr><tr><td>ocid1.image.oc1.eu-paris-1.aaaaaaaaf7irdvozuzmwyvbfacdivomj52x65vr6tlg62i6er323sevazdqq</td><td>VM.Standard1.1</td></tr><tr><td>ocid1.image.oc1.eu-paris-1.aaaaaaaaf7irdvozuzmwyvbfacdivomj52x65vr6tlg62i6er323sevazdqq</td><td>VM.Standard1.16</td></tr><tr><td>ocid1.image.oc1.eu-paris-1.aaaaaaaaf7irdvozuzmwyvbfacdivomj52x65vr6tlg62i6er323sevazdqq</td><td>VM.Standard1.2</td></tr><tr><td>ocid1.image.oc1.eu-paris-1.aaaaaaaaf7irdvozuzmwyvbfacdivomj52x65vr6tlg62i6er323sevazdqq</td><td>VM.Standard1.4</td></tr><tr><td>ocid1.image.oc1.eu-paris-1.aaaaaaaaf7irdvozuzmwyvbfacdivomj52x65vr6tlg62i6er323sevazdqq</td><td>VM.Standard1.8</td></tr><tr><td>ocid1.image.oc1.eu-paris-1.aaaaaaaaf7irdvozuzmwyvbfacdivomj52x65vr6tlg62i6er323sevazdqq</td><td>VM.Standard2.1</td></tr><tr><td>ocid1.image.oc1.eu-paris-1.aaaaaaaaf7irdvozuzmwyvbfacdivomj52x65vr6tlg62i6er323sevazdqq</td><td>VM.Standard2.16</td></tr><tr><td>ocid1.image.oc1.eu-paris-1.aaaaaaaaf7irdvozuzmwyvbfacdivomj52x65vr6tlg62i6er323sevazdqq</td><td>VM.Standard2.2</td></tr><tr><td>ocid1.image.oc1.eu-paris-1.aaaaaaaaf7irdvozuzmwyvbfacdivomj52x65vr6tlg62i6er323sevazdqq</td><td>VM.Standard2.24</td></tr><tr><td>ocid1.image.oc1.eu-paris-1.aaaaaaaaf7irdvozuzmwyvbfacdivomj52x65vr6tlg62i6er323sevazdqq</td><td>VM.Standard2.4</td></tr><tr><td>ocid1.image.oc1.eu-paris-1.aaaaaaaaf7irdvozuzmwyvbfacdivomj52x65vr6tlg62i6er323sevazdqq</td><td>VM.Standard2.8</td></tr><tr><td>ocid1.image.oc1.eu-paris-1.aaaaaaaaf7irdvozuzmwyvbfacdivomj52x65vr6tlg62i6er323sevazdqq</td><td>VM.Standard2.Flex</td></tr><tr><td>ocid1.image.oc1.eu-paris-1.aaaaaaaaf7irdvozuzmwyvbfacdivomj52x65vr6tlg62i6er323sevazdqq</td><td>VM.Standard3.Flex</td></tr><tr><td>ocid1.image.oc1.eu-paris-1.aaaaaaaaf7irdvozuzmwyvbfacdivomj52x65vr6tlg62i6er323sevazdqq</td><td>BM.Standard.E2.64</td></tr><tr><td>ocid1.image.oc1.eu-paris-1.aaaaaaaaf7irdvozuzmwyvbfacdivomj52x65vr6tlg62i6er323sevazdqq</td><td>BM.Standard.E3.128</td></tr><tr><td>ocid1.image.oc1.eu-paris-1.aaaaaaaaf7irdvozuzmwyvbfacdivomj52x65vr6tlg62i6er323sevazdqq</td><td>BM.GPU4.8</td></tr><tr><td>ocid1.image.oc1.eu-paris-1.aaaaaaaaf7irdvozuzmwyvbfacdivomj52x65vr6tlg62i6er323sevazdqq</td><td>BM.Standard.E4.128</td></tr></tbody></table>"
      ]
     },
     "execution_count": 27,
     "metadata": {},
     "output_type": "execute_result"
    }
   ],
   "source": [
    "resultatVstack.filter(pl.col('imageId').eq(pl.lit(allImageIDs[1]))).head(5000)"
   ]
  },
  {
   "cell_type": "code",
   "execution_count": 29,
   "id": "ff5dbf20-5ac0-4c74-96ca-30987b3536ca",
   "metadata": {},
   "outputs": [
    {
     "data": {
      "application/vnd.dataresource+json": {
       "data": [
        {
         "imageId": "ocid1.image.oc1.eu-paris-1.aaaaaaaalvbkaoybngg572c4ybw47avoyv2vk4raeus2bg4hyrbfuq4hmcuq",
         "shape": "VM.DenseIO.E4.Flex"
        },
        {
         "imageId": "ocid1.image.oc1.eu-paris-1.aaaaaaaalvbkaoybngg572c4ybw47avoyv2vk4raeus2bg4hyrbfuq4hmcuq",
         "shape": "VM.DenseIO.E5.Flex"
        },
        {
         "imageId": "ocid1.image.oc1.eu-paris-1.aaaaaaaalvbkaoybngg572c4ybw47avoyv2vk4raeus2bg4hyrbfuq4hmcuq",
         "shape": "VM.DenseIO1.16"
        },
        {
         "imageId": "ocid1.image.oc1.eu-paris-1.aaaaaaaalvbkaoybngg572c4ybw47avoyv2vk4raeus2bg4hyrbfuq4hmcuq",
         "shape": "VM.DenseIO1.4"
        },
        {
         "imageId": "ocid1.image.oc1.eu-paris-1.aaaaaaaalvbkaoybngg572c4ybw47avoyv2vk4raeus2bg4hyrbfuq4hmcuq",
         "shape": "VM.DenseIO1.8"
        },
        {
         "imageId": "ocid1.image.oc1.eu-paris-1.aaaaaaaalvbkaoybngg572c4ybw47avoyv2vk4raeus2bg4hyrbfuq4hmcuq",
         "shape": "VM.DenseIO2.16"
        },
        {
         "imageId": "ocid1.image.oc1.eu-paris-1.aaaaaaaalvbkaoybngg572c4ybw47avoyv2vk4raeus2bg4hyrbfuq4hmcuq",
         "shape": "VM.DenseIO2.24"
        },
        {
         "imageId": "ocid1.image.oc1.eu-paris-1.aaaaaaaalvbkaoybngg572c4ybw47avoyv2vk4raeus2bg4hyrbfuq4hmcuq",
         "shape": "VM.DenseIO2.8"
        },
        {
         "imageId": "ocid1.image.oc1.eu-paris-1.aaaaaaaalvbkaoybngg572c4ybw47avoyv2vk4raeus2bg4hyrbfuq4hmcuq",
         "shape": "VM.GPU.A10.1"
        },
        {
         "imageId": "ocid1.image.oc1.eu-paris-1.aaaaaaaalvbkaoybngg572c4ybw47avoyv2vk4raeus2bg4hyrbfuq4hmcuq",
         "shape": "VM.GPU.A10.2"
        },
        {
         "imageId": "ocid1.image.oc1.eu-paris-1.aaaaaaaalvbkaoybngg572c4ybw47avoyv2vk4raeus2bg4hyrbfuq4hmcuq",
         "shape": "VM.GPU.GU1.1"
        },
        {
         "imageId": "ocid1.image.oc1.eu-paris-1.aaaaaaaalvbkaoybngg572c4ybw47avoyv2vk4raeus2bg4hyrbfuq4hmcuq",
         "shape": "VM.GPU.GU1.2"
        },
        {
         "imageId": "ocid1.image.oc1.eu-paris-1.aaaaaaaalvbkaoybngg572c4ybw47avoyv2vk4raeus2bg4hyrbfuq4hmcuq",
         "shape": "VM.GPU2.1"
        },
        {
         "imageId": "ocid1.image.oc1.eu-paris-1.aaaaaaaalvbkaoybngg572c4ybw47avoyv2vk4raeus2bg4hyrbfuq4hmcuq",
         "shape": "VM.GPU3.1"
        },
        {
         "imageId": "ocid1.image.oc1.eu-paris-1.aaaaaaaalvbkaoybngg572c4ybw47avoyv2vk4raeus2bg4hyrbfuq4hmcuq",
         "shape": "VM.GPU3.2"
        },
        {
         "imageId": "ocid1.image.oc1.eu-paris-1.aaaaaaaalvbkaoybngg572c4ybw47avoyv2vk4raeus2bg4hyrbfuq4hmcuq",
         "shape": "VM.GPU3.4"
        },
        {
         "imageId": "ocid1.image.oc1.eu-paris-1.aaaaaaaalvbkaoybngg572c4ybw47avoyv2vk4raeus2bg4hyrbfuq4hmcuq",
         "shape": "VM.Optimized3.Flex"
        },
        {
         "imageId": "ocid1.image.oc1.eu-paris-1.aaaaaaaalvbkaoybngg572c4ybw47avoyv2vk4raeus2bg4hyrbfuq4hmcuq",
         "shape": "VM.Standard.AMD.Generic"
        },
        {
         "imageId": "ocid1.image.oc1.eu-paris-1.aaaaaaaalvbkaoybngg572c4ybw47avoyv2vk4raeus2bg4hyrbfuq4hmcuq",
         "shape": "VM.Standard.E2.1"
        },
        {
         "imageId": "ocid1.image.oc1.eu-paris-1.aaaaaaaalvbkaoybngg572c4ybw47avoyv2vk4raeus2bg4hyrbfuq4hmcuq",
         "shape": "VM.Standard.E2.1.Micro"
        },
        {
         "imageId": "ocid1.image.oc1.eu-paris-1.aaaaaaaalvbkaoybngg572c4ybw47avoyv2vk4raeus2bg4hyrbfuq4hmcuq",
         "shape": "VM.Standard.E2.2"
        },
        {
         "imageId": "ocid1.image.oc1.eu-paris-1.aaaaaaaalvbkaoybngg572c4ybw47avoyv2vk4raeus2bg4hyrbfuq4hmcuq",
         "shape": "VM.Standard.E2.4"
        },
        {
         "imageId": "ocid1.image.oc1.eu-paris-1.aaaaaaaalvbkaoybngg572c4ybw47avoyv2vk4raeus2bg4hyrbfuq4hmcuq",
         "shape": "VM.Standard.E2.8"
        },
        {
         "imageId": "ocid1.image.oc1.eu-paris-1.aaaaaaaalvbkaoybngg572c4ybw47avoyv2vk4raeus2bg4hyrbfuq4hmcuq",
         "shape": "VM.Standard.E3.Flex"
        },
        {
         "imageId": "ocid1.image.oc1.eu-paris-1.aaaaaaaalvbkaoybngg572c4ybw47avoyv2vk4raeus2bg4hyrbfuq4hmcuq",
         "shape": "VM.Standard.E4.Flex"
        },
        {
         "imageId": "ocid1.image.oc1.eu-paris-1.aaaaaaaalvbkaoybngg572c4ybw47avoyv2vk4raeus2bg4hyrbfuq4hmcuq",
         "shape": "VM.Standard.E5.Flex"
        },
        {
         "imageId": "ocid1.image.oc1.eu-paris-1.aaaaaaaalvbkaoybngg572c4ybw47avoyv2vk4raeus2bg4hyrbfuq4hmcuq",
         "shape": "VM.Standard.Intel.Generic"
        },
        {
         "imageId": "ocid1.image.oc1.eu-paris-1.aaaaaaaalvbkaoybngg572c4ybw47avoyv2vk4raeus2bg4hyrbfuq4hmcuq",
         "shape": "VM.Standard.x86.Generic"
        },
        {
         "imageId": "ocid1.image.oc1.eu-paris-1.aaaaaaaalvbkaoybngg572c4ybw47avoyv2vk4raeus2bg4hyrbfuq4hmcuq",
         "shape": "VM.Standard1.1"
        },
        {
         "imageId": "ocid1.image.oc1.eu-paris-1.aaaaaaaalvbkaoybngg572c4ybw47avoyv2vk4raeus2bg4hyrbfuq4hmcuq",
         "shape": "VM.Standard1.16"
        },
        {
         "imageId": "ocid1.image.oc1.eu-paris-1.aaaaaaaalvbkaoybngg572c4ybw47avoyv2vk4raeus2bg4hyrbfuq4hmcuq",
         "shape": "VM.Standard1.2"
        },
        {
         "imageId": "ocid1.image.oc1.eu-paris-1.aaaaaaaalvbkaoybngg572c4ybw47avoyv2vk4raeus2bg4hyrbfuq4hmcuq",
         "shape": "VM.Standard1.4"
        },
        {
         "imageId": "ocid1.image.oc1.eu-paris-1.aaaaaaaalvbkaoybngg572c4ybw47avoyv2vk4raeus2bg4hyrbfuq4hmcuq",
         "shape": "VM.Standard1.8"
        },
        {
         "imageId": "ocid1.image.oc1.eu-paris-1.aaaaaaaalvbkaoybngg572c4ybw47avoyv2vk4raeus2bg4hyrbfuq4hmcuq",
         "shape": "VM.Standard2.1"
        },
        {
         "imageId": "ocid1.image.oc1.eu-paris-1.aaaaaaaalvbkaoybngg572c4ybw47avoyv2vk4raeus2bg4hyrbfuq4hmcuq",
         "shape": "VM.Standard2.16"
        },
        {
         "imageId": "ocid1.image.oc1.eu-paris-1.aaaaaaaalvbkaoybngg572c4ybw47avoyv2vk4raeus2bg4hyrbfuq4hmcuq",
         "shape": "VM.Standard2.2"
        },
        {
         "imageId": "ocid1.image.oc1.eu-paris-1.aaaaaaaalvbkaoybngg572c4ybw47avoyv2vk4raeus2bg4hyrbfuq4hmcuq",
         "shape": "VM.Standard2.24"
        },
        {
         "imageId": "ocid1.image.oc1.eu-paris-1.aaaaaaaalvbkaoybngg572c4ybw47avoyv2vk4raeus2bg4hyrbfuq4hmcuq",
         "shape": "VM.Standard2.4"
        },
        {
         "imageId": "ocid1.image.oc1.eu-paris-1.aaaaaaaalvbkaoybngg572c4ybw47avoyv2vk4raeus2bg4hyrbfuq4hmcuq",
         "shape": "VM.Standard2.8"
        },
        {
         "imageId": "ocid1.image.oc1.eu-paris-1.aaaaaaaalvbkaoybngg572c4ybw47avoyv2vk4raeus2bg4hyrbfuq4hmcuq",
         "shape": "VM.Standard2.Flex"
        },
        {
         "imageId": "ocid1.image.oc1.eu-paris-1.aaaaaaaalvbkaoybngg572c4ybw47avoyv2vk4raeus2bg4hyrbfuq4hmcuq",
         "shape": "VM.Standard3.Flex"
        },
        {
         "imageId": "ocid1.image.oc1.eu-paris-1.aaaaaaaalvbkaoybngg572c4ybw47avoyv2vk4raeus2bg4hyrbfuq4hmcuq",
         "shape": "BM.Standard.E2.64"
        },
        {
         "imageId": "ocid1.image.oc1.eu-paris-1.aaaaaaaalvbkaoybngg572c4ybw47avoyv2vk4raeus2bg4hyrbfuq4hmcuq",
         "shape": "BM.Standard.E3.128"
        },
        {
         "imageId": "ocid1.image.oc1.eu-paris-1.aaaaaaaalvbkaoybngg572c4ybw47avoyv2vk4raeus2bg4hyrbfuq4hmcuq",
         "shape": "BM.GPU4.8"
        },
        {
         "imageId": "ocid1.image.oc1.eu-paris-1.aaaaaaaalvbkaoybngg572c4ybw47avoyv2vk4raeus2bg4hyrbfuq4hmcuq",
         "shape": "BM.Standard.E4.128"
        },
        {
         "imageId": "ocid1.image.oc1.eu-paris-1.aaaaaaaalvbkaoybngg572c4ybw47avoyv2vk4raeus2bg4hyrbfuq4hmcuq",
         "shape": "BM.GPU.A100-v2.8"
        },
        {
         "imageId": "ocid1.image.oc1.eu-paris-1.aaaaaaaalvbkaoybngg572c4ybw47avoyv2vk4raeus2bg4hyrbfuq4hmcuq",
         "shape": "BM.DenseIO.E4.128"
        },
        {
         "imageId": "ocid1.image.oc1.eu-paris-1.aaaaaaaalvbkaoybngg572c4ybw47avoyv2vk4raeus2bg4hyrbfuq4hmcuq",
         "shape": "BM.DenseIO.E5.128"
        },
        {
         "imageId": "ocid1.image.oc1.eu-paris-1.aaaaaaaalvbkaoybngg572c4ybw47avoyv2vk4raeus2bg4hyrbfuq4hmcuq",
         "shape": "BM.Standard.E5.192"
        },
        {
         "imageId": "ocid1.image.oc1.eu-paris-1.aaaaaaaalvbkaoybngg572c4ybw47avoyv2vk4raeus2bg4hyrbfuq4hmcuq",
         "shape": "BM.Standard1.36"
        }
       ],
       "schema": {
        "fields": [
         {
          "name": "imageId",
          "type": "string"
         },
         {
          "name": "shape",
          "type": "string"
         }
        ]
       }
      },
      "text/html": [
       "<table><thead><tr><th>imageId</th><th>shape</th></tr></thead><tbody><tr><td>ocid1.image.oc1.eu-paris-1.aaaaaaaalvbkaoybngg572c4ybw47avoyv2vk4raeus2bg4hyrbfuq4hmcuq</td><td>VM.DenseIO.E4.Flex</td></tr><tr><td>ocid1.image.oc1.eu-paris-1.aaaaaaaalvbkaoybngg572c4ybw47avoyv2vk4raeus2bg4hyrbfuq4hmcuq</td><td>VM.DenseIO.E5.Flex</td></tr><tr><td>ocid1.image.oc1.eu-paris-1.aaaaaaaalvbkaoybngg572c4ybw47avoyv2vk4raeus2bg4hyrbfuq4hmcuq</td><td>VM.DenseIO1.16</td></tr><tr><td>ocid1.image.oc1.eu-paris-1.aaaaaaaalvbkaoybngg572c4ybw47avoyv2vk4raeus2bg4hyrbfuq4hmcuq</td><td>VM.DenseIO1.4</td></tr><tr><td>ocid1.image.oc1.eu-paris-1.aaaaaaaalvbkaoybngg572c4ybw47avoyv2vk4raeus2bg4hyrbfuq4hmcuq</td><td>VM.DenseIO1.8</td></tr><tr><td>ocid1.image.oc1.eu-paris-1.aaaaaaaalvbkaoybngg572c4ybw47avoyv2vk4raeus2bg4hyrbfuq4hmcuq</td><td>VM.DenseIO2.16</td></tr><tr><td>ocid1.image.oc1.eu-paris-1.aaaaaaaalvbkaoybngg572c4ybw47avoyv2vk4raeus2bg4hyrbfuq4hmcuq</td><td>VM.DenseIO2.24</td></tr><tr><td>ocid1.image.oc1.eu-paris-1.aaaaaaaalvbkaoybngg572c4ybw47avoyv2vk4raeus2bg4hyrbfuq4hmcuq</td><td>VM.DenseIO2.8</td></tr><tr><td>ocid1.image.oc1.eu-paris-1.aaaaaaaalvbkaoybngg572c4ybw47avoyv2vk4raeus2bg4hyrbfuq4hmcuq</td><td>VM.GPU.A10.1</td></tr><tr><td>ocid1.image.oc1.eu-paris-1.aaaaaaaalvbkaoybngg572c4ybw47avoyv2vk4raeus2bg4hyrbfuq4hmcuq</td><td>VM.GPU.A10.2</td></tr><tr><td>ocid1.image.oc1.eu-paris-1.aaaaaaaalvbkaoybngg572c4ybw47avoyv2vk4raeus2bg4hyrbfuq4hmcuq</td><td>VM.GPU.GU1.1</td></tr><tr><td>ocid1.image.oc1.eu-paris-1.aaaaaaaalvbkaoybngg572c4ybw47avoyv2vk4raeus2bg4hyrbfuq4hmcuq</td><td>VM.GPU.GU1.2</td></tr><tr><td>ocid1.image.oc1.eu-paris-1.aaaaaaaalvbkaoybngg572c4ybw47avoyv2vk4raeus2bg4hyrbfuq4hmcuq</td><td>VM.GPU2.1</td></tr><tr><td>ocid1.image.oc1.eu-paris-1.aaaaaaaalvbkaoybngg572c4ybw47avoyv2vk4raeus2bg4hyrbfuq4hmcuq</td><td>VM.GPU3.1</td></tr><tr><td>ocid1.image.oc1.eu-paris-1.aaaaaaaalvbkaoybngg572c4ybw47avoyv2vk4raeus2bg4hyrbfuq4hmcuq</td><td>VM.GPU3.2</td></tr><tr><td>ocid1.image.oc1.eu-paris-1.aaaaaaaalvbkaoybngg572c4ybw47avoyv2vk4raeus2bg4hyrbfuq4hmcuq</td><td>VM.GPU3.4</td></tr><tr><td>ocid1.image.oc1.eu-paris-1.aaaaaaaalvbkaoybngg572c4ybw47avoyv2vk4raeus2bg4hyrbfuq4hmcuq</td><td>VM.Optimized3.Flex</td></tr><tr><td>ocid1.image.oc1.eu-paris-1.aaaaaaaalvbkaoybngg572c4ybw47avoyv2vk4raeus2bg4hyrbfuq4hmcuq</td><td>VM.Standard.AMD.Generic</td></tr><tr><td>ocid1.image.oc1.eu-paris-1.aaaaaaaalvbkaoybngg572c4ybw47avoyv2vk4raeus2bg4hyrbfuq4hmcuq</td><td>VM.Standard.E2.1</td></tr><tr><td>ocid1.image.oc1.eu-paris-1.aaaaaaaalvbkaoybngg572c4ybw47avoyv2vk4raeus2bg4hyrbfuq4hmcuq</td><td>VM.Standard.E2.1.Micro</td></tr><tr><td>ocid1.image.oc1.eu-paris-1.aaaaaaaalvbkaoybngg572c4ybw47avoyv2vk4raeus2bg4hyrbfuq4hmcuq</td><td>VM.Standard.E2.2</td></tr><tr><td>ocid1.image.oc1.eu-paris-1.aaaaaaaalvbkaoybngg572c4ybw47avoyv2vk4raeus2bg4hyrbfuq4hmcuq</td><td>VM.Standard.E2.4</td></tr><tr><td>ocid1.image.oc1.eu-paris-1.aaaaaaaalvbkaoybngg572c4ybw47avoyv2vk4raeus2bg4hyrbfuq4hmcuq</td><td>VM.Standard.E2.8</td></tr><tr><td>ocid1.image.oc1.eu-paris-1.aaaaaaaalvbkaoybngg572c4ybw47avoyv2vk4raeus2bg4hyrbfuq4hmcuq</td><td>VM.Standard.E3.Flex</td></tr><tr><td>ocid1.image.oc1.eu-paris-1.aaaaaaaalvbkaoybngg572c4ybw47avoyv2vk4raeus2bg4hyrbfuq4hmcuq</td><td>VM.Standard.E4.Flex</td></tr><tr><td>ocid1.image.oc1.eu-paris-1.aaaaaaaalvbkaoybngg572c4ybw47avoyv2vk4raeus2bg4hyrbfuq4hmcuq</td><td>VM.Standard.E5.Flex</td></tr><tr><td>ocid1.image.oc1.eu-paris-1.aaaaaaaalvbkaoybngg572c4ybw47avoyv2vk4raeus2bg4hyrbfuq4hmcuq</td><td>VM.Standard.Intel.Generic</td></tr><tr><td>ocid1.image.oc1.eu-paris-1.aaaaaaaalvbkaoybngg572c4ybw47avoyv2vk4raeus2bg4hyrbfuq4hmcuq</td><td>VM.Standard.x86.Generic</td></tr><tr><td>ocid1.image.oc1.eu-paris-1.aaaaaaaalvbkaoybngg572c4ybw47avoyv2vk4raeus2bg4hyrbfuq4hmcuq</td><td>VM.Standard1.1</td></tr><tr><td>ocid1.image.oc1.eu-paris-1.aaaaaaaalvbkaoybngg572c4ybw47avoyv2vk4raeus2bg4hyrbfuq4hmcuq</td><td>VM.Standard1.16</td></tr><tr><td>ocid1.image.oc1.eu-paris-1.aaaaaaaalvbkaoybngg572c4ybw47avoyv2vk4raeus2bg4hyrbfuq4hmcuq</td><td>VM.Standard1.2</td></tr><tr><td>ocid1.image.oc1.eu-paris-1.aaaaaaaalvbkaoybngg572c4ybw47avoyv2vk4raeus2bg4hyrbfuq4hmcuq</td><td>VM.Standard1.4</td></tr><tr><td>ocid1.image.oc1.eu-paris-1.aaaaaaaalvbkaoybngg572c4ybw47avoyv2vk4raeus2bg4hyrbfuq4hmcuq</td><td>VM.Standard1.8</td></tr><tr><td>ocid1.image.oc1.eu-paris-1.aaaaaaaalvbkaoybngg572c4ybw47avoyv2vk4raeus2bg4hyrbfuq4hmcuq</td><td>VM.Standard2.1</td></tr><tr><td>ocid1.image.oc1.eu-paris-1.aaaaaaaalvbkaoybngg572c4ybw47avoyv2vk4raeus2bg4hyrbfuq4hmcuq</td><td>VM.Standard2.16</td></tr><tr><td>ocid1.image.oc1.eu-paris-1.aaaaaaaalvbkaoybngg572c4ybw47avoyv2vk4raeus2bg4hyrbfuq4hmcuq</td><td>VM.Standard2.2</td></tr><tr><td>ocid1.image.oc1.eu-paris-1.aaaaaaaalvbkaoybngg572c4ybw47avoyv2vk4raeus2bg4hyrbfuq4hmcuq</td><td>VM.Standard2.24</td></tr><tr><td>ocid1.image.oc1.eu-paris-1.aaaaaaaalvbkaoybngg572c4ybw47avoyv2vk4raeus2bg4hyrbfuq4hmcuq</td><td>VM.Standard2.4</td></tr><tr><td>ocid1.image.oc1.eu-paris-1.aaaaaaaalvbkaoybngg572c4ybw47avoyv2vk4raeus2bg4hyrbfuq4hmcuq</td><td>VM.Standard2.8</td></tr><tr><td>ocid1.image.oc1.eu-paris-1.aaaaaaaalvbkaoybngg572c4ybw47avoyv2vk4raeus2bg4hyrbfuq4hmcuq</td><td>VM.Standard2.Flex</td></tr><tr><td>ocid1.image.oc1.eu-paris-1.aaaaaaaalvbkaoybngg572c4ybw47avoyv2vk4raeus2bg4hyrbfuq4hmcuq</td><td>VM.Standard3.Flex</td></tr><tr><td>ocid1.image.oc1.eu-paris-1.aaaaaaaalvbkaoybngg572c4ybw47avoyv2vk4raeus2bg4hyrbfuq4hmcuq</td><td>BM.Standard.E2.64</td></tr><tr><td>ocid1.image.oc1.eu-paris-1.aaaaaaaalvbkaoybngg572c4ybw47avoyv2vk4raeus2bg4hyrbfuq4hmcuq</td><td>BM.Standard.E3.128</td></tr><tr><td>ocid1.image.oc1.eu-paris-1.aaaaaaaalvbkaoybngg572c4ybw47avoyv2vk4raeus2bg4hyrbfuq4hmcuq</td><td>BM.GPU4.8</td></tr><tr><td>ocid1.image.oc1.eu-paris-1.aaaaaaaalvbkaoybngg572c4ybw47avoyv2vk4raeus2bg4hyrbfuq4hmcuq</td><td>BM.Standard.E4.128</td></tr><tr><td>ocid1.image.oc1.eu-paris-1.aaaaaaaalvbkaoybngg572c4ybw47avoyv2vk4raeus2bg4hyrbfuq4hmcuq</td><td>BM.GPU.A100-v2.8</td></tr><tr><td>ocid1.image.oc1.eu-paris-1.aaaaaaaalvbkaoybngg572c4ybw47avoyv2vk4raeus2bg4hyrbfuq4hmcuq</td><td>BM.DenseIO.E4.128</td></tr><tr><td>ocid1.image.oc1.eu-paris-1.aaaaaaaalvbkaoybngg572c4ybw47avoyv2vk4raeus2bg4hyrbfuq4hmcuq</td><td>BM.DenseIO.E5.128</td></tr><tr><td>ocid1.image.oc1.eu-paris-1.aaaaaaaalvbkaoybngg572c4ybw47avoyv2vk4raeus2bg4hyrbfuq4hmcuq</td><td>BM.Standard.E5.192</td></tr><tr><td>ocid1.image.oc1.eu-paris-1.aaaaaaaalvbkaoybngg572c4ybw47avoyv2vk4raeus2bg4hyrbfuq4hmcuq</td><td>BM.Standard1.36</td></tr></tbody></table>"
      ]
     },
     "execution_count": 29,
     "metadata": {},
     "output_type": "execute_result"
    }
   ],
   "source": [
    "resultatVstack.select(pl.col('imageId'), pl.col('shape')).head(5000)"
   ]
  },
  {
   "cell_type": "code",
   "execution_count": 30,
   "id": "a45b1041-286d-443a-902c-ca5a7ac9bf17",
   "metadata": {},
   "outputs": [
    {
     "data": {
      "application/vnd.dataresource+json": {
       "data": [
        {
         "imageId": "ocid1.image.oc1.eu-paris-1.aaaaaaaalvbkaoybngg572c4ybw47avoyv2vk4raeus2bg4hyrbfuq4hmcuq",
         "shape": "VM.DenseIO.E4.Flex"
        },
        {
         "imageId": "ocid1.image.oc1.eu-paris-1.aaaaaaaalvbkaoybngg572c4ybw47avoyv2vk4raeus2bg4hyrbfuq4hmcuq",
         "shape": "VM.DenseIO.E5.Flex"
        },
        {
         "imageId": "ocid1.image.oc1.eu-paris-1.aaaaaaaalvbkaoybngg572c4ybw47avoyv2vk4raeus2bg4hyrbfuq4hmcuq",
         "shape": "VM.DenseIO1.16"
        },
        {
         "imageId": "ocid1.image.oc1.eu-paris-1.aaaaaaaalvbkaoybngg572c4ybw47avoyv2vk4raeus2bg4hyrbfuq4hmcuq",
         "shape": "VM.DenseIO1.4"
        },
        {
         "imageId": "ocid1.image.oc1.eu-paris-1.aaaaaaaalvbkaoybngg572c4ybw47avoyv2vk4raeus2bg4hyrbfuq4hmcuq",
         "shape": "VM.DenseIO1.8"
        },
        {
         "imageId": "ocid1.image.oc1.eu-paris-1.aaaaaaaalvbkaoybngg572c4ybw47avoyv2vk4raeus2bg4hyrbfuq4hmcuq",
         "shape": "VM.DenseIO2.16"
        },
        {
         "imageId": "ocid1.image.oc1.eu-paris-1.aaaaaaaalvbkaoybngg572c4ybw47avoyv2vk4raeus2bg4hyrbfuq4hmcuq",
         "shape": "VM.DenseIO2.24"
        },
        {
         "imageId": "ocid1.image.oc1.eu-paris-1.aaaaaaaalvbkaoybngg572c4ybw47avoyv2vk4raeus2bg4hyrbfuq4hmcuq",
         "shape": "VM.DenseIO2.8"
        },
        {
         "imageId": "ocid1.image.oc1.eu-paris-1.aaaaaaaalvbkaoybngg572c4ybw47avoyv2vk4raeus2bg4hyrbfuq4hmcuq",
         "shape": "VM.GPU.A10.1"
        },
        {
         "imageId": "ocid1.image.oc1.eu-paris-1.aaaaaaaalvbkaoybngg572c4ybw47avoyv2vk4raeus2bg4hyrbfuq4hmcuq",
         "shape": "VM.GPU.A10.2"
        },
        {
         "imageId": "ocid1.image.oc1.eu-paris-1.aaaaaaaalvbkaoybngg572c4ybw47avoyv2vk4raeus2bg4hyrbfuq4hmcuq",
         "shape": "VM.GPU.GU1.1"
        },
        {
         "imageId": "ocid1.image.oc1.eu-paris-1.aaaaaaaalvbkaoybngg572c4ybw47avoyv2vk4raeus2bg4hyrbfuq4hmcuq",
         "shape": "VM.GPU.GU1.2"
        },
        {
         "imageId": "ocid1.image.oc1.eu-paris-1.aaaaaaaalvbkaoybngg572c4ybw47avoyv2vk4raeus2bg4hyrbfuq4hmcuq",
         "shape": "VM.GPU2.1"
        },
        {
         "imageId": "ocid1.image.oc1.eu-paris-1.aaaaaaaalvbkaoybngg572c4ybw47avoyv2vk4raeus2bg4hyrbfuq4hmcuq",
         "shape": "VM.GPU3.1"
        },
        {
         "imageId": "ocid1.image.oc1.eu-paris-1.aaaaaaaalvbkaoybngg572c4ybw47avoyv2vk4raeus2bg4hyrbfuq4hmcuq",
         "shape": "VM.GPU3.2"
        },
        {
         "imageId": "ocid1.image.oc1.eu-paris-1.aaaaaaaalvbkaoybngg572c4ybw47avoyv2vk4raeus2bg4hyrbfuq4hmcuq",
         "shape": "VM.GPU3.4"
        },
        {
         "imageId": "ocid1.image.oc1.eu-paris-1.aaaaaaaalvbkaoybngg572c4ybw47avoyv2vk4raeus2bg4hyrbfuq4hmcuq",
         "shape": "VM.Optimized3.Flex"
        },
        {
         "imageId": "ocid1.image.oc1.eu-paris-1.aaaaaaaalvbkaoybngg572c4ybw47avoyv2vk4raeus2bg4hyrbfuq4hmcuq",
         "shape": "VM.Standard.AMD.Generic"
        },
        {
         "imageId": "ocid1.image.oc1.eu-paris-1.aaaaaaaalvbkaoybngg572c4ybw47avoyv2vk4raeus2bg4hyrbfuq4hmcuq",
         "shape": "VM.Standard.E2.1"
        },
        {
         "imageId": "ocid1.image.oc1.eu-paris-1.aaaaaaaalvbkaoybngg572c4ybw47avoyv2vk4raeus2bg4hyrbfuq4hmcuq",
         "shape": "VM.Standard.E2.1.Micro"
        },
        {
         "imageId": "ocid1.image.oc1.eu-paris-1.aaaaaaaalvbkaoybngg572c4ybw47avoyv2vk4raeus2bg4hyrbfuq4hmcuq",
         "shape": "VM.Standard.E2.2"
        },
        {
         "imageId": "ocid1.image.oc1.eu-paris-1.aaaaaaaalvbkaoybngg572c4ybw47avoyv2vk4raeus2bg4hyrbfuq4hmcuq",
         "shape": "VM.Standard.E2.4"
        },
        {
         "imageId": "ocid1.image.oc1.eu-paris-1.aaaaaaaalvbkaoybngg572c4ybw47avoyv2vk4raeus2bg4hyrbfuq4hmcuq",
         "shape": "VM.Standard.E2.8"
        },
        {
         "imageId": "ocid1.image.oc1.eu-paris-1.aaaaaaaalvbkaoybngg572c4ybw47avoyv2vk4raeus2bg4hyrbfuq4hmcuq",
         "shape": "VM.Standard.E3.Flex"
        },
        {
         "imageId": "ocid1.image.oc1.eu-paris-1.aaaaaaaalvbkaoybngg572c4ybw47avoyv2vk4raeus2bg4hyrbfuq4hmcuq",
         "shape": "VM.Standard.E4.Flex"
        },
        {
         "imageId": "ocid1.image.oc1.eu-paris-1.aaaaaaaalvbkaoybngg572c4ybw47avoyv2vk4raeus2bg4hyrbfuq4hmcuq",
         "shape": "VM.Standard.E5.Flex"
        },
        {
         "imageId": "ocid1.image.oc1.eu-paris-1.aaaaaaaalvbkaoybngg572c4ybw47avoyv2vk4raeus2bg4hyrbfuq4hmcuq",
         "shape": "VM.Standard.Intel.Generic"
        },
        {
         "imageId": "ocid1.image.oc1.eu-paris-1.aaaaaaaalvbkaoybngg572c4ybw47avoyv2vk4raeus2bg4hyrbfuq4hmcuq",
         "shape": "VM.Standard.x86.Generic"
        },
        {
         "imageId": "ocid1.image.oc1.eu-paris-1.aaaaaaaalvbkaoybngg572c4ybw47avoyv2vk4raeus2bg4hyrbfuq4hmcuq",
         "shape": "VM.Standard1.1"
        },
        {
         "imageId": "ocid1.image.oc1.eu-paris-1.aaaaaaaalvbkaoybngg572c4ybw47avoyv2vk4raeus2bg4hyrbfuq4hmcuq",
         "shape": "VM.Standard1.16"
        },
        {
         "imageId": "ocid1.image.oc1.eu-paris-1.aaaaaaaalvbkaoybngg572c4ybw47avoyv2vk4raeus2bg4hyrbfuq4hmcuq",
         "shape": "VM.Standard1.2"
        },
        {
         "imageId": "ocid1.image.oc1.eu-paris-1.aaaaaaaalvbkaoybngg572c4ybw47avoyv2vk4raeus2bg4hyrbfuq4hmcuq",
         "shape": "VM.Standard1.4"
        },
        {
         "imageId": "ocid1.image.oc1.eu-paris-1.aaaaaaaalvbkaoybngg572c4ybw47avoyv2vk4raeus2bg4hyrbfuq4hmcuq",
         "shape": "VM.Standard1.8"
        },
        {
         "imageId": "ocid1.image.oc1.eu-paris-1.aaaaaaaalvbkaoybngg572c4ybw47avoyv2vk4raeus2bg4hyrbfuq4hmcuq",
         "shape": "VM.Standard2.1"
        },
        {
         "imageId": "ocid1.image.oc1.eu-paris-1.aaaaaaaalvbkaoybngg572c4ybw47avoyv2vk4raeus2bg4hyrbfuq4hmcuq",
         "shape": "VM.Standard2.16"
        },
        {
         "imageId": "ocid1.image.oc1.eu-paris-1.aaaaaaaalvbkaoybngg572c4ybw47avoyv2vk4raeus2bg4hyrbfuq4hmcuq",
         "shape": "VM.Standard2.2"
        },
        {
         "imageId": "ocid1.image.oc1.eu-paris-1.aaaaaaaalvbkaoybngg572c4ybw47avoyv2vk4raeus2bg4hyrbfuq4hmcuq",
         "shape": "VM.Standard2.24"
        },
        {
         "imageId": "ocid1.image.oc1.eu-paris-1.aaaaaaaalvbkaoybngg572c4ybw47avoyv2vk4raeus2bg4hyrbfuq4hmcuq",
         "shape": "VM.Standard2.4"
        },
        {
         "imageId": "ocid1.image.oc1.eu-paris-1.aaaaaaaalvbkaoybngg572c4ybw47avoyv2vk4raeus2bg4hyrbfuq4hmcuq",
         "shape": "VM.Standard2.8"
        },
        {
         "imageId": "ocid1.image.oc1.eu-paris-1.aaaaaaaalvbkaoybngg572c4ybw47avoyv2vk4raeus2bg4hyrbfuq4hmcuq",
         "shape": "VM.Standard2.Flex"
        },
        {
         "imageId": "ocid1.image.oc1.eu-paris-1.aaaaaaaalvbkaoybngg572c4ybw47avoyv2vk4raeus2bg4hyrbfuq4hmcuq",
         "shape": "VM.Standard3.Flex"
        },
        {
         "imageId": "ocid1.image.oc1.eu-paris-1.aaaaaaaalvbkaoybngg572c4ybw47avoyv2vk4raeus2bg4hyrbfuq4hmcuq",
         "shape": "BM.Standard.E2.64"
        },
        {
         "imageId": "ocid1.image.oc1.eu-paris-1.aaaaaaaalvbkaoybngg572c4ybw47avoyv2vk4raeus2bg4hyrbfuq4hmcuq",
         "shape": "BM.Standard.E3.128"
        },
        {
         "imageId": "ocid1.image.oc1.eu-paris-1.aaaaaaaalvbkaoybngg572c4ybw47avoyv2vk4raeus2bg4hyrbfuq4hmcuq",
         "shape": "BM.GPU4.8"
        },
        {
         "imageId": "ocid1.image.oc1.eu-paris-1.aaaaaaaalvbkaoybngg572c4ybw47avoyv2vk4raeus2bg4hyrbfuq4hmcuq",
         "shape": "BM.Standard.E4.128"
        },
        {
         "imageId": "ocid1.image.oc1.eu-paris-1.aaaaaaaalvbkaoybngg572c4ybw47avoyv2vk4raeus2bg4hyrbfuq4hmcuq",
         "shape": "BM.GPU.A100-v2.8"
        },
        {
         "imageId": "ocid1.image.oc1.eu-paris-1.aaaaaaaalvbkaoybngg572c4ybw47avoyv2vk4raeus2bg4hyrbfuq4hmcuq",
         "shape": "BM.DenseIO.E4.128"
        },
        {
         "imageId": "ocid1.image.oc1.eu-paris-1.aaaaaaaalvbkaoybngg572c4ybw47avoyv2vk4raeus2bg4hyrbfuq4hmcuq",
         "shape": "BM.DenseIO.E5.128"
        },
        {
         "imageId": "ocid1.image.oc1.eu-paris-1.aaaaaaaalvbkaoybngg572c4ybw47avoyv2vk4raeus2bg4hyrbfuq4hmcuq",
         "shape": "BM.Standard.E5.192"
        },
        {
         "imageId": "ocid1.image.oc1.eu-paris-1.aaaaaaaalvbkaoybngg572c4ybw47avoyv2vk4raeus2bg4hyrbfuq4hmcuq",
         "shape": "BM.Standard1.36"
        }
       ],
       "schema": {
        "fields": [
         {
          "name": "imageId",
          "type": "string"
         },
         {
          "name": "shape",
          "type": "string"
         }
        ]
       }
      },
      "text/html": [
       "<table><thead><tr><th>imageId</th><th>shape</th></tr></thead><tbody><tr><td>ocid1.image.oc1.eu-paris-1.aaaaaaaalvbkaoybngg572c4ybw47avoyv2vk4raeus2bg4hyrbfuq4hmcuq</td><td>VM.DenseIO.E4.Flex</td></tr><tr><td>ocid1.image.oc1.eu-paris-1.aaaaaaaalvbkaoybngg572c4ybw47avoyv2vk4raeus2bg4hyrbfuq4hmcuq</td><td>VM.DenseIO.E5.Flex</td></tr><tr><td>ocid1.image.oc1.eu-paris-1.aaaaaaaalvbkaoybngg572c4ybw47avoyv2vk4raeus2bg4hyrbfuq4hmcuq</td><td>VM.DenseIO1.16</td></tr><tr><td>ocid1.image.oc1.eu-paris-1.aaaaaaaalvbkaoybngg572c4ybw47avoyv2vk4raeus2bg4hyrbfuq4hmcuq</td><td>VM.DenseIO1.4</td></tr><tr><td>ocid1.image.oc1.eu-paris-1.aaaaaaaalvbkaoybngg572c4ybw47avoyv2vk4raeus2bg4hyrbfuq4hmcuq</td><td>VM.DenseIO1.8</td></tr><tr><td>ocid1.image.oc1.eu-paris-1.aaaaaaaalvbkaoybngg572c4ybw47avoyv2vk4raeus2bg4hyrbfuq4hmcuq</td><td>VM.DenseIO2.16</td></tr><tr><td>ocid1.image.oc1.eu-paris-1.aaaaaaaalvbkaoybngg572c4ybw47avoyv2vk4raeus2bg4hyrbfuq4hmcuq</td><td>VM.DenseIO2.24</td></tr><tr><td>ocid1.image.oc1.eu-paris-1.aaaaaaaalvbkaoybngg572c4ybw47avoyv2vk4raeus2bg4hyrbfuq4hmcuq</td><td>VM.DenseIO2.8</td></tr><tr><td>ocid1.image.oc1.eu-paris-1.aaaaaaaalvbkaoybngg572c4ybw47avoyv2vk4raeus2bg4hyrbfuq4hmcuq</td><td>VM.GPU.A10.1</td></tr><tr><td>ocid1.image.oc1.eu-paris-1.aaaaaaaalvbkaoybngg572c4ybw47avoyv2vk4raeus2bg4hyrbfuq4hmcuq</td><td>VM.GPU.A10.2</td></tr><tr><td>ocid1.image.oc1.eu-paris-1.aaaaaaaalvbkaoybngg572c4ybw47avoyv2vk4raeus2bg4hyrbfuq4hmcuq</td><td>VM.GPU.GU1.1</td></tr><tr><td>ocid1.image.oc1.eu-paris-1.aaaaaaaalvbkaoybngg572c4ybw47avoyv2vk4raeus2bg4hyrbfuq4hmcuq</td><td>VM.GPU.GU1.2</td></tr><tr><td>ocid1.image.oc1.eu-paris-1.aaaaaaaalvbkaoybngg572c4ybw47avoyv2vk4raeus2bg4hyrbfuq4hmcuq</td><td>VM.GPU2.1</td></tr><tr><td>ocid1.image.oc1.eu-paris-1.aaaaaaaalvbkaoybngg572c4ybw47avoyv2vk4raeus2bg4hyrbfuq4hmcuq</td><td>VM.GPU3.1</td></tr><tr><td>ocid1.image.oc1.eu-paris-1.aaaaaaaalvbkaoybngg572c4ybw47avoyv2vk4raeus2bg4hyrbfuq4hmcuq</td><td>VM.GPU3.2</td></tr><tr><td>ocid1.image.oc1.eu-paris-1.aaaaaaaalvbkaoybngg572c4ybw47avoyv2vk4raeus2bg4hyrbfuq4hmcuq</td><td>VM.GPU3.4</td></tr><tr><td>ocid1.image.oc1.eu-paris-1.aaaaaaaalvbkaoybngg572c4ybw47avoyv2vk4raeus2bg4hyrbfuq4hmcuq</td><td>VM.Optimized3.Flex</td></tr><tr><td>ocid1.image.oc1.eu-paris-1.aaaaaaaalvbkaoybngg572c4ybw47avoyv2vk4raeus2bg4hyrbfuq4hmcuq</td><td>VM.Standard.AMD.Generic</td></tr><tr><td>ocid1.image.oc1.eu-paris-1.aaaaaaaalvbkaoybngg572c4ybw47avoyv2vk4raeus2bg4hyrbfuq4hmcuq</td><td>VM.Standard.E2.1</td></tr><tr><td>ocid1.image.oc1.eu-paris-1.aaaaaaaalvbkaoybngg572c4ybw47avoyv2vk4raeus2bg4hyrbfuq4hmcuq</td><td>VM.Standard.E2.1.Micro</td></tr><tr><td>ocid1.image.oc1.eu-paris-1.aaaaaaaalvbkaoybngg572c4ybw47avoyv2vk4raeus2bg4hyrbfuq4hmcuq</td><td>VM.Standard.E2.2</td></tr><tr><td>ocid1.image.oc1.eu-paris-1.aaaaaaaalvbkaoybngg572c4ybw47avoyv2vk4raeus2bg4hyrbfuq4hmcuq</td><td>VM.Standard.E2.4</td></tr><tr><td>ocid1.image.oc1.eu-paris-1.aaaaaaaalvbkaoybngg572c4ybw47avoyv2vk4raeus2bg4hyrbfuq4hmcuq</td><td>VM.Standard.E2.8</td></tr><tr><td>ocid1.image.oc1.eu-paris-1.aaaaaaaalvbkaoybngg572c4ybw47avoyv2vk4raeus2bg4hyrbfuq4hmcuq</td><td>VM.Standard.E3.Flex</td></tr><tr><td>ocid1.image.oc1.eu-paris-1.aaaaaaaalvbkaoybngg572c4ybw47avoyv2vk4raeus2bg4hyrbfuq4hmcuq</td><td>VM.Standard.E4.Flex</td></tr><tr><td>ocid1.image.oc1.eu-paris-1.aaaaaaaalvbkaoybngg572c4ybw47avoyv2vk4raeus2bg4hyrbfuq4hmcuq</td><td>VM.Standard.E5.Flex</td></tr><tr><td>ocid1.image.oc1.eu-paris-1.aaaaaaaalvbkaoybngg572c4ybw47avoyv2vk4raeus2bg4hyrbfuq4hmcuq</td><td>VM.Standard.Intel.Generic</td></tr><tr><td>ocid1.image.oc1.eu-paris-1.aaaaaaaalvbkaoybngg572c4ybw47avoyv2vk4raeus2bg4hyrbfuq4hmcuq</td><td>VM.Standard.x86.Generic</td></tr><tr><td>ocid1.image.oc1.eu-paris-1.aaaaaaaalvbkaoybngg572c4ybw47avoyv2vk4raeus2bg4hyrbfuq4hmcuq</td><td>VM.Standard1.1</td></tr><tr><td>ocid1.image.oc1.eu-paris-1.aaaaaaaalvbkaoybngg572c4ybw47avoyv2vk4raeus2bg4hyrbfuq4hmcuq</td><td>VM.Standard1.16</td></tr><tr><td>ocid1.image.oc1.eu-paris-1.aaaaaaaalvbkaoybngg572c4ybw47avoyv2vk4raeus2bg4hyrbfuq4hmcuq</td><td>VM.Standard1.2</td></tr><tr><td>ocid1.image.oc1.eu-paris-1.aaaaaaaalvbkaoybngg572c4ybw47avoyv2vk4raeus2bg4hyrbfuq4hmcuq</td><td>VM.Standard1.4</td></tr><tr><td>ocid1.image.oc1.eu-paris-1.aaaaaaaalvbkaoybngg572c4ybw47avoyv2vk4raeus2bg4hyrbfuq4hmcuq</td><td>VM.Standard1.8</td></tr><tr><td>ocid1.image.oc1.eu-paris-1.aaaaaaaalvbkaoybngg572c4ybw47avoyv2vk4raeus2bg4hyrbfuq4hmcuq</td><td>VM.Standard2.1</td></tr><tr><td>ocid1.image.oc1.eu-paris-1.aaaaaaaalvbkaoybngg572c4ybw47avoyv2vk4raeus2bg4hyrbfuq4hmcuq</td><td>VM.Standard2.16</td></tr><tr><td>ocid1.image.oc1.eu-paris-1.aaaaaaaalvbkaoybngg572c4ybw47avoyv2vk4raeus2bg4hyrbfuq4hmcuq</td><td>VM.Standard2.2</td></tr><tr><td>ocid1.image.oc1.eu-paris-1.aaaaaaaalvbkaoybngg572c4ybw47avoyv2vk4raeus2bg4hyrbfuq4hmcuq</td><td>VM.Standard2.24</td></tr><tr><td>ocid1.image.oc1.eu-paris-1.aaaaaaaalvbkaoybngg572c4ybw47avoyv2vk4raeus2bg4hyrbfuq4hmcuq</td><td>VM.Standard2.4</td></tr><tr><td>ocid1.image.oc1.eu-paris-1.aaaaaaaalvbkaoybngg572c4ybw47avoyv2vk4raeus2bg4hyrbfuq4hmcuq</td><td>VM.Standard2.8</td></tr><tr><td>ocid1.image.oc1.eu-paris-1.aaaaaaaalvbkaoybngg572c4ybw47avoyv2vk4raeus2bg4hyrbfuq4hmcuq</td><td>VM.Standard2.Flex</td></tr><tr><td>ocid1.image.oc1.eu-paris-1.aaaaaaaalvbkaoybngg572c4ybw47avoyv2vk4raeus2bg4hyrbfuq4hmcuq</td><td>VM.Standard3.Flex</td></tr><tr><td>ocid1.image.oc1.eu-paris-1.aaaaaaaalvbkaoybngg572c4ybw47avoyv2vk4raeus2bg4hyrbfuq4hmcuq</td><td>BM.Standard.E2.64</td></tr><tr><td>ocid1.image.oc1.eu-paris-1.aaaaaaaalvbkaoybngg572c4ybw47avoyv2vk4raeus2bg4hyrbfuq4hmcuq</td><td>BM.Standard.E3.128</td></tr><tr><td>ocid1.image.oc1.eu-paris-1.aaaaaaaalvbkaoybngg572c4ybw47avoyv2vk4raeus2bg4hyrbfuq4hmcuq</td><td>BM.GPU4.8</td></tr><tr><td>ocid1.image.oc1.eu-paris-1.aaaaaaaalvbkaoybngg572c4ybw47avoyv2vk4raeus2bg4hyrbfuq4hmcuq</td><td>BM.Standard.E4.128</td></tr><tr><td>ocid1.image.oc1.eu-paris-1.aaaaaaaalvbkaoybngg572c4ybw47avoyv2vk4raeus2bg4hyrbfuq4hmcuq</td><td>BM.GPU.A100-v2.8</td></tr><tr><td>ocid1.image.oc1.eu-paris-1.aaaaaaaalvbkaoybngg572c4ybw47avoyv2vk4raeus2bg4hyrbfuq4hmcuq</td><td>BM.DenseIO.E4.128</td></tr><tr><td>ocid1.image.oc1.eu-paris-1.aaaaaaaalvbkaoybngg572c4ybw47avoyv2vk4raeus2bg4hyrbfuq4hmcuq</td><td>BM.DenseIO.E5.128</td></tr><tr><td>ocid1.image.oc1.eu-paris-1.aaaaaaaalvbkaoybngg572c4ybw47avoyv2vk4raeus2bg4hyrbfuq4hmcuq</td><td>BM.Standard.E5.192</td></tr><tr><td>ocid1.image.oc1.eu-paris-1.aaaaaaaalvbkaoybngg572c4ybw47avoyv2vk4raeus2bg4hyrbfuq4hmcuq</td><td>BM.Standard1.36</td></tr></tbody></table>"
      ]
     },
     "execution_count": 30,
     "metadata": {},
     "output_type": "execute_result"
    }
   ],
   "source": [
    "resultatVstack.filter(pl.col('imageId').eq(pl.lit(allImageIDs[1])).or(pl.col('imageId').eq(pl.lit(allImageIDs[0]))))"
   ]
  },
  {
   "cell_type": "code",
   "execution_count": 33,
   "id": "677dfbb9-8a4f-4933-a380-e281a3c60ade",
   "metadata": {},
   "outputs": [
    {
     "data": {
      "application/vnd.dataresource+json": {
       "data": [
        {
         "imageId": "ocid1.image.oc1.eu-paris-1.aaaaaaaaf7irdvozuzmwyvbfacdivomj52x65vr6tlg62i6er323sevazdqq",
         "shape": "VM.DenseIO.E4.Flex"
        },
        {
         "imageId": "ocid1.image.oc1.eu-paris-1.aaaaaaaaf7irdvozuzmwyvbfacdivomj52x65vr6tlg62i6er323sevazdqq",
         "shape": "VM.DenseIO.E5.Flex"
        },
        {
         "imageId": "ocid1.image.oc1.eu-paris-1.aaaaaaaaf7irdvozuzmwyvbfacdivomj52x65vr6tlg62i6er323sevazdqq",
         "shape": "VM.DenseIO1.16"
        },
        {
         "imageId": "ocid1.image.oc1.eu-paris-1.aaaaaaaaf7irdvozuzmwyvbfacdivomj52x65vr6tlg62i6er323sevazdqq",
         "shape": "VM.DenseIO1.4"
        },
        {
         "imageId": "ocid1.image.oc1.eu-paris-1.aaaaaaaaf7irdvozuzmwyvbfacdivomj52x65vr6tlg62i6er323sevazdqq",
         "shape": "VM.DenseIO1.8"
        },
        {
         "imageId": "ocid1.image.oc1.eu-paris-1.aaaaaaaaf7irdvozuzmwyvbfacdivomj52x65vr6tlg62i6er323sevazdqq",
         "shape": "VM.DenseIO2.16"
        },
        {
         "imageId": "ocid1.image.oc1.eu-paris-1.aaaaaaaaf7irdvozuzmwyvbfacdivomj52x65vr6tlg62i6er323sevazdqq",
         "shape": "VM.DenseIO2.24"
        },
        {
         "imageId": "ocid1.image.oc1.eu-paris-1.aaaaaaaaf7irdvozuzmwyvbfacdivomj52x65vr6tlg62i6er323sevazdqq",
         "shape": "VM.DenseIO2.8"
        },
        {
         "imageId": "ocid1.image.oc1.eu-paris-1.aaaaaaaaf7irdvozuzmwyvbfacdivomj52x65vr6tlg62i6er323sevazdqq",
         "shape": "VM.GPU.A10.1"
        },
        {
         "imageId": "ocid1.image.oc1.eu-paris-1.aaaaaaaaf7irdvozuzmwyvbfacdivomj52x65vr6tlg62i6er323sevazdqq",
         "shape": "VM.GPU.A10.2"
        },
        {
         "imageId": "ocid1.image.oc1.eu-paris-1.aaaaaaaaf7irdvozuzmwyvbfacdivomj52x65vr6tlg62i6er323sevazdqq",
         "shape": "VM.GPU.GU1.1"
        },
        {
         "imageId": "ocid1.image.oc1.eu-paris-1.aaaaaaaaf7irdvozuzmwyvbfacdivomj52x65vr6tlg62i6er323sevazdqq",
         "shape": "VM.GPU.GU1.2"
        },
        {
         "imageId": "ocid1.image.oc1.eu-paris-1.aaaaaaaaf7irdvozuzmwyvbfacdivomj52x65vr6tlg62i6er323sevazdqq",
         "shape": "VM.GPU2.1"
        },
        {
         "imageId": "ocid1.image.oc1.eu-paris-1.aaaaaaaaf7irdvozuzmwyvbfacdivomj52x65vr6tlg62i6er323sevazdqq",
         "shape": "VM.GPU3.1"
        },
        {
         "imageId": "ocid1.image.oc1.eu-paris-1.aaaaaaaaf7irdvozuzmwyvbfacdivomj52x65vr6tlg62i6er323sevazdqq",
         "shape": "VM.GPU3.2"
        },
        {
         "imageId": "ocid1.image.oc1.eu-paris-1.aaaaaaaaf7irdvozuzmwyvbfacdivomj52x65vr6tlg62i6er323sevazdqq",
         "shape": "VM.GPU3.4"
        },
        {
         "imageId": "ocid1.image.oc1.eu-paris-1.aaaaaaaaf7irdvozuzmwyvbfacdivomj52x65vr6tlg62i6er323sevazdqq",
         "shape": "VM.Optimized3.Flex"
        },
        {
         "imageId": "ocid1.image.oc1.eu-paris-1.aaaaaaaaf7irdvozuzmwyvbfacdivomj52x65vr6tlg62i6er323sevazdqq",
         "shape": "VM.Standard.AMD.Generic"
        },
        {
         "imageId": "ocid1.image.oc1.eu-paris-1.aaaaaaaaf7irdvozuzmwyvbfacdivomj52x65vr6tlg62i6er323sevazdqq",
         "shape": "VM.Standard.B1.1"
        },
        {
         "imageId": "ocid1.image.oc1.eu-paris-1.aaaaaaaaf7irdvozuzmwyvbfacdivomj52x65vr6tlg62i6er323sevazdqq",
         "shape": "VM.Standard.B1.16"
        },
        {
         "imageId": "ocid1.image.oc1.eu-paris-1.aaaaaaaaf7irdvozuzmwyvbfacdivomj52x65vr6tlg62i6er323sevazdqq",
         "shape": "VM.Standard.B1.2"
        },
        {
         "imageId": "ocid1.image.oc1.eu-paris-1.aaaaaaaaf7irdvozuzmwyvbfacdivomj52x65vr6tlg62i6er323sevazdqq",
         "shape": "VM.Standard.B1.4"
        },
        {
         "imageId": "ocid1.image.oc1.eu-paris-1.aaaaaaaaf7irdvozuzmwyvbfacdivomj52x65vr6tlg62i6er323sevazdqq",
         "shape": "VM.Standard.B1.8"
        },
        {
         "imageId": "ocid1.image.oc1.eu-paris-1.aaaaaaaaf7irdvozuzmwyvbfacdivomj52x65vr6tlg62i6er323sevazdqq",
         "shape": "VM.Standard.E2.1"
        },
        {
         "imageId": "ocid1.image.oc1.eu-paris-1.aaaaaaaaf7irdvozuzmwyvbfacdivomj52x65vr6tlg62i6er323sevazdqq",
         "shape": "VM.Standard.E2.1.Micro"
        },
        {
         "imageId": "ocid1.image.oc1.eu-paris-1.aaaaaaaaf7irdvozuzmwyvbfacdivomj52x65vr6tlg62i6er323sevazdqq",
         "shape": "VM.Standard.E2.2"
        },
        {
         "imageId": "ocid1.image.oc1.eu-paris-1.aaaaaaaaf7irdvozuzmwyvbfacdivomj52x65vr6tlg62i6er323sevazdqq",
         "shape": "VM.Standard.E2.4"
        },
        {
         "imageId": "ocid1.image.oc1.eu-paris-1.aaaaaaaaf7irdvozuzmwyvbfacdivomj52x65vr6tlg62i6er323sevazdqq",
         "shape": "VM.Standard.E2.8"
        },
        {
         "imageId": "ocid1.image.oc1.eu-paris-1.aaaaaaaaf7irdvozuzmwyvbfacdivomj52x65vr6tlg62i6er323sevazdqq",
         "shape": "VM.Standard.E3.Flex"
        },
        {
         "imageId": "ocid1.image.oc1.eu-paris-1.aaaaaaaaf7irdvozuzmwyvbfacdivomj52x65vr6tlg62i6er323sevazdqq",
         "shape": "VM.Standard.E4.Flex"
        },
        {
         "imageId": "ocid1.image.oc1.eu-paris-1.aaaaaaaaf7irdvozuzmwyvbfacdivomj52x65vr6tlg62i6er323sevazdqq",
         "shape": "VM.Standard.E5.Flex"
        },
        {
         "imageId": "ocid1.image.oc1.eu-paris-1.aaaaaaaaf7irdvozuzmwyvbfacdivomj52x65vr6tlg62i6er323sevazdqq",
         "shape": "VM.Standard.Intel.Generic"
        },
        {
         "imageId": "ocid1.image.oc1.eu-paris-1.aaaaaaaaf7irdvozuzmwyvbfacdivomj52x65vr6tlg62i6er323sevazdqq",
         "shape": "VM.Standard.x86.Generic"
        },
        {
         "imageId": "ocid1.image.oc1.eu-paris-1.aaaaaaaaf7irdvozuzmwyvbfacdivomj52x65vr6tlg62i6er323sevazdqq",
         "shape": "VM.Standard1.1"
        },
        {
         "imageId": "ocid1.image.oc1.eu-paris-1.aaaaaaaaf7irdvozuzmwyvbfacdivomj52x65vr6tlg62i6er323sevazdqq",
         "shape": "VM.Standard1.16"
        },
        {
         "imageId": "ocid1.image.oc1.eu-paris-1.aaaaaaaaf7irdvozuzmwyvbfacdivomj52x65vr6tlg62i6er323sevazdqq",
         "shape": "VM.Standard1.2"
        },
        {
         "imageId": "ocid1.image.oc1.eu-paris-1.aaaaaaaaf7irdvozuzmwyvbfacdivomj52x65vr6tlg62i6er323sevazdqq",
         "shape": "VM.Standard1.4"
        },
        {
         "imageId": "ocid1.image.oc1.eu-paris-1.aaaaaaaaf7irdvozuzmwyvbfacdivomj52x65vr6tlg62i6er323sevazdqq",
         "shape": "VM.Standard1.8"
        },
        {
         "imageId": "ocid1.image.oc1.eu-paris-1.aaaaaaaaf7irdvozuzmwyvbfacdivomj52x65vr6tlg62i6er323sevazdqq",
         "shape": "VM.Standard2.1"
        },
        {
         "imageId": "ocid1.image.oc1.eu-paris-1.aaaaaaaaf7irdvozuzmwyvbfacdivomj52x65vr6tlg62i6er323sevazdqq",
         "shape": "VM.Standard2.16"
        },
        {
         "imageId": "ocid1.image.oc1.eu-paris-1.aaaaaaaaf7irdvozuzmwyvbfacdivomj52x65vr6tlg62i6er323sevazdqq",
         "shape": "VM.Standard2.2"
        },
        {
         "imageId": "ocid1.image.oc1.eu-paris-1.aaaaaaaaf7irdvozuzmwyvbfacdivomj52x65vr6tlg62i6er323sevazdqq",
         "shape": "VM.Standard2.24"
        },
        {
         "imageId": "ocid1.image.oc1.eu-paris-1.aaaaaaaaf7irdvozuzmwyvbfacdivomj52x65vr6tlg62i6er323sevazdqq",
         "shape": "VM.Standard2.4"
        },
        {
         "imageId": "ocid1.image.oc1.eu-paris-1.aaaaaaaaf7irdvozuzmwyvbfacdivomj52x65vr6tlg62i6er323sevazdqq",
         "shape": "VM.Standard2.8"
        },
        {
         "imageId": "ocid1.image.oc1.eu-paris-1.aaaaaaaaf7irdvozuzmwyvbfacdivomj52x65vr6tlg62i6er323sevazdqq",
         "shape": "VM.Standard2.Flex"
        },
        {
         "imageId": "ocid1.image.oc1.eu-paris-1.aaaaaaaaf7irdvozuzmwyvbfacdivomj52x65vr6tlg62i6er323sevazdqq",
         "shape": "VM.Standard3.Flex"
        },
        {
         "imageId": "ocid1.image.oc1.eu-paris-1.aaaaaaaaf7irdvozuzmwyvbfacdivomj52x65vr6tlg62i6er323sevazdqq",
         "shape": "BM.Standard.E2.64"
        },
        {
         "imageId": "ocid1.image.oc1.eu-paris-1.aaaaaaaaf7irdvozuzmwyvbfacdivomj52x65vr6tlg62i6er323sevazdqq",
         "shape": "BM.Standard.E3.128"
        },
        {
         "imageId": "ocid1.image.oc1.eu-paris-1.aaaaaaaaf7irdvozuzmwyvbfacdivomj52x65vr6tlg62i6er323sevazdqq",
         "shape": "BM.GPU4.8"
        },
        {
         "imageId": "ocid1.image.oc1.eu-paris-1.aaaaaaaaf7irdvozuzmwyvbfacdivomj52x65vr6tlg62i6er323sevazdqq",
         "shape": "BM.Standard.E4.128"
        }
       ],
       "schema": {
        "fields": [
         {
          "name": "imageId",
          "type": "string"
         },
         {
          "name": "shape",
          "type": "string"
         }
        ]
       }
      },
      "text/html": [
       "<table><thead><tr><th>imageId</th><th>shape</th></tr></thead><tbody><tr><td>ocid1.image.oc1.eu-paris-1.aaaaaaaaf7irdvozuzmwyvbfacdivomj52x65vr6tlg62i6er323sevazdqq</td><td>VM.DenseIO.E4.Flex</td></tr><tr><td>ocid1.image.oc1.eu-paris-1.aaaaaaaaf7irdvozuzmwyvbfacdivomj52x65vr6tlg62i6er323sevazdqq</td><td>VM.DenseIO.E5.Flex</td></tr><tr><td>ocid1.image.oc1.eu-paris-1.aaaaaaaaf7irdvozuzmwyvbfacdivomj52x65vr6tlg62i6er323sevazdqq</td><td>VM.DenseIO1.16</td></tr><tr><td>ocid1.image.oc1.eu-paris-1.aaaaaaaaf7irdvozuzmwyvbfacdivomj52x65vr6tlg62i6er323sevazdqq</td><td>VM.DenseIO1.4</td></tr><tr><td>ocid1.image.oc1.eu-paris-1.aaaaaaaaf7irdvozuzmwyvbfacdivomj52x65vr6tlg62i6er323sevazdqq</td><td>VM.DenseIO1.8</td></tr><tr><td>ocid1.image.oc1.eu-paris-1.aaaaaaaaf7irdvozuzmwyvbfacdivomj52x65vr6tlg62i6er323sevazdqq</td><td>VM.DenseIO2.16</td></tr><tr><td>ocid1.image.oc1.eu-paris-1.aaaaaaaaf7irdvozuzmwyvbfacdivomj52x65vr6tlg62i6er323sevazdqq</td><td>VM.DenseIO2.24</td></tr><tr><td>ocid1.image.oc1.eu-paris-1.aaaaaaaaf7irdvozuzmwyvbfacdivomj52x65vr6tlg62i6er323sevazdqq</td><td>VM.DenseIO2.8</td></tr><tr><td>ocid1.image.oc1.eu-paris-1.aaaaaaaaf7irdvozuzmwyvbfacdivomj52x65vr6tlg62i6er323sevazdqq</td><td>VM.GPU.A10.1</td></tr><tr><td>ocid1.image.oc1.eu-paris-1.aaaaaaaaf7irdvozuzmwyvbfacdivomj52x65vr6tlg62i6er323sevazdqq</td><td>VM.GPU.A10.2</td></tr><tr><td>ocid1.image.oc1.eu-paris-1.aaaaaaaaf7irdvozuzmwyvbfacdivomj52x65vr6tlg62i6er323sevazdqq</td><td>VM.GPU.GU1.1</td></tr><tr><td>ocid1.image.oc1.eu-paris-1.aaaaaaaaf7irdvozuzmwyvbfacdivomj52x65vr6tlg62i6er323sevazdqq</td><td>VM.GPU.GU1.2</td></tr><tr><td>ocid1.image.oc1.eu-paris-1.aaaaaaaaf7irdvozuzmwyvbfacdivomj52x65vr6tlg62i6er323sevazdqq</td><td>VM.GPU2.1</td></tr><tr><td>ocid1.image.oc1.eu-paris-1.aaaaaaaaf7irdvozuzmwyvbfacdivomj52x65vr6tlg62i6er323sevazdqq</td><td>VM.GPU3.1</td></tr><tr><td>ocid1.image.oc1.eu-paris-1.aaaaaaaaf7irdvozuzmwyvbfacdivomj52x65vr6tlg62i6er323sevazdqq</td><td>VM.GPU3.2</td></tr><tr><td>ocid1.image.oc1.eu-paris-1.aaaaaaaaf7irdvozuzmwyvbfacdivomj52x65vr6tlg62i6er323sevazdqq</td><td>VM.GPU3.4</td></tr><tr><td>ocid1.image.oc1.eu-paris-1.aaaaaaaaf7irdvozuzmwyvbfacdivomj52x65vr6tlg62i6er323sevazdqq</td><td>VM.Optimized3.Flex</td></tr><tr><td>ocid1.image.oc1.eu-paris-1.aaaaaaaaf7irdvozuzmwyvbfacdivomj52x65vr6tlg62i6er323sevazdqq</td><td>VM.Standard.AMD.Generic</td></tr><tr><td>ocid1.image.oc1.eu-paris-1.aaaaaaaaf7irdvozuzmwyvbfacdivomj52x65vr6tlg62i6er323sevazdqq</td><td>VM.Standard.B1.1</td></tr><tr><td>ocid1.image.oc1.eu-paris-1.aaaaaaaaf7irdvozuzmwyvbfacdivomj52x65vr6tlg62i6er323sevazdqq</td><td>VM.Standard.B1.16</td></tr><tr><td>ocid1.image.oc1.eu-paris-1.aaaaaaaaf7irdvozuzmwyvbfacdivomj52x65vr6tlg62i6er323sevazdqq</td><td>VM.Standard.B1.2</td></tr><tr><td>ocid1.image.oc1.eu-paris-1.aaaaaaaaf7irdvozuzmwyvbfacdivomj52x65vr6tlg62i6er323sevazdqq</td><td>VM.Standard.B1.4</td></tr><tr><td>ocid1.image.oc1.eu-paris-1.aaaaaaaaf7irdvozuzmwyvbfacdivomj52x65vr6tlg62i6er323sevazdqq</td><td>VM.Standard.B1.8</td></tr><tr><td>ocid1.image.oc1.eu-paris-1.aaaaaaaaf7irdvozuzmwyvbfacdivomj52x65vr6tlg62i6er323sevazdqq</td><td>VM.Standard.E2.1</td></tr><tr><td>ocid1.image.oc1.eu-paris-1.aaaaaaaaf7irdvozuzmwyvbfacdivomj52x65vr6tlg62i6er323sevazdqq</td><td>VM.Standard.E2.1.Micro</td></tr><tr><td>ocid1.image.oc1.eu-paris-1.aaaaaaaaf7irdvozuzmwyvbfacdivomj52x65vr6tlg62i6er323sevazdqq</td><td>VM.Standard.E2.2</td></tr><tr><td>ocid1.image.oc1.eu-paris-1.aaaaaaaaf7irdvozuzmwyvbfacdivomj52x65vr6tlg62i6er323sevazdqq</td><td>VM.Standard.E2.4</td></tr><tr><td>ocid1.image.oc1.eu-paris-1.aaaaaaaaf7irdvozuzmwyvbfacdivomj52x65vr6tlg62i6er323sevazdqq</td><td>VM.Standard.E2.8</td></tr><tr><td>ocid1.image.oc1.eu-paris-1.aaaaaaaaf7irdvozuzmwyvbfacdivomj52x65vr6tlg62i6er323sevazdqq</td><td>VM.Standard.E3.Flex</td></tr><tr><td>ocid1.image.oc1.eu-paris-1.aaaaaaaaf7irdvozuzmwyvbfacdivomj52x65vr6tlg62i6er323sevazdqq</td><td>VM.Standard.E4.Flex</td></tr><tr><td>ocid1.image.oc1.eu-paris-1.aaaaaaaaf7irdvozuzmwyvbfacdivomj52x65vr6tlg62i6er323sevazdqq</td><td>VM.Standard.E5.Flex</td></tr><tr><td>ocid1.image.oc1.eu-paris-1.aaaaaaaaf7irdvozuzmwyvbfacdivomj52x65vr6tlg62i6er323sevazdqq</td><td>VM.Standard.Intel.Generic</td></tr><tr><td>ocid1.image.oc1.eu-paris-1.aaaaaaaaf7irdvozuzmwyvbfacdivomj52x65vr6tlg62i6er323sevazdqq</td><td>VM.Standard.x86.Generic</td></tr><tr><td>ocid1.image.oc1.eu-paris-1.aaaaaaaaf7irdvozuzmwyvbfacdivomj52x65vr6tlg62i6er323sevazdqq</td><td>VM.Standard1.1</td></tr><tr><td>ocid1.image.oc1.eu-paris-1.aaaaaaaaf7irdvozuzmwyvbfacdivomj52x65vr6tlg62i6er323sevazdqq</td><td>VM.Standard1.16</td></tr><tr><td>ocid1.image.oc1.eu-paris-1.aaaaaaaaf7irdvozuzmwyvbfacdivomj52x65vr6tlg62i6er323sevazdqq</td><td>VM.Standard1.2</td></tr><tr><td>ocid1.image.oc1.eu-paris-1.aaaaaaaaf7irdvozuzmwyvbfacdivomj52x65vr6tlg62i6er323sevazdqq</td><td>VM.Standard1.4</td></tr><tr><td>ocid1.image.oc1.eu-paris-1.aaaaaaaaf7irdvozuzmwyvbfacdivomj52x65vr6tlg62i6er323sevazdqq</td><td>VM.Standard1.8</td></tr><tr><td>ocid1.image.oc1.eu-paris-1.aaaaaaaaf7irdvozuzmwyvbfacdivomj52x65vr6tlg62i6er323sevazdqq</td><td>VM.Standard2.1</td></tr><tr><td>ocid1.image.oc1.eu-paris-1.aaaaaaaaf7irdvozuzmwyvbfacdivomj52x65vr6tlg62i6er323sevazdqq</td><td>VM.Standard2.16</td></tr><tr><td>ocid1.image.oc1.eu-paris-1.aaaaaaaaf7irdvozuzmwyvbfacdivomj52x65vr6tlg62i6er323sevazdqq</td><td>VM.Standard2.2</td></tr><tr><td>ocid1.image.oc1.eu-paris-1.aaaaaaaaf7irdvozuzmwyvbfacdivomj52x65vr6tlg62i6er323sevazdqq</td><td>VM.Standard2.24</td></tr><tr><td>ocid1.image.oc1.eu-paris-1.aaaaaaaaf7irdvozuzmwyvbfacdivomj52x65vr6tlg62i6er323sevazdqq</td><td>VM.Standard2.4</td></tr><tr><td>ocid1.image.oc1.eu-paris-1.aaaaaaaaf7irdvozuzmwyvbfacdivomj52x65vr6tlg62i6er323sevazdqq</td><td>VM.Standard2.8</td></tr><tr><td>ocid1.image.oc1.eu-paris-1.aaaaaaaaf7irdvozuzmwyvbfacdivomj52x65vr6tlg62i6er323sevazdqq</td><td>VM.Standard2.Flex</td></tr><tr><td>ocid1.image.oc1.eu-paris-1.aaaaaaaaf7irdvozuzmwyvbfacdivomj52x65vr6tlg62i6er323sevazdqq</td><td>VM.Standard3.Flex</td></tr><tr><td>ocid1.image.oc1.eu-paris-1.aaaaaaaaf7irdvozuzmwyvbfacdivomj52x65vr6tlg62i6er323sevazdqq</td><td>BM.Standard.E2.64</td></tr><tr><td>ocid1.image.oc1.eu-paris-1.aaaaaaaaf7irdvozuzmwyvbfacdivomj52x65vr6tlg62i6er323sevazdqq</td><td>BM.Standard.E3.128</td></tr><tr><td>ocid1.image.oc1.eu-paris-1.aaaaaaaaf7irdvozuzmwyvbfacdivomj52x65vr6tlg62i6er323sevazdqq</td><td>BM.GPU4.8</td></tr><tr><td>ocid1.image.oc1.eu-paris-1.aaaaaaaaf7irdvozuzmwyvbfacdivomj52x65vr6tlg62i6er323sevazdqq</td><td>BM.Standard.E4.128</td></tr></tbody></table>"
      ]
     },
     "execution_count": 33,
     "metadata": {},
     "output_type": "execute_result"
    }
   ],
   "source": [
    "resultatVstack.filter(pl.col('imageId').eq(pl.lit(allImageIDs[1])))"
   ]
  },
  {
   "cell_type": "code",
   "execution_count": 35,
   "id": "2746ab67-e229-42ad-a826-7440630a8200",
   "metadata": {},
   "outputs": [
    {
     "data": {
      "application/vnd.dataresource+json": {
       "data": [
        {
         "imageId": "ocid1.image.oc1.eu-paris-1.aaaaaaaalvbkaoybngg572c4ybw47avoyv2vk4raeus2bg4hyrbfuq4hmcuq",
         "shape": "VM.DenseIO.E4.Flex"
        },
        {
         "imageId": "ocid1.image.oc1.eu-paris-1.aaaaaaaalvbkaoybngg572c4ybw47avoyv2vk4raeus2bg4hyrbfuq4hmcuq",
         "shape": "VM.DenseIO.E5.Flex"
        },
        {
         "imageId": "ocid1.image.oc1.eu-paris-1.aaaaaaaalvbkaoybngg572c4ybw47avoyv2vk4raeus2bg4hyrbfuq4hmcuq",
         "shape": "VM.DenseIO1.16"
        },
        {
         "imageId": "ocid1.image.oc1.eu-paris-1.aaaaaaaalvbkaoybngg572c4ybw47avoyv2vk4raeus2bg4hyrbfuq4hmcuq",
         "shape": "VM.DenseIO1.4"
        },
        {
         "imageId": "ocid1.image.oc1.eu-paris-1.aaaaaaaalvbkaoybngg572c4ybw47avoyv2vk4raeus2bg4hyrbfuq4hmcuq",
         "shape": "VM.DenseIO1.8"
        },
        {
         "imageId": "ocid1.image.oc1.eu-paris-1.aaaaaaaalvbkaoybngg572c4ybw47avoyv2vk4raeus2bg4hyrbfuq4hmcuq",
         "shape": "VM.DenseIO2.16"
        },
        {
         "imageId": "ocid1.image.oc1.eu-paris-1.aaaaaaaalvbkaoybngg572c4ybw47avoyv2vk4raeus2bg4hyrbfuq4hmcuq",
         "shape": "VM.DenseIO2.24"
        },
        {
         "imageId": "ocid1.image.oc1.eu-paris-1.aaaaaaaalvbkaoybngg572c4ybw47avoyv2vk4raeus2bg4hyrbfuq4hmcuq",
         "shape": "VM.DenseIO2.8"
        },
        {
         "imageId": "ocid1.image.oc1.eu-paris-1.aaaaaaaalvbkaoybngg572c4ybw47avoyv2vk4raeus2bg4hyrbfuq4hmcuq",
         "shape": "VM.GPU.A10.1"
        },
        {
         "imageId": "ocid1.image.oc1.eu-paris-1.aaaaaaaalvbkaoybngg572c4ybw47avoyv2vk4raeus2bg4hyrbfuq4hmcuq",
         "shape": "VM.GPU.A10.2"
        },
        {
         "imageId": "ocid1.image.oc1.eu-paris-1.aaaaaaaalvbkaoybngg572c4ybw47avoyv2vk4raeus2bg4hyrbfuq4hmcuq",
         "shape": "VM.GPU.GU1.1"
        },
        {
         "imageId": "ocid1.image.oc1.eu-paris-1.aaaaaaaalvbkaoybngg572c4ybw47avoyv2vk4raeus2bg4hyrbfuq4hmcuq",
         "shape": "VM.GPU.GU1.2"
        },
        {
         "imageId": "ocid1.image.oc1.eu-paris-1.aaaaaaaalvbkaoybngg572c4ybw47avoyv2vk4raeus2bg4hyrbfuq4hmcuq",
         "shape": "VM.GPU2.1"
        },
        {
         "imageId": "ocid1.image.oc1.eu-paris-1.aaaaaaaalvbkaoybngg572c4ybw47avoyv2vk4raeus2bg4hyrbfuq4hmcuq",
         "shape": "VM.GPU3.1"
        },
        {
         "imageId": "ocid1.image.oc1.eu-paris-1.aaaaaaaalvbkaoybngg572c4ybw47avoyv2vk4raeus2bg4hyrbfuq4hmcuq",
         "shape": "VM.GPU3.2"
        },
        {
         "imageId": "ocid1.image.oc1.eu-paris-1.aaaaaaaalvbkaoybngg572c4ybw47avoyv2vk4raeus2bg4hyrbfuq4hmcuq",
         "shape": "VM.GPU3.4"
        },
        {
         "imageId": "ocid1.image.oc1.eu-paris-1.aaaaaaaalvbkaoybngg572c4ybw47avoyv2vk4raeus2bg4hyrbfuq4hmcuq",
         "shape": "VM.Optimized3.Flex"
        },
        {
         "imageId": "ocid1.image.oc1.eu-paris-1.aaaaaaaalvbkaoybngg572c4ybw47avoyv2vk4raeus2bg4hyrbfuq4hmcuq",
         "shape": "VM.Standard.AMD.Generic"
        },
        {
         "imageId": "ocid1.image.oc1.eu-paris-1.aaaaaaaalvbkaoybngg572c4ybw47avoyv2vk4raeus2bg4hyrbfuq4hmcuq",
         "shape": "VM.Standard.E2.1"
        },
        {
         "imageId": "ocid1.image.oc1.eu-paris-1.aaaaaaaalvbkaoybngg572c4ybw47avoyv2vk4raeus2bg4hyrbfuq4hmcuq",
         "shape": "VM.Standard.E2.1.Micro"
        },
        {
         "imageId": "ocid1.image.oc1.eu-paris-1.aaaaaaaalvbkaoybngg572c4ybw47avoyv2vk4raeus2bg4hyrbfuq4hmcuq",
         "shape": "VM.Standard.E2.2"
        },
        {
         "imageId": "ocid1.image.oc1.eu-paris-1.aaaaaaaalvbkaoybngg572c4ybw47avoyv2vk4raeus2bg4hyrbfuq4hmcuq",
         "shape": "VM.Standard.E2.4"
        },
        {
         "imageId": "ocid1.image.oc1.eu-paris-1.aaaaaaaalvbkaoybngg572c4ybw47avoyv2vk4raeus2bg4hyrbfuq4hmcuq",
         "shape": "VM.Standard.E2.8"
        },
        {
         "imageId": "ocid1.image.oc1.eu-paris-1.aaaaaaaalvbkaoybngg572c4ybw47avoyv2vk4raeus2bg4hyrbfuq4hmcuq",
         "shape": "VM.Standard.E3.Flex"
        },
        {
         "imageId": "ocid1.image.oc1.eu-paris-1.aaaaaaaalvbkaoybngg572c4ybw47avoyv2vk4raeus2bg4hyrbfuq4hmcuq",
         "shape": "VM.Standard.E4.Flex"
        },
        {
         "imageId": "ocid1.image.oc1.eu-paris-1.aaaaaaaalvbkaoybngg572c4ybw47avoyv2vk4raeus2bg4hyrbfuq4hmcuq",
         "shape": "VM.Standard.E5.Flex"
        },
        {
         "imageId": "ocid1.image.oc1.eu-paris-1.aaaaaaaalvbkaoybngg572c4ybw47avoyv2vk4raeus2bg4hyrbfuq4hmcuq",
         "shape": "VM.Standard.Intel.Generic"
        },
        {
         "imageId": "ocid1.image.oc1.eu-paris-1.aaaaaaaalvbkaoybngg572c4ybw47avoyv2vk4raeus2bg4hyrbfuq4hmcuq",
         "shape": "VM.Standard.x86.Generic"
        },
        {
         "imageId": "ocid1.image.oc1.eu-paris-1.aaaaaaaalvbkaoybngg572c4ybw47avoyv2vk4raeus2bg4hyrbfuq4hmcuq",
         "shape": "VM.Standard1.1"
        },
        {
         "imageId": "ocid1.image.oc1.eu-paris-1.aaaaaaaalvbkaoybngg572c4ybw47avoyv2vk4raeus2bg4hyrbfuq4hmcuq",
         "shape": "VM.Standard1.16"
        },
        {
         "imageId": "ocid1.image.oc1.eu-paris-1.aaaaaaaalvbkaoybngg572c4ybw47avoyv2vk4raeus2bg4hyrbfuq4hmcuq",
         "shape": "VM.Standard1.2"
        },
        {
         "imageId": "ocid1.image.oc1.eu-paris-1.aaaaaaaalvbkaoybngg572c4ybw47avoyv2vk4raeus2bg4hyrbfuq4hmcuq",
         "shape": "VM.Standard1.4"
        },
        {
         "imageId": "ocid1.image.oc1.eu-paris-1.aaaaaaaalvbkaoybngg572c4ybw47avoyv2vk4raeus2bg4hyrbfuq4hmcuq",
         "shape": "VM.Standard1.8"
        },
        {
         "imageId": "ocid1.image.oc1.eu-paris-1.aaaaaaaalvbkaoybngg572c4ybw47avoyv2vk4raeus2bg4hyrbfuq4hmcuq",
         "shape": "VM.Standard2.1"
        },
        {
         "imageId": "ocid1.image.oc1.eu-paris-1.aaaaaaaalvbkaoybngg572c4ybw47avoyv2vk4raeus2bg4hyrbfuq4hmcuq",
         "shape": "VM.Standard2.16"
        },
        {
         "imageId": "ocid1.image.oc1.eu-paris-1.aaaaaaaalvbkaoybngg572c4ybw47avoyv2vk4raeus2bg4hyrbfuq4hmcuq",
         "shape": "VM.Standard2.2"
        },
        {
         "imageId": "ocid1.image.oc1.eu-paris-1.aaaaaaaalvbkaoybngg572c4ybw47avoyv2vk4raeus2bg4hyrbfuq4hmcuq",
         "shape": "VM.Standard2.24"
        },
        {
         "imageId": "ocid1.image.oc1.eu-paris-1.aaaaaaaalvbkaoybngg572c4ybw47avoyv2vk4raeus2bg4hyrbfuq4hmcuq",
         "shape": "VM.Standard2.4"
        },
        {
         "imageId": "ocid1.image.oc1.eu-paris-1.aaaaaaaalvbkaoybngg572c4ybw47avoyv2vk4raeus2bg4hyrbfuq4hmcuq",
         "shape": "VM.Standard2.8"
        },
        {
         "imageId": "ocid1.image.oc1.eu-paris-1.aaaaaaaalvbkaoybngg572c4ybw47avoyv2vk4raeus2bg4hyrbfuq4hmcuq",
         "shape": "VM.Standard2.Flex"
        },
        {
         "imageId": "ocid1.image.oc1.eu-paris-1.aaaaaaaalvbkaoybngg572c4ybw47avoyv2vk4raeus2bg4hyrbfuq4hmcuq",
         "shape": "VM.Standard3.Flex"
        },
        {
         "imageId": "ocid1.image.oc1.eu-paris-1.aaaaaaaalvbkaoybngg572c4ybw47avoyv2vk4raeus2bg4hyrbfuq4hmcuq",
         "shape": "BM.Standard.E2.64"
        },
        {
         "imageId": "ocid1.image.oc1.eu-paris-1.aaaaaaaalvbkaoybngg572c4ybw47avoyv2vk4raeus2bg4hyrbfuq4hmcuq",
         "shape": "BM.Standard.E3.128"
        },
        {
         "imageId": "ocid1.image.oc1.eu-paris-1.aaaaaaaalvbkaoybngg572c4ybw47avoyv2vk4raeus2bg4hyrbfuq4hmcuq",
         "shape": "BM.GPU4.8"
        },
        {
         "imageId": "ocid1.image.oc1.eu-paris-1.aaaaaaaalvbkaoybngg572c4ybw47avoyv2vk4raeus2bg4hyrbfuq4hmcuq",
         "shape": "BM.Standard.E4.128"
        },
        {
         "imageId": "ocid1.image.oc1.eu-paris-1.aaaaaaaalvbkaoybngg572c4ybw47avoyv2vk4raeus2bg4hyrbfuq4hmcuq",
         "shape": "BM.GPU.A100-v2.8"
        },
        {
         "imageId": "ocid1.image.oc1.eu-paris-1.aaaaaaaalvbkaoybngg572c4ybw47avoyv2vk4raeus2bg4hyrbfuq4hmcuq",
         "shape": "BM.DenseIO.E4.128"
        },
        {
         "imageId": "ocid1.image.oc1.eu-paris-1.aaaaaaaalvbkaoybngg572c4ybw47avoyv2vk4raeus2bg4hyrbfuq4hmcuq",
         "shape": "BM.DenseIO.E5.128"
        },
        {
         "imageId": "ocid1.image.oc1.eu-paris-1.aaaaaaaalvbkaoybngg572c4ybw47avoyv2vk4raeus2bg4hyrbfuq4hmcuq",
         "shape": "BM.Standard.E5.192"
        },
        {
         "imageId": "ocid1.image.oc1.eu-paris-1.aaaaaaaalvbkaoybngg572c4ybw47avoyv2vk4raeus2bg4hyrbfuq4hmcuq",
         "shape": "BM.Standard1.36"
        }
       ],
       "schema": {
        "fields": [
         {
          "name": "imageId",
          "type": "string"
         },
         {
          "name": "shape",
          "type": "string"
         }
        ]
       }
      },
      "text/html": [
       "<table><thead><tr><th>imageId</th><th>shape</th></tr></thead><tbody><tr><td>ocid1.image.oc1.eu-paris-1.aaaaaaaalvbkaoybngg572c4ybw47avoyv2vk4raeus2bg4hyrbfuq4hmcuq</td><td>VM.DenseIO.E4.Flex</td></tr><tr><td>ocid1.image.oc1.eu-paris-1.aaaaaaaalvbkaoybngg572c4ybw47avoyv2vk4raeus2bg4hyrbfuq4hmcuq</td><td>VM.DenseIO.E5.Flex</td></tr><tr><td>ocid1.image.oc1.eu-paris-1.aaaaaaaalvbkaoybngg572c4ybw47avoyv2vk4raeus2bg4hyrbfuq4hmcuq</td><td>VM.DenseIO1.16</td></tr><tr><td>ocid1.image.oc1.eu-paris-1.aaaaaaaalvbkaoybngg572c4ybw47avoyv2vk4raeus2bg4hyrbfuq4hmcuq</td><td>VM.DenseIO1.4</td></tr><tr><td>ocid1.image.oc1.eu-paris-1.aaaaaaaalvbkaoybngg572c4ybw47avoyv2vk4raeus2bg4hyrbfuq4hmcuq</td><td>VM.DenseIO1.8</td></tr><tr><td>ocid1.image.oc1.eu-paris-1.aaaaaaaalvbkaoybngg572c4ybw47avoyv2vk4raeus2bg4hyrbfuq4hmcuq</td><td>VM.DenseIO2.16</td></tr><tr><td>ocid1.image.oc1.eu-paris-1.aaaaaaaalvbkaoybngg572c4ybw47avoyv2vk4raeus2bg4hyrbfuq4hmcuq</td><td>VM.DenseIO2.24</td></tr><tr><td>ocid1.image.oc1.eu-paris-1.aaaaaaaalvbkaoybngg572c4ybw47avoyv2vk4raeus2bg4hyrbfuq4hmcuq</td><td>VM.DenseIO2.8</td></tr><tr><td>ocid1.image.oc1.eu-paris-1.aaaaaaaalvbkaoybngg572c4ybw47avoyv2vk4raeus2bg4hyrbfuq4hmcuq</td><td>VM.GPU.A10.1</td></tr><tr><td>ocid1.image.oc1.eu-paris-1.aaaaaaaalvbkaoybngg572c4ybw47avoyv2vk4raeus2bg4hyrbfuq4hmcuq</td><td>VM.GPU.A10.2</td></tr><tr><td>ocid1.image.oc1.eu-paris-1.aaaaaaaalvbkaoybngg572c4ybw47avoyv2vk4raeus2bg4hyrbfuq4hmcuq</td><td>VM.GPU.GU1.1</td></tr><tr><td>ocid1.image.oc1.eu-paris-1.aaaaaaaalvbkaoybngg572c4ybw47avoyv2vk4raeus2bg4hyrbfuq4hmcuq</td><td>VM.GPU.GU1.2</td></tr><tr><td>ocid1.image.oc1.eu-paris-1.aaaaaaaalvbkaoybngg572c4ybw47avoyv2vk4raeus2bg4hyrbfuq4hmcuq</td><td>VM.GPU2.1</td></tr><tr><td>ocid1.image.oc1.eu-paris-1.aaaaaaaalvbkaoybngg572c4ybw47avoyv2vk4raeus2bg4hyrbfuq4hmcuq</td><td>VM.GPU3.1</td></tr><tr><td>ocid1.image.oc1.eu-paris-1.aaaaaaaalvbkaoybngg572c4ybw47avoyv2vk4raeus2bg4hyrbfuq4hmcuq</td><td>VM.GPU3.2</td></tr><tr><td>ocid1.image.oc1.eu-paris-1.aaaaaaaalvbkaoybngg572c4ybw47avoyv2vk4raeus2bg4hyrbfuq4hmcuq</td><td>VM.GPU3.4</td></tr><tr><td>ocid1.image.oc1.eu-paris-1.aaaaaaaalvbkaoybngg572c4ybw47avoyv2vk4raeus2bg4hyrbfuq4hmcuq</td><td>VM.Optimized3.Flex</td></tr><tr><td>ocid1.image.oc1.eu-paris-1.aaaaaaaalvbkaoybngg572c4ybw47avoyv2vk4raeus2bg4hyrbfuq4hmcuq</td><td>VM.Standard.AMD.Generic</td></tr><tr><td>ocid1.image.oc1.eu-paris-1.aaaaaaaalvbkaoybngg572c4ybw47avoyv2vk4raeus2bg4hyrbfuq4hmcuq</td><td>VM.Standard.E2.1</td></tr><tr><td>ocid1.image.oc1.eu-paris-1.aaaaaaaalvbkaoybngg572c4ybw47avoyv2vk4raeus2bg4hyrbfuq4hmcuq</td><td>VM.Standard.E2.1.Micro</td></tr><tr><td>ocid1.image.oc1.eu-paris-1.aaaaaaaalvbkaoybngg572c4ybw47avoyv2vk4raeus2bg4hyrbfuq4hmcuq</td><td>VM.Standard.E2.2</td></tr><tr><td>ocid1.image.oc1.eu-paris-1.aaaaaaaalvbkaoybngg572c4ybw47avoyv2vk4raeus2bg4hyrbfuq4hmcuq</td><td>VM.Standard.E2.4</td></tr><tr><td>ocid1.image.oc1.eu-paris-1.aaaaaaaalvbkaoybngg572c4ybw47avoyv2vk4raeus2bg4hyrbfuq4hmcuq</td><td>VM.Standard.E2.8</td></tr><tr><td>ocid1.image.oc1.eu-paris-1.aaaaaaaalvbkaoybngg572c4ybw47avoyv2vk4raeus2bg4hyrbfuq4hmcuq</td><td>VM.Standard.E3.Flex</td></tr><tr><td>ocid1.image.oc1.eu-paris-1.aaaaaaaalvbkaoybngg572c4ybw47avoyv2vk4raeus2bg4hyrbfuq4hmcuq</td><td>VM.Standard.E4.Flex</td></tr><tr><td>ocid1.image.oc1.eu-paris-1.aaaaaaaalvbkaoybngg572c4ybw47avoyv2vk4raeus2bg4hyrbfuq4hmcuq</td><td>VM.Standard.E5.Flex</td></tr><tr><td>ocid1.image.oc1.eu-paris-1.aaaaaaaalvbkaoybngg572c4ybw47avoyv2vk4raeus2bg4hyrbfuq4hmcuq</td><td>VM.Standard.Intel.Generic</td></tr><tr><td>ocid1.image.oc1.eu-paris-1.aaaaaaaalvbkaoybngg572c4ybw47avoyv2vk4raeus2bg4hyrbfuq4hmcuq</td><td>VM.Standard.x86.Generic</td></tr><tr><td>ocid1.image.oc1.eu-paris-1.aaaaaaaalvbkaoybngg572c4ybw47avoyv2vk4raeus2bg4hyrbfuq4hmcuq</td><td>VM.Standard1.1</td></tr><tr><td>ocid1.image.oc1.eu-paris-1.aaaaaaaalvbkaoybngg572c4ybw47avoyv2vk4raeus2bg4hyrbfuq4hmcuq</td><td>VM.Standard1.16</td></tr><tr><td>ocid1.image.oc1.eu-paris-1.aaaaaaaalvbkaoybngg572c4ybw47avoyv2vk4raeus2bg4hyrbfuq4hmcuq</td><td>VM.Standard1.2</td></tr><tr><td>ocid1.image.oc1.eu-paris-1.aaaaaaaalvbkaoybngg572c4ybw47avoyv2vk4raeus2bg4hyrbfuq4hmcuq</td><td>VM.Standard1.4</td></tr><tr><td>ocid1.image.oc1.eu-paris-1.aaaaaaaalvbkaoybngg572c4ybw47avoyv2vk4raeus2bg4hyrbfuq4hmcuq</td><td>VM.Standard1.8</td></tr><tr><td>ocid1.image.oc1.eu-paris-1.aaaaaaaalvbkaoybngg572c4ybw47avoyv2vk4raeus2bg4hyrbfuq4hmcuq</td><td>VM.Standard2.1</td></tr><tr><td>ocid1.image.oc1.eu-paris-1.aaaaaaaalvbkaoybngg572c4ybw47avoyv2vk4raeus2bg4hyrbfuq4hmcuq</td><td>VM.Standard2.16</td></tr><tr><td>ocid1.image.oc1.eu-paris-1.aaaaaaaalvbkaoybngg572c4ybw47avoyv2vk4raeus2bg4hyrbfuq4hmcuq</td><td>VM.Standard2.2</td></tr><tr><td>ocid1.image.oc1.eu-paris-1.aaaaaaaalvbkaoybngg572c4ybw47avoyv2vk4raeus2bg4hyrbfuq4hmcuq</td><td>VM.Standard2.24</td></tr><tr><td>ocid1.image.oc1.eu-paris-1.aaaaaaaalvbkaoybngg572c4ybw47avoyv2vk4raeus2bg4hyrbfuq4hmcuq</td><td>VM.Standard2.4</td></tr><tr><td>ocid1.image.oc1.eu-paris-1.aaaaaaaalvbkaoybngg572c4ybw47avoyv2vk4raeus2bg4hyrbfuq4hmcuq</td><td>VM.Standard2.8</td></tr><tr><td>ocid1.image.oc1.eu-paris-1.aaaaaaaalvbkaoybngg572c4ybw47avoyv2vk4raeus2bg4hyrbfuq4hmcuq</td><td>VM.Standard2.Flex</td></tr><tr><td>ocid1.image.oc1.eu-paris-1.aaaaaaaalvbkaoybngg572c4ybw47avoyv2vk4raeus2bg4hyrbfuq4hmcuq</td><td>VM.Standard3.Flex</td></tr><tr><td>ocid1.image.oc1.eu-paris-1.aaaaaaaalvbkaoybngg572c4ybw47avoyv2vk4raeus2bg4hyrbfuq4hmcuq</td><td>BM.Standard.E2.64</td></tr><tr><td>ocid1.image.oc1.eu-paris-1.aaaaaaaalvbkaoybngg572c4ybw47avoyv2vk4raeus2bg4hyrbfuq4hmcuq</td><td>BM.Standard.E3.128</td></tr><tr><td>ocid1.image.oc1.eu-paris-1.aaaaaaaalvbkaoybngg572c4ybw47avoyv2vk4raeus2bg4hyrbfuq4hmcuq</td><td>BM.GPU4.8</td></tr><tr><td>ocid1.image.oc1.eu-paris-1.aaaaaaaalvbkaoybngg572c4ybw47avoyv2vk4raeus2bg4hyrbfuq4hmcuq</td><td>BM.Standard.E4.128</td></tr><tr><td>ocid1.image.oc1.eu-paris-1.aaaaaaaalvbkaoybngg572c4ybw47avoyv2vk4raeus2bg4hyrbfuq4hmcuq</td><td>BM.GPU.A100-v2.8</td></tr><tr><td>ocid1.image.oc1.eu-paris-1.aaaaaaaalvbkaoybngg572c4ybw47avoyv2vk4raeus2bg4hyrbfuq4hmcuq</td><td>BM.DenseIO.E4.128</td></tr><tr><td>ocid1.image.oc1.eu-paris-1.aaaaaaaalvbkaoybngg572c4ybw47avoyv2vk4raeus2bg4hyrbfuq4hmcuq</td><td>BM.DenseIO.E5.128</td></tr><tr><td>ocid1.image.oc1.eu-paris-1.aaaaaaaalvbkaoybngg572c4ybw47avoyv2vk4raeus2bg4hyrbfuq4hmcuq</td><td>BM.Standard.E5.192</td></tr><tr><td>ocid1.image.oc1.eu-paris-1.aaaaaaaalvbkaoybngg572c4ybw47avoyv2vk4raeus2bg4hyrbfuq4hmcuq</td><td>BM.Standard1.36</td></tr></tbody></table>"
      ]
     },
     "execution_count": 35,
     "metadata": {},
     "output_type": "execute_result"
    }
   ],
   "source": [
    "await display(resultatVstack);"
   ]
  },
  {
   "cell_type": "code",
   "execution_count": 38,
   "id": "225ee108-a256-4014-9e50-3f25d1908c65",
   "metadata": {},
   "outputs": [
    {
     "data": {
      "application/vnd.dataresource+json": {
       "data": [
        {
         "imageId": "ocid1.image.oc1.eu-paris-1.aaaaaaaalvbkaoybngg572c4ybw47avoyv2vk4raeus2bg4hyrbfuq4hmcuq",
         "shape": "VM.DenseIO.E4.Flex"
        },
        {
         "imageId": "ocid1.image.oc1.eu-paris-1.aaaaaaaalvbkaoybngg572c4ybw47avoyv2vk4raeus2bg4hyrbfuq4hmcuq",
         "shape": "VM.DenseIO.E5.Flex"
        },
        {
         "imageId": "ocid1.image.oc1.eu-paris-1.aaaaaaaalvbkaoybngg572c4ybw47avoyv2vk4raeus2bg4hyrbfuq4hmcuq",
         "shape": "VM.DenseIO1.16"
        },
        {
         "imageId": "ocid1.image.oc1.eu-paris-1.aaaaaaaalvbkaoybngg572c4ybw47avoyv2vk4raeus2bg4hyrbfuq4hmcuq",
         "shape": "VM.DenseIO1.4"
        },
        {
         "imageId": "ocid1.image.oc1.eu-paris-1.aaaaaaaalvbkaoybngg572c4ybw47avoyv2vk4raeus2bg4hyrbfuq4hmcuq",
         "shape": "VM.DenseIO1.8"
        },
        {
         "imageId": "ocid1.image.oc1.eu-paris-1.aaaaaaaalvbkaoybngg572c4ybw47avoyv2vk4raeus2bg4hyrbfuq4hmcuq",
         "shape": "VM.DenseIO2.16"
        },
        {
         "imageId": "ocid1.image.oc1.eu-paris-1.aaaaaaaalvbkaoybngg572c4ybw47avoyv2vk4raeus2bg4hyrbfuq4hmcuq",
         "shape": "VM.DenseIO2.24"
        },
        {
         "imageId": "ocid1.image.oc1.eu-paris-1.aaaaaaaalvbkaoybngg572c4ybw47avoyv2vk4raeus2bg4hyrbfuq4hmcuq",
         "shape": "VM.DenseIO2.8"
        },
        {
         "imageId": "ocid1.image.oc1.eu-paris-1.aaaaaaaalvbkaoybngg572c4ybw47avoyv2vk4raeus2bg4hyrbfuq4hmcuq",
         "shape": "VM.GPU.A10.1"
        },
        {
         "imageId": "ocid1.image.oc1.eu-paris-1.aaaaaaaalvbkaoybngg572c4ybw47avoyv2vk4raeus2bg4hyrbfuq4hmcuq",
         "shape": "VM.GPU.A10.2"
        },
        {
         "imageId": "ocid1.image.oc1.eu-paris-1.aaaaaaaalvbkaoybngg572c4ybw47avoyv2vk4raeus2bg4hyrbfuq4hmcuq",
         "shape": "VM.GPU.GU1.1"
        },
        {
         "imageId": "ocid1.image.oc1.eu-paris-1.aaaaaaaalvbkaoybngg572c4ybw47avoyv2vk4raeus2bg4hyrbfuq4hmcuq",
         "shape": "VM.GPU.GU1.2"
        },
        {
         "imageId": "ocid1.image.oc1.eu-paris-1.aaaaaaaalvbkaoybngg572c4ybw47avoyv2vk4raeus2bg4hyrbfuq4hmcuq",
         "shape": "VM.GPU2.1"
        },
        {
         "imageId": "ocid1.image.oc1.eu-paris-1.aaaaaaaalvbkaoybngg572c4ybw47avoyv2vk4raeus2bg4hyrbfuq4hmcuq",
         "shape": "VM.GPU3.1"
        },
        {
         "imageId": "ocid1.image.oc1.eu-paris-1.aaaaaaaalvbkaoybngg572c4ybw47avoyv2vk4raeus2bg4hyrbfuq4hmcuq",
         "shape": "VM.GPU3.2"
        },
        {
         "imageId": "ocid1.image.oc1.eu-paris-1.aaaaaaaalvbkaoybngg572c4ybw47avoyv2vk4raeus2bg4hyrbfuq4hmcuq",
         "shape": "VM.GPU3.4"
        },
        {
         "imageId": "ocid1.image.oc1.eu-paris-1.aaaaaaaalvbkaoybngg572c4ybw47avoyv2vk4raeus2bg4hyrbfuq4hmcuq",
         "shape": "VM.Optimized3.Flex"
        },
        {
         "imageId": "ocid1.image.oc1.eu-paris-1.aaaaaaaalvbkaoybngg572c4ybw47avoyv2vk4raeus2bg4hyrbfuq4hmcuq",
         "shape": "VM.Standard.AMD.Generic"
        },
        {
         "imageId": "ocid1.image.oc1.eu-paris-1.aaaaaaaalvbkaoybngg572c4ybw47avoyv2vk4raeus2bg4hyrbfuq4hmcuq",
         "shape": "VM.Standard.E2.1"
        },
        {
         "imageId": "ocid1.image.oc1.eu-paris-1.aaaaaaaalvbkaoybngg572c4ybw47avoyv2vk4raeus2bg4hyrbfuq4hmcuq",
         "shape": "VM.Standard.E2.1.Micro"
        },
        {
         "imageId": "ocid1.image.oc1.eu-paris-1.aaaaaaaalvbkaoybngg572c4ybw47avoyv2vk4raeus2bg4hyrbfuq4hmcuq",
         "shape": "VM.Standard.E2.2"
        },
        {
         "imageId": "ocid1.image.oc1.eu-paris-1.aaaaaaaalvbkaoybngg572c4ybw47avoyv2vk4raeus2bg4hyrbfuq4hmcuq",
         "shape": "VM.Standard.E2.4"
        },
        {
         "imageId": "ocid1.image.oc1.eu-paris-1.aaaaaaaalvbkaoybngg572c4ybw47avoyv2vk4raeus2bg4hyrbfuq4hmcuq",
         "shape": "VM.Standard.E2.8"
        },
        {
         "imageId": "ocid1.image.oc1.eu-paris-1.aaaaaaaalvbkaoybngg572c4ybw47avoyv2vk4raeus2bg4hyrbfuq4hmcuq",
         "shape": "VM.Standard.E3.Flex"
        },
        {
         "imageId": "ocid1.image.oc1.eu-paris-1.aaaaaaaalvbkaoybngg572c4ybw47avoyv2vk4raeus2bg4hyrbfuq4hmcuq",
         "shape": "VM.Standard.E4.Flex"
        },
        {
         "imageId": "ocid1.image.oc1.eu-paris-1.aaaaaaaalvbkaoybngg572c4ybw47avoyv2vk4raeus2bg4hyrbfuq4hmcuq",
         "shape": "VM.Standard.E5.Flex"
        },
        {
         "imageId": "ocid1.image.oc1.eu-paris-1.aaaaaaaalvbkaoybngg572c4ybw47avoyv2vk4raeus2bg4hyrbfuq4hmcuq",
         "shape": "VM.Standard.Intel.Generic"
        },
        {
         "imageId": "ocid1.image.oc1.eu-paris-1.aaaaaaaalvbkaoybngg572c4ybw47avoyv2vk4raeus2bg4hyrbfuq4hmcuq",
         "shape": "VM.Standard.x86.Generic"
        },
        {
         "imageId": "ocid1.image.oc1.eu-paris-1.aaaaaaaalvbkaoybngg572c4ybw47avoyv2vk4raeus2bg4hyrbfuq4hmcuq",
         "shape": "VM.Standard1.1"
        },
        {
         "imageId": "ocid1.image.oc1.eu-paris-1.aaaaaaaalvbkaoybngg572c4ybw47avoyv2vk4raeus2bg4hyrbfuq4hmcuq",
         "shape": "VM.Standard1.16"
        },
        {
         "imageId": "ocid1.image.oc1.eu-paris-1.aaaaaaaalvbkaoybngg572c4ybw47avoyv2vk4raeus2bg4hyrbfuq4hmcuq",
         "shape": "VM.Standard1.2"
        },
        {
         "imageId": "ocid1.image.oc1.eu-paris-1.aaaaaaaalvbkaoybngg572c4ybw47avoyv2vk4raeus2bg4hyrbfuq4hmcuq",
         "shape": "VM.Standard1.4"
        },
        {
         "imageId": "ocid1.image.oc1.eu-paris-1.aaaaaaaalvbkaoybngg572c4ybw47avoyv2vk4raeus2bg4hyrbfuq4hmcuq",
         "shape": "VM.Standard1.8"
        },
        {
         "imageId": "ocid1.image.oc1.eu-paris-1.aaaaaaaalvbkaoybngg572c4ybw47avoyv2vk4raeus2bg4hyrbfuq4hmcuq",
         "shape": "VM.Standard2.1"
        },
        {
         "imageId": "ocid1.image.oc1.eu-paris-1.aaaaaaaalvbkaoybngg572c4ybw47avoyv2vk4raeus2bg4hyrbfuq4hmcuq",
         "shape": "VM.Standard2.16"
        },
        {
         "imageId": "ocid1.image.oc1.eu-paris-1.aaaaaaaalvbkaoybngg572c4ybw47avoyv2vk4raeus2bg4hyrbfuq4hmcuq",
         "shape": "VM.Standard2.2"
        },
        {
         "imageId": "ocid1.image.oc1.eu-paris-1.aaaaaaaalvbkaoybngg572c4ybw47avoyv2vk4raeus2bg4hyrbfuq4hmcuq",
         "shape": "VM.Standard2.24"
        },
        {
         "imageId": "ocid1.image.oc1.eu-paris-1.aaaaaaaalvbkaoybngg572c4ybw47avoyv2vk4raeus2bg4hyrbfuq4hmcuq",
         "shape": "VM.Standard2.4"
        },
        {
         "imageId": "ocid1.image.oc1.eu-paris-1.aaaaaaaalvbkaoybngg572c4ybw47avoyv2vk4raeus2bg4hyrbfuq4hmcuq",
         "shape": "VM.Standard2.8"
        },
        {
         "imageId": "ocid1.image.oc1.eu-paris-1.aaaaaaaalvbkaoybngg572c4ybw47avoyv2vk4raeus2bg4hyrbfuq4hmcuq",
         "shape": "VM.Standard2.Flex"
        },
        {
         "imageId": "ocid1.image.oc1.eu-paris-1.aaaaaaaalvbkaoybngg572c4ybw47avoyv2vk4raeus2bg4hyrbfuq4hmcuq",
         "shape": "VM.Standard3.Flex"
        },
        {
         "imageId": "ocid1.image.oc1.eu-paris-1.aaaaaaaalvbkaoybngg572c4ybw47avoyv2vk4raeus2bg4hyrbfuq4hmcuq",
         "shape": "BM.Standard.E2.64"
        },
        {
         "imageId": "ocid1.image.oc1.eu-paris-1.aaaaaaaalvbkaoybngg572c4ybw47avoyv2vk4raeus2bg4hyrbfuq4hmcuq",
         "shape": "BM.Standard.E3.128"
        },
        {
         "imageId": "ocid1.image.oc1.eu-paris-1.aaaaaaaalvbkaoybngg572c4ybw47avoyv2vk4raeus2bg4hyrbfuq4hmcuq",
         "shape": "BM.GPU4.8"
        },
        {
         "imageId": "ocid1.image.oc1.eu-paris-1.aaaaaaaalvbkaoybngg572c4ybw47avoyv2vk4raeus2bg4hyrbfuq4hmcuq",
         "shape": "BM.Standard.E4.128"
        },
        {
         "imageId": "ocid1.image.oc1.eu-paris-1.aaaaaaaalvbkaoybngg572c4ybw47avoyv2vk4raeus2bg4hyrbfuq4hmcuq",
         "shape": "BM.GPU.A100-v2.8"
        },
        {
         "imageId": "ocid1.image.oc1.eu-paris-1.aaaaaaaalvbkaoybngg572c4ybw47avoyv2vk4raeus2bg4hyrbfuq4hmcuq",
         "shape": "BM.DenseIO.E4.128"
        },
        {
         "imageId": "ocid1.image.oc1.eu-paris-1.aaaaaaaalvbkaoybngg572c4ybw47avoyv2vk4raeus2bg4hyrbfuq4hmcuq",
         "shape": "BM.DenseIO.E5.128"
        },
        {
         "imageId": "ocid1.image.oc1.eu-paris-1.aaaaaaaalvbkaoybngg572c4ybw47avoyv2vk4raeus2bg4hyrbfuq4hmcuq",
         "shape": "BM.Standard.E5.192"
        },
        {
         "imageId": "ocid1.image.oc1.eu-paris-1.aaaaaaaalvbkaoybngg572c4ybw47avoyv2vk4raeus2bg4hyrbfuq4hmcuq",
         "shape": "BM.Standard1.36"
        }
       ],
       "schema": {
        "fields": [
         {
          "name": "imageId",
          "type": "string"
         },
         {
          "name": "shape",
          "type": "string"
         }
        ]
       }
      },
      "text/html": [
       "<table><thead><tr><th>imageId</th><th>shape</th></tr></thead><tbody><tr><td>ocid1.image.oc1.eu-paris-1.aaaaaaaalvbkaoybngg572c4ybw47avoyv2vk4raeus2bg4hyrbfuq4hmcuq</td><td>VM.DenseIO.E4.Flex</td></tr><tr><td>ocid1.image.oc1.eu-paris-1.aaaaaaaalvbkaoybngg572c4ybw47avoyv2vk4raeus2bg4hyrbfuq4hmcuq</td><td>VM.DenseIO.E5.Flex</td></tr><tr><td>ocid1.image.oc1.eu-paris-1.aaaaaaaalvbkaoybngg572c4ybw47avoyv2vk4raeus2bg4hyrbfuq4hmcuq</td><td>VM.DenseIO1.16</td></tr><tr><td>ocid1.image.oc1.eu-paris-1.aaaaaaaalvbkaoybngg572c4ybw47avoyv2vk4raeus2bg4hyrbfuq4hmcuq</td><td>VM.DenseIO1.4</td></tr><tr><td>ocid1.image.oc1.eu-paris-1.aaaaaaaalvbkaoybngg572c4ybw47avoyv2vk4raeus2bg4hyrbfuq4hmcuq</td><td>VM.DenseIO1.8</td></tr><tr><td>ocid1.image.oc1.eu-paris-1.aaaaaaaalvbkaoybngg572c4ybw47avoyv2vk4raeus2bg4hyrbfuq4hmcuq</td><td>VM.DenseIO2.16</td></tr><tr><td>ocid1.image.oc1.eu-paris-1.aaaaaaaalvbkaoybngg572c4ybw47avoyv2vk4raeus2bg4hyrbfuq4hmcuq</td><td>VM.DenseIO2.24</td></tr><tr><td>ocid1.image.oc1.eu-paris-1.aaaaaaaalvbkaoybngg572c4ybw47avoyv2vk4raeus2bg4hyrbfuq4hmcuq</td><td>VM.DenseIO2.8</td></tr><tr><td>ocid1.image.oc1.eu-paris-1.aaaaaaaalvbkaoybngg572c4ybw47avoyv2vk4raeus2bg4hyrbfuq4hmcuq</td><td>VM.GPU.A10.1</td></tr><tr><td>ocid1.image.oc1.eu-paris-1.aaaaaaaalvbkaoybngg572c4ybw47avoyv2vk4raeus2bg4hyrbfuq4hmcuq</td><td>VM.GPU.A10.2</td></tr><tr><td>ocid1.image.oc1.eu-paris-1.aaaaaaaalvbkaoybngg572c4ybw47avoyv2vk4raeus2bg4hyrbfuq4hmcuq</td><td>VM.GPU.GU1.1</td></tr><tr><td>ocid1.image.oc1.eu-paris-1.aaaaaaaalvbkaoybngg572c4ybw47avoyv2vk4raeus2bg4hyrbfuq4hmcuq</td><td>VM.GPU.GU1.2</td></tr><tr><td>ocid1.image.oc1.eu-paris-1.aaaaaaaalvbkaoybngg572c4ybw47avoyv2vk4raeus2bg4hyrbfuq4hmcuq</td><td>VM.GPU2.1</td></tr><tr><td>ocid1.image.oc1.eu-paris-1.aaaaaaaalvbkaoybngg572c4ybw47avoyv2vk4raeus2bg4hyrbfuq4hmcuq</td><td>VM.GPU3.1</td></tr><tr><td>ocid1.image.oc1.eu-paris-1.aaaaaaaalvbkaoybngg572c4ybw47avoyv2vk4raeus2bg4hyrbfuq4hmcuq</td><td>VM.GPU3.2</td></tr><tr><td>ocid1.image.oc1.eu-paris-1.aaaaaaaalvbkaoybngg572c4ybw47avoyv2vk4raeus2bg4hyrbfuq4hmcuq</td><td>VM.GPU3.4</td></tr><tr><td>ocid1.image.oc1.eu-paris-1.aaaaaaaalvbkaoybngg572c4ybw47avoyv2vk4raeus2bg4hyrbfuq4hmcuq</td><td>VM.Optimized3.Flex</td></tr><tr><td>ocid1.image.oc1.eu-paris-1.aaaaaaaalvbkaoybngg572c4ybw47avoyv2vk4raeus2bg4hyrbfuq4hmcuq</td><td>VM.Standard.AMD.Generic</td></tr><tr><td>ocid1.image.oc1.eu-paris-1.aaaaaaaalvbkaoybngg572c4ybw47avoyv2vk4raeus2bg4hyrbfuq4hmcuq</td><td>VM.Standard.E2.1</td></tr><tr><td>ocid1.image.oc1.eu-paris-1.aaaaaaaalvbkaoybngg572c4ybw47avoyv2vk4raeus2bg4hyrbfuq4hmcuq</td><td>VM.Standard.E2.1.Micro</td></tr><tr><td>ocid1.image.oc1.eu-paris-1.aaaaaaaalvbkaoybngg572c4ybw47avoyv2vk4raeus2bg4hyrbfuq4hmcuq</td><td>VM.Standard.E2.2</td></tr><tr><td>ocid1.image.oc1.eu-paris-1.aaaaaaaalvbkaoybngg572c4ybw47avoyv2vk4raeus2bg4hyrbfuq4hmcuq</td><td>VM.Standard.E2.4</td></tr><tr><td>ocid1.image.oc1.eu-paris-1.aaaaaaaalvbkaoybngg572c4ybw47avoyv2vk4raeus2bg4hyrbfuq4hmcuq</td><td>VM.Standard.E2.8</td></tr><tr><td>ocid1.image.oc1.eu-paris-1.aaaaaaaalvbkaoybngg572c4ybw47avoyv2vk4raeus2bg4hyrbfuq4hmcuq</td><td>VM.Standard.E3.Flex</td></tr><tr><td>ocid1.image.oc1.eu-paris-1.aaaaaaaalvbkaoybngg572c4ybw47avoyv2vk4raeus2bg4hyrbfuq4hmcuq</td><td>VM.Standard.E4.Flex</td></tr><tr><td>ocid1.image.oc1.eu-paris-1.aaaaaaaalvbkaoybngg572c4ybw47avoyv2vk4raeus2bg4hyrbfuq4hmcuq</td><td>VM.Standard.E5.Flex</td></tr><tr><td>ocid1.image.oc1.eu-paris-1.aaaaaaaalvbkaoybngg572c4ybw47avoyv2vk4raeus2bg4hyrbfuq4hmcuq</td><td>VM.Standard.Intel.Generic</td></tr><tr><td>ocid1.image.oc1.eu-paris-1.aaaaaaaalvbkaoybngg572c4ybw47avoyv2vk4raeus2bg4hyrbfuq4hmcuq</td><td>VM.Standard.x86.Generic</td></tr><tr><td>ocid1.image.oc1.eu-paris-1.aaaaaaaalvbkaoybngg572c4ybw47avoyv2vk4raeus2bg4hyrbfuq4hmcuq</td><td>VM.Standard1.1</td></tr><tr><td>ocid1.image.oc1.eu-paris-1.aaaaaaaalvbkaoybngg572c4ybw47avoyv2vk4raeus2bg4hyrbfuq4hmcuq</td><td>VM.Standard1.16</td></tr><tr><td>ocid1.image.oc1.eu-paris-1.aaaaaaaalvbkaoybngg572c4ybw47avoyv2vk4raeus2bg4hyrbfuq4hmcuq</td><td>VM.Standard1.2</td></tr><tr><td>ocid1.image.oc1.eu-paris-1.aaaaaaaalvbkaoybngg572c4ybw47avoyv2vk4raeus2bg4hyrbfuq4hmcuq</td><td>VM.Standard1.4</td></tr><tr><td>ocid1.image.oc1.eu-paris-1.aaaaaaaalvbkaoybngg572c4ybw47avoyv2vk4raeus2bg4hyrbfuq4hmcuq</td><td>VM.Standard1.8</td></tr><tr><td>ocid1.image.oc1.eu-paris-1.aaaaaaaalvbkaoybngg572c4ybw47avoyv2vk4raeus2bg4hyrbfuq4hmcuq</td><td>VM.Standard2.1</td></tr><tr><td>ocid1.image.oc1.eu-paris-1.aaaaaaaalvbkaoybngg572c4ybw47avoyv2vk4raeus2bg4hyrbfuq4hmcuq</td><td>VM.Standard2.16</td></tr><tr><td>ocid1.image.oc1.eu-paris-1.aaaaaaaalvbkaoybngg572c4ybw47avoyv2vk4raeus2bg4hyrbfuq4hmcuq</td><td>VM.Standard2.2</td></tr><tr><td>ocid1.image.oc1.eu-paris-1.aaaaaaaalvbkaoybngg572c4ybw47avoyv2vk4raeus2bg4hyrbfuq4hmcuq</td><td>VM.Standard2.24</td></tr><tr><td>ocid1.image.oc1.eu-paris-1.aaaaaaaalvbkaoybngg572c4ybw47avoyv2vk4raeus2bg4hyrbfuq4hmcuq</td><td>VM.Standard2.4</td></tr><tr><td>ocid1.image.oc1.eu-paris-1.aaaaaaaalvbkaoybngg572c4ybw47avoyv2vk4raeus2bg4hyrbfuq4hmcuq</td><td>VM.Standard2.8</td></tr><tr><td>ocid1.image.oc1.eu-paris-1.aaaaaaaalvbkaoybngg572c4ybw47avoyv2vk4raeus2bg4hyrbfuq4hmcuq</td><td>VM.Standard2.Flex</td></tr><tr><td>ocid1.image.oc1.eu-paris-1.aaaaaaaalvbkaoybngg572c4ybw47avoyv2vk4raeus2bg4hyrbfuq4hmcuq</td><td>VM.Standard3.Flex</td></tr><tr><td>ocid1.image.oc1.eu-paris-1.aaaaaaaalvbkaoybngg572c4ybw47avoyv2vk4raeus2bg4hyrbfuq4hmcuq</td><td>BM.Standard.E2.64</td></tr><tr><td>ocid1.image.oc1.eu-paris-1.aaaaaaaalvbkaoybngg572c4ybw47avoyv2vk4raeus2bg4hyrbfuq4hmcuq</td><td>BM.Standard.E3.128</td></tr><tr><td>ocid1.image.oc1.eu-paris-1.aaaaaaaalvbkaoybngg572c4ybw47avoyv2vk4raeus2bg4hyrbfuq4hmcuq</td><td>BM.GPU4.8</td></tr><tr><td>ocid1.image.oc1.eu-paris-1.aaaaaaaalvbkaoybngg572c4ybw47avoyv2vk4raeus2bg4hyrbfuq4hmcuq</td><td>BM.Standard.E4.128</td></tr><tr><td>ocid1.image.oc1.eu-paris-1.aaaaaaaalvbkaoybngg572c4ybw47avoyv2vk4raeus2bg4hyrbfuq4hmcuq</td><td>BM.GPU.A100-v2.8</td></tr><tr><td>ocid1.image.oc1.eu-paris-1.aaaaaaaalvbkaoybngg572c4ybw47avoyv2vk4raeus2bg4hyrbfuq4hmcuq</td><td>BM.DenseIO.E4.128</td></tr><tr><td>ocid1.image.oc1.eu-paris-1.aaaaaaaalvbkaoybngg572c4ybw47avoyv2vk4raeus2bg4hyrbfuq4hmcuq</td><td>BM.DenseIO.E5.128</td></tr><tr><td>ocid1.image.oc1.eu-paris-1.aaaaaaaalvbkaoybngg572c4ybw47avoyv2vk4raeus2bg4hyrbfuq4hmcuq</td><td>BM.Standard.E5.192</td></tr><tr><td>ocid1.image.oc1.eu-paris-1.aaaaaaaalvbkaoybngg572c4ybw47avoyv2vk4raeus2bg4hyrbfuq4hmcuq</td><td>BM.Standard1.36</td></tr></tbody></table>"
      ]
     },
     "execution_count": 38,
     "metadata": {},
     "output_type": "execute_result"
    }
   ],
   "source": [
    "resultatVstack.tail(5000)"
   ]
  },
  {
   "cell_type": "code",
   "execution_count": 42,
   "id": "59e354dc-2265-46ea-be09-5587b664e6f3",
   "metadata": {},
   "outputs": [
    {
     "data": {
      "application/vnd.dataresource+json": {
       "data": [
        {
         "Number of Shapes": 60,
         "ocid1.image.oc1.eu-paris-1.aaaaaaaaf7irdvozuzmwyvbfacdivomj52x65vr6tlg62i6er323sevazdqq": null,
         "ocid1.image.oc1.eu-paris-1.aaaaaaaalvbkaoybngg572c4ybw47avoyv2vk4raeus2bg4hyrbfuq4hmcuq": [
          "VM.DenseIO.E4.Flex",
          "VM.DenseIO.E5.Flex",
          "VM.DenseIO1.16",
          "VM.DenseIO1.4",
          "VM.DenseIO1.8",
          "VM.DenseIO2.16",
          "VM.DenseIO2.24",
          "VM.DenseIO2.8",
          "VM.GPU.A10.1",
          "VM.GPU.A10.2",
          "VM.GPU.GU1.1",
          "VM.GPU.GU1.2",
          "VM.GPU2.1",
          "VM.GPU3.1",
          "VM.GPU3.2",
          "VM.GPU3.4",
          "VM.Optimized3.Flex",
          "VM.Standard.AMD.Generic",
          "VM.Standard.E2.1",
          "VM.Standard.E2.1.Micro",
          "VM.Standard.E2.2",
          "VM.Standard.E2.4",
          "VM.Standard.E2.8",
          "VM.Standard.E3.Flex",
          "VM.Standard.E4.Flex",
          "VM.Standard.E5.Flex",
          "VM.Standard.Intel.Generic",
          "VM.Standard.x86.Generic",
          "VM.Standard1.1",
          "VM.Standard1.16",
          "VM.Standard1.2",
          "VM.Standard1.4",
          "VM.Standard1.8",
          "VM.Standard2.1",
          "VM.Standard2.16",
          "VM.Standard2.2",
          "VM.Standard2.24",
          "VM.Standard2.4",
          "VM.Standard2.8",
          "VM.Standard2.Flex",
          "VM.Standard3.Flex",
          "BM.Standard.E2.64",
          "BM.Standard.E3.128",
          "BM.GPU4.8",
          "BM.Standard.E4.128",
          "BM.GPU.A100-v2.8",
          "BM.DenseIO.E4.128",
          "BM.DenseIO.E5.128",
          "BM.Standard.E5.192",
          "BM.Standard1.36",
          "BM.HighIO1.36",
          "BM.DenseIO1.36",
          "BM.GPU2.2",
          "BM.HPC2.36",
          "BM.Standard2.52",
          "BM.GPU3.8",
          "BM.DenseIO2.52",
          "BM.Optimized3.36",
          "BM.Standard3.64",
          "BM.GPU.A10.4"
         ]
        },
        {
         "Number of Shapes": 68,
         "ocid1.image.oc1.eu-paris-1.aaaaaaaaf7irdvozuzmwyvbfacdivomj52x65vr6tlg62i6er323sevazdqq": [
          "VM.DenseIO.E4.Flex",
          "VM.DenseIO.E5.Flex",
          "VM.DenseIO1.16",
          "VM.DenseIO1.4",
          "VM.DenseIO1.8",
          "VM.DenseIO2.16",
          "VM.DenseIO2.24",
          "VM.DenseIO2.8",
          "VM.GPU.A10.1",
          "VM.GPU.A10.2",
          "VM.GPU.GU1.1",
          "VM.GPU.GU1.2",
          "VM.GPU2.1",
          "VM.GPU3.1",
          "VM.GPU3.2",
          "VM.GPU3.4",
          "VM.Optimized3.Flex",
          "VM.Standard.AMD.Generic",
          "VM.Standard.B1.1",
          "VM.Standard.B1.16",
          "VM.Standard.B1.2",
          "VM.Standard.B1.4",
          "VM.Standard.B1.8",
          "VM.Standard.E2.1",
          "VM.Standard.E2.1.Micro",
          "VM.Standard.E2.2",
          "VM.Standard.E2.4",
          "VM.Standard.E2.8",
          "VM.Standard.E3.Flex",
          "VM.Standard.E4.Flex",
          "VM.Standard.E5.Flex",
          "VM.Standard.Intel.Generic",
          "VM.Standard.x86.Generic",
          "VM.Standard1.1",
          "VM.Standard1.16",
          "VM.Standard1.2",
          "VM.Standard1.4",
          "VM.Standard1.8",
          "VM.Standard2.1",
          "VM.Standard2.16",
          "VM.Standard2.2",
          "VM.Standard2.24",
          "VM.Standard2.4",
          "VM.Standard2.8",
          "VM.Standard2.Flex",
          "VM.Standard3.Flex",
          "BM.Standard.E2.64",
          "BM.Standard.E3.128",
          "BM.GPU4.8",
          "BM.Standard.E4.128",
          "BM.GPU.A100-v2.8",
          "BM.DenseIO.E4.128",
          "BM.DenseIO.E5.128",
          "BM.Standard.E5.192",
          "BM.GPU.H100.8",
          "BM.Standard1.36",
          "BM.HighIO1.36",
          "BM.DenseIO1.36",
          "BM.Standard.B1.44",
          "BM.GPU2.2",
          "BM.HPC2.36",
          "BM.Standard2.52",
          "BM.GPU3.8",
          "BM.DenseIO2.52",
          "BM.GPU.T1.2",
          "BM.Optimized3.36",
          "BM.Standard3.64",
          "BM.GPU.A10.4"
         ],
         "ocid1.image.oc1.eu-paris-1.aaaaaaaalvbkaoybngg572c4ybw47avoyv2vk4raeus2bg4hyrbfuq4hmcuq": null
        }
       ],
       "schema": {
        "fields": [
         {
          "name": "Number of Shapes",
          "type": "integer"
         },
         {
          "name": "ocid1.image.oc1.eu-paris-1.aaaaaaaalvbkaoybngg572c4ybw47avoyv2vk4raeus2bg4hyrbfuq4hmcuq",
          "type": "array"
         },
         {
          "name": "ocid1.image.oc1.eu-paris-1.aaaaaaaaf7irdvozuzmwyvbfacdivomj52x65vr6tlg62i6er323sevazdqq",
          "type": "array"
         }
        ]
       }
      },
      "text/html": [
       "<table><thead><tr><th>Number of Shapes</th><th>ocid1.image.oc1.eu-paris-1.aaaaaaaalvbkaoybngg572c4ybw47avoyv2vk4raeus2bg4hyrbfuq4hmcuq</th><th>ocid1.image.oc1.eu-paris-1.aaaaaaaaf7irdvozuzmwyvbfacdivomj52x65vr6tlg62i6er323sevazdqq</th></tr></thead><tbody><tr><td>60</td><td>VM.DenseIO.E4.Flex,VM.DenseIO.E5.Flex,VM.DenseIO1.16,VM.DenseIO1.4,VM.DenseIO1.8,VM.DenseIO2.16,VM.DenseIO2.24,VM.DenseIO2.8,VM.GPU.A10.1,VM.GPU.A10.2,VM.GPU.GU1.1,VM.GPU.GU1.2,VM.GPU2.1,VM.GPU3.1,VM.GPU3.2,VM.GPU3.4,VM.Optimized3.Flex,VM.Standard.AMD.Generic,VM.Standard.E2.1,VM.Standard.E2.1.Micro,VM.Standard.E2.2,VM.Standard.E2.4,VM.Standard.E2.8,VM.Standard.E3.Flex,VM.Standard.E4.Flex,VM.Standard.E5.Flex,VM.Standard.Intel.Generic,VM.Standard.x86.Generic,VM.Standard1.1,VM.Standard1.16,VM.Standard1.2,VM.Standard1.4,VM.Standard1.8,VM.Standard2.1,VM.Standard2.16,VM.Standard2.2,VM.Standard2.24,VM.Standard2.4,VM.Standard2.8,VM.Standard2.Flex,VM.Standard3.Flex,BM.Standard.E2.64,BM.Standard.E3.128,BM.GPU4.8,BM.Standard.E4.128,BM.GPU.A100-v2.8,BM.DenseIO.E4.128,BM.DenseIO.E5.128,BM.Standard.E5.192,BM.Standard1.36,BM.HighIO1.36,BM.DenseIO1.36,BM.GPU2.2,BM.HPC2.36,BM.Standard2.52,BM.GPU3.8,BM.DenseIO2.52,BM.Optimized3.36,BM.Standard3.64,BM.GPU.A10.4</td><td>null</td></tr><tr><td>68</td><td>null</td><td>VM.DenseIO.E4.Flex,VM.DenseIO.E5.Flex,VM.DenseIO1.16,VM.DenseIO1.4,VM.DenseIO1.8,VM.DenseIO2.16,VM.DenseIO2.24,VM.DenseIO2.8,VM.GPU.A10.1,VM.GPU.A10.2,VM.GPU.GU1.1,VM.GPU.GU1.2,VM.GPU2.1,VM.GPU3.1,VM.GPU3.2,VM.GPU3.4,VM.Optimized3.Flex,VM.Standard.AMD.Generic,VM.Standard.B1.1,VM.Standard.B1.16,VM.Standard.B1.2,VM.Standard.B1.4,VM.Standard.B1.8,VM.Standard.E2.1,VM.Standard.E2.1.Micro,VM.Standard.E2.2,VM.Standard.E2.4,VM.Standard.E2.8,VM.Standard.E3.Flex,VM.Standard.E4.Flex,VM.Standard.E5.Flex,VM.Standard.Intel.Generic,VM.Standard.x86.Generic,VM.Standard1.1,VM.Standard1.16,VM.Standard1.2,VM.Standard1.4,VM.Standard1.8,VM.Standard2.1,VM.Standard2.16,VM.Standard2.2,VM.Standard2.24,VM.Standard2.4,VM.Standard2.8,VM.Standard2.Flex,VM.Standard3.Flex,BM.Standard.E2.64,BM.Standard.E3.128,BM.GPU4.8,BM.Standard.E4.128,BM.GPU.A100-v2.8,BM.DenseIO.E4.128,BM.DenseIO.E5.128,BM.Standard.E5.192,BM.GPU.H100.8,BM.Standard1.36,BM.HighIO1.36,BM.DenseIO1.36,BM.Standard.B1.44,BM.GPU2.2,BM.HPC2.36,BM.Standard2.52,BM.GPU3.8,BM.DenseIO2.52,BM.GPU.T1.2,BM.Optimized3.36,BM.Standard3.64,BM.GPU.A10.4</td></tr></tbody></table>"
      ]
     },
     "execution_count": 42,
     "metadata": {},
     "output_type": "execute_result"
    }
   ],
   "source": [
    "resultatVstack.groupBy(\"imageId\").agg(\n",
    "    pl.col(\"shape\").alias(\"shape\"),\n",
    "    pl.col(\"shape\").count().alias(\"Number of Shapes\")\n",
    ").select(\n",
    "    pl.col(\"imageId\").alias(\"imageId\"),\n",
    "    pl.col(\"shape\").alias(\"shape\"),\n",
    "    pl.col(\"Number of Shapes\").alias(\"Number of Shapes\")\n",
    ").pivot(pl.col(\"shape\"), {values:\"shape\", index: \"Number of Shapes\", columns:\"imageId\"})"
   ]
  },
  {
   "cell_type": "markdown",
   "id": "172fc901-fa5c-449e-aeae-a7eb82a91a36",
   "metadata": {},
   "source": [
    "## Group by `ImageID`"
   ]
  },
  {
   "cell_type": "code",
   "execution_count": 44,
   "id": "5ef2f35b-8135-4ddb-a0e5-8e65d5586bfd",
   "metadata": {},
   "outputs": [
    {
     "data": {
      "application/vnd.dataresource+json": {
       "data": [
        {
         "Number of Shapes": 60,
         "imageId": "ocid1.image.oc1.eu-paris-1.aaaaaaaalvbkaoybngg572c4ybw47avoyv2vk4raeus2bg4hyrbfuq4hmcuq",
         "shape": [
          "VM.DenseIO.E4.Flex",
          "VM.DenseIO.E5.Flex",
          "VM.DenseIO1.16",
          "VM.DenseIO1.4",
          "VM.DenseIO1.8",
          "VM.DenseIO2.16",
          "VM.DenseIO2.24",
          "VM.DenseIO2.8",
          "VM.GPU.A10.1",
          "VM.GPU.A10.2",
          "VM.GPU.GU1.1",
          "VM.GPU.GU1.2",
          "VM.GPU2.1",
          "VM.GPU3.1",
          "VM.GPU3.2",
          "VM.GPU3.4",
          "VM.Optimized3.Flex",
          "VM.Standard.AMD.Generic",
          "VM.Standard.E2.1",
          "VM.Standard.E2.1.Micro",
          "VM.Standard.E2.2",
          "VM.Standard.E2.4",
          "VM.Standard.E2.8",
          "VM.Standard.E3.Flex",
          "VM.Standard.E4.Flex",
          "VM.Standard.E5.Flex",
          "VM.Standard.Intel.Generic",
          "VM.Standard.x86.Generic",
          "VM.Standard1.1",
          "VM.Standard1.16",
          "VM.Standard1.2",
          "VM.Standard1.4",
          "VM.Standard1.8",
          "VM.Standard2.1",
          "VM.Standard2.16",
          "VM.Standard2.2",
          "VM.Standard2.24",
          "VM.Standard2.4",
          "VM.Standard2.8",
          "VM.Standard2.Flex",
          "VM.Standard3.Flex",
          "BM.Standard.E2.64",
          "BM.Standard.E3.128",
          "BM.GPU4.8",
          "BM.Standard.E4.128",
          "BM.GPU.A100-v2.8",
          "BM.DenseIO.E4.128",
          "BM.DenseIO.E5.128",
          "BM.Standard.E5.192",
          "BM.Standard1.36",
          "BM.HighIO1.36",
          "BM.DenseIO1.36",
          "BM.GPU2.2",
          "BM.HPC2.36",
          "BM.Standard2.52",
          "BM.GPU3.8",
          "BM.DenseIO2.52",
          "BM.Optimized3.36",
          "BM.Standard3.64",
          "BM.GPU.A10.4"
         ]
        },
        {
         "Number of Shapes": 68,
         "imageId": "ocid1.image.oc1.eu-paris-1.aaaaaaaaf7irdvozuzmwyvbfacdivomj52x65vr6tlg62i6er323sevazdqq",
         "shape": [
          "VM.DenseIO.E4.Flex",
          "VM.DenseIO.E5.Flex",
          "VM.DenseIO1.16",
          "VM.DenseIO1.4",
          "VM.DenseIO1.8",
          "VM.DenseIO2.16",
          "VM.DenseIO2.24",
          "VM.DenseIO2.8",
          "VM.GPU.A10.1",
          "VM.GPU.A10.2",
          "VM.GPU.GU1.1",
          "VM.GPU.GU1.2",
          "VM.GPU2.1",
          "VM.GPU3.1",
          "VM.GPU3.2",
          "VM.GPU3.4",
          "VM.Optimized3.Flex",
          "VM.Standard.AMD.Generic",
          "VM.Standard.B1.1",
          "VM.Standard.B1.16",
          "VM.Standard.B1.2",
          "VM.Standard.B1.4",
          "VM.Standard.B1.8",
          "VM.Standard.E2.1",
          "VM.Standard.E2.1.Micro",
          "VM.Standard.E2.2",
          "VM.Standard.E2.4",
          "VM.Standard.E2.8",
          "VM.Standard.E3.Flex",
          "VM.Standard.E4.Flex",
          "VM.Standard.E5.Flex",
          "VM.Standard.Intel.Generic",
          "VM.Standard.x86.Generic",
          "VM.Standard1.1",
          "VM.Standard1.16",
          "VM.Standard1.2",
          "VM.Standard1.4",
          "VM.Standard1.8",
          "VM.Standard2.1",
          "VM.Standard2.16",
          "VM.Standard2.2",
          "VM.Standard2.24",
          "VM.Standard2.4",
          "VM.Standard2.8",
          "VM.Standard2.Flex",
          "VM.Standard3.Flex",
          "BM.Standard.E2.64",
          "BM.Standard.E3.128",
          "BM.GPU4.8",
          "BM.Standard.E4.128",
          "BM.GPU.A100-v2.8",
          "BM.DenseIO.E4.128",
          "BM.DenseIO.E5.128",
          "BM.Standard.E5.192",
          "BM.GPU.H100.8",
          "BM.Standard1.36",
          "BM.HighIO1.36",
          "BM.DenseIO1.36",
          "BM.Standard.B1.44",
          "BM.GPU2.2",
          "BM.HPC2.36",
          "BM.Standard2.52",
          "BM.GPU3.8",
          "BM.DenseIO2.52",
          "BM.GPU.T1.2",
          "BM.Optimized3.36",
          "BM.Standard3.64",
          "BM.GPU.A10.4"
         ]
        }
       ],
       "schema": {
        "fields": [
         {
          "name": "imageId",
          "type": "string"
         },
         {
          "name": "shape",
          "type": "array"
         },
         {
          "name": "Number of Shapes",
          "type": "integer"
         }
        ]
       }
      },
      "text/html": [
       "<table><thead><tr><th>imageId</th><th>shape</th><th>Number of Shapes</th></tr></thead><tbody><tr><td>ocid1.image.oc1.eu-paris-1.aaaaaaaalvbkaoybngg572c4ybw47avoyv2vk4raeus2bg4hyrbfuq4hmcuq</td><td>VM.DenseIO.E4.Flex,VM.DenseIO.E5.Flex,VM.DenseIO1.16,VM.DenseIO1.4,VM.DenseIO1.8,VM.DenseIO2.16,VM.DenseIO2.24,VM.DenseIO2.8,VM.GPU.A10.1,VM.GPU.A10.2,VM.GPU.GU1.1,VM.GPU.GU1.2,VM.GPU2.1,VM.GPU3.1,VM.GPU3.2,VM.GPU3.4,VM.Optimized3.Flex,VM.Standard.AMD.Generic,VM.Standard.E2.1,VM.Standard.E2.1.Micro,VM.Standard.E2.2,VM.Standard.E2.4,VM.Standard.E2.8,VM.Standard.E3.Flex,VM.Standard.E4.Flex,VM.Standard.E5.Flex,VM.Standard.Intel.Generic,VM.Standard.x86.Generic,VM.Standard1.1,VM.Standard1.16,VM.Standard1.2,VM.Standard1.4,VM.Standard1.8,VM.Standard2.1,VM.Standard2.16,VM.Standard2.2,VM.Standard2.24,VM.Standard2.4,VM.Standard2.8,VM.Standard2.Flex,VM.Standard3.Flex,BM.Standard.E2.64,BM.Standard.E3.128,BM.GPU4.8,BM.Standard.E4.128,BM.GPU.A100-v2.8,BM.DenseIO.E4.128,BM.DenseIO.E5.128,BM.Standard.E5.192,BM.Standard1.36,BM.HighIO1.36,BM.DenseIO1.36,BM.GPU2.2,BM.HPC2.36,BM.Standard2.52,BM.GPU3.8,BM.DenseIO2.52,BM.Optimized3.36,BM.Standard3.64,BM.GPU.A10.4</td><td>60</td></tr><tr><td>ocid1.image.oc1.eu-paris-1.aaaaaaaaf7irdvozuzmwyvbfacdivomj52x65vr6tlg62i6er323sevazdqq</td><td>VM.DenseIO.E4.Flex,VM.DenseIO.E5.Flex,VM.DenseIO1.16,VM.DenseIO1.4,VM.DenseIO1.8,VM.DenseIO2.16,VM.DenseIO2.24,VM.DenseIO2.8,VM.GPU.A10.1,VM.GPU.A10.2,VM.GPU.GU1.1,VM.GPU.GU1.2,VM.GPU2.1,VM.GPU3.1,VM.GPU3.2,VM.GPU3.4,VM.Optimized3.Flex,VM.Standard.AMD.Generic,VM.Standard.B1.1,VM.Standard.B1.16,VM.Standard.B1.2,VM.Standard.B1.4,VM.Standard.B1.8,VM.Standard.E2.1,VM.Standard.E2.1.Micro,VM.Standard.E2.2,VM.Standard.E2.4,VM.Standard.E2.8,VM.Standard.E3.Flex,VM.Standard.E4.Flex,VM.Standard.E5.Flex,VM.Standard.Intel.Generic,VM.Standard.x86.Generic,VM.Standard1.1,VM.Standard1.16,VM.Standard1.2,VM.Standard1.4,VM.Standard1.8,VM.Standard2.1,VM.Standard2.16,VM.Standard2.2,VM.Standard2.24,VM.Standard2.4,VM.Standard2.8,VM.Standard2.Flex,VM.Standard3.Flex,BM.Standard.E2.64,BM.Standard.E3.128,BM.GPU4.8,BM.Standard.E4.128,BM.GPU.A100-v2.8,BM.DenseIO.E4.128,BM.DenseIO.E5.128,BM.Standard.E5.192,BM.GPU.H100.8,BM.Standard1.36,BM.HighIO1.36,BM.DenseIO1.36,BM.Standard.B1.44,BM.GPU2.2,BM.HPC2.36,BM.Standard2.52,BM.GPU3.8,BM.DenseIO2.52,BM.GPU.T1.2,BM.Optimized3.36,BM.Standard3.64,BM.GPU.A10.4</td><td>68</td></tr></tbody></table>"
      ]
     },
     "execution_count": 44,
     "metadata": {},
     "output_type": "execute_result"
    }
   ],
   "source": [
    "resultatVstack.groupBy(\"imageId\").agg(\n",
    "    pl.col(\"shape\").alias(\"shape\"),\n",
    "    pl.col(\"shape\").count().alias(\"Number of Shapes\")\n",
    ").select(\n",
    "    pl.col(\"imageId\").alias(\"imageId\"),\n",
    "    pl.col(\"shape\").alias(\"shape\"),\n",
    "    pl.col(\"Number of Shapes\").alias(\"Number of Shapes\")\n",
    ")"
   ]
  },
  {
   "cell_type": "markdown",
   "id": "a5db9021-c1dc-41e5-a215-0f0c81322824",
   "metadata": {},
   "source": [
    "## Group by `shape`\n",
    "\n",
    "This one appears to bring no interesting information: by sorting by shape, it seems all results are there, almost like we would want them..."
   ]
  },
  {
   "cell_type": "code",
   "execution_count": 47,
   "id": "ab208942-de21-4c6a-9b1e-19af2e3dc48d",
   "metadata": {},
   "outputs": [
    {
     "data": {
      "application/vnd.dataresource+json": {
       "data": [
        {
         "imageId": [
          "ocid1.image.oc1.eu-paris-1.aaaaaaaalvbkaoybngg572c4ybw47avoyv2vk4raeus2bg4hyrbfuq4hmcuq",
          "ocid1.image.oc1.eu-paris-1.aaaaaaaaf7irdvozuzmwyvbfacdivomj52x65vr6tlg62i6er323sevazdqq"
         ],
         "shape": "VM.Standard3.Flex"
        },
        {
         "imageId": [
          "ocid1.image.oc1.eu-paris-1.aaaaaaaalvbkaoybngg572c4ybw47avoyv2vk4raeus2bg4hyrbfuq4hmcuq",
          "ocid1.image.oc1.eu-paris-1.aaaaaaaaf7irdvozuzmwyvbfacdivomj52x65vr6tlg62i6er323sevazdqq"
         ],
         "shape": "VM.Standard2.Flex"
        },
        {
         "imageId": [
          "ocid1.image.oc1.eu-paris-1.aaaaaaaalvbkaoybngg572c4ybw47avoyv2vk4raeus2bg4hyrbfuq4hmcuq",
          "ocid1.image.oc1.eu-paris-1.aaaaaaaaf7irdvozuzmwyvbfacdivomj52x65vr6tlg62i6er323sevazdqq"
         ],
         "shape": "VM.Standard2.8"
        },
        {
         "imageId": [
          "ocid1.image.oc1.eu-paris-1.aaaaaaaalvbkaoybngg572c4ybw47avoyv2vk4raeus2bg4hyrbfuq4hmcuq",
          "ocid1.image.oc1.eu-paris-1.aaaaaaaaf7irdvozuzmwyvbfacdivomj52x65vr6tlg62i6er323sevazdqq"
         ],
         "shape": "VM.Standard2.4"
        },
        {
         "imageId": [
          "ocid1.image.oc1.eu-paris-1.aaaaaaaalvbkaoybngg572c4ybw47avoyv2vk4raeus2bg4hyrbfuq4hmcuq",
          "ocid1.image.oc1.eu-paris-1.aaaaaaaaf7irdvozuzmwyvbfacdivomj52x65vr6tlg62i6er323sevazdqq"
         ],
         "shape": "VM.Standard2.24"
        },
        {
         "imageId": [
          "ocid1.image.oc1.eu-paris-1.aaaaaaaalvbkaoybngg572c4ybw47avoyv2vk4raeus2bg4hyrbfuq4hmcuq",
          "ocid1.image.oc1.eu-paris-1.aaaaaaaaf7irdvozuzmwyvbfacdivomj52x65vr6tlg62i6er323sevazdqq"
         ],
         "shape": "VM.Standard2.2"
        },
        {
         "imageId": [
          "ocid1.image.oc1.eu-paris-1.aaaaaaaalvbkaoybngg572c4ybw47avoyv2vk4raeus2bg4hyrbfuq4hmcuq",
          "ocid1.image.oc1.eu-paris-1.aaaaaaaaf7irdvozuzmwyvbfacdivomj52x65vr6tlg62i6er323sevazdqq"
         ],
         "shape": "VM.Standard2.16"
        },
        {
         "imageId": [
          "ocid1.image.oc1.eu-paris-1.aaaaaaaalvbkaoybngg572c4ybw47avoyv2vk4raeus2bg4hyrbfuq4hmcuq",
          "ocid1.image.oc1.eu-paris-1.aaaaaaaaf7irdvozuzmwyvbfacdivomj52x65vr6tlg62i6er323sevazdqq"
         ],
         "shape": "VM.Standard2.1"
        },
        {
         "imageId": [
          "ocid1.image.oc1.eu-paris-1.aaaaaaaalvbkaoybngg572c4ybw47avoyv2vk4raeus2bg4hyrbfuq4hmcuq",
          "ocid1.image.oc1.eu-paris-1.aaaaaaaaf7irdvozuzmwyvbfacdivomj52x65vr6tlg62i6er323sevazdqq"
         ],
         "shape": "VM.Standard1.8"
        },
        {
         "imageId": [
          "ocid1.image.oc1.eu-paris-1.aaaaaaaalvbkaoybngg572c4ybw47avoyv2vk4raeus2bg4hyrbfuq4hmcuq",
          "ocid1.image.oc1.eu-paris-1.aaaaaaaaf7irdvozuzmwyvbfacdivomj52x65vr6tlg62i6er323sevazdqq"
         ],
         "shape": "VM.Standard1.4"
        },
        {
         "imageId": [
          "ocid1.image.oc1.eu-paris-1.aaaaaaaalvbkaoybngg572c4ybw47avoyv2vk4raeus2bg4hyrbfuq4hmcuq",
          "ocid1.image.oc1.eu-paris-1.aaaaaaaaf7irdvozuzmwyvbfacdivomj52x65vr6tlg62i6er323sevazdqq"
         ],
         "shape": "VM.Standard1.2"
        },
        {
         "imageId": [
          "ocid1.image.oc1.eu-paris-1.aaaaaaaalvbkaoybngg572c4ybw47avoyv2vk4raeus2bg4hyrbfuq4hmcuq",
          "ocid1.image.oc1.eu-paris-1.aaaaaaaaf7irdvozuzmwyvbfacdivomj52x65vr6tlg62i6er323sevazdqq"
         ],
         "shape": "VM.Standard1.16"
        },
        {
         "imageId": [
          "ocid1.image.oc1.eu-paris-1.aaaaaaaalvbkaoybngg572c4ybw47avoyv2vk4raeus2bg4hyrbfuq4hmcuq",
          "ocid1.image.oc1.eu-paris-1.aaaaaaaaf7irdvozuzmwyvbfacdivomj52x65vr6tlg62i6er323sevazdqq"
         ],
         "shape": "VM.Standard1.1"
        },
        {
         "imageId": [
          "ocid1.image.oc1.eu-paris-1.aaaaaaaalvbkaoybngg572c4ybw47avoyv2vk4raeus2bg4hyrbfuq4hmcuq",
          "ocid1.image.oc1.eu-paris-1.aaaaaaaaf7irdvozuzmwyvbfacdivomj52x65vr6tlg62i6er323sevazdqq"
         ],
         "shape": "VM.Standard.x86.Generic"
        },
        {
         "imageId": [
          "ocid1.image.oc1.eu-paris-1.aaaaaaaalvbkaoybngg572c4ybw47avoyv2vk4raeus2bg4hyrbfuq4hmcuq",
          "ocid1.image.oc1.eu-paris-1.aaaaaaaaf7irdvozuzmwyvbfacdivomj52x65vr6tlg62i6er323sevazdqq"
         ],
         "shape": "VM.Standard.Intel.Generic"
        },
        {
         "imageId": [
          "ocid1.image.oc1.eu-paris-1.aaaaaaaalvbkaoybngg572c4ybw47avoyv2vk4raeus2bg4hyrbfuq4hmcuq",
          "ocid1.image.oc1.eu-paris-1.aaaaaaaaf7irdvozuzmwyvbfacdivomj52x65vr6tlg62i6er323sevazdqq"
         ],
         "shape": "VM.Standard.E5.Flex"
        },
        {
         "imageId": [
          "ocid1.image.oc1.eu-paris-1.aaaaaaaalvbkaoybngg572c4ybw47avoyv2vk4raeus2bg4hyrbfuq4hmcuq",
          "ocid1.image.oc1.eu-paris-1.aaaaaaaaf7irdvozuzmwyvbfacdivomj52x65vr6tlg62i6er323sevazdqq"
         ],
         "shape": "VM.Standard.E4.Flex"
        },
        {
         "imageId": [
          "ocid1.image.oc1.eu-paris-1.aaaaaaaalvbkaoybngg572c4ybw47avoyv2vk4raeus2bg4hyrbfuq4hmcuq",
          "ocid1.image.oc1.eu-paris-1.aaaaaaaaf7irdvozuzmwyvbfacdivomj52x65vr6tlg62i6er323sevazdqq"
         ],
         "shape": "VM.Standard.E3.Flex"
        },
        {
         "imageId": [
          "ocid1.image.oc1.eu-paris-1.aaaaaaaalvbkaoybngg572c4ybw47avoyv2vk4raeus2bg4hyrbfuq4hmcuq",
          "ocid1.image.oc1.eu-paris-1.aaaaaaaaf7irdvozuzmwyvbfacdivomj52x65vr6tlg62i6er323sevazdqq"
         ],
         "shape": "VM.Standard.E2.8"
        },
        {
         "imageId": [
          "ocid1.image.oc1.eu-paris-1.aaaaaaaalvbkaoybngg572c4ybw47avoyv2vk4raeus2bg4hyrbfuq4hmcuq",
          "ocid1.image.oc1.eu-paris-1.aaaaaaaaf7irdvozuzmwyvbfacdivomj52x65vr6tlg62i6er323sevazdqq"
         ],
         "shape": "VM.Standard.E2.4"
        },
        {
         "imageId": [
          "ocid1.image.oc1.eu-paris-1.aaaaaaaalvbkaoybngg572c4ybw47avoyv2vk4raeus2bg4hyrbfuq4hmcuq",
          "ocid1.image.oc1.eu-paris-1.aaaaaaaaf7irdvozuzmwyvbfacdivomj52x65vr6tlg62i6er323sevazdqq"
         ],
         "shape": "VM.Standard.E2.2"
        },
        {
         "imageId": [
          "ocid1.image.oc1.eu-paris-1.aaaaaaaalvbkaoybngg572c4ybw47avoyv2vk4raeus2bg4hyrbfuq4hmcuq",
          "ocid1.image.oc1.eu-paris-1.aaaaaaaaf7irdvozuzmwyvbfacdivomj52x65vr6tlg62i6er323sevazdqq"
         ],
         "shape": "VM.Standard.E2.1.Micro"
        },
        {
         "imageId": [
          "ocid1.image.oc1.eu-paris-1.aaaaaaaalvbkaoybngg572c4ybw47avoyv2vk4raeus2bg4hyrbfuq4hmcuq",
          "ocid1.image.oc1.eu-paris-1.aaaaaaaaf7irdvozuzmwyvbfacdivomj52x65vr6tlg62i6er323sevazdqq"
         ],
         "shape": "VM.Standard.E2.1"
        },
        {
         "imageId": [
          "ocid1.image.oc1.eu-paris-1.aaaaaaaaf7irdvozuzmwyvbfacdivomj52x65vr6tlg62i6er323sevazdqq"
         ],
         "shape": "VM.Standard.B1.8"
        },
        {
         "imageId": [
          "ocid1.image.oc1.eu-paris-1.aaaaaaaaf7irdvozuzmwyvbfacdivomj52x65vr6tlg62i6er323sevazdqq"
         ],
         "shape": "VM.Standard.B1.4"
        },
        {
         "imageId": [
          "ocid1.image.oc1.eu-paris-1.aaaaaaaaf7irdvozuzmwyvbfacdivomj52x65vr6tlg62i6er323sevazdqq"
         ],
         "shape": "VM.Standard.B1.2"
        },
        {
         "imageId": [
          "ocid1.image.oc1.eu-paris-1.aaaaaaaaf7irdvozuzmwyvbfacdivomj52x65vr6tlg62i6er323sevazdqq"
         ],
         "shape": "VM.Standard.B1.16"
        },
        {
         "imageId": [
          "ocid1.image.oc1.eu-paris-1.aaaaaaaaf7irdvozuzmwyvbfacdivomj52x65vr6tlg62i6er323sevazdqq"
         ],
         "shape": "VM.Standard.B1.1"
        },
        {
         "imageId": [
          "ocid1.image.oc1.eu-paris-1.aaaaaaaalvbkaoybngg572c4ybw47avoyv2vk4raeus2bg4hyrbfuq4hmcuq",
          "ocid1.image.oc1.eu-paris-1.aaaaaaaaf7irdvozuzmwyvbfacdivomj52x65vr6tlg62i6er323sevazdqq"
         ],
         "shape": "VM.Standard.AMD.Generic"
        },
        {
         "imageId": [
          "ocid1.image.oc1.eu-paris-1.aaaaaaaalvbkaoybngg572c4ybw47avoyv2vk4raeus2bg4hyrbfuq4hmcuq",
          "ocid1.image.oc1.eu-paris-1.aaaaaaaaf7irdvozuzmwyvbfacdivomj52x65vr6tlg62i6er323sevazdqq"
         ],
         "shape": "VM.Optimized3.Flex"
        },
        {
         "imageId": [
          "ocid1.image.oc1.eu-paris-1.aaaaaaaalvbkaoybngg572c4ybw47avoyv2vk4raeus2bg4hyrbfuq4hmcuq",
          "ocid1.image.oc1.eu-paris-1.aaaaaaaaf7irdvozuzmwyvbfacdivomj52x65vr6tlg62i6er323sevazdqq"
         ],
         "shape": "VM.GPU3.4"
        },
        {
         "imageId": [
          "ocid1.image.oc1.eu-paris-1.aaaaaaaalvbkaoybngg572c4ybw47avoyv2vk4raeus2bg4hyrbfuq4hmcuq",
          "ocid1.image.oc1.eu-paris-1.aaaaaaaaf7irdvozuzmwyvbfacdivomj52x65vr6tlg62i6er323sevazdqq"
         ],
         "shape": "VM.GPU3.2"
        },
        {
         "imageId": [
          "ocid1.image.oc1.eu-paris-1.aaaaaaaalvbkaoybngg572c4ybw47avoyv2vk4raeus2bg4hyrbfuq4hmcuq",
          "ocid1.image.oc1.eu-paris-1.aaaaaaaaf7irdvozuzmwyvbfacdivomj52x65vr6tlg62i6er323sevazdqq"
         ],
         "shape": "VM.GPU3.1"
        },
        {
         "imageId": [
          "ocid1.image.oc1.eu-paris-1.aaaaaaaalvbkaoybngg572c4ybw47avoyv2vk4raeus2bg4hyrbfuq4hmcuq",
          "ocid1.image.oc1.eu-paris-1.aaaaaaaaf7irdvozuzmwyvbfacdivomj52x65vr6tlg62i6er323sevazdqq"
         ],
         "shape": "VM.GPU2.1"
        },
        {
         "imageId": [
          "ocid1.image.oc1.eu-paris-1.aaaaaaaalvbkaoybngg572c4ybw47avoyv2vk4raeus2bg4hyrbfuq4hmcuq",
          "ocid1.image.oc1.eu-paris-1.aaaaaaaaf7irdvozuzmwyvbfacdivomj52x65vr6tlg62i6er323sevazdqq"
         ],
         "shape": "VM.GPU.GU1.2"
        },
        {
         "imageId": [
          "ocid1.image.oc1.eu-paris-1.aaaaaaaalvbkaoybngg572c4ybw47avoyv2vk4raeus2bg4hyrbfuq4hmcuq",
          "ocid1.image.oc1.eu-paris-1.aaaaaaaaf7irdvozuzmwyvbfacdivomj52x65vr6tlg62i6er323sevazdqq"
         ],
         "shape": "VM.GPU.GU1.1"
        },
        {
         "imageId": [
          "ocid1.image.oc1.eu-paris-1.aaaaaaaalvbkaoybngg572c4ybw47avoyv2vk4raeus2bg4hyrbfuq4hmcuq",
          "ocid1.image.oc1.eu-paris-1.aaaaaaaaf7irdvozuzmwyvbfacdivomj52x65vr6tlg62i6er323sevazdqq"
         ],
         "shape": "VM.GPU.A10.2"
        },
        {
         "imageId": [
          "ocid1.image.oc1.eu-paris-1.aaaaaaaalvbkaoybngg572c4ybw47avoyv2vk4raeus2bg4hyrbfuq4hmcuq",
          "ocid1.image.oc1.eu-paris-1.aaaaaaaaf7irdvozuzmwyvbfacdivomj52x65vr6tlg62i6er323sevazdqq"
         ],
         "shape": "VM.GPU.A10.1"
        },
        {
         "imageId": [
          "ocid1.image.oc1.eu-paris-1.aaaaaaaalvbkaoybngg572c4ybw47avoyv2vk4raeus2bg4hyrbfuq4hmcuq",
          "ocid1.image.oc1.eu-paris-1.aaaaaaaaf7irdvozuzmwyvbfacdivomj52x65vr6tlg62i6er323sevazdqq"
         ],
         "shape": "VM.DenseIO2.8"
        },
        {
         "imageId": [
          "ocid1.image.oc1.eu-paris-1.aaaaaaaalvbkaoybngg572c4ybw47avoyv2vk4raeus2bg4hyrbfuq4hmcuq",
          "ocid1.image.oc1.eu-paris-1.aaaaaaaaf7irdvozuzmwyvbfacdivomj52x65vr6tlg62i6er323sevazdqq"
         ],
         "shape": "VM.DenseIO2.24"
        },
        {
         "imageId": [
          "ocid1.image.oc1.eu-paris-1.aaaaaaaalvbkaoybngg572c4ybw47avoyv2vk4raeus2bg4hyrbfuq4hmcuq",
          "ocid1.image.oc1.eu-paris-1.aaaaaaaaf7irdvozuzmwyvbfacdivomj52x65vr6tlg62i6er323sevazdqq"
         ],
         "shape": "VM.DenseIO2.16"
        },
        {
         "imageId": [
          "ocid1.image.oc1.eu-paris-1.aaaaaaaalvbkaoybngg572c4ybw47avoyv2vk4raeus2bg4hyrbfuq4hmcuq",
          "ocid1.image.oc1.eu-paris-1.aaaaaaaaf7irdvozuzmwyvbfacdivomj52x65vr6tlg62i6er323sevazdqq"
         ],
         "shape": "VM.DenseIO1.8"
        },
        {
         "imageId": [
          "ocid1.image.oc1.eu-paris-1.aaaaaaaalvbkaoybngg572c4ybw47avoyv2vk4raeus2bg4hyrbfuq4hmcuq",
          "ocid1.image.oc1.eu-paris-1.aaaaaaaaf7irdvozuzmwyvbfacdivomj52x65vr6tlg62i6er323sevazdqq"
         ],
         "shape": "VM.DenseIO1.4"
        },
        {
         "imageId": [
          "ocid1.image.oc1.eu-paris-1.aaaaaaaalvbkaoybngg572c4ybw47avoyv2vk4raeus2bg4hyrbfuq4hmcuq",
          "ocid1.image.oc1.eu-paris-1.aaaaaaaaf7irdvozuzmwyvbfacdivomj52x65vr6tlg62i6er323sevazdqq"
         ],
         "shape": "VM.DenseIO1.16"
        },
        {
         "imageId": [
          "ocid1.image.oc1.eu-paris-1.aaaaaaaalvbkaoybngg572c4ybw47avoyv2vk4raeus2bg4hyrbfuq4hmcuq",
          "ocid1.image.oc1.eu-paris-1.aaaaaaaaf7irdvozuzmwyvbfacdivomj52x65vr6tlg62i6er323sevazdqq"
         ],
         "shape": "VM.DenseIO.E5.Flex"
        },
        {
         "imageId": [
          "ocid1.image.oc1.eu-paris-1.aaaaaaaalvbkaoybngg572c4ybw47avoyv2vk4raeus2bg4hyrbfuq4hmcuq",
          "ocid1.image.oc1.eu-paris-1.aaaaaaaaf7irdvozuzmwyvbfacdivomj52x65vr6tlg62i6er323sevazdqq"
         ],
         "shape": "VM.DenseIO.E4.Flex"
        },
        {
         "imageId": [
          "ocid1.image.oc1.eu-paris-1.aaaaaaaalvbkaoybngg572c4ybw47avoyv2vk4raeus2bg4hyrbfuq4hmcuq",
          "ocid1.image.oc1.eu-paris-1.aaaaaaaaf7irdvozuzmwyvbfacdivomj52x65vr6tlg62i6er323sevazdqq"
         ],
         "shape": "BM.Standard3.64"
        },
        {
         "imageId": [
          "ocid1.image.oc1.eu-paris-1.aaaaaaaalvbkaoybngg572c4ybw47avoyv2vk4raeus2bg4hyrbfuq4hmcuq",
          "ocid1.image.oc1.eu-paris-1.aaaaaaaaf7irdvozuzmwyvbfacdivomj52x65vr6tlg62i6er323sevazdqq"
         ],
         "shape": "BM.Standard2.52"
        },
        {
         "imageId": [
          "ocid1.image.oc1.eu-paris-1.aaaaaaaalvbkaoybngg572c4ybw47avoyv2vk4raeus2bg4hyrbfuq4hmcuq",
          "ocid1.image.oc1.eu-paris-1.aaaaaaaaf7irdvozuzmwyvbfacdivomj52x65vr6tlg62i6er323sevazdqq"
         ],
         "shape": "BM.Standard1.36"
        },
        {
         "imageId": [
          "ocid1.image.oc1.eu-paris-1.aaaaaaaalvbkaoybngg572c4ybw47avoyv2vk4raeus2bg4hyrbfuq4hmcuq",
          "ocid1.image.oc1.eu-paris-1.aaaaaaaaf7irdvozuzmwyvbfacdivomj52x65vr6tlg62i6er323sevazdqq"
         ],
         "shape": "BM.Standard.E5.192"
        }
       ],
       "schema": {
        "fields": [
         {
          "name": "imageId",
          "type": "array"
         },
         {
          "name": "shape",
          "type": "string"
         }
        ]
       }
      },
      "text/html": [
       "<table><thead><tr><th>imageId</th><th>shape</th></tr></thead><tbody><tr><td>ocid1.image.oc1.eu-paris-1.aaaaaaaalvbkaoybngg572c4ybw47avoyv2vk4raeus2bg4hyrbfuq4hmcuq,ocid1.image.oc1.eu-paris-1.aaaaaaaaf7irdvozuzmwyvbfacdivomj52x65vr6tlg62i6er323sevazdqq</td><td>VM.Standard3.Flex</td></tr><tr><td>ocid1.image.oc1.eu-paris-1.aaaaaaaalvbkaoybngg572c4ybw47avoyv2vk4raeus2bg4hyrbfuq4hmcuq,ocid1.image.oc1.eu-paris-1.aaaaaaaaf7irdvozuzmwyvbfacdivomj52x65vr6tlg62i6er323sevazdqq</td><td>VM.Standard2.Flex</td></tr><tr><td>ocid1.image.oc1.eu-paris-1.aaaaaaaalvbkaoybngg572c4ybw47avoyv2vk4raeus2bg4hyrbfuq4hmcuq,ocid1.image.oc1.eu-paris-1.aaaaaaaaf7irdvozuzmwyvbfacdivomj52x65vr6tlg62i6er323sevazdqq</td><td>VM.Standard2.8</td></tr><tr><td>ocid1.image.oc1.eu-paris-1.aaaaaaaalvbkaoybngg572c4ybw47avoyv2vk4raeus2bg4hyrbfuq4hmcuq,ocid1.image.oc1.eu-paris-1.aaaaaaaaf7irdvozuzmwyvbfacdivomj52x65vr6tlg62i6er323sevazdqq</td><td>VM.Standard2.4</td></tr><tr><td>ocid1.image.oc1.eu-paris-1.aaaaaaaalvbkaoybngg572c4ybw47avoyv2vk4raeus2bg4hyrbfuq4hmcuq,ocid1.image.oc1.eu-paris-1.aaaaaaaaf7irdvozuzmwyvbfacdivomj52x65vr6tlg62i6er323sevazdqq</td><td>VM.Standard2.24</td></tr><tr><td>ocid1.image.oc1.eu-paris-1.aaaaaaaalvbkaoybngg572c4ybw47avoyv2vk4raeus2bg4hyrbfuq4hmcuq,ocid1.image.oc1.eu-paris-1.aaaaaaaaf7irdvozuzmwyvbfacdivomj52x65vr6tlg62i6er323sevazdqq</td><td>VM.Standard2.2</td></tr><tr><td>ocid1.image.oc1.eu-paris-1.aaaaaaaalvbkaoybngg572c4ybw47avoyv2vk4raeus2bg4hyrbfuq4hmcuq,ocid1.image.oc1.eu-paris-1.aaaaaaaaf7irdvozuzmwyvbfacdivomj52x65vr6tlg62i6er323sevazdqq</td><td>VM.Standard2.16</td></tr><tr><td>ocid1.image.oc1.eu-paris-1.aaaaaaaalvbkaoybngg572c4ybw47avoyv2vk4raeus2bg4hyrbfuq4hmcuq,ocid1.image.oc1.eu-paris-1.aaaaaaaaf7irdvozuzmwyvbfacdivomj52x65vr6tlg62i6er323sevazdqq</td><td>VM.Standard2.1</td></tr><tr><td>ocid1.image.oc1.eu-paris-1.aaaaaaaalvbkaoybngg572c4ybw47avoyv2vk4raeus2bg4hyrbfuq4hmcuq,ocid1.image.oc1.eu-paris-1.aaaaaaaaf7irdvozuzmwyvbfacdivomj52x65vr6tlg62i6er323sevazdqq</td><td>VM.Standard1.8</td></tr><tr><td>ocid1.image.oc1.eu-paris-1.aaaaaaaalvbkaoybngg572c4ybw47avoyv2vk4raeus2bg4hyrbfuq4hmcuq,ocid1.image.oc1.eu-paris-1.aaaaaaaaf7irdvozuzmwyvbfacdivomj52x65vr6tlg62i6er323sevazdqq</td><td>VM.Standard1.4</td></tr><tr><td>ocid1.image.oc1.eu-paris-1.aaaaaaaalvbkaoybngg572c4ybw47avoyv2vk4raeus2bg4hyrbfuq4hmcuq,ocid1.image.oc1.eu-paris-1.aaaaaaaaf7irdvozuzmwyvbfacdivomj52x65vr6tlg62i6er323sevazdqq</td><td>VM.Standard1.2</td></tr><tr><td>ocid1.image.oc1.eu-paris-1.aaaaaaaalvbkaoybngg572c4ybw47avoyv2vk4raeus2bg4hyrbfuq4hmcuq,ocid1.image.oc1.eu-paris-1.aaaaaaaaf7irdvozuzmwyvbfacdivomj52x65vr6tlg62i6er323sevazdqq</td><td>VM.Standard1.16</td></tr><tr><td>ocid1.image.oc1.eu-paris-1.aaaaaaaalvbkaoybngg572c4ybw47avoyv2vk4raeus2bg4hyrbfuq4hmcuq,ocid1.image.oc1.eu-paris-1.aaaaaaaaf7irdvozuzmwyvbfacdivomj52x65vr6tlg62i6er323sevazdqq</td><td>VM.Standard1.1</td></tr><tr><td>ocid1.image.oc1.eu-paris-1.aaaaaaaalvbkaoybngg572c4ybw47avoyv2vk4raeus2bg4hyrbfuq4hmcuq,ocid1.image.oc1.eu-paris-1.aaaaaaaaf7irdvozuzmwyvbfacdivomj52x65vr6tlg62i6er323sevazdqq</td><td>VM.Standard.x86.Generic</td></tr><tr><td>ocid1.image.oc1.eu-paris-1.aaaaaaaalvbkaoybngg572c4ybw47avoyv2vk4raeus2bg4hyrbfuq4hmcuq,ocid1.image.oc1.eu-paris-1.aaaaaaaaf7irdvozuzmwyvbfacdivomj52x65vr6tlg62i6er323sevazdqq</td><td>VM.Standard.Intel.Generic</td></tr><tr><td>ocid1.image.oc1.eu-paris-1.aaaaaaaalvbkaoybngg572c4ybw47avoyv2vk4raeus2bg4hyrbfuq4hmcuq,ocid1.image.oc1.eu-paris-1.aaaaaaaaf7irdvozuzmwyvbfacdivomj52x65vr6tlg62i6er323sevazdqq</td><td>VM.Standard.E5.Flex</td></tr><tr><td>ocid1.image.oc1.eu-paris-1.aaaaaaaalvbkaoybngg572c4ybw47avoyv2vk4raeus2bg4hyrbfuq4hmcuq,ocid1.image.oc1.eu-paris-1.aaaaaaaaf7irdvozuzmwyvbfacdivomj52x65vr6tlg62i6er323sevazdqq</td><td>VM.Standard.E4.Flex</td></tr><tr><td>ocid1.image.oc1.eu-paris-1.aaaaaaaalvbkaoybngg572c4ybw47avoyv2vk4raeus2bg4hyrbfuq4hmcuq,ocid1.image.oc1.eu-paris-1.aaaaaaaaf7irdvozuzmwyvbfacdivomj52x65vr6tlg62i6er323sevazdqq</td><td>VM.Standard.E3.Flex</td></tr><tr><td>ocid1.image.oc1.eu-paris-1.aaaaaaaalvbkaoybngg572c4ybw47avoyv2vk4raeus2bg4hyrbfuq4hmcuq,ocid1.image.oc1.eu-paris-1.aaaaaaaaf7irdvozuzmwyvbfacdivomj52x65vr6tlg62i6er323sevazdqq</td><td>VM.Standard.E2.8</td></tr><tr><td>ocid1.image.oc1.eu-paris-1.aaaaaaaalvbkaoybngg572c4ybw47avoyv2vk4raeus2bg4hyrbfuq4hmcuq,ocid1.image.oc1.eu-paris-1.aaaaaaaaf7irdvozuzmwyvbfacdivomj52x65vr6tlg62i6er323sevazdqq</td><td>VM.Standard.E2.4</td></tr><tr><td>ocid1.image.oc1.eu-paris-1.aaaaaaaalvbkaoybngg572c4ybw47avoyv2vk4raeus2bg4hyrbfuq4hmcuq,ocid1.image.oc1.eu-paris-1.aaaaaaaaf7irdvozuzmwyvbfacdivomj52x65vr6tlg62i6er323sevazdqq</td><td>VM.Standard.E2.2</td></tr><tr><td>ocid1.image.oc1.eu-paris-1.aaaaaaaalvbkaoybngg572c4ybw47avoyv2vk4raeus2bg4hyrbfuq4hmcuq,ocid1.image.oc1.eu-paris-1.aaaaaaaaf7irdvozuzmwyvbfacdivomj52x65vr6tlg62i6er323sevazdqq</td><td>VM.Standard.E2.1.Micro</td></tr><tr><td>ocid1.image.oc1.eu-paris-1.aaaaaaaalvbkaoybngg572c4ybw47avoyv2vk4raeus2bg4hyrbfuq4hmcuq,ocid1.image.oc1.eu-paris-1.aaaaaaaaf7irdvozuzmwyvbfacdivomj52x65vr6tlg62i6er323sevazdqq</td><td>VM.Standard.E2.1</td></tr><tr><td>ocid1.image.oc1.eu-paris-1.aaaaaaaaf7irdvozuzmwyvbfacdivomj52x65vr6tlg62i6er323sevazdqq</td><td>VM.Standard.B1.8</td></tr><tr><td>ocid1.image.oc1.eu-paris-1.aaaaaaaaf7irdvozuzmwyvbfacdivomj52x65vr6tlg62i6er323sevazdqq</td><td>VM.Standard.B1.4</td></tr><tr><td>ocid1.image.oc1.eu-paris-1.aaaaaaaaf7irdvozuzmwyvbfacdivomj52x65vr6tlg62i6er323sevazdqq</td><td>VM.Standard.B1.2</td></tr><tr><td>ocid1.image.oc1.eu-paris-1.aaaaaaaaf7irdvozuzmwyvbfacdivomj52x65vr6tlg62i6er323sevazdqq</td><td>VM.Standard.B1.16</td></tr><tr><td>ocid1.image.oc1.eu-paris-1.aaaaaaaaf7irdvozuzmwyvbfacdivomj52x65vr6tlg62i6er323sevazdqq</td><td>VM.Standard.B1.1</td></tr><tr><td>ocid1.image.oc1.eu-paris-1.aaaaaaaalvbkaoybngg572c4ybw47avoyv2vk4raeus2bg4hyrbfuq4hmcuq,ocid1.image.oc1.eu-paris-1.aaaaaaaaf7irdvozuzmwyvbfacdivomj52x65vr6tlg62i6er323sevazdqq</td><td>VM.Standard.AMD.Generic</td></tr><tr><td>ocid1.image.oc1.eu-paris-1.aaaaaaaalvbkaoybngg572c4ybw47avoyv2vk4raeus2bg4hyrbfuq4hmcuq,ocid1.image.oc1.eu-paris-1.aaaaaaaaf7irdvozuzmwyvbfacdivomj52x65vr6tlg62i6er323sevazdqq</td><td>VM.Optimized3.Flex</td></tr><tr><td>ocid1.image.oc1.eu-paris-1.aaaaaaaalvbkaoybngg572c4ybw47avoyv2vk4raeus2bg4hyrbfuq4hmcuq,ocid1.image.oc1.eu-paris-1.aaaaaaaaf7irdvozuzmwyvbfacdivomj52x65vr6tlg62i6er323sevazdqq</td><td>VM.GPU3.4</td></tr><tr><td>ocid1.image.oc1.eu-paris-1.aaaaaaaalvbkaoybngg572c4ybw47avoyv2vk4raeus2bg4hyrbfuq4hmcuq,ocid1.image.oc1.eu-paris-1.aaaaaaaaf7irdvozuzmwyvbfacdivomj52x65vr6tlg62i6er323sevazdqq</td><td>VM.GPU3.2</td></tr><tr><td>ocid1.image.oc1.eu-paris-1.aaaaaaaalvbkaoybngg572c4ybw47avoyv2vk4raeus2bg4hyrbfuq4hmcuq,ocid1.image.oc1.eu-paris-1.aaaaaaaaf7irdvozuzmwyvbfacdivomj52x65vr6tlg62i6er323sevazdqq</td><td>VM.GPU3.1</td></tr><tr><td>ocid1.image.oc1.eu-paris-1.aaaaaaaalvbkaoybngg572c4ybw47avoyv2vk4raeus2bg4hyrbfuq4hmcuq,ocid1.image.oc1.eu-paris-1.aaaaaaaaf7irdvozuzmwyvbfacdivomj52x65vr6tlg62i6er323sevazdqq</td><td>VM.GPU2.1</td></tr><tr><td>ocid1.image.oc1.eu-paris-1.aaaaaaaalvbkaoybngg572c4ybw47avoyv2vk4raeus2bg4hyrbfuq4hmcuq,ocid1.image.oc1.eu-paris-1.aaaaaaaaf7irdvozuzmwyvbfacdivomj52x65vr6tlg62i6er323sevazdqq</td><td>VM.GPU.GU1.2</td></tr><tr><td>ocid1.image.oc1.eu-paris-1.aaaaaaaalvbkaoybngg572c4ybw47avoyv2vk4raeus2bg4hyrbfuq4hmcuq,ocid1.image.oc1.eu-paris-1.aaaaaaaaf7irdvozuzmwyvbfacdivomj52x65vr6tlg62i6er323sevazdqq</td><td>VM.GPU.GU1.1</td></tr><tr><td>ocid1.image.oc1.eu-paris-1.aaaaaaaalvbkaoybngg572c4ybw47avoyv2vk4raeus2bg4hyrbfuq4hmcuq,ocid1.image.oc1.eu-paris-1.aaaaaaaaf7irdvozuzmwyvbfacdivomj52x65vr6tlg62i6er323sevazdqq</td><td>VM.GPU.A10.2</td></tr><tr><td>ocid1.image.oc1.eu-paris-1.aaaaaaaalvbkaoybngg572c4ybw47avoyv2vk4raeus2bg4hyrbfuq4hmcuq,ocid1.image.oc1.eu-paris-1.aaaaaaaaf7irdvozuzmwyvbfacdivomj52x65vr6tlg62i6er323sevazdqq</td><td>VM.GPU.A10.1</td></tr><tr><td>ocid1.image.oc1.eu-paris-1.aaaaaaaalvbkaoybngg572c4ybw47avoyv2vk4raeus2bg4hyrbfuq4hmcuq,ocid1.image.oc1.eu-paris-1.aaaaaaaaf7irdvozuzmwyvbfacdivomj52x65vr6tlg62i6er323sevazdqq</td><td>VM.DenseIO2.8</td></tr><tr><td>ocid1.image.oc1.eu-paris-1.aaaaaaaalvbkaoybngg572c4ybw47avoyv2vk4raeus2bg4hyrbfuq4hmcuq,ocid1.image.oc1.eu-paris-1.aaaaaaaaf7irdvozuzmwyvbfacdivomj52x65vr6tlg62i6er323sevazdqq</td><td>VM.DenseIO2.24</td></tr><tr><td>ocid1.image.oc1.eu-paris-1.aaaaaaaalvbkaoybngg572c4ybw47avoyv2vk4raeus2bg4hyrbfuq4hmcuq,ocid1.image.oc1.eu-paris-1.aaaaaaaaf7irdvozuzmwyvbfacdivomj52x65vr6tlg62i6er323sevazdqq</td><td>VM.DenseIO2.16</td></tr><tr><td>ocid1.image.oc1.eu-paris-1.aaaaaaaalvbkaoybngg572c4ybw47avoyv2vk4raeus2bg4hyrbfuq4hmcuq,ocid1.image.oc1.eu-paris-1.aaaaaaaaf7irdvozuzmwyvbfacdivomj52x65vr6tlg62i6er323sevazdqq</td><td>VM.DenseIO1.8</td></tr><tr><td>ocid1.image.oc1.eu-paris-1.aaaaaaaalvbkaoybngg572c4ybw47avoyv2vk4raeus2bg4hyrbfuq4hmcuq,ocid1.image.oc1.eu-paris-1.aaaaaaaaf7irdvozuzmwyvbfacdivomj52x65vr6tlg62i6er323sevazdqq</td><td>VM.DenseIO1.4</td></tr><tr><td>ocid1.image.oc1.eu-paris-1.aaaaaaaalvbkaoybngg572c4ybw47avoyv2vk4raeus2bg4hyrbfuq4hmcuq,ocid1.image.oc1.eu-paris-1.aaaaaaaaf7irdvozuzmwyvbfacdivomj52x65vr6tlg62i6er323sevazdqq</td><td>VM.DenseIO1.16</td></tr><tr><td>ocid1.image.oc1.eu-paris-1.aaaaaaaalvbkaoybngg572c4ybw47avoyv2vk4raeus2bg4hyrbfuq4hmcuq,ocid1.image.oc1.eu-paris-1.aaaaaaaaf7irdvozuzmwyvbfacdivomj52x65vr6tlg62i6er323sevazdqq</td><td>VM.DenseIO.E5.Flex</td></tr><tr><td>ocid1.image.oc1.eu-paris-1.aaaaaaaalvbkaoybngg572c4ybw47avoyv2vk4raeus2bg4hyrbfuq4hmcuq,ocid1.image.oc1.eu-paris-1.aaaaaaaaf7irdvozuzmwyvbfacdivomj52x65vr6tlg62i6er323sevazdqq</td><td>VM.DenseIO.E4.Flex</td></tr><tr><td>ocid1.image.oc1.eu-paris-1.aaaaaaaalvbkaoybngg572c4ybw47avoyv2vk4raeus2bg4hyrbfuq4hmcuq,ocid1.image.oc1.eu-paris-1.aaaaaaaaf7irdvozuzmwyvbfacdivomj52x65vr6tlg62i6er323sevazdqq</td><td>BM.Standard3.64</td></tr><tr><td>ocid1.image.oc1.eu-paris-1.aaaaaaaalvbkaoybngg572c4ybw47avoyv2vk4raeus2bg4hyrbfuq4hmcuq,ocid1.image.oc1.eu-paris-1.aaaaaaaaf7irdvozuzmwyvbfacdivomj52x65vr6tlg62i6er323sevazdqq</td><td>BM.Standard2.52</td></tr><tr><td>ocid1.image.oc1.eu-paris-1.aaaaaaaalvbkaoybngg572c4ybw47avoyv2vk4raeus2bg4hyrbfuq4hmcuq,ocid1.image.oc1.eu-paris-1.aaaaaaaaf7irdvozuzmwyvbfacdivomj52x65vr6tlg62i6er323sevazdqq</td><td>BM.Standard1.36</td></tr><tr><td>ocid1.image.oc1.eu-paris-1.aaaaaaaalvbkaoybngg572c4ybw47avoyv2vk4raeus2bg4hyrbfuq4hmcuq,ocid1.image.oc1.eu-paris-1.aaaaaaaaf7irdvozuzmwyvbfacdivomj52x65vr6tlg62i6er323sevazdqq</td><td>BM.Standard.E5.192</td></tr></tbody></table>"
      ]
     },
     "execution_count": 47,
     "metadata": {},
     "output_type": "execute_result"
    }
   ],
   "source": [
    "resultatVstack.groupBy(\"shape\").agg(\n",
    "    pl.col(\"imageId\").alias(\"imageId\"),\n",
    ").sort( {\n",
    "    by: \"shape\",\n",
    "    descending: true\n",
    "}).select(\n",
    "    pl.col(\"imageId\").alias(\"imageId\"),\n",
    "    pl.col(\"shape\").alias(\"shape\"),\n",
    ")"
   ]
  },
  {
   "cell_type": "markdown",
   "id": "019571c6-9b71-41df-b2e5-4e30bac28c63",
   "metadata": {},
   "source": [
    "# Older computations"
   ]
  },
  {
   "cell_type": "code",
   "execution_count": null,
   "id": "822e30e1-314a-46c9-b61f-9d74fcc614e5",
   "metadata": {},
   "outputs": [],
   "source": [
    "\n",
    "// https://pola-rs.github.io/nodejs-polars/functions/pl.readJSON.html\n",
    "const df_compatibilityListExample1 = pl.readJSON(JSON.stringify(compatibilityListExample1.items), {format: \"json\"})\n",
    "// df_compatibilityListExample1.toRecords()\n",
    "df_compatibilityListExample1\n",
    "//pl.Series('imageShapes', df_compatibilityListExample1)"
   ]
  },
  {
   "cell_type": "code",
   "execution_count": null,
   "id": "4704a93d-97b8-4589-a24c-7bc1d572bd0a",
   "metadata": {},
   "outputs": [],
   "source": [
    "const compatibilityListExample2 = await getCompatibilityList(\"ocid1.image.oc1.eu-paris-1.aaaaaaaaf7irdvozuzmwyvbfacdivomj52x65vr6tlg62i6er323sevazdqq\")\n",
    "//console.log(example1)\n",
    "// https://pola-rs.github.io/nodejs-polars/functions/pl.readJSON.html\n",
    "const df_compatibilityListExample2 = pl.readJSON(JSON.stringify(compatibilityListExample2.items), {format: \"json\"})\n",
    "df_compatibilityListExample2\n"
   ]
  },
  {
   "cell_type": "code",
   "execution_count": null,
   "id": "eeefbaa9-bf1e-4185-8289-573ac2e9d2fb",
   "metadata": {},
   "outputs": [],
   "source": [
    "//pl.Series('imageShapes', df_compatibilityListExample1)\n",
    "// pl.concat([df_compatibilityListExample2, df_compatibilityListExample1], { how: \"vertical\", rechunk: false })\n",
    "const resultat= pl.concat([df_compatibilityListExample2, df_compatibilityListExample1])\n",
    "\n",
    "// df_compatibilityListExample1.vstack(df_compatibilityListExample2)\n",
    "resultat.select(pl.col('*'))\n"
   ]
  },
  {
   "cell_type": "code",
   "execution_count": null,
   "id": "7e5d9234-ecfe-47b0-8a16-a613f2e69416",
   "metadata": {},
   "outputs": [],
   "source": [
    "console.log(JSON.stringify(resultat, null, 4))"
   ]
  },
  {
   "cell_type": "code",
   "execution_count": null,
   "id": "5c54dc52-6ea5-45a6-b47f-fa7e1482753d",
   "metadata": {},
   "outputs": [],
   "source": [
    "// pl.Series(df_compatibilityListExample2)\n",
    "// pl.Series('un', {'voilà': df_compatibilityListExample1})\n",
    "console.log(JSON.stringify(df_compatibilityListExample1, null, 4))\n"
   ]
  },
  {
   "cell_type": "code",
   "execution_count": null,
   "id": "d121daa8-fc9f-4238-95f5-9335e9383c11",
   "metadata": {},
   "outputs": [],
   "source": [
    "console.log(JSON.stringify(df_compatibilityListExample2, null, 4))"
   ]
  },
  {
   "cell_type": "code",
   "execution_count": null,
   "id": "89846b2d-763a-41d7-a5e2-8ba16d15949b",
   "metadata": {},
   "outputs": [],
   "source": [
    "//pl.Series('imageShapes', df_compatibilityListExample1)\n",
    "// pl.concat([df_compatibilityListExample2, df_compatibilityListExample1], { how: \"vertical\", rechunk: false })\n",
    "const resultatVstack= df_compatibilityListExample2.vstack(df_compatibilityListExample1)\n",
    "\n",
    "// df_compatibilityListExample1.vstack(df_compatibilityListExample2)\n",
    "console.log(JSON.stringify(resultatVstack, null, 4))\n",
    "resultatVstack.select(pl.col('*'))"
   ]
  },
  {
   "cell_type": "code",
   "execution_count": null,
   "id": "0547374e-a71e-4fd5-8853-2ec7e5a5fe02",
   "metadata": {},
   "outputs": [],
   "source": [
    "const resultatVstack2= df_compatibilityListExample1.select(pl.col(\"imageId\"), pl.col(\"shape\")).vstack(df_compatibilityListExample2.select(pl.col(\"imageId\"), pl.col(\"shape\")))\n",
    "/*\n",
    "console.log(JSON.stringify(resultatVstack2, null, 4))\n",
    "resultatVstack2\n",
    "\n",
    "*/\n",
    "\n",
    "resultatVstack2.groupBy(\"imageId\").agg(\n",
    "    pl.col(\"shape\").alias(\"shape\")\n",
    ").select(\n",
    "    pl.col(\"imageId\").alias(\"imageId\"),\n",
    "    pl.col(\"shape\").alias(\"shape\")\n",
    ")"
   ]
  },
  {
   "cell_type": "code",
   "execution_count": null,
   "id": "8e8885d0-c58f-48b2-ba00-0b2fb0f9f0dd",
   "metadata": {},
   "outputs": [],
   "source": [
    "resultatVstack2.pivot({values:\"shape\", index: \"imageId\", columns:\"imageId\"})"
   ]
  },
  {
   "cell_type": "code",
   "execution_count": null,
   "id": "049e277d-7648-471d-aed6-63784c0f570b",
   "metadata": {},
   "outputs": [],
   "source": [
    "df_compatibilityListExample1.pivot({values:\"shape\", index: \"imageId\", columns:\"imageId\"})"
   ]
  },
  {
   "cell_type": "markdown",
   "id": "05bcf896-d9b1-46b3-996c-2fae2f0075a4",
   "metadata": {},
   "source": [
    "#### Official Example does not work\n",
    "\n",
    "_source in polars docs: https://pola-rs.github.io/nodejs-polars/interfaces/pl.DataFrame-1.html#pivot_"
   ]
  },
  {
   "cell_type": "code",
   "execution_count": null,
   "id": "8c53993f-12c6-445d-a27c-f3b00618612d",
   "metadata": {},
   "outputs": [],
   "source": [
    "const dfExample1 = pl.DataFrame(\n",
    "      {\n",
    "          \"foo\": [\"one\", \"one\", \"one\", \"two\", \"two\", \"two\"],\n",
    "          \"bar\": [\"A\", \"B\", \"C\", \"A\", \"B\", \"C\"],\n",
    "          \"baz\": [1, 2, 3, 4, 5, 6],\n",
    "      }\n",
    ");\n",
    "console.log(`df.shape : [${JSON.stringify(df.shape)}]`)\n",
    "\n",
    "dfExample1"
   ]
  },
  {
   "cell_type": "code",
   "execution_count": null,
   "id": "2d47e79f-253c-4c8f-95bf-e07ec2266b7b",
   "metadata": {},
   "outputs": [],
   "source": [
    "dfExample1.pivot({values:\"baz\", index:\"foo\", columns:\"bar\"});"
   ]
  },
  {
   "cell_type": "code",
   "execution_count": null,
   "id": "6aa4fe16-67e9-4705-99b0-f2689ada5653",
   "metadata": {},
   "outputs": [],
   "source": [
    "dfExample1.pivot({index:\"foo\", columns:\"bar\"});"
   ]
  },
  {
   "cell_type": "code",
   "execution_count": null,
   "id": "a0da12cf-2b12-4e69-8274-36e77a4673b6",
   "metadata": {},
   "outputs": [],
   "source": [
    "dfExample1.pivot([{values:\"baz\", index:\"foo\", columns:\"bar\"}]);"
   ]
  },
  {
   "cell_type": "code",
   "execution_count": null,
   "id": "36c563c8-8568-4492-8fa2-520d26cfdabf",
   "metadata": {},
   "outputs": [],
   "source": [
    "df.pivot(pl.col(\"baz\"), {values:\"baz\", index:[\"foo\"], columns:[\"bar\"]});"
   ]
  },
  {
   "cell_type": "code",
   "execution_count": null,
   "id": "1ced4757-5fe5-48f6-90b7-768f27d643cd",
   "metadata": {},
   "outputs": [],
   "source": [
    "df.pivot(pl.col(\"baz\"), {values:\"baz\", index:[\"foo\"], columns:[\"bar\"]});"
   ]
  },
  {
   "cell_type": "code",
   "execution_count": null,
   "id": "3c8e8b61-27b7-40f4-a38b-59a7a913fdb5",
   "metadata": {},
   "outputs": [],
   "source": [
    "resultatVstack2.pivot(pl.col(\"*\"), {values:\"shape\", index: \"imageId\", columns:\"imageId\"})"
   ]
  },
  {
   "cell_type": "code",
   "execution_count": null,
   "id": "5a3edf4d-eaeb-46fc-9636-ce8a7d454faa",
   "metadata": {},
   "outputs": [],
   "source": [
    "df_compatibilityListExample1.pivot(pl.col(\"*\"), {values:\"shape\", index: \"shape\", columns:\"imageId\"})"
   ]
  },
  {
   "cell_type": "code",
   "execution_count": null,
   "id": "9cb14388-6bd4-4916-8ffb-711041621a6a",
   "metadata": {},
   "outputs": [],
   "source": [
    "df_compatibilityListExample1.pivot(pl.col(\"shape\"), {values:\"shape\", index: \"shape\", columns:\"imageId\"})"
   ]
  },
  {
   "cell_type": "code",
   "execution_count": null,
   "id": "0551c96e-7107-4a70-a490-d9de5973edbb",
   "metadata": {},
   "outputs": [],
   "source": [
    "resultatVstack2.groupBy(\"imageId\").agg(\n",
    "    pl.col(\"shape\").alias(\"shape\"),\n",
    "    pl.col(\"shape\").count().alias(\"Number of Shapes\")\n",
    ").select(\n",
    "    pl.col(\"imageId\").alias(\"imageId\"),\n",
    "    pl.col(\"shape\").alias(\"shape\"),\n",
    "    pl.col(\"Number of Shapes\").alias(\"Number of Shapes\")\n",
    ").pivot(pl.col(\"shape\"), {values:\"shape\", index: \"Number of Shapes\", columns:\"imageId\"})"
   ]
  },
  {
   "cell_type": "code",
   "execution_count": null,
   "id": "8a4d6388-f391-4d40-8cc7-0bc12cadf6bf",
   "metadata": {},
   "outputs": [],
   "source": [
    "resultatVstack2.groupBy(\"shape\").agg(\n",
    "    pl.col(\"imageId\").alias(\"imageId\"),\n",
    "    pl.col(\"imageId\").count().alias(\"Index of Image\")\n",
    ").select(\n",
    "    pl.col(\"imageId\").alias(\"imageId\"),\n",
    "    pl.col(\"shape\").alias(\"shape\"),\n",
    "    pl.col(\"Index of Image\").alias(\"Index of Image\")\n",
    ").pivot(pl.col(\"imageId\"), {values:\"imageId\", index: \"Index of Image\", columns:\"shape\"})"
   ]
  },
  {
   "cell_type": "code",
   "execution_count": null,
   "id": "b65eb546-5790-41e1-a6f7-1b059dc6d2f0",
   "metadata": {},
   "outputs": [],
   "source": [
    "const resultingRow = resultatVstack2.groupBy(\"imageId\").agg(\n",
    "    pl.col(\"shape\").alias(\"shape\")\n",
    ").select(\n",
    "    pl.col(\"imageId\").alias(\"imageId\"),\n",
    "    pl.col(\"shape\").alias(\"shape\")\n",
    ").row(1)\n",
    "resultingRow\n"
   ]
  },
  {
   "cell_type": "code",
   "execution_count": null,
   "id": "b34b26fe-1e6d-4b55-bd16-f2215291680e",
   "metadata": {},
   "outputs": [],
   "source": [
    "const resultingRow0 = resultatVstack2.groupBy(\"imageId\").agg(\n",
    "    pl.col(\"shape\").alias(\"shape\")\n",
    ").select(\n",
    "    pl.col(\"imageId\").alias(\"imageId\"),\n",
    "    pl.col(\"shape\").alias(\"shape\")\n",
    ").row(0)\n",
    "resultingRow0\n"
   ]
  },
  {
   "cell_type": "code",
   "execution_count": null,
   "id": "013a2a81-ec83-44a7-858d-cec433947b32",
   "metadata": {},
   "outputs": [],
   "source": [
    "pl.readJSON(JSON.stringify({\"resultingRow0\": resultingRow0}))"
   ]
  },
  {
   "cell_type": "code",
   "execution_count": null,
   "id": "170d902e-1e9d-4cf2-97cf-6565fd6dcb57",
   "metadata": {},
   "outputs": [],
   "source": []
  }
 ],
 "metadata": {
  "kernelspec": {
   "display_name": "Deno",
   "language": "typescript",
   "name": "deno"
  },
  "language_info": {
   "file_extension": ".ts",
   "mimetype": "text/x.typescript",
   "name": "typescript",
   "nb_converter": "script",
   "pygments_lexer": "typescript",
   "version": "5.3.3"
  }
 },
 "nbformat": 4,
 "nbformat_minor": 5
}
