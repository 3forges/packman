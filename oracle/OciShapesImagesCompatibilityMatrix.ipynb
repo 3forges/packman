{
 "cells": [
  {
   "cell_type": "markdown",
   "id": "2c107e89-d3c3-489c-8402-c306f8224829",
   "metadata": {},
   "source": [
    "# Oracle OCI Shapes/Images Compatibility\n",
    "\n",
    "_This Jupyer notebook purpose is to list all OCI compute instances Shapes and their compatible images_"
   ]
  },
  {
   "cell_type": "markdown",
   "id": "68e817e4-2b26-4af6-bd6d-8330ff425eaf",
   "metadata": {},
   "source": [
    "_I use :_\n",
    "* _https://docs.oracle.com/en-us/iaas/Content/API/SDKDocs/typescriptsdk.htm_\n",
    "* _https://www.npmjs.com/package/oci-sdk_\n",
    "* _https://docs.public.oneportal.content.oci.oraclecloud.com/en-us/iaas/api/#/en/iaas/20160918/ImageShapeCompatibilityEntry/ListImageShapeCompatibilityEntries_\n",
    "* _https://docs.oracle.com/en-us/iaas/api/#/en/iaas/20160918/ImageShapeCompatibilityEntry/ListImageShapeCompatibilityEntries_\n",
    "* _https://docs.oracle.com/en/cloud/paas/integration-cloud/rest-api/Authentication.html_\n",
    "* _https://docs.oracle.com/en/cloud/paas/integration-cloud/rest-api/OAuth_useincalls.html_\n",
    "* _https://docs.oracle.com/en-us/iaas/Content/Compute/References/images.htm_\n",
    "* _Browse Oracle images: https://docs.oracle.com/en-us/iaas/images/_\n",
    "\n",
    "\n",
    "> The SDK services need two types of configuration: credentials and client-side HTTP settings.\n",
    "> First, you need to set up your credentials and config file. For instructions, see [SDK and CLI Configuration File](https://docs.oracle.com/en-us/iaas/Content/API/Concepts/sdkconfig.htm#SDK_and_CLI_Configuration_File).\n",
    "> The default configuration location is \"~/.oci/config\" and \"DEFAULT\" profile is used. You can use ConfigFileAuthenticationDetailsProvider with or without specifying the configuration location and profile name:"
   ]
  },
  {
   "cell_type": "markdown",
   "id": "d8aa84a3-d858-45bf-bd7b-e352222ae981",
   "metadata": {},
   "source": [
    "## _Content of the `~/.oci/config` file:_\n",
    "\n",
    "```\n",
    "[DEFAULT]\n",
    "user=ocid1.user.oc1..xxxxxxxxxxxxxxxxxxxxxxxxxxxxxxxxxxxxxxxxxxxxxxxxx\n",
    "fingerprint=7c:5c:65:4b:fc:c2:77:be:4e:0c:5c:9c:f0:34:89:9c\n",
    "key_file=~/.oci/clef_oracle_cloud.pem\n",
    "tenancy=ocid1.tenancy.oc1..xxxxxxxxxxxxxxxxxxxxxxxxxxxxxxxxxxxxxxxxxxx\n",
    "region=eu-paris-1\n",
    "```"
   ]
  },
  {
   "cell_type": "code",
   "execution_count": 1,
   "id": "30da9e7c-ff21-4630-8a00-95206577bc03",
   "metadata": {},
   "outputs": [],
   "source": [
    "import pl from \"npm:nodejs-polars\";\n",
    "import { display } from \"https://deno.land/x/display@v0.1.1/mod.ts\";\n",
    "// import * as identity from \"oci-sdk/node_modules/oci-identity\"; // Because the oci-sdk package is globally installed, you must update the import statements for oci-sdk's sub-packages when running the oci-typescript-sdk examples on GitHub. \n",
    "import * as oci from 'npm:oci-sdk'\n",
    "import * as core from \"npm:oci-core\";"
   ]
  },
  {
   "cell_type": "markdown",
   "id": "071386f9-9a47-40a3-a8ce-824f89af798f",
   "metadata": {},
   "source": [
    "### Let's start the code"
   ]
  },
  {
   "cell_type": "code",
   "execution_count": 2,
   "id": "4ddb35f1-3c98-486e-a320-91292ff08e2d",
   "metadata": {},
   "outputs": [],
   "source": [
    "// TypeScript\n",
    "// import common = require(\"oci-common\");\n",
    "const common = await import(\"npm:oci-common\");\n",
    "// Using default configuration\n",
    "// const provider: common.ConfigFileAuthenticationDetailsProvider = new common.ConfigFileAuthenticationDetailsProvider();\n",
    "// Using personal configuration\n",
    "const configurationFilePath = \"~/.oci/config\";\n",
    "const configProfile = \"DEFAULT\";\n",
    "const provider: common.ConfigFileAuthenticationDetailsProvider = new common.ConfigFileAuthenticationDetailsProvider(\n",
    "  configurationFilePath,\n",
    "  configProfile\n",
    ");"
   ]
  },
  {
   "cell_type": "markdown",
   "id": "9eda60a9-4980-4035-84f2-a7c518af01b8",
   "metadata": {},
   "source": [
    "_Now let's try the example code I found closes to what I want_\n",
    "\n",
    "> _source: https://docs.oracle.com/en-us/iaas/tools/typescript-sdk-examples/2.82.0/core/ListImageShapeCompatibilityEntries.ts.html_\n",
    "> _source: https://docs.oracle.com/en-us/iaas/tools/typescript/2.82.0/modules/_core_lib_request_list_image_shape_compatibility_entries_request_.html_\n",
    "> _source: https://docs.oracle.com/en-us/iaas/api/#/en/iaas/20160918/ImageShapeCompatibilityEntry/ListImageShapeCompatibilityEntries_"
   ]
  },
  {
   "cell_type": "code",
   "execution_count": 4,
   "id": "09074235-e68e-44e6-bbd4-69e53c2331fa",
   "metadata": {},
   "outputs": [
    {
     "name": "stdout",
     "output_type": "stream",
     "text": [
      "start\n",
      "The OciEnabledServiceSet is empty, all OCI services are enabled\n",
      "step 1 OK\n",
      "listImageShapeCompatibilityEntriesResponse: {\n",
      "  items: [\n",
      "    {\n",
      "      imageId: \u001b[32m\"ocid1.image.oc1.eu-paris-1.aaaaaaaalvbkaoybngg572c4ybw47avoyv2vk4raeus2bg4hyrbfuq4hmcuq\"\u001b[39m,\n",
      "      shape: \u001b[32m\"VM.DenseIO.E4.Flex\"\u001b[39m,\n",
      "      memoryConstraints: \u001b[90mundefined\u001b[39m,\n",
      "      ocpuConstraints: \u001b[90mundefined\u001b[39m\n",
      "    },\n",
      "    {\n",
      "      imageId: \u001b[32m\"ocid1.image.oc1.eu-paris-1.aaaaaaaalvbkaoybngg572c4ybw47avoyv2vk4raeus2bg4hyrbfuq4hmcuq\"\u001b[39m,\n",
      "      shape: \u001b[32m\"VM.DenseIO.E5.Flex\"\u001b[39m,\n",
      "      memoryConstraints: \u001b[90mundefined\u001b[39m,\n",
      "      ocpuConstraints: \u001b[90mundefined\u001b[39m\n",
      "    },\n",
      "    {\n",
      "      imageId: \u001b[32m\"ocid1.image.oc1.eu-paris-1.aaaaaaaalvbkaoybngg572c4ybw47avoyv2vk4raeus2bg4hyrbfuq4hmcuq\"\u001b[39m,\n",
      "      shape: \u001b[32m\"VM.DenseIO1.16\"\u001b[39m,\n",
      "      memoryConstraints: \u001b[90mundefined\u001b[39m,\n",
      "      ocpuConstraints: \u001b[90mundefined\u001b[39m\n",
      "    },\n",
      "    {\n",
      "      imageId: \u001b[32m\"ocid1.image.oc1.eu-paris-1.aaaaaaaalvbkaoybngg572c4ybw47avoyv2vk4raeus2bg4hyrbfuq4hmcuq\"\u001b[39m,\n",
      "      shape: \u001b[32m\"VM.DenseIO1.4\"\u001b[39m,\n",
      "      memoryConstraints: \u001b[90mundefined\u001b[39m,\n",
      "      ocpuConstraints: \u001b[90mundefined\u001b[39m\n",
      "    },\n",
      "    {\n",
      "      imageId: \u001b[32m\"ocid1.image.oc1.eu-paris-1.aaaaaaaalvbkaoybngg572c4ybw47avoyv2vk4raeus2bg4hyrbfuq4hmcuq\"\u001b[39m,\n",
      "      shape: \u001b[32m\"VM.DenseIO1.8\"\u001b[39m,\n",
      "      memoryConstraints: \u001b[90mundefined\u001b[39m,\n",
      "      ocpuConstraints: \u001b[90mundefined\u001b[39m\n",
      "    },\n",
      "    {\n",
      "      imageId: \u001b[32m\"ocid1.image.oc1.eu-paris-1.aaaaaaaalvbkaoybngg572c4ybw47avoyv2vk4raeus2bg4hyrbfuq4hmcuq\"\u001b[39m,\n",
      "      shape: \u001b[32m\"VM.DenseIO2.16\"\u001b[39m,\n",
      "      memoryConstraints: \u001b[90mundefined\u001b[39m,\n",
      "      ocpuConstraints: \u001b[90mundefined\u001b[39m\n",
      "    },\n",
      "    {\n",
      "      imageId: \u001b[32m\"ocid1.image.oc1.eu-paris-1.aaaaaaaalvbkaoybngg572c4ybw47avoyv2vk4raeus2bg4hyrbfuq4hmcuq\"\u001b[39m,\n",
      "      shape: \u001b[32m\"VM.DenseIO2.24\"\u001b[39m,\n",
      "      memoryConstraints: \u001b[90mundefined\u001b[39m,\n",
      "      ocpuConstraints: \u001b[90mundefined\u001b[39m\n",
      "    },\n",
      "    {\n",
      "      imageId: \u001b[32m\"ocid1.image.oc1.eu-paris-1.aaaaaaaalvbkaoybngg572c4ybw47avoyv2vk4raeus2bg4hyrbfuq4hmcuq\"\u001b[39m,\n",
      "      shape: \u001b[32m\"VM.DenseIO2.8\"\u001b[39m,\n",
      "      memoryConstraints: \u001b[90mundefined\u001b[39m,\n",
      "      ocpuConstraints: \u001b[90mundefined\u001b[39m\n",
      "    },\n",
      "    {\n",
      "      imageId: \u001b[32m\"ocid1.image.oc1.eu-paris-1.aaaaaaaalvbkaoybngg572c4ybw47avoyv2vk4raeus2bg4hyrbfuq4hmcuq\"\u001b[39m,\n",
      "      shape: \u001b[32m\"VM.GPU.A10.1\"\u001b[39m,\n",
      "      memoryConstraints: \u001b[90mundefined\u001b[39m,\n",
      "      ocpuConstraints: \u001b[90mundefined\u001b[39m\n",
      "    },\n",
      "    {\n",
      "      imageId: \u001b[32m\"ocid1.image.oc1.eu-paris-1.aaaaaaaalvbkaoybngg572c4ybw47avoyv2vk4raeus2bg4hyrbfuq4hmcuq\"\u001b[39m,\n",
      "      shape: \u001b[32m\"VM.GPU.A10.2\"\u001b[39m,\n",
      "      memoryConstraints: \u001b[90mundefined\u001b[39m,\n",
      "      ocpuConstraints: \u001b[90mundefined\u001b[39m\n",
      "    },\n",
      "    {\n",
      "      imageId: \u001b[32m\"ocid1.image.oc1.eu-paris-1.aaaaaaaalvbkaoybngg572c4ybw47avoyv2vk4raeus2bg4hyrbfuq4hmcuq\"\u001b[39m,\n",
      "      shape: \u001b[32m\"VM.GPU.GU1.1\"\u001b[39m,\n",
      "      memoryConstraints: \u001b[90mundefined\u001b[39m,\n",
      "      ocpuConstraints: \u001b[90mundefined\u001b[39m\n",
      "    },\n",
      "    {\n",
      "      imageId: \u001b[32m\"ocid1.image.oc1.eu-paris-1.aaaaaaaalvbkaoybngg572c4ybw47avoyv2vk4raeus2bg4hyrbfuq4hmcuq\"\u001b[39m,\n",
      "      shape: \u001b[32m\"VM.GPU.GU1.2\"\u001b[39m,\n",
      "      memoryConstraints: \u001b[90mundefined\u001b[39m,\n",
      "      ocpuConstraints: \u001b[90mundefined\u001b[39m\n",
      "    },\n",
      "    {\n",
      "      imageId: \u001b[32m\"ocid1.image.oc1.eu-paris-1.aaaaaaaalvbkaoybngg572c4ybw47avoyv2vk4raeus2bg4hyrbfuq4hmcuq\"\u001b[39m,\n",
      "      shape: \u001b[32m\"VM.GPU2.1\"\u001b[39m,\n",
      "      memoryConstraints: \u001b[90mundefined\u001b[39m,\n",
      "      ocpuConstraints: \u001b[90mundefined\u001b[39m\n",
      "    },\n",
      "    {\n",
      "      imageId: \u001b[32m\"ocid1.image.oc1.eu-paris-1.aaaaaaaalvbkaoybngg572c4ybw47avoyv2vk4raeus2bg4hyrbfuq4hmcuq\"\u001b[39m,\n",
      "      shape: \u001b[32m\"VM.GPU3.1\"\u001b[39m,\n",
      "      memoryConstraints: \u001b[90mundefined\u001b[39m,\n",
      "      ocpuConstraints: \u001b[90mundefined\u001b[39m\n",
      "    },\n",
      "    {\n",
      "      imageId: \u001b[32m\"ocid1.image.oc1.eu-paris-1.aaaaaaaalvbkaoybngg572c4ybw47avoyv2vk4raeus2bg4hyrbfuq4hmcuq\"\u001b[39m,\n",
      "      shape: \u001b[32m\"VM.GPU3.2\"\u001b[39m,\n",
      "      memoryConstraints: \u001b[90mundefined\u001b[39m,\n",
      "      ocpuConstraints: \u001b[90mundefined\u001b[39m\n",
      "    },\n",
      "    {\n",
      "      imageId: \u001b[32m\"ocid1.image.oc1.eu-paris-1.aaaaaaaalvbkaoybngg572c4ybw47avoyv2vk4raeus2bg4hyrbfuq4hmcuq\"\u001b[39m,\n",
      "      shape: \u001b[32m\"VM.GPU3.4\"\u001b[39m,\n",
      "      memoryConstraints: \u001b[90mundefined\u001b[39m,\n",
      "      ocpuConstraints: \u001b[90mundefined\u001b[39m\n",
      "    },\n",
      "    {\n",
      "      imageId: \u001b[32m\"ocid1.image.oc1.eu-paris-1.aaaaaaaalvbkaoybngg572c4ybw47avoyv2vk4raeus2bg4hyrbfuq4hmcuq\"\u001b[39m,\n",
      "      shape: \u001b[32m\"VM.Optimized3.Flex\"\u001b[39m,\n",
      "      memoryConstraints: \u001b[90mundefined\u001b[39m,\n",
      "      ocpuConstraints: \u001b[90mundefined\u001b[39m\n",
      "    },\n",
      "    {\n",
      "      imageId: \u001b[32m\"ocid1.image.oc1.eu-paris-1.aaaaaaaalvbkaoybngg572c4ybw47avoyv2vk4raeus2bg4hyrbfuq4hmcuq\"\u001b[39m,\n",
      "      shape: \u001b[32m\"VM.Standard.AMD.Generic\"\u001b[39m,\n",
      "      memoryConstraints: \u001b[90mundefined\u001b[39m,\n",
      "      ocpuConstraints: \u001b[90mundefined\u001b[39m\n",
      "    },\n",
      "    {\n",
      "      imageId: \u001b[32m\"ocid1.image.oc1.eu-paris-1.aaaaaaaalvbkaoybngg572c4ybw47avoyv2vk4raeus2bg4hyrbfuq4hmcuq\"\u001b[39m,\n",
      "      shape: \u001b[32m\"VM.Standard.E2.1\"\u001b[39m,\n",
      "      memoryConstraints: \u001b[90mundefined\u001b[39m,\n",
      "      ocpuConstraints: \u001b[90mundefined\u001b[39m\n",
      "    },\n",
      "    {\n",
      "      imageId: \u001b[32m\"ocid1.image.oc1.eu-paris-1.aaaaaaaalvbkaoybngg572c4ybw47avoyv2vk4raeus2bg4hyrbfuq4hmcuq\"\u001b[39m,\n",
      "      shape: \u001b[32m\"VM.Standard.E2.1.Micro\"\u001b[39m,\n",
      "      memoryConstraints: \u001b[90mundefined\u001b[39m,\n",
      "      ocpuConstraints: \u001b[90mundefined\u001b[39m\n",
      "    },\n",
      "    {\n",
      "      imageId: \u001b[32m\"ocid1.image.oc1.eu-paris-1.aaaaaaaalvbkaoybngg572c4ybw47avoyv2vk4raeus2bg4hyrbfuq4hmcuq\"\u001b[39m,\n",
      "      shape: \u001b[32m\"VM.Standard.E2.2\"\u001b[39m,\n",
      "      memoryConstraints: \u001b[90mundefined\u001b[39m,\n",
      "      ocpuConstraints: \u001b[90mundefined\u001b[39m\n",
      "    },\n",
      "    {\n",
      "      imageId: \u001b[32m\"ocid1.image.oc1.eu-paris-1.aaaaaaaalvbkaoybngg572c4ybw47avoyv2vk4raeus2bg4hyrbfuq4hmcuq\"\u001b[39m,\n",
      "      shape: \u001b[32m\"VM.Standard.E2.4\"\u001b[39m,\n",
      "      memoryConstraints: \u001b[90mundefined\u001b[39m,\n",
      "      ocpuConstraints: \u001b[90mundefined\u001b[39m\n",
      "    },\n",
      "    {\n",
      "      imageId: \u001b[32m\"ocid1.image.oc1.eu-paris-1.aaaaaaaalvbkaoybngg572c4ybw47avoyv2vk4raeus2bg4hyrbfuq4hmcuq\"\u001b[39m,\n",
      "      shape: \u001b[32m\"VM.Standard.E2.8\"\u001b[39m,\n",
      "      memoryConstraints: \u001b[90mundefined\u001b[39m,\n",
      "      ocpuConstraints: \u001b[90mundefined\u001b[39m\n",
      "    },\n",
      "    {\n",
      "      imageId: \u001b[32m\"ocid1.image.oc1.eu-paris-1.aaaaaaaalvbkaoybngg572c4ybw47avoyv2vk4raeus2bg4hyrbfuq4hmcuq\"\u001b[39m,\n",
      "      shape: \u001b[32m\"VM.Standard.E3.Flex\"\u001b[39m,\n",
      "      memoryConstraints: \u001b[90mundefined\u001b[39m,\n",
      "      ocpuConstraints: \u001b[90mundefined\u001b[39m\n",
      "    },\n",
      "    {\n",
      "      imageId: \u001b[32m\"ocid1.image.oc1.eu-paris-1.aaaaaaaalvbkaoybngg572c4ybw47avoyv2vk4raeus2bg4hyrbfuq4hmcuq\"\u001b[39m,\n",
      "      shape: \u001b[32m\"VM.Standard.E4.Flex\"\u001b[39m,\n",
      "      memoryConstraints: \u001b[90mundefined\u001b[39m,\n",
      "      ocpuConstraints: \u001b[90mundefined\u001b[39m\n",
      "    },\n",
      "    {\n",
      "      imageId: \u001b[32m\"ocid1.image.oc1.eu-paris-1.aaaaaaaalvbkaoybngg572c4ybw47avoyv2vk4raeus2bg4hyrbfuq4hmcuq\"\u001b[39m,\n",
      "      shape: \u001b[32m\"VM.Standard.E5.Flex\"\u001b[39m,\n",
      "      memoryConstraints: \u001b[90mundefined\u001b[39m,\n",
      "      ocpuConstraints: \u001b[90mundefined\u001b[39m\n",
      "    },\n",
      "    {\n",
      "      imageId: \u001b[32m\"ocid1.image.oc1.eu-paris-1.aaaaaaaalvbkaoybngg572c4ybw47avoyv2vk4raeus2bg4hyrbfuq4hmcuq\"\u001b[39m,\n",
      "      shape: \u001b[32m\"VM.Standard.Intel.Generic\"\u001b[39m,\n",
      "      memoryConstraints: \u001b[90mundefined\u001b[39m,\n",
      "      ocpuConstraints: \u001b[90mundefined\u001b[39m\n",
      "    },\n",
      "    {\n",
      "      imageId: \u001b[32m\"ocid1.image.oc1.eu-paris-1.aaaaaaaalvbkaoybngg572c4ybw47avoyv2vk4raeus2bg4hyrbfuq4hmcuq\"\u001b[39m,\n",
      "      shape: \u001b[32m\"VM.Standard.x86.Generic\"\u001b[39m,\n",
      "      memoryConstraints: \u001b[90mundefined\u001b[39m,\n",
      "      ocpuConstraints: \u001b[90mundefined\u001b[39m\n",
      "    },\n",
      "    {\n",
      "      imageId: \u001b[32m\"ocid1.image.oc1.eu-paris-1.aaaaaaaalvbkaoybngg572c4ybw47avoyv2vk4raeus2bg4hyrbfuq4hmcuq\"\u001b[39m,\n",
      "      shape: \u001b[32m\"VM.Standard1.1\"\u001b[39m,\n",
      "      memoryConstraints: \u001b[90mundefined\u001b[39m,\n",
      "      ocpuConstraints: \u001b[90mundefined\u001b[39m\n",
      "    },\n",
      "    {\n",
      "      imageId: \u001b[32m\"ocid1.image.oc1.eu-paris-1.aaaaaaaalvbkaoybngg572c4ybw47avoyv2vk4raeus2bg4hyrbfuq4hmcuq\"\u001b[39m,\n",
      "      shape: \u001b[32m\"VM.Standard1.16\"\u001b[39m,\n",
      "      memoryConstraints: \u001b[90mundefined\u001b[39m,\n",
      "      ocpuConstraints: \u001b[90mundefined\u001b[39m\n",
      "    },\n",
      "    {\n",
      "      imageId: \u001b[32m\"ocid1.image.oc1.eu-paris-1.aaaaaaaalvbkaoybngg572c4ybw47avoyv2vk4raeus2bg4hyrbfuq4hmcuq\"\u001b[39m,\n",
      "      shape: \u001b[32m\"VM.Standard1.2\"\u001b[39m,\n",
      "      memoryConstraints: \u001b[90mundefined\u001b[39m,\n",
      "      ocpuConstraints: \u001b[90mundefined\u001b[39m\n",
      "    },\n",
      "    {\n",
      "      imageId: \u001b[32m\"ocid1.image.oc1.eu-paris-1.aaaaaaaalvbkaoybngg572c4ybw47avoyv2vk4raeus2bg4hyrbfuq4hmcuq\"\u001b[39m,\n",
      "      shape: \u001b[32m\"VM.Standard1.4\"\u001b[39m,\n",
      "      memoryConstraints: \u001b[90mundefined\u001b[39m,\n",
      "      ocpuConstraints: \u001b[90mundefined\u001b[39m\n",
      "    },\n",
      "    {\n",
      "      imageId: \u001b[32m\"ocid1.image.oc1.eu-paris-1.aaaaaaaalvbkaoybngg572c4ybw47avoyv2vk4raeus2bg4hyrbfuq4hmcuq\"\u001b[39m,\n",
      "      shape: \u001b[32m\"VM.Standard1.8\"\u001b[39m,\n",
      "      memoryConstraints: \u001b[90mundefined\u001b[39m,\n",
      "      ocpuConstraints: \u001b[90mundefined\u001b[39m\n",
      "    },\n",
      "    {\n",
      "      imageId: \u001b[32m\"ocid1.image.oc1.eu-paris-1.aaaaaaaalvbkaoybngg572c4ybw47avoyv2vk4raeus2bg4hyrbfuq4hmcuq\"\u001b[39m,\n",
      "      shape: \u001b[32m\"VM.Standard2.1\"\u001b[39m,\n",
      "      memoryConstraints: \u001b[90mundefined\u001b[39m,\n",
      "      ocpuConstraints: \u001b[90mundefined\u001b[39m\n",
      "    },\n",
      "    {\n",
      "      imageId: \u001b[32m\"ocid1.image.oc1.eu-paris-1.aaaaaaaalvbkaoybngg572c4ybw47avoyv2vk4raeus2bg4hyrbfuq4hmcuq\"\u001b[39m,\n",
      "      shape: \u001b[32m\"VM.Standard2.16\"\u001b[39m,\n",
      "      memoryConstraints: \u001b[90mundefined\u001b[39m,\n",
      "      ocpuConstraints: \u001b[90mundefined\u001b[39m\n",
      "    },\n",
      "    {\n",
      "      imageId: \u001b[32m\"ocid1.image.oc1.eu-paris-1.aaaaaaaalvbkaoybngg572c4ybw47avoyv2vk4raeus2bg4hyrbfuq4hmcuq\"\u001b[39m,\n",
      "      shape: \u001b[32m\"VM.Standard2.2\"\u001b[39m,\n",
      "      memoryConstraints: \u001b[90mundefined\u001b[39m,\n",
      "      ocpuConstraints: \u001b[90mundefined\u001b[39m\n",
      "    },\n",
      "    {\n",
      "      imageId: \u001b[32m\"ocid1.image.oc1.eu-paris-1.aaaaaaaalvbkaoybngg572c4ybw47avoyv2vk4raeus2bg4hyrbfuq4hmcuq\"\u001b[39m,\n",
      "      shape: \u001b[32m\"VM.Standard2.24\"\u001b[39m,\n",
      "      memoryConstraints: \u001b[90mundefined\u001b[39m,\n",
      "      ocpuConstraints: \u001b[90mundefined\u001b[39m\n",
      "    },\n",
      "    {\n",
      "      imageId: \u001b[32m\"ocid1.image.oc1.eu-paris-1.aaaaaaaalvbkaoybngg572c4ybw47avoyv2vk4raeus2bg4hyrbfuq4hmcuq\"\u001b[39m,\n",
      "      shape: \u001b[32m\"VM.Standard2.4\"\u001b[39m,\n",
      "      memoryConstraints: \u001b[90mundefined\u001b[39m,\n",
      "      ocpuConstraints: \u001b[90mundefined\u001b[39m\n",
      "    },\n",
      "    {\n",
      "      imageId: \u001b[32m\"ocid1.image.oc1.eu-paris-1.aaaaaaaalvbkaoybngg572c4ybw47avoyv2vk4raeus2bg4hyrbfuq4hmcuq\"\u001b[39m,\n",
      "      shape: \u001b[32m\"VM.Standard2.8\"\u001b[39m,\n",
      "      memoryConstraints: \u001b[90mundefined\u001b[39m,\n",
      "      ocpuConstraints: \u001b[90mundefined\u001b[39m\n",
      "    },\n",
      "    {\n",
      "      imageId: \u001b[32m\"ocid1.image.oc1.eu-paris-1.aaaaaaaalvbkaoybngg572c4ybw47avoyv2vk4raeus2bg4hyrbfuq4hmcuq\"\u001b[39m,\n",
      "      shape: \u001b[32m\"VM.Standard2.Flex\"\u001b[39m,\n",
      "      memoryConstraints: \u001b[90mundefined\u001b[39m,\n",
      "      ocpuConstraints: \u001b[90mundefined\u001b[39m\n",
      "    },\n",
      "    {\n",
      "      imageId: \u001b[32m\"ocid1.image.oc1.eu-paris-1.aaaaaaaalvbkaoybngg572c4ybw47avoyv2vk4raeus2bg4hyrbfuq4hmcuq\"\u001b[39m,\n",
      "      shape: \u001b[32m\"VM.Standard3.Flex\"\u001b[39m,\n",
      "      memoryConstraints: \u001b[90mundefined\u001b[39m,\n",
      "      ocpuConstraints: \u001b[90mundefined\u001b[39m\n",
      "    },\n",
      "    {\n",
      "      imageId: \u001b[32m\"ocid1.image.oc1.eu-paris-1.aaaaaaaalvbkaoybngg572c4ybw47avoyv2vk4raeus2bg4hyrbfuq4hmcuq\"\u001b[39m,\n",
      "      shape: \u001b[32m\"BM.Standard.E2.64\"\u001b[39m,\n",
      "      memoryConstraints: \u001b[90mundefined\u001b[39m,\n",
      "      ocpuConstraints: \u001b[90mundefined\u001b[39m\n",
      "    },\n",
      "    {\n",
      "      imageId: \u001b[32m\"ocid1.image.oc1.eu-paris-1.aaaaaaaalvbkaoybngg572c4ybw47avoyv2vk4raeus2bg4hyrbfuq4hmcuq\"\u001b[39m,\n",
      "      shape: \u001b[32m\"BM.Standard.E3.128\"\u001b[39m,\n",
      "      memoryConstraints: \u001b[90mundefined\u001b[39m,\n",
      "      ocpuConstraints: \u001b[90mundefined\u001b[39m\n",
      "    },\n",
      "    {\n",
      "      imageId: \u001b[32m\"ocid1.image.oc1.eu-paris-1.aaaaaaaalvbkaoybngg572c4ybw47avoyv2vk4raeus2bg4hyrbfuq4hmcuq\"\u001b[39m,\n",
      "      shape: \u001b[32m\"BM.GPU4.8\"\u001b[39m,\n",
      "      memoryConstraints: \u001b[90mundefined\u001b[39m,\n",
      "      ocpuConstraints: \u001b[90mundefined\u001b[39m\n",
      "    },\n",
      "    {\n",
      "      imageId: \u001b[32m\"ocid1.image.oc1.eu-paris-1.aaaaaaaalvbkaoybngg572c4ybw47avoyv2vk4raeus2bg4hyrbfuq4hmcuq\"\u001b[39m,\n",
      "      shape: \u001b[32m\"BM.Standard.E4.128\"\u001b[39m,\n",
      "      memoryConstraints: \u001b[90mundefined\u001b[39m,\n",
      "      ocpuConstraints: \u001b[90mundefined\u001b[39m\n",
      "    },\n",
      "    {\n",
      "      imageId: \u001b[32m\"ocid1.image.oc1.eu-paris-1.aaaaaaaalvbkaoybngg572c4ybw47avoyv2vk4raeus2bg4hyrbfuq4hmcuq\"\u001b[39m,\n",
      "      shape: \u001b[32m\"BM.GPU.A100-v2.8\"\u001b[39m,\n",
      "      memoryConstraints: \u001b[90mundefined\u001b[39m,\n",
      "      ocpuConstraints: \u001b[90mundefined\u001b[39m\n",
      "    },\n",
      "    {\n",
      "      imageId: \u001b[32m\"ocid1.image.oc1.eu-paris-1.aaaaaaaalvbkaoybngg572c4ybw47avoyv2vk4raeus2bg4hyrbfuq4hmcuq\"\u001b[39m,\n",
      "      shape: \u001b[32m\"BM.DenseIO.E4.128\"\u001b[39m,\n",
      "      memoryConstraints: \u001b[90mundefined\u001b[39m,\n",
      "      ocpuConstraints: \u001b[90mundefined\u001b[39m\n",
      "    },\n",
      "    {\n",
      "      imageId: \u001b[32m\"ocid1.image.oc1.eu-paris-1.aaaaaaaalvbkaoybngg572c4ybw47avoyv2vk4raeus2bg4hyrbfuq4hmcuq\"\u001b[39m,\n",
      "      shape: \u001b[32m\"BM.DenseIO.E5.128\"\u001b[39m,\n",
      "      memoryConstraints: \u001b[90mundefined\u001b[39m,\n",
      "      ocpuConstraints: \u001b[90mundefined\u001b[39m\n",
      "    },\n",
      "    {\n",
      "      imageId: \u001b[32m\"ocid1.image.oc1.eu-paris-1.aaaaaaaalvbkaoybngg572c4ybw47avoyv2vk4raeus2bg4hyrbfuq4hmcuq\"\u001b[39m,\n",
      "      shape: \u001b[32m\"BM.Standard.E5.192\"\u001b[39m,\n",
      "      memoryConstraints: \u001b[90mundefined\u001b[39m,\n",
      "      ocpuConstraints: \u001b[90mundefined\u001b[39m\n",
      "    },\n",
      "    {\n",
      "      imageId: \u001b[32m\"ocid1.image.oc1.eu-paris-1.aaaaaaaalvbkaoybngg572c4ybw47avoyv2vk4raeus2bg4hyrbfuq4hmcuq\"\u001b[39m,\n",
      "      shape: \u001b[32m\"BM.Standard1.36\"\u001b[39m,\n",
      "      memoryConstraints: \u001b[90mundefined\u001b[39m,\n",
      "      ocpuConstraints: \u001b[90mundefined\u001b[39m\n",
      "    },\n",
      "    {\n",
      "      imageId: \u001b[32m\"ocid1.image.oc1.eu-paris-1.aaaaaaaalvbkaoybngg572c4ybw47avoyv2vk4raeus2bg4hyrbfuq4hmcuq\"\u001b[39m,\n",
      "      shape: \u001b[32m\"BM.HighIO1.36\"\u001b[39m,\n",
      "      memoryConstraints: \u001b[90mundefined\u001b[39m,\n",
      "      ocpuConstraints: \u001b[90mundefined\u001b[39m\n",
      "    },\n",
      "    {\n",
      "      imageId: \u001b[32m\"ocid1.image.oc1.eu-paris-1.aaaaaaaalvbkaoybngg572c4ybw47avoyv2vk4raeus2bg4hyrbfuq4hmcuq\"\u001b[39m,\n",
      "      shape: \u001b[32m\"BM.DenseIO1.36\"\u001b[39m,\n",
      "      memoryConstraints: \u001b[90mundefined\u001b[39m,\n",
      "      ocpuConstraints: \u001b[90mundefined\u001b[39m\n",
      "    },\n",
      "    {\n",
      "      imageId: \u001b[32m\"ocid1.image.oc1.eu-paris-1.aaaaaaaalvbkaoybngg572c4ybw47avoyv2vk4raeus2bg4hyrbfuq4hmcuq\"\u001b[39m,\n",
      "      shape: \u001b[32m\"BM.GPU2.2\"\u001b[39m,\n",
      "      memoryConstraints: \u001b[90mundefined\u001b[39m,\n",
      "      ocpuConstraints: \u001b[90mundefined\u001b[39m\n",
      "    },\n",
      "    {\n",
      "      imageId: \u001b[32m\"ocid1.image.oc1.eu-paris-1.aaaaaaaalvbkaoybngg572c4ybw47avoyv2vk4raeus2bg4hyrbfuq4hmcuq\"\u001b[39m,\n",
      "      shape: \u001b[32m\"BM.HPC2.36\"\u001b[39m,\n",
      "      memoryConstraints: \u001b[90mundefined\u001b[39m,\n",
      "      ocpuConstraints: \u001b[90mundefined\u001b[39m\n",
      "    },\n",
      "    {\n",
      "      imageId: \u001b[32m\"ocid1.image.oc1.eu-paris-1.aaaaaaaalvbkaoybngg572c4ybw47avoyv2vk4raeus2bg4hyrbfuq4hmcuq\"\u001b[39m,\n",
      "      shape: \u001b[32m\"BM.Standard2.52\"\u001b[39m,\n",
      "      memoryConstraints: \u001b[90mundefined\u001b[39m,\n",
      "      ocpuConstraints: \u001b[90mundefined\u001b[39m\n",
      "    },\n",
      "    {\n",
      "      imageId: \u001b[32m\"ocid1.image.oc1.eu-paris-1.aaaaaaaalvbkaoybngg572c4ybw47avoyv2vk4raeus2bg4hyrbfuq4hmcuq\"\u001b[39m,\n",
      "      shape: \u001b[32m\"BM.GPU3.8\"\u001b[39m,\n",
      "      memoryConstraints: \u001b[90mundefined\u001b[39m,\n",
      "      ocpuConstraints: \u001b[90mundefined\u001b[39m\n",
      "    },\n",
      "    {\n",
      "      imageId: \u001b[32m\"ocid1.image.oc1.eu-paris-1.aaaaaaaalvbkaoybngg572c4ybw47avoyv2vk4raeus2bg4hyrbfuq4hmcuq\"\u001b[39m,\n",
      "      shape: \u001b[32m\"BM.DenseIO2.52\"\u001b[39m,\n",
      "      memoryConstraints: \u001b[90mundefined\u001b[39m,\n",
      "      ocpuConstraints: \u001b[90mundefined\u001b[39m\n",
      "    },\n",
      "    {\n",
      "      imageId: \u001b[32m\"ocid1.image.oc1.eu-paris-1.aaaaaaaalvbkaoybngg572c4ybw47avoyv2vk4raeus2bg4hyrbfuq4hmcuq\"\u001b[39m,\n",
      "      shape: \u001b[32m\"BM.Optimized3.36\"\u001b[39m,\n",
      "      memoryConstraints: \u001b[90mundefined\u001b[39m,\n",
      "      ocpuConstraints: \u001b[90mundefined\u001b[39m\n",
      "    },\n",
      "    {\n",
      "      imageId: \u001b[32m\"ocid1.image.oc1.eu-paris-1.aaaaaaaalvbkaoybngg572c4ybw47avoyv2vk4raeus2bg4hyrbfuq4hmcuq\"\u001b[39m,\n",
      "      shape: \u001b[32m\"BM.Standard3.64\"\u001b[39m,\n",
      "      memoryConstraints: \u001b[90mundefined\u001b[39m,\n",
      "      ocpuConstraints: \u001b[90mundefined\u001b[39m\n",
      "    },\n",
      "    {\n",
      "      imageId: \u001b[32m\"ocid1.image.oc1.eu-paris-1.aaaaaaaalvbkaoybngg572c4ybw47avoyv2vk4raeus2bg4hyrbfuq4hmcuq\"\u001b[39m,\n",
      "      shape: \u001b[32m\"BM.GPU.A10.4\"\u001b[39m,\n",
      "      memoryConstraints: \u001b[90mundefined\u001b[39m,\n",
      "      ocpuConstraints: \u001b[90mundefined\u001b[39m\n",
      "    }\n",
      "  ],\n",
      "  opcRequestId: \u001b[32m\"8EB40410E18B-11EE-B6B0-63B883BEA/9A1B1E182C942A1DAC2D13AA104818FB/C565A08185F5F216C3D532818EF3964A\"\u001b[39m\n",
      "}\n"
     ]
    }
   ],
   "source": [
    "// This is an automatically generated code sample.\n",
    "// To make this code sample work in your Oracle Cloud tenancy,\n",
    "// please replace the values for any parameters whose current values do not fit\n",
    "// your use case (such as resource IDs, strings containing ‘EXAMPLE’ or ‘unique_id’, and\n",
    "// boolean, number, and enum parameters with values not fitting your use case).\n",
    "\n",
    "// import * as core from \"npm:oci-core\"; // replaced by import * as oci from 'npm:oci-sdk'\n",
    "\n",
    "\n",
    "// Create a default authentication provider that uses the DEFAULT\n",
    "// profile in the configuration file.\n",
    "// Refer to <see href=\"https://docs.cloud.oracle.com/en-us/iaas/Content/API/Concepts/sdkconfig.htm#SDK_and_CLI_Configuration_File>the public documentation</see> on how to prepare a configuration file.\n",
    "\n",
    "\n",
    "const asnwer = await (async () => {\n",
    "  try {\n",
    "    console.log(`start`)\n",
    "    // Create a service client\n",
    "    const client = new core.ComputeClient({ authenticationDetailsProvider: provider });\n",
    "    console.log(`step 1 OK`)\n",
    "    // Create a request and dependent object(s).\n",
    "    const listImageShapeCompatibilityEntriesRequest: core.requests.ListImageShapeCompatibilityEntriesRequest = {\n",
    "      imageId: \"ocid1.image.oc1.eu-paris-1.aaaaaaaalvbkaoybngg572c4ybw47avoyv2vk4raeus2bg4hyrbfuq4hmcuq\",\n",
    "      limit: 940,\n",
    "      // page: \"EXAMPLE-page-Value\", // not required\n",
    "      // opcRequestId: \"BE75GWIJDJ93EQGMRQKK<unique_ID>\" // not required, see https://docs.oracle.com/en-us/iaas/api/#/en/iaas/20160918/ImageShapeCompatibilityEntry/ListImageShapeCompatibilityEntries\n",
    "    };\n",
    "\n",
    "    // Send request to the Client.\n",
    "    const listImageShapeCompatibilityEntriesResponse = await client.listImageShapeCompatibilityEntries(\n",
    "      listImageShapeCompatibilityEntriesRequest\n",
    "    );\n",
    "    console.log(`listImageShapeCompatibilityEntriesResponse:`, listImageShapeCompatibilityEntriesResponse)\n",
    "    // return listImageShapeCompatibilityEntriesResponse;\n",
    "  } catch (error) {\n",
    "    console.log(\"listImageShapeCompatibilityEntries Failed with error  \" + error);\n",
    "  }\n",
    "})();"
   ]
  },
  {
   "cell_type": "code",
   "execution_count": 3,
   "id": "9108cd81-a043-4e93-bb4c-cb67eaf480e3",
   "metadata": {},
   "outputs": [],
   "source": [
    "// This is an automatically generated code sample.\n",
    "// To make this code sample work in your Oracle Cloud tenancy,\n",
    "// please replace the values for any parameters whose current values do not fit\n",
    "// your use case (such as resource IDs, strings containing ‘EXAMPLE’ or ‘unique_id’, and\n",
    "// boolean, number, and enum parameters with values not fitting your use case).\n",
    "\n",
    "// import * as core from \"npm:oci-core\"; // replaced by import * as oci from 'npm:oci-sdk'\n",
    "\n",
    "\n",
    "// Create a default authentication provider that uses the DEFAULT\n",
    "// profile in the configuration file.\n",
    "// Refer to <see href=\"https://docs.cloud.oracle.com/en-us/iaas/Content/API/Concepts/sdkconfig.htm#SDK_and_CLI_Configuration_File>the public documentation</see> on how to prepare a configuration file.\n",
    "\n",
    "\n",
    "const getCompatibilityList = async (OCIPlatformImageID: string): Promise<any> => {\n",
    "  try {\n",
    "    console.log(`start`)\n",
    "    // Create a service client\n",
    "    const client = new core.ComputeClient({ authenticationDetailsProvider: provider });\n",
    "    console.log(`step 1 OK`)\n",
    "    // Create a request and dependent object(s).\n",
    "    const listImageShapeCompatibilityEntriesRequest: core.requests.ListImageShapeCompatibilityEntriesRequest = {\n",
    "      imageId: `${OCIPlatformImageID}`,\n",
    "      limit: 940,\n",
    "      // page: \"EXAMPLE-page-Value\", // not required\n",
    "      // opcRequestId: \"BE75GWIJDJ93EQGMRQKK<unique_ID>\" // not required, see https://docs.oracle.com/en-us/iaas/api/#/en/iaas/20160918/ImageShapeCompatibilityEntry/ListImageShapeCompatibilityEntries\n",
    "    };\n",
    "\n",
    "    // Send request to the Client.\n",
    "    const listImageShapeCompatibilityEntriesResponse = await client.listImageShapeCompatibilityEntries(\n",
    "      listImageShapeCompatibilityEntriesRequest\n",
    "    );\n",
    "    // console.log(`listImageShapeCompatibilityEntriesResponse:`, listImageShapeCompatibilityEntriesResponse)\n",
    "    return listImageShapeCompatibilityEntriesResponse;\n",
    "  } catch (error) {\n",
    "    console.log(\"listImageShapeCompatibilityEntries Failed with error  \" + error);\n",
    "  }\n",
    "};\n",
    "\n"
   ]
  },
  {
   "cell_type": "code",
   "execution_count": 4,
   "id": "822e30e1-314a-46c9-b61f-9d74fcc614e5",
   "metadata": {},
   "outputs": [
    {
     "name": "stdout",
     "output_type": "stream",
     "text": [
      "start\n",
      "The OciEnabledServiceSet is empty, all OCI services are enabled\n",
      "step 1 OK\n"
     ]
    },
    {
     "data": {
      "application/vnd.dataresource+json": {
       "data": [
        {
         "imageId": "ocid1.image.oc1.eu-paris-1.aaaaaaaalvbkaoybngg572c4ybw47avoyv2vk4raeus2bg4hyrbfuq4hmcuq",
         "shape": "VM.DenseIO.E4.Flex"
        },
        {
         "imageId": "ocid1.image.oc1.eu-paris-1.aaaaaaaalvbkaoybngg572c4ybw47avoyv2vk4raeus2bg4hyrbfuq4hmcuq",
         "shape": "VM.DenseIO.E5.Flex"
        },
        {
         "imageId": "ocid1.image.oc1.eu-paris-1.aaaaaaaalvbkaoybngg572c4ybw47avoyv2vk4raeus2bg4hyrbfuq4hmcuq",
         "shape": "VM.DenseIO1.16"
        },
        {
         "imageId": "ocid1.image.oc1.eu-paris-1.aaaaaaaalvbkaoybngg572c4ybw47avoyv2vk4raeus2bg4hyrbfuq4hmcuq",
         "shape": "VM.DenseIO1.4"
        },
        {
         "imageId": "ocid1.image.oc1.eu-paris-1.aaaaaaaalvbkaoybngg572c4ybw47avoyv2vk4raeus2bg4hyrbfuq4hmcuq",
         "shape": "VM.DenseIO1.8"
        },
        {
         "imageId": "ocid1.image.oc1.eu-paris-1.aaaaaaaalvbkaoybngg572c4ybw47avoyv2vk4raeus2bg4hyrbfuq4hmcuq",
         "shape": "VM.DenseIO2.16"
        },
        {
         "imageId": "ocid1.image.oc1.eu-paris-1.aaaaaaaalvbkaoybngg572c4ybw47avoyv2vk4raeus2bg4hyrbfuq4hmcuq",
         "shape": "VM.DenseIO2.24"
        },
        {
         "imageId": "ocid1.image.oc1.eu-paris-1.aaaaaaaalvbkaoybngg572c4ybw47avoyv2vk4raeus2bg4hyrbfuq4hmcuq",
         "shape": "VM.DenseIO2.8"
        },
        {
         "imageId": "ocid1.image.oc1.eu-paris-1.aaaaaaaalvbkaoybngg572c4ybw47avoyv2vk4raeus2bg4hyrbfuq4hmcuq",
         "shape": "VM.GPU.A10.1"
        },
        {
         "imageId": "ocid1.image.oc1.eu-paris-1.aaaaaaaalvbkaoybngg572c4ybw47avoyv2vk4raeus2bg4hyrbfuq4hmcuq",
         "shape": "VM.GPU.A10.2"
        },
        {
         "imageId": "ocid1.image.oc1.eu-paris-1.aaaaaaaalvbkaoybngg572c4ybw47avoyv2vk4raeus2bg4hyrbfuq4hmcuq",
         "shape": "VM.GPU.GU1.1"
        },
        {
         "imageId": "ocid1.image.oc1.eu-paris-1.aaaaaaaalvbkaoybngg572c4ybw47avoyv2vk4raeus2bg4hyrbfuq4hmcuq",
         "shape": "VM.GPU.GU1.2"
        },
        {
         "imageId": "ocid1.image.oc1.eu-paris-1.aaaaaaaalvbkaoybngg572c4ybw47avoyv2vk4raeus2bg4hyrbfuq4hmcuq",
         "shape": "VM.GPU2.1"
        },
        {
         "imageId": "ocid1.image.oc1.eu-paris-1.aaaaaaaalvbkaoybngg572c4ybw47avoyv2vk4raeus2bg4hyrbfuq4hmcuq",
         "shape": "VM.GPU3.1"
        },
        {
         "imageId": "ocid1.image.oc1.eu-paris-1.aaaaaaaalvbkaoybngg572c4ybw47avoyv2vk4raeus2bg4hyrbfuq4hmcuq",
         "shape": "VM.GPU3.2"
        },
        {
         "imageId": "ocid1.image.oc1.eu-paris-1.aaaaaaaalvbkaoybngg572c4ybw47avoyv2vk4raeus2bg4hyrbfuq4hmcuq",
         "shape": "VM.GPU3.4"
        },
        {
         "imageId": "ocid1.image.oc1.eu-paris-1.aaaaaaaalvbkaoybngg572c4ybw47avoyv2vk4raeus2bg4hyrbfuq4hmcuq",
         "shape": "VM.Optimized3.Flex"
        },
        {
         "imageId": "ocid1.image.oc1.eu-paris-1.aaaaaaaalvbkaoybngg572c4ybw47avoyv2vk4raeus2bg4hyrbfuq4hmcuq",
         "shape": "VM.Standard.AMD.Generic"
        },
        {
         "imageId": "ocid1.image.oc1.eu-paris-1.aaaaaaaalvbkaoybngg572c4ybw47avoyv2vk4raeus2bg4hyrbfuq4hmcuq",
         "shape": "VM.Standard.E2.1"
        },
        {
         "imageId": "ocid1.image.oc1.eu-paris-1.aaaaaaaalvbkaoybngg572c4ybw47avoyv2vk4raeus2bg4hyrbfuq4hmcuq",
         "shape": "VM.Standard.E2.1.Micro"
        },
        {
         "imageId": "ocid1.image.oc1.eu-paris-1.aaaaaaaalvbkaoybngg572c4ybw47avoyv2vk4raeus2bg4hyrbfuq4hmcuq",
         "shape": "VM.Standard.E2.2"
        },
        {
         "imageId": "ocid1.image.oc1.eu-paris-1.aaaaaaaalvbkaoybngg572c4ybw47avoyv2vk4raeus2bg4hyrbfuq4hmcuq",
         "shape": "VM.Standard.E2.4"
        },
        {
         "imageId": "ocid1.image.oc1.eu-paris-1.aaaaaaaalvbkaoybngg572c4ybw47avoyv2vk4raeus2bg4hyrbfuq4hmcuq",
         "shape": "VM.Standard.E2.8"
        },
        {
         "imageId": "ocid1.image.oc1.eu-paris-1.aaaaaaaalvbkaoybngg572c4ybw47avoyv2vk4raeus2bg4hyrbfuq4hmcuq",
         "shape": "VM.Standard.E3.Flex"
        },
        {
         "imageId": "ocid1.image.oc1.eu-paris-1.aaaaaaaalvbkaoybngg572c4ybw47avoyv2vk4raeus2bg4hyrbfuq4hmcuq",
         "shape": "VM.Standard.E4.Flex"
        },
        {
         "imageId": "ocid1.image.oc1.eu-paris-1.aaaaaaaalvbkaoybngg572c4ybw47avoyv2vk4raeus2bg4hyrbfuq4hmcuq",
         "shape": "VM.Standard.E5.Flex"
        },
        {
         "imageId": "ocid1.image.oc1.eu-paris-1.aaaaaaaalvbkaoybngg572c4ybw47avoyv2vk4raeus2bg4hyrbfuq4hmcuq",
         "shape": "VM.Standard.Intel.Generic"
        },
        {
         "imageId": "ocid1.image.oc1.eu-paris-1.aaaaaaaalvbkaoybngg572c4ybw47avoyv2vk4raeus2bg4hyrbfuq4hmcuq",
         "shape": "VM.Standard.x86.Generic"
        },
        {
         "imageId": "ocid1.image.oc1.eu-paris-1.aaaaaaaalvbkaoybngg572c4ybw47avoyv2vk4raeus2bg4hyrbfuq4hmcuq",
         "shape": "VM.Standard1.1"
        },
        {
         "imageId": "ocid1.image.oc1.eu-paris-1.aaaaaaaalvbkaoybngg572c4ybw47avoyv2vk4raeus2bg4hyrbfuq4hmcuq",
         "shape": "VM.Standard1.16"
        },
        {
         "imageId": "ocid1.image.oc1.eu-paris-1.aaaaaaaalvbkaoybngg572c4ybw47avoyv2vk4raeus2bg4hyrbfuq4hmcuq",
         "shape": "VM.Standard1.2"
        },
        {
         "imageId": "ocid1.image.oc1.eu-paris-1.aaaaaaaalvbkaoybngg572c4ybw47avoyv2vk4raeus2bg4hyrbfuq4hmcuq",
         "shape": "VM.Standard1.4"
        },
        {
         "imageId": "ocid1.image.oc1.eu-paris-1.aaaaaaaalvbkaoybngg572c4ybw47avoyv2vk4raeus2bg4hyrbfuq4hmcuq",
         "shape": "VM.Standard1.8"
        },
        {
         "imageId": "ocid1.image.oc1.eu-paris-1.aaaaaaaalvbkaoybngg572c4ybw47avoyv2vk4raeus2bg4hyrbfuq4hmcuq",
         "shape": "VM.Standard2.1"
        },
        {
         "imageId": "ocid1.image.oc1.eu-paris-1.aaaaaaaalvbkaoybngg572c4ybw47avoyv2vk4raeus2bg4hyrbfuq4hmcuq",
         "shape": "VM.Standard2.16"
        },
        {
         "imageId": "ocid1.image.oc1.eu-paris-1.aaaaaaaalvbkaoybngg572c4ybw47avoyv2vk4raeus2bg4hyrbfuq4hmcuq",
         "shape": "VM.Standard2.2"
        },
        {
         "imageId": "ocid1.image.oc1.eu-paris-1.aaaaaaaalvbkaoybngg572c4ybw47avoyv2vk4raeus2bg4hyrbfuq4hmcuq",
         "shape": "VM.Standard2.24"
        },
        {
         "imageId": "ocid1.image.oc1.eu-paris-1.aaaaaaaalvbkaoybngg572c4ybw47avoyv2vk4raeus2bg4hyrbfuq4hmcuq",
         "shape": "VM.Standard2.4"
        },
        {
         "imageId": "ocid1.image.oc1.eu-paris-1.aaaaaaaalvbkaoybngg572c4ybw47avoyv2vk4raeus2bg4hyrbfuq4hmcuq",
         "shape": "VM.Standard2.8"
        },
        {
         "imageId": "ocid1.image.oc1.eu-paris-1.aaaaaaaalvbkaoybngg572c4ybw47avoyv2vk4raeus2bg4hyrbfuq4hmcuq",
         "shape": "VM.Standard2.Flex"
        },
        {
         "imageId": "ocid1.image.oc1.eu-paris-1.aaaaaaaalvbkaoybngg572c4ybw47avoyv2vk4raeus2bg4hyrbfuq4hmcuq",
         "shape": "VM.Standard3.Flex"
        },
        {
         "imageId": "ocid1.image.oc1.eu-paris-1.aaaaaaaalvbkaoybngg572c4ybw47avoyv2vk4raeus2bg4hyrbfuq4hmcuq",
         "shape": "BM.Standard.E2.64"
        },
        {
         "imageId": "ocid1.image.oc1.eu-paris-1.aaaaaaaalvbkaoybngg572c4ybw47avoyv2vk4raeus2bg4hyrbfuq4hmcuq",
         "shape": "BM.Standard.E3.128"
        },
        {
         "imageId": "ocid1.image.oc1.eu-paris-1.aaaaaaaalvbkaoybngg572c4ybw47avoyv2vk4raeus2bg4hyrbfuq4hmcuq",
         "shape": "BM.GPU4.8"
        },
        {
         "imageId": "ocid1.image.oc1.eu-paris-1.aaaaaaaalvbkaoybngg572c4ybw47avoyv2vk4raeus2bg4hyrbfuq4hmcuq",
         "shape": "BM.Standard.E4.128"
        },
        {
         "imageId": "ocid1.image.oc1.eu-paris-1.aaaaaaaalvbkaoybngg572c4ybw47avoyv2vk4raeus2bg4hyrbfuq4hmcuq",
         "shape": "BM.GPU.A100-v2.8"
        },
        {
         "imageId": "ocid1.image.oc1.eu-paris-1.aaaaaaaalvbkaoybngg572c4ybw47avoyv2vk4raeus2bg4hyrbfuq4hmcuq",
         "shape": "BM.DenseIO.E4.128"
        },
        {
         "imageId": "ocid1.image.oc1.eu-paris-1.aaaaaaaalvbkaoybngg572c4ybw47avoyv2vk4raeus2bg4hyrbfuq4hmcuq",
         "shape": "BM.DenseIO.E5.128"
        },
        {
         "imageId": "ocid1.image.oc1.eu-paris-1.aaaaaaaalvbkaoybngg572c4ybw47avoyv2vk4raeus2bg4hyrbfuq4hmcuq",
         "shape": "BM.Standard.E5.192"
        },
        {
         "imageId": "ocid1.image.oc1.eu-paris-1.aaaaaaaalvbkaoybngg572c4ybw47avoyv2vk4raeus2bg4hyrbfuq4hmcuq",
         "shape": "BM.Standard1.36"
        }
       ],
       "schema": {
        "fields": [
         {
          "name": "imageId",
          "type": "string"
         },
         {
          "name": "shape",
          "type": "string"
         }
        ]
       }
      },
      "text/html": [
       "<table><thead><tr><th>imageId</th><th>shape</th></tr></thead><tbody><tr><td>ocid1.image.oc1.eu-paris-1.aaaaaaaalvbkaoybngg572c4ybw47avoyv2vk4raeus2bg4hyrbfuq4hmcuq</td><td>VM.DenseIO.E4.Flex</td></tr><tr><td>ocid1.image.oc1.eu-paris-1.aaaaaaaalvbkaoybngg572c4ybw47avoyv2vk4raeus2bg4hyrbfuq4hmcuq</td><td>VM.DenseIO.E5.Flex</td></tr><tr><td>ocid1.image.oc1.eu-paris-1.aaaaaaaalvbkaoybngg572c4ybw47avoyv2vk4raeus2bg4hyrbfuq4hmcuq</td><td>VM.DenseIO1.16</td></tr><tr><td>ocid1.image.oc1.eu-paris-1.aaaaaaaalvbkaoybngg572c4ybw47avoyv2vk4raeus2bg4hyrbfuq4hmcuq</td><td>VM.DenseIO1.4</td></tr><tr><td>ocid1.image.oc1.eu-paris-1.aaaaaaaalvbkaoybngg572c4ybw47avoyv2vk4raeus2bg4hyrbfuq4hmcuq</td><td>VM.DenseIO1.8</td></tr><tr><td>ocid1.image.oc1.eu-paris-1.aaaaaaaalvbkaoybngg572c4ybw47avoyv2vk4raeus2bg4hyrbfuq4hmcuq</td><td>VM.DenseIO2.16</td></tr><tr><td>ocid1.image.oc1.eu-paris-1.aaaaaaaalvbkaoybngg572c4ybw47avoyv2vk4raeus2bg4hyrbfuq4hmcuq</td><td>VM.DenseIO2.24</td></tr><tr><td>ocid1.image.oc1.eu-paris-1.aaaaaaaalvbkaoybngg572c4ybw47avoyv2vk4raeus2bg4hyrbfuq4hmcuq</td><td>VM.DenseIO2.8</td></tr><tr><td>ocid1.image.oc1.eu-paris-1.aaaaaaaalvbkaoybngg572c4ybw47avoyv2vk4raeus2bg4hyrbfuq4hmcuq</td><td>VM.GPU.A10.1</td></tr><tr><td>ocid1.image.oc1.eu-paris-1.aaaaaaaalvbkaoybngg572c4ybw47avoyv2vk4raeus2bg4hyrbfuq4hmcuq</td><td>VM.GPU.A10.2</td></tr><tr><td>ocid1.image.oc1.eu-paris-1.aaaaaaaalvbkaoybngg572c4ybw47avoyv2vk4raeus2bg4hyrbfuq4hmcuq</td><td>VM.GPU.GU1.1</td></tr><tr><td>ocid1.image.oc1.eu-paris-1.aaaaaaaalvbkaoybngg572c4ybw47avoyv2vk4raeus2bg4hyrbfuq4hmcuq</td><td>VM.GPU.GU1.2</td></tr><tr><td>ocid1.image.oc1.eu-paris-1.aaaaaaaalvbkaoybngg572c4ybw47avoyv2vk4raeus2bg4hyrbfuq4hmcuq</td><td>VM.GPU2.1</td></tr><tr><td>ocid1.image.oc1.eu-paris-1.aaaaaaaalvbkaoybngg572c4ybw47avoyv2vk4raeus2bg4hyrbfuq4hmcuq</td><td>VM.GPU3.1</td></tr><tr><td>ocid1.image.oc1.eu-paris-1.aaaaaaaalvbkaoybngg572c4ybw47avoyv2vk4raeus2bg4hyrbfuq4hmcuq</td><td>VM.GPU3.2</td></tr><tr><td>ocid1.image.oc1.eu-paris-1.aaaaaaaalvbkaoybngg572c4ybw47avoyv2vk4raeus2bg4hyrbfuq4hmcuq</td><td>VM.GPU3.4</td></tr><tr><td>ocid1.image.oc1.eu-paris-1.aaaaaaaalvbkaoybngg572c4ybw47avoyv2vk4raeus2bg4hyrbfuq4hmcuq</td><td>VM.Optimized3.Flex</td></tr><tr><td>ocid1.image.oc1.eu-paris-1.aaaaaaaalvbkaoybngg572c4ybw47avoyv2vk4raeus2bg4hyrbfuq4hmcuq</td><td>VM.Standard.AMD.Generic</td></tr><tr><td>ocid1.image.oc1.eu-paris-1.aaaaaaaalvbkaoybngg572c4ybw47avoyv2vk4raeus2bg4hyrbfuq4hmcuq</td><td>VM.Standard.E2.1</td></tr><tr><td>ocid1.image.oc1.eu-paris-1.aaaaaaaalvbkaoybngg572c4ybw47avoyv2vk4raeus2bg4hyrbfuq4hmcuq</td><td>VM.Standard.E2.1.Micro</td></tr><tr><td>ocid1.image.oc1.eu-paris-1.aaaaaaaalvbkaoybngg572c4ybw47avoyv2vk4raeus2bg4hyrbfuq4hmcuq</td><td>VM.Standard.E2.2</td></tr><tr><td>ocid1.image.oc1.eu-paris-1.aaaaaaaalvbkaoybngg572c4ybw47avoyv2vk4raeus2bg4hyrbfuq4hmcuq</td><td>VM.Standard.E2.4</td></tr><tr><td>ocid1.image.oc1.eu-paris-1.aaaaaaaalvbkaoybngg572c4ybw47avoyv2vk4raeus2bg4hyrbfuq4hmcuq</td><td>VM.Standard.E2.8</td></tr><tr><td>ocid1.image.oc1.eu-paris-1.aaaaaaaalvbkaoybngg572c4ybw47avoyv2vk4raeus2bg4hyrbfuq4hmcuq</td><td>VM.Standard.E3.Flex</td></tr><tr><td>ocid1.image.oc1.eu-paris-1.aaaaaaaalvbkaoybngg572c4ybw47avoyv2vk4raeus2bg4hyrbfuq4hmcuq</td><td>VM.Standard.E4.Flex</td></tr><tr><td>ocid1.image.oc1.eu-paris-1.aaaaaaaalvbkaoybngg572c4ybw47avoyv2vk4raeus2bg4hyrbfuq4hmcuq</td><td>VM.Standard.E5.Flex</td></tr><tr><td>ocid1.image.oc1.eu-paris-1.aaaaaaaalvbkaoybngg572c4ybw47avoyv2vk4raeus2bg4hyrbfuq4hmcuq</td><td>VM.Standard.Intel.Generic</td></tr><tr><td>ocid1.image.oc1.eu-paris-1.aaaaaaaalvbkaoybngg572c4ybw47avoyv2vk4raeus2bg4hyrbfuq4hmcuq</td><td>VM.Standard.x86.Generic</td></tr><tr><td>ocid1.image.oc1.eu-paris-1.aaaaaaaalvbkaoybngg572c4ybw47avoyv2vk4raeus2bg4hyrbfuq4hmcuq</td><td>VM.Standard1.1</td></tr><tr><td>ocid1.image.oc1.eu-paris-1.aaaaaaaalvbkaoybngg572c4ybw47avoyv2vk4raeus2bg4hyrbfuq4hmcuq</td><td>VM.Standard1.16</td></tr><tr><td>ocid1.image.oc1.eu-paris-1.aaaaaaaalvbkaoybngg572c4ybw47avoyv2vk4raeus2bg4hyrbfuq4hmcuq</td><td>VM.Standard1.2</td></tr><tr><td>ocid1.image.oc1.eu-paris-1.aaaaaaaalvbkaoybngg572c4ybw47avoyv2vk4raeus2bg4hyrbfuq4hmcuq</td><td>VM.Standard1.4</td></tr><tr><td>ocid1.image.oc1.eu-paris-1.aaaaaaaalvbkaoybngg572c4ybw47avoyv2vk4raeus2bg4hyrbfuq4hmcuq</td><td>VM.Standard1.8</td></tr><tr><td>ocid1.image.oc1.eu-paris-1.aaaaaaaalvbkaoybngg572c4ybw47avoyv2vk4raeus2bg4hyrbfuq4hmcuq</td><td>VM.Standard2.1</td></tr><tr><td>ocid1.image.oc1.eu-paris-1.aaaaaaaalvbkaoybngg572c4ybw47avoyv2vk4raeus2bg4hyrbfuq4hmcuq</td><td>VM.Standard2.16</td></tr><tr><td>ocid1.image.oc1.eu-paris-1.aaaaaaaalvbkaoybngg572c4ybw47avoyv2vk4raeus2bg4hyrbfuq4hmcuq</td><td>VM.Standard2.2</td></tr><tr><td>ocid1.image.oc1.eu-paris-1.aaaaaaaalvbkaoybngg572c4ybw47avoyv2vk4raeus2bg4hyrbfuq4hmcuq</td><td>VM.Standard2.24</td></tr><tr><td>ocid1.image.oc1.eu-paris-1.aaaaaaaalvbkaoybngg572c4ybw47avoyv2vk4raeus2bg4hyrbfuq4hmcuq</td><td>VM.Standard2.4</td></tr><tr><td>ocid1.image.oc1.eu-paris-1.aaaaaaaalvbkaoybngg572c4ybw47avoyv2vk4raeus2bg4hyrbfuq4hmcuq</td><td>VM.Standard2.8</td></tr><tr><td>ocid1.image.oc1.eu-paris-1.aaaaaaaalvbkaoybngg572c4ybw47avoyv2vk4raeus2bg4hyrbfuq4hmcuq</td><td>VM.Standard2.Flex</td></tr><tr><td>ocid1.image.oc1.eu-paris-1.aaaaaaaalvbkaoybngg572c4ybw47avoyv2vk4raeus2bg4hyrbfuq4hmcuq</td><td>VM.Standard3.Flex</td></tr><tr><td>ocid1.image.oc1.eu-paris-1.aaaaaaaalvbkaoybngg572c4ybw47avoyv2vk4raeus2bg4hyrbfuq4hmcuq</td><td>BM.Standard.E2.64</td></tr><tr><td>ocid1.image.oc1.eu-paris-1.aaaaaaaalvbkaoybngg572c4ybw47avoyv2vk4raeus2bg4hyrbfuq4hmcuq</td><td>BM.Standard.E3.128</td></tr><tr><td>ocid1.image.oc1.eu-paris-1.aaaaaaaalvbkaoybngg572c4ybw47avoyv2vk4raeus2bg4hyrbfuq4hmcuq</td><td>BM.GPU4.8</td></tr><tr><td>ocid1.image.oc1.eu-paris-1.aaaaaaaalvbkaoybngg572c4ybw47avoyv2vk4raeus2bg4hyrbfuq4hmcuq</td><td>BM.Standard.E4.128</td></tr><tr><td>ocid1.image.oc1.eu-paris-1.aaaaaaaalvbkaoybngg572c4ybw47avoyv2vk4raeus2bg4hyrbfuq4hmcuq</td><td>BM.GPU.A100-v2.8</td></tr><tr><td>ocid1.image.oc1.eu-paris-1.aaaaaaaalvbkaoybngg572c4ybw47avoyv2vk4raeus2bg4hyrbfuq4hmcuq</td><td>BM.DenseIO.E4.128</td></tr><tr><td>ocid1.image.oc1.eu-paris-1.aaaaaaaalvbkaoybngg572c4ybw47avoyv2vk4raeus2bg4hyrbfuq4hmcuq</td><td>BM.DenseIO.E5.128</td></tr><tr><td>ocid1.image.oc1.eu-paris-1.aaaaaaaalvbkaoybngg572c4ybw47avoyv2vk4raeus2bg4hyrbfuq4hmcuq</td><td>BM.Standard.E5.192</td></tr><tr><td>ocid1.image.oc1.eu-paris-1.aaaaaaaalvbkaoybngg572c4ybw47avoyv2vk4raeus2bg4hyrbfuq4hmcuq</td><td>BM.Standard1.36</td></tr></tbody></table>"
      ]
     },
     "execution_count": 4,
     "metadata": {},
     "output_type": "execute_result"
    }
   ],
   "source": [
    "const compatibilityListExample1 = await getCompatibilityList(\"ocid1.image.oc1.eu-paris-1.aaaaaaaalvbkaoybngg572c4ybw47avoyv2vk4raeus2bg4hyrbfuq4hmcuq\")\n",
    "//console.log(example1)\n",
    "// https://pola-rs.github.io/nodejs-polars/functions/pl.readJSON.html\n",
    "const df_compatibilityListExample1 = pl.readJSON(JSON.stringify(compatibilityListExample1.items), {format: \"json\"})\n",
    "// df_compatibilityListExample1.toRecords()\n",
    "df_compatibilityListExample1\n",
    "//pl.Series('imageShapes', df_compatibilityListExample1)"
   ]
  },
  {
   "cell_type": "code",
   "execution_count": 5,
   "id": "4704a93d-97b8-4589-a24c-7bc1d572bd0a",
   "metadata": {},
   "outputs": [
    {
     "name": "stdout",
     "output_type": "stream",
     "text": [
      "start\n",
      "The OciEnabledServiceSet is empty, all OCI services are enabled\n",
      "step 1 OK\n"
     ]
    },
    {
     "data": {
      "application/vnd.dataresource+json": {
       "data": [
        {
         "imageId": "ocid1.image.oc1.eu-paris-1.aaaaaaaaf7irdvozuzmwyvbfacdivomj52x65vr6tlg62i6er323sevazdqq",
         "shape": "VM.DenseIO.E4.Flex"
        },
        {
         "imageId": "ocid1.image.oc1.eu-paris-1.aaaaaaaaf7irdvozuzmwyvbfacdivomj52x65vr6tlg62i6er323sevazdqq",
         "shape": "VM.DenseIO.E5.Flex"
        },
        {
         "imageId": "ocid1.image.oc1.eu-paris-1.aaaaaaaaf7irdvozuzmwyvbfacdivomj52x65vr6tlg62i6er323sevazdqq",
         "shape": "VM.DenseIO1.16"
        },
        {
         "imageId": "ocid1.image.oc1.eu-paris-1.aaaaaaaaf7irdvozuzmwyvbfacdivomj52x65vr6tlg62i6er323sevazdqq",
         "shape": "VM.DenseIO1.4"
        },
        {
         "imageId": "ocid1.image.oc1.eu-paris-1.aaaaaaaaf7irdvozuzmwyvbfacdivomj52x65vr6tlg62i6er323sevazdqq",
         "shape": "VM.DenseIO1.8"
        },
        {
         "imageId": "ocid1.image.oc1.eu-paris-1.aaaaaaaaf7irdvozuzmwyvbfacdivomj52x65vr6tlg62i6er323sevazdqq",
         "shape": "VM.DenseIO2.16"
        },
        {
         "imageId": "ocid1.image.oc1.eu-paris-1.aaaaaaaaf7irdvozuzmwyvbfacdivomj52x65vr6tlg62i6er323sevazdqq",
         "shape": "VM.DenseIO2.24"
        },
        {
         "imageId": "ocid1.image.oc1.eu-paris-1.aaaaaaaaf7irdvozuzmwyvbfacdivomj52x65vr6tlg62i6er323sevazdqq",
         "shape": "VM.DenseIO2.8"
        },
        {
         "imageId": "ocid1.image.oc1.eu-paris-1.aaaaaaaaf7irdvozuzmwyvbfacdivomj52x65vr6tlg62i6er323sevazdqq",
         "shape": "VM.GPU.A10.1"
        },
        {
         "imageId": "ocid1.image.oc1.eu-paris-1.aaaaaaaaf7irdvozuzmwyvbfacdivomj52x65vr6tlg62i6er323sevazdqq",
         "shape": "VM.GPU.A10.2"
        },
        {
         "imageId": "ocid1.image.oc1.eu-paris-1.aaaaaaaaf7irdvozuzmwyvbfacdivomj52x65vr6tlg62i6er323sevazdqq",
         "shape": "VM.GPU.GU1.1"
        },
        {
         "imageId": "ocid1.image.oc1.eu-paris-1.aaaaaaaaf7irdvozuzmwyvbfacdivomj52x65vr6tlg62i6er323sevazdqq",
         "shape": "VM.GPU.GU1.2"
        },
        {
         "imageId": "ocid1.image.oc1.eu-paris-1.aaaaaaaaf7irdvozuzmwyvbfacdivomj52x65vr6tlg62i6er323sevazdqq",
         "shape": "VM.GPU2.1"
        },
        {
         "imageId": "ocid1.image.oc1.eu-paris-1.aaaaaaaaf7irdvozuzmwyvbfacdivomj52x65vr6tlg62i6er323sevazdqq",
         "shape": "VM.GPU3.1"
        },
        {
         "imageId": "ocid1.image.oc1.eu-paris-1.aaaaaaaaf7irdvozuzmwyvbfacdivomj52x65vr6tlg62i6er323sevazdqq",
         "shape": "VM.GPU3.2"
        },
        {
         "imageId": "ocid1.image.oc1.eu-paris-1.aaaaaaaaf7irdvozuzmwyvbfacdivomj52x65vr6tlg62i6er323sevazdqq",
         "shape": "VM.GPU3.4"
        },
        {
         "imageId": "ocid1.image.oc1.eu-paris-1.aaaaaaaaf7irdvozuzmwyvbfacdivomj52x65vr6tlg62i6er323sevazdqq",
         "shape": "VM.Optimized3.Flex"
        },
        {
         "imageId": "ocid1.image.oc1.eu-paris-1.aaaaaaaaf7irdvozuzmwyvbfacdivomj52x65vr6tlg62i6er323sevazdqq",
         "shape": "VM.Standard.AMD.Generic"
        },
        {
         "imageId": "ocid1.image.oc1.eu-paris-1.aaaaaaaaf7irdvozuzmwyvbfacdivomj52x65vr6tlg62i6er323sevazdqq",
         "shape": "VM.Standard.B1.1"
        },
        {
         "imageId": "ocid1.image.oc1.eu-paris-1.aaaaaaaaf7irdvozuzmwyvbfacdivomj52x65vr6tlg62i6er323sevazdqq",
         "shape": "VM.Standard.B1.16"
        },
        {
         "imageId": "ocid1.image.oc1.eu-paris-1.aaaaaaaaf7irdvozuzmwyvbfacdivomj52x65vr6tlg62i6er323sevazdqq",
         "shape": "VM.Standard.B1.2"
        },
        {
         "imageId": "ocid1.image.oc1.eu-paris-1.aaaaaaaaf7irdvozuzmwyvbfacdivomj52x65vr6tlg62i6er323sevazdqq",
         "shape": "VM.Standard.B1.4"
        },
        {
         "imageId": "ocid1.image.oc1.eu-paris-1.aaaaaaaaf7irdvozuzmwyvbfacdivomj52x65vr6tlg62i6er323sevazdqq",
         "shape": "VM.Standard.B1.8"
        },
        {
         "imageId": "ocid1.image.oc1.eu-paris-1.aaaaaaaaf7irdvozuzmwyvbfacdivomj52x65vr6tlg62i6er323sevazdqq",
         "shape": "VM.Standard.E2.1"
        },
        {
         "imageId": "ocid1.image.oc1.eu-paris-1.aaaaaaaaf7irdvozuzmwyvbfacdivomj52x65vr6tlg62i6er323sevazdqq",
         "shape": "VM.Standard.E2.1.Micro"
        },
        {
         "imageId": "ocid1.image.oc1.eu-paris-1.aaaaaaaaf7irdvozuzmwyvbfacdivomj52x65vr6tlg62i6er323sevazdqq",
         "shape": "VM.Standard.E2.2"
        },
        {
         "imageId": "ocid1.image.oc1.eu-paris-1.aaaaaaaaf7irdvozuzmwyvbfacdivomj52x65vr6tlg62i6er323sevazdqq",
         "shape": "VM.Standard.E2.4"
        },
        {
         "imageId": "ocid1.image.oc1.eu-paris-1.aaaaaaaaf7irdvozuzmwyvbfacdivomj52x65vr6tlg62i6er323sevazdqq",
         "shape": "VM.Standard.E2.8"
        },
        {
         "imageId": "ocid1.image.oc1.eu-paris-1.aaaaaaaaf7irdvozuzmwyvbfacdivomj52x65vr6tlg62i6er323sevazdqq",
         "shape": "VM.Standard.E3.Flex"
        },
        {
         "imageId": "ocid1.image.oc1.eu-paris-1.aaaaaaaaf7irdvozuzmwyvbfacdivomj52x65vr6tlg62i6er323sevazdqq",
         "shape": "VM.Standard.E4.Flex"
        },
        {
         "imageId": "ocid1.image.oc1.eu-paris-1.aaaaaaaaf7irdvozuzmwyvbfacdivomj52x65vr6tlg62i6er323sevazdqq",
         "shape": "VM.Standard.E5.Flex"
        },
        {
         "imageId": "ocid1.image.oc1.eu-paris-1.aaaaaaaaf7irdvozuzmwyvbfacdivomj52x65vr6tlg62i6er323sevazdqq",
         "shape": "VM.Standard.Intel.Generic"
        },
        {
         "imageId": "ocid1.image.oc1.eu-paris-1.aaaaaaaaf7irdvozuzmwyvbfacdivomj52x65vr6tlg62i6er323sevazdqq",
         "shape": "VM.Standard.x86.Generic"
        },
        {
         "imageId": "ocid1.image.oc1.eu-paris-1.aaaaaaaaf7irdvozuzmwyvbfacdivomj52x65vr6tlg62i6er323sevazdqq",
         "shape": "VM.Standard1.1"
        },
        {
         "imageId": "ocid1.image.oc1.eu-paris-1.aaaaaaaaf7irdvozuzmwyvbfacdivomj52x65vr6tlg62i6er323sevazdqq",
         "shape": "VM.Standard1.16"
        },
        {
         "imageId": "ocid1.image.oc1.eu-paris-1.aaaaaaaaf7irdvozuzmwyvbfacdivomj52x65vr6tlg62i6er323sevazdqq",
         "shape": "VM.Standard1.2"
        },
        {
         "imageId": "ocid1.image.oc1.eu-paris-1.aaaaaaaaf7irdvozuzmwyvbfacdivomj52x65vr6tlg62i6er323sevazdqq",
         "shape": "VM.Standard1.4"
        },
        {
         "imageId": "ocid1.image.oc1.eu-paris-1.aaaaaaaaf7irdvozuzmwyvbfacdivomj52x65vr6tlg62i6er323sevazdqq",
         "shape": "VM.Standard1.8"
        },
        {
         "imageId": "ocid1.image.oc1.eu-paris-1.aaaaaaaaf7irdvozuzmwyvbfacdivomj52x65vr6tlg62i6er323sevazdqq",
         "shape": "VM.Standard2.1"
        },
        {
         "imageId": "ocid1.image.oc1.eu-paris-1.aaaaaaaaf7irdvozuzmwyvbfacdivomj52x65vr6tlg62i6er323sevazdqq",
         "shape": "VM.Standard2.16"
        },
        {
         "imageId": "ocid1.image.oc1.eu-paris-1.aaaaaaaaf7irdvozuzmwyvbfacdivomj52x65vr6tlg62i6er323sevazdqq",
         "shape": "VM.Standard2.2"
        },
        {
         "imageId": "ocid1.image.oc1.eu-paris-1.aaaaaaaaf7irdvozuzmwyvbfacdivomj52x65vr6tlg62i6er323sevazdqq",
         "shape": "VM.Standard2.24"
        },
        {
         "imageId": "ocid1.image.oc1.eu-paris-1.aaaaaaaaf7irdvozuzmwyvbfacdivomj52x65vr6tlg62i6er323sevazdqq",
         "shape": "VM.Standard2.4"
        },
        {
         "imageId": "ocid1.image.oc1.eu-paris-1.aaaaaaaaf7irdvozuzmwyvbfacdivomj52x65vr6tlg62i6er323sevazdqq",
         "shape": "VM.Standard2.8"
        },
        {
         "imageId": "ocid1.image.oc1.eu-paris-1.aaaaaaaaf7irdvozuzmwyvbfacdivomj52x65vr6tlg62i6er323sevazdqq",
         "shape": "VM.Standard2.Flex"
        },
        {
         "imageId": "ocid1.image.oc1.eu-paris-1.aaaaaaaaf7irdvozuzmwyvbfacdivomj52x65vr6tlg62i6er323sevazdqq",
         "shape": "VM.Standard3.Flex"
        },
        {
         "imageId": "ocid1.image.oc1.eu-paris-1.aaaaaaaaf7irdvozuzmwyvbfacdivomj52x65vr6tlg62i6er323sevazdqq",
         "shape": "BM.Standard.E2.64"
        },
        {
         "imageId": "ocid1.image.oc1.eu-paris-1.aaaaaaaaf7irdvozuzmwyvbfacdivomj52x65vr6tlg62i6er323sevazdqq",
         "shape": "BM.Standard.E3.128"
        },
        {
         "imageId": "ocid1.image.oc1.eu-paris-1.aaaaaaaaf7irdvozuzmwyvbfacdivomj52x65vr6tlg62i6er323sevazdqq",
         "shape": "BM.GPU4.8"
        },
        {
         "imageId": "ocid1.image.oc1.eu-paris-1.aaaaaaaaf7irdvozuzmwyvbfacdivomj52x65vr6tlg62i6er323sevazdqq",
         "shape": "BM.Standard.E4.128"
        }
       ],
       "schema": {
        "fields": [
         {
          "name": "imageId",
          "type": "string"
         },
         {
          "name": "shape",
          "type": "string"
         }
        ]
       }
      },
      "text/html": [
       "<table><thead><tr><th>imageId</th><th>shape</th></tr></thead><tbody><tr><td>ocid1.image.oc1.eu-paris-1.aaaaaaaaf7irdvozuzmwyvbfacdivomj52x65vr6tlg62i6er323sevazdqq</td><td>VM.DenseIO.E4.Flex</td></tr><tr><td>ocid1.image.oc1.eu-paris-1.aaaaaaaaf7irdvozuzmwyvbfacdivomj52x65vr6tlg62i6er323sevazdqq</td><td>VM.DenseIO.E5.Flex</td></tr><tr><td>ocid1.image.oc1.eu-paris-1.aaaaaaaaf7irdvozuzmwyvbfacdivomj52x65vr6tlg62i6er323sevazdqq</td><td>VM.DenseIO1.16</td></tr><tr><td>ocid1.image.oc1.eu-paris-1.aaaaaaaaf7irdvozuzmwyvbfacdivomj52x65vr6tlg62i6er323sevazdqq</td><td>VM.DenseIO1.4</td></tr><tr><td>ocid1.image.oc1.eu-paris-1.aaaaaaaaf7irdvozuzmwyvbfacdivomj52x65vr6tlg62i6er323sevazdqq</td><td>VM.DenseIO1.8</td></tr><tr><td>ocid1.image.oc1.eu-paris-1.aaaaaaaaf7irdvozuzmwyvbfacdivomj52x65vr6tlg62i6er323sevazdqq</td><td>VM.DenseIO2.16</td></tr><tr><td>ocid1.image.oc1.eu-paris-1.aaaaaaaaf7irdvozuzmwyvbfacdivomj52x65vr6tlg62i6er323sevazdqq</td><td>VM.DenseIO2.24</td></tr><tr><td>ocid1.image.oc1.eu-paris-1.aaaaaaaaf7irdvozuzmwyvbfacdivomj52x65vr6tlg62i6er323sevazdqq</td><td>VM.DenseIO2.8</td></tr><tr><td>ocid1.image.oc1.eu-paris-1.aaaaaaaaf7irdvozuzmwyvbfacdivomj52x65vr6tlg62i6er323sevazdqq</td><td>VM.GPU.A10.1</td></tr><tr><td>ocid1.image.oc1.eu-paris-1.aaaaaaaaf7irdvozuzmwyvbfacdivomj52x65vr6tlg62i6er323sevazdqq</td><td>VM.GPU.A10.2</td></tr><tr><td>ocid1.image.oc1.eu-paris-1.aaaaaaaaf7irdvozuzmwyvbfacdivomj52x65vr6tlg62i6er323sevazdqq</td><td>VM.GPU.GU1.1</td></tr><tr><td>ocid1.image.oc1.eu-paris-1.aaaaaaaaf7irdvozuzmwyvbfacdivomj52x65vr6tlg62i6er323sevazdqq</td><td>VM.GPU.GU1.2</td></tr><tr><td>ocid1.image.oc1.eu-paris-1.aaaaaaaaf7irdvozuzmwyvbfacdivomj52x65vr6tlg62i6er323sevazdqq</td><td>VM.GPU2.1</td></tr><tr><td>ocid1.image.oc1.eu-paris-1.aaaaaaaaf7irdvozuzmwyvbfacdivomj52x65vr6tlg62i6er323sevazdqq</td><td>VM.GPU3.1</td></tr><tr><td>ocid1.image.oc1.eu-paris-1.aaaaaaaaf7irdvozuzmwyvbfacdivomj52x65vr6tlg62i6er323sevazdqq</td><td>VM.GPU3.2</td></tr><tr><td>ocid1.image.oc1.eu-paris-1.aaaaaaaaf7irdvozuzmwyvbfacdivomj52x65vr6tlg62i6er323sevazdqq</td><td>VM.GPU3.4</td></tr><tr><td>ocid1.image.oc1.eu-paris-1.aaaaaaaaf7irdvozuzmwyvbfacdivomj52x65vr6tlg62i6er323sevazdqq</td><td>VM.Optimized3.Flex</td></tr><tr><td>ocid1.image.oc1.eu-paris-1.aaaaaaaaf7irdvozuzmwyvbfacdivomj52x65vr6tlg62i6er323sevazdqq</td><td>VM.Standard.AMD.Generic</td></tr><tr><td>ocid1.image.oc1.eu-paris-1.aaaaaaaaf7irdvozuzmwyvbfacdivomj52x65vr6tlg62i6er323sevazdqq</td><td>VM.Standard.B1.1</td></tr><tr><td>ocid1.image.oc1.eu-paris-1.aaaaaaaaf7irdvozuzmwyvbfacdivomj52x65vr6tlg62i6er323sevazdqq</td><td>VM.Standard.B1.16</td></tr><tr><td>ocid1.image.oc1.eu-paris-1.aaaaaaaaf7irdvozuzmwyvbfacdivomj52x65vr6tlg62i6er323sevazdqq</td><td>VM.Standard.B1.2</td></tr><tr><td>ocid1.image.oc1.eu-paris-1.aaaaaaaaf7irdvozuzmwyvbfacdivomj52x65vr6tlg62i6er323sevazdqq</td><td>VM.Standard.B1.4</td></tr><tr><td>ocid1.image.oc1.eu-paris-1.aaaaaaaaf7irdvozuzmwyvbfacdivomj52x65vr6tlg62i6er323sevazdqq</td><td>VM.Standard.B1.8</td></tr><tr><td>ocid1.image.oc1.eu-paris-1.aaaaaaaaf7irdvozuzmwyvbfacdivomj52x65vr6tlg62i6er323sevazdqq</td><td>VM.Standard.E2.1</td></tr><tr><td>ocid1.image.oc1.eu-paris-1.aaaaaaaaf7irdvozuzmwyvbfacdivomj52x65vr6tlg62i6er323sevazdqq</td><td>VM.Standard.E2.1.Micro</td></tr><tr><td>ocid1.image.oc1.eu-paris-1.aaaaaaaaf7irdvozuzmwyvbfacdivomj52x65vr6tlg62i6er323sevazdqq</td><td>VM.Standard.E2.2</td></tr><tr><td>ocid1.image.oc1.eu-paris-1.aaaaaaaaf7irdvozuzmwyvbfacdivomj52x65vr6tlg62i6er323sevazdqq</td><td>VM.Standard.E2.4</td></tr><tr><td>ocid1.image.oc1.eu-paris-1.aaaaaaaaf7irdvozuzmwyvbfacdivomj52x65vr6tlg62i6er323sevazdqq</td><td>VM.Standard.E2.8</td></tr><tr><td>ocid1.image.oc1.eu-paris-1.aaaaaaaaf7irdvozuzmwyvbfacdivomj52x65vr6tlg62i6er323sevazdqq</td><td>VM.Standard.E3.Flex</td></tr><tr><td>ocid1.image.oc1.eu-paris-1.aaaaaaaaf7irdvozuzmwyvbfacdivomj52x65vr6tlg62i6er323sevazdqq</td><td>VM.Standard.E4.Flex</td></tr><tr><td>ocid1.image.oc1.eu-paris-1.aaaaaaaaf7irdvozuzmwyvbfacdivomj52x65vr6tlg62i6er323sevazdqq</td><td>VM.Standard.E5.Flex</td></tr><tr><td>ocid1.image.oc1.eu-paris-1.aaaaaaaaf7irdvozuzmwyvbfacdivomj52x65vr6tlg62i6er323sevazdqq</td><td>VM.Standard.Intel.Generic</td></tr><tr><td>ocid1.image.oc1.eu-paris-1.aaaaaaaaf7irdvozuzmwyvbfacdivomj52x65vr6tlg62i6er323sevazdqq</td><td>VM.Standard.x86.Generic</td></tr><tr><td>ocid1.image.oc1.eu-paris-1.aaaaaaaaf7irdvozuzmwyvbfacdivomj52x65vr6tlg62i6er323sevazdqq</td><td>VM.Standard1.1</td></tr><tr><td>ocid1.image.oc1.eu-paris-1.aaaaaaaaf7irdvozuzmwyvbfacdivomj52x65vr6tlg62i6er323sevazdqq</td><td>VM.Standard1.16</td></tr><tr><td>ocid1.image.oc1.eu-paris-1.aaaaaaaaf7irdvozuzmwyvbfacdivomj52x65vr6tlg62i6er323sevazdqq</td><td>VM.Standard1.2</td></tr><tr><td>ocid1.image.oc1.eu-paris-1.aaaaaaaaf7irdvozuzmwyvbfacdivomj52x65vr6tlg62i6er323sevazdqq</td><td>VM.Standard1.4</td></tr><tr><td>ocid1.image.oc1.eu-paris-1.aaaaaaaaf7irdvozuzmwyvbfacdivomj52x65vr6tlg62i6er323sevazdqq</td><td>VM.Standard1.8</td></tr><tr><td>ocid1.image.oc1.eu-paris-1.aaaaaaaaf7irdvozuzmwyvbfacdivomj52x65vr6tlg62i6er323sevazdqq</td><td>VM.Standard2.1</td></tr><tr><td>ocid1.image.oc1.eu-paris-1.aaaaaaaaf7irdvozuzmwyvbfacdivomj52x65vr6tlg62i6er323sevazdqq</td><td>VM.Standard2.16</td></tr><tr><td>ocid1.image.oc1.eu-paris-1.aaaaaaaaf7irdvozuzmwyvbfacdivomj52x65vr6tlg62i6er323sevazdqq</td><td>VM.Standard2.2</td></tr><tr><td>ocid1.image.oc1.eu-paris-1.aaaaaaaaf7irdvozuzmwyvbfacdivomj52x65vr6tlg62i6er323sevazdqq</td><td>VM.Standard2.24</td></tr><tr><td>ocid1.image.oc1.eu-paris-1.aaaaaaaaf7irdvozuzmwyvbfacdivomj52x65vr6tlg62i6er323sevazdqq</td><td>VM.Standard2.4</td></tr><tr><td>ocid1.image.oc1.eu-paris-1.aaaaaaaaf7irdvozuzmwyvbfacdivomj52x65vr6tlg62i6er323sevazdqq</td><td>VM.Standard2.8</td></tr><tr><td>ocid1.image.oc1.eu-paris-1.aaaaaaaaf7irdvozuzmwyvbfacdivomj52x65vr6tlg62i6er323sevazdqq</td><td>VM.Standard2.Flex</td></tr><tr><td>ocid1.image.oc1.eu-paris-1.aaaaaaaaf7irdvozuzmwyvbfacdivomj52x65vr6tlg62i6er323sevazdqq</td><td>VM.Standard3.Flex</td></tr><tr><td>ocid1.image.oc1.eu-paris-1.aaaaaaaaf7irdvozuzmwyvbfacdivomj52x65vr6tlg62i6er323sevazdqq</td><td>BM.Standard.E2.64</td></tr><tr><td>ocid1.image.oc1.eu-paris-1.aaaaaaaaf7irdvozuzmwyvbfacdivomj52x65vr6tlg62i6er323sevazdqq</td><td>BM.Standard.E3.128</td></tr><tr><td>ocid1.image.oc1.eu-paris-1.aaaaaaaaf7irdvozuzmwyvbfacdivomj52x65vr6tlg62i6er323sevazdqq</td><td>BM.GPU4.8</td></tr><tr><td>ocid1.image.oc1.eu-paris-1.aaaaaaaaf7irdvozuzmwyvbfacdivomj52x65vr6tlg62i6er323sevazdqq</td><td>BM.Standard.E4.128</td></tr></tbody></table>"
      ]
     },
     "execution_count": 5,
     "metadata": {},
     "output_type": "execute_result"
    }
   ],
   "source": [
    "const compatibilityListExample2 = await getCompatibilityList(\"ocid1.image.oc1.eu-paris-1.aaaaaaaaf7irdvozuzmwyvbfacdivomj52x65vr6tlg62i6er323sevazdqq\")\n",
    "//console.log(example1)\n",
    "// https://pola-rs.github.io/nodejs-polars/functions/pl.readJSON.html\n",
    "const df_compatibilityListExample2 = pl.readJSON(JSON.stringify(compatibilityListExample2.items), {format: \"json\"})\n",
    "df_compatibilityListExample2\n"
   ]
  },
  {
   "cell_type": "code",
   "execution_count": 6,
   "id": "eeefbaa9-bf1e-4185-8289-573ac2e9d2fb",
   "metadata": {},
   "outputs": [
    {
     "data": {
      "application/vnd.dataresource+json": {
       "data": [
        {
         "imageId": "ocid1.image.oc1.eu-paris-1.aaaaaaaaf7irdvozuzmwyvbfacdivomj52x65vr6tlg62i6er323sevazdqq",
         "shape": "VM.DenseIO.E4.Flex"
        },
        {
         "imageId": "ocid1.image.oc1.eu-paris-1.aaaaaaaaf7irdvozuzmwyvbfacdivomj52x65vr6tlg62i6er323sevazdqq",
         "shape": "VM.DenseIO.E5.Flex"
        },
        {
         "imageId": "ocid1.image.oc1.eu-paris-1.aaaaaaaaf7irdvozuzmwyvbfacdivomj52x65vr6tlg62i6er323sevazdqq",
         "shape": "VM.DenseIO1.16"
        },
        {
         "imageId": "ocid1.image.oc1.eu-paris-1.aaaaaaaaf7irdvozuzmwyvbfacdivomj52x65vr6tlg62i6er323sevazdqq",
         "shape": "VM.DenseIO1.4"
        },
        {
         "imageId": "ocid1.image.oc1.eu-paris-1.aaaaaaaaf7irdvozuzmwyvbfacdivomj52x65vr6tlg62i6er323sevazdqq",
         "shape": "VM.DenseIO1.8"
        },
        {
         "imageId": "ocid1.image.oc1.eu-paris-1.aaaaaaaaf7irdvozuzmwyvbfacdivomj52x65vr6tlg62i6er323sevazdqq",
         "shape": "VM.DenseIO2.16"
        },
        {
         "imageId": "ocid1.image.oc1.eu-paris-1.aaaaaaaaf7irdvozuzmwyvbfacdivomj52x65vr6tlg62i6er323sevazdqq",
         "shape": "VM.DenseIO2.24"
        },
        {
         "imageId": "ocid1.image.oc1.eu-paris-1.aaaaaaaaf7irdvozuzmwyvbfacdivomj52x65vr6tlg62i6er323sevazdqq",
         "shape": "VM.DenseIO2.8"
        },
        {
         "imageId": "ocid1.image.oc1.eu-paris-1.aaaaaaaaf7irdvozuzmwyvbfacdivomj52x65vr6tlg62i6er323sevazdqq",
         "shape": "VM.GPU.A10.1"
        },
        {
         "imageId": "ocid1.image.oc1.eu-paris-1.aaaaaaaaf7irdvozuzmwyvbfacdivomj52x65vr6tlg62i6er323sevazdqq",
         "shape": "VM.GPU.A10.2"
        },
        {
         "imageId": "ocid1.image.oc1.eu-paris-1.aaaaaaaaf7irdvozuzmwyvbfacdivomj52x65vr6tlg62i6er323sevazdqq",
         "shape": "VM.GPU.GU1.1"
        },
        {
         "imageId": "ocid1.image.oc1.eu-paris-1.aaaaaaaaf7irdvozuzmwyvbfacdivomj52x65vr6tlg62i6er323sevazdqq",
         "shape": "VM.GPU.GU1.2"
        },
        {
         "imageId": "ocid1.image.oc1.eu-paris-1.aaaaaaaaf7irdvozuzmwyvbfacdivomj52x65vr6tlg62i6er323sevazdqq",
         "shape": "VM.GPU2.1"
        },
        {
         "imageId": "ocid1.image.oc1.eu-paris-1.aaaaaaaaf7irdvozuzmwyvbfacdivomj52x65vr6tlg62i6er323sevazdqq",
         "shape": "VM.GPU3.1"
        },
        {
         "imageId": "ocid1.image.oc1.eu-paris-1.aaaaaaaaf7irdvozuzmwyvbfacdivomj52x65vr6tlg62i6er323sevazdqq",
         "shape": "VM.GPU3.2"
        },
        {
         "imageId": "ocid1.image.oc1.eu-paris-1.aaaaaaaaf7irdvozuzmwyvbfacdivomj52x65vr6tlg62i6er323sevazdqq",
         "shape": "VM.GPU3.4"
        },
        {
         "imageId": "ocid1.image.oc1.eu-paris-1.aaaaaaaaf7irdvozuzmwyvbfacdivomj52x65vr6tlg62i6er323sevazdqq",
         "shape": "VM.Optimized3.Flex"
        },
        {
         "imageId": "ocid1.image.oc1.eu-paris-1.aaaaaaaaf7irdvozuzmwyvbfacdivomj52x65vr6tlg62i6er323sevazdqq",
         "shape": "VM.Standard.AMD.Generic"
        },
        {
         "imageId": "ocid1.image.oc1.eu-paris-1.aaaaaaaaf7irdvozuzmwyvbfacdivomj52x65vr6tlg62i6er323sevazdqq",
         "shape": "VM.Standard.B1.1"
        },
        {
         "imageId": "ocid1.image.oc1.eu-paris-1.aaaaaaaaf7irdvozuzmwyvbfacdivomj52x65vr6tlg62i6er323sevazdqq",
         "shape": "VM.Standard.B1.16"
        },
        {
         "imageId": "ocid1.image.oc1.eu-paris-1.aaaaaaaaf7irdvozuzmwyvbfacdivomj52x65vr6tlg62i6er323sevazdqq",
         "shape": "VM.Standard.B1.2"
        },
        {
         "imageId": "ocid1.image.oc1.eu-paris-1.aaaaaaaaf7irdvozuzmwyvbfacdivomj52x65vr6tlg62i6er323sevazdqq",
         "shape": "VM.Standard.B1.4"
        },
        {
         "imageId": "ocid1.image.oc1.eu-paris-1.aaaaaaaaf7irdvozuzmwyvbfacdivomj52x65vr6tlg62i6er323sevazdqq",
         "shape": "VM.Standard.B1.8"
        },
        {
         "imageId": "ocid1.image.oc1.eu-paris-1.aaaaaaaaf7irdvozuzmwyvbfacdivomj52x65vr6tlg62i6er323sevazdqq",
         "shape": "VM.Standard.E2.1"
        },
        {
         "imageId": "ocid1.image.oc1.eu-paris-1.aaaaaaaaf7irdvozuzmwyvbfacdivomj52x65vr6tlg62i6er323sevazdqq",
         "shape": "VM.Standard.E2.1.Micro"
        },
        {
         "imageId": "ocid1.image.oc1.eu-paris-1.aaaaaaaaf7irdvozuzmwyvbfacdivomj52x65vr6tlg62i6er323sevazdqq",
         "shape": "VM.Standard.E2.2"
        },
        {
         "imageId": "ocid1.image.oc1.eu-paris-1.aaaaaaaaf7irdvozuzmwyvbfacdivomj52x65vr6tlg62i6er323sevazdqq",
         "shape": "VM.Standard.E2.4"
        },
        {
         "imageId": "ocid1.image.oc1.eu-paris-1.aaaaaaaaf7irdvozuzmwyvbfacdivomj52x65vr6tlg62i6er323sevazdqq",
         "shape": "VM.Standard.E2.8"
        },
        {
         "imageId": "ocid1.image.oc1.eu-paris-1.aaaaaaaaf7irdvozuzmwyvbfacdivomj52x65vr6tlg62i6er323sevazdqq",
         "shape": "VM.Standard.E3.Flex"
        },
        {
         "imageId": "ocid1.image.oc1.eu-paris-1.aaaaaaaaf7irdvozuzmwyvbfacdivomj52x65vr6tlg62i6er323sevazdqq",
         "shape": "VM.Standard.E4.Flex"
        },
        {
         "imageId": "ocid1.image.oc1.eu-paris-1.aaaaaaaaf7irdvozuzmwyvbfacdivomj52x65vr6tlg62i6er323sevazdqq",
         "shape": "VM.Standard.E5.Flex"
        },
        {
         "imageId": "ocid1.image.oc1.eu-paris-1.aaaaaaaaf7irdvozuzmwyvbfacdivomj52x65vr6tlg62i6er323sevazdqq",
         "shape": "VM.Standard.Intel.Generic"
        },
        {
         "imageId": "ocid1.image.oc1.eu-paris-1.aaaaaaaaf7irdvozuzmwyvbfacdivomj52x65vr6tlg62i6er323sevazdqq",
         "shape": "VM.Standard.x86.Generic"
        },
        {
         "imageId": "ocid1.image.oc1.eu-paris-1.aaaaaaaaf7irdvozuzmwyvbfacdivomj52x65vr6tlg62i6er323sevazdqq",
         "shape": "VM.Standard1.1"
        },
        {
         "imageId": "ocid1.image.oc1.eu-paris-1.aaaaaaaaf7irdvozuzmwyvbfacdivomj52x65vr6tlg62i6er323sevazdqq",
         "shape": "VM.Standard1.16"
        },
        {
         "imageId": "ocid1.image.oc1.eu-paris-1.aaaaaaaaf7irdvozuzmwyvbfacdivomj52x65vr6tlg62i6er323sevazdqq",
         "shape": "VM.Standard1.2"
        },
        {
         "imageId": "ocid1.image.oc1.eu-paris-1.aaaaaaaaf7irdvozuzmwyvbfacdivomj52x65vr6tlg62i6er323sevazdqq",
         "shape": "VM.Standard1.4"
        },
        {
         "imageId": "ocid1.image.oc1.eu-paris-1.aaaaaaaaf7irdvozuzmwyvbfacdivomj52x65vr6tlg62i6er323sevazdqq",
         "shape": "VM.Standard1.8"
        },
        {
         "imageId": "ocid1.image.oc1.eu-paris-1.aaaaaaaaf7irdvozuzmwyvbfacdivomj52x65vr6tlg62i6er323sevazdqq",
         "shape": "VM.Standard2.1"
        },
        {
         "imageId": "ocid1.image.oc1.eu-paris-1.aaaaaaaaf7irdvozuzmwyvbfacdivomj52x65vr6tlg62i6er323sevazdqq",
         "shape": "VM.Standard2.16"
        },
        {
         "imageId": "ocid1.image.oc1.eu-paris-1.aaaaaaaaf7irdvozuzmwyvbfacdivomj52x65vr6tlg62i6er323sevazdqq",
         "shape": "VM.Standard2.2"
        },
        {
         "imageId": "ocid1.image.oc1.eu-paris-1.aaaaaaaaf7irdvozuzmwyvbfacdivomj52x65vr6tlg62i6er323sevazdqq",
         "shape": "VM.Standard2.24"
        },
        {
         "imageId": "ocid1.image.oc1.eu-paris-1.aaaaaaaaf7irdvozuzmwyvbfacdivomj52x65vr6tlg62i6er323sevazdqq",
         "shape": "VM.Standard2.4"
        },
        {
         "imageId": "ocid1.image.oc1.eu-paris-1.aaaaaaaaf7irdvozuzmwyvbfacdivomj52x65vr6tlg62i6er323sevazdqq",
         "shape": "VM.Standard2.8"
        },
        {
         "imageId": "ocid1.image.oc1.eu-paris-1.aaaaaaaaf7irdvozuzmwyvbfacdivomj52x65vr6tlg62i6er323sevazdqq",
         "shape": "VM.Standard2.Flex"
        },
        {
         "imageId": "ocid1.image.oc1.eu-paris-1.aaaaaaaaf7irdvozuzmwyvbfacdivomj52x65vr6tlg62i6er323sevazdqq",
         "shape": "VM.Standard3.Flex"
        },
        {
         "imageId": "ocid1.image.oc1.eu-paris-1.aaaaaaaaf7irdvozuzmwyvbfacdivomj52x65vr6tlg62i6er323sevazdqq",
         "shape": "BM.Standard.E2.64"
        },
        {
         "imageId": "ocid1.image.oc1.eu-paris-1.aaaaaaaaf7irdvozuzmwyvbfacdivomj52x65vr6tlg62i6er323sevazdqq",
         "shape": "BM.Standard.E3.128"
        },
        {
         "imageId": "ocid1.image.oc1.eu-paris-1.aaaaaaaaf7irdvozuzmwyvbfacdivomj52x65vr6tlg62i6er323sevazdqq",
         "shape": "BM.GPU4.8"
        },
        {
         "imageId": "ocid1.image.oc1.eu-paris-1.aaaaaaaaf7irdvozuzmwyvbfacdivomj52x65vr6tlg62i6er323sevazdqq",
         "shape": "BM.Standard.E4.128"
        }
       ],
       "schema": {
        "fields": [
         {
          "name": "imageId",
          "type": "string"
         },
         {
          "name": "shape",
          "type": "string"
         }
        ]
       }
      },
      "text/html": [
       "<table><thead><tr><th>imageId</th><th>shape</th></tr></thead><tbody><tr><td>ocid1.image.oc1.eu-paris-1.aaaaaaaaf7irdvozuzmwyvbfacdivomj52x65vr6tlg62i6er323sevazdqq</td><td>VM.DenseIO.E4.Flex</td></tr><tr><td>ocid1.image.oc1.eu-paris-1.aaaaaaaaf7irdvozuzmwyvbfacdivomj52x65vr6tlg62i6er323sevazdqq</td><td>VM.DenseIO.E5.Flex</td></tr><tr><td>ocid1.image.oc1.eu-paris-1.aaaaaaaaf7irdvozuzmwyvbfacdivomj52x65vr6tlg62i6er323sevazdqq</td><td>VM.DenseIO1.16</td></tr><tr><td>ocid1.image.oc1.eu-paris-1.aaaaaaaaf7irdvozuzmwyvbfacdivomj52x65vr6tlg62i6er323sevazdqq</td><td>VM.DenseIO1.4</td></tr><tr><td>ocid1.image.oc1.eu-paris-1.aaaaaaaaf7irdvozuzmwyvbfacdivomj52x65vr6tlg62i6er323sevazdqq</td><td>VM.DenseIO1.8</td></tr><tr><td>ocid1.image.oc1.eu-paris-1.aaaaaaaaf7irdvozuzmwyvbfacdivomj52x65vr6tlg62i6er323sevazdqq</td><td>VM.DenseIO2.16</td></tr><tr><td>ocid1.image.oc1.eu-paris-1.aaaaaaaaf7irdvozuzmwyvbfacdivomj52x65vr6tlg62i6er323sevazdqq</td><td>VM.DenseIO2.24</td></tr><tr><td>ocid1.image.oc1.eu-paris-1.aaaaaaaaf7irdvozuzmwyvbfacdivomj52x65vr6tlg62i6er323sevazdqq</td><td>VM.DenseIO2.8</td></tr><tr><td>ocid1.image.oc1.eu-paris-1.aaaaaaaaf7irdvozuzmwyvbfacdivomj52x65vr6tlg62i6er323sevazdqq</td><td>VM.GPU.A10.1</td></tr><tr><td>ocid1.image.oc1.eu-paris-1.aaaaaaaaf7irdvozuzmwyvbfacdivomj52x65vr6tlg62i6er323sevazdqq</td><td>VM.GPU.A10.2</td></tr><tr><td>ocid1.image.oc1.eu-paris-1.aaaaaaaaf7irdvozuzmwyvbfacdivomj52x65vr6tlg62i6er323sevazdqq</td><td>VM.GPU.GU1.1</td></tr><tr><td>ocid1.image.oc1.eu-paris-1.aaaaaaaaf7irdvozuzmwyvbfacdivomj52x65vr6tlg62i6er323sevazdqq</td><td>VM.GPU.GU1.2</td></tr><tr><td>ocid1.image.oc1.eu-paris-1.aaaaaaaaf7irdvozuzmwyvbfacdivomj52x65vr6tlg62i6er323sevazdqq</td><td>VM.GPU2.1</td></tr><tr><td>ocid1.image.oc1.eu-paris-1.aaaaaaaaf7irdvozuzmwyvbfacdivomj52x65vr6tlg62i6er323sevazdqq</td><td>VM.GPU3.1</td></tr><tr><td>ocid1.image.oc1.eu-paris-1.aaaaaaaaf7irdvozuzmwyvbfacdivomj52x65vr6tlg62i6er323sevazdqq</td><td>VM.GPU3.2</td></tr><tr><td>ocid1.image.oc1.eu-paris-1.aaaaaaaaf7irdvozuzmwyvbfacdivomj52x65vr6tlg62i6er323sevazdqq</td><td>VM.GPU3.4</td></tr><tr><td>ocid1.image.oc1.eu-paris-1.aaaaaaaaf7irdvozuzmwyvbfacdivomj52x65vr6tlg62i6er323sevazdqq</td><td>VM.Optimized3.Flex</td></tr><tr><td>ocid1.image.oc1.eu-paris-1.aaaaaaaaf7irdvozuzmwyvbfacdivomj52x65vr6tlg62i6er323sevazdqq</td><td>VM.Standard.AMD.Generic</td></tr><tr><td>ocid1.image.oc1.eu-paris-1.aaaaaaaaf7irdvozuzmwyvbfacdivomj52x65vr6tlg62i6er323sevazdqq</td><td>VM.Standard.B1.1</td></tr><tr><td>ocid1.image.oc1.eu-paris-1.aaaaaaaaf7irdvozuzmwyvbfacdivomj52x65vr6tlg62i6er323sevazdqq</td><td>VM.Standard.B1.16</td></tr><tr><td>ocid1.image.oc1.eu-paris-1.aaaaaaaaf7irdvozuzmwyvbfacdivomj52x65vr6tlg62i6er323sevazdqq</td><td>VM.Standard.B1.2</td></tr><tr><td>ocid1.image.oc1.eu-paris-1.aaaaaaaaf7irdvozuzmwyvbfacdivomj52x65vr6tlg62i6er323sevazdqq</td><td>VM.Standard.B1.4</td></tr><tr><td>ocid1.image.oc1.eu-paris-1.aaaaaaaaf7irdvozuzmwyvbfacdivomj52x65vr6tlg62i6er323sevazdqq</td><td>VM.Standard.B1.8</td></tr><tr><td>ocid1.image.oc1.eu-paris-1.aaaaaaaaf7irdvozuzmwyvbfacdivomj52x65vr6tlg62i6er323sevazdqq</td><td>VM.Standard.E2.1</td></tr><tr><td>ocid1.image.oc1.eu-paris-1.aaaaaaaaf7irdvozuzmwyvbfacdivomj52x65vr6tlg62i6er323sevazdqq</td><td>VM.Standard.E2.1.Micro</td></tr><tr><td>ocid1.image.oc1.eu-paris-1.aaaaaaaaf7irdvozuzmwyvbfacdivomj52x65vr6tlg62i6er323sevazdqq</td><td>VM.Standard.E2.2</td></tr><tr><td>ocid1.image.oc1.eu-paris-1.aaaaaaaaf7irdvozuzmwyvbfacdivomj52x65vr6tlg62i6er323sevazdqq</td><td>VM.Standard.E2.4</td></tr><tr><td>ocid1.image.oc1.eu-paris-1.aaaaaaaaf7irdvozuzmwyvbfacdivomj52x65vr6tlg62i6er323sevazdqq</td><td>VM.Standard.E2.8</td></tr><tr><td>ocid1.image.oc1.eu-paris-1.aaaaaaaaf7irdvozuzmwyvbfacdivomj52x65vr6tlg62i6er323sevazdqq</td><td>VM.Standard.E3.Flex</td></tr><tr><td>ocid1.image.oc1.eu-paris-1.aaaaaaaaf7irdvozuzmwyvbfacdivomj52x65vr6tlg62i6er323sevazdqq</td><td>VM.Standard.E4.Flex</td></tr><tr><td>ocid1.image.oc1.eu-paris-1.aaaaaaaaf7irdvozuzmwyvbfacdivomj52x65vr6tlg62i6er323sevazdqq</td><td>VM.Standard.E5.Flex</td></tr><tr><td>ocid1.image.oc1.eu-paris-1.aaaaaaaaf7irdvozuzmwyvbfacdivomj52x65vr6tlg62i6er323sevazdqq</td><td>VM.Standard.Intel.Generic</td></tr><tr><td>ocid1.image.oc1.eu-paris-1.aaaaaaaaf7irdvozuzmwyvbfacdivomj52x65vr6tlg62i6er323sevazdqq</td><td>VM.Standard.x86.Generic</td></tr><tr><td>ocid1.image.oc1.eu-paris-1.aaaaaaaaf7irdvozuzmwyvbfacdivomj52x65vr6tlg62i6er323sevazdqq</td><td>VM.Standard1.1</td></tr><tr><td>ocid1.image.oc1.eu-paris-1.aaaaaaaaf7irdvozuzmwyvbfacdivomj52x65vr6tlg62i6er323sevazdqq</td><td>VM.Standard1.16</td></tr><tr><td>ocid1.image.oc1.eu-paris-1.aaaaaaaaf7irdvozuzmwyvbfacdivomj52x65vr6tlg62i6er323sevazdqq</td><td>VM.Standard1.2</td></tr><tr><td>ocid1.image.oc1.eu-paris-1.aaaaaaaaf7irdvozuzmwyvbfacdivomj52x65vr6tlg62i6er323sevazdqq</td><td>VM.Standard1.4</td></tr><tr><td>ocid1.image.oc1.eu-paris-1.aaaaaaaaf7irdvozuzmwyvbfacdivomj52x65vr6tlg62i6er323sevazdqq</td><td>VM.Standard1.8</td></tr><tr><td>ocid1.image.oc1.eu-paris-1.aaaaaaaaf7irdvozuzmwyvbfacdivomj52x65vr6tlg62i6er323sevazdqq</td><td>VM.Standard2.1</td></tr><tr><td>ocid1.image.oc1.eu-paris-1.aaaaaaaaf7irdvozuzmwyvbfacdivomj52x65vr6tlg62i6er323sevazdqq</td><td>VM.Standard2.16</td></tr><tr><td>ocid1.image.oc1.eu-paris-1.aaaaaaaaf7irdvozuzmwyvbfacdivomj52x65vr6tlg62i6er323sevazdqq</td><td>VM.Standard2.2</td></tr><tr><td>ocid1.image.oc1.eu-paris-1.aaaaaaaaf7irdvozuzmwyvbfacdivomj52x65vr6tlg62i6er323sevazdqq</td><td>VM.Standard2.24</td></tr><tr><td>ocid1.image.oc1.eu-paris-1.aaaaaaaaf7irdvozuzmwyvbfacdivomj52x65vr6tlg62i6er323sevazdqq</td><td>VM.Standard2.4</td></tr><tr><td>ocid1.image.oc1.eu-paris-1.aaaaaaaaf7irdvozuzmwyvbfacdivomj52x65vr6tlg62i6er323sevazdqq</td><td>VM.Standard2.8</td></tr><tr><td>ocid1.image.oc1.eu-paris-1.aaaaaaaaf7irdvozuzmwyvbfacdivomj52x65vr6tlg62i6er323sevazdqq</td><td>VM.Standard2.Flex</td></tr><tr><td>ocid1.image.oc1.eu-paris-1.aaaaaaaaf7irdvozuzmwyvbfacdivomj52x65vr6tlg62i6er323sevazdqq</td><td>VM.Standard3.Flex</td></tr><tr><td>ocid1.image.oc1.eu-paris-1.aaaaaaaaf7irdvozuzmwyvbfacdivomj52x65vr6tlg62i6er323sevazdqq</td><td>BM.Standard.E2.64</td></tr><tr><td>ocid1.image.oc1.eu-paris-1.aaaaaaaaf7irdvozuzmwyvbfacdivomj52x65vr6tlg62i6er323sevazdqq</td><td>BM.Standard.E3.128</td></tr><tr><td>ocid1.image.oc1.eu-paris-1.aaaaaaaaf7irdvozuzmwyvbfacdivomj52x65vr6tlg62i6er323sevazdqq</td><td>BM.GPU4.8</td></tr><tr><td>ocid1.image.oc1.eu-paris-1.aaaaaaaaf7irdvozuzmwyvbfacdivomj52x65vr6tlg62i6er323sevazdqq</td><td>BM.Standard.E4.128</td></tr></tbody></table>"
      ]
     },
     "execution_count": 6,
     "metadata": {},
     "output_type": "execute_result"
    }
   ],
   "source": [
    "//pl.Series('imageShapes', df_compatibilityListExample1)\n",
    "// pl.concat([df_compatibilityListExample2, df_compatibilityListExample1], { how: \"vertical\", rechunk: false })\n",
    "const resultat= pl.concat([df_compatibilityListExample2, df_compatibilityListExample1])\n",
    "\n",
    "// df_compatibilityListExample1.vstack(df_compatibilityListExample2)\n",
    "resultat.select(pl.col('*'))\n"
   ]
  },
  {
   "cell_type": "code",
   "execution_count": 7,
   "id": "7e5d9234-ecfe-47b0-8a16-a613f2e69416",
   "metadata": {},
   "outputs": [
    {
     "name": "stdout",
     "output_type": "stream",
     "text": [
      "{\n",
      "    \"columns\": [\n",
      "        {\n",
      "            \"name\": \"imageId\",\n",
      "            \"datatype\": \"String\",\n",
      "            \"bit_settings\": \"\",\n",
      "            \"values\": [\n",
      "                \"ocid1.image.oc1.eu-paris-1.aaaaaaaaf7irdvozuzmwyvbfacdivomj52x65vr6tlg62i6er323sevazdqq\",\n",
      "                \"ocid1.image.oc1.eu-paris-1.aaaaaaaaf7irdvozuzmwyvbfacdivomj52x65vr6tlg62i6er323sevazdqq\",\n",
      "                \"ocid1.image.oc1.eu-paris-1.aaaaaaaaf7irdvozuzmwyvbfacdivomj52x65vr6tlg62i6er323sevazdqq\",\n",
      "                \"ocid1.image.oc1.eu-paris-1.aaaaaaaaf7irdvozuzmwyvbfacdivomj52x65vr6tlg62i6er323sevazdqq\",\n",
      "                \"ocid1.image.oc1.eu-paris-1.aaaaaaaaf7irdvozuzmwyvbfacdivomj52x65vr6tlg62i6er323sevazdqq\",\n",
      "                \"ocid1.image.oc1.eu-paris-1.aaaaaaaaf7irdvozuzmwyvbfacdivomj52x65vr6tlg62i6er323sevazdqq\",\n",
      "                \"ocid1.image.oc1.eu-paris-1.aaaaaaaaf7irdvozuzmwyvbfacdivomj52x65vr6tlg62i6er323sevazdqq\",\n",
      "                \"ocid1.image.oc1.eu-paris-1.aaaaaaaaf7irdvozuzmwyvbfacdivomj52x65vr6tlg62i6er323sevazdqq\",\n",
      "                \"ocid1.image.oc1.eu-paris-1.aaaaaaaaf7irdvozuzmwyvbfacdivomj52x65vr6tlg62i6er323sevazdqq\",\n",
      "                \"ocid1.image.oc1.eu-paris-1.aaaaaaaaf7irdvozuzmwyvbfacdivomj52x65vr6tlg62i6er323sevazdqq\",\n",
      "                \"ocid1.image.oc1.eu-paris-1.aaaaaaaaf7irdvozuzmwyvbfacdivomj52x65vr6tlg62i6er323sevazdqq\",\n",
      "                \"ocid1.image.oc1.eu-paris-1.aaaaaaaaf7irdvozuzmwyvbfacdivomj52x65vr6tlg62i6er323sevazdqq\",\n",
      "                \"ocid1.image.oc1.eu-paris-1.aaaaaaaaf7irdvozuzmwyvbfacdivomj52x65vr6tlg62i6er323sevazdqq\",\n",
      "                \"ocid1.image.oc1.eu-paris-1.aaaaaaaaf7irdvozuzmwyvbfacdivomj52x65vr6tlg62i6er323sevazdqq\",\n",
      "                \"ocid1.image.oc1.eu-paris-1.aaaaaaaaf7irdvozuzmwyvbfacdivomj52x65vr6tlg62i6er323sevazdqq\",\n",
      "                \"ocid1.image.oc1.eu-paris-1.aaaaaaaaf7irdvozuzmwyvbfacdivomj52x65vr6tlg62i6er323sevazdqq\",\n",
      "                \"ocid1.image.oc1.eu-paris-1.aaaaaaaaf7irdvozuzmwyvbfacdivomj52x65vr6tlg62i6er323sevazdqq\",\n",
      "                \"ocid1.image.oc1.eu-paris-1.aaaaaaaaf7irdvozuzmwyvbfacdivomj52x65vr6tlg62i6er323sevazdqq\",\n",
      "                \"ocid1.image.oc1.eu-paris-1.aaaaaaaaf7irdvozuzmwyvbfacdivomj52x65vr6tlg62i6er323sevazdqq\",\n",
      "                \"ocid1.image.oc1.eu-paris-1.aaaaaaaaf7irdvozuzmwyvbfacdivomj52x65vr6tlg62i6er323sevazdqq\",\n",
      "                \"ocid1.image.oc1.eu-paris-1.aaaaaaaaf7irdvozuzmwyvbfacdivomj52x65vr6tlg62i6er323sevazdqq\",\n",
      "                \"ocid1.image.oc1.eu-paris-1.aaaaaaaaf7irdvozuzmwyvbfacdivomj52x65vr6tlg62i6er323sevazdqq\",\n",
      "                \"ocid1.image.oc1.eu-paris-1.aaaaaaaaf7irdvozuzmwyvbfacdivomj52x65vr6tlg62i6er323sevazdqq\",\n",
      "                \"ocid1.image.oc1.eu-paris-1.aaaaaaaaf7irdvozuzmwyvbfacdivomj52x65vr6tlg62i6er323sevazdqq\",\n",
      "                \"ocid1.image.oc1.eu-paris-1.aaaaaaaaf7irdvozuzmwyvbfacdivomj52x65vr6tlg62i6er323sevazdqq\",\n",
      "                \"ocid1.image.oc1.eu-paris-1.aaaaaaaaf7irdvozuzmwyvbfacdivomj52x65vr6tlg62i6er323sevazdqq\",\n",
      "                \"ocid1.image.oc1.eu-paris-1.aaaaaaaaf7irdvozuzmwyvbfacdivomj52x65vr6tlg62i6er323sevazdqq\",\n",
      "                \"ocid1.image.oc1.eu-paris-1.aaaaaaaaf7irdvozuzmwyvbfacdivomj52x65vr6tlg62i6er323sevazdqq\",\n",
      "                \"ocid1.image.oc1.eu-paris-1.aaaaaaaaf7irdvozuzmwyvbfacdivomj52x65vr6tlg62i6er323sevazdqq\",\n",
      "                \"ocid1.image.oc1.eu-paris-1.aaaaaaaaf7irdvozuzmwyvbfacdivomj52x65vr6tlg62i6er323sevazdqq\",\n",
      "                \"ocid1.image.oc1.eu-paris-1.aaaaaaaaf7irdvozuzmwyvbfacdivomj52x65vr6tlg62i6er323sevazdqq\",\n",
      "                \"ocid1.image.oc1.eu-paris-1.aaaaaaaaf7irdvozuzmwyvbfacdivomj52x65vr6tlg62i6er323sevazdqq\",\n",
      "                \"ocid1.image.oc1.eu-paris-1.aaaaaaaaf7irdvozuzmwyvbfacdivomj52x65vr6tlg62i6er323sevazdqq\",\n",
      "                \"ocid1.image.oc1.eu-paris-1.aaaaaaaaf7irdvozuzmwyvbfacdivomj52x65vr6tlg62i6er323sevazdqq\",\n",
      "                \"ocid1.image.oc1.eu-paris-1.aaaaaaaaf7irdvozuzmwyvbfacdivomj52x65vr6tlg62i6er323sevazdqq\",\n",
      "                \"ocid1.image.oc1.eu-paris-1.aaaaaaaaf7irdvozuzmwyvbfacdivomj52x65vr6tlg62i6er323sevazdqq\",\n",
      "                \"ocid1.image.oc1.eu-paris-1.aaaaaaaaf7irdvozuzmwyvbfacdivomj52x65vr6tlg62i6er323sevazdqq\",\n",
      "                \"ocid1.image.oc1.eu-paris-1.aaaaaaaaf7irdvozuzmwyvbfacdivomj52x65vr6tlg62i6er323sevazdqq\",\n",
      "                \"ocid1.image.oc1.eu-paris-1.aaaaaaaaf7irdvozuzmwyvbfacdivomj52x65vr6tlg62i6er323sevazdqq\",\n",
      "                \"ocid1.image.oc1.eu-paris-1.aaaaaaaaf7irdvozuzmwyvbfacdivomj52x65vr6tlg62i6er323sevazdqq\",\n",
      "                \"ocid1.image.oc1.eu-paris-1.aaaaaaaaf7irdvozuzmwyvbfacdivomj52x65vr6tlg62i6er323sevazdqq\",\n",
      "                \"ocid1.image.oc1.eu-paris-1.aaaaaaaaf7irdvozuzmwyvbfacdivomj52x65vr6tlg62i6er323sevazdqq\",\n",
      "                \"ocid1.image.oc1.eu-paris-1.aaaaaaaaf7irdvozuzmwyvbfacdivomj52x65vr6tlg62i6er323sevazdqq\",\n",
      "                \"ocid1.image.oc1.eu-paris-1.aaaaaaaaf7irdvozuzmwyvbfacdivomj52x65vr6tlg62i6er323sevazdqq\",\n",
      "                \"ocid1.image.oc1.eu-paris-1.aaaaaaaaf7irdvozuzmwyvbfacdivomj52x65vr6tlg62i6er323sevazdqq\",\n",
      "                \"ocid1.image.oc1.eu-paris-1.aaaaaaaaf7irdvozuzmwyvbfacdivomj52x65vr6tlg62i6er323sevazdqq\",\n",
      "                \"ocid1.image.oc1.eu-paris-1.aaaaaaaaf7irdvozuzmwyvbfacdivomj52x65vr6tlg62i6er323sevazdqq\",\n",
      "                \"ocid1.image.oc1.eu-paris-1.aaaaaaaaf7irdvozuzmwyvbfacdivomj52x65vr6tlg62i6er323sevazdqq\",\n",
      "                \"ocid1.image.oc1.eu-paris-1.aaaaaaaaf7irdvozuzmwyvbfacdivomj52x65vr6tlg62i6er323sevazdqq\",\n",
      "                \"ocid1.image.oc1.eu-paris-1.aaaaaaaaf7irdvozuzmwyvbfacdivomj52x65vr6tlg62i6er323sevazdqq\",\n",
      "                \"ocid1.image.oc1.eu-paris-1.aaaaaaaaf7irdvozuzmwyvbfacdivomj52x65vr6tlg62i6er323sevazdqq\",\n",
      "                \"ocid1.image.oc1.eu-paris-1.aaaaaaaaf7irdvozuzmwyvbfacdivomj52x65vr6tlg62i6er323sevazdqq\",\n",
      "                \"ocid1.image.oc1.eu-paris-1.aaaaaaaaf7irdvozuzmwyvbfacdivomj52x65vr6tlg62i6er323sevazdqq\",\n",
      "                \"ocid1.image.oc1.eu-paris-1.aaaaaaaaf7irdvozuzmwyvbfacdivomj52x65vr6tlg62i6er323sevazdqq\",\n",
      "                \"ocid1.image.oc1.eu-paris-1.aaaaaaaaf7irdvozuzmwyvbfacdivomj52x65vr6tlg62i6er323sevazdqq\",\n",
      "                \"ocid1.image.oc1.eu-paris-1.aaaaaaaaf7irdvozuzmwyvbfacdivomj52x65vr6tlg62i6er323sevazdqq\",\n",
      "                \"ocid1.image.oc1.eu-paris-1.aaaaaaaaf7irdvozuzmwyvbfacdivomj52x65vr6tlg62i6er323sevazdqq\",\n",
      "                \"ocid1.image.oc1.eu-paris-1.aaaaaaaaf7irdvozuzmwyvbfacdivomj52x65vr6tlg62i6er323sevazdqq\",\n",
      "                \"ocid1.image.oc1.eu-paris-1.aaaaaaaaf7irdvozuzmwyvbfacdivomj52x65vr6tlg62i6er323sevazdqq\",\n",
      "                \"ocid1.image.oc1.eu-paris-1.aaaaaaaaf7irdvozuzmwyvbfacdivomj52x65vr6tlg62i6er323sevazdqq\",\n",
      "                \"ocid1.image.oc1.eu-paris-1.aaaaaaaaf7irdvozuzmwyvbfacdivomj52x65vr6tlg62i6er323sevazdqq\",\n",
      "                \"ocid1.image.oc1.eu-paris-1.aaaaaaaaf7irdvozuzmwyvbfacdivomj52x65vr6tlg62i6er323sevazdqq\",\n",
      "                \"ocid1.image.oc1.eu-paris-1.aaaaaaaaf7irdvozuzmwyvbfacdivomj52x65vr6tlg62i6er323sevazdqq\",\n",
      "                \"ocid1.image.oc1.eu-paris-1.aaaaaaaaf7irdvozuzmwyvbfacdivomj52x65vr6tlg62i6er323sevazdqq\",\n",
      "                \"ocid1.image.oc1.eu-paris-1.aaaaaaaaf7irdvozuzmwyvbfacdivomj52x65vr6tlg62i6er323sevazdqq\",\n",
      "                \"ocid1.image.oc1.eu-paris-1.aaaaaaaaf7irdvozuzmwyvbfacdivomj52x65vr6tlg62i6er323sevazdqq\",\n",
      "                \"ocid1.image.oc1.eu-paris-1.aaaaaaaaf7irdvozuzmwyvbfacdivomj52x65vr6tlg62i6er323sevazdqq\",\n",
      "                \"ocid1.image.oc1.eu-paris-1.aaaaaaaaf7irdvozuzmwyvbfacdivomj52x65vr6tlg62i6er323sevazdqq\",\n",
      "                \"ocid1.image.oc1.eu-paris-1.aaaaaaaalvbkaoybngg572c4ybw47avoyv2vk4raeus2bg4hyrbfuq4hmcuq\",\n",
      "                \"ocid1.image.oc1.eu-paris-1.aaaaaaaalvbkaoybngg572c4ybw47avoyv2vk4raeus2bg4hyrbfuq4hmcuq\",\n",
      "                \"ocid1.image.oc1.eu-paris-1.aaaaaaaalvbkaoybngg572c4ybw47avoyv2vk4raeus2bg4hyrbfuq4hmcuq\",\n",
      "                \"ocid1.image.oc1.eu-paris-1.aaaaaaaalvbkaoybngg572c4ybw47avoyv2vk4raeus2bg4hyrbfuq4hmcuq\",\n",
      "                \"ocid1.image.oc1.eu-paris-1.aaaaaaaalvbkaoybngg572c4ybw47avoyv2vk4raeus2bg4hyrbfuq4hmcuq\",\n",
      "                \"ocid1.image.oc1.eu-paris-1.aaaaaaaalvbkaoybngg572c4ybw47avoyv2vk4raeus2bg4hyrbfuq4hmcuq\",\n",
      "                \"ocid1.image.oc1.eu-paris-1.aaaaaaaalvbkaoybngg572c4ybw47avoyv2vk4raeus2bg4hyrbfuq4hmcuq\",\n",
      "                \"ocid1.image.oc1.eu-paris-1.aaaaaaaalvbkaoybngg572c4ybw47avoyv2vk4raeus2bg4hyrbfuq4hmcuq\",\n",
      "                \"ocid1.image.oc1.eu-paris-1.aaaaaaaalvbkaoybngg572c4ybw47avoyv2vk4raeus2bg4hyrbfuq4hmcuq\",\n",
      "                \"ocid1.image.oc1.eu-paris-1.aaaaaaaalvbkaoybngg572c4ybw47avoyv2vk4raeus2bg4hyrbfuq4hmcuq\",\n",
      "                \"ocid1.image.oc1.eu-paris-1.aaaaaaaalvbkaoybngg572c4ybw47avoyv2vk4raeus2bg4hyrbfuq4hmcuq\",\n",
      "                \"ocid1.image.oc1.eu-paris-1.aaaaaaaalvbkaoybngg572c4ybw47avoyv2vk4raeus2bg4hyrbfuq4hmcuq\",\n",
      "                \"ocid1.image.oc1.eu-paris-1.aaaaaaaalvbkaoybngg572c4ybw47avoyv2vk4raeus2bg4hyrbfuq4hmcuq\",\n",
      "                \"ocid1.image.oc1.eu-paris-1.aaaaaaaalvbkaoybngg572c4ybw47avoyv2vk4raeus2bg4hyrbfuq4hmcuq\",\n",
      "                \"ocid1.image.oc1.eu-paris-1.aaaaaaaalvbkaoybngg572c4ybw47avoyv2vk4raeus2bg4hyrbfuq4hmcuq\",\n",
      "                \"ocid1.image.oc1.eu-paris-1.aaaaaaaalvbkaoybngg572c4ybw47avoyv2vk4raeus2bg4hyrbfuq4hmcuq\",\n",
      "                \"ocid1.image.oc1.eu-paris-1.aaaaaaaalvbkaoybngg572c4ybw47avoyv2vk4raeus2bg4hyrbfuq4hmcuq\",\n",
      "                \"ocid1.image.oc1.eu-paris-1.aaaaaaaalvbkaoybngg572c4ybw47avoyv2vk4raeus2bg4hyrbfuq4hmcuq\",\n",
      "                \"ocid1.image.oc1.eu-paris-1.aaaaaaaalvbkaoybngg572c4ybw47avoyv2vk4raeus2bg4hyrbfuq4hmcuq\",\n",
      "                \"ocid1.image.oc1.eu-paris-1.aaaaaaaalvbkaoybngg572c4ybw47avoyv2vk4raeus2bg4hyrbfuq4hmcuq\",\n",
      "                \"ocid1.image.oc1.eu-paris-1.aaaaaaaalvbkaoybngg572c4ybw47avoyv2vk4raeus2bg4hyrbfuq4hmcuq\",\n",
      "                \"ocid1.image.oc1.eu-paris-1.aaaaaaaalvbkaoybngg572c4ybw47avoyv2vk4raeus2bg4hyrbfuq4hmcuq\",\n",
      "                \"ocid1.image.oc1.eu-paris-1.aaaaaaaalvbkaoybngg572c4ybw47avoyv2vk4raeus2bg4hyrbfuq4hmcuq\",\n",
      "                \"ocid1.image.oc1.eu-paris-1.aaaaaaaalvbkaoybngg572c4ybw47avoyv2vk4raeus2bg4hyrbfuq4hmcuq\",\n",
      "                \"ocid1.image.oc1.eu-paris-1.aaaaaaaalvbkaoybngg572c4ybw47avoyv2vk4raeus2bg4hyrbfuq4hmcuq\",\n",
      "                \"ocid1.image.oc1.eu-paris-1.aaaaaaaalvbkaoybngg572c4ybw47avoyv2vk4raeus2bg4hyrbfuq4hmcuq\",\n",
      "                \"ocid1.image.oc1.eu-paris-1.aaaaaaaalvbkaoybngg572c4ybw47avoyv2vk4raeus2bg4hyrbfuq4hmcuq\",\n",
      "                \"ocid1.image.oc1.eu-paris-1.aaaaaaaalvbkaoybngg572c4ybw47avoyv2vk4raeus2bg4hyrbfuq4hmcuq\",\n",
      "                \"ocid1.image.oc1.eu-paris-1.aaaaaaaalvbkaoybngg572c4ybw47avoyv2vk4raeus2bg4hyrbfuq4hmcuq\",\n",
      "                \"ocid1.image.oc1.eu-paris-1.aaaaaaaalvbkaoybngg572c4ybw47avoyv2vk4raeus2bg4hyrbfuq4hmcuq\",\n",
      "                \"ocid1.image.oc1.eu-paris-1.aaaaaaaalvbkaoybngg572c4ybw47avoyv2vk4raeus2bg4hyrbfuq4hmcuq\",\n",
      "                \"ocid1.image.oc1.eu-paris-1.aaaaaaaalvbkaoybngg572c4ybw47avoyv2vk4raeus2bg4hyrbfuq4hmcuq\",\n",
      "                \"ocid1.image.oc1.eu-paris-1.aaaaaaaalvbkaoybngg572c4ybw47avoyv2vk4raeus2bg4hyrbfuq4hmcuq\",\n",
      "                \"ocid1.image.oc1.eu-paris-1.aaaaaaaalvbkaoybngg572c4ybw47avoyv2vk4raeus2bg4hyrbfuq4hmcuq\",\n",
      "                \"ocid1.image.oc1.eu-paris-1.aaaaaaaalvbkaoybngg572c4ybw47avoyv2vk4raeus2bg4hyrbfuq4hmcuq\",\n",
      "                \"ocid1.image.oc1.eu-paris-1.aaaaaaaalvbkaoybngg572c4ybw47avoyv2vk4raeus2bg4hyrbfuq4hmcuq\",\n",
      "                \"ocid1.image.oc1.eu-paris-1.aaaaaaaalvbkaoybngg572c4ybw47avoyv2vk4raeus2bg4hyrbfuq4hmcuq\",\n",
      "                \"ocid1.image.oc1.eu-paris-1.aaaaaaaalvbkaoybngg572c4ybw47avoyv2vk4raeus2bg4hyrbfuq4hmcuq\",\n",
      "                \"ocid1.image.oc1.eu-paris-1.aaaaaaaalvbkaoybngg572c4ybw47avoyv2vk4raeus2bg4hyrbfuq4hmcuq\",\n",
      "                \"ocid1.image.oc1.eu-paris-1.aaaaaaaalvbkaoybngg572c4ybw47avoyv2vk4raeus2bg4hyrbfuq4hmcuq\",\n",
      "                \"ocid1.image.oc1.eu-paris-1.aaaaaaaalvbkaoybngg572c4ybw47avoyv2vk4raeus2bg4hyrbfuq4hmcuq\",\n",
      "                \"ocid1.image.oc1.eu-paris-1.aaaaaaaalvbkaoybngg572c4ybw47avoyv2vk4raeus2bg4hyrbfuq4hmcuq\",\n",
      "                \"ocid1.image.oc1.eu-paris-1.aaaaaaaalvbkaoybngg572c4ybw47avoyv2vk4raeus2bg4hyrbfuq4hmcuq\",\n",
      "                \"ocid1.image.oc1.eu-paris-1.aaaaaaaalvbkaoybngg572c4ybw47avoyv2vk4raeus2bg4hyrbfuq4hmcuq\",\n",
      "                \"ocid1.image.oc1.eu-paris-1.aaaaaaaalvbkaoybngg572c4ybw47avoyv2vk4raeus2bg4hyrbfuq4hmcuq\",\n",
      "                \"ocid1.image.oc1.eu-paris-1.aaaaaaaalvbkaoybngg572c4ybw47avoyv2vk4raeus2bg4hyrbfuq4hmcuq\",\n",
      "                \"ocid1.image.oc1.eu-paris-1.aaaaaaaalvbkaoybngg572c4ybw47avoyv2vk4raeus2bg4hyrbfuq4hmcuq\",\n",
      "                \"ocid1.image.oc1.eu-paris-1.aaaaaaaalvbkaoybngg572c4ybw47avoyv2vk4raeus2bg4hyrbfuq4hmcuq\",\n",
      "                \"ocid1.image.oc1.eu-paris-1.aaaaaaaalvbkaoybngg572c4ybw47avoyv2vk4raeus2bg4hyrbfuq4hmcuq\",\n",
      "                \"ocid1.image.oc1.eu-paris-1.aaaaaaaalvbkaoybngg572c4ybw47avoyv2vk4raeus2bg4hyrbfuq4hmcuq\",\n",
      "                \"ocid1.image.oc1.eu-paris-1.aaaaaaaalvbkaoybngg572c4ybw47avoyv2vk4raeus2bg4hyrbfuq4hmcuq\",\n",
      "                \"ocid1.image.oc1.eu-paris-1.aaaaaaaalvbkaoybngg572c4ybw47avoyv2vk4raeus2bg4hyrbfuq4hmcuq\",\n",
      "                \"ocid1.image.oc1.eu-paris-1.aaaaaaaalvbkaoybngg572c4ybw47avoyv2vk4raeus2bg4hyrbfuq4hmcuq\",\n",
      "                \"ocid1.image.oc1.eu-paris-1.aaaaaaaalvbkaoybngg572c4ybw47avoyv2vk4raeus2bg4hyrbfuq4hmcuq\",\n",
      "                \"ocid1.image.oc1.eu-paris-1.aaaaaaaalvbkaoybngg572c4ybw47avoyv2vk4raeus2bg4hyrbfuq4hmcuq\",\n",
      "                \"ocid1.image.oc1.eu-paris-1.aaaaaaaalvbkaoybngg572c4ybw47avoyv2vk4raeus2bg4hyrbfuq4hmcuq\",\n",
      "                \"ocid1.image.oc1.eu-paris-1.aaaaaaaalvbkaoybngg572c4ybw47avoyv2vk4raeus2bg4hyrbfuq4hmcuq\",\n",
      "                \"ocid1.image.oc1.eu-paris-1.aaaaaaaalvbkaoybngg572c4ybw47avoyv2vk4raeus2bg4hyrbfuq4hmcuq\",\n",
      "                \"ocid1.image.oc1.eu-paris-1.aaaaaaaalvbkaoybngg572c4ybw47avoyv2vk4raeus2bg4hyrbfuq4hmcuq\",\n",
      "                \"ocid1.image.oc1.eu-paris-1.aaaaaaaalvbkaoybngg572c4ybw47avoyv2vk4raeus2bg4hyrbfuq4hmcuq\"\n",
      "            ]\n",
      "        },\n",
      "        {\n",
      "            \"name\": \"shape\",\n",
      "            \"datatype\": \"String\",\n",
      "            \"bit_settings\": \"\",\n",
      "            \"values\": [\n",
      "                \"VM.DenseIO.E4.Flex\",\n",
      "                \"VM.DenseIO.E5.Flex\",\n",
      "                \"VM.DenseIO1.16\",\n",
      "                \"VM.DenseIO1.4\",\n",
      "                \"VM.DenseIO1.8\",\n",
      "                \"VM.DenseIO2.16\",\n",
      "                \"VM.DenseIO2.24\",\n",
      "                \"VM.DenseIO2.8\",\n",
      "                \"VM.GPU.A10.1\",\n",
      "                \"VM.GPU.A10.2\",\n",
      "                \"VM.GPU.GU1.1\",\n",
      "                \"VM.GPU.GU1.2\",\n",
      "                \"VM.GPU2.1\",\n",
      "                \"VM.GPU3.1\",\n",
      "                \"VM.GPU3.2\",\n",
      "                \"VM.GPU3.4\",\n",
      "                \"VM.Optimized3.Flex\",\n",
      "                \"VM.Standard.AMD.Generic\",\n",
      "                \"VM.Standard.B1.1\",\n",
      "                \"VM.Standard.B1.16\",\n",
      "                \"VM.Standard.B1.2\",\n",
      "                \"VM.Standard.B1.4\",\n",
      "                \"VM.Standard.B1.8\",\n",
      "                \"VM.Standard.E2.1\",\n",
      "                \"VM.Standard.E2.1.Micro\",\n",
      "                \"VM.Standard.E2.2\",\n",
      "                \"VM.Standard.E2.4\",\n",
      "                \"VM.Standard.E2.8\",\n",
      "                \"VM.Standard.E3.Flex\",\n",
      "                \"VM.Standard.E4.Flex\",\n",
      "                \"VM.Standard.E5.Flex\",\n",
      "                \"VM.Standard.Intel.Generic\",\n",
      "                \"VM.Standard.x86.Generic\",\n",
      "                \"VM.Standard1.1\",\n",
      "                \"VM.Standard1.16\",\n",
      "                \"VM.Standard1.2\",\n",
      "                \"VM.Standard1.4\",\n",
      "                \"VM.Standard1.8\",\n",
      "                \"VM.Standard2.1\",\n",
      "                \"VM.Standard2.16\",\n",
      "                \"VM.Standard2.2\",\n",
      "                \"VM.Standard2.24\",\n",
      "                \"VM.Standard2.4\",\n",
      "                \"VM.Standard2.8\",\n",
      "                \"VM.Standard2.Flex\",\n",
      "                \"VM.Standard3.Flex\",\n",
      "                \"BM.Standard.E2.64\",\n",
      "                \"BM.Standard.E3.128\",\n",
      "                \"BM.GPU4.8\",\n",
      "                \"BM.Standard.E4.128\",\n",
      "                \"BM.GPU.A100-v2.8\",\n",
      "                \"BM.DenseIO.E4.128\",\n",
      "                \"BM.DenseIO.E5.128\",\n",
      "                \"BM.Standard.E5.192\",\n",
      "                \"BM.GPU.H100.8\",\n",
      "                \"BM.Standard1.36\",\n",
      "                \"BM.HighIO1.36\",\n",
      "                \"BM.DenseIO1.36\",\n",
      "                \"BM.Standard.B1.44\",\n",
      "                \"BM.GPU2.2\",\n",
      "                \"BM.HPC2.36\",\n",
      "                \"BM.Standard2.52\",\n",
      "                \"BM.GPU3.8\",\n",
      "                \"BM.DenseIO2.52\",\n",
      "                \"BM.GPU.T1.2\",\n",
      "                \"BM.Optimized3.36\",\n",
      "                \"BM.Standard3.64\",\n",
      "                \"BM.GPU.A10.4\",\n",
      "                \"VM.DenseIO.E4.Flex\",\n",
      "                \"VM.DenseIO.E5.Flex\",\n",
      "                \"VM.DenseIO1.16\",\n",
      "                \"VM.DenseIO1.4\",\n",
      "                \"VM.DenseIO1.8\",\n",
      "                \"VM.DenseIO2.16\",\n",
      "                \"VM.DenseIO2.24\",\n",
      "                \"VM.DenseIO2.8\",\n",
      "                \"VM.GPU.A10.1\",\n",
      "                \"VM.GPU.A10.2\",\n",
      "                \"VM.GPU.GU1.1\",\n",
      "                \"VM.GPU.GU1.2\",\n",
      "                \"VM.GPU2.1\",\n",
      "                \"VM.GPU3.1\",\n",
      "                \"VM.GPU3.2\",\n",
      "                \"VM.GPU3.4\",\n",
      "                \"VM.Optimized3.Flex\",\n",
      "                \"VM.Standard.AMD.Generic\",\n",
      "                \"VM.Standard.E2.1\",\n",
      "                \"VM.Standard.E2.1.Micro\",\n",
      "                \"VM.Standard.E2.2\",\n",
      "                \"VM.Standard.E2.4\",\n",
      "                \"VM.Standard.E2.8\",\n",
      "                \"VM.Standard.E3.Flex\",\n",
      "                \"VM.Standard.E4.Flex\",\n",
      "                \"VM.Standard.E5.Flex\",\n",
      "                \"VM.Standard.Intel.Generic\",\n",
      "                \"VM.Standard.x86.Generic\",\n",
      "                \"VM.Standard1.1\",\n",
      "                \"VM.Standard1.16\",\n",
      "                \"VM.Standard1.2\",\n",
      "                \"VM.Standard1.4\",\n",
      "                \"VM.Standard1.8\",\n",
      "                \"VM.Standard2.1\",\n",
      "                \"VM.Standard2.16\",\n",
      "                \"VM.Standard2.2\",\n",
      "                \"VM.Standard2.24\",\n",
      "                \"VM.Standard2.4\",\n",
      "                \"VM.Standard2.8\",\n",
      "                \"VM.Standard2.Flex\",\n",
      "                \"VM.Standard3.Flex\",\n",
      "                \"BM.Standard.E2.64\",\n",
      "                \"BM.Standard.E3.128\",\n",
      "                \"BM.GPU4.8\",\n",
      "                \"BM.Standard.E4.128\",\n",
      "                \"BM.GPU.A100-v2.8\",\n",
      "                \"BM.DenseIO.E4.128\",\n",
      "                \"BM.DenseIO.E5.128\",\n",
      "                \"BM.Standard.E5.192\",\n",
      "                \"BM.Standard1.36\",\n",
      "                \"BM.HighIO1.36\",\n",
      "                \"BM.DenseIO1.36\",\n",
      "                \"BM.GPU2.2\",\n",
      "                \"BM.HPC2.36\",\n",
      "                \"BM.Standard2.52\",\n",
      "                \"BM.GPU3.8\",\n",
      "                \"BM.DenseIO2.52\",\n",
      "                \"BM.Optimized3.36\",\n",
      "                \"BM.Standard3.64\",\n",
      "                \"BM.GPU.A10.4\"\n",
      "            ]\n",
      "        }\n",
      "    ]\n",
      "}\n"
     ]
    }
   ],
   "source": [
    "console.log(JSON.stringify(resultat, null, 4))"
   ]
  },
  {
   "cell_type": "code",
   "execution_count": 11,
   "id": "5c54dc52-6ea5-45a6-b47f-fa7e1482753d",
   "metadata": {},
   "outputs": [
    {
     "name": "stdout",
     "output_type": "stream",
     "text": [
      "{\n",
      "    \"columns\": [\n",
      "        {\n",
      "            \"name\": \"imageId\",\n",
      "            \"datatype\": \"String\",\n",
      "            \"bit_settings\": \"\",\n",
      "            \"values\": [\n",
      "                \"ocid1.image.oc1.eu-paris-1.aaaaaaaalvbkaoybngg572c4ybw47avoyv2vk4raeus2bg4hyrbfuq4hmcuq\",\n",
      "                \"ocid1.image.oc1.eu-paris-1.aaaaaaaalvbkaoybngg572c4ybw47avoyv2vk4raeus2bg4hyrbfuq4hmcuq\",\n",
      "                \"ocid1.image.oc1.eu-paris-1.aaaaaaaalvbkaoybngg572c4ybw47avoyv2vk4raeus2bg4hyrbfuq4hmcuq\",\n",
      "                \"ocid1.image.oc1.eu-paris-1.aaaaaaaalvbkaoybngg572c4ybw47avoyv2vk4raeus2bg4hyrbfuq4hmcuq\",\n",
      "                \"ocid1.image.oc1.eu-paris-1.aaaaaaaalvbkaoybngg572c4ybw47avoyv2vk4raeus2bg4hyrbfuq4hmcuq\",\n",
      "                \"ocid1.image.oc1.eu-paris-1.aaaaaaaalvbkaoybngg572c4ybw47avoyv2vk4raeus2bg4hyrbfuq4hmcuq\",\n",
      "                \"ocid1.image.oc1.eu-paris-1.aaaaaaaalvbkaoybngg572c4ybw47avoyv2vk4raeus2bg4hyrbfuq4hmcuq\",\n",
      "                \"ocid1.image.oc1.eu-paris-1.aaaaaaaalvbkaoybngg572c4ybw47avoyv2vk4raeus2bg4hyrbfuq4hmcuq\",\n",
      "                \"ocid1.image.oc1.eu-paris-1.aaaaaaaalvbkaoybngg572c4ybw47avoyv2vk4raeus2bg4hyrbfuq4hmcuq\",\n",
      "                \"ocid1.image.oc1.eu-paris-1.aaaaaaaalvbkaoybngg572c4ybw47avoyv2vk4raeus2bg4hyrbfuq4hmcuq\",\n",
      "                \"ocid1.image.oc1.eu-paris-1.aaaaaaaalvbkaoybngg572c4ybw47avoyv2vk4raeus2bg4hyrbfuq4hmcuq\",\n",
      "                \"ocid1.image.oc1.eu-paris-1.aaaaaaaalvbkaoybngg572c4ybw47avoyv2vk4raeus2bg4hyrbfuq4hmcuq\",\n",
      "                \"ocid1.image.oc1.eu-paris-1.aaaaaaaalvbkaoybngg572c4ybw47avoyv2vk4raeus2bg4hyrbfuq4hmcuq\",\n",
      "                \"ocid1.image.oc1.eu-paris-1.aaaaaaaalvbkaoybngg572c4ybw47avoyv2vk4raeus2bg4hyrbfuq4hmcuq\",\n",
      "                \"ocid1.image.oc1.eu-paris-1.aaaaaaaalvbkaoybngg572c4ybw47avoyv2vk4raeus2bg4hyrbfuq4hmcuq\",\n",
      "                \"ocid1.image.oc1.eu-paris-1.aaaaaaaalvbkaoybngg572c4ybw47avoyv2vk4raeus2bg4hyrbfuq4hmcuq\",\n",
      "                \"ocid1.image.oc1.eu-paris-1.aaaaaaaalvbkaoybngg572c4ybw47avoyv2vk4raeus2bg4hyrbfuq4hmcuq\",\n",
      "                \"ocid1.image.oc1.eu-paris-1.aaaaaaaalvbkaoybngg572c4ybw47avoyv2vk4raeus2bg4hyrbfuq4hmcuq\",\n",
      "                \"ocid1.image.oc1.eu-paris-1.aaaaaaaalvbkaoybngg572c4ybw47avoyv2vk4raeus2bg4hyrbfuq4hmcuq\",\n",
      "                \"ocid1.image.oc1.eu-paris-1.aaaaaaaalvbkaoybngg572c4ybw47avoyv2vk4raeus2bg4hyrbfuq4hmcuq\",\n",
      "                \"ocid1.image.oc1.eu-paris-1.aaaaaaaalvbkaoybngg572c4ybw47avoyv2vk4raeus2bg4hyrbfuq4hmcuq\",\n",
      "                \"ocid1.image.oc1.eu-paris-1.aaaaaaaalvbkaoybngg572c4ybw47avoyv2vk4raeus2bg4hyrbfuq4hmcuq\",\n",
      "                \"ocid1.image.oc1.eu-paris-1.aaaaaaaalvbkaoybngg572c4ybw47avoyv2vk4raeus2bg4hyrbfuq4hmcuq\",\n",
      "                \"ocid1.image.oc1.eu-paris-1.aaaaaaaalvbkaoybngg572c4ybw47avoyv2vk4raeus2bg4hyrbfuq4hmcuq\",\n",
      "                \"ocid1.image.oc1.eu-paris-1.aaaaaaaalvbkaoybngg572c4ybw47avoyv2vk4raeus2bg4hyrbfuq4hmcuq\",\n",
      "                \"ocid1.image.oc1.eu-paris-1.aaaaaaaalvbkaoybngg572c4ybw47avoyv2vk4raeus2bg4hyrbfuq4hmcuq\",\n",
      "                \"ocid1.image.oc1.eu-paris-1.aaaaaaaalvbkaoybngg572c4ybw47avoyv2vk4raeus2bg4hyrbfuq4hmcuq\",\n",
      "                \"ocid1.image.oc1.eu-paris-1.aaaaaaaalvbkaoybngg572c4ybw47avoyv2vk4raeus2bg4hyrbfuq4hmcuq\",\n",
      "                \"ocid1.image.oc1.eu-paris-1.aaaaaaaalvbkaoybngg572c4ybw47avoyv2vk4raeus2bg4hyrbfuq4hmcuq\",\n",
      "                \"ocid1.image.oc1.eu-paris-1.aaaaaaaalvbkaoybngg572c4ybw47avoyv2vk4raeus2bg4hyrbfuq4hmcuq\",\n",
      "                \"ocid1.image.oc1.eu-paris-1.aaaaaaaalvbkaoybngg572c4ybw47avoyv2vk4raeus2bg4hyrbfuq4hmcuq\",\n",
      "                \"ocid1.image.oc1.eu-paris-1.aaaaaaaalvbkaoybngg572c4ybw47avoyv2vk4raeus2bg4hyrbfuq4hmcuq\",\n",
      "                \"ocid1.image.oc1.eu-paris-1.aaaaaaaalvbkaoybngg572c4ybw47avoyv2vk4raeus2bg4hyrbfuq4hmcuq\",\n",
      "                \"ocid1.image.oc1.eu-paris-1.aaaaaaaalvbkaoybngg572c4ybw47avoyv2vk4raeus2bg4hyrbfuq4hmcuq\",\n",
      "                \"ocid1.image.oc1.eu-paris-1.aaaaaaaalvbkaoybngg572c4ybw47avoyv2vk4raeus2bg4hyrbfuq4hmcuq\",\n",
      "                \"ocid1.image.oc1.eu-paris-1.aaaaaaaalvbkaoybngg572c4ybw47avoyv2vk4raeus2bg4hyrbfuq4hmcuq\",\n",
      "                \"ocid1.image.oc1.eu-paris-1.aaaaaaaalvbkaoybngg572c4ybw47avoyv2vk4raeus2bg4hyrbfuq4hmcuq\",\n",
      "                \"ocid1.image.oc1.eu-paris-1.aaaaaaaalvbkaoybngg572c4ybw47avoyv2vk4raeus2bg4hyrbfuq4hmcuq\",\n",
      "                \"ocid1.image.oc1.eu-paris-1.aaaaaaaalvbkaoybngg572c4ybw47avoyv2vk4raeus2bg4hyrbfuq4hmcuq\",\n",
      "                \"ocid1.image.oc1.eu-paris-1.aaaaaaaalvbkaoybngg572c4ybw47avoyv2vk4raeus2bg4hyrbfuq4hmcuq\",\n",
      "                \"ocid1.image.oc1.eu-paris-1.aaaaaaaalvbkaoybngg572c4ybw47avoyv2vk4raeus2bg4hyrbfuq4hmcuq\",\n",
      "                \"ocid1.image.oc1.eu-paris-1.aaaaaaaalvbkaoybngg572c4ybw47avoyv2vk4raeus2bg4hyrbfuq4hmcuq\",\n",
      "                \"ocid1.image.oc1.eu-paris-1.aaaaaaaalvbkaoybngg572c4ybw47avoyv2vk4raeus2bg4hyrbfuq4hmcuq\",\n",
      "                \"ocid1.image.oc1.eu-paris-1.aaaaaaaalvbkaoybngg572c4ybw47avoyv2vk4raeus2bg4hyrbfuq4hmcuq\",\n",
      "                \"ocid1.image.oc1.eu-paris-1.aaaaaaaalvbkaoybngg572c4ybw47avoyv2vk4raeus2bg4hyrbfuq4hmcuq\",\n",
      "                \"ocid1.image.oc1.eu-paris-1.aaaaaaaalvbkaoybngg572c4ybw47avoyv2vk4raeus2bg4hyrbfuq4hmcuq\",\n",
      "                \"ocid1.image.oc1.eu-paris-1.aaaaaaaalvbkaoybngg572c4ybw47avoyv2vk4raeus2bg4hyrbfuq4hmcuq\",\n",
      "                \"ocid1.image.oc1.eu-paris-1.aaaaaaaalvbkaoybngg572c4ybw47avoyv2vk4raeus2bg4hyrbfuq4hmcuq\",\n",
      "                \"ocid1.image.oc1.eu-paris-1.aaaaaaaalvbkaoybngg572c4ybw47avoyv2vk4raeus2bg4hyrbfuq4hmcuq\",\n",
      "                \"ocid1.image.oc1.eu-paris-1.aaaaaaaalvbkaoybngg572c4ybw47avoyv2vk4raeus2bg4hyrbfuq4hmcuq\",\n",
      "                \"ocid1.image.oc1.eu-paris-1.aaaaaaaalvbkaoybngg572c4ybw47avoyv2vk4raeus2bg4hyrbfuq4hmcuq\",\n",
      "                \"ocid1.image.oc1.eu-paris-1.aaaaaaaalvbkaoybngg572c4ybw47avoyv2vk4raeus2bg4hyrbfuq4hmcuq\",\n",
      "                \"ocid1.image.oc1.eu-paris-1.aaaaaaaalvbkaoybngg572c4ybw47avoyv2vk4raeus2bg4hyrbfuq4hmcuq\",\n",
      "                \"ocid1.image.oc1.eu-paris-1.aaaaaaaalvbkaoybngg572c4ybw47avoyv2vk4raeus2bg4hyrbfuq4hmcuq\",\n",
      "                \"ocid1.image.oc1.eu-paris-1.aaaaaaaalvbkaoybngg572c4ybw47avoyv2vk4raeus2bg4hyrbfuq4hmcuq\",\n",
      "                \"ocid1.image.oc1.eu-paris-1.aaaaaaaalvbkaoybngg572c4ybw47avoyv2vk4raeus2bg4hyrbfuq4hmcuq\",\n",
      "                \"ocid1.image.oc1.eu-paris-1.aaaaaaaalvbkaoybngg572c4ybw47avoyv2vk4raeus2bg4hyrbfuq4hmcuq\",\n",
      "                \"ocid1.image.oc1.eu-paris-1.aaaaaaaalvbkaoybngg572c4ybw47avoyv2vk4raeus2bg4hyrbfuq4hmcuq\",\n",
      "                \"ocid1.image.oc1.eu-paris-1.aaaaaaaalvbkaoybngg572c4ybw47avoyv2vk4raeus2bg4hyrbfuq4hmcuq\",\n",
      "                \"ocid1.image.oc1.eu-paris-1.aaaaaaaalvbkaoybngg572c4ybw47avoyv2vk4raeus2bg4hyrbfuq4hmcuq\"\n",
      "            ]\n",
      "        },\n",
      "        {\n",
      "            \"name\": \"shape\",\n",
      "            \"datatype\": \"String\",\n",
      "            \"bit_settings\": \"\",\n",
      "            \"values\": [\n",
      "                \"VM.DenseIO.E4.Flex\",\n",
      "                \"VM.DenseIO.E5.Flex\",\n",
      "                \"VM.DenseIO1.16\",\n",
      "                \"VM.DenseIO1.4\",\n",
      "                \"VM.DenseIO1.8\",\n",
      "                \"VM.DenseIO2.16\",\n",
      "                \"VM.DenseIO2.24\",\n",
      "                \"VM.DenseIO2.8\",\n",
      "                \"VM.GPU.A10.1\",\n",
      "                \"VM.GPU.A10.2\",\n",
      "                \"VM.GPU.GU1.1\",\n",
      "                \"VM.GPU.GU1.2\",\n",
      "                \"VM.GPU2.1\",\n",
      "                \"VM.GPU3.1\",\n",
      "                \"VM.GPU3.2\",\n",
      "                \"VM.GPU3.4\",\n",
      "                \"VM.Optimized3.Flex\",\n",
      "                \"VM.Standard.AMD.Generic\",\n",
      "                \"VM.Standard.E2.1\",\n",
      "                \"VM.Standard.E2.1.Micro\",\n",
      "                \"VM.Standard.E2.2\",\n",
      "                \"VM.Standard.E2.4\",\n",
      "                \"VM.Standard.E2.8\",\n",
      "                \"VM.Standard.E3.Flex\",\n",
      "                \"VM.Standard.E4.Flex\",\n",
      "                \"VM.Standard.E5.Flex\",\n",
      "                \"VM.Standard.Intel.Generic\",\n",
      "                \"VM.Standard.x86.Generic\",\n",
      "                \"VM.Standard1.1\",\n",
      "                \"VM.Standard1.16\",\n",
      "                \"VM.Standard1.2\",\n",
      "                \"VM.Standard1.4\",\n",
      "                \"VM.Standard1.8\",\n",
      "                \"VM.Standard2.1\",\n",
      "                \"VM.Standard2.16\",\n",
      "                \"VM.Standard2.2\",\n",
      "                \"VM.Standard2.24\",\n",
      "                \"VM.Standard2.4\",\n",
      "                \"VM.Standard2.8\",\n",
      "                \"VM.Standard2.Flex\",\n",
      "                \"VM.Standard3.Flex\",\n",
      "                \"BM.Standard.E2.64\",\n",
      "                \"BM.Standard.E3.128\",\n",
      "                \"BM.GPU4.8\",\n",
      "                \"BM.Standard.E4.128\",\n",
      "                \"BM.GPU.A100-v2.8\",\n",
      "                \"BM.DenseIO.E4.128\",\n",
      "                \"BM.DenseIO.E5.128\",\n",
      "                \"BM.Standard.E5.192\",\n",
      "                \"BM.Standard1.36\",\n",
      "                \"BM.HighIO1.36\",\n",
      "                \"BM.DenseIO1.36\",\n",
      "                \"BM.GPU2.2\",\n",
      "                \"BM.HPC2.36\",\n",
      "                \"BM.Standard2.52\",\n",
      "                \"BM.GPU3.8\",\n",
      "                \"BM.DenseIO2.52\",\n",
      "                \"BM.Optimized3.36\",\n",
      "                \"BM.Standard3.64\",\n",
      "                \"BM.GPU.A10.4\"\n",
      "            ]\n",
      "        }\n",
      "    ]\n",
      "}\n"
     ]
    }
   ],
   "source": [
    "// pl.Series(df_compatibilityListExample2)\n",
    "// pl.Series('un', {'voilà': df_compatibilityListExample1})\n",
    "console.log(JSON.stringify(df_compatibilityListExample1, null, 4))\n"
   ]
  },
  {
   "cell_type": "code",
   "execution_count": 12,
   "id": "d121daa8-fc9f-4238-95f5-9335e9383c11",
   "metadata": {},
   "outputs": [
    {
     "name": "stdout",
     "output_type": "stream",
     "text": [
      "{\n",
      "    \"columns\": [\n",
      "        {\n",
      "            \"name\": \"imageId\",\n",
      "            \"datatype\": \"String\",\n",
      "            \"bit_settings\": \"\",\n",
      "            \"values\": [\n",
      "                \"ocid1.image.oc1.eu-paris-1.aaaaaaaaf7irdvozuzmwyvbfacdivomj52x65vr6tlg62i6er323sevazdqq\",\n",
      "                \"ocid1.image.oc1.eu-paris-1.aaaaaaaaf7irdvozuzmwyvbfacdivomj52x65vr6tlg62i6er323sevazdqq\",\n",
      "                \"ocid1.image.oc1.eu-paris-1.aaaaaaaaf7irdvozuzmwyvbfacdivomj52x65vr6tlg62i6er323sevazdqq\",\n",
      "                \"ocid1.image.oc1.eu-paris-1.aaaaaaaaf7irdvozuzmwyvbfacdivomj52x65vr6tlg62i6er323sevazdqq\",\n",
      "                \"ocid1.image.oc1.eu-paris-1.aaaaaaaaf7irdvozuzmwyvbfacdivomj52x65vr6tlg62i6er323sevazdqq\",\n",
      "                \"ocid1.image.oc1.eu-paris-1.aaaaaaaaf7irdvozuzmwyvbfacdivomj52x65vr6tlg62i6er323sevazdqq\",\n",
      "                \"ocid1.image.oc1.eu-paris-1.aaaaaaaaf7irdvozuzmwyvbfacdivomj52x65vr6tlg62i6er323sevazdqq\",\n",
      "                \"ocid1.image.oc1.eu-paris-1.aaaaaaaaf7irdvozuzmwyvbfacdivomj52x65vr6tlg62i6er323sevazdqq\",\n",
      "                \"ocid1.image.oc1.eu-paris-1.aaaaaaaaf7irdvozuzmwyvbfacdivomj52x65vr6tlg62i6er323sevazdqq\",\n",
      "                \"ocid1.image.oc1.eu-paris-1.aaaaaaaaf7irdvozuzmwyvbfacdivomj52x65vr6tlg62i6er323sevazdqq\",\n",
      "                \"ocid1.image.oc1.eu-paris-1.aaaaaaaaf7irdvozuzmwyvbfacdivomj52x65vr6tlg62i6er323sevazdqq\",\n",
      "                \"ocid1.image.oc1.eu-paris-1.aaaaaaaaf7irdvozuzmwyvbfacdivomj52x65vr6tlg62i6er323sevazdqq\",\n",
      "                \"ocid1.image.oc1.eu-paris-1.aaaaaaaaf7irdvozuzmwyvbfacdivomj52x65vr6tlg62i6er323sevazdqq\",\n",
      "                \"ocid1.image.oc1.eu-paris-1.aaaaaaaaf7irdvozuzmwyvbfacdivomj52x65vr6tlg62i6er323sevazdqq\",\n",
      "                \"ocid1.image.oc1.eu-paris-1.aaaaaaaaf7irdvozuzmwyvbfacdivomj52x65vr6tlg62i6er323sevazdqq\",\n",
      "                \"ocid1.image.oc1.eu-paris-1.aaaaaaaaf7irdvozuzmwyvbfacdivomj52x65vr6tlg62i6er323sevazdqq\",\n",
      "                \"ocid1.image.oc1.eu-paris-1.aaaaaaaaf7irdvozuzmwyvbfacdivomj52x65vr6tlg62i6er323sevazdqq\",\n",
      "                \"ocid1.image.oc1.eu-paris-1.aaaaaaaaf7irdvozuzmwyvbfacdivomj52x65vr6tlg62i6er323sevazdqq\",\n",
      "                \"ocid1.image.oc1.eu-paris-1.aaaaaaaaf7irdvozuzmwyvbfacdivomj52x65vr6tlg62i6er323sevazdqq\",\n",
      "                \"ocid1.image.oc1.eu-paris-1.aaaaaaaaf7irdvozuzmwyvbfacdivomj52x65vr6tlg62i6er323sevazdqq\",\n",
      "                \"ocid1.image.oc1.eu-paris-1.aaaaaaaaf7irdvozuzmwyvbfacdivomj52x65vr6tlg62i6er323sevazdqq\",\n",
      "                \"ocid1.image.oc1.eu-paris-1.aaaaaaaaf7irdvozuzmwyvbfacdivomj52x65vr6tlg62i6er323sevazdqq\",\n",
      "                \"ocid1.image.oc1.eu-paris-1.aaaaaaaaf7irdvozuzmwyvbfacdivomj52x65vr6tlg62i6er323sevazdqq\",\n",
      "                \"ocid1.image.oc1.eu-paris-1.aaaaaaaaf7irdvozuzmwyvbfacdivomj52x65vr6tlg62i6er323sevazdqq\",\n",
      "                \"ocid1.image.oc1.eu-paris-1.aaaaaaaaf7irdvozuzmwyvbfacdivomj52x65vr6tlg62i6er323sevazdqq\",\n",
      "                \"ocid1.image.oc1.eu-paris-1.aaaaaaaaf7irdvozuzmwyvbfacdivomj52x65vr6tlg62i6er323sevazdqq\",\n",
      "                \"ocid1.image.oc1.eu-paris-1.aaaaaaaaf7irdvozuzmwyvbfacdivomj52x65vr6tlg62i6er323sevazdqq\",\n",
      "                \"ocid1.image.oc1.eu-paris-1.aaaaaaaaf7irdvozuzmwyvbfacdivomj52x65vr6tlg62i6er323sevazdqq\",\n",
      "                \"ocid1.image.oc1.eu-paris-1.aaaaaaaaf7irdvozuzmwyvbfacdivomj52x65vr6tlg62i6er323sevazdqq\",\n",
      "                \"ocid1.image.oc1.eu-paris-1.aaaaaaaaf7irdvozuzmwyvbfacdivomj52x65vr6tlg62i6er323sevazdqq\",\n",
      "                \"ocid1.image.oc1.eu-paris-1.aaaaaaaaf7irdvozuzmwyvbfacdivomj52x65vr6tlg62i6er323sevazdqq\",\n",
      "                \"ocid1.image.oc1.eu-paris-1.aaaaaaaaf7irdvozuzmwyvbfacdivomj52x65vr6tlg62i6er323sevazdqq\",\n",
      "                \"ocid1.image.oc1.eu-paris-1.aaaaaaaaf7irdvozuzmwyvbfacdivomj52x65vr6tlg62i6er323sevazdqq\",\n",
      "                \"ocid1.image.oc1.eu-paris-1.aaaaaaaaf7irdvozuzmwyvbfacdivomj52x65vr6tlg62i6er323sevazdqq\",\n",
      "                \"ocid1.image.oc1.eu-paris-1.aaaaaaaaf7irdvozuzmwyvbfacdivomj52x65vr6tlg62i6er323sevazdqq\",\n",
      "                \"ocid1.image.oc1.eu-paris-1.aaaaaaaaf7irdvozuzmwyvbfacdivomj52x65vr6tlg62i6er323sevazdqq\",\n",
      "                \"ocid1.image.oc1.eu-paris-1.aaaaaaaaf7irdvozuzmwyvbfacdivomj52x65vr6tlg62i6er323sevazdqq\",\n",
      "                \"ocid1.image.oc1.eu-paris-1.aaaaaaaaf7irdvozuzmwyvbfacdivomj52x65vr6tlg62i6er323sevazdqq\",\n",
      "                \"ocid1.image.oc1.eu-paris-1.aaaaaaaaf7irdvozuzmwyvbfacdivomj52x65vr6tlg62i6er323sevazdqq\",\n",
      "                \"ocid1.image.oc1.eu-paris-1.aaaaaaaaf7irdvozuzmwyvbfacdivomj52x65vr6tlg62i6er323sevazdqq\",\n",
      "                \"ocid1.image.oc1.eu-paris-1.aaaaaaaaf7irdvozuzmwyvbfacdivomj52x65vr6tlg62i6er323sevazdqq\",\n",
      "                \"ocid1.image.oc1.eu-paris-1.aaaaaaaaf7irdvozuzmwyvbfacdivomj52x65vr6tlg62i6er323sevazdqq\",\n",
      "                \"ocid1.image.oc1.eu-paris-1.aaaaaaaaf7irdvozuzmwyvbfacdivomj52x65vr6tlg62i6er323sevazdqq\",\n",
      "                \"ocid1.image.oc1.eu-paris-1.aaaaaaaaf7irdvozuzmwyvbfacdivomj52x65vr6tlg62i6er323sevazdqq\",\n",
      "                \"ocid1.image.oc1.eu-paris-1.aaaaaaaaf7irdvozuzmwyvbfacdivomj52x65vr6tlg62i6er323sevazdqq\",\n",
      "                \"ocid1.image.oc1.eu-paris-1.aaaaaaaaf7irdvozuzmwyvbfacdivomj52x65vr6tlg62i6er323sevazdqq\",\n",
      "                \"ocid1.image.oc1.eu-paris-1.aaaaaaaaf7irdvozuzmwyvbfacdivomj52x65vr6tlg62i6er323sevazdqq\",\n",
      "                \"ocid1.image.oc1.eu-paris-1.aaaaaaaaf7irdvozuzmwyvbfacdivomj52x65vr6tlg62i6er323sevazdqq\",\n",
      "                \"ocid1.image.oc1.eu-paris-1.aaaaaaaaf7irdvozuzmwyvbfacdivomj52x65vr6tlg62i6er323sevazdqq\",\n",
      "                \"ocid1.image.oc1.eu-paris-1.aaaaaaaaf7irdvozuzmwyvbfacdivomj52x65vr6tlg62i6er323sevazdqq\",\n",
      "                \"ocid1.image.oc1.eu-paris-1.aaaaaaaaf7irdvozuzmwyvbfacdivomj52x65vr6tlg62i6er323sevazdqq\",\n",
      "                \"ocid1.image.oc1.eu-paris-1.aaaaaaaaf7irdvozuzmwyvbfacdivomj52x65vr6tlg62i6er323sevazdqq\",\n",
      "                \"ocid1.image.oc1.eu-paris-1.aaaaaaaaf7irdvozuzmwyvbfacdivomj52x65vr6tlg62i6er323sevazdqq\",\n",
      "                \"ocid1.image.oc1.eu-paris-1.aaaaaaaaf7irdvozuzmwyvbfacdivomj52x65vr6tlg62i6er323sevazdqq\",\n",
      "                \"ocid1.image.oc1.eu-paris-1.aaaaaaaaf7irdvozuzmwyvbfacdivomj52x65vr6tlg62i6er323sevazdqq\",\n",
      "                \"ocid1.image.oc1.eu-paris-1.aaaaaaaaf7irdvozuzmwyvbfacdivomj52x65vr6tlg62i6er323sevazdqq\",\n",
      "                \"ocid1.image.oc1.eu-paris-1.aaaaaaaaf7irdvozuzmwyvbfacdivomj52x65vr6tlg62i6er323sevazdqq\",\n",
      "                \"ocid1.image.oc1.eu-paris-1.aaaaaaaaf7irdvozuzmwyvbfacdivomj52x65vr6tlg62i6er323sevazdqq\",\n",
      "                \"ocid1.image.oc1.eu-paris-1.aaaaaaaaf7irdvozuzmwyvbfacdivomj52x65vr6tlg62i6er323sevazdqq\",\n",
      "                \"ocid1.image.oc1.eu-paris-1.aaaaaaaaf7irdvozuzmwyvbfacdivomj52x65vr6tlg62i6er323sevazdqq\",\n",
      "                \"ocid1.image.oc1.eu-paris-1.aaaaaaaaf7irdvozuzmwyvbfacdivomj52x65vr6tlg62i6er323sevazdqq\",\n",
      "                \"ocid1.image.oc1.eu-paris-1.aaaaaaaaf7irdvozuzmwyvbfacdivomj52x65vr6tlg62i6er323sevazdqq\",\n",
      "                \"ocid1.image.oc1.eu-paris-1.aaaaaaaaf7irdvozuzmwyvbfacdivomj52x65vr6tlg62i6er323sevazdqq\",\n",
      "                \"ocid1.image.oc1.eu-paris-1.aaaaaaaaf7irdvozuzmwyvbfacdivomj52x65vr6tlg62i6er323sevazdqq\",\n",
      "                \"ocid1.image.oc1.eu-paris-1.aaaaaaaaf7irdvozuzmwyvbfacdivomj52x65vr6tlg62i6er323sevazdqq\",\n",
      "                \"ocid1.image.oc1.eu-paris-1.aaaaaaaaf7irdvozuzmwyvbfacdivomj52x65vr6tlg62i6er323sevazdqq\",\n",
      "                \"ocid1.image.oc1.eu-paris-1.aaaaaaaaf7irdvozuzmwyvbfacdivomj52x65vr6tlg62i6er323sevazdqq\",\n",
      "                \"ocid1.image.oc1.eu-paris-1.aaaaaaaaf7irdvozuzmwyvbfacdivomj52x65vr6tlg62i6er323sevazdqq\"\n",
      "            ]\n",
      "        },\n",
      "        {\n",
      "            \"name\": \"shape\",\n",
      "            \"datatype\": \"String\",\n",
      "            \"bit_settings\": \"\",\n",
      "            \"values\": [\n",
      "                \"VM.DenseIO.E4.Flex\",\n",
      "                \"VM.DenseIO.E5.Flex\",\n",
      "                \"VM.DenseIO1.16\",\n",
      "                \"VM.DenseIO1.4\",\n",
      "                \"VM.DenseIO1.8\",\n",
      "                \"VM.DenseIO2.16\",\n",
      "                \"VM.DenseIO2.24\",\n",
      "                \"VM.DenseIO2.8\",\n",
      "                \"VM.GPU.A10.1\",\n",
      "                \"VM.GPU.A10.2\",\n",
      "                \"VM.GPU.GU1.1\",\n",
      "                \"VM.GPU.GU1.2\",\n",
      "                \"VM.GPU2.1\",\n",
      "                \"VM.GPU3.1\",\n",
      "                \"VM.GPU3.2\",\n",
      "                \"VM.GPU3.4\",\n",
      "                \"VM.Optimized3.Flex\",\n",
      "                \"VM.Standard.AMD.Generic\",\n",
      "                \"VM.Standard.B1.1\",\n",
      "                \"VM.Standard.B1.16\",\n",
      "                \"VM.Standard.B1.2\",\n",
      "                \"VM.Standard.B1.4\",\n",
      "                \"VM.Standard.B1.8\",\n",
      "                \"VM.Standard.E2.1\",\n",
      "                \"VM.Standard.E2.1.Micro\",\n",
      "                \"VM.Standard.E2.2\",\n",
      "                \"VM.Standard.E2.4\",\n",
      "                \"VM.Standard.E2.8\",\n",
      "                \"VM.Standard.E3.Flex\",\n",
      "                \"VM.Standard.E4.Flex\",\n",
      "                \"VM.Standard.E5.Flex\",\n",
      "                \"VM.Standard.Intel.Generic\",\n",
      "                \"VM.Standard.x86.Generic\",\n",
      "                \"VM.Standard1.1\",\n",
      "                \"VM.Standard1.16\",\n",
      "                \"VM.Standard1.2\",\n",
      "                \"VM.Standard1.4\",\n",
      "                \"VM.Standard1.8\",\n",
      "                \"VM.Standard2.1\",\n",
      "                \"VM.Standard2.16\",\n",
      "                \"VM.Standard2.2\",\n",
      "                \"VM.Standard2.24\",\n",
      "                \"VM.Standard2.4\",\n",
      "                \"VM.Standard2.8\",\n",
      "                \"VM.Standard2.Flex\",\n",
      "                \"VM.Standard3.Flex\",\n",
      "                \"BM.Standard.E2.64\",\n",
      "                \"BM.Standard.E3.128\",\n",
      "                \"BM.GPU4.8\",\n",
      "                \"BM.Standard.E4.128\",\n",
      "                \"BM.GPU.A100-v2.8\",\n",
      "                \"BM.DenseIO.E4.128\",\n",
      "                \"BM.DenseIO.E5.128\",\n",
      "                \"BM.Standard.E5.192\",\n",
      "                \"BM.GPU.H100.8\",\n",
      "                \"BM.Standard1.36\",\n",
      "                \"BM.HighIO1.36\",\n",
      "                \"BM.DenseIO1.36\",\n",
      "                \"BM.Standard.B1.44\",\n",
      "                \"BM.GPU2.2\",\n",
      "                \"BM.HPC2.36\",\n",
      "                \"BM.Standard2.52\",\n",
      "                \"BM.GPU3.8\",\n",
      "                \"BM.DenseIO2.52\",\n",
      "                \"BM.GPU.T1.2\",\n",
      "                \"BM.Optimized3.36\",\n",
      "                \"BM.Standard3.64\",\n",
      "                \"BM.GPU.A10.4\"\n",
      "            ]\n",
      "        }\n",
      "    ]\n",
      "}\n"
     ]
    }
   ],
   "source": [
    "console.log(JSON.stringify(df_compatibilityListExample2, null, 4))"
   ]
  },
  {
   "cell_type": "code",
   "execution_count": 8,
   "id": "89846b2d-763a-41d7-a5e2-8ba16d15949b",
   "metadata": {},
   "outputs": [
    {
     "name": "stdout",
     "output_type": "stream",
     "text": [
      "{\n",
      "    \"columns\": [\n",
      "        {\n",
      "            \"name\": \"imageId\",\n",
      "            \"datatype\": \"String\",\n",
      "            \"bit_settings\": \"\",\n",
      "            \"values\": [\n",
      "                \"ocid1.image.oc1.eu-paris-1.aaaaaaaaf7irdvozuzmwyvbfacdivomj52x65vr6tlg62i6er323sevazdqq\",\n",
      "                \"ocid1.image.oc1.eu-paris-1.aaaaaaaaf7irdvozuzmwyvbfacdivomj52x65vr6tlg62i6er323sevazdqq\",\n",
      "                \"ocid1.image.oc1.eu-paris-1.aaaaaaaaf7irdvozuzmwyvbfacdivomj52x65vr6tlg62i6er323sevazdqq\",\n",
      "                \"ocid1.image.oc1.eu-paris-1.aaaaaaaaf7irdvozuzmwyvbfacdivomj52x65vr6tlg62i6er323sevazdqq\",\n",
      "                \"ocid1.image.oc1.eu-paris-1.aaaaaaaaf7irdvozuzmwyvbfacdivomj52x65vr6tlg62i6er323sevazdqq\",\n",
      "                \"ocid1.image.oc1.eu-paris-1.aaaaaaaaf7irdvozuzmwyvbfacdivomj52x65vr6tlg62i6er323sevazdqq\",\n",
      "                \"ocid1.image.oc1.eu-paris-1.aaaaaaaaf7irdvozuzmwyvbfacdivomj52x65vr6tlg62i6er323sevazdqq\",\n",
      "                \"ocid1.image.oc1.eu-paris-1.aaaaaaaaf7irdvozuzmwyvbfacdivomj52x65vr6tlg62i6er323sevazdqq\",\n",
      "                \"ocid1.image.oc1.eu-paris-1.aaaaaaaaf7irdvozuzmwyvbfacdivomj52x65vr6tlg62i6er323sevazdqq\",\n",
      "                \"ocid1.image.oc1.eu-paris-1.aaaaaaaaf7irdvozuzmwyvbfacdivomj52x65vr6tlg62i6er323sevazdqq\",\n",
      "                \"ocid1.image.oc1.eu-paris-1.aaaaaaaaf7irdvozuzmwyvbfacdivomj52x65vr6tlg62i6er323sevazdqq\",\n",
      "                \"ocid1.image.oc1.eu-paris-1.aaaaaaaaf7irdvozuzmwyvbfacdivomj52x65vr6tlg62i6er323sevazdqq\",\n",
      "                \"ocid1.image.oc1.eu-paris-1.aaaaaaaaf7irdvozuzmwyvbfacdivomj52x65vr6tlg62i6er323sevazdqq\",\n",
      "                \"ocid1.image.oc1.eu-paris-1.aaaaaaaaf7irdvozuzmwyvbfacdivomj52x65vr6tlg62i6er323sevazdqq\",\n",
      "                \"ocid1.image.oc1.eu-paris-1.aaaaaaaaf7irdvozuzmwyvbfacdivomj52x65vr6tlg62i6er323sevazdqq\",\n",
      "                \"ocid1.image.oc1.eu-paris-1.aaaaaaaaf7irdvozuzmwyvbfacdivomj52x65vr6tlg62i6er323sevazdqq\",\n",
      "                \"ocid1.image.oc1.eu-paris-1.aaaaaaaaf7irdvozuzmwyvbfacdivomj52x65vr6tlg62i6er323sevazdqq\",\n",
      "                \"ocid1.image.oc1.eu-paris-1.aaaaaaaaf7irdvozuzmwyvbfacdivomj52x65vr6tlg62i6er323sevazdqq\",\n",
      "                \"ocid1.image.oc1.eu-paris-1.aaaaaaaaf7irdvozuzmwyvbfacdivomj52x65vr6tlg62i6er323sevazdqq\",\n",
      "                \"ocid1.image.oc1.eu-paris-1.aaaaaaaaf7irdvozuzmwyvbfacdivomj52x65vr6tlg62i6er323sevazdqq\",\n",
      "                \"ocid1.image.oc1.eu-paris-1.aaaaaaaaf7irdvozuzmwyvbfacdivomj52x65vr6tlg62i6er323sevazdqq\",\n",
      "                \"ocid1.image.oc1.eu-paris-1.aaaaaaaaf7irdvozuzmwyvbfacdivomj52x65vr6tlg62i6er323sevazdqq\",\n",
      "                \"ocid1.image.oc1.eu-paris-1.aaaaaaaaf7irdvozuzmwyvbfacdivomj52x65vr6tlg62i6er323sevazdqq\",\n",
      "                \"ocid1.image.oc1.eu-paris-1.aaaaaaaaf7irdvozuzmwyvbfacdivomj52x65vr6tlg62i6er323sevazdqq\",\n",
      "                \"ocid1.image.oc1.eu-paris-1.aaaaaaaaf7irdvozuzmwyvbfacdivomj52x65vr6tlg62i6er323sevazdqq\",\n",
      "                \"ocid1.image.oc1.eu-paris-1.aaaaaaaaf7irdvozuzmwyvbfacdivomj52x65vr6tlg62i6er323sevazdqq\",\n",
      "                \"ocid1.image.oc1.eu-paris-1.aaaaaaaaf7irdvozuzmwyvbfacdivomj52x65vr6tlg62i6er323sevazdqq\",\n",
      "                \"ocid1.image.oc1.eu-paris-1.aaaaaaaaf7irdvozuzmwyvbfacdivomj52x65vr6tlg62i6er323sevazdqq\",\n",
      "                \"ocid1.image.oc1.eu-paris-1.aaaaaaaaf7irdvozuzmwyvbfacdivomj52x65vr6tlg62i6er323sevazdqq\",\n",
      "                \"ocid1.image.oc1.eu-paris-1.aaaaaaaaf7irdvozuzmwyvbfacdivomj52x65vr6tlg62i6er323sevazdqq\",\n",
      "                \"ocid1.image.oc1.eu-paris-1.aaaaaaaaf7irdvozuzmwyvbfacdivomj52x65vr6tlg62i6er323sevazdqq\",\n",
      "                \"ocid1.image.oc1.eu-paris-1.aaaaaaaaf7irdvozuzmwyvbfacdivomj52x65vr6tlg62i6er323sevazdqq\",\n",
      "                \"ocid1.image.oc1.eu-paris-1.aaaaaaaaf7irdvozuzmwyvbfacdivomj52x65vr6tlg62i6er323sevazdqq\",\n",
      "                \"ocid1.image.oc1.eu-paris-1.aaaaaaaaf7irdvozuzmwyvbfacdivomj52x65vr6tlg62i6er323sevazdqq\",\n",
      "                \"ocid1.image.oc1.eu-paris-1.aaaaaaaaf7irdvozuzmwyvbfacdivomj52x65vr6tlg62i6er323sevazdqq\",\n",
      "                \"ocid1.image.oc1.eu-paris-1.aaaaaaaaf7irdvozuzmwyvbfacdivomj52x65vr6tlg62i6er323sevazdqq\",\n",
      "                \"ocid1.image.oc1.eu-paris-1.aaaaaaaaf7irdvozuzmwyvbfacdivomj52x65vr6tlg62i6er323sevazdqq\",\n",
      "                \"ocid1.image.oc1.eu-paris-1.aaaaaaaaf7irdvozuzmwyvbfacdivomj52x65vr6tlg62i6er323sevazdqq\",\n",
      "                \"ocid1.image.oc1.eu-paris-1.aaaaaaaaf7irdvozuzmwyvbfacdivomj52x65vr6tlg62i6er323sevazdqq\",\n",
      "                \"ocid1.image.oc1.eu-paris-1.aaaaaaaaf7irdvozuzmwyvbfacdivomj52x65vr6tlg62i6er323sevazdqq\",\n",
      "                \"ocid1.image.oc1.eu-paris-1.aaaaaaaaf7irdvozuzmwyvbfacdivomj52x65vr6tlg62i6er323sevazdqq\",\n",
      "                \"ocid1.image.oc1.eu-paris-1.aaaaaaaaf7irdvozuzmwyvbfacdivomj52x65vr6tlg62i6er323sevazdqq\",\n",
      "                \"ocid1.image.oc1.eu-paris-1.aaaaaaaaf7irdvozuzmwyvbfacdivomj52x65vr6tlg62i6er323sevazdqq\",\n",
      "                \"ocid1.image.oc1.eu-paris-1.aaaaaaaaf7irdvozuzmwyvbfacdivomj52x65vr6tlg62i6er323sevazdqq\",\n",
      "                \"ocid1.image.oc1.eu-paris-1.aaaaaaaaf7irdvozuzmwyvbfacdivomj52x65vr6tlg62i6er323sevazdqq\",\n",
      "                \"ocid1.image.oc1.eu-paris-1.aaaaaaaaf7irdvozuzmwyvbfacdivomj52x65vr6tlg62i6er323sevazdqq\",\n",
      "                \"ocid1.image.oc1.eu-paris-1.aaaaaaaaf7irdvozuzmwyvbfacdivomj52x65vr6tlg62i6er323sevazdqq\",\n",
      "                \"ocid1.image.oc1.eu-paris-1.aaaaaaaaf7irdvozuzmwyvbfacdivomj52x65vr6tlg62i6er323sevazdqq\",\n",
      "                \"ocid1.image.oc1.eu-paris-1.aaaaaaaaf7irdvozuzmwyvbfacdivomj52x65vr6tlg62i6er323sevazdqq\",\n",
      "                \"ocid1.image.oc1.eu-paris-1.aaaaaaaaf7irdvozuzmwyvbfacdivomj52x65vr6tlg62i6er323sevazdqq\",\n",
      "                \"ocid1.image.oc1.eu-paris-1.aaaaaaaaf7irdvozuzmwyvbfacdivomj52x65vr6tlg62i6er323sevazdqq\",\n",
      "                \"ocid1.image.oc1.eu-paris-1.aaaaaaaaf7irdvozuzmwyvbfacdivomj52x65vr6tlg62i6er323sevazdqq\",\n",
      "                \"ocid1.image.oc1.eu-paris-1.aaaaaaaaf7irdvozuzmwyvbfacdivomj52x65vr6tlg62i6er323sevazdqq\",\n",
      "                \"ocid1.image.oc1.eu-paris-1.aaaaaaaaf7irdvozuzmwyvbfacdivomj52x65vr6tlg62i6er323sevazdqq\",\n",
      "                \"ocid1.image.oc1.eu-paris-1.aaaaaaaaf7irdvozuzmwyvbfacdivomj52x65vr6tlg62i6er323sevazdqq\",\n",
      "                \"ocid1.image.oc1.eu-paris-1.aaaaaaaaf7irdvozuzmwyvbfacdivomj52x65vr6tlg62i6er323sevazdqq\",\n",
      "                \"ocid1.image.oc1.eu-paris-1.aaaaaaaaf7irdvozuzmwyvbfacdivomj52x65vr6tlg62i6er323sevazdqq\",\n",
      "                \"ocid1.image.oc1.eu-paris-1.aaaaaaaaf7irdvozuzmwyvbfacdivomj52x65vr6tlg62i6er323sevazdqq\",\n",
      "                \"ocid1.image.oc1.eu-paris-1.aaaaaaaaf7irdvozuzmwyvbfacdivomj52x65vr6tlg62i6er323sevazdqq\",\n",
      "                \"ocid1.image.oc1.eu-paris-1.aaaaaaaaf7irdvozuzmwyvbfacdivomj52x65vr6tlg62i6er323sevazdqq\",\n",
      "                \"ocid1.image.oc1.eu-paris-1.aaaaaaaaf7irdvozuzmwyvbfacdivomj52x65vr6tlg62i6er323sevazdqq\",\n",
      "                \"ocid1.image.oc1.eu-paris-1.aaaaaaaaf7irdvozuzmwyvbfacdivomj52x65vr6tlg62i6er323sevazdqq\",\n",
      "                \"ocid1.image.oc1.eu-paris-1.aaaaaaaaf7irdvozuzmwyvbfacdivomj52x65vr6tlg62i6er323sevazdqq\",\n",
      "                \"ocid1.image.oc1.eu-paris-1.aaaaaaaaf7irdvozuzmwyvbfacdivomj52x65vr6tlg62i6er323sevazdqq\",\n",
      "                \"ocid1.image.oc1.eu-paris-1.aaaaaaaaf7irdvozuzmwyvbfacdivomj52x65vr6tlg62i6er323sevazdqq\",\n",
      "                \"ocid1.image.oc1.eu-paris-1.aaaaaaaaf7irdvozuzmwyvbfacdivomj52x65vr6tlg62i6er323sevazdqq\",\n",
      "                \"ocid1.image.oc1.eu-paris-1.aaaaaaaaf7irdvozuzmwyvbfacdivomj52x65vr6tlg62i6er323sevazdqq\",\n",
      "                \"ocid1.image.oc1.eu-paris-1.aaaaaaaaf7irdvozuzmwyvbfacdivomj52x65vr6tlg62i6er323sevazdqq\",\n",
      "                \"ocid1.image.oc1.eu-paris-1.aaaaaaaalvbkaoybngg572c4ybw47avoyv2vk4raeus2bg4hyrbfuq4hmcuq\",\n",
      "                \"ocid1.image.oc1.eu-paris-1.aaaaaaaalvbkaoybngg572c4ybw47avoyv2vk4raeus2bg4hyrbfuq4hmcuq\",\n",
      "                \"ocid1.image.oc1.eu-paris-1.aaaaaaaalvbkaoybngg572c4ybw47avoyv2vk4raeus2bg4hyrbfuq4hmcuq\",\n",
      "                \"ocid1.image.oc1.eu-paris-1.aaaaaaaalvbkaoybngg572c4ybw47avoyv2vk4raeus2bg4hyrbfuq4hmcuq\",\n",
      "                \"ocid1.image.oc1.eu-paris-1.aaaaaaaalvbkaoybngg572c4ybw47avoyv2vk4raeus2bg4hyrbfuq4hmcuq\",\n",
      "                \"ocid1.image.oc1.eu-paris-1.aaaaaaaalvbkaoybngg572c4ybw47avoyv2vk4raeus2bg4hyrbfuq4hmcuq\",\n",
      "                \"ocid1.image.oc1.eu-paris-1.aaaaaaaalvbkaoybngg572c4ybw47avoyv2vk4raeus2bg4hyrbfuq4hmcuq\",\n",
      "                \"ocid1.image.oc1.eu-paris-1.aaaaaaaalvbkaoybngg572c4ybw47avoyv2vk4raeus2bg4hyrbfuq4hmcuq\",\n",
      "                \"ocid1.image.oc1.eu-paris-1.aaaaaaaalvbkaoybngg572c4ybw47avoyv2vk4raeus2bg4hyrbfuq4hmcuq\",\n",
      "                \"ocid1.image.oc1.eu-paris-1.aaaaaaaalvbkaoybngg572c4ybw47avoyv2vk4raeus2bg4hyrbfuq4hmcuq\",\n",
      "                \"ocid1.image.oc1.eu-paris-1.aaaaaaaalvbkaoybngg572c4ybw47avoyv2vk4raeus2bg4hyrbfuq4hmcuq\",\n",
      "                \"ocid1.image.oc1.eu-paris-1.aaaaaaaalvbkaoybngg572c4ybw47avoyv2vk4raeus2bg4hyrbfuq4hmcuq\",\n",
      "                \"ocid1.image.oc1.eu-paris-1.aaaaaaaalvbkaoybngg572c4ybw47avoyv2vk4raeus2bg4hyrbfuq4hmcuq\",\n",
      "                \"ocid1.image.oc1.eu-paris-1.aaaaaaaalvbkaoybngg572c4ybw47avoyv2vk4raeus2bg4hyrbfuq4hmcuq\",\n",
      "                \"ocid1.image.oc1.eu-paris-1.aaaaaaaalvbkaoybngg572c4ybw47avoyv2vk4raeus2bg4hyrbfuq4hmcuq\",\n",
      "                \"ocid1.image.oc1.eu-paris-1.aaaaaaaalvbkaoybngg572c4ybw47avoyv2vk4raeus2bg4hyrbfuq4hmcuq\",\n",
      "                \"ocid1.image.oc1.eu-paris-1.aaaaaaaalvbkaoybngg572c4ybw47avoyv2vk4raeus2bg4hyrbfuq4hmcuq\",\n",
      "                \"ocid1.image.oc1.eu-paris-1.aaaaaaaalvbkaoybngg572c4ybw47avoyv2vk4raeus2bg4hyrbfuq4hmcuq\",\n",
      "                \"ocid1.image.oc1.eu-paris-1.aaaaaaaalvbkaoybngg572c4ybw47avoyv2vk4raeus2bg4hyrbfuq4hmcuq\",\n",
      "                \"ocid1.image.oc1.eu-paris-1.aaaaaaaalvbkaoybngg572c4ybw47avoyv2vk4raeus2bg4hyrbfuq4hmcuq\",\n",
      "                \"ocid1.image.oc1.eu-paris-1.aaaaaaaalvbkaoybngg572c4ybw47avoyv2vk4raeus2bg4hyrbfuq4hmcuq\",\n",
      "                \"ocid1.image.oc1.eu-paris-1.aaaaaaaalvbkaoybngg572c4ybw47avoyv2vk4raeus2bg4hyrbfuq4hmcuq\",\n",
      "                \"ocid1.image.oc1.eu-paris-1.aaaaaaaalvbkaoybngg572c4ybw47avoyv2vk4raeus2bg4hyrbfuq4hmcuq\",\n",
      "                \"ocid1.image.oc1.eu-paris-1.aaaaaaaalvbkaoybngg572c4ybw47avoyv2vk4raeus2bg4hyrbfuq4hmcuq\",\n",
      "                \"ocid1.image.oc1.eu-paris-1.aaaaaaaalvbkaoybngg572c4ybw47avoyv2vk4raeus2bg4hyrbfuq4hmcuq\",\n",
      "                \"ocid1.image.oc1.eu-paris-1.aaaaaaaalvbkaoybngg572c4ybw47avoyv2vk4raeus2bg4hyrbfuq4hmcuq\",\n",
      "                \"ocid1.image.oc1.eu-paris-1.aaaaaaaalvbkaoybngg572c4ybw47avoyv2vk4raeus2bg4hyrbfuq4hmcuq\",\n",
      "                \"ocid1.image.oc1.eu-paris-1.aaaaaaaalvbkaoybngg572c4ybw47avoyv2vk4raeus2bg4hyrbfuq4hmcuq\",\n",
      "                \"ocid1.image.oc1.eu-paris-1.aaaaaaaalvbkaoybngg572c4ybw47avoyv2vk4raeus2bg4hyrbfuq4hmcuq\",\n",
      "                \"ocid1.image.oc1.eu-paris-1.aaaaaaaalvbkaoybngg572c4ybw47avoyv2vk4raeus2bg4hyrbfuq4hmcuq\",\n",
      "                \"ocid1.image.oc1.eu-paris-1.aaaaaaaalvbkaoybngg572c4ybw47avoyv2vk4raeus2bg4hyrbfuq4hmcuq\",\n",
      "                \"ocid1.image.oc1.eu-paris-1.aaaaaaaalvbkaoybngg572c4ybw47avoyv2vk4raeus2bg4hyrbfuq4hmcuq\",\n",
      "                \"ocid1.image.oc1.eu-paris-1.aaaaaaaalvbkaoybngg572c4ybw47avoyv2vk4raeus2bg4hyrbfuq4hmcuq\",\n",
      "                \"ocid1.image.oc1.eu-paris-1.aaaaaaaalvbkaoybngg572c4ybw47avoyv2vk4raeus2bg4hyrbfuq4hmcuq\",\n",
      "                \"ocid1.image.oc1.eu-paris-1.aaaaaaaalvbkaoybngg572c4ybw47avoyv2vk4raeus2bg4hyrbfuq4hmcuq\",\n",
      "                \"ocid1.image.oc1.eu-paris-1.aaaaaaaalvbkaoybngg572c4ybw47avoyv2vk4raeus2bg4hyrbfuq4hmcuq\",\n",
      "                \"ocid1.image.oc1.eu-paris-1.aaaaaaaalvbkaoybngg572c4ybw47avoyv2vk4raeus2bg4hyrbfuq4hmcuq\",\n",
      "                \"ocid1.image.oc1.eu-paris-1.aaaaaaaalvbkaoybngg572c4ybw47avoyv2vk4raeus2bg4hyrbfuq4hmcuq\",\n",
      "                \"ocid1.image.oc1.eu-paris-1.aaaaaaaalvbkaoybngg572c4ybw47avoyv2vk4raeus2bg4hyrbfuq4hmcuq\",\n",
      "                \"ocid1.image.oc1.eu-paris-1.aaaaaaaalvbkaoybngg572c4ybw47avoyv2vk4raeus2bg4hyrbfuq4hmcuq\",\n",
      "                \"ocid1.image.oc1.eu-paris-1.aaaaaaaalvbkaoybngg572c4ybw47avoyv2vk4raeus2bg4hyrbfuq4hmcuq\",\n",
      "                \"ocid1.image.oc1.eu-paris-1.aaaaaaaalvbkaoybngg572c4ybw47avoyv2vk4raeus2bg4hyrbfuq4hmcuq\",\n",
      "                \"ocid1.image.oc1.eu-paris-1.aaaaaaaalvbkaoybngg572c4ybw47avoyv2vk4raeus2bg4hyrbfuq4hmcuq\",\n",
      "                \"ocid1.image.oc1.eu-paris-1.aaaaaaaalvbkaoybngg572c4ybw47avoyv2vk4raeus2bg4hyrbfuq4hmcuq\",\n",
      "                \"ocid1.image.oc1.eu-paris-1.aaaaaaaalvbkaoybngg572c4ybw47avoyv2vk4raeus2bg4hyrbfuq4hmcuq\",\n",
      "                \"ocid1.image.oc1.eu-paris-1.aaaaaaaalvbkaoybngg572c4ybw47avoyv2vk4raeus2bg4hyrbfuq4hmcuq\",\n",
      "                \"ocid1.image.oc1.eu-paris-1.aaaaaaaalvbkaoybngg572c4ybw47avoyv2vk4raeus2bg4hyrbfuq4hmcuq\",\n",
      "                \"ocid1.image.oc1.eu-paris-1.aaaaaaaalvbkaoybngg572c4ybw47avoyv2vk4raeus2bg4hyrbfuq4hmcuq\",\n",
      "                \"ocid1.image.oc1.eu-paris-1.aaaaaaaalvbkaoybngg572c4ybw47avoyv2vk4raeus2bg4hyrbfuq4hmcuq\",\n",
      "                \"ocid1.image.oc1.eu-paris-1.aaaaaaaalvbkaoybngg572c4ybw47avoyv2vk4raeus2bg4hyrbfuq4hmcuq\",\n",
      "                \"ocid1.image.oc1.eu-paris-1.aaaaaaaalvbkaoybngg572c4ybw47avoyv2vk4raeus2bg4hyrbfuq4hmcuq\",\n",
      "                \"ocid1.image.oc1.eu-paris-1.aaaaaaaalvbkaoybngg572c4ybw47avoyv2vk4raeus2bg4hyrbfuq4hmcuq\",\n",
      "                \"ocid1.image.oc1.eu-paris-1.aaaaaaaalvbkaoybngg572c4ybw47avoyv2vk4raeus2bg4hyrbfuq4hmcuq\",\n",
      "                \"ocid1.image.oc1.eu-paris-1.aaaaaaaalvbkaoybngg572c4ybw47avoyv2vk4raeus2bg4hyrbfuq4hmcuq\",\n",
      "                \"ocid1.image.oc1.eu-paris-1.aaaaaaaalvbkaoybngg572c4ybw47avoyv2vk4raeus2bg4hyrbfuq4hmcuq\",\n",
      "                \"ocid1.image.oc1.eu-paris-1.aaaaaaaalvbkaoybngg572c4ybw47avoyv2vk4raeus2bg4hyrbfuq4hmcuq\",\n",
      "                \"ocid1.image.oc1.eu-paris-1.aaaaaaaalvbkaoybngg572c4ybw47avoyv2vk4raeus2bg4hyrbfuq4hmcuq\",\n",
      "                \"ocid1.image.oc1.eu-paris-1.aaaaaaaalvbkaoybngg572c4ybw47avoyv2vk4raeus2bg4hyrbfuq4hmcuq\",\n",
      "                \"ocid1.image.oc1.eu-paris-1.aaaaaaaalvbkaoybngg572c4ybw47avoyv2vk4raeus2bg4hyrbfuq4hmcuq\",\n",
      "                \"ocid1.image.oc1.eu-paris-1.aaaaaaaalvbkaoybngg572c4ybw47avoyv2vk4raeus2bg4hyrbfuq4hmcuq\"\n",
      "            ]\n",
      "        },\n",
      "        {\n",
      "            \"name\": \"shape\",\n",
      "            \"datatype\": \"String\",\n",
      "            \"bit_settings\": \"\",\n",
      "            \"values\": [\n",
      "                \"VM.DenseIO.E4.Flex\",\n",
      "                \"VM.DenseIO.E5.Flex\",\n",
      "                \"VM.DenseIO1.16\",\n",
      "                \"VM.DenseIO1.4\",\n",
      "                \"VM.DenseIO1.8\",\n",
      "                \"VM.DenseIO2.16\",\n",
      "                \"VM.DenseIO2.24\",\n",
      "                \"VM.DenseIO2.8\",\n",
      "                \"VM.GPU.A10.1\",\n",
      "                \"VM.GPU.A10.2\",\n",
      "                \"VM.GPU.GU1.1\",\n",
      "                \"VM.GPU.GU1.2\",\n",
      "                \"VM.GPU2.1\",\n",
      "                \"VM.GPU3.1\",\n",
      "                \"VM.GPU3.2\",\n",
      "                \"VM.GPU3.4\",\n",
      "                \"VM.Optimized3.Flex\",\n",
      "                \"VM.Standard.AMD.Generic\",\n",
      "                \"VM.Standard.B1.1\",\n",
      "                \"VM.Standard.B1.16\",\n",
      "                \"VM.Standard.B1.2\",\n",
      "                \"VM.Standard.B1.4\",\n",
      "                \"VM.Standard.B1.8\",\n",
      "                \"VM.Standard.E2.1\",\n",
      "                \"VM.Standard.E2.1.Micro\",\n",
      "                \"VM.Standard.E2.2\",\n",
      "                \"VM.Standard.E2.4\",\n",
      "                \"VM.Standard.E2.8\",\n",
      "                \"VM.Standard.E3.Flex\",\n",
      "                \"VM.Standard.E4.Flex\",\n",
      "                \"VM.Standard.E5.Flex\",\n",
      "                \"VM.Standard.Intel.Generic\",\n",
      "                \"VM.Standard.x86.Generic\",\n",
      "                \"VM.Standard1.1\",\n",
      "                \"VM.Standard1.16\",\n",
      "                \"VM.Standard1.2\",\n",
      "                \"VM.Standard1.4\",\n",
      "                \"VM.Standard1.8\",\n",
      "                \"VM.Standard2.1\",\n",
      "                \"VM.Standard2.16\",\n",
      "                \"VM.Standard2.2\",\n",
      "                \"VM.Standard2.24\",\n",
      "                \"VM.Standard2.4\",\n",
      "                \"VM.Standard2.8\",\n",
      "                \"VM.Standard2.Flex\",\n",
      "                \"VM.Standard3.Flex\",\n",
      "                \"BM.Standard.E2.64\",\n",
      "                \"BM.Standard.E3.128\",\n",
      "                \"BM.GPU4.8\",\n",
      "                \"BM.Standard.E4.128\",\n",
      "                \"BM.GPU.A100-v2.8\",\n",
      "                \"BM.DenseIO.E4.128\",\n",
      "                \"BM.DenseIO.E5.128\",\n",
      "                \"BM.Standard.E5.192\",\n",
      "                \"BM.GPU.H100.8\",\n",
      "                \"BM.Standard1.36\",\n",
      "                \"BM.HighIO1.36\",\n",
      "                \"BM.DenseIO1.36\",\n",
      "                \"BM.Standard.B1.44\",\n",
      "                \"BM.GPU2.2\",\n",
      "                \"BM.HPC2.36\",\n",
      "                \"BM.Standard2.52\",\n",
      "                \"BM.GPU3.8\",\n",
      "                \"BM.DenseIO2.52\",\n",
      "                \"BM.GPU.T1.2\",\n",
      "                \"BM.Optimized3.36\",\n",
      "                \"BM.Standard3.64\",\n",
      "                \"BM.GPU.A10.4\",\n",
      "                \"VM.DenseIO.E4.Flex\",\n",
      "                \"VM.DenseIO.E5.Flex\",\n",
      "                \"VM.DenseIO1.16\",\n",
      "                \"VM.DenseIO1.4\",\n",
      "                \"VM.DenseIO1.8\",\n",
      "                \"VM.DenseIO2.16\",\n",
      "                \"VM.DenseIO2.24\",\n",
      "                \"VM.DenseIO2.8\",\n",
      "                \"VM.GPU.A10.1\",\n",
      "                \"VM.GPU.A10.2\",\n",
      "                \"VM.GPU.GU1.1\",\n",
      "                \"VM.GPU.GU1.2\",\n",
      "                \"VM.GPU2.1\",\n",
      "                \"VM.GPU3.1\",\n",
      "                \"VM.GPU3.2\",\n",
      "                \"VM.GPU3.4\",\n",
      "                \"VM.Optimized3.Flex\",\n",
      "                \"VM.Standard.AMD.Generic\",\n",
      "                \"VM.Standard.E2.1\",\n",
      "                \"VM.Standard.E2.1.Micro\",\n",
      "                \"VM.Standard.E2.2\",\n",
      "                \"VM.Standard.E2.4\",\n",
      "                \"VM.Standard.E2.8\",\n",
      "                \"VM.Standard.E3.Flex\",\n",
      "                \"VM.Standard.E4.Flex\",\n",
      "                \"VM.Standard.E5.Flex\",\n",
      "                \"VM.Standard.Intel.Generic\",\n",
      "                \"VM.Standard.x86.Generic\",\n",
      "                \"VM.Standard1.1\",\n",
      "                \"VM.Standard1.16\",\n",
      "                \"VM.Standard1.2\",\n",
      "                \"VM.Standard1.4\",\n",
      "                \"VM.Standard1.8\",\n",
      "                \"VM.Standard2.1\",\n",
      "                \"VM.Standard2.16\",\n",
      "                \"VM.Standard2.2\",\n",
      "                \"VM.Standard2.24\",\n",
      "                \"VM.Standard2.4\",\n",
      "                \"VM.Standard2.8\",\n",
      "                \"VM.Standard2.Flex\",\n",
      "                \"VM.Standard3.Flex\",\n",
      "                \"BM.Standard.E2.64\",\n",
      "                \"BM.Standard.E3.128\",\n",
      "                \"BM.GPU4.8\",\n",
      "                \"BM.Standard.E4.128\",\n",
      "                \"BM.GPU.A100-v2.8\",\n",
      "                \"BM.DenseIO.E4.128\",\n",
      "                \"BM.DenseIO.E5.128\",\n",
      "                \"BM.Standard.E5.192\",\n",
      "                \"BM.Standard1.36\",\n",
      "                \"BM.HighIO1.36\",\n",
      "                \"BM.DenseIO1.36\",\n",
      "                \"BM.GPU2.2\",\n",
      "                \"BM.HPC2.36\",\n",
      "                \"BM.Standard2.52\",\n",
      "                \"BM.GPU3.8\",\n",
      "                \"BM.DenseIO2.52\",\n",
      "                \"BM.Optimized3.36\",\n",
      "                \"BM.Standard3.64\",\n",
      "                \"BM.GPU.A10.4\"\n",
      "            ]\n",
      "        }\n",
      "    ]\n",
      "}\n"
     ]
    },
    {
     "data": {
      "application/vnd.dataresource+json": {
       "data": [
        {
         "imageId": "ocid1.image.oc1.eu-paris-1.aaaaaaaaf7irdvozuzmwyvbfacdivomj52x65vr6tlg62i6er323sevazdqq",
         "shape": "VM.DenseIO.E4.Flex"
        },
        {
         "imageId": "ocid1.image.oc1.eu-paris-1.aaaaaaaaf7irdvozuzmwyvbfacdivomj52x65vr6tlg62i6er323sevazdqq",
         "shape": "VM.DenseIO.E5.Flex"
        },
        {
         "imageId": "ocid1.image.oc1.eu-paris-1.aaaaaaaaf7irdvozuzmwyvbfacdivomj52x65vr6tlg62i6er323sevazdqq",
         "shape": "VM.DenseIO1.16"
        },
        {
         "imageId": "ocid1.image.oc1.eu-paris-1.aaaaaaaaf7irdvozuzmwyvbfacdivomj52x65vr6tlg62i6er323sevazdqq",
         "shape": "VM.DenseIO1.4"
        },
        {
         "imageId": "ocid1.image.oc1.eu-paris-1.aaaaaaaaf7irdvozuzmwyvbfacdivomj52x65vr6tlg62i6er323sevazdqq",
         "shape": "VM.DenseIO1.8"
        },
        {
         "imageId": "ocid1.image.oc1.eu-paris-1.aaaaaaaaf7irdvozuzmwyvbfacdivomj52x65vr6tlg62i6er323sevazdqq",
         "shape": "VM.DenseIO2.16"
        },
        {
         "imageId": "ocid1.image.oc1.eu-paris-1.aaaaaaaaf7irdvozuzmwyvbfacdivomj52x65vr6tlg62i6er323sevazdqq",
         "shape": "VM.DenseIO2.24"
        },
        {
         "imageId": "ocid1.image.oc1.eu-paris-1.aaaaaaaaf7irdvozuzmwyvbfacdivomj52x65vr6tlg62i6er323sevazdqq",
         "shape": "VM.DenseIO2.8"
        },
        {
         "imageId": "ocid1.image.oc1.eu-paris-1.aaaaaaaaf7irdvozuzmwyvbfacdivomj52x65vr6tlg62i6er323sevazdqq",
         "shape": "VM.GPU.A10.1"
        },
        {
         "imageId": "ocid1.image.oc1.eu-paris-1.aaaaaaaaf7irdvozuzmwyvbfacdivomj52x65vr6tlg62i6er323sevazdqq",
         "shape": "VM.GPU.A10.2"
        },
        {
         "imageId": "ocid1.image.oc1.eu-paris-1.aaaaaaaaf7irdvozuzmwyvbfacdivomj52x65vr6tlg62i6er323sevazdqq",
         "shape": "VM.GPU.GU1.1"
        },
        {
         "imageId": "ocid1.image.oc1.eu-paris-1.aaaaaaaaf7irdvozuzmwyvbfacdivomj52x65vr6tlg62i6er323sevazdqq",
         "shape": "VM.GPU.GU1.2"
        },
        {
         "imageId": "ocid1.image.oc1.eu-paris-1.aaaaaaaaf7irdvozuzmwyvbfacdivomj52x65vr6tlg62i6er323sevazdqq",
         "shape": "VM.GPU2.1"
        },
        {
         "imageId": "ocid1.image.oc1.eu-paris-1.aaaaaaaaf7irdvozuzmwyvbfacdivomj52x65vr6tlg62i6er323sevazdqq",
         "shape": "VM.GPU3.1"
        },
        {
         "imageId": "ocid1.image.oc1.eu-paris-1.aaaaaaaaf7irdvozuzmwyvbfacdivomj52x65vr6tlg62i6er323sevazdqq",
         "shape": "VM.GPU3.2"
        },
        {
         "imageId": "ocid1.image.oc1.eu-paris-1.aaaaaaaaf7irdvozuzmwyvbfacdivomj52x65vr6tlg62i6er323sevazdqq",
         "shape": "VM.GPU3.4"
        },
        {
         "imageId": "ocid1.image.oc1.eu-paris-1.aaaaaaaaf7irdvozuzmwyvbfacdivomj52x65vr6tlg62i6er323sevazdqq",
         "shape": "VM.Optimized3.Flex"
        },
        {
         "imageId": "ocid1.image.oc1.eu-paris-1.aaaaaaaaf7irdvozuzmwyvbfacdivomj52x65vr6tlg62i6er323sevazdqq",
         "shape": "VM.Standard.AMD.Generic"
        },
        {
         "imageId": "ocid1.image.oc1.eu-paris-1.aaaaaaaaf7irdvozuzmwyvbfacdivomj52x65vr6tlg62i6er323sevazdqq",
         "shape": "VM.Standard.B1.1"
        },
        {
         "imageId": "ocid1.image.oc1.eu-paris-1.aaaaaaaaf7irdvozuzmwyvbfacdivomj52x65vr6tlg62i6er323sevazdqq",
         "shape": "VM.Standard.B1.16"
        },
        {
         "imageId": "ocid1.image.oc1.eu-paris-1.aaaaaaaaf7irdvozuzmwyvbfacdivomj52x65vr6tlg62i6er323sevazdqq",
         "shape": "VM.Standard.B1.2"
        },
        {
         "imageId": "ocid1.image.oc1.eu-paris-1.aaaaaaaaf7irdvozuzmwyvbfacdivomj52x65vr6tlg62i6er323sevazdqq",
         "shape": "VM.Standard.B1.4"
        },
        {
         "imageId": "ocid1.image.oc1.eu-paris-1.aaaaaaaaf7irdvozuzmwyvbfacdivomj52x65vr6tlg62i6er323sevazdqq",
         "shape": "VM.Standard.B1.8"
        },
        {
         "imageId": "ocid1.image.oc1.eu-paris-1.aaaaaaaaf7irdvozuzmwyvbfacdivomj52x65vr6tlg62i6er323sevazdqq",
         "shape": "VM.Standard.E2.1"
        },
        {
         "imageId": "ocid1.image.oc1.eu-paris-1.aaaaaaaaf7irdvozuzmwyvbfacdivomj52x65vr6tlg62i6er323sevazdqq",
         "shape": "VM.Standard.E2.1.Micro"
        },
        {
         "imageId": "ocid1.image.oc1.eu-paris-1.aaaaaaaaf7irdvozuzmwyvbfacdivomj52x65vr6tlg62i6er323sevazdqq",
         "shape": "VM.Standard.E2.2"
        },
        {
         "imageId": "ocid1.image.oc1.eu-paris-1.aaaaaaaaf7irdvozuzmwyvbfacdivomj52x65vr6tlg62i6er323sevazdqq",
         "shape": "VM.Standard.E2.4"
        },
        {
         "imageId": "ocid1.image.oc1.eu-paris-1.aaaaaaaaf7irdvozuzmwyvbfacdivomj52x65vr6tlg62i6er323sevazdqq",
         "shape": "VM.Standard.E2.8"
        },
        {
         "imageId": "ocid1.image.oc1.eu-paris-1.aaaaaaaaf7irdvozuzmwyvbfacdivomj52x65vr6tlg62i6er323sevazdqq",
         "shape": "VM.Standard.E3.Flex"
        },
        {
         "imageId": "ocid1.image.oc1.eu-paris-1.aaaaaaaaf7irdvozuzmwyvbfacdivomj52x65vr6tlg62i6er323sevazdqq",
         "shape": "VM.Standard.E4.Flex"
        },
        {
         "imageId": "ocid1.image.oc1.eu-paris-1.aaaaaaaaf7irdvozuzmwyvbfacdivomj52x65vr6tlg62i6er323sevazdqq",
         "shape": "VM.Standard.E5.Flex"
        },
        {
         "imageId": "ocid1.image.oc1.eu-paris-1.aaaaaaaaf7irdvozuzmwyvbfacdivomj52x65vr6tlg62i6er323sevazdqq",
         "shape": "VM.Standard.Intel.Generic"
        },
        {
         "imageId": "ocid1.image.oc1.eu-paris-1.aaaaaaaaf7irdvozuzmwyvbfacdivomj52x65vr6tlg62i6er323sevazdqq",
         "shape": "VM.Standard.x86.Generic"
        },
        {
         "imageId": "ocid1.image.oc1.eu-paris-1.aaaaaaaaf7irdvozuzmwyvbfacdivomj52x65vr6tlg62i6er323sevazdqq",
         "shape": "VM.Standard1.1"
        },
        {
         "imageId": "ocid1.image.oc1.eu-paris-1.aaaaaaaaf7irdvozuzmwyvbfacdivomj52x65vr6tlg62i6er323sevazdqq",
         "shape": "VM.Standard1.16"
        },
        {
         "imageId": "ocid1.image.oc1.eu-paris-1.aaaaaaaaf7irdvozuzmwyvbfacdivomj52x65vr6tlg62i6er323sevazdqq",
         "shape": "VM.Standard1.2"
        },
        {
         "imageId": "ocid1.image.oc1.eu-paris-1.aaaaaaaaf7irdvozuzmwyvbfacdivomj52x65vr6tlg62i6er323sevazdqq",
         "shape": "VM.Standard1.4"
        },
        {
         "imageId": "ocid1.image.oc1.eu-paris-1.aaaaaaaaf7irdvozuzmwyvbfacdivomj52x65vr6tlg62i6er323sevazdqq",
         "shape": "VM.Standard1.8"
        },
        {
         "imageId": "ocid1.image.oc1.eu-paris-1.aaaaaaaaf7irdvozuzmwyvbfacdivomj52x65vr6tlg62i6er323sevazdqq",
         "shape": "VM.Standard2.1"
        },
        {
         "imageId": "ocid1.image.oc1.eu-paris-1.aaaaaaaaf7irdvozuzmwyvbfacdivomj52x65vr6tlg62i6er323sevazdqq",
         "shape": "VM.Standard2.16"
        },
        {
         "imageId": "ocid1.image.oc1.eu-paris-1.aaaaaaaaf7irdvozuzmwyvbfacdivomj52x65vr6tlg62i6er323sevazdqq",
         "shape": "VM.Standard2.2"
        },
        {
         "imageId": "ocid1.image.oc1.eu-paris-1.aaaaaaaaf7irdvozuzmwyvbfacdivomj52x65vr6tlg62i6er323sevazdqq",
         "shape": "VM.Standard2.24"
        },
        {
         "imageId": "ocid1.image.oc1.eu-paris-1.aaaaaaaaf7irdvozuzmwyvbfacdivomj52x65vr6tlg62i6er323sevazdqq",
         "shape": "VM.Standard2.4"
        },
        {
         "imageId": "ocid1.image.oc1.eu-paris-1.aaaaaaaaf7irdvozuzmwyvbfacdivomj52x65vr6tlg62i6er323sevazdqq",
         "shape": "VM.Standard2.8"
        },
        {
         "imageId": "ocid1.image.oc1.eu-paris-1.aaaaaaaaf7irdvozuzmwyvbfacdivomj52x65vr6tlg62i6er323sevazdqq",
         "shape": "VM.Standard2.Flex"
        },
        {
         "imageId": "ocid1.image.oc1.eu-paris-1.aaaaaaaaf7irdvozuzmwyvbfacdivomj52x65vr6tlg62i6er323sevazdqq",
         "shape": "VM.Standard3.Flex"
        },
        {
         "imageId": "ocid1.image.oc1.eu-paris-1.aaaaaaaaf7irdvozuzmwyvbfacdivomj52x65vr6tlg62i6er323sevazdqq",
         "shape": "BM.Standard.E2.64"
        },
        {
         "imageId": "ocid1.image.oc1.eu-paris-1.aaaaaaaaf7irdvozuzmwyvbfacdivomj52x65vr6tlg62i6er323sevazdqq",
         "shape": "BM.Standard.E3.128"
        },
        {
         "imageId": "ocid1.image.oc1.eu-paris-1.aaaaaaaaf7irdvozuzmwyvbfacdivomj52x65vr6tlg62i6er323sevazdqq",
         "shape": "BM.GPU4.8"
        },
        {
         "imageId": "ocid1.image.oc1.eu-paris-1.aaaaaaaaf7irdvozuzmwyvbfacdivomj52x65vr6tlg62i6er323sevazdqq",
         "shape": "BM.Standard.E4.128"
        }
       ],
       "schema": {
        "fields": [
         {
          "name": "imageId",
          "type": "string"
         },
         {
          "name": "shape",
          "type": "string"
         }
        ]
       }
      },
      "text/html": [
       "<table><thead><tr><th>imageId</th><th>shape</th></tr></thead><tbody><tr><td>ocid1.image.oc1.eu-paris-1.aaaaaaaaf7irdvozuzmwyvbfacdivomj52x65vr6tlg62i6er323sevazdqq</td><td>VM.DenseIO.E4.Flex</td></tr><tr><td>ocid1.image.oc1.eu-paris-1.aaaaaaaaf7irdvozuzmwyvbfacdivomj52x65vr6tlg62i6er323sevazdqq</td><td>VM.DenseIO.E5.Flex</td></tr><tr><td>ocid1.image.oc1.eu-paris-1.aaaaaaaaf7irdvozuzmwyvbfacdivomj52x65vr6tlg62i6er323sevazdqq</td><td>VM.DenseIO1.16</td></tr><tr><td>ocid1.image.oc1.eu-paris-1.aaaaaaaaf7irdvozuzmwyvbfacdivomj52x65vr6tlg62i6er323sevazdqq</td><td>VM.DenseIO1.4</td></tr><tr><td>ocid1.image.oc1.eu-paris-1.aaaaaaaaf7irdvozuzmwyvbfacdivomj52x65vr6tlg62i6er323sevazdqq</td><td>VM.DenseIO1.8</td></tr><tr><td>ocid1.image.oc1.eu-paris-1.aaaaaaaaf7irdvozuzmwyvbfacdivomj52x65vr6tlg62i6er323sevazdqq</td><td>VM.DenseIO2.16</td></tr><tr><td>ocid1.image.oc1.eu-paris-1.aaaaaaaaf7irdvozuzmwyvbfacdivomj52x65vr6tlg62i6er323sevazdqq</td><td>VM.DenseIO2.24</td></tr><tr><td>ocid1.image.oc1.eu-paris-1.aaaaaaaaf7irdvozuzmwyvbfacdivomj52x65vr6tlg62i6er323sevazdqq</td><td>VM.DenseIO2.8</td></tr><tr><td>ocid1.image.oc1.eu-paris-1.aaaaaaaaf7irdvozuzmwyvbfacdivomj52x65vr6tlg62i6er323sevazdqq</td><td>VM.GPU.A10.1</td></tr><tr><td>ocid1.image.oc1.eu-paris-1.aaaaaaaaf7irdvozuzmwyvbfacdivomj52x65vr6tlg62i6er323sevazdqq</td><td>VM.GPU.A10.2</td></tr><tr><td>ocid1.image.oc1.eu-paris-1.aaaaaaaaf7irdvozuzmwyvbfacdivomj52x65vr6tlg62i6er323sevazdqq</td><td>VM.GPU.GU1.1</td></tr><tr><td>ocid1.image.oc1.eu-paris-1.aaaaaaaaf7irdvozuzmwyvbfacdivomj52x65vr6tlg62i6er323sevazdqq</td><td>VM.GPU.GU1.2</td></tr><tr><td>ocid1.image.oc1.eu-paris-1.aaaaaaaaf7irdvozuzmwyvbfacdivomj52x65vr6tlg62i6er323sevazdqq</td><td>VM.GPU2.1</td></tr><tr><td>ocid1.image.oc1.eu-paris-1.aaaaaaaaf7irdvozuzmwyvbfacdivomj52x65vr6tlg62i6er323sevazdqq</td><td>VM.GPU3.1</td></tr><tr><td>ocid1.image.oc1.eu-paris-1.aaaaaaaaf7irdvozuzmwyvbfacdivomj52x65vr6tlg62i6er323sevazdqq</td><td>VM.GPU3.2</td></tr><tr><td>ocid1.image.oc1.eu-paris-1.aaaaaaaaf7irdvozuzmwyvbfacdivomj52x65vr6tlg62i6er323sevazdqq</td><td>VM.GPU3.4</td></tr><tr><td>ocid1.image.oc1.eu-paris-1.aaaaaaaaf7irdvozuzmwyvbfacdivomj52x65vr6tlg62i6er323sevazdqq</td><td>VM.Optimized3.Flex</td></tr><tr><td>ocid1.image.oc1.eu-paris-1.aaaaaaaaf7irdvozuzmwyvbfacdivomj52x65vr6tlg62i6er323sevazdqq</td><td>VM.Standard.AMD.Generic</td></tr><tr><td>ocid1.image.oc1.eu-paris-1.aaaaaaaaf7irdvozuzmwyvbfacdivomj52x65vr6tlg62i6er323sevazdqq</td><td>VM.Standard.B1.1</td></tr><tr><td>ocid1.image.oc1.eu-paris-1.aaaaaaaaf7irdvozuzmwyvbfacdivomj52x65vr6tlg62i6er323sevazdqq</td><td>VM.Standard.B1.16</td></tr><tr><td>ocid1.image.oc1.eu-paris-1.aaaaaaaaf7irdvozuzmwyvbfacdivomj52x65vr6tlg62i6er323sevazdqq</td><td>VM.Standard.B1.2</td></tr><tr><td>ocid1.image.oc1.eu-paris-1.aaaaaaaaf7irdvozuzmwyvbfacdivomj52x65vr6tlg62i6er323sevazdqq</td><td>VM.Standard.B1.4</td></tr><tr><td>ocid1.image.oc1.eu-paris-1.aaaaaaaaf7irdvozuzmwyvbfacdivomj52x65vr6tlg62i6er323sevazdqq</td><td>VM.Standard.B1.8</td></tr><tr><td>ocid1.image.oc1.eu-paris-1.aaaaaaaaf7irdvozuzmwyvbfacdivomj52x65vr6tlg62i6er323sevazdqq</td><td>VM.Standard.E2.1</td></tr><tr><td>ocid1.image.oc1.eu-paris-1.aaaaaaaaf7irdvozuzmwyvbfacdivomj52x65vr6tlg62i6er323sevazdqq</td><td>VM.Standard.E2.1.Micro</td></tr><tr><td>ocid1.image.oc1.eu-paris-1.aaaaaaaaf7irdvozuzmwyvbfacdivomj52x65vr6tlg62i6er323sevazdqq</td><td>VM.Standard.E2.2</td></tr><tr><td>ocid1.image.oc1.eu-paris-1.aaaaaaaaf7irdvozuzmwyvbfacdivomj52x65vr6tlg62i6er323sevazdqq</td><td>VM.Standard.E2.4</td></tr><tr><td>ocid1.image.oc1.eu-paris-1.aaaaaaaaf7irdvozuzmwyvbfacdivomj52x65vr6tlg62i6er323sevazdqq</td><td>VM.Standard.E2.8</td></tr><tr><td>ocid1.image.oc1.eu-paris-1.aaaaaaaaf7irdvozuzmwyvbfacdivomj52x65vr6tlg62i6er323sevazdqq</td><td>VM.Standard.E3.Flex</td></tr><tr><td>ocid1.image.oc1.eu-paris-1.aaaaaaaaf7irdvozuzmwyvbfacdivomj52x65vr6tlg62i6er323sevazdqq</td><td>VM.Standard.E4.Flex</td></tr><tr><td>ocid1.image.oc1.eu-paris-1.aaaaaaaaf7irdvozuzmwyvbfacdivomj52x65vr6tlg62i6er323sevazdqq</td><td>VM.Standard.E5.Flex</td></tr><tr><td>ocid1.image.oc1.eu-paris-1.aaaaaaaaf7irdvozuzmwyvbfacdivomj52x65vr6tlg62i6er323sevazdqq</td><td>VM.Standard.Intel.Generic</td></tr><tr><td>ocid1.image.oc1.eu-paris-1.aaaaaaaaf7irdvozuzmwyvbfacdivomj52x65vr6tlg62i6er323sevazdqq</td><td>VM.Standard.x86.Generic</td></tr><tr><td>ocid1.image.oc1.eu-paris-1.aaaaaaaaf7irdvozuzmwyvbfacdivomj52x65vr6tlg62i6er323sevazdqq</td><td>VM.Standard1.1</td></tr><tr><td>ocid1.image.oc1.eu-paris-1.aaaaaaaaf7irdvozuzmwyvbfacdivomj52x65vr6tlg62i6er323sevazdqq</td><td>VM.Standard1.16</td></tr><tr><td>ocid1.image.oc1.eu-paris-1.aaaaaaaaf7irdvozuzmwyvbfacdivomj52x65vr6tlg62i6er323sevazdqq</td><td>VM.Standard1.2</td></tr><tr><td>ocid1.image.oc1.eu-paris-1.aaaaaaaaf7irdvozuzmwyvbfacdivomj52x65vr6tlg62i6er323sevazdqq</td><td>VM.Standard1.4</td></tr><tr><td>ocid1.image.oc1.eu-paris-1.aaaaaaaaf7irdvozuzmwyvbfacdivomj52x65vr6tlg62i6er323sevazdqq</td><td>VM.Standard1.8</td></tr><tr><td>ocid1.image.oc1.eu-paris-1.aaaaaaaaf7irdvozuzmwyvbfacdivomj52x65vr6tlg62i6er323sevazdqq</td><td>VM.Standard2.1</td></tr><tr><td>ocid1.image.oc1.eu-paris-1.aaaaaaaaf7irdvozuzmwyvbfacdivomj52x65vr6tlg62i6er323sevazdqq</td><td>VM.Standard2.16</td></tr><tr><td>ocid1.image.oc1.eu-paris-1.aaaaaaaaf7irdvozuzmwyvbfacdivomj52x65vr6tlg62i6er323sevazdqq</td><td>VM.Standard2.2</td></tr><tr><td>ocid1.image.oc1.eu-paris-1.aaaaaaaaf7irdvozuzmwyvbfacdivomj52x65vr6tlg62i6er323sevazdqq</td><td>VM.Standard2.24</td></tr><tr><td>ocid1.image.oc1.eu-paris-1.aaaaaaaaf7irdvozuzmwyvbfacdivomj52x65vr6tlg62i6er323sevazdqq</td><td>VM.Standard2.4</td></tr><tr><td>ocid1.image.oc1.eu-paris-1.aaaaaaaaf7irdvozuzmwyvbfacdivomj52x65vr6tlg62i6er323sevazdqq</td><td>VM.Standard2.8</td></tr><tr><td>ocid1.image.oc1.eu-paris-1.aaaaaaaaf7irdvozuzmwyvbfacdivomj52x65vr6tlg62i6er323sevazdqq</td><td>VM.Standard2.Flex</td></tr><tr><td>ocid1.image.oc1.eu-paris-1.aaaaaaaaf7irdvozuzmwyvbfacdivomj52x65vr6tlg62i6er323sevazdqq</td><td>VM.Standard3.Flex</td></tr><tr><td>ocid1.image.oc1.eu-paris-1.aaaaaaaaf7irdvozuzmwyvbfacdivomj52x65vr6tlg62i6er323sevazdqq</td><td>BM.Standard.E2.64</td></tr><tr><td>ocid1.image.oc1.eu-paris-1.aaaaaaaaf7irdvozuzmwyvbfacdivomj52x65vr6tlg62i6er323sevazdqq</td><td>BM.Standard.E3.128</td></tr><tr><td>ocid1.image.oc1.eu-paris-1.aaaaaaaaf7irdvozuzmwyvbfacdivomj52x65vr6tlg62i6er323sevazdqq</td><td>BM.GPU4.8</td></tr><tr><td>ocid1.image.oc1.eu-paris-1.aaaaaaaaf7irdvozuzmwyvbfacdivomj52x65vr6tlg62i6er323sevazdqq</td><td>BM.Standard.E4.128</td></tr></tbody></table>"
      ]
     },
     "execution_count": 8,
     "metadata": {},
     "output_type": "execute_result"
    }
   ],
   "source": [
    "//pl.Series('imageShapes', df_compatibilityListExample1)\n",
    "// pl.concat([df_compatibilityListExample2, df_compatibilityListExample1], { how: \"vertical\", rechunk: false })\n",
    "const resultatVstack= df_compatibilityListExample2.vstack(df_compatibilityListExample1)\n",
    "\n",
    "// df_compatibilityListExample1.vstack(df_compatibilityListExample2)\n",
    "console.log(JSON.stringify(resultatVstack, null, 4))\n",
    "resultatVstack.select(pl.col('*'))"
   ]
  },
  {
   "cell_type": "code",
   "execution_count": 9,
   "id": "0547374e-a71e-4fd5-8853-2ec7e5a5fe02",
   "metadata": {},
   "outputs": [
    {
     "data": {
      "application/vnd.dataresource+json": {
       "data": [
        {
         "imageId": "ocid1.image.oc1.eu-paris-1.aaaaaaaaf7irdvozuzmwyvbfacdivomj52x65vr6tlg62i6er323sevazdqq",
         "shape": [
          "VM.DenseIO.E4.Flex",
          "VM.DenseIO.E5.Flex",
          "VM.DenseIO1.16",
          "VM.DenseIO1.4",
          "VM.DenseIO1.8",
          "VM.DenseIO2.16",
          "VM.DenseIO2.24",
          "VM.DenseIO2.8",
          "VM.GPU.A10.1",
          "VM.GPU.A10.2",
          "VM.GPU.GU1.1",
          "VM.GPU.GU1.2",
          "VM.GPU2.1",
          "VM.GPU3.1",
          "VM.GPU3.2",
          "VM.GPU3.4",
          "VM.Optimized3.Flex",
          "VM.Standard.AMD.Generic",
          "VM.Standard.B1.1",
          "VM.Standard.B1.16",
          "VM.Standard.B1.2",
          "VM.Standard.B1.4",
          "VM.Standard.B1.8",
          "VM.Standard.E2.1",
          "VM.Standard.E2.1.Micro",
          "VM.Standard.E2.2",
          "VM.Standard.E2.4",
          "VM.Standard.E2.8",
          "VM.Standard.E3.Flex",
          "VM.Standard.E4.Flex",
          "VM.Standard.E5.Flex",
          "VM.Standard.Intel.Generic",
          "VM.Standard.x86.Generic",
          "VM.Standard1.1",
          "VM.Standard1.16",
          "VM.Standard1.2",
          "VM.Standard1.4",
          "VM.Standard1.8",
          "VM.Standard2.1",
          "VM.Standard2.16",
          "VM.Standard2.2",
          "VM.Standard2.24",
          "VM.Standard2.4",
          "VM.Standard2.8",
          "VM.Standard2.Flex",
          "VM.Standard3.Flex",
          "BM.Standard.E2.64",
          "BM.Standard.E3.128",
          "BM.GPU4.8",
          "BM.Standard.E4.128",
          "BM.GPU.A100-v2.8",
          "BM.DenseIO.E4.128",
          "BM.DenseIO.E5.128",
          "BM.Standard.E5.192",
          "BM.GPU.H100.8",
          "BM.Standard1.36",
          "BM.HighIO1.36",
          "BM.DenseIO1.36",
          "BM.Standard.B1.44",
          "BM.GPU2.2",
          "BM.HPC2.36",
          "BM.Standard2.52",
          "BM.GPU3.8",
          "BM.DenseIO2.52",
          "BM.GPU.T1.2",
          "BM.Optimized3.36",
          "BM.Standard3.64",
          "BM.GPU.A10.4"
         ]
        },
        {
         "imageId": "ocid1.image.oc1.eu-paris-1.aaaaaaaalvbkaoybngg572c4ybw47avoyv2vk4raeus2bg4hyrbfuq4hmcuq",
         "shape": [
          "VM.DenseIO.E4.Flex",
          "VM.DenseIO.E5.Flex",
          "VM.DenseIO1.16",
          "VM.DenseIO1.4",
          "VM.DenseIO1.8",
          "VM.DenseIO2.16",
          "VM.DenseIO2.24",
          "VM.DenseIO2.8",
          "VM.GPU.A10.1",
          "VM.GPU.A10.2",
          "VM.GPU.GU1.1",
          "VM.GPU.GU1.2",
          "VM.GPU2.1",
          "VM.GPU3.1",
          "VM.GPU3.2",
          "VM.GPU3.4",
          "VM.Optimized3.Flex",
          "VM.Standard.AMD.Generic",
          "VM.Standard.E2.1",
          "VM.Standard.E2.1.Micro",
          "VM.Standard.E2.2",
          "VM.Standard.E2.4",
          "VM.Standard.E2.8",
          "VM.Standard.E3.Flex",
          "VM.Standard.E4.Flex",
          "VM.Standard.E5.Flex",
          "VM.Standard.Intel.Generic",
          "VM.Standard.x86.Generic",
          "VM.Standard1.1",
          "VM.Standard1.16",
          "VM.Standard1.2",
          "VM.Standard1.4",
          "VM.Standard1.8",
          "VM.Standard2.1",
          "VM.Standard2.16",
          "VM.Standard2.2",
          "VM.Standard2.24",
          "VM.Standard2.4",
          "VM.Standard2.8",
          "VM.Standard2.Flex",
          "VM.Standard3.Flex",
          "BM.Standard.E2.64",
          "BM.Standard.E3.128",
          "BM.GPU4.8",
          "BM.Standard.E4.128",
          "BM.GPU.A100-v2.8",
          "BM.DenseIO.E4.128",
          "BM.DenseIO.E5.128",
          "BM.Standard.E5.192",
          "BM.Standard1.36",
          "BM.HighIO1.36",
          "BM.DenseIO1.36",
          "BM.GPU2.2",
          "BM.HPC2.36",
          "BM.Standard2.52",
          "BM.GPU3.8",
          "BM.DenseIO2.52",
          "BM.Optimized3.36",
          "BM.Standard3.64",
          "BM.GPU.A10.4"
         ]
        }
       ],
       "schema": {
        "fields": [
         {
          "name": "imageId",
          "type": "string"
         },
         {
          "name": "shape",
          "type": "array"
         }
        ]
       }
      },
      "text/html": [
       "<table><thead><tr><th>imageId</th><th>shape</th></tr></thead><tbody><tr><td>ocid1.image.oc1.eu-paris-1.aaaaaaaaf7irdvozuzmwyvbfacdivomj52x65vr6tlg62i6er323sevazdqq</td><td>VM.DenseIO.E4.Flex,VM.DenseIO.E5.Flex,VM.DenseIO1.16,VM.DenseIO1.4,VM.DenseIO1.8,VM.DenseIO2.16,VM.DenseIO2.24,VM.DenseIO2.8,VM.GPU.A10.1,VM.GPU.A10.2,VM.GPU.GU1.1,VM.GPU.GU1.2,VM.GPU2.1,VM.GPU3.1,VM.GPU3.2,VM.GPU3.4,VM.Optimized3.Flex,VM.Standard.AMD.Generic,VM.Standard.B1.1,VM.Standard.B1.16,VM.Standard.B1.2,VM.Standard.B1.4,VM.Standard.B1.8,VM.Standard.E2.1,VM.Standard.E2.1.Micro,VM.Standard.E2.2,VM.Standard.E2.4,VM.Standard.E2.8,VM.Standard.E3.Flex,VM.Standard.E4.Flex,VM.Standard.E5.Flex,VM.Standard.Intel.Generic,VM.Standard.x86.Generic,VM.Standard1.1,VM.Standard1.16,VM.Standard1.2,VM.Standard1.4,VM.Standard1.8,VM.Standard2.1,VM.Standard2.16,VM.Standard2.2,VM.Standard2.24,VM.Standard2.4,VM.Standard2.8,VM.Standard2.Flex,VM.Standard3.Flex,BM.Standard.E2.64,BM.Standard.E3.128,BM.GPU4.8,BM.Standard.E4.128,BM.GPU.A100-v2.8,BM.DenseIO.E4.128,BM.DenseIO.E5.128,BM.Standard.E5.192,BM.GPU.H100.8,BM.Standard1.36,BM.HighIO1.36,BM.DenseIO1.36,BM.Standard.B1.44,BM.GPU2.2,BM.HPC2.36,BM.Standard2.52,BM.GPU3.8,BM.DenseIO2.52,BM.GPU.T1.2,BM.Optimized3.36,BM.Standard3.64,BM.GPU.A10.4</td></tr><tr><td>ocid1.image.oc1.eu-paris-1.aaaaaaaalvbkaoybngg572c4ybw47avoyv2vk4raeus2bg4hyrbfuq4hmcuq</td><td>VM.DenseIO.E4.Flex,VM.DenseIO.E5.Flex,VM.DenseIO1.16,VM.DenseIO1.4,VM.DenseIO1.8,VM.DenseIO2.16,VM.DenseIO2.24,VM.DenseIO2.8,VM.GPU.A10.1,VM.GPU.A10.2,VM.GPU.GU1.1,VM.GPU.GU1.2,VM.GPU2.1,VM.GPU3.1,VM.GPU3.2,VM.GPU3.4,VM.Optimized3.Flex,VM.Standard.AMD.Generic,VM.Standard.E2.1,VM.Standard.E2.1.Micro,VM.Standard.E2.2,VM.Standard.E2.4,VM.Standard.E2.8,VM.Standard.E3.Flex,VM.Standard.E4.Flex,VM.Standard.E5.Flex,VM.Standard.Intel.Generic,VM.Standard.x86.Generic,VM.Standard1.1,VM.Standard1.16,VM.Standard1.2,VM.Standard1.4,VM.Standard1.8,VM.Standard2.1,VM.Standard2.16,VM.Standard2.2,VM.Standard2.24,VM.Standard2.4,VM.Standard2.8,VM.Standard2.Flex,VM.Standard3.Flex,BM.Standard.E2.64,BM.Standard.E3.128,BM.GPU4.8,BM.Standard.E4.128,BM.GPU.A100-v2.8,BM.DenseIO.E4.128,BM.DenseIO.E5.128,BM.Standard.E5.192,BM.Standard1.36,BM.HighIO1.36,BM.DenseIO1.36,BM.GPU2.2,BM.HPC2.36,BM.Standard2.52,BM.GPU3.8,BM.DenseIO2.52,BM.Optimized3.36,BM.Standard3.64,BM.GPU.A10.4</td></tr></tbody></table>"
      ]
     },
     "execution_count": 9,
     "metadata": {},
     "output_type": "execute_result"
    }
   ],
   "source": [
    "const resultatVstack2= df_compatibilityListExample1.select(pl.col(\"imageId\"), pl.col(\"shape\")).vstack(df_compatibilityListExample2.select(pl.col(\"imageId\"), pl.col(\"shape\")))\n",
    "/*\n",
    "console.log(JSON.stringify(resultatVstack2, null, 4))\n",
    "resultatVstack2\n",
    "\n",
    "*/\n",
    "\n",
    "resultatVstack2.groupBy(\"imageId\").agg(\n",
    "    pl.col(\"shape\").alias(\"shape\")\n",
    ").select(\n",
    "    pl.col(\"imageId\").alias(\"imageId\"),\n",
    "    pl.col(\"shape\").alias(\"shape\")\n",
    ")"
   ]
  },
  {
   "cell_type": "code",
   "execution_count": 12,
   "id": "8e8885d0-c58f-48b2-ba00-0b2fb0f9f0dd",
   "metadata": {},
   "outputs": [
    {
     "ename": "TypeError",
     "evalue": "Cannot destructure property 'values' of 'options' as it is undefined.",
     "output_type": "error",
     "traceback": [
      "Stack trace:",
      "TypeError: Cannot destructure property 'values' of 'options' as it is undefined.",
      "    at Proxy.pivot (file:///root/.cache/deno/npm/registry.npmjs.org/nodejs-polars/0.9.0/bin/dataframe.js:334:27)",
      "    at <anonymous>:1:38"
     ]
    }
   ],
   "source": [
    "resultatVstack2.pivot({values:\"shape\", index: \"imageId\", columns:\"imageId\"})"
   ]
  },
  {
   "cell_type": "code",
   "execution_count": 13,
   "id": "049e277d-7648-471d-aed6-63784c0f570b",
   "metadata": {},
   "outputs": [
    {
     "ename": "TypeError",
     "evalue": "Cannot destructure property 'values' of 'options' as it is undefined.",
     "output_type": "error",
     "traceback": [
      "Stack trace:",
      "TypeError: Cannot destructure property 'values' of 'options' as it is undefined.",
      "    at Proxy.pivot (file:///root/.cache/deno/npm/registry.npmjs.org/nodejs-polars/0.9.0/bin/dataframe.js:334:27)",
      "    at <anonymous>:1:51"
     ]
    }
   ],
   "source": [
    "df_compatibilityListExample1.pivot({values:\"shape\", index: \"imageId\", columns:\"imageId\"})"
   ]
  },
  {
   "cell_type": "markdown",
   "id": "05bcf896-d9b1-46b3-996c-2fae2f0075a4",
   "metadata": {},
   "source": [
    "#### Official Example does not work\n",
    "\n",
    "_source in polars docs: https://pola-rs.github.io/nodejs-polars/interfaces/pl.DataFrame-1.html#pivot_"
   ]
  },
  {
   "cell_type": "code",
   "execution_count": 24,
   "id": "8c53993f-12c6-445d-a27c-f3b00618612d",
   "metadata": {},
   "outputs": [
    {
     "name": "stdout",
     "output_type": "stream",
     "text": [
      "df.shape : [{\"height\":6,\"width\":3}]\n"
     ]
    },
    {
     "data": {
      "application/vnd.dataresource+json": {
       "data": [
        {
         "bar": "A",
         "baz": 1,
         "foo": "one"
        },
        {
         "bar": "B",
         "baz": 2,
         "foo": "one"
        },
        {
         "bar": "C",
         "baz": 3,
         "foo": "one"
        },
        {
         "bar": "A",
         "baz": 4,
         "foo": "two"
        },
        {
         "bar": "B",
         "baz": 5,
         "foo": "two"
        },
        {
         "bar": "C",
         "baz": 6,
         "foo": "two"
        }
       ],
       "schema": {
        "fields": [
         {
          "name": "foo",
          "type": "string"
         },
         {
          "name": "bar",
          "type": "string"
         },
         {
          "name": "baz",
          "type": "number"
         }
        ]
       }
      },
      "text/html": [
       "<table><thead><tr><th>foo</th><th>bar</th><th>baz</th></tr></thead><tbody><tr><td>one</td><td>A</td><td>1</td></tr><tr><td>one</td><td>B</td><td>2</td></tr><tr><td>one</td><td>C</td><td>3</td></tr><tr><td>two</td><td>A</td><td>4</td></tr><tr><td>two</td><td>B</td><td>5</td></tr><tr><td>two</td><td>C</td><td>6</td></tr></tbody></table>"
      ]
     },
     "execution_count": 24,
     "metadata": {},
     "output_type": "execute_result"
    }
   ],
   "source": [
    "const dfExample1 = pl.DataFrame(\n",
    "      {\n",
    "          \"foo\": [\"one\", \"one\", \"one\", \"two\", \"two\", \"two\"],\n",
    "          \"bar\": [\"A\", \"B\", \"C\", \"A\", \"B\", \"C\"],\n",
    "          \"baz\": [1, 2, 3, 4, 5, 6],\n",
    "      }\n",
    ");\n",
    "console.log(`df.shape : [${JSON.stringify(df.shape)}]`)\n",
    "\n",
    "dfExample1"
   ]
  },
  {
   "cell_type": "code",
   "execution_count": 25,
   "id": "2d47e79f-253c-4c8f-95bf-e07ec2266b7b",
   "metadata": {},
   "outputs": [
    {
     "ename": "TypeError",
     "evalue": "Cannot destructure property 'values' of 'options' as it is undefined.",
     "output_type": "error",
     "traceback": [
      "Stack trace:",
      "TypeError: Cannot destructure property 'values' of 'options' as it is undefined.",
      "    at Proxy.pivot (file:///root/.cache/deno/npm/registry.npmjs.org/nodejs-polars/0.9.0/bin/dataframe.js:334:27)",
      "    at <anonymous>:1:33"
     ]
    }
   ],
   "source": [
    "dfExample1.pivot({values:\"baz\", index:\"foo\", columns:\"bar\"});"
   ]
  },
  {
   "cell_type": "code",
   "execution_count": 25,
   "id": "6aa4fe16-67e9-4705-99b0-f2689ada5653",
   "metadata": {},
   "outputs": [
    {
     "ename": "TypeError",
     "evalue": "Cannot destructure property 'values' of 'options' as it is undefined.",
     "output_type": "error",
     "traceback": [
      "Stack trace:",
      "TypeError: Cannot destructure property 'values' of 'options' as it is undefined.",
      "    at Proxy.pivot (file:///root/.cache/deno/npm/registry.npmjs.org/nodejs-polars/0.9.0/bin/dataframe.js:334:27)",
      "    at <anonymous>:1:33"
     ]
    }
   ],
   "source": [
    "dfExample1.pivot({index:\"foo\", columns:\"bar\"});"
   ]
  },
  {
   "cell_type": "code",
   "execution_count": 27,
   "id": "a0da12cf-2b12-4e69-8274-36e77a4673b6",
   "metadata": {},
   "outputs": [
    {
     "ename": "TypeError",
     "evalue": "Cannot destructure property 'values' of 'options' as it is undefined.",
     "output_type": "error",
     "traceback": [
      "Stack trace:",
      "TypeError: Cannot destructure property 'values' of 'options' as it is undefined.",
      "    at Proxy.pivot (file:///root/.cache/deno/npm/registry.npmjs.org/nodejs-polars/0.9.0/bin/dataframe.js:334:27)",
      "    at <anonymous>:1:33"
     ]
    }
   ],
   "source": [
    "dfExample1.pivot([{values:\"baz\", index:\"foo\", columns:\"bar\"}]);"
   ]
  },
  {
   "cell_type": "code",
   "execution_count": 33,
   "id": "36c563c8-8568-4492-8fa2-520d26cfdabf",
   "metadata": {},
   "outputs": [
    {
     "data": {
      "application/vnd.dataresource+json": {
       "data": [
        {
         "A": 1,
         "B": 2,
         "C": 3,
         "foo": "one"
        },
        {
         "A": 4,
         "B": 5,
         "C": 6,
         "foo": "two"
        }
       ],
       "schema": {
        "fields": [
         {
          "name": "foo",
          "type": "string"
         },
         {
          "name": "A",
          "type": "number"
         },
         {
          "name": "B",
          "type": "number"
         },
         {
          "name": "C",
          "type": "number"
         }
        ]
       }
      },
      "text/html": [
       "<table><thead><tr><th>foo</th><th>A</th><th>B</th><th>C</th></tr></thead><tbody><tr><td>one</td><td>1</td><td>2</td><td>3</td></tr><tr><td>two</td><td>4</td><td>5</td><td>6</td></tr></tbody></table>"
      ]
     },
     "execution_count": 33,
     "metadata": {},
     "output_type": "execute_result"
    }
   ],
   "source": [
    "df.pivot(pl.col(\"baz\"), {values:\"baz\", index:[\"foo\"], columns:[\"bar\"]});"
   ]
  },
  {
   "cell_type": "code",
   "execution_count": 33,
   "id": "1ced4757-5fe5-48f6-90b7-768f27d643cd",
   "metadata": {},
   "outputs": [
    {
     "data": {
      "application/vnd.dataresource+json": {
       "data": [
        {
         "A": 1,
         "B": 2,
         "C": 3,
         "foo": "one"
        },
        {
         "A": 4,
         "B": 5,
         "C": 6,
         "foo": "two"
        }
       ],
       "schema": {
        "fields": [
         {
          "name": "foo",
          "type": "string"
         },
         {
          "name": "A",
          "type": "number"
         },
         {
          "name": "B",
          "type": "number"
         },
         {
          "name": "C",
          "type": "number"
         }
        ]
       }
      },
      "text/html": [
       "<table><thead><tr><th>foo</th><th>A</th><th>B</th><th>C</th></tr></thead><tbody><tr><td>one</td><td>1</td><td>2</td><td>3</td></tr><tr><td>two</td><td>4</td><td>5</td><td>6</td></tr></tbody></table>"
      ]
     },
     "execution_count": 33,
     "metadata": {},
     "output_type": "execute_result"
    }
   ],
   "source": [
    "df.pivot(pl.col(\"baz\"), {values:\"baz\", index:[\"foo\"], columns:[\"bar\"]});"
   ]
  },
  {
   "cell_type": "code",
   "execution_count": 34,
   "id": "3c8e8b61-27b7-40f4-a38b-59a7a913fdb5",
   "metadata": {},
   "outputs": [
    {
     "data": {
      "application/vnd.dataresource+json": {
       "data": [
        {
         "imageId": "ocid1.image.oc1.eu-paris-1.aaaaaaaalvbkaoybngg572c4ybw47avoyv2vk4raeus2bg4hyrbfuq4hmcuq",
         "ocid1.image.oc1.eu-paris-1.aaaaaaaaf7irdvozuzmwyvbfacdivomj52x65vr6tlg62i6er323sevazdqq": null,
         "ocid1.image.oc1.eu-paris-1.aaaaaaaalvbkaoybngg572c4ybw47avoyv2vk4raeus2bg4hyrbfuq4hmcuq": "VM.DenseIO.E4.Flex"
        },
        {
         "imageId": "ocid1.image.oc1.eu-paris-1.aaaaaaaaf7irdvozuzmwyvbfacdivomj52x65vr6tlg62i6er323sevazdqq",
         "ocid1.image.oc1.eu-paris-1.aaaaaaaaf7irdvozuzmwyvbfacdivomj52x65vr6tlg62i6er323sevazdqq": "VM.DenseIO.E4.Flex",
         "ocid1.image.oc1.eu-paris-1.aaaaaaaalvbkaoybngg572c4ybw47avoyv2vk4raeus2bg4hyrbfuq4hmcuq": null
        }
       ],
       "schema": {
        "fields": [
         {
          "name": "imageId",
          "type": "string"
         },
         {
          "name": "ocid1.image.oc1.eu-paris-1.aaaaaaaalvbkaoybngg572c4ybw47avoyv2vk4raeus2bg4hyrbfuq4hmcuq",
          "type": "string"
         },
         {
          "name": "ocid1.image.oc1.eu-paris-1.aaaaaaaaf7irdvozuzmwyvbfacdivomj52x65vr6tlg62i6er323sevazdqq",
          "type": "string"
         }
        ]
       }
      },
      "text/html": [
       "<table><thead><tr><th>imageId</th><th>ocid1.image.oc1.eu-paris-1.aaaaaaaalvbkaoybngg572c4ybw47avoyv2vk4raeus2bg4hyrbfuq4hmcuq</th><th>ocid1.image.oc1.eu-paris-1.aaaaaaaaf7irdvozuzmwyvbfacdivomj52x65vr6tlg62i6er323sevazdqq</th></tr></thead><tbody><tr><td>ocid1.image.oc1.eu-paris-1.aaaaaaaalvbkaoybngg572c4ybw47avoyv2vk4raeus2bg4hyrbfuq4hmcuq</td><td>VM.DenseIO.E4.Flex</td><td>null</td></tr><tr><td>ocid1.image.oc1.eu-paris-1.aaaaaaaaf7irdvozuzmwyvbfacdivomj52x65vr6tlg62i6er323sevazdqq</td><td>null</td><td>VM.DenseIO.E4.Flex</td></tr></tbody></table>"
      ]
     },
     "execution_count": 34,
     "metadata": {},
     "output_type": "execute_result"
    }
   ],
   "source": [
    "resultatVstack2.pivot(pl.col(\"*\"), {values:\"shape\", index: \"imageId\", columns:\"imageId\"})"
   ]
  },
  {
   "cell_type": "code",
   "execution_count": 36,
   "id": "5a3edf4d-eaeb-46fc-9636-ce8a7d454faa",
   "metadata": {},
   "outputs": [
    {
     "data": {
      "application/vnd.dataresource+json": {
       "data": [
        {
         "ocid1.image.oc1.eu-paris-1.aaaaaaaalvbkaoybngg572c4ybw47avoyv2vk4raeus2bg4hyrbfuq4hmcuq": "VM.DenseIO.E4.Flex",
         "shape": "VM.DenseIO.E4.Flex"
        },
        {
         "ocid1.image.oc1.eu-paris-1.aaaaaaaalvbkaoybngg572c4ybw47avoyv2vk4raeus2bg4hyrbfuq4hmcuq": "VM.DenseIO.E5.Flex",
         "shape": "VM.DenseIO.E5.Flex"
        },
        {
         "ocid1.image.oc1.eu-paris-1.aaaaaaaalvbkaoybngg572c4ybw47avoyv2vk4raeus2bg4hyrbfuq4hmcuq": "VM.DenseIO1.16",
         "shape": "VM.DenseIO1.16"
        },
        {
         "ocid1.image.oc1.eu-paris-1.aaaaaaaalvbkaoybngg572c4ybw47avoyv2vk4raeus2bg4hyrbfuq4hmcuq": "VM.DenseIO1.4",
         "shape": "VM.DenseIO1.4"
        },
        {
         "ocid1.image.oc1.eu-paris-1.aaaaaaaalvbkaoybngg572c4ybw47avoyv2vk4raeus2bg4hyrbfuq4hmcuq": "VM.DenseIO1.8",
         "shape": "VM.DenseIO1.8"
        },
        {
         "ocid1.image.oc1.eu-paris-1.aaaaaaaalvbkaoybngg572c4ybw47avoyv2vk4raeus2bg4hyrbfuq4hmcuq": "VM.DenseIO2.16",
         "shape": "VM.DenseIO2.16"
        },
        {
         "ocid1.image.oc1.eu-paris-1.aaaaaaaalvbkaoybngg572c4ybw47avoyv2vk4raeus2bg4hyrbfuq4hmcuq": "VM.DenseIO2.24",
         "shape": "VM.DenseIO2.24"
        },
        {
         "ocid1.image.oc1.eu-paris-1.aaaaaaaalvbkaoybngg572c4ybw47avoyv2vk4raeus2bg4hyrbfuq4hmcuq": "VM.DenseIO2.8",
         "shape": "VM.DenseIO2.8"
        },
        {
         "ocid1.image.oc1.eu-paris-1.aaaaaaaalvbkaoybngg572c4ybw47avoyv2vk4raeus2bg4hyrbfuq4hmcuq": "VM.GPU.A10.1",
         "shape": "VM.GPU.A10.1"
        },
        {
         "ocid1.image.oc1.eu-paris-1.aaaaaaaalvbkaoybngg572c4ybw47avoyv2vk4raeus2bg4hyrbfuq4hmcuq": "VM.GPU.A10.2",
         "shape": "VM.GPU.A10.2"
        },
        {
         "ocid1.image.oc1.eu-paris-1.aaaaaaaalvbkaoybngg572c4ybw47avoyv2vk4raeus2bg4hyrbfuq4hmcuq": "VM.GPU.GU1.1",
         "shape": "VM.GPU.GU1.1"
        },
        {
         "ocid1.image.oc1.eu-paris-1.aaaaaaaalvbkaoybngg572c4ybw47avoyv2vk4raeus2bg4hyrbfuq4hmcuq": "VM.GPU.GU1.2",
         "shape": "VM.GPU.GU1.2"
        },
        {
         "ocid1.image.oc1.eu-paris-1.aaaaaaaalvbkaoybngg572c4ybw47avoyv2vk4raeus2bg4hyrbfuq4hmcuq": "VM.GPU2.1",
         "shape": "VM.GPU2.1"
        },
        {
         "ocid1.image.oc1.eu-paris-1.aaaaaaaalvbkaoybngg572c4ybw47avoyv2vk4raeus2bg4hyrbfuq4hmcuq": "VM.GPU3.1",
         "shape": "VM.GPU3.1"
        },
        {
         "ocid1.image.oc1.eu-paris-1.aaaaaaaalvbkaoybngg572c4ybw47avoyv2vk4raeus2bg4hyrbfuq4hmcuq": "VM.GPU3.2",
         "shape": "VM.GPU3.2"
        },
        {
         "ocid1.image.oc1.eu-paris-1.aaaaaaaalvbkaoybngg572c4ybw47avoyv2vk4raeus2bg4hyrbfuq4hmcuq": "VM.GPU3.4",
         "shape": "VM.GPU3.4"
        },
        {
         "ocid1.image.oc1.eu-paris-1.aaaaaaaalvbkaoybngg572c4ybw47avoyv2vk4raeus2bg4hyrbfuq4hmcuq": "VM.Optimized3.Flex",
         "shape": "VM.Optimized3.Flex"
        },
        {
         "ocid1.image.oc1.eu-paris-1.aaaaaaaalvbkaoybngg572c4ybw47avoyv2vk4raeus2bg4hyrbfuq4hmcuq": "VM.Standard.AMD.Generic",
         "shape": "VM.Standard.AMD.Generic"
        },
        {
         "ocid1.image.oc1.eu-paris-1.aaaaaaaalvbkaoybngg572c4ybw47avoyv2vk4raeus2bg4hyrbfuq4hmcuq": "VM.Standard.E2.1",
         "shape": "VM.Standard.E2.1"
        },
        {
         "ocid1.image.oc1.eu-paris-1.aaaaaaaalvbkaoybngg572c4ybw47avoyv2vk4raeus2bg4hyrbfuq4hmcuq": "VM.Standard.E2.1.Micro",
         "shape": "VM.Standard.E2.1.Micro"
        },
        {
         "ocid1.image.oc1.eu-paris-1.aaaaaaaalvbkaoybngg572c4ybw47avoyv2vk4raeus2bg4hyrbfuq4hmcuq": "VM.Standard.E2.2",
         "shape": "VM.Standard.E2.2"
        },
        {
         "ocid1.image.oc1.eu-paris-1.aaaaaaaalvbkaoybngg572c4ybw47avoyv2vk4raeus2bg4hyrbfuq4hmcuq": "VM.Standard.E2.4",
         "shape": "VM.Standard.E2.4"
        },
        {
         "ocid1.image.oc1.eu-paris-1.aaaaaaaalvbkaoybngg572c4ybw47avoyv2vk4raeus2bg4hyrbfuq4hmcuq": "VM.Standard.E2.8",
         "shape": "VM.Standard.E2.8"
        },
        {
         "ocid1.image.oc1.eu-paris-1.aaaaaaaalvbkaoybngg572c4ybw47avoyv2vk4raeus2bg4hyrbfuq4hmcuq": "VM.Standard.E3.Flex",
         "shape": "VM.Standard.E3.Flex"
        },
        {
         "ocid1.image.oc1.eu-paris-1.aaaaaaaalvbkaoybngg572c4ybw47avoyv2vk4raeus2bg4hyrbfuq4hmcuq": "VM.Standard.E4.Flex",
         "shape": "VM.Standard.E4.Flex"
        },
        {
         "ocid1.image.oc1.eu-paris-1.aaaaaaaalvbkaoybngg572c4ybw47avoyv2vk4raeus2bg4hyrbfuq4hmcuq": "VM.Standard.E5.Flex",
         "shape": "VM.Standard.E5.Flex"
        },
        {
         "ocid1.image.oc1.eu-paris-1.aaaaaaaalvbkaoybngg572c4ybw47avoyv2vk4raeus2bg4hyrbfuq4hmcuq": "VM.Standard.Intel.Generic",
         "shape": "VM.Standard.Intel.Generic"
        },
        {
         "ocid1.image.oc1.eu-paris-1.aaaaaaaalvbkaoybngg572c4ybw47avoyv2vk4raeus2bg4hyrbfuq4hmcuq": "VM.Standard.x86.Generic",
         "shape": "VM.Standard.x86.Generic"
        },
        {
         "ocid1.image.oc1.eu-paris-1.aaaaaaaalvbkaoybngg572c4ybw47avoyv2vk4raeus2bg4hyrbfuq4hmcuq": "VM.Standard1.1",
         "shape": "VM.Standard1.1"
        },
        {
         "ocid1.image.oc1.eu-paris-1.aaaaaaaalvbkaoybngg572c4ybw47avoyv2vk4raeus2bg4hyrbfuq4hmcuq": "VM.Standard1.16",
         "shape": "VM.Standard1.16"
        },
        {
         "ocid1.image.oc1.eu-paris-1.aaaaaaaalvbkaoybngg572c4ybw47avoyv2vk4raeus2bg4hyrbfuq4hmcuq": "VM.Standard1.2",
         "shape": "VM.Standard1.2"
        },
        {
         "ocid1.image.oc1.eu-paris-1.aaaaaaaalvbkaoybngg572c4ybw47avoyv2vk4raeus2bg4hyrbfuq4hmcuq": "VM.Standard1.4",
         "shape": "VM.Standard1.4"
        },
        {
         "ocid1.image.oc1.eu-paris-1.aaaaaaaalvbkaoybngg572c4ybw47avoyv2vk4raeus2bg4hyrbfuq4hmcuq": "VM.Standard1.8",
         "shape": "VM.Standard1.8"
        },
        {
         "ocid1.image.oc1.eu-paris-1.aaaaaaaalvbkaoybngg572c4ybw47avoyv2vk4raeus2bg4hyrbfuq4hmcuq": "VM.Standard2.1",
         "shape": "VM.Standard2.1"
        },
        {
         "ocid1.image.oc1.eu-paris-1.aaaaaaaalvbkaoybngg572c4ybw47avoyv2vk4raeus2bg4hyrbfuq4hmcuq": "VM.Standard2.16",
         "shape": "VM.Standard2.16"
        },
        {
         "ocid1.image.oc1.eu-paris-1.aaaaaaaalvbkaoybngg572c4ybw47avoyv2vk4raeus2bg4hyrbfuq4hmcuq": "VM.Standard2.2",
         "shape": "VM.Standard2.2"
        },
        {
         "ocid1.image.oc1.eu-paris-1.aaaaaaaalvbkaoybngg572c4ybw47avoyv2vk4raeus2bg4hyrbfuq4hmcuq": "VM.Standard2.24",
         "shape": "VM.Standard2.24"
        },
        {
         "ocid1.image.oc1.eu-paris-1.aaaaaaaalvbkaoybngg572c4ybw47avoyv2vk4raeus2bg4hyrbfuq4hmcuq": "VM.Standard2.4",
         "shape": "VM.Standard2.4"
        },
        {
         "ocid1.image.oc1.eu-paris-1.aaaaaaaalvbkaoybngg572c4ybw47avoyv2vk4raeus2bg4hyrbfuq4hmcuq": "VM.Standard2.8",
         "shape": "VM.Standard2.8"
        },
        {
         "ocid1.image.oc1.eu-paris-1.aaaaaaaalvbkaoybngg572c4ybw47avoyv2vk4raeus2bg4hyrbfuq4hmcuq": "VM.Standard2.Flex",
         "shape": "VM.Standard2.Flex"
        },
        {
         "ocid1.image.oc1.eu-paris-1.aaaaaaaalvbkaoybngg572c4ybw47avoyv2vk4raeus2bg4hyrbfuq4hmcuq": "VM.Standard3.Flex",
         "shape": "VM.Standard3.Flex"
        },
        {
         "ocid1.image.oc1.eu-paris-1.aaaaaaaalvbkaoybngg572c4ybw47avoyv2vk4raeus2bg4hyrbfuq4hmcuq": "BM.Standard.E2.64",
         "shape": "BM.Standard.E2.64"
        },
        {
         "ocid1.image.oc1.eu-paris-1.aaaaaaaalvbkaoybngg572c4ybw47avoyv2vk4raeus2bg4hyrbfuq4hmcuq": "BM.Standard.E3.128",
         "shape": "BM.Standard.E3.128"
        },
        {
         "ocid1.image.oc1.eu-paris-1.aaaaaaaalvbkaoybngg572c4ybw47avoyv2vk4raeus2bg4hyrbfuq4hmcuq": "BM.GPU4.8",
         "shape": "BM.GPU4.8"
        },
        {
         "ocid1.image.oc1.eu-paris-1.aaaaaaaalvbkaoybngg572c4ybw47avoyv2vk4raeus2bg4hyrbfuq4hmcuq": "BM.Standard.E4.128",
         "shape": "BM.Standard.E4.128"
        },
        {
         "ocid1.image.oc1.eu-paris-1.aaaaaaaalvbkaoybngg572c4ybw47avoyv2vk4raeus2bg4hyrbfuq4hmcuq": "BM.GPU.A100-v2.8",
         "shape": "BM.GPU.A100-v2.8"
        },
        {
         "ocid1.image.oc1.eu-paris-1.aaaaaaaalvbkaoybngg572c4ybw47avoyv2vk4raeus2bg4hyrbfuq4hmcuq": "BM.DenseIO.E4.128",
         "shape": "BM.DenseIO.E4.128"
        },
        {
         "ocid1.image.oc1.eu-paris-1.aaaaaaaalvbkaoybngg572c4ybw47avoyv2vk4raeus2bg4hyrbfuq4hmcuq": "BM.DenseIO.E5.128",
         "shape": "BM.DenseIO.E5.128"
        },
        {
         "ocid1.image.oc1.eu-paris-1.aaaaaaaalvbkaoybngg572c4ybw47avoyv2vk4raeus2bg4hyrbfuq4hmcuq": "BM.Standard.E5.192",
         "shape": "BM.Standard.E5.192"
        },
        {
         "ocid1.image.oc1.eu-paris-1.aaaaaaaalvbkaoybngg572c4ybw47avoyv2vk4raeus2bg4hyrbfuq4hmcuq": "BM.Standard1.36",
         "shape": "BM.Standard1.36"
        }
       ],
       "schema": {
        "fields": [
         {
          "name": "shape",
          "type": "string"
         },
         {
          "name": "ocid1.image.oc1.eu-paris-1.aaaaaaaalvbkaoybngg572c4ybw47avoyv2vk4raeus2bg4hyrbfuq4hmcuq",
          "type": "string"
         }
        ]
       }
      },
      "text/html": [
       "<table><thead><tr><th>shape</th><th>ocid1.image.oc1.eu-paris-1.aaaaaaaalvbkaoybngg572c4ybw47avoyv2vk4raeus2bg4hyrbfuq4hmcuq</th></tr></thead><tbody><tr><td>VM.DenseIO.E4.Flex</td><td>VM.DenseIO.E4.Flex</td></tr><tr><td>VM.DenseIO.E5.Flex</td><td>VM.DenseIO.E5.Flex</td></tr><tr><td>VM.DenseIO1.16</td><td>VM.DenseIO1.16</td></tr><tr><td>VM.DenseIO1.4</td><td>VM.DenseIO1.4</td></tr><tr><td>VM.DenseIO1.8</td><td>VM.DenseIO1.8</td></tr><tr><td>VM.DenseIO2.16</td><td>VM.DenseIO2.16</td></tr><tr><td>VM.DenseIO2.24</td><td>VM.DenseIO2.24</td></tr><tr><td>VM.DenseIO2.8</td><td>VM.DenseIO2.8</td></tr><tr><td>VM.GPU.A10.1</td><td>VM.GPU.A10.1</td></tr><tr><td>VM.GPU.A10.2</td><td>VM.GPU.A10.2</td></tr><tr><td>VM.GPU.GU1.1</td><td>VM.GPU.GU1.1</td></tr><tr><td>VM.GPU.GU1.2</td><td>VM.GPU.GU1.2</td></tr><tr><td>VM.GPU2.1</td><td>VM.GPU2.1</td></tr><tr><td>VM.GPU3.1</td><td>VM.GPU3.1</td></tr><tr><td>VM.GPU3.2</td><td>VM.GPU3.2</td></tr><tr><td>VM.GPU3.4</td><td>VM.GPU3.4</td></tr><tr><td>VM.Optimized3.Flex</td><td>VM.Optimized3.Flex</td></tr><tr><td>VM.Standard.AMD.Generic</td><td>VM.Standard.AMD.Generic</td></tr><tr><td>VM.Standard.E2.1</td><td>VM.Standard.E2.1</td></tr><tr><td>VM.Standard.E2.1.Micro</td><td>VM.Standard.E2.1.Micro</td></tr><tr><td>VM.Standard.E2.2</td><td>VM.Standard.E2.2</td></tr><tr><td>VM.Standard.E2.4</td><td>VM.Standard.E2.4</td></tr><tr><td>VM.Standard.E2.8</td><td>VM.Standard.E2.8</td></tr><tr><td>VM.Standard.E3.Flex</td><td>VM.Standard.E3.Flex</td></tr><tr><td>VM.Standard.E4.Flex</td><td>VM.Standard.E4.Flex</td></tr><tr><td>VM.Standard.E5.Flex</td><td>VM.Standard.E5.Flex</td></tr><tr><td>VM.Standard.Intel.Generic</td><td>VM.Standard.Intel.Generic</td></tr><tr><td>VM.Standard.x86.Generic</td><td>VM.Standard.x86.Generic</td></tr><tr><td>VM.Standard1.1</td><td>VM.Standard1.1</td></tr><tr><td>VM.Standard1.16</td><td>VM.Standard1.16</td></tr><tr><td>VM.Standard1.2</td><td>VM.Standard1.2</td></tr><tr><td>VM.Standard1.4</td><td>VM.Standard1.4</td></tr><tr><td>VM.Standard1.8</td><td>VM.Standard1.8</td></tr><tr><td>VM.Standard2.1</td><td>VM.Standard2.1</td></tr><tr><td>VM.Standard2.16</td><td>VM.Standard2.16</td></tr><tr><td>VM.Standard2.2</td><td>VM.Standard2.2</td></tr><tr><td>VM.Standard2.24</td><td>VM.Standard2.24</td></tr><tr><td>VM.Standard2.4</td><td>VM.Standard2.4</td></tr><tr><td>VM.Standard2.8</td><td>VM.Standard2.8</td></tr><tr><td>VM.Standard2.Flex</td><td>VM.Standard2.Flex</td></tr><tr><td>VM.Standard3.Flex</td><td>VM.Standard3.Flex</td></tr><tr><td>BM.Standard.E2.64</td><td>BM.Standard.E2.64</td></tr><tr><td>BM.Standard.E3.128</td><td>BM.Standard.E3.128</td></tr><tr><td>BM.GPU4.8</td><td>BM.GPU4.8</td></tr><tr><td>BM.Standard.E4.128</td><td>BM.Standard.E4.128</td></tr><tr><td>BM.GPU.A100-v2.8</td><td>BM.GPU.A100-v2.8</td></tr><tr><td>BM.DenseIO.E4.128</td><td>BM.DenseIO.E4.128</td></tr><tr><td>BM.DenseIO.E5.128</td><td>BM.DenseIO.E5.128</td></tr><tr><td>BM.Standard.E5.192</td><td>BM.Standard.E5.192</td></tr><tr><td>BM.Standard1.36</td><td>BM.Standard1.36</td></tr></tbody></table>"
      ]
     },
     "execution_count": 36,
     "metadata": {},
     "output_type": "execute_result"
    }
   ],
   "source": [
    "df_compatibilityListExample1.pivot(pl.col(\"*\"), {values:\"shape\", index: \"shape\", columns:\"imageId\"})"
   ]
  },
  {
   "cell_type": "code",
   "execution_count": 38,
   "id": "9cb14388-6bd4-4916-8ffb-711041621a6a",
   "metadata": {},
   "outputs": [
    {
     "data": {
      "application/vnd.dataresource+json": {
       "data": [
        {
         "ocid1.image.oc1.eu-paris-1.aaaaaaaalvbkaoybngg572c4ybw47avoyv2vk4raeus2bg4hyrbfuq4hmcuq": "VM.DenseIO.E4.Flex",
         "shape": "VM.DenseIO.E4.Flex"
        },
        {
         "ocid1.image.oc1.eu-paris-1.aaaaaaaalvbkaoybngg572c4ybw47avoyv2vk4raeus2bg4hyrbfuq4hmcuq": "VM.DenseIO.E5.Flex",
         "shape": "VM.DenseIO.E5.Flex"
        },
        {
         "ocid1.image.oc1.eu-paris-1.aaaaaaaalvbkaoybngg572c4ybw47avoyv2vk4raeus2bg4hyrbfuq4hmcuq": "VM.DenseIO1.16",
         "shape": "VM.DenseIO1.16"
        },
        {
         "ocid1.image.oc1.eu-paris-1.aaaaaaaalvbkaoybngg572c4ybw47avoyv2vk4raeus2bg4hyrbfuq4hmcuq": "VM.DenseIO1.4",
         "shape": "VM.DenseIO1.4"
        },
        {
         "ocid1.image.oc1.eu-paris-1.aaaaaaaalvbkaoybngg572c4ybw47avoyv2vk4raeus2bg4hyrbfuq4hmcuq": "VM.DenseIO1.8",
         "shape": "VM.DenseIO1.8"
        },
        {
         "ocid1.image.oc1.eu-paris-1.aaaaaaaalvbkaoybngg572c4ybw47avoyv2vk4raeus2bg4hyrbfuq4hmcuq": "VM.DenseIO2.16",
         "shape": "VM.DenseIO2.16"
        },
        {
         "ocid1.image.oc1.eu-paris-1.aaaaaaaalvbkaoybngg572c4ybw47avoyv2vk4raeus2bg4hyrbfuq4hmcuq": "VM.DenseIO2.24",
         "shape": "VM.DenseIO2.24"
        },
        {
         "ocid1.image.oc1.eu-paris-1.aaaaaaaalvbkaoybngg572c4ybw47avoyv2vk4raeus2bg4hyrbfuq4hmcuq": "VM.DenseIO2.8",
         "shape": "VM.DenseIO2.8"
        },
        {
         "ocid1.image.oc1.eu-paris-1.aaaaaaaalvbkaoybngg572c4ybw47avoyv2vk4raeus2bg4hyrbfuq4hmcuq": "VM.GPU.A10.1",
         "shape": "VM.GPU.A10.1"
        },
        {
         "ocid1.image.oc1.eu-paris-1.aaaaaaaalvbkaoybngg572c4ybw47avoyv2vk4raeus2bg4hyrbfuq4hmcuq": "VM.GPU.A10.2",
         "shape": "VM.GPU.A10.2"
        },
        {
         "ocid1.image.oc1.eu-paris-1.aaaaaaaalvbkaoybngg572c4ybw47avoyv2vk4raeus2bg4hyrbfuq4hmcuq": "VM.GPU.GU1.1",
         "shape": "VM.GPU.GU1.1"
        },
        {
         "ocid1.image.oc1.eu-paris-1.aaaaaaaalvbkaoybngg572c4ybw47avoyv2vk4raeus2bg4hyrbfuq4hmcuq": "VM.GPU.GU1.2",
         "shape": "VM.GPU.GU1.2"
        },
        {
         "ocid1.image.oc1.eu-paris-1.aaaaaaaalvbkaoybngg572c4ybw47avoyv2vk4raeus2bg4hyrbfuq4hmcuq": "VM.GPU2.1",
         "shape": "VM.GPU2.1"
        },
        {
         "ocid1.image.oc1.eu-paris-1.aaaaaaaalvbkaoybngg572c4ybw47avoyv2vk4raeus2bg4hyrbfuq4hmcuq": "VM.GPU3.1",
         "shape": "VM.GPU3.1"
        },
        {
         "ocid1.image.oc1.eu-paris-1.aaaaaaaalvbkaoybngg572c4ybw47avoyv2vk4raeus2bg4hyrbfuq4hmcuq": "VM.GPU3.2",
         "shape": "VM.GPU3.2"
        },
        {
         "ocid1.image.oc1.eu-paris-1.aaaaaaaalvbkaoybngg572c4ybw47avoyv2vk4raeus2bg4hyrbfuq4hmcuq": "VM.GPU3.4",
         "shape": "VM.GPU3.4"
        },
        {
         "ocid1.image.oc1.eu-paris-1.aaaaaaaalvbkaoybngg572c4ybw47avoyv2vk4raeus2bg4hyrbfuq4hmcuq": "VM.Optimized3.Flex",
         "shape": "VM.Optimized3.Flex"
        },
        {
         "ocid1.image.oc1.eu-paris-1.aaaaaaaalvbkaoybngg572c4ybw47avoyv2vk4raeus2bg4hyrbfuq4hmcuq": "VM.Standard.AMD.Generic",
         "shape": "VM.Standard.AMD.Generic"
        },
        {
         "ocid1.image.oc1.eu-paris-1.aaaaaaaalvbkaoybngg572c4ybw47avoyv2vk4raeus2bg4hyrbfuq4hmcuq": "VM.Standard.E2.1",
         "shape": "VM.Standard.E2.1"
        },
        {
         "ocid1.image.oc1.eu-paris-1.aaaaaaaalvbkaoybngg572c4ybw47avoyv2vk4raeus2bg4hyrbfuq4hmcuq": "VM.Standard.E2.1.Micro",
         "shape": "VM.Standard.E2.1.Micro"
        },
        {
         "ocid1.image.oc1.eu-paris-1.aaaaaaaalvbkaoybngg572c4ybw47avoyv2vk4raeus2bg4hyrbfuq4hmcuq": "VM.Standard.E2.2",
         "shape": "VM.Standard.E2.2"
        },
        {
         "ocid1.image.oc1.eu-paris-1.aaaaaaaalvbkaoybngg572c4ybw47avoyv2vk4raeus2bg4hyrbfuq4hmcuq": "VM.Standard.E2.4",
         "shape": "VM.Standard.E2.4"
        },
        {
         "ocid1.image.oc1.eu-paris-1.aaaaaaaalvbkaoybngg572c4ybw47avoyv2vk4raeus2bg4hyrbfuq4hmcuq": "VM.Standard.E2.8",
         "shape": "VM.Standard.E2.8"
        },
        {
         "ocid1.image.oc1.eu-paris-1.aaaaaaaalvbkaoybngg572c4ybw47avoyv2vk4raeus2bg4hyrbfuq4hmcuq": "VM.Standard.E3.Flex",
         "shape": "VM.Standard.E3.Flex"
        },
        {
         "ocid1.image.oc1.eu-paris-1.aaaaaaaalvbkaoybngg572c4ybw47avoyv2vk4raeus2bg4hyrbfuq4hmcuq": "VM.Standard.E4.Flex",
         "shape": "VM.Standard.E4.Flex"
        },
        {
         "ocid1.image.oc1.eu-paris-1.aaaaaaaalvbkaoybngg572c4ybw47avoyv2vk4raeus2bg4hyrbfuq4hmcuq": "VM.Standard.E5.Flex",
         "shape": "VM.Standard.E5.Flex"
        },
        {
         "ocid1.image.oc1.eu-paris-1.aaaaaaaalvbkaoybngg572c4ybw47avoyv2vk4raeus2bg4hyrbfuq4hmcuq": "VM.Standard.Intel.Generic",
         "shape": "VM.Standard.Intel.Generic"
        },
        {
         "ocid1.image.oc1.eu-paris-1.aaaaaaaalvbkaoybngg572c4ybw47avoyv2vk4raeus2bg4hyrbfuq4hmcuq": "VM.Standard.x86.Generic",
         "shape": "VM.Standard.x86.Generic"
        },
        {
         "ocid1.image.oc1.eu-paris-1.aaaaaaaalvbkaoybngg572c4ybw47avoyv2vk4raeus2bg4hyrbfuq4hmcuq": "VM.Standard1.1",
         "shape": "VM.Standard1.1"
        },
        {
         "ocid1.image.oc1.eu-paris-1.aaaaaaaalvbkaoybngg572c4ybw47avoyv2vk4raeus2bg4hyrbfuq4hmcuq": "VM.Standard1.16",
         "shape": "VM.Standard1.16"
        },
        {
         "ocid1.image.oc1.eu-paris-1.aaaaaaaalvbkaoybngg572c4ybw47avoyv2vk4raeus2bg4hyrbfuq4hmcuq": "VM.Standard1.2",
         "shape": "VM.Standard1.2"
        },
        {
         "ocid1.image.oc1.eu-paris-1.aaaaaaaalvbkaoybngg572c4ybw47avoyv2vk4raeus2bg4hyrbfuq4hmcuq": "VM.Standard1.4",
         "shape": "VM.Standard1.4"
        },
        {
         "ocid1.image.oc1.eu-paris-1.aaaaaaaalvbkaoybngg572c4ybw47avoyv2vk4raeus2bg4hyrbfuq4hmcuq": "VM.Standard1.8",
         "shape": "VM.Standard1.8"
        },
        {
         "ocid1.image.oc1.eu-paris-1.aaaaaaaalvbkaoybngg572c4ybw47avoyv2vk4raeus2bg4hyrbfuq4hmcuq": "VM.Standard2.1",
         "shape": "VM.Standard2.1"
        },
        {
         "ocid1.image.oc1.eu-paris-1.aaaaaaaalvbkaoybngg572c4ybw47avoyv2vk4raeus2bg4hyrbfuq4hmcuq": "VM.Standard2.16",
         "shape": "VM.Standard2.16"
        },
        {
         "ocid1.image.oc1.eu-paris-1.aaaaaaaalvbkaoybngg572c4ybw47avoyv2vk4raeus2bg4hyrbfuq4hmcuq": "VM.Standard2.2",
         "shape": "VM.Standard2.2"
        },
        {
         "ocid1.image.oc1.eu-paris-1.aaaaaaaalvbkaoybngg572c4ybw47avoyv2vk4raeus2bg4hyrbfuq4hmcuq": "VM.Standard2.24",
         "shape": "VM.Standard2.24"
        },
        {
         "ocid1.image.oc1.eu-paris-1.aaaaaaaalvbkaoybngg572c4ybw47avoyv2vk4raeus2bg4hyrbfuq4hmcuq": "VM.Standard2.4",
         "shape": "VM.Standard2.4"
        },
        {
         "ocid1.image.oc1.eu-paris-1.aaaaaaaalvbkaoybngg572c4ybw47avoyv2vk4raeus2bg4hyrbfuq4hmcuq": "VM.Standard2.8",
         "shape": "VM.Standard2.8"
        },
        {
         "ocid1.image.oc1.eu-paris-1.aaaaaaaalvbkaoybngg572c4ybw47avoyv2vk4raeus2bg4hyrbfuq4hmcuq": "VM.Standard2.Flex",
         "shape": "VM.Standard2.Flex"
        },
        {
         "ocid1.image.oc1.eu-paris-1.aaaaaaaalvbkaoybngg572c4ybw47avoyv2vk4raeus2bg4hyrbfuq4hmcuq": "VM.Standard3.Flex",
         "shape": "VM.Standard3.Flex"
        },
        {
         "ocid1.image.oc1.eu-paris-1.aaaaaaaalvbkaoybngg572c4ybw47avoyv2vk4raeus2bg4hyrbfuq4hmcuq": "BM.Standard.E2.64",
         "shape": "BM.Standard.E2.64"
        },
        {
         "ocid1.image.oc1.eu-paris-1.aaaaaaaalvbkaoybngg572c4ybw47avoyv2vk4raeus2bg4hyrbfuq4hmcuq": "BM.Standard.E3.128",
         "shape": "BM.Standard.E3.128"
        },
        {
         "ocid1.image.oc1.eu-paris-1.aaaaaaaalvbkaoybngg572c4ybw47avoyv2vk4raeus2bg4hyrbfuq4hmcuq": "BM.GPU4.8",
         "shape": "BM.GPU4.8"
        },
        {
         "ocid1.image.oc1.eu-paris-1.aaaaaaaalvbkaoybngg572c4ybw47avoyv2vk4raeus2bg4hyrbfuq4hmcuq": "BM.Standard.E4.128",
         "shape": "BM.Standard.E4.128"
        },
        {
         "ocid1.image.oc1.eu-paris-1.aaaaaaaalvbkaoybngg572c4ybw47avoyv2vk4raeus2bg4hyrbfuq4hmcuq": "BM.GPU.A100-v2.8",
         "shape": "BM.GPU.A100-v2.8"
        },
        {
         "ocid1.image.oc1.eu-paris-1.aaaaaaaalvbkaoybngg572c4ybw47avoyv2vk4raeus2bg4hyrbfuq4hmcuq": "BM.DenseIO.E4.128",
         "shape": "BM.DenseIO.E4.128"
        },
        {
         "ocid1.image.oc1.eu-paris-1.aaaaaaaalvbkaoybngg572c4ybw47avoyv2vk4raeus2bg4hyrbfuq4hmcuq": "BM.DenseIO.E5.128",
         "shape": "BM.DenseIO.E5.128"
        },
        {
         "ocid1.image.oc1.eu-paris-1.aaaaaaaalvbkaoybngg572c4ybw47avoyv2vk4raeus2bg4hyrbfuq4hmcuq": "BM.Standard.E5.192",
         "shape": "BM.Standard.E5.192"
        },
        {
         "ocid1.image.oc1.eu-paris-1.aaaaaaaalvbkaoybngg572c4ybw47avoyv2vk4raeus2bg4hyrbfuq4hmcuq": "BM.Standard1.36",
         "shape": "BM.Standard1.36"
        }
       ],
       "schema": {
        "fields": [
         {
          "name": "shape",
          "type": "string"
         },
         {
          "name": "ocid1.image.oc1.eu-paris-1.aaaaaaaalvbkaoybngg572c4ybw47avoyv2vk4raeus2bg4hyrbfuq4hmcuq",
          "type": "string"
         }
        ]
       }
      },
      "text/html": [
       "<table><thead><tr><th>shape</th><th>ocid1.image.oc1.eu-paris-1.aaaaaaaalvbkaoybngg572c4ybw47avoyv2vk4raeus2bg4hyrbfuq4hmcuq</th></tr></thead><tbody><tr><td>VM.DenseIO.E4.Flex</td><td>VM.DenseIO.E4.Flex</td></tr><tr><td>VM.DenseIO.E5.Flex</td><td>VM.DenseIO.E5.Flex</td></tr><tr><td>VM.DenseIO1.16</td><td>VM.DenseIO1.16</td></tr><tr><td>VM.DenseIO1.4</td><td>VM.DenseIO1.4</td></tr><tr><td>VM.DenseIO1.8</td><td>VM.DenseIO1.8</td></tr><tr><td>VM.DenseIO2.16</td><td>VM.DenseIO2.16</td></tr><tr><td>VM.DenseIO2.24</td><td>VM.DenseIO2.24</td></tr><tr><td>VM.DenseIO2.8</td><td>VM.DenseIO2.8</td></tr><tr><td>VM.GPU.A10.1</td><td>VM.GPU.A10.1</td></tr><tr><td>VM.GPU.A10.2</td><td>VM.GPU.A10.2</td></tr><tr><td>VM.GPU.GU1.1</td><td>VM.GPU.GU1.1</td></tr><tr><td>VM.GPU.GU1.2</td><td>VM.GPU.GU1.2</td></tr><tr><td>VM.GPU2.1</td><td>VM.GPU2.1</td></tr><tr><td>VM.GPU3.1</td><td>VM.GPU3.1</td></tr><tr><td>VM.GPU3.2</td><td>VM.GPU3.2</td></tr><tr><td>VM.GPU3.4</td><td>VM.GPU3.4</td></tr><tr><td>VM.Optimized3.Flex</td><td>VM.Optimized3.Flex</td></tr><tr><td>VM.Standard.AMD.Generic</td><td>VM.Standard.AMD.Generic</td></tr><tr><td>VM.Standard.E2.1</td><td>VM.Standard.E2.1</td></tr><tr><td>VM.Standard.E2.1.Micro</td><td>VM.Standard.E2.1.Micro</td></tr><tr><td>VM.Standard.E2.2</td><td>VM.Standard.E2.2</td></tr><tr><td>VM.Standard.E2.4</td><td>VM.Standard.E2.4</td></tr><tr><td>VM.Standard.E2.8</td><td>VM.Standard.E2.8</td></tr><tr><td>VM.Standard.E3.Flex</td><td>VM.Standard.E3.Flex</td></tr><tr><td>VM.Standard.E4.Flex</td><td>VM.Standard.E4.Flex</td></tr><tr><td>VM.Standard.E5.Flex</td><td>VM.Standard.E5.Flex</td></tr><tr><td>VM.Standard.Intel.Generic</td><td>VM.Standard.Intel.Generic</td></tr><tr><td>VM.Standard.x86.Generic</td><td>VM.Standard.x86.Generic</td></tr><tr><td>VM.Standard1.1</td><td>VM.Standard1.1</td></tr><tr><td>VM.Standard1.16</td><td>VM.Standard1.16</td></tr><tr><td>VM.Standard1.2</td><td>VM.Standard1.2</td></tr><tr><td>VM.Standard1.4</td><td>VM.Standard1.4</td></tr><tr><td>VM.Standard1.8</td><td>VM.Standard1.8</td></tr><tr><td>VM.Standard2.1</td><td>VM.Standard2.1</td></tr><tr><td>VM.Standard2.16</td><td>VM.Standard2.16</td></tr><tr><td>VM.Standard2.2</td><td>VM.Standard2.2</td></tr><tr><td>VM.Standard2.24</td><td>VM.Standard2.24</td></tr><tr><td>VM.Standard2.4</td><td>VM.Standard2.4</td></tr><tr><td>VM.Standard2.8</td><td>VM.Standard2.8</td></tr><tr><td>VM.Standard2.Flex</td><td>VM.Standard2.Flex</td></tr><tr><td>VM.Standard3.Flex</td><td>VM.Standard3.Flex</td></tr><tr><td>BM.Standard.E2.64</td><td>BM.Standard.E2.64</td></tr><tr><td>BM.Standard.E3.128</td><td>BM.Standard.E3.128</td></tr><tr><td>BM.GPU4.8</td><td>BM.GPU4.8</td></tr><tr><td>BM.Standard.E4.128</td><td>BM.Standard.E4.128</td></tr><tr><td>BM.GPU.A100-v2.8</td><td>BM.GPU.A100-v2.8</td></tr><tr><td>BM.DenseIO.E4.128</td><td>BM.DenseIO.E4.128</td></tr><tr><td>BM.DenseIO.E5.128</td><td>BM.DenseIO.E5.128</td></tr><tr><td>BM.Standard.E5.192</td><td>BM.Standard.E5.192</td></tr><tr><td>BM.Standard1.36</td><td>BM.Standard1.36</td></tr></tbody></table>"
      ]
     },
     "execution_count": 38,
     "metadata": {},
     "output_type": "execute_result"
    }
   ],
   "source": [
    "df_compatibilityListExample1.pivot(pl.col(\"shape\"), {values:\"shape\", index: \"shape\", columns:\"imageId\"})"
   ]
  },
  {
   "cell_type": "code",
   "execution_count": 45,
   "id": "0551c96e-7107-4a70-a490-d9de5973edbb",
   "metadata": {},
   "outputs": [
    {
     "data": {
      "application/vnd.dataresource+json": {
       "data": [
        {
         "count": 68,
         "ocid1.image.oc1.eu-paris-1.aaaaaaaaf7irdvozuzmwyvbfacdivomj52x65vr6tlg62i6er323sevazdqq": [
          "VM.DenseIO.E4.Flex",
          "VM.DenseIO.E5.Flex",
          "VM.DenseIO1.16",
          "VM.DenseIO1.4",
          "VM.DenseIO1.8",
          "VM.DenseIO2.16",
          "VM.DenseIO2.24",
          "VM.DenseIO2.8",
          "VM.GPU.A10.1",
          "VM.GPU.A10.2",
          "VM.GPU.GU1.1",
          "VM.GPU.GU1.2",
          "VM.GPU2.1",
          "VM.GPU3.1",
          "VM.GPU3.2",
          "VM.GPU3.4",
          "VM.Optimized3.Flex",
          "VM.Standard.AMD.Generic",
          "VM.Standard.B1.1",
          "VM.Standard.B1.16",
          "VM.Standard.B1.2",
          "VM.Standard.B1.4",
          "VM.Standard.B1.8",
          "VM.Standard.E2.1",
          "VM.Standard.E2.1.Micro",
          "VM.Standard.E2.2",
          "VM.Standard.E2.4",
          "VM.Standard.E2.8",
          "VM.Standard.E3.Flex",
          "VM.Standard.E4.Flex",
          "VM.Standard.E5.Flex",
          "VM.Standard.Intel.Generic",
          "VM.Standard.x86.Generic",
          "VM.Standard1.1",
          "VM.Standard1.16",
          "VM.Standard1.2",
          "VM.Standard1.4",
          "VM.Standard1.8",
          "VM.Standard2.1",
          "VM.Standard2.16",
          "VM.Standard2.2",
          "VM.Standard2.24",
          "VM.Standard2.4",
          "VM.Standard2.8",
          "VM.Standard2.Flex",
          "VM.Standard3.Flex",
          "BM.Standard.E2.64",
          "BM.Standard.E3.128",
          "BM.GPU4.8",
          "BM.Standard.E4.128",
          "BM.GPU.A100-v2.8",
          "BM.DenseIO.E4.128",
          "BM.DenseIO.E5.128",
          "BM.Standard.E5.192",
          "BM.GPU.H100.8",
          "BM.Standard1.36",
          "BM.HighIO1.36",
          "BM.DenseIO1.36",
          "BM.Standard.B1.44",
          "BM.GPU2.2",
          "BM.HPC2.36",
          "BM.Standard2.52",
          "BM.GPU3.8",
          "BM.DenseIO2.52",
          "BM.GPU.T1.2",
          "BM.Optimized3.36",
          "BM.Standard3.64",
          "BM.GPU.A10.4"
         ],
         "ocid1.image.oc1.eu-paris-1.aaaaaaaalvbkaoybngg572c4ybw47avoyv2vk4raeus2bg4hyrbfuq4hmcuq": null
        },
        {
         "count": 60,
         "ocid1.image.oc1.eu-paris-1.aaaaaaaaf7irdvozuzmwyvbfacdivomj52x65vr6tlg62i6er323sevazdqq": null,
         "ocid1.image.oc1.eu-paris-1.aaaaaaaalvbkaoybngg572c4ybw47avoyv2vk4raeus2bg4hyrbfuq4hmcuq": [
          "VM.DenseIO.E4.Flex",
          "VM.DenseIO.E5.Flex",
          "VM.DenseIO1.16",
          "VM.DenseIO1.4",
          "VM.DenseIO1.8",
          "VM.DenseIO2.16",
          "VM.DenseIO2.24",
          "VM.DenseIO2.8",
          "VM.GPU.A10.1",
          "VM.GPU.A10.2",
          "VM.GPU.GU1.1",
          "VM.GPU.GU1.2",
          "VM.GPU2.1",
          "VM.GPU3.1",
          "VM.GPU3.2",
          "VM.GPU3.4",
          "VM.Optimized3.Flex",
          "VM.Standard.AMD.Generic",
          "VM.Standard.E2.1",
          "VM.Standard.E2.1.Micro",
          "VM.Standard.E2.2",
          "VM.Standard.E2.4",
          "VM.Standard.E2.8",
          "VM.Standard.E3.Flex",
          "VM.Standard.E4.Flex",
          "VM.Standard.E5.Flex",
          "VM.Standard.Intel.Generic",
          "VM.Standard.x86.Generic",
          "VM.Standard1.1",
          "VM.Standard1.16",
          "VM.Standard1.2",
          "VM.Standard1.4",
          "VM.Standard1.8",
          "VM.Standard2.1",
          "VM.Standard2.16",
          "VM.Standard2.2",
          "VM.Standard2.24",
          "VM.Standard2.4",
          "VM.Standard2.8",
          "VM.Standard2.Flex",
          "VM.Standard3.Flex",
          "BM.Standard.E2.64",
          "BM.Standard.E3.128",
          "BM.GPU4.8",
          "BM.Standard.E4.128",
          "BM.GPU.A100-v2.8",
          "BM.DenseIO.E4.128",
          "BM.DenseIO.E5.128",
          "BM.Standard.E5.192",
          "BM.Standard1.36",
          "BM.HighIO1.36",
          "BM.DenseIO1.36",
          "BM.GPU2.2",
          "BM.HPC2.36",
          "BM.Standard2.52",
          "BM.GPU3.8",
          "BM.DenseIO2.52",
          "BM.Optimized3.36",
          "BM.Standard3.64",
          "BM.GPU.A10.4"
         ]
        }
       ],
       "schema": {
        "fields": [
         {
          "name": "count",
          "type": "integer"
         },
         {
          "name": "ocid1.image.oc1.eu-paris-1.aaaaaaaaf7irdvozuzmwyvbfacdivomj52x65vr6tlg62i6er323sevazdqq",
          "type": "array"
         },
         {
          "name": "ocid1.image.oc1.eu-paris-1.aaaaaaaalvbkaoybngg572c4ybw47avoyv2vk4raeus2bg4hyrbfuq4hmcuq",
          "type": "array"
         }
        ]
       }
      },
      "text/html": [
       "<table><thead><tr><th>count</th><th>ocid1.image.oc1.eu-paris-1.aaaaaaaaf7irdvozuzmwyvbfacdivomj52x65vr6tlg62i6er323sevazdqq</th><th>ocid1.image.oc1.eu-paris-1.aaaaaaaalvbkaoybngg572c4ybw47avoyv2vk4raeus2bg4hyrbfuq4hmcuq</th></tr></thead><tbody><tr><td>68</td><td>VM.DenseIO.E4.Flex,VM.DenseIO.E5.Flex,VM.DenseIO1.16,VM.DenseIO1.4,VM.DenseIO1.8,VM.DenseIO2.16,VM.DenseIO2.24,VM.DenseIO2.8,VM.GPU.A10.1,VM.GPU.A10.2,VM.GPU.GU1.1,VM.GPU.GU1.2,VM.GPU2.1,VM.GPU3.1,VM.GPU3.2,VM.GPU3.4,VM.Optimized3.Flex,VM.Standard.AMD.Generic,VM.Standard.B1.1,VM.Standard.B1.16,VM.Standard.B1.2,VM.Standard.B1.4,VM.Standard.B1.8,VM.Standard.E2.1,VM.Standard.E2.1.Micro,VM.Standard.E2.2,VM.Standard.E2.4,VM.Standard.E2.8,VM.Standard.E3.Flex,VM.Standard.E4.Flex,VM.Standard.E5.Flex,VM.Standard.Intel.Generic,VM.Standard.x86.Generic,VM.Standard1.1,VM.Standard1.16,VM.Standard1.2,VM.Standard1.4,VM.Standard1.8,VM.Standard2.1,VM.Standard2.16,VM.Standard2.2,VM.Standard2.24,VM.Standard2.4,VM.Standard2.8,VM.Standard2.Flex,VM.Standard3.Flex,BM.Standard.E2.64,BM.Standard.E3.128,BM.GPU4.8,BM.Standard.E4.128,BM.GPU.A100-v2.8,BM.DenseIO.E4.128,BM.DenseIO.E5.128,BM.Standard.E5.192,BM.GPU.H100.8,BM.Standard1.36,BM.HighIO1.36,BM.DenseIO1.36,BM.Standard.B1.44,BM.GPU2.2,BM.HPC2.36,BM.Standard2.52,BM.GPU3.8,BM.DenseIO2.52,BM.GPU.T1.2,BM.Optimized3.36,BM.Standard3.64,BM.GPU.A10.4</td><td>null</td></tr><tr><td>60</td><td>null</td><td>VM.DenseIO.E4.Flex,VM.DenseIO.E5.Flex,VM.DenseIO1.16,VM.DenseIO1.4,VM.DenseIO1.8,VM.DenseIO2.16,VM.DenseIO2.24,VM.DenseIO2.8,VM.GPU.A10.1,VM.GPU.A10.2,VM.GPU.GU1.1,VM.GPU.GU1.2,VM.GPU2.1,VM.GPU3.1,VM.GPU3.2,VM.GPU3.4,VM.Optimized3.Flex,VM.Standard.AMD.Generic,VM.Standard.E2.1,VM.Standard.E2.1.Micro,VM.Standard.E2.2,VM.Standard.E2.4,VM.Standard.E2.8,VM.Standard.E3.Flex,VM.Standard.E4.Flex,VM.Standard.E5.Flex,VM.Standard.Intel.Generic,VM.Standard.x86.Generic,VM.Standard1.1,VM.Standard1.16,VM.Standard1.2,VM.Standard1.4,VM.Standard1.8,VM.Standard2.1,VM.Standard2.16,VM.Standard2.2,VM.Standard2.24,VM.Standard2.4,VM.Standard2.8,VM.Standard2.Flex,VM.Standard3.Flex,BM.Standard.E2.64,BM.Standard.E3.128,BM.GPU4.8,BM.Standard.E4.128,BM.GPU.A100-v2.8,BM.DenseIO.E4.128,BM.DenseIO.E5.128,BM.Standard.E5.192,BM.Standard1.36,BM.HighIO1.36,BM.DenseIO1.36,BM.GPU2.2,BM.HPC2.36,BM.Standard2.52,BM.GPU3.8,BM.DenseIO2.52,BM.Optimized3.36,BM.Standard3.64,BM.GPU.A10.4</td></tr></tbody></table>"
      ]
     },
     "execution_count": 45,
     "metadata": {},
     "output_type": "execute_result"
    }
   ],
   "source": [
    "resultatVstack2.groupBy(\"imageId\").agg(\n",
    "    pl.col(\"shape\").alias(\"shape\"),\n",
    "    pl.col(\"shape\").count().alias(\"count\")\n",
    ").select(\n",
    "    pl.col(\"imageId\").alias(\"imageId\"),\n",
    "    pl.col(\"shape\").alias(\"shape\"),\n",
    "    pl.col(\"count\").alias(\"count\")\n",
    ").pivot(pl.col(\"shape\"), {values:\"shape\", index: \"count\", columns:\"imageId\"})"
   ]
  },
  {
   "cell_type": "code",
   "execution_count": 49,
   "id": "8a4d6388-f391-4d40-8cc7-0bc12cadf6bf",
   "metadata": {},
   "outputs": [
    {
     "data": {
      "application/vnd.dataresource+json": {
       "data": [
        {
         "BM.DenseIO.E4.128": null,
         "BM.DenseIO.E5.128": null,
         "BM.DenseIO1.36": null,
         "BM.DenseIO2.52": null,
         "BM.GPU.A10.4": null,
         "BM.GPU.A100-v2.8": null,
         "BM.GPU.H100.8": [
          "ocid1.image.oc1.eu-paris-1.aaaaaaaaf7irdvozuzmwyvbfacdivomj52x65vr6tlg62i6er323sevazdqq"
         ],
         "BM.GPU.T1.2": [
          "ocid1.image.oc1.eu-paris-1.aaaaaaaaf7irdvozuzmwyvbfacdivomj52x65vr6tlg62i6er323sevazdqq"
         ],
         "BM.GPU2.2": null,
         "BM.GPU3.8": null,
         "BM.GPU4.8": null,
         "BM.HPC2.36": null,
         "BM.HighIO1.36": null,
         "BM.Optimized3.36": null,
         "BM.Standard.B1.44": [
          "ocid1.image.oc1.eu-paris-1.aaaaaaaaf7irdvozuzmwyvbfacdivomj52x65vr6tlg62i6er323sevazdqq"
         ],
         "BM.Standard.E2.64": null,
         "BM.Standard.E3.128": null,
         "BM.Standard.E4.128": null,
         "BM.Standard.E5.192": null,
         "BM.Standard1.36": null,
         "BM.Standard2.52": null,
         "BM.Standard3.64": null,
         "VM.DenseIO.E4.Flex": null,
         "VM.DenseIO.E5.Flex": null,
         "VM.DenseIO1.16": null,
         "VM.DenseIO1.4": null,
         "VM.DenseIO1.8": null,
         "VM.DenseIO2.16": null,
         "VM.DenseIO2.24": null,
         "VM.DenseIO2.8": null,
         "VM.GPU.A10.1": null,
         "VM.GPU.A10.2": null,
         "VM.GPU.GU1.1": null,
         "VM.GPU.GU1.2": null,
         "VM.GPU2.1": null,
         "VM.GPU3.1": null,
         "VM.GPU3.2": null,
         "VM.GPU3.4": null,
         "VM.Optimized3.Flex": null,
         "VM.Standard.AMD.Generic": null,
         "VM.Standard.B1.1": [
          "ocid1.image.oc1.eu-paris-1.aaaaaaaaf7irdvozuzmwyvbfacdivomj52x65vr6tlg62i6er323sevazdqq"
         ],
         "VM.Standard.B1.16": [
          "ocid1.image.oc1.eu-paris-1.aaaaaaaaf7irdvozuzmwyvbfacdivomj52x65vr6tlg62i6er323sevazdqq"
         ],
         "VM.Standard.B1.2": [
          "ocid1.image.oc1.eu-paris-1.aaaaaaaaf7irdvozuzmwyvbfacdivomj52x65vr6tlg62i6er323sevazdqq"
         ],
         "VM.Standard.B1.4": [
          "ocid1.image.oc1.eu-paris-1.aaaaaaaaf7irdvozuzmwyvbfacdivomj52x65vr6tlg62i6er323sevazdqq"
         ],
         "VM.Standard.B1.8": [
          "ocid1.image.oc1.eu-paris-1.aaaaaaaaf7irdvozuzmwyvbfacdivomj52x65vr6tlg62i6er323sevazdqq"
         ],
         "VM.Standard.E2.1": null,
         "VM.Standard.E2.1.Micro": null,
         "VM.Standard.E2.2": null,
         "VM.Standard.E2.4": null,
         "VM.Standard.E2.8": null,
         "VM.Standard.E3.Flex": null,
         "VM.Standard.E4.Flex": null,
         "VM.Standard.E5.Flex": null,
         "VM.Standard.Intel.Generic": null,
         "VM.Standard.x86.Generic": null,
         "VM.Standard1.1": null,
         "VM.Standard1.16": null,
         "VM.Standard1.2": null,
         "VM.Standard1.4": null,
         "VM.Standard1.8": null,
         "VM.Standard2.1": null,
         "VM.Standard2.16": null,
         "VM.Standard2.2": null,
         "VM.Standard2.24": null,
         "VM.Standard2.4": null,
         "VM.Standard2.8": null,
         "VM.Standard2.Flex": null,
         "VM.Standard3.Flex": null,
         "count": 1
        },
        {
         "BM.DenseIO.E4.128": [
          "ocid1.image.oc1.eu-paris-1.aaaaaaaalvbkaoybngg572c4ybw47avoyv2vk4raeus2bg4hyrbfuq4hmcuq",
          "ocid1.image.oc1.eu-paris-1.aaaaaaaaf7irdvozuzmwyvbfacdivomj52x65vr6tlg62i6er323sevazdqq"
         ],
         "BM.DenseIO.E5.128": [
          "ocid1.image.oc1.eu-paris-1.aaaaaaaalvbkaoybngg572c4ybw47avoyv2vk4raeus2bg4hyrbfuq4hmcuq",
          "ocid1.image.oc1.eu-paris-1.aaaaaaaaf7irdvozuzmwyvbfacdivomj52x65vr6tlg62i6er323sevazdqq"
         ],
         "BM.DenseIO1.36": [
          "ocid1.image.oc1.eu-paris-1.aaaaaaaalvbkaoybngg572c4ybw47avoyv2vk4raeus2bg4hyrbfuq4hmcuq",
          "ocid1.image.oc1.eu-paris-1.aaaaaaaaf7irdvozuzmwyvbfacdivomj52x65vr6tlg62i6er323sevazdqq"
         ],
         "BM.DenseIO2.52": [
          "ocid1.image.oc1.eu-paris-1.aaaaaaaalvbkaoybngg572c4ybw47avoyv2vk4raeus2bg4hyrbfuq4hmcuq",
          "ocid1.image.oc1.eu-paris-1.aaaaaaaaf7irdvozuzmwyvbfacdivomj52x65vr6tlg62i6er323sevazdqq"
         ],
         "BM.GPU.A10.4": [
          "ocid1.image.oc1.eu-paris-1.aaaaaaaalvbkaoybngg572c4ybw47avoyv2vk4raeus2bg4hyrbfuq4hmcuq",
          "ocid1.image.oc1.eu-paris-1.aaaaaaaaf7irdvozuzmwyvbfacdivomj52x65vr6tlg62i6er323sevazdqq"
         ],
         "BM.GPU.A100-v2.8": [
          "ocid1.image.oc1.eu-paris-1.aaaaaaaalvbkaoybngg572c4ybw47avoyv2vk4raeus2bg4hyrbfuq4hmcuq",
          "ocid1.image.oc1.eu-paris-1.aaaaaaaaf7irdvozuzmwyvbfacdivomj52x65vr6tlg62i6er323sevazdqq"
         ],
         "BM.GPU.H100.8": null,
         "BM.GPU.T1.2": null,
         "BM.GPU2.2": [
          "ocid1.image.oc1.eu-paris-1.aaaaaaaalvbkaoybngg572c4ybw47avoyv2vk4raeus2bg4hyrbfuq4hmcuq",
          "ocid1.image.oc1.eu-paris-1.aaaaaaaaf7irdvozuzmwyvbfacdivomj52x65vr6tlg62i6er323sevazdqq"
         ],
         "BM.GPU3.8": [
          "ocid1.image.oc1.eu-paris-1.aaaaaaaalvbkaoybngg572c4ybw47avoyv2vk4raeus2bg4hyrbfuq4hmcuq",
          "ocid1.image.oc1.eu-paris-1.aaaaaaaaf7irdvozuzmwyvbfacdivomj52x65vr6tlg62i6er323sevazdqq"
         ],
         "BM.GPU4.8": [
          "ocid1.image.oc1.eu-paris-1.aaaaaaaalvbkaoybngg572c4ybw47avoyv2vk4raeus2bg4hyrbfuq4hmcuq",
          "ocid1.image.oc1.eu-paris-1.aaaaaaaaf7irdvozuzmwyvbfacdivomj52x65vr6tlg62i6er323sevazdqq"
         ],
         "BM.HPC2.36": [
          "ocid1.image.oc1.eu-paris-1.aaaaaaaalvbkaoybngg572c4ybw47avoyv2vk4raeus2bg4hyrbfuq4hmcuq",
          "ocid1.image.oc1.eu-paris-1.aaaaaaaaf7irdvozuzmwyvbfacdivomj52x65vr6tlg62i6er323sevazdqq"
         ],
         "BM.HighIO1.36": [
          "ocid1.image.oc1.eu-paris-1.aaaaaaaalvbkaoybngg572c4ybw47avoyv2vk4raeus2bg4hyrbfuq4hmcuq",
          "ocid1.image.oc1.eu-paris-1.aaaaaaaaf7irdvozuzmwyvbfacdivomj52x65vr6tlg62i6er323sevazdqq"
         ],
         "BM.Optimized3.36": [
          "ocid1.image.oc1.eu-paris-1.aaaaaaaalvbkaoybngg572c4ybw47avoyv2vk4raeus2bg4hyrbfuq4hmcuq",
          "ocid1.image.oc1.eu-paris-1.aaaaaaaaf7irdvozuzmwyvbfacdivomj52x65vr6tlg62i6er323sevazdqq"
         ],
         "BM.Standard.B1.44": null,
         "BM.Standard.E2.64": [
          "ocid1.image.oc1.eu-paris-1.aaaaaaaalvbkaoybngg572c4ybw47avoyv2vk4raeus2bg4hyrbfuq4hmcuq",
          "ocid1.image.oc1.eu-paris-1.aaaaaaaaf7irdvozuzmwyvbfacdivomj52x65vr6tlg62i6er323sevazdqq"
         ],
         "BM.Standard.E3.128": [
          "ocid1.image.oc1.eu-paris-1.aaaaaaaalvbkaoybngg572c4ybw47avoyv2vk4raeus2bg4hyrbfuq4hmcuq",
          "ocid1.image.oc1.eu-paris-1.aaaaaaaaf7irdvozuzmwyvbfacdivomj52x65vr6tlg62i6er323sevazdqq"
         ],
         "BM.Standard.E4.128": [
          "ocid1.image.oc1.eu-paris-1.aaaaaaaalvbkaoybngg572c4ybw47avoyv2vk4raeus2bg4hyrbfuq4hmcuq",
          "ocid1.image.oc1.eu-paris-1.aaaaaaaaf7irdvozuzmwyvbfacdivomj52x65vr6tlg62i6er323sevazdqq"
         ],
         "BM.Standard.E5.192": [
          "ocid1.image.oc1.eu-paris-1.aaaaaaaalvbkaoybngg572c4ybw47avoyv2vk4raeus2bg4hyrbfuq4hmcuq",
          "ocid1.image.oc1.eu-paris-1.aaaaaaaaf7irdvozuzmwyvbfacdivomj52x65vr6tlg62i6er323sevazdqq"
         ],
         "BM.Standard1.36": [
          "ocid1.image.oc1.eu-paris-1.aaaaaaaalvbkaoybngg572c4ybw47avoyv2vk4raeus2bg4hyrbfuq4hmcuq",
          "ocid1.image.oc1.eu-paris-1.aaaaaaaaf7irdvozuzmwyvbfacdivomj52x65vr6tlg62i6er323sevazdqq"
         ],
         "BM.Standard2.52": [
          "ocid1.image.oc1.eu-paris-1.aaaaaaaalvbkaoybngg572c4ybw47avoyv2vk4raeus2bg4hyrbfuq4hmcuq",
          "ocid1.image.oc1.eu-paris-1.aaaaaaaaf7irdvozuzmwyvbfacdivomj52x65vr6tlg62i6er323sevazdqq"
         ],
         "BM.Standard3.64": [
          "ocid1.image.oc1.eu-paris-1.aaaaaaaalvbkaoybngg572c4ybw47avoyv2vk4raeus2bg4hyrbfuq4hmcuq",
          "ocid1.image.oc1.eu-paris-1.aaaaaaaaf7irdvozuzmwyvbfacdivomj52x65vr6tlg62i6er323sevazdqq"
         ],
         "VM.DenseIO.E4.Flex": [
          "ocid1.image.oc1.eu-paris-1.aaaaaaaalvbkaoybngg572c4ybw47avoyv2vk4raeus2bg4hyrbfuq4hmcuq",
          "ocid1.image.oc1.eu-paris-1.aaaaaaaaf7irdvozuzmwyvbfacdivomj52x65vr6tlg62i6er323sevazdqq"
         ],
         "VM.DenseIO.E5.Flex": [
          "ocid1.image.oc1.eu-paris-1.aaaaaaaalvbkaoybngg572c4ybw47avoyv2vk4raeus2bg4hyrbfuq4hmcuq",
          "ocid1.image.oc1.eu-paris-1.aaaaaaaaf7irdvozuzmwyvbfacdivomj52x65vr6tlg62i6er323sevazdqq"
         ],
         "VM.DenseIO1.16": [
          "ocid1.image.oc1.eu-paris-1.aaaaaaaalvbkaoybngg572c4ybw47avoyv2vk4raeus2bg4hyrbfuq4hmcuq",
          "ocid1.image.oc1.eu-paris-1.aaaaaaaaf7irdvozuzmwyvbfacdivomj52x65vr6tlg62i6er323sevazdqq"
         ],
         "VM.DenseIO1.4": [
          "ocid1.image.oc1.eu-paris-1.aaaaaaaalvbkaoybngg572c4ybw47avoyv2vk4raeus2bg4hyrbfuq4hmcuq",
          "ocid1.image.oc1.eu-paris-1.aaaaaaaaf7irdvozuzmwyvbfacdivomj52x65vr6tlg62i6er323sevazdqq"
         ],
         "VM.DenseIO1.8": [
          "ocid1.image.oc1.eu-paris-1.aaaaaaaalvbkaoybngg572c4ybw47avoyv2vk4raeus2bg4hyrbfuq4hmcuq",
          "ocid1.image.oc1.eu-paris-1.aaaaaaaaf7irdvozuzmwyvbfacdivomj52x65vr6tlg62i6er323sevazdqq"
         ],
         "VM.DenseIO2.16": [
          "ocid1.image.oc1.eu-paris-1.aaaaaaaalvbkaoybngg572c4ybw47avoyv2vk4raeus2bg4hyrbfuq4hmcuq",
          "ocid1.image.oc1.eu-paris-1.aaaaaaaaf7irdvozuzmwyvbfacdivomj52x65vr6tlg62i6er323sevazdqq"
         ],
         "VM.DenseIO2.24": [
          "ocid1.image.oc1.eu-paris-1.aaaaaaaalvbkaoybngg572c4ybw47avoyv2vk4raeus2bg4hyrbfuq4hmcuq",
          "ocid1.image.oc1.eu-paris-1.aaaaaaaaf7irdvozuzmwyvbfacdivomj52x65vr6tlg62i6er323sevazdqq"
         ],
         "VM.DenseIO2.8": [
          "ocid1.image.oc1.eu-paris-1.aaaaaaaalvbkaoybngg572c4ybw47avoyv2vk4raeus2bg4hyrbfuq4hmcuq",
          "ocid1.image.oc1.eu-paris-1.aaaaaaaaf7irdvozuzmwyvbfacdivomj52x65vr6tlg62i6er323sevazdqq"
         ],
         "VM.GPU.A10.1": [
          "ocid1.image.oc1.eu-paris-1.aaaaaaaalvbkaoybngg572c4ybw47avoyv2vk4raeus2bg4hyrbfuq4hmcuq",
          "ocid1.image.oc1.eu-paris-1.aaaaaaaaf7irdvozuzmwyvbfacdivomj52x65vr6tlg62i6er323sevazdqq"
         ],
         "VM.GPU.A10.2": [
          "ocid1.image.oc1.eu-paris-1.aaaaaaaalvbkaoybngg572c4ybw47avoyv2vk4raeus2bg4hyrbfuq4hmcuq",
          "ocid1.image.oc1.eu-paris-1.aaaaaaaaf7irdvozuzmwyvbfacdivomj52x65vr6tlg62i6er323sevazdqq"
         ],
         "VM.GPU.GU1.1": [
          "ocid1.image.oc1.eu-paris-1.aaaaaaaalvbkaoybngg572c4ybw47avoyv2vk4raeus2bg4hyrbfuq4hmcuq",
          "ocid1.image.oc1.eu-paris-1.aaaaaaaaf7irdvozuzmwyvbfacdivomj52x65vr6tlg62i6er323sevazdqq"
         ],
         "VM.GPU.GU1.2": [
          "ocid1.image.oc1.eu-paris-1.aaaaaaaalvbkaoybngg572c4ybw47avoyv2vk4raeus2bg4hyrbfuq4hmcuq",
          "ocid1.image.oc1.eu-paris-1.aaaaaaaaf7irdvozuzmwyvbfacdivomj52x65vr6tlg62i6er323sevazdqq"
         ],
         "VM.GPU2.1": [
          "ocid1.image.oc1.eu-paris-1.aaaaaaaalvbkaoybngg572c4ybw47avoyv2vk4raeus2bg4hyrbfuq4hmcuq",
          "ocid1.image.oc1.eu-paris-1.aaaaaaaaf7irdvozuzmwyvbfacdivomj52x65vr6tlg62i6er323sevazdqq"
         ],
         "VM.GPU3.1": [
          "ocid1.image.oc1.eu-paris-1.aaaaaaaalvbkaoybngg572c4ybw47avoyv2vk4raeus2bg4hyrbfuq4hmcuq",
          "ocid1.image.oc1.eu-paris-1.aaaaaaaaf7irdvozuzmwyvbfacdivomj52x65vr6tlg62i6er323sevazdqq"
         ],
         "VM.GPU3.2": [
          "ocid1.image.oc1.eu-paris-1.aaaaaaaalvbkaoybngg572c4ybw47avoyv2vk4raeus2bg4hyrbfuq4hmcuq",
          "ocid1.image.oc1.eu-paris-1.aaaaaaaaf7irdvozuzmwyvbfacdivomj52x65vr6tlg62i6er323sevazdqq"
         ],
         "VM.GPU3.4": [
          "ocid1.image.oc1.eu-paris-1.aaaaaaaalvbkaoybngg572c4ybw47avoyv2vk4raeus2bg4hyrbfuq4hmcuq",
          "ocid1.image.oc1.eu-paris-1.aaaaaaaaf7irdvozuzmwyvbfacdivomj52x65vr6tlg62i6er323sevazdqq"
         ],
         "VM.Optimized3.Flex": [
          "ocid1.image.oc1.eu-paris-1.aaaaaaaalvbkaoybngg572c4ybw47avoyv2vk4raeus2bg4hyrbfuq4hmcuq",
          "ocid1.image.oc1.eu-paris-1.aaaaaaaaf7irdvozuzmwyvbfacdivomj52x65vr6tlg62i6er323sevazdqq"
         ],
         "VM.Standard.AMD.Generic": [
          "ocid1.image.oc1.eu-paris-1.aaaaaaaalvbkaoybngg572c4ybw47avoyv2vk4raeus2bg4hyrbfuq4hmcuq",
          "ocid1.image.oc1.eu-paris-1.aaaaaaaaf7irdvozuzmwyvbfacdivomj52x65vr6tlg62i6er323sevazdqq"
         ],
         "VM.Standard.B1.1": null,
         "VM.Standard.B1.16": null,
         "VM.Standard.B1.2": null,
         "VM.Standard.B1.4": null,
         "VM.Standard.B1.8": null,
         "VM.Standard.E2.1": [
          "ocid1.image.oc1.eu-paris-1.aaaaaaaalvbkaoybngg572c4ybw47avoyv2vk4raeus2bg4hyrbfuq4hmcuq",
          "ocid1.image.oc1.eu-paris-1.aaaaaaaaf7irdvozuzmwyvbfacdivomj52x65vr6tlg62i6er323sevazdqq"
         ],
         "VM.Standard.E2.1.Micro": [
          "ocid1.image.oc1.eu-paris-1.aaaaaaaalvbkaoybngg572c4ybw47avoyv2vk4raeus2bg4hyrbfuq4hmcuq",
          "ocid1.image.oc1.eu-paris-1.aaaaaaaaf7irdvozuzmwyvbfacdivomj52x65vr6tlg62i6er323sevazdqq"
         ],
         "VM.Standard.E2.2": [
          "ocid1.image.oc1.eu-paris-1.aaaaaaaalvbkaoybngg572c4ybw47avoyv2vk4raeus2bg4hyrbfuq4hmcuq",
          "ocid1.image.oc1.eu-paris-1.aaaaaaaaf7irdvozuzmwyvbfacdivomj52x65vr6tlg62i6er323sevazdqq"
         ],
         "VM.Standard.E2.4": [
          "ocid1.image.oc1.eu-paris-1.aaaaaaaalvbkaoybngg572c4ybw47avoyv2vk4raeus2bg4hyrbfuq4hmcuq",
          "ocid1.image.oc1.eu-paris-1.aaaaaaaaf7irdvozuzmwyvbfacdivomj52x65vr6tlg62i6er323sevazdqq"
         ],
         "VM.Standard.E2.8": [
          "ocid1.image.oc1.eu-paris-1.aaaaaaaalvbkaoybngg572c4ybw47avoyv2vk4raeus2bg4hyrbfuq4hmcuq",
          "ocid1.image.oc1.eu-paris-1.aaaaaaaaf7irdvozuzmwyvbfacdivomj52x65vr6tlg62i6er323sevazdqq"
         ],
         "VM.Standard.E3.Flex": [
          "ocid1.image.oc1.eu-paris-1.aaaaaaaalvbkaoybngg572c4ybw47avoyv2vk4raeus2bg4hyrbfuq4hmcuq",
          "ocid1.image.oc1.eu-paris-1.aaaaaaaaf7irdvozuzmwyvbfacdivomj52x65vr6tlg62i6er323sevazdqq"
         ],
         "VM.Standard.E4.Flex": [
          "ocid1.image.oc1.eu-paris-1.aaaaaaaalvbkaoybngg572c4ybw47avoyv2vk4raeus2bg4hyrbfuq4hmcuq",
          "ocid1.image.oc1.eu-paris-1.aaaaaaaaf7irdvozuzmwyvbfacdivomj52x65vr6tlg62i6er323sevazdqq"
         ],
         "VM.Standard.E5.Flex": [
          "ocid1.image.oc1.eu-paris-1.aaaaaaaalvbkaoybngg572c4ybw47avoyv2vk4raeus2bg4hyrbfuq4hmcuq",
          "ocid1.image.oc1.eu-paris-1.aaaaaaaaf7irdvozuzmwyvbfacdivomj52x65vr6tlg62i6er323sevazdqq"
         ],
         "VM.Standard.Intel.Generic": [
          "ocid1.image.oc1.eu-paris-1.aaaaaaaalvbkaoybngg572c4ybw47avoyv2vk4raeus2bg4hyrbfuq4hmcuq",
          "ocid1.image.oc1.eu-paris-1.aaaaaaaaf7irdvozuzmwyvbfacdivomj52x65vr6tlg62i6er323sevazdqq"
         ],
         "VM.Standard.x86.Generic": [
          "ocid1.image.oc1.eu-paris-1.aaaaaaaalvbkaoybngg572c4ybw47avoyv2vk4raeus2bg4hyrbfuq4hmcuq",
          "ocid1.image.oc1.eu-paris-1.aaaaaaaaf7irdvozuzmwyvbfacdivomj52x65vr6tlg62i6er323sevazdqq"
         ],
         "VM.Standard1.1": [
          "ocid1.image.oc1.eu-paris-1.aaaaaaaalvbkaoybngg572c4ybw47avoyv2vk4raeus2bg4hyrbfuq4hmcuq",
          "ocid1.image.oc1.eu-paris-1.aaaaaaaaf7irdvozuzmwyvbfacdivomj52x65vr6tlg62i6er323sevazdqq"
         ],
         "VM.Standard1.16": [
          "ocid1.image.oc1.eu-paris-1.aaaaaaaalvbkaoybngg572c4ybw47avoyv2vk4raeus2bg4hyrbfuq4hmcuq",
          "ocid1.image.oc1.eu-paris-1.aaaaaaaaf7irdvozuzmwyvbfacdivomj52x65vr6tlg62i6er323sevazdqq"
         ],
         "VM.Standard1.2": [
          "ocid1.image.oc1.eu-paris-1.aaaaaaaalvbkaoybngg572c4ybw47avoyv2vk4raeus2bg4hyrbfuq4hmcuq",
          "ocid1.image.oc1.eu-paris-1.aaaaaaaaf7irdvozuzmwyvbfacdivomj52x65vr6tlg62i6er323sevazdqq"
         ],
         "VM.Standard1.4": [
          "ocid1.image.oc1.eu-paris-1.aaaaaaaalvbkaoybngg572c4ybw47avoyv2vk4raeus2bg4hyrbfuq4hmcuq",
          "ocid1.image.oc1.eu-paris-1.aaaaaaaaf7irdvozuzmwyvbfacdivomj52x65vr6tlg62i6er323sevazdqq"
         ],
         "VM.Standard1.8": [
          "ocid1.image.oc1.eu-paris-1.aaaaaaaalvbkaoybngg572c4ybw47avoyv2vk4raeus2bg4hyrbfuq4hmcuq",
          "ocid1.image.oc1.eu-paris-1.aaaaaaaaf7irdvozuzmwyvbfacdivomj52x65vr6tlg62i6er323sevazdqq"
         ],
         "VM.Standard2.1": [
          "ocid1.image.oc1.eu-paris-1.aaaaaaaalvbkaoybngg572c4ybw47avoyv2vk4raeus2bg4hyrbfuq4hmcuq",
          "ocid1.image.oc1.eu-paris-1.aaaaaaaaf7irdvozuzmwyvbfacdivomj52x65vr6tlg62i6er323sevazdqq"
         ],
         "VM.Standard2.16": [
          "ocid1.image.oc1.eu-paris-1.aaaaaaaalvbkaoybngg572c4ybw47avoyv2vk4raeus2bg4hyrbfuq4hmcuq",
          "ocid1.image.oc1.eu-paris-1.aaaaaaaaf7irdvozuzmwyvbfacdivomj52x65vr6tlg62i6er323sevazdqq"
         ],
         "VM.Standard2.2": [
          "ocid1.image.oc1.eu-paris-1.aaaaaaaalvbkaoybngg572c4ybw47avoyv2vk4raeus2bg4hyrbfuq4hmcuq",
          "ocid1.image.oc1.eu-paris-1.aaaaaaaaf7irdvozuzmwyvbfacdivomj52x65vr6tlg62i6er323sevazdqq"
         ],
         "VM.Standard2.24": [
          "ocid1.image.oc1.eu-paris-1.aaaaaaaalvbkaoybngg572c4ybw47avoyv2vk4raeus2bg4hyrbfuq4hmcuq",
          "ocid1.image.oc1.eu-paris-1.aaaaaaaaf7irdvozuzmwyvbfacdivomj52x65vr6tlg62i6er323sevazdqq"
         ],
         "VM.Standard2.4": [
          "ocid1.image.oc1.eu-paris-1.aaaaaaaalvbkaoybngg572c4ybw47avoyv2vk4raeus2bg4hyrbfuq4hmcuq",
          "ocid1.image.oc1.eu-paris-1.aaaaaaaaf7irdvozuzmwyvbfacdivomj52x65vr6tlg62i6er323sevazdqq"
         ],
         "VM.Standard2.8": [
          "ocid1.image.oc1.eu-paris-1.aaaaaaaalvbkaoybngg572c4ybw47avoyv2vk4raeus2bg4hyrbfuq4hmcuq",
          "ocid1.image.oc1.eu-paris-1.aaaaaaaaf7irdvozuzmwyvbfacdivomj52x65vr6tlg62i6er323sevazdqq"
         ],
         "VM.Standard2.Flex": [
          "ocid1.image.oc1.eu-paris-1.aaaaaaaalvbkaoybngg572c4ybw47avoyv2vk4raeus2bg4hyrbfuq4hmcuq",
          "ocid1.image.oc1.eu-paris-1.aaaaaaaaf7irdvozuzmwyvbfacdivomj52x65vr6tlg62i6er323sevazdqq"
         ],
         "VM.Standard3.Flex": [
          "ocid1.image.oc1.eu-paris-1.aaaaaaaalvbkaoybngg572c4ybw47avoyv2vk4raeus2bg4hyrbfuq4hmcuq",
          "ocid1.image.oc1.eu-paris-1.aaaaaaaaf7irdvozuzmwyvbfacdivomj52x65vr6tlg62i6er323sevazdqq"
         ],
         "count": 2
        }
       ],
       "schema": {
        "fields": [
         {
          "name": "count",
          "type": "integer"
         },
         {
          "name": "VM.Standard.B1.1",
          "type": "array"
         },
         {
          "name": "BM.GPU.H100.8",
          "type": "array"
         },
         {
          "name": "VM.Standard2.2",
          "type": "array"
         },
         {
          "name": "VM.Standard2.1",
          "type": "array"
         },
         {
          "name": "VM.Standard.x86.Generic",
          "type": "array"
         },
         {
          "name": "VM.GPU.GU1.2",
          "type": "array"
         },
         {
          "name": "VM.Standard.B1.4",
          "type": "array"
         },
         {
          "name": "VM.Standard1.2",
          "type": "array"
         },
         {
          "name": "BM.GPU4.8",
          "type": "array"
         },
         {
          "name": "VM.GPU.A10.1",
          "type": "array"
         },
         {
          "name": "VM.GPU2.1",
          "type": "array"
         },
         {
          "name": "VM.Standard.AMD.Generic",
          "type": "array"
         },
         {
          "name": "VM.Standard.E4.Flex",
          "type": "array"
         },
         {
          "name": "BM.GPU.A10.4",
          "type": "array"
         },
         {
          "name": "VM.Standard1.4",
          "type": "array"
         },
         {
          "name": "BM.HPC2.36",
          "type": "array"
         },
         {
          "name": "VM.Standard2.8",
          "type": "array"
         },
         {
          "name": "BM.DenseIO.E4.128",
          "type": "array"
         },
         {
          "name": "BM.GPU.T1.2",
          "type": "array"
         },
         {
          "name": "BM.Standard.E4.128",
          "type": "array"
         },
         {
          "name": "VM.Standard2.16",
          "type": "array"
         },
         {
          "name": "BM.Standard.E5.192",
          "type": "array"
         },
         {
          "name": "VM.DenseIO2.8",
          "type": "array"
         },
         {
          "name": "VM.Standard.E5.Flex",
          "type": "array"
         },
         {
          "name": "BM.DenseIO1.36",
          "type": "array"
         },
         {
          "name": "VM.DenseIO2.16",
          "type": "array"
         },
         {
          "name": "VM.Standard1.16",
          "type": "array"
         },
         {
          "name": "VM.Standard2.4",
          "type": "array"
         },
         {
          "name": "VM.Standard3.Flex",
          "type": "array"
         },
         {
          "name": "VM.Standard.E3.Flex",
          "type": "array"
         },
         {
          "name": "BM.GPU3.8",
          "type": "array"
         },
         {
          "name": "BM.GPU2.2",
          "type": "array"
         },
         {
          "name": "VM.GPU3.1",
          "type": "array"
         },
         {
          "name": "VM.Standard.B1.16",
          "type": "array"
         },
         {
          "name": "VM.DenseIO2.24",
          "type": "array"
         },
         {
          "name": "VM.DenseIO.E5.Flex",
          "type": "array"
         },
         {
          "name": "VM.Standard1.8",
          "type": "array"
         },
         {
          "name": "BM.Standard2.52",
          "type": "array"
         },
         {
          "name": "VM.Standard1.1",
          "type": "array"
         },
         {
          "name": "VM.GPU.A10.2",
          "type": "array"
         },
         {
          "name": "BM.Standard3.64",
          "type": "array"
         },
         {
          "name": "BM.Optimized3.36",
          "type": "array"
         },
         {
          "name": "BM.Standard.E3.128",
          "type": "array"
         },
         {
          "name": "BM.HighIO1.36",
          "type": "array"
         },
         {
          "name": "VM.Standard.E2.1",
          "type": "array"
         },
         {
          "name": "VM.Standard.E2.8",
          "type": "array"
         },
         {
          "name": "VM.DenseIO1.8",
          "type": "array"
         },
         {
          "name": "VM.DenseIO.E4.Flex",
          "type": "array"
         },
         {
          "name": "VM.Optimized3.Flex",
          "type": "array"
         },
         {
          "name": "VM.Standard2.Flex",
          "type": "array"
         },
         {
          "name": "VM.Standard.E2.2",
          "type": "array"
         },
         {
          "name": "VM.DenseIO1.4",
          "type": "array"
         },
         {
          "name": "VM.GPU3.2",
          "type": "array"
         },
         {
          "name": "VM.Standard.Intel.Generic",
          "type": "array"
         },
         {
          "name": "VM.Standard.E2.1.Micro",
          "type": "array"
         },
         {
          "name": "VM.Standard.B1.8",
          "type": "array"
         },
         {
          "name": "BM.DenseIO.E5.128",
          "type": "array"
         },
         {
          "name": "VM.GPU.GU1.1",
          "type": "array"
         },
         {
          "name": "BM.Standard1.36",
          "type": "array"
         },
         {
          "name": "BM.GPU.A100-v2.8",
          "type": "array"
         },
         {
          "name": "VM.GPU3.4",
          "type": "array"
         },
         {
          "name": "VM.DenseIO1.16",
          "type": "array"
         },
         {
          "name": "VM.Standard.B1.2",
          "type": "array"
         },
         {
          "name": "BM.Standard.B1.44",
          "type": "array"
         },
         {
          "name": "BM.Standard.E2.64",
          "type": "array"
         },
         {
          "name": "BM.DenseIO2.52",
          "type": "array"
         },
         {
          "name": "VM.Standard.E2.4",
          "type": "array"
         },
         {
          "name": "VM.Standard2.24",
          "type": "array"
         }
        ]
       }
      },
      "text/html": [
       "<table><thead><tr><th>count</th><th>VM.Standard.B1.1</th><th>BM.GPU.H100.8</th><th>VM.Standard2.2</th><th>VM.Standard2.1</th><th>VM.Standard.x86.Generic</th><th>VM.GPU.GU1.2</th><th>VM.Standard.B1.4</th><th>VM.Standard1.2</th><th>BM.GPU4.8</th><th>VM.GPU.A10.1</th><th>VM.GPU2.1</th><th>VM.Standard.AMD.Generic</th><th>VM.Standard.E4.Flex</th><th>BM.GPU.A10.4</th><th>VM.Standard1.4</th><th>BM.HPC2.36</th><th>VM.Standard2.8</th><th>BM.DenseIO.E4.128</th><th>BM.GPU.T1.2</th><th>BM.Standard.E4.128</th><th>VM.Standard2.16</th><th>BM.Standard.E5.192</th><th>VM.DenseIO2.8</th><th>VM.Standard.E5.Flex</th><th>BM.DenseIO1.36</th><th>VM.DenseIO2.16</th><th>VM.Standard1.16</th><th>VM.Standard2.4</th><th>VM.Standard3.Flex</th><th>VM.Standard.E3.Flex</th><th>BM.GPU3.8</th><th>BM.GPU2.2</th><th>VM.GPU3.1</th><th>VM.Standard.B1.16</th><th>VM.DenseIO2.24</th><th>VM.DenseIO.E5.Flex</th><th>VM.Standard1.8</th><th>BM.Standard2.52</th><th>VM.Standard1.1</th><th>VM.GPU.A10.2</th><th>BM.Standard3.64</th><th>BM.Optimized3.36</th><th>BM.Standard.E3.128</th><th>BM.HighIO1.36</th><th>VM.Standard.E2.1</th><th>VM.Standard.E2.8</th><th>VM.DenseIO1.8</th><th>VM.DenseIO.E4.Flex</th><th>VM.Optimized3.Flex</th><th>VM.Standard2.Flex</th><th>VM.Standard.E2.2</th><th>VM.DenseIO1.4</th><th>VM.GPU3.2</th><th>VM.Standard.Intel.Generic</th><th>VM.Standard.E2.1.Micro</th><th>VM.Standard.B1.8</th><th>BM.DenseIO.E5.128</th><th>VM.GPU.GU1.1</th><th>BM.Standard1.36</th><th>BM.GPU.A100-v2.8</th><th>VM.GPU3.4</th><th>VM.DenseIO1.16</th><th>VM.Standard.B1.2</th><th>BM.Standard.B1.44</th><th>BM.Standard.E2.64</th><th>BM.DenseIO2.52</th><th>VM.Standard.E2.4</th><th>VM.Standard2.24</th></tr></thead><tbody><tr><td>1</td><td>ocid1.image.oc1.eu-paris-1.aaaaaaaaf7irdvozuzmwyvbfacdivomj52x65vr6tlg62i6er323sevazdqq</td><td>ocid1.image.oc1.eu-paris-1.aaaaaaaaf7irdvozuzmwyvbfacdivomj52x65vr6tlg62i6er323sevazdqq</td><td>null</td><td>null</td><td>null</td><td>null</td><td>ocid1.image.oc1.eu-paris-1.aaaaaaaaf7irdvozuzmwyvbfacdivomj52x65vr6tlg62i6er323sevazdqq</td><td>null</td><td>null</td><td>null</td><td>null</td><td>null</td><td>null</td><td>null</td><td>null</td><td>null</td><td>null</td><td>null</td><td>ocid1.image.oc1.eu-paris-1.aaaaaaaaf7irdvozuzmwyvbfacdivomj52x65vr6tlg62i6er323sevazdqq</td><td>null</td><td>null</td><td>null</td><td>null</td><td>null</td><td>null</td><td>null</td><td>null</td><td>null</td><td>null</td><td>null</td><td>null</td><td>null</td><td>null</td><td>ocid1.image.oc1.eu-paris-1.aaaaaaaaf7irdvozuzmwyvbfacdivomj52x65vr6tlg62i6er323sevazdqq</td><td>null</td><td>null</td><td>null</td><td>null</td><td>null</td><td>null</td><td>null</td><td>null</td><td>null</td><td>null</td><td>null</td><td>null</td><td>null</td><td>null</td><td>null</td><td>null</td><td>null</td><td>null</td><td>null</td><td>null</td><td>null</td><td>ocid1.image.oc1.eu-paris-1.aaaaaaaaf7irdvozuzmwyvbfacdivomj52x65vr6tlg62i6er323sevazdqq</td><td>null</td><td>null</td><td>null</td><td>null</td><td>null</td><td>null</td><td>ocid1.image.oc1.eu-paris-1.aaaaaaaaf7irdvozuzmwyvbfacdivomj52x65vr6tlg62i6er323sevazdqq</td><td>ocid1.image.oc1.eu-paris-1.aaaaaaaaf7irdvozuzmwyvbfacdivomj52x65vr6tlg62i6er323sevazdqq</td><td>null</td><td>null</td><td>null</td><td>null</td></tr><tr><td>2</td><td>null</td><td>null</td><td>ocid1.image.oc1.eu-paris-1.aaaaaaaalvbkaoybngg572c4ybw47avoyv2vk4raeus2bg4hyrbfuq4hmcuq,ocid1.image.oc1.eu-paris-1.aaaaaaaaf7irdvozuzmwyvbfacdivomj52x65vr6tlg62i6er323sevazdqq</td><td>ocid1.image.oc1.eu-paris-1.aaaaaaaalvbkaoybngg572c4ybw47avoyv2vk4raeus2bg4hyrbfuq4hmcuq,ocid1.image.oc1.eu-paris-1.aaaaaaaaf7irdvozuzmwyvbfacdivomj52x65vr6tlg62i6er323sevazdqq</td><td>ocid1.image.oc1.eu-paris-1.aaaaaaaalvbkaoybngg572c4ybw47avoyv2vk4raeus2bg4hyrbfuq4hmcuq,ocid1.image.oc1.eu-paris-1.aaaaaaaaf7irdvozuzmwyvbfacdivomj52x65vr6tlg62i6er323sevazdqq</td><td>ocid1.image.oc1.eu-paris-1.aaaaaaaalvbkaoybngg572c4ybw47avoyv2vk4raeus2bg4hyrbfuq4hmcuq,ocid1.image.oc1.eu-paris-1.aaaaaaaaf7irdvozuzmwyvbfacdivomj52x65vr6tlg62i6er323sevazdqq</td><td>null</td><td>ocid1.image.oc1.eu-paris-1.aaaaaaaalvbkaoybngg572c4ybw47avoyv2vk4raeus2bg4hyrbfuq4hmcuq,ocid1.image.oc1.eu-paris-1.aaaaaaaaf7irdvozuzmwyvbfacdivomj52x65vr6tlg62i6er323sevazdqq</td><td>ocid1.image.oc1.eu-paris-1.aaaaaaaalvbkaoybngg572c4ybw47avoyv2vk4raeus2bg4hyrbfuq4hmcuq,ocid1.image.oc1.eu-paris-1.aaaaaaaaf7irdvozuzmwyvbfacdivomj52x65vr6tlg62i6er323sevazdqq</td><td>ocid1.image.oc1.eu-paris-1.aaaaaaaalvbkaoybngg572c4ybw47avoyv2vk4raeus2bg4hyrbfuq4hmcuq,ocid1.image.oc1.eu-paris-1.aaaaaaaaf7irdvozuzmwyvbfacdivomj52x65vr6tlg62i6er323sevazdqq</td><td>ocid1.image.oc1.eu-paris-1.aaaaaaaalvbkaoybngg572c4ybw47avoyv2vk4raeus2bg4hyrbfuq4hmcuq,ocid1.image.oc1.eu-paris-1.aaaaaaaaf7irdvozuzmwyvbfacdivomj52x65vr6tlg62i6er323sevazdqq</td><td>ocid1.image.oc1.eu-paris-1.aaaaaaaalvbkaoybngg572c4ybw47avoyv2vk4raeus2bg4hyrbfuq4hmcuq,ocid1.image.oc1.eu-paris-1.aaaaaaaaf7irdvozuzmwyvbfacdivomj52x65vr6tlg62i6er323sevazdqq</td><td>ocid1.image.oc1.eu-paris-1.aaaaaaaalvbkaoybngg572c4ybw47avoyv2vk4raeus2bg4hyrbfuq4hmcuq,ocid1.image.oc1.eu-paris-1.aaaaaaaaf7irdvozuzmwyvbfacdivomj52x65vr6tlg62i6er323sevazdqq</td><td>ocid1.image.oc1.eu-paris-1.aaaaaaaalvbkaoybngg572c4ybw47avoyv2vk4raeus2bg4hyrbfuq4hmcuq,ocid1.image.oc1.eu-paris-1.aaaaaaaaf7irdvozuzmwyvbfacdivomj52x65vr6tlg62i6er323sevazdqq</td><td>ocid1.image.oc1.eu-paris-1.aaaaaaaalvbkaoybngg572c4ybw47avoyv2vk4raeus2bg4hyrbfuq4hmcuq,ocid1.image.oc1.eu-paris-1.aaaaaaaaf7irdvozuzmwyvbfacdivomj52x65vr6tlg62i6er323sevazdqq</td><td>ocid1.image.oc1.eu-paris-1.aaaaaaaalvbkaoybngg572c4ybw47avoyv2vk4raeus2bg4hyrbfuq4hmcuq,ocid1.image.oc1.eu-paris-1.aaaaaaaaf7irdvozuzmwyvbfacdivomj52x65vr6tlg62i6er323sevazdqq</td><td>ocid1.image.oc1.eu-paris-1.aaaaaaaalvbkaoybngg572c4ybw47avoyv2vk4raeus2bg4hyrbfuq4hmcuq,ocid1.image.oc1.eu-paris-1.aaaaaaaaf7irdvozuzmwyvbfacdivomj52x65vr6tlg62i6er323sevazdqq</td><td>ocid1.image.oc1.eu-paris-1.aaaaaaaalvbkaoybngg572c4ybw47avoyv2vk4raeus2bg4hyrbfuq4hmcuq,ocid1.image.oc1.eu-paris-1.aaaaaaaaf7irdvozuzmwyvbfacdivomj52x65vr6tlg62i6er323sevazdqq</td><td>null</td><td>ocid1.image.oc1.eu-paris-1.aaaaaaaalvbkaoybngg572c4ybw47avoyv2vk4raeus2bg4hyrbfuq4hmcuq,ocid1.image.oc1.eu-paris-1.aaaaaaaaf7irdvozuzmwyvbfacdivomj52x65vr6tlg62i6er323sevazdqq</td><td>ocid1.image.oc1.eu-paris-1.aaaaaaaalvbkaoybngg572c4ybw47avoyv2vk4raeus2bg4hyrbfuq4hmcuq,ocid1.image.oc1.eu-paris-1.aaaaaaaaf7irdvozuzmwyvbfacdivomj52x65vr6tlg62i6er323sevazdqq</td><td>ocid1.image.oc1.eu-paris-1.aaaaaaaalvbkaoybngg572c4ybw47avoyv2vk4raeus2bg4hyrbfuq4hmcuq,ocid1.image.oc1.eu-paris-1.aaaaaaaaf7irdvozuzmwyvbfacdivomj52x65vr6tlg62i6er323sevazdqq</td><td>ocid1.image.oc1.eu-paris-1.aaaaaaaalvbkaoybngg572c4ybw47avoyv2vk4raeus2bg4hyrbfuq4hmcuq,ocid1.image.oc1.eu-paris-1.aaaaaaaaf7irdvozuzmwyvbfacdivomj52x65vr6tlg62i6er323sevazdqq</td><td>ocid1.image.oc1.eu-paris-1.aaaaaaaalvbkaoybngg572c4ybw47avoyv2vk4raeus2bg4hyrbfuq4hmcuq,ocid1.image.oc1.eu-paris-1.aaaaaaaaf7irdvozuzmwyvbfacdivomj52x65vr6tlg62i6er323sevazdqq</td><td>ocid1.image.oc1.eu-paris-1.aaaaaaaalvbkaoybngg572c4ybw47avoyv2vk4raeus2bg4hyrbfuq4hmcuq,ocid1.image.oc1.eu-paris-1.aaaaaaaaf7irdvozuzmwyvbfacdivomj52x65vr6tlg62i6er323sevazdqq</td><td>ocid1.image.oc1.eu-paris-1.aaaaaaaalvbkaoybngg572c4ybw47avoyv2vk4raeus2bg4hyrbfuq4hmcuq,ocid1.image.oc1.eu-paris-1.aaaaaaaaf7irdvozuzmwyvbfacdivomj52x65vr6tlg62i6er323sevazdqq</td><td>ocid1.image.oc1.eu-paris-1.aaaaaaaalvbkaoybngg572c4ybw47avoyv2vk4raeus2bg4hyrbfuq4hmcuq,ocid1.image.oc1.eu-paris-1.aaaaaaaaf7irdvozuzmwyvbfacdivomj52x65vr6tlg62i6er323sevazdqq</td><td>ocid1.image.oc1.eu-paris-1.aaaaaaaalvbkaoybngg572c4ybw47avoyv2vk4raeus2bg4hyrbfuq4hmcuq,ocid1.image.oc1.eu-paris-1.aaaaaaaaf7irdvozuzmwyvbfacdivomj52x65vr6tlg62i6er323sevazdqq</td><td>ocid1.image.oc1.eu-paris-1.aaaaaaaalvbkaoybngg572c4ybw47avoyv2vk4raeus2bg4hyrbfuq4hmcuq,ocid1.image.oc1.eu-paris-1.aaaaaaaaf7irdvozuzmwyvbfacdivomj52x65vr6tlg62i6er323sevazdqq</td><td>ocid1.image.oc1.eu-paris-1.aaaaaaaalvbkaoybngg572c4ybw47avoyv2vk4raeus2bg4hyrbfuq4hmcuq,ocid1.image.oc1.eu-paris-1.aaaaaaaaf7irdvozuzmwyvbfacdivomj52x65vr6tlg62i6er323sevazdqq</td><td>ocid1.image.oc1.eu-paris-1.aaaaaaaalvbkaoybngg572c4ybw47avoyv2vk4raeus2bg4hyrbfuq4hmcuq,ocid1.image.oc1.eu-paris-1.aaaaaaaaf7irdvozuzmwyvbfacdivomj52x65vr6tlg62i6er323sevazdqq</td><td>ocid1.image.oc1.eu-paris-1.aaaaaaaalvbkaoybngg572c4ybw47avoyv2vk4raeus2bg4hyrbfuq4hmcuq,ocid1.image.oc1.eu-paris-1.aaaaaaaaf7irdvozuzmwyvbfacdivomj52x65vr6tlg62i6er323sevazdqq</td><td>ocid1.image.oc1.eu-paris-1.aaaaaaaalvbkaoybngg572c4ybw47avoyv2vk4raeus2bg4hyrbfuq4hmcuq,ocid1.image.oc1.eu-paris-1.aaaaaaaaf7irdvozuzmwyvbfacdivomj52x65vr6tlg62i6er323sevazdqq</td><td>null</td><td>ocid1.image.oc1.eu-paris-1.aaaaaaaalvbkaoybngg572c4ybw47avoyv2vk4raeus2bg4hyrbfuq4hmcuq,ocid1.image.oc1.eu-paris-1.aaaaaaaaf7irdvozuzmwyvbfacdivomj52x65vr6tlg62i6er323sevazdqq</td><td>ocid1.image.oc1.eu-paris-1.aaaaaaaalvbkaoybngg572c4ybw47avoyv2vk4raeus2bg4hyrbfuq4hmcuq,ocid1.image.oc1.eu-paris-1.aaaaaaaaf7irdvozuzmwyvbfacdivomj52x65vr6tlg62i6er323sevazdqq</td><td>ocid1.image.oc1.eu-paris-1.aaaaaaaalvbkaoybngg572c4ybw47avoyv2vk4raeus2bg4hyrbfuq4hmcuq,ocid1.image.oc1.eu-paris-1.aaaaaaaaf7irdvozuzmwyvbfacdivomj52x65vr6tlg62i6er323sevazdqq</td><td>ocid1.image.oc1.eu-paris-1.aaaaaaaalvbkaoybngg572c4ybw47avoyv2vk4raeus2bg4hyrbfuq4hmcuq,ocid1.image.oc1.eu-paris-1.aaaaaaaaf7irdvozuzmwyvbfacdivomj52x65vr6tlg62i6er323sevazdqq</td><td>ocid1.image.oc1.eu-paris-1.aaaaaaaalvbkaoybngg572c4ybw47avoyv2vk4raeus2bg4hyrbfuq4hmcuq,ocid1.image.oc1.eu-paris-1.aaaaaaaaf7irdvozuzmwyvbfacdivomj52x65vr6tlg62i6er323sevazdqq</td><td>ocid1.image.oc1.eu-paris-1.aaaaaaaalvbkaoybngg572c4ybw47avoyv2vk4raeus2bg4hyrbfuq4hmcuq,ocid1.image.oc1.eu-paris-1.aaaaaaaaf7irdvozuzmwyvbfacdivomj52x65vr6tlg62i6er323sevazdqq</td><td>ocid1.image.oc1.eu-paris-1.aaaaaaaalvbkaoybngg572c4ybw47avoyv2vk4raeus2bg4hyrbfuq4hmcuq,ocid1.image.oc1.eu-paris-1.aaaaaaaaf7irdvozuzmwyvbfacdivomj52x65vr6tlg62i6er323sevazdqq</td><td>ocid1.image.oc1.eu-paris-1.aaaaaaaalvbkaoybngg572c4ybw47avoyv2vk4raeus2bg4hyrbfuq4hmcuq,ocid1.image.oc1.eu-paris-1.aaaaaaaaf7irdvozuzmwyvbfacdivomj52x65vr6tlg62i6er323sevazdqq</td><td>ocid1.image.oc1.eu-paris-1.aaaaaaaalvbkaoybngg572c4ybw47avoyv2vk4raeus2bg4hyrbfuq4hmcuq,ocid1.image.oc1.eu-paris-1.aaaaaaaaf7irdvozuzmwyvbfacdivomj52x65vr6tlg62i6er323sevazdqq</td><td>ocid1.image.oc1.eu-paris-1.aaaaaaaalvbkaoybngg572c4ybw47avoyv2vk4raeus2bg4hyrbfuq4hmcuq,ocid1.image.oc1.eu-paris-1.aaaaaaaaf7irdvozuzmwyvbfacdivomj52x65vr6tlg62i6er323sevazdqq</td><td>ocid1.image.oc1.eu-paris-1.aaaaaaaalvbkaoybngg572c4ybw47avoyv2vk4raeus2bg4hyrbfuq4hmcuq,ocid1.image.oc1.eu-paris-1.aaaaaaaaf7irdvozuzmwyvbfacdivomj52x65vr6tlg62i6er323sevazdqq</td><td>ocid1.image.oc1.eu-paris-1.aaaaaaaalvbkaoybngg572c4ybw47avoyv2vk4raeus2bg4hyrbfuq4hmcuq,ocid1.image.oc1.eu-paris-1.aaaaaaaaf7irdvozuzmwyvbfacdivomj52x65vr6tlg62i6er323sevazdqq</td><td>ocid1.image.oc1.eu-paris-1.aaaaaaaalvbkaoybngg572c4ybw47avoyv2vk4raeus2bg4hyrbfuq4hmcuq,ocid1.image.oc1.eu-paris-1.aaaaaaaaf7irdvozuzmwyvbfacdivomj52x65vr6tlg62i6er323sevazdqq</td><td>ocid1.image.oc1.eu-paris-1.aaaaaaaalvbkaoybngg572c4ybw47avoyv2vk4raeus2bg4hyrbfuq4hmcuq,ocid1.image.oc1.eu-paris-1.aaaaaaaaf7irdvozuzmwyvbfacdivomj52x65vr6tlg62i6er323sevazdqq</td><td>ocid1.image.oc1.eu-paris-1.aaaaaaaalvbkaoybngg572c4ybw47avoyv2vk4raeus2bg4hyrbfuq4hmcuq,ocid1.image.oc1.eu-paris-1.aaaaaaaaf7irdvozuzmwyvbfacdivomj52x65vr6tlg62i6er323sevazdqq</td><td>ocid1.image.oc1.eu-paris-1.aaaaaaaalvbkaoybngg572c4ybw47avoyv2vk4raeus2bg4hyrbfuq4hmcuq,ocid1.image.oc1.eu-paris-1.aaaaaaaaf7irdvozuzmwyvbfacdivomj52x65vr6tlg62i6er323sevazdqq</td><td>ocid1.image.oc1.eu-paris-1.aaaaaaaalvbkaoybngg572c4ybw47avoyv2vk4raeus2bg4hyrbfuq4hmcuq,ocid1.image.oc1.eu-paris-1.aaaaaaaaf7irdvozuzmwyvbfacdivomj52x65vr6tlg62i6er323sevazdqq</td><td>ocid1.image.oc1.eu-paris-1.aaaaaaaalvbkaoybngg572c4ybw47avoyv2vk4raeus2bg4hyrbfuq4hmcuq,ocid1.image.oc1.eu-paris-1.aaaaaaaaf7irdvozuzmwyvbfacdivomj52x65vr6tlg62i6er323sevazdqq</td><td>ocid1.image.oc1.eu-paris-1.aaaaaaaalvbkaoybngg572c4ybw47avoyv2vk4raeus2bg4hyrbfuq4hmcuq,ocid1.image.oc1.eu-paris-1.aaaaaaaaf7irdvozuzmwyvbfacdivomj52x65vr6tlg62i6er323sevazdqq</td><td>ocid1.image.oc1.eu-paris-1.aaaaaaaalvbkaoybngg572c4ybw47avoyv2vk4raeus2bg4hyrbfuq4hmcuq,ocid1.image.oc1.eu-paris-1.aaaaaaaaf7irdvozuzmwyvbfacdivomj52x65vr6tlg62i6er323sevazdqq</td><td>ocid1.image.oc1.eu-paris-1.aaaaaaaalvbkaoybngg572c4ybw47avoyv2vk4raeus2bg4hyrbfuq4hmcuq,ocid1.image.oc1.eu-paris-1.aaaaaaaaf7irdvozuzmwyvbfacdivomj52x65vr6tlg62i6er323sevazdqq</td><td>null</td><td>ocid1.image.oc1.eu-paris-1.aaaaaaaalvbkaoybngg572c4ybw47avoyv2vk4raeus2bg4hyrbfuq4hmcuq,ocid1.image.oc1.eu-paris-1.aaaaaaaaf7irdvozuzmwyvbfacdivomj52x65vr6tlg62i6er323sevazdqq</td><td>ocid1.image.oc1.eu-paris-1.aaaaaaaalvbkaoybngg572c4ybw47avoyv2vk4raeus2bg4hyrbfuq4hmcuq,ocid1.image.oc1.eu-paris-1.aaaaaaaaf7irdvozuzmwyvbfacdivomj52x65vr6tlg62i6er323sevazdqq</td><td>ocid1.image.oc1.eu-paris-1.aaaaaaaalvbkaoybngg572c4ybw47avoyv2vk4raeus2bg4hyrbfuq4hmcuq,ocid1.image.oc1.eu-paris-1.aaaaaaaaf7irdvozuzmwyvbfacdivomj52x65vr6tlg62i6er323sevazdqq</td><td>ocid1.image.oc1.eu-paris-1.aaaaaaaalvbkaoybngg572c4ybw47avoyv2vk4raeus2bg4hyrbfuq4hmcuq,ocid1.image.oc1.eu-paris-1.aaaaaaaaf7irdvozuzmwyvbfacdivomj52x65vr6tlg62i6er323sevazdqq</td><td>ocid1.image.oc1.eu-paris-1.aaaaaaaalvbkaoybngg572c4ybw47avoyv2vk4raeus2bg4hyrbfuq4hmcuq,ocid1.image.oc1.eu-paris-1.aaaaaaaaf7irdvozuzmwyvbfacdivomj52x65vr6tlg62i6er323sevazdqq</td><td>ocid1.image.oc1.eu-paris-1.aaaaaaaalvbkaoybngg572c4ybw47avoyv2vk4raeus2bg4hyrbfuq4hmcuq,ocid1.image.oc1.eu-paris-1.aaaaaaaaf7irdvozuzmwyvbfacdivomj52x65vr6tlg62i6er323sevazdqq</td><td>null</td><td>null</td><td>ocid1.image.oc1.eu-paris-1.aaaaaaaalvbkaoybngg572c4ybw47avoyv2vk4raeus2bg4hyrbfuq4hmcuq,ocid1.image.oc1.eu-paris-1.aaaaaaaaf7irdvozuzmwyvbfacdivomj52x65vr6tlg62i6er323sevazdqq</td><td>ocid1.image.oc1.eu-paris-1.aaaaaaaalvbkaoybngg572c4ybw47avoyv2vk4raeus2bg4hyrbfuq4hmcuq,ocid1.image.oc1.eu-paris-1.aaaaaaaaf7irdvozuzmwyvbfacdivomj52x65vr6tlg62i6er323sevazdqq</td><td>ocid1.image.oc1.eu-paris-1.aaaaaaaalvbkaoybngg572c4ybw47avoyv2vk4raeus2bg4hyrbfuq4hmcuq,ocid1.image.oc1.eu-paris-1.aaaaaaaaf7irdvozuzmwyvbfacdivomj52x65vr6tlg62i6er323sevazdqq</td><td>ocid1.image.oc1.eu-paris-1.aaaaaaaalvbkaoybngg572c4ybw47avoyv2vk4raeus2bg4hyrbfuq4hmcuq,ocid1.image.oc1.eu-paris-1.aaaaaaaaf7irdvozuzmwyvbfacdivomj52x65vr6tlg62i6er323sevazdqq</td></tr></tbody></table>"
      ]
     },
     "execution_count": 49,
     "metadata": {},
     "output_type": "execute_result"
    }
   ],
   "source": [
    "resultatVstack2.groupBy(\"shape\").agg(\n",
    "    pl.col(\"imageId\").alias(\"imageId\"),\n",
    "    pl.col(\"imageId\").count().alias(\"count\")\n",
    ").select(\n",
    "    pl.col(\"imageId\").alias(\"imageId\"),\n",
    "    pl.col(\"shape\").alias(\"shape\"),\n",
    "    pl.col(\"count\").alias(\"count\")\n",
    ").pivot(pl.col(\"imageId\"), {values:\"imageId\", index: \"count\", columns:\"shape\"})"
   ]
  },
  {
   "cell_type": "code",
   "execution_count": 38,
   "id": "b65eb546-5790-41e1-a6f7-1b059dc6d2f0",
   "metadata": {},
   "outputs": [
    {
     "data": {
      "text/plain": [
       "[\n",
       "  \u001b[32m\"ocid1.image.oc1.eu-paris-1.aaaaaaaalvbkaoybngg572c4ybw47avoyv2vk4raeus2bg4hyrbfuq4hmcuq\"\u001b[39m,\n",
       "  [\n",
       "    \u001b[32m\"VM.DenseIO.E4.Flex\"\u001b[39m,\n",
       "    \u001b[32m\"VM.DenseIO.E5.Flex\"\u001b[39m,\n",
       "    \u001b[32m\"VM.DenseIO1.16\"\u001b[39m,\n",
       "    \u001b[32m\"VM.DenseIO1.4\"\u001b[39m,\n",
       "    \u001b[32m\"VM.DenseIO1.8\"\u001b[39m,\n",
       "    \u001b[32m\"VM.DenseIO2.16\"\u001b[39m,\n",
       "    \u001b[32m\"VM.DenseIO2.24\"\u001b[39m,\n",
       "    \u001b[32m\"VM.DenseIO2.8\"\u001b[39m,\n",
       "    \u001b[32m\"VM.GPU.A10.1\"\u001b[39m,\n",
       "    \u001b[32m\"VM.GPU.A10.2\"\u001b[39m,\n",
       "    \u001b[32m\"VM.GPU.GU1.1\"\u001b[39m,\n",
       "    \u001b[32m\"VM.GPU.GU1.2\"\u001b[39m,\n",
       "    \u001b[32m\"VM.GPU2.1\"\u001b[39m,\n",
       "    \u001b[32m\"VM.GPU3.1\"\u001b[39m,\n",
       "    \u001b[32m\"VM.GPU3.2\"\u001b[39m,\n",
       "    \u001b[32m\"VM.GPU3.4\"\u001b[39m,\n",
       "    \u001b[32m\"VM.Optimized3.Flex\"\u001b[39m,\n",
       "    \u001b[32m\"VM.Standard.AMD.Generic\"\u001b[39m,\n",
       "    \u001b[32m\"VM.Standard.E2.1\"\u001b[39m,\n",
       "    \u001b[32m\"VM.Standard.E2.1.Micro\"\u001b[39m,\n",
       "    \u001b[32m\"VM.Standard.E2.2\"\u001b[39m,\n",
       "    \u001b[32m\"VM.Standard.E2.4\"\u001b[39m,\n",
       "    \u001b[32m\"VM.Standard.E2.8\"\u001b[39m,\n",
       "    \u001b[32m\"VM.Standard.E3.Flex\"\u001b[39m,\n",
       "    \u001b[32m\"VM.Standard.E4.Flex\"\u001b[39m,\n",
       "    \u001b[32m\"VM.Standard.E5.Flex\"\u001b[39m,\n",
       "    \u001b[32m\"VM.Standard.Intel.Generic\"\u001b[39m,\n",
       "    \u001b[32m\"VM.Standard.x86.Generic\"\u001b[39m,\n",
       "    \u001b[32m\"VM.Standard1.1\"\u001b[39m,\n",
       "    \u001b[32m\"VM.Standard1.16\"\u001b[39m,\n",
       "    \u001b[32m\"VM.Standard1.2\"\u001b[39m,\n",
       "    \u001b[32m\"VM.Standard1.4\"\u001b[39m,\n",
       "    \u001b[32m\"VM.Standard1.8\"\u001b[39m,\n",
       "    \u001b[32m\"VM.Standard2.1\"\u001b[39m,\n",
       "    \u001b[32m\"VM.Standard2.16\"\u001b[39m,\n",
       "    \u001b[32m\"VM.Standard2.2\"\u001b[39m,\n",
       "    \u001b[32m\"VM.Standard2.24\"\u001b[39m,\n",
       "    \u001b[32m\"VM.Standard2.4\"\u001b[39m,\n",
       "    \u001b[32m\"VM.Standard2.8\"\u001b[39m,\n",
       "    \u001b[32m\"VM.Standard2.Flex\"\u001b[39m,\n",
       "    \u001b[32m\"VM.Standard3.Flex\"\u001b[39m,\n",
       "    \u001b[32m\"BM.Standard.E2.64\"\u001b[39m,\n",
       "    \u001b[32m\"BM.Standard.E3.128\"\u001b[39m,\n",
       "    \u001b[32m\"BM.GPU4.8\"\u001b[39m,\n",
       "    \u001b[32m\"BM.Standard.E4.128\"\u001b[39m,\n",
       "    \u001b[32m\"BM.GPU.A100-v2.8\"\u001b[39m,\n",
       "    \u001b[32m\"BM.DenseIO.E4.128\"\u001b[39m,\n",
       "    \u001b[32m\"BM.DenseIO.E5.128\"\u001b[39m,\n",
       "    \u001b[32m\"BM.Standard.E5.192\"\u001b[39m,\n",
       "    \u001b[32m\"BM.Standard1.36\"\u001b[39m,\n",
       "    \u001b[32m\"BM.HighIO1.36\"\u001b[39m,\n",
       "    \u001b[32m\"BM.DenseIO1.36\"\u001b[39m,\n",
       "    \u001b[32m\"BM.GPU2.2\"\u001b[39m,\n",
       "    \u001b[32m\"BM.HPC2.36\"\u001b[39m,\n",
       "    \u001b[32m\"BM.Standard2.52\"\u001b[39m,\n",
       "    \u001b[32m\"BM.GPU3.8\"\u001b[39m,\n",
       "    \u001b[32m\"BM.DenseIO2.52\"\u001b[39m,\n",
       "    \u001b[32m\"BM.Optimized3.36\"\u001b[39m,\n",
       "    \u001b[32m\"BM.Standard3.64\"\u001b[39m,\n",
       "    \u001b[32m\"BM.GPU.A10.4\"\u001b[39m\n",
       "  ]\n",
       "]"
      ]
     },
     "execution_count": 38,
     "metadata": {},
     "output_type": "execute_result"
    }
   ],
   "source": [
    "const resultingRow = resultatVstack2.groupBy(\"imageId\").agg(\n",
    "    pl.col(\"shape\").alias(\"shape\")\n",
    ").select(\n",
    "    pl.col(\"imageId\").alias(\"imageId\"),\n",
    "    pl.col(\"shape\").alias(\"shape\")\n",
    ").row(1)\n",
    "resultingRow\n"
   ]
  },
  {
   "cell_type": "code",
   "execution_count": 39,
   "id": "b34b26fe-1e6d-4b55-bd16-f2215291680e",
   "metadata": {},
   "outputs": [
    {
     "data": {
      "text/plain": [
       "[\n",
       "  \u001b[32m\"ocid1.image.oc1.eu-paris-1.aaaaaaaalvbkaoybngg572c4ybw47avoyv2vk4raeus2bg4hyrbfuq4hmcuq\"\u001b[39m,\n",
       "  [\n",
       "    \u001b[32m\"VM.DenseIO.E4.Flex\"\u001b[39m,\n",
       "    \u001b[32m\"VM.DenseIO.E5.Flex\"\u001b[39m,\n",
       "    \u001b[32m\"VM.DenseIO1.16\"\u001b[39m,\n",
       "    \u001b[32m\"VM.DenseIO1.4\"\u001b[39m,\n",
       "    \u001b[32m\"VM.DenseIO1.8\"\u001b[39m,\n",
       "    \u001b[32m\"VM.DenseIO2.16\"\u001b[39m,\n",
       "    \u001b[32m\"VM.DenseIO2.24\"\u001b[39m,\n",
       "    \u001b[32m\"VM.DenseIO2.8\"\u001b[39m,\n",
       "    \u001b[32m\"VM.GPU.A10.1\"\u001b[39m,\n",
       "    \u001b[32m\"VM.GPU.A10.2\"\u001b[39m,\n",
       "    \u001b[32m\"VM.GPU.GU1.1\"\u001b[39m,\n",
       "    \u001b[32m\"VM.GPU.GU1.2\"\u001b[39m,\n",
       "    \u001b[32m\"VM.GPU2.1\"\u001b[39m,\n",
       "    \u001b[32m\"VM.GPU3.1\"\u001b[39m,\n",
       "    \u001b[32m\"VM.GPU3.2\"\u001b[39m,\n",
       "    \u001b[32m\"VM.GPU3.4\"\u001b[39m,\n",
       "    \u001b[32m\"VM.Optimized3.Flex\"\u001b[39m,\n",
       "    \u001b[32m\"VM.Standard.AMD.Generic\"\u001b[39m,\n",
       "    \u001b[32m\"VM.Standard.E2.1\"\u001b[39m,\n",
       "    \u001b[32m\"VM.Standard.E2.1.Micro\"\u001b[39m,\n",
       "    \u001b[32m\"VM.Standard.E2.2\"\u001b[39m,\n",
       "    \u001b[32m\"VM.Standard.E2.4\"\u001b[39m,\n",
       "    \u001b[32m\"VM.Standard.E2.8\"\u001b[39m,\n",
       "    \u001b[32m\"VM.Standard.E3.Flex\"\u001b[39m,\n",
       "    \u001b[32m\"VM.Standard.E4.Flex\"\u001b[39m,\n",
       "    \u001b[32m\"VM.Standard.E5.Flex\"\u001b[39m,\n",
       "    \u001b[32m\"VM.Standard.Intel.Generic\"\u001b[39m,\n",
       "    \u001b[32m\"VM.Standard.x86.Generic\"\u001b[39m,\n",
       "    \u001b[32m\"VM.Standard1.1\"\u001b[39m,\n",
       "    \u001b[32m\"VM.Standard1.16\"\u001b[39m,\n",
       "    \u001b[32m\"VM.Standard1.2\"\u001b[39m,\n",
       "    \u001b[32m\"VM.Standard1.4\"\u001b[39m,\n",
       "    \u001b[32m\"VM.Standard1.8\"\u001b[39m,\n",
       "    \u001b[32m\"VM.Standard2.1\"\u001b[39m,\n",
       "    \u001b[32m\"VM.Standard2.16\"\u001b[39m,\n",
       "    \u001b[32m\"VM.Standard2.2\"\u001b[39m,\n",
       "    \u001b[32m\"VM.Standard2.24\"\u001b[39m,\n",
       "    \u001b[32m\"VM.Standard2.4\"\u001b[39m,\n",
       "    \u001b[32m\"VM.Standard2.8\"\u001b[39m,\n",
       "    \u001b[32m\"VM.Standard2.Flex\"\u001b[39m,\n",
       "    \u001b[32m\"VM.Standard3.Flex\"\u001b[39m,\n",
       "    \u001b[32m\"BM.Standard.E2.64\"\u001b[39m,\n",
       "    \u001b[32m\"BM.Standard.E3.128\"\u001b[39m,\n",
       "    \u001b[32m\"BM.GPU4.8\"\u001b[39m,\n",
       "    \u001b[32m\"BM.Standard.E4.128\"\u001b[39m,\n",
       "    \u001b[32m\"BM.GPU.A100-v2.8\"\u001b[39m,\n",
       "    \u001b[32m\"BM.DenseIO.E4.128\"\u001b[39m,\n",
       "    \u001b[32m\"BM.DenseIO.E5.128\"\u001b[39m,\n",
       "    \u001b[32m\"BM.Standard.E5.192\"\u001b[39m,\n",
       "    \u001b[32m\"BM.Standard1.36\"\u001b[39m,\n",
       "    \u001b[32m\"BM.HighIO1.36\"\u001b[39m,\n",
       "    \u001b[32m\"BM.DenseIO1.36\"\u001b[39m,\n",
       "    \u001b[32m\"BM.GPU2.2\"\u001b[39m,\n",
       "    \u001b[32m\"BM.HPC2.36\"\u001b[39m,\n",
       "    \u001b[32m\"BM.Standard2.52\"\u001b[39m,\n",
       "    \u001b[32m\"BM.GPU3.8\"\u001b[39m,\n",
       "    \u001b[32m\"BM.DenseIO2.52\"\u001b[39m,\n",
       "    \u001b[32m\"BM.Optimized3.36\"\u001b[39m,\n",
       "    \u001b[32m\"BM.Standard3.64\"\u001b[39m,\n",
       "    \u001b[32m\"BM.GPU.A10.4\"\u001b[39m\n",
       "  ]\n",
       "]"
      ]
     },
     "execution_count": 39,
     "metadata": {},
     "output_type": "execute_result"
    }
   ],
   "source": [
    "const resultingRow0 = resultatVstack2.groupBy(\"imageId\").agg(\n",
    "    pl.col(\"shape\").alias(\"shape\")\n",
    ").select(\n",
    "    pl.col(\"imageId\").alias(\"imageId\"),\n",
    "    pl.col(\"shape\").alias(\"shape\")\n",
    ").row(0)\n",
    "resultingRow0\n"
   ]
  },
  {
   "cell_type": "code",
   "execution_count": 41,
   "id": "013a2a81-ec83-44a7-858d-cec433947b32",
   "metadata": {},
   "outputs": [
    {
     "data": {
      "application/vnd.dataresource+json": {
       "data": [
        {
         "resultingRow0": [
          [
           "ocid1.image.oc1.eu-paris-1.aaaaaaaalvbkaoybngg572c4ybw47avoyv2vk4raeus2bg4hyrbfuq4hmcuq"
          ],
          [
           "VM.DenseIO.E4.Flex",
           "VM.DenseIO.E5.Flex",
           "VM.DenseIO1.16",
           "VM.DenseIO1.4",
           "VM.DenseIO1.8",
           "VM.DenseIO2.16",
           "VM.DenseIO2.24",
           "VM.DenseIO2.8",
           "VM.GPU.A10.1",
           "VM.GPU.A10.2",
           "VM.GPU.GU1.1",
           "VM.GPU.GU1.2",
           "VM.GPU2.1",
           "VM.GPU3.1",
           "VM.GPU3.2",
           "VM.GPU3.4",
           "VM.Optimized3.Flex",
           "VM.Standard.AMD.Generic",
           "VM.Standard.E2.1",
           "VM.Standard.E2.1.Micro",
           "VM.Standard.E2.2",
           "VM.Standard.E2.4",
           "VM.Standard.E2.8",
           "VM.Standard.E3.Flex",
           "VM.Standard.E4.Flex",
           "VM.Standard.E5.Flex",
           "VM.Standard.Intel.Generic",
           "VM.Standard.x86.Generic",
           "VM.Standard1.1",
           "VM.Standard1.16",
           "VM.Standard1.2",
           "VM.Standard1.4",
           "VM.Standard1.8",
           "VM.Standard2.1",
           "VM.Standard2.16",
           "VM.Standard2.2",
           "VM.Standard2.24",
           "VM.Standard2.4",
           "VM.Standard2.8",
           "VM.Standard2.Flex",
           "VM.Standard3.Flex",
           "BM.Standard.E2.64",
           "BM.Standard.E3.128",
           "BM.GPU4.8",
           "BM.Standard.E4.128",
           "BM.GPU.A100-v2.8",
           "BM.DenseIO.E4.128",
           "BM.DenseIO.E5.128",
           "BM.Standard.E5.192",
           "BM.Standard1.36",
           "BM.HighIO1.36",
           "BM.DenseIO1.36",
           "BM.GPU2.2",
           "BM.HPC2.36",
           "BM.Standard2.52",
           "BM.GPU3.8",
           "BM.DenseIO2.52",
           "BM.Optimized3.36",
           "BM.Standard3.64",
           "BM.GPU.A10.4"
          ]
         ]
        }
       ],
       "schema": {
        "fields": [
         {
          "name": "resultingRow0",
          "type": "array"
         }
        ]
       }
      },
      "text/html": [
       "<table><thead><tr><th>resultingRow0</th></tr></thead><tbody><tr><td>ocid1.image.oc1.eu-paris-1.aaaaaaaalvbkaoybngg572c4ybw47avoyv2vk4raeus2bg4hyrbfuq4hmcuq,VM.DenseIO.E4.Flex,VM.DenseIO.E5.Flex,VM.DenseIO1.16,VM.DenseIO1.4,VM.DenseIO1.8,VM.DenseIO2.16,VM.DenseIO2.24,VM.DenseIO2.8,VM.GPU.A10.1,VM.GPU.A10.2,VM.GPU.GU1.1,VM.GPU.GU1.2,VM.GPU2.1,VM.GPU3.1,VM.GPU3.2,VM.GPU3.4,VM.Optimized3.Flex,VM.Standard.AMD.Generic,VM.Standard.E2.1,VM.Standard.E2.1.Micro,VM.Standard.E2.2,VM.Standard.E2.4,VM.Standard.E2.8,VM.Standard.E3.Flex,VM.Standard.E4.Flex,VM.Standard.E5.Flex,VM.Standard.Intel.Generic,VM.Standard.x86.Generic,VM.Standard1.1,VM.Standard1.16,VM.Standard1.2,VM.Standard1.4,VM.Standard1.8,VM.Standard2.1,VM.Standard2.16,VM.Standard2.2,VM.Standard2.24,VM.Standard2.4,VM.Standard2.8,VM.Standard2.Flex,VM.Standard3.Flex,BM.Standard.E2.64,BM.Standard.E3.128,BM.GPU4.8,BM.Standard.E4.128,BM.GPU.A100-v2.8,BM.DenseIO.E4.128,BM.DenseIO.E5.128,BM.Standard.E5.192,BM.Standard1.36,BM.HighIO1.36,BM.DenseIO1.36,BM.GPU2.2,BM.HPC2.36,BM.Standard2.52,BM.GPU3.8,BM.DenseIO2.52,BM.Optimized3.36,BM.Standard3.64,BM.GPU.A10.4</td></tr></tbody></table>"
      ]
     },
     "execution_count": 41,
     "metadata": {},
     "output_type": "execute_result"
    }
   ],
   "source": [
    "pl.readJSON(JSON.stringify({\"resultingRow0\": resultingRow0}))"
   ]
  },
  {
   "cell_type": "code",
   "execution_count": null,
   "id": "170d902e-1e9d-4cf2-97cf-6565fd6dcb57",
   "metadata": {},
   "outputs": [],
   "source": []
  }
 ],
 "metadata": {
  "kernelspec": {
   "display_name": "Deno",
   "language": "typescript",
   "name": "deno"
  },
  "language_info": {
   "file_extension": ".ts",
   "mimetype": "text/x.typescript",
   "name": "typescript",
   "nb_converter": "script",
   "pygments_lexer": "typescript",
   "version": "5.3.3"
  }
 },
 "nbformat": 4,
 "nbformat_minor": 5
}
